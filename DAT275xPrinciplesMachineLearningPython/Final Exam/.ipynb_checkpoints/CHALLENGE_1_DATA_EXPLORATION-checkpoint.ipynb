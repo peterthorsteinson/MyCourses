{
 "cells": [
  {
   "cell_type": "markdown",
   "metadata": {},
   "source": [
    "# Principles-of-Machine-Learning-Python Final Exam\n",
    "\n",
    "## CHALLENGE 1 Data Exploration\n",
    "\n",
    "* Data: https://github.com/MicrosoftLearning/Principles-of-Machine-Learning-Python/raw/master/Final%20Exam/FinalExam.zip\n",
    "\n",
    "### A few example solutions\n",
    "* See: https://notebooks.azure.com/Janos-Vrbata/projects/17-03-1951/tree/Final%20Exam\n",
    "* See: https://github.com/folaAj/AdventureWorks\n",
    "* See: https://github.com/johnnyyiu/customer-behavior-1\n",
    "* See: https://github.com/johnnyyiu/customer-behavior-2"
   ]
  },
  {
   "cell_type": "code",
   "execution_count": 1,
   "metadata": {},
   "outputs": [],
   "source": [
    "import pandas as pd\n",
    "import numpy as np\n",
    "import numpy.random as nr\n",
    "from sklearn import preprocessing\n",
    "import sklearn.model_selection as ms\n",
    "from sklearn import linear_model\n",
    "import sklearn.metrics as sklm\n",
    "import seaborn as sns\n",
    "import matplotlib.pyplot as plt\n",
    "import math"
   ]
  },
  {
   "cell_type": "code",
   "execution_count": 2,
   "metadata": {},
   "outputs": [],
   "source": [
    "# LOAD DATA\n",
    "\n",
    "# ***if you download and unzip from Principles-of-Machine-Learning-Python Final Exam***\n",
    "#custs = pd.read_csv('data/AdvWorksCusts.csv') \n",
    "#avgms = pd.read_csv('data/AW_AveMonthSpend.csv')\n",
    "#bikeby = pd.read_csv('data/AW_BikeBuyer.csv')\n",
    "\n",
    "# ***if you choose not to download and unzip from Principles-of-Machine-Learning-Python Final Exam***\n",
    "custs = pd.read_csv('https://raw.githubusercontent.com/folaAj/AdventureWorks/master/data/AdvWorksCusts.csv')\n",
    "avgms = pd.read_csv('https://raw.githubusercontent.com/folaAj/AdventureWorks/master/data/AW_AveMonthSpend.csv')\n",
    "bikeby = pd.read_csv('https://raw.githubusercontent.com/folaAj/AdventureWorks/master/data/AW_BikeBuyer.csv')"
   ]
  },
  {
   "cell_type": "code",
   "execution_count": 3,
   "metadata": {},
   "outputs": [
    {
     "name": "stdout",
     "output_type": "stream",
     "text": [
      "16519\n"
     ]
    }
   ],
   "source": [
    "print(len(custs))"
   ]
  },
  {
   "cell_type": "code",
   "execution_count": 4,
   "metadata": {},
   "outputs": [
    {
     "name": "stdout",
     "output_type": "stream",
     "text": [
      "98\n"
     ]
    }
   ],
   "source": [
    "# count duplicate rows\n",
    "print(len(custs)-len(custs.drop_duplicates()))"
   ]
  },
  {
   "cell_type": "code",
   "execution_count": 5,
   "metadata": {},
   "outputs": [],
   "source": [
    "# DROP DUPLICATES\n",
    "custs = custs.drop_duplicates(keep = 'last')\n",
    "avgms = avgms.drop_duplicates(keep = 'last')\n",
    "bikeby = bikeby.drop_duplicates(keep = 'last')"
   ]
  },
  {
   "cell_type": "code",
   "execution_count": 6,
   "metadata": {},
   "outputs": [
    {
     "name": "stdout",
     "output_type": "stream",
     "text": [
      "0\n"
     ]
    }
   ],
   "source": [
    "# count duplicate rows\n",
    "print(len(custs)-len(custs.drop_duplicates()))"
   ]
  },
  {
   "cell_type": "code",
   "execution_count": 7,
   "metadata": {},
   "outputs": [
    {
     "name": "stdout",
     "output_type": "stream",
     "text": [
      "           CustomerID\n",
      "BikeBuyer            \n",
      "0               10998\n",
      "1                5473\n",
      "16471\n",
      "<class 'pandas.core.frame.DataFrame'>\n",
      "Int64Index: 16471 entries, 0 to 16470\n",
      "Data columns (total 27 columns):\n",
      " #   Column                Non-Null Count  Dtype         \n",
      "---  ------                --------------  -----         \n",
      " 0   CustomerID            16471 non-null  int64         \n",
      " 1   Title                 88 non-null     object        \n",
      " 2   FirstName             16471 non-null  object        \n",
      " 3   MiddleName            9485 non-null   object        \n",
      " 4   LastName              16471 non-null  object        \n",
      " 5   Suffix                2 non-null      object        \n",
      " 6   AddressLine1          16471 non-null  object        \n",
      " 7   AddressLine2          280 non-null    object        \n",
      " 8   City                  16471 non-null  object        \n",
      " 9   StateProvinceName     16471 non-null  object        \n",
      " 10  CountryRegionName     16471 non-null  object        \n",
      " 11  PostalCode            16471 non-null  object        \n",
      " 12  PhoneNumber           16471 non-null  object        \n",
      " 13  BirthDate             16471 non-null  datetime64[ns]\n",
      " 14  Education             16471 non-null  object        \n",
      " 15  Occupation            16471 non-null  object        \n",
      " 16  Gender                16471 non-null  object        \n",
      " 17  MaritalStatus         16471 non-null  object        \n",
      " 18  HomeOwnerFlag         16471 non-null  int64         \n",
      " 19  NumberCarsOwned       16471 non-null  int64         \n",
      " 20  NumberChildrenAtHome  16471 non-null  int64         \n",
      " 21  TotalChildren         16471 non-null  int64         \n",
      " 22  YearlyIncome          16471 non-null  int64         \n",
      " 23  AveMonthSpend         16471 non-null  int64         \n",
      " 24  BikeBuyer             16471 non-null  int64         \n",
      " 25  Today                 16471 non-null  datetime64[ns]\n",
      " 26  Age                   16471 non-null  float64       \n",
      "dtypes: datetime64[ns](2), float64(1), int64(8), object(16)\n",
      "memory usage: 3.5+ MB\n",
      "None\n"
     ]
    }
   ],
   "source": [
    "# MERGE CSVS\n",
    "custs = pd.merge(custs, avgms, on='CustomerID')\n",
    "custs = pd.merge(custs, bikeby, on='CustomerID')\n",
    "# print(custs.info())\n",
    "\n",
    "# Feature engineering\n",
    "\n",
    "#CREATE AGE\n",
    "custs['Today'] = pd.Timestamp(\"1998-01-01\")\n",
    "custs['BirthDate'] = pd.to_datetime(custs['BirthDate'])\n",
    "custs['Age'] = custs['Today'] - custs['BirthDate']\n",
    "custs['Age'] = custs['Age']/np.timedelta64(1,'Y')\n",
    "custs['Age'] = custs['Age'].round()\n",
    "\n",
    "#CHECK FOR CLASS IMBALANCE\n",
    "bb_counts = custs[['CustomerID', 'BikeBuyer']].groupby('BikeBuyer').count()\n",
    "print(bb_counts) # only 1/3 are bikebuyers -> 5473/(10998+5473)\n",
    "print(len(custs))\n",
    "print(custs.info())"
   ]
  },
  {
   "cell_type": "code",
   "execution_count": 8,
   "metadata": {},
   "outputs": [
    {
     "data": {
      "text/plain": [
       "Index(['CustomerID', 'Title', 'FirstName', 'MiddleName', 'LastName', 'Suffix',\n",
       "       'AddressLine1', 'AddressLine2', 'City', 'StateProvinceName',\n",
       "       'CountryRegionName', 'PostalCode', 'PhoneNumber', 'BirthDate',\n",
       "       'Education', 'Occupation', 'Gender', 'MaritalStatus', 'HomeOwnerFlag',\n",
       "       'NumberCarsOwned', 'NumberChildrenAtHome', 'TotalChildren',\n",
       "       'YearlyIncome', 'AveMonthSpend', 'BikeBuyer', 'Today', 'Age'],\n",
       "      dtype='object')"
      ]
     },
     "execution_count": 8,
     "metadata": {},
     "output_type": "execute_result"
    }
   ],
   "source": [
    "custs.columns"
   ]
  },
  {
   "cell_type": "code",
   "execution_count": 9,
   "metadata": {},
   "outputs": [
    {
     "data": {
      "text/plain": [
       "Index(['CustomerID', 'AveMonthSpend'], dtype='object')"
      ]
     },
     "execution_count": 9,
     "metadata": {},
     "output_type": "execute_result"
    }
   ],
   "source": [
    "avgms.columns"
   ]
  },
  {
   "cell_type": "code",
   "execution_count": 10,
   "metadata": {},
   "outputs": [
    {
     "data": {
      "text/plain": [
       "Index(['CustomerID', 'BikeBuyer'], dtype='object')"
      ]
     },
     "execution_count": 10,
     "metadata": {},
     "output_type": "execute_result"
    }
   ],
   "source": [
    "bikeby.columns"
   ]
  },
  {
   "cell_type": "markdown",
   "metadata": {},
   "source": [
    "## Answers to questions"
   ]
  },
  {
   "cell_type": "code",
   "execution_count": 11,
   "metadata": {},
   "outputs": [
    {
     "name": "stdout",
     "output_type": "stream",
     "text": [
      "22\n"
     ]
    }
   ],
   "source": [
    "# Question 1\n",
    "\n",
    "print(min(avgms['AveMonthSpend']))"
   ]
  },
  {
   "cell_type": "code",
   "execution_count": 12,
   "metadata": {},
   "outputs": [
    {
     "name": "stdout",
     "output_type": "stream",
     "text": [
      "176\n"
     ]
    }
   ],
   "source": [
    "# Question 2\n",
    "\n",
    "print(max(avgms['AveMonthSpend']))"
   ]
  },
  {
   "cell_type": "code",
   "execution_count": 13,
   "metadata": {},
   "outputs": [
    {
     "name": "stdout",
     "output_type": "stream",
     "text": [
      "72.3977833262286\n"
     ]
    }
   ],
   "source": [
    "# Question 3\n",
    "\n",
    "print(avgms['AveMonthSpend'].mean())"
   ]
  },
  {
   "cell_type": "code",
   "execution_count": 14,
   "metadata": {},
   "outputs": [
    {
     "name": "stdout",
     "output_type": "stream",
     "text": [
      "68.0\n"
     ]
    }
   ],
   "source": [
    "# Question 4\n",
    "\n",
    "print(avgms['AveMonthSpend'].median())"
   ]
  },
  {
   "cell_type": "code",
   "execution_count": 15,
   "metadata": {},
   "outputs": [
    {
     "name": "stdout",
     "output_type": "stream",
     "text": [
      "27.27284399263489\n"
     ]
    }
   ],
   "source": [
    "# Question 5\n",
    "\n",
    "print(avgms['AveMonthSpend'].std())"
   ]
  },
  {
   "cell_type": "code",
   "execution_count": 16,
   "metadata": {},
   "outputs": [
    {
     "data": {
      "text/plain": [
       "<matplotlib.axes._subplots.AxesSubplot at 0x2210fcbe408>"
      ]
     },
     "execution_count": 16,
     "metadata": {},
     "output_type": "execute_result"
    },
    {
     "data": {
      "image/png": "[encoded data removed]",
      "text/plain": [
       "<Figure size 432x288 with 1 Axes>"
      ]
     },
     "metadata": {
      "needs_background": "light"
     },
     "output_type": "display_data"
    }
   ],
   "source": [
    "# Question 6\n",
    "\n",
    "bikeby['BikeBuyer'].hist()"
   ]
  },
  {
   "cell_type": "code",
   "execution_count": 17,
   "metadata": {},
   "outputs": [
    {
     "data": {
      "text/plain": [
       "Occupation\n",
       "Manual             23489.205730\n",
       "Clerical           48677.088077\n",
       "Skilled Manual     69315.401676\n",
       "Professional      100375.972968\n",
       "Management        121714.336634\n",
       "Name: YearlyIncome, dtype: float64"
      ]
     },
     "execution_count": 17,
     "metadata": {},
     "output_type": "execute_result"
    }
   ],
   "source": [
    "# Question 7\n",
    "\n",
    "custs.groupby('Occupation')['YearlyIncome'].mean().sort_values()\n",
    "\n",
    "# ***YES*** -> Manual, Clerical, Skilled Manual, Professional, Management"
   ]
  },
  {
   "cell_type": "code",
   "execution_count": 18,
   "metadata": {},
   "outputs": [
    {
     "data": {
      "text/plain": [
       "<matplotlib.axes._subplots.AxesSubplot at 0x221119634c8>"
      ]
     },
     "execution_count": 18,
     "metadata": {},
     "output_type": "execute_result"
    },
    {
     "data": {
      "image/png": "[encoded data removed]",
      "text/plain": [
       "<Figure size 432x288 with 1 Axes>"
      ]
     },
     "metadata": {
      "needs_background": "light"
     },
     "output_type": "display_data"
    }
   ],
   "source": [
    "custs['Age_Cat'] = ['under 25' if ((x < 25)) \n",
    "                   else 'between 25 and 45' if ((x>=25 and x<=45)) \n",
    "                   else 'between 45 and 55' if ((x>45  and x<=55))\n",
    "                   else 'over 50' if ((x>55))\n",
    "                   else x for x in custs['Age']]\n",
    "custs['Age_Cat'].value_counts().plot(kind='bar')"
   ]
  },
  {
   "cell_type": "code",
   "execution_count": 19,
   "metadata": {},
   "outputs": [
    {
     "name": "stdout",
     "output_type": "stream",
     "text": [
      "Gender  Age_Cat          \n",
      "F       between 25 and 45    306064\n",
      "        between 45 and 55     67261\n",
      "        over 50               23328\n",
      "        under 25              64104\n",
      "M       between 25 and 45    490458\n",
      "        between 45 and 55    108464\n",
      "        over 50               34064\n",
      "        under 25              99005\n",
      "Name: AveMonthSpend, dtype: int64\n"
     ]
    }
   ],
   "source": [
    "# Question 8\n",
    "\n",
    "print(custs.groupby(['Gender','Age_Cat'])['AveMonthSpend'].sum())\n",
    "# ***YES*** -> Males aged between 25 and 45"
   ]
  },
  {
   "cell_type": "code",
   "execution_count": 20,
   "metadata": {},
   "outputs": [
    {
     "name": "stdout",
     "output_type": "stream",
     "text": [
      "MaritalStatus\n",
      "M    74\n",
      "S    62\n",
      "Name: AveMonthSpend, dtype: int64\n",
      "\n",
      "NumberCarsOwned\n",
      "0     65\n",
      "1     63\n",
      "2     64\n",
      "3     92\n",
      "4    100\n",
      "Name: AveMonthSpend, dtype: int64\n",
      "\n",
      "Gender\n",
      "F    52\n",
      "M    79\n",
      "Name: AveMonthSpend, dtype: int64\n",
      "\n",
      "Gender\n",
      "F     92\n",
      "M    147\n",
      "Name: AveMonthSpend, dtype: int64\n",
      "\n",
      "NumberChildrenAtHome\n",
      "0     57\n",
      "1     68\n",
      "2     79\n",
      "3     89\n",
      "4    101\n",
      "5    110\n",
      "Name: AveMonthSpend, dtype: int64\n"
     ]
    }
   ],
   "source": [
    "# Question 9\n",
    "\n",
    "print(custs.groupby(['MaritalStatus'])['AveMonthSpend'].median())\n",
    "# ***YES*** -> Married customers have a higher median AvgMonthSpend than single customers\n",
    "print()\n",
    "\n",
    "print(custs.groupby(['NumberCarsOwned'])['AveMonthSpend'].median())\n",
    "# ***NO*** -> Customers with no car have a higher median AvgMonthSpend than customers with three or more cars\n",
    "print()\n",
    "\n",
    "print(custs.groupby(['Gender'])['AveMonthSpend'].median())\n",
    "# ***YES*** -> Male customers have a higher median AvgMonthSpend than female customers.\n",
    "print()\n",
    "\n",
    "print(custs.groupby(['Gender'])['AveMonthSpend'].apply(lambda x: x.max()-x.min())) # actual range\n",
    "#print(custs.groupby(['Gender'])['AveMonthSpend'].std())                           # std\n",
    "# ***NO*** -> Female customers have a wider range of AvgMonthSpend values than male customers\n",
    "print()\n",
    "\n",
    "print(custs.groupby(['NumberChildrenAtHome'])['AveMonthSpend'].median())\n",
    "# ***YES*** -> Customers with no children at home have a lower median AvgMonthSpend values than customers with one or more children at home.\n"
   ]
  },
  {
   "cell_type": "code",
   "execution_count": 21,
   "metadata": {},
   "outputs": [
    {
     "name": "stdout",
     "output_type": "stream",
     "text": [
      "BikeBuyer\n",
      "0    65973\n",
      "1    96123\n",
      "Name: YearlyIncome, dtype: int64\n",
      "\n",
      "BikeBuyer\n",
      "0    1\n",
      "1    2\n",
      "Name: NumberCarsOwned, dtype: int64\n",
      "\n",
      "BikeBuyer  Occupation    \n",
      "0          Skilled Manual    2917\n",
      "           Professional      2764\n",
      "           Clerical          1984\n",
      "           Management        1708\n",
      "           Manual            1625\n",
      "1          Professional      2193\n",
      "           Skilled Manual    1141\n",
      "           Management        1019\n",
      "           Clerical           616\n",
      "           Manual             504\n",
      "Name: Occupation, dtype: int64\n",
      "\n",
      "BikeBuyer  Gender\n",
      "0          F         5900\n",
      "           M         5098\n",
      "1          M         3237\n",
      "           F         2236\n",
      "Name: Gender, dtype: int64\n",
      "\n",
      "BikeBuyer  MaritalStatus\n",
      "0          M                6689\n",
      "           S                4309\n",
      "1          S                3262\n",
      "           M                2211\n",
      "Name: MaritalStatus, dtype: int64\n",
      "\n"
     ]
    }
   ],
   "source": [
    "# Question 10\n",
    "\n",
    "print(custs.groupby(['BikeBuyer'])['YearlyIncome'].median())\n",
    "# ***YES*** -> The median YearlyIncome is higher for customers who bought a bike than for customers who didn't\n",
    "print()\n",
    "\n",
    "print(custs.groupby(['BikeBuyer'])['NumberCarsOwned'].median())\n",
    "# ***NO*** -> The median number of cars owned by customers who bought a bike is lower than for customers who didn't\n",
    "print()\n",
    "\n",
    "print(custs.groupby(['BikeBuyer'])['Occupation'].value_counts())\n",
    "# ***NO*** -> The most common occupation type for customers who bought a bike is skilled manual\n",
    "print()\n",
    "\n",
    "print(custs.groupby(['BikeBuyer'])['Gender'].value_counts())\n",
    "# ***YES*** -> Male customers are more likely to buy bikes than female customers\n",
    "print()\n",
    "\n",
    "print(custs.groupby(['BikeBuyer'])['MaritalStatus'].value_counts())\n",
    "# ***NO*** -> Male customers are more likely to buy bikes than female customers\n",
    "print()"
   ]
  },
  {
   "cell_type": "code",
   "execution_count": null,
   "metadata": {},
   "outputs": [],
   "source": []
  }
 ],
 "metadata": {
  "kernelspec": {
   "display_name": "Python 3",
   "language": "python",
   "name": "python3"
  },
  "language_info": {
   "codemirror_mode": {
    "name": "ipython",
    "version": 3
   },
   "file_extension": ".py",
   "mimetype": "text/x-python",
   "name": "python",
   "nbconvert_exporter": "python",
   "pygments_lexer": "ipython3",
   "version": "3.7.6"
  }
 },
 "nbformat": 4,
 "nbformat_minor": 4
}
