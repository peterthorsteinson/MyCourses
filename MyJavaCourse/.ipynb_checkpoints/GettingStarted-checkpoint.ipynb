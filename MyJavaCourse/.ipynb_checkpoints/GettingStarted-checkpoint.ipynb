{
 "cells": [
  {
   "cell_type": "markdown",
   "metadata": {},
   "source": [
    "# Java: Getting Started\n",
    "\n",
    "* Install JDK: https://www.oracle.com/java/technologies/javase-downloads.html\n",
    "* Install IJava Jupyter Notebook Kernel: https://github.com/SpencerPark/IJava#installing"
   ]
  },
  {
   "cell_type": "markdown",
   "metadata": {},
   "source": [
    "## JDK vs JRE vs JVM\n",
    "* JVM (Java Virtual Machine) runs Java bytecode (compiled by ```javac``` from ```.java``` files.\n",
    "* JRE (Java Runtime Environment) = JVM + standard Java libraries\n",
    "* JDK = JRE + Compilers + Debuggers + other tools\n",
    "\n",
    "The JVM also supports memory management (automatic garbage collection) and array bounds checking, etc."
   ]
  },
  {
   "cell_type": "markdown",
   "metadata": {},
   "source": [
    "## Install the Java SE Development Kit\n",
    "\n",
    "[Download and install the Java SE JDK](https://www.oracle.com/java/technologies/javase-downloads.html)\n",
    "\n",
    "NOTE: The CLASSPATH environment variable specifies where to look for user classes so that applications and JDK tools, can find them on the file system."
   ]
  },
  {
   "cell_type": "code",
   "execution_count": 1,
   "metadata": {},
   "outputs": [
    {
     "name": "stdout",
     "output_type": "stream",
     "text": [
      "os.name: Windows 10\n",
      "java.version: 15.0.2\n",
      "java.home: C:\\Program Files\\Java\\jdk-15.0.2\n",
      "java.class.path: C:\\Users\\peter\\Anaconda3\\share\\jupyter\\kernels\\java/ijava-1.3.0.jar\n"
     ]
    }
   ],
   "source": [
    "// display some os and java information\n",
    "System.out.println(\"os.name: \" + System.getProperty(\"os.name\"));\n",
    "System.out.println(\"java.version: \" + System.getProperty(\"java.version\"));\n",
    "System.out.println(\"java.home: \" + System.getProperty(\"java.home\"));\n",
    "System.out.println(\"java.class.path: \" + System.getProperty(\"java.class.path\"));"
   ]
  },
  {
   "cell_type": "markdown",
   "metadata": {},
   "source": [
    "## Official Documentation\n",
    "* [Java Language Specification](https://docs.oracle.com/javase/specs/jls/se14/html/index.html)\n",
    "* [Java Virtual Machine Specification](https://docs.oracle.com/javase/specs/jvms/se14/html/index.html)\n",
    "* [JDK API Specification](https://docs.oracle.com/en/java/javase/14/docs/api/index.html)"
   ]
  },
  {
   "cell_type": "markdown",
   "metadata": {},
   "source": [
    "## Standard Output"
   ]
  },
  {
   "cell_type": "code",
   "execution_count": 2,
   "metadata": {},
   "outputs": [
    {
     "name": "stdout",
     "output_type": "stream",
     "text": [
      "Hello\r\n"
     ]
    }
   ],
   "source": [
    "// Normally, a standalone Java program requires a small amout of boilerplate code to run in the JVM.\n",
    "// However, in this Jupyter Notebook environment, individual statements can be executed in isolation:\n",
    "System.out.println(\"Hello\");"
   ]
  },
  {
   "cell_type": "markdown",
   "metadata": {},
   "source": [
    "## Creating a Standalone Java Program\n",
    "\n",
    "1. Create a text file named ```HelloWorld.java``` with the following content:\n",
    "```java\n",
    "   // HelloWorld.java\n",
    "   public class HelloWorld {\n",
    "      public static void main(String []args) {\n",
    "         System.out.println(\"Hello World\");    // prints Hello World\n",
    "      }\n",
    "   }\n",
    "```\n",
    "2. Compile HelloWorld.java to generate HelloWorld.class:\n",
    "```javac HelloWorld.java```\n",
    "3. Run HelloWorld.class in the JVM: ```java HelloWorld```\n",
    "4. Result displays output: ```HelloWorld```"
   ]
  },
  {
   "cell_type": "markdown",
   "metadata": {},
   "source": [
    "## The main Method Program Entry Point\n",
    "* The main method signature must be: ```public static void main(String[] args)```\n",
    "* The entry point ```main``` method (as with any method) must be in a class (which may optionally be a public class).\n",
    "* Only one class in a Java source file can be public.\n",
    "* If a class is public then that public class name and the file it is defined in must be the same name. "
   ]
  },
  {
   "cell_type": "code",
   "execution_count": 10,
   "metadata": {},
   "outputs": [
    {
     "name": "stdout",
     "output_type": "stream",
     "text": [
      "Hello World\r\n"
     ]
    }
   ],
   "source": [
    "// HelloWorld.java\n",
    "public class HelloWorld {\n",
    "   public static void main(String []args) {\n",
    "      System.out.println(\"Hello World\");    // prints Hello World\n",
    "   }\n",
    "}\n",
    "\n",
    "HelloWorld.main(new String[] {}); // simulate initial OS call into program main method in Jupyter Notebook"
   ]
  },
  {
   "cell_type": "markdown",
   "metadata": {},
   "source": [
    "## Commandline Arguments\n",
    "Commandline arguments are received as an array parameter named ```args``` in the ```main``` method."
   ]
  },
  {
   "cell_type": "code",
   "execution_count": 15,
   "metadata": {},
   "outputs": [
    {
     "name": "stdout",
     "output_type": "stream",
     "text": [
      "1 2 buckle my shoe\n"
     ]
    }
   ],
   "source": [
    "// Test.java\n",
    "class Test {\n",
    "    public static void main(String[] args) {\n",
    "    for (int i = 0; i < args.length; i++)\n",
    "        System.out.print(i == 0 ? args[i] : \" \" + args[i]);\n",
    "        System.out.println();\n",
    "    }\n",
    "}\n",
    "\n",
    "Test.main(new String[]{\"1\", \"2\", \"buckle my shoe\"}); // simulate command line arguments in Jupyter Notebook"
   ]
  },
  {
   "cell_type": "markdown",
   "metadata": {},
   "source": [
    "## A Few Starter Code Examples"
   ]
  },
  {
   "cell_type": "code",
   "execution_count": 11,
   "metadata": {},
   "outputs": [
    {
     "name": "stdout",
     "output_type": "stream",
     "text": [
      "Enter your eight on earth in pounds as an integer: \n",
      "190\n",
      "190 earth-pounds = 31.35 moon-pounds.\n"
     ]
    }
   ],
   "source": [
    "// calculate earth weight on moon\n",
    "Scanner in = new Scanner(System.in);\n",
    "System.out.println(\"Enter your eight on earth in pounds as an integer: \");\n",
    "int earthweight = in.nextInt();\n",
    "double moonweight = earthweight * 0.165;\n",
    "System.out.println(earthweight + \" earth-pounds = \" +  moonweight + \" moon-pounds.\");"
   ]
  },
  {
   "cell_type": "code",
   "execution_count": 12,
   "metadata": {},
   "outputs": [
    {
     "name": "stdout",
     "output_type": "stream",
     "text": [
      "1.0 inches = 2.54000508001016 cm\n",
      "2.0 inches = 5.08001016002032 cm\n",
      "3.0 inches = 7.62001524003048 cm\n",
      "4.0 inches = 10.16002032004064 cm\n",
      "5.0 inches = 12.7000254000508 cm\n",
      "\n",
      "6.0 inches = 15.24003048006096 cm\n",
      "7.0 inches = 17.78003556007112 cm\n",
      "8.0 inches = 20.32004064008128 cm\n",
      "9.0 inches = 22.860045720091442 cm\n",
      "10.0 inches = 25.4000508001016 cm\n",
      "\n",
      "11.0 inches = 27.94005588011176 cm\n",
      "12.0 inches = 30.48006096012192 cm\n",
      "13.0 inches = 33.02006604013208 cm\n",
      "14.0 inches = 35.56007112014224 cm\n",
      "15.0 inches = 38.1000762001524 cm\n",
      "\n",
      "16.0 inches = 40.64008128016256 cm\n",
      "17.0 inches = 43.18008636017272 cm\n",
      "18.0 inches = 45.720091440182884 cm\n",
      "19.0 inches = 48.26009652019304 cm\n",
      "20.0 inches = 50.8001016002032 cm\n",
      "\n"
     ]
    }
   ],
   "source": [
    "// display conversion inches-to-centimeters table\n",
    "double inches, centimeters; \n",
    "int lineCounter = 0; \n",
    "for(inches = 1; inches <= 20; inches++) { \n",
    "    centimeters = inches/.3937; // convertion ratio \n",
    "    System.out.println(inches + \" inches = \" + centimeters + \" cm\"); \n",
    "    if(++lineCounter == 5) {      // print a blank line on every 5th line \n",
    "        System.out.println(); \n",
    "        lineCounter = 0;          // reset line counter to zero\n",
    "    } \n",
    "}"
   ]
  },
  {
   "cell_type": "code",
   "execution_count": 30,
   "metadata": {},
   "outputs": [
    {
     "data": {
      "image/png": "[encoded data removed]",
      "text/plain": [
       "BufferedImage@77f0d04b: type = 1 DirectColorModel: rmask=ff0000 gmask=ff00 bmask=ff amask=0 IntegerInterleavedRaster: width = 600 height = 400 #Bands = 3 xOff = 0 yOff = 0 dataOffset[0] 0"
      ]
     },
     "execution_count": 30,
     "metadata": {},
     "output_type": "execute_result"
    }
   ],
   "source": [
    "// NOTE: %maven is a jupyter magic command to add a Java external dependency\n",
    "%maven org.knowm.xchart:xchart:3.5.2\n",
    "\n",
    "import org.knowm.xchart.*;\n",
    "\n",
    "double[] xData = new double[] { 0.0, 1.0, 2.0 };\n",
    "double[] yData = new double[] { 2.0, 1.0, 1.0 };\n",
    "XYChart chart = QuickChart.getChart(\"Sample Chart\", \"X\", \"Y\", \"y(x)\", xData, yData);\n",
    "BitmapEncoder.getBufferedImage(chart);\n"
   ]
  },
  {
   "cell_type": "code",
   "execution_count": 9,
   "metadata": {},
   "outputs": [
    {
     "name": "stdout",
     "output_type": "stream",
     "text": [
      "Hello myStaticMethod!\n",
      "Hello myInstanceMethod!\n"
     ]
    }
   ],
   "source": [
    "public class MyClass {\n",
    "    public static void myStaticMethod() {\n",
    "        System.out.println(\"Hello myStaticMethod!\");\n",
    "    }\n",
    "    public static void myInstanceMethod() {\n",
    "        System.out.println(\"Hello myInstanceMethod!\");\n",
    "    }\n",
    "}\n",
    "\n",
    "MyClass.myStaticMethod();   // no instance needed\n",
    "\n",
    "MyClass mc = new MyClass();\n",
    "mc.myInstanceMethod();      // instance needed"
   ]
  },
  {
   "cell_type": "code",
   "execution_count": null,
   "metadata": {},
   "outputs": [],
   "source": []
  }
 ],
 "metadata": {
  "kernelspec": {
   "display_name": "Java",
   "language": "java",
   "name": "java"
  },
  "language_info": {
   "codemirror_mode": "java",
   "file_extension": ".jshell",
   "mimetype": "text/x-java-source",
   "name": "Java",
   "pygments_lexer": "java",
   "version": "15.0.2+7-27"
  }
 },
 "nbformat": 4,
 "nbformat_minor": 2
}
