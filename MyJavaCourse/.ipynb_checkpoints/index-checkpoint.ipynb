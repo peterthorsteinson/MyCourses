{
 "cells": [
  {
   "cell_type": "markdown",
   "metadata": {},
   "source": [
    "# My Java Course\n",
    "\n",
    "* See also: [My Git Course](../MyGitCourse/index.ipynb)\n",
    "* See: https://www.cs.utexas.edu/~scottm/cs307/codingSamples.htm\n",
    "* See: https://github.com/williamfiset/Algorithms"
   ]
  },
  {
   "cell_type": "markdown",
   "metadata": {},
   "source": [
    "## Online Code Challenges\n",
    "\n",
    "* [exercism.io](https://exercism.io/my/tracks)\n",
    "* [hackerrank.com](https://www.hackerrank.com)\n",
    "* [leetcode.com](https://leetcode.com)"
   ]
  },
  {
   "cell_type": "markdown",
   "metadata": {},
   "source": [
    "## Free Java Learning Resources\n",
    "\n",
    "* [Think Java](ThinkJava.ipynb)\n",
    "* [Data Structures Course (freeCodeCamp.org)](https://www.youtube.com/watch?v=RBSGKlAvoiM)"
   ]
  },
  {
   "cell_type": "markdown",
   "metadata": {},
   "source": [
    "## Java Language\n",
    "\n",
    "* [Getting Started](GettingStarted.ipynb)\n",
    "* [Syntax Fundamentals](SyntaxFundamentals.ipynb)\n",
    "* [Operators and Expressions](OperatorsExpressions.ipynb)\n",
    "* [Control Statements](ControlStructures.ipynb)\n",
    "* [Exceptions](Exceptions.ipynb)\n",
    "* [Strings](Strings.ipynb)\n",
    "* [Arrays](Arrays.ipynb)\n",
    "* [Collections Framework](CollectionsFramework.ipynb)\n",
    "* [Classes and Interfaces](ClassesInterfaces.ipynb)\n",
    "* [Object List](ObjectList.ipynb)\n",
    "* [Enums](Enums.ipynb)\n",
    "* [Big Integer](BigInteger.ipynb)\n",
    "* [Files and Streams](FilesStreams.ipynb)\n",
    "* [Concurrency](Concurrency.ipynb)"
   ]
  },
  {
   "cell_type": "markdown",
   "metadata": {},
   "source": [
    "## Java Data Structures and Algorithms\n",
    "\n",
    "* [Java Data Structures and Algorithms](JavaDataStructuresAlgorithms.ipynb)\n",
    "    "
   ]
  },
  {
   "cell_type": "code",
   "execution_count": null,
   "metadata": {},
   "outputs": [],
   "source": []
  }
 ],
 "metadata": {
  "kernelspec": {
   "display_name": "Java",
   "language": "java",
   "name": "java"
  },
  "language_info": {
   "codemirror_mode": "java",
   "file_extension": ".jshell",
   "mimetype": "text/x-java-source",
   "name": "Java",
   "pygments_lexer": "java",
   "version": "15.0.2+7-27"
  }
 },
 "nbformat": 4,
 "nbformat_minor": 4
}
