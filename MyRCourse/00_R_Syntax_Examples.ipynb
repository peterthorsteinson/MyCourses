{
 "cells": [
  {
   "cell_type": "markdown",
   "metadata": {},
   "source": [
    "# 00 R Syntax Examples\n",
    "\n",
    "See: https://ramnathv.github.io/pycon2014-r/learn/controls.html"
   ]
  },
  {
   "cell_type": "markdown",
   "metadata": {},
   "source": [
    "## Getting Help"
   ]
  },
  {
   "cell_type": "code",
   "execution_count": 1,
   "metadata": {},
   "outputs": [],
   "source": [
    "help()"
   ]
  },
  {
   "cell_type": "code",
   "execution_count": 2,
   "metadata": {},
   "outputs": [],
   "source": [
    "?sink"
   ]
  },
  {
   "cell_type": "code",
   "execution_count": 3,
   "metadata": {},
   "outputs": [],
   "source": [
    "help(sin)"
   ]
  },
  {
   "cell_type": "code",
   "execution_count": 4,
   "metadata": {},
   "outputs": [],
   "source": [
    "help('library')"
   ]
  },
  {
   "cell_type": "code",
   "execution_count": 5,
   "metadata": {},
   "outputs": [],
   "source": [
    "help(\"data.frame\")"
   ]
  },
  {
   "cell_type": "markdown",
   "metadata": {
    "collapsed": true
   },
   "source": [
    "## General Notes on R Commands and Statements\n",
    "- comment: ```#```\n",
    "- case sensitive\n",
    "- dynamically typed\n",
    "- statement seperator: semi-colon or newline"
   ]
  },
  {
   "cell_type": "markdown",
   "metadata": {},
   "source": [
    "## Assignment Operators\n",
    "- ```<-```\n",
    "- ```->```\n",
    "- ```=```\n",
    "- ```assign()```"
   ]
  },
  {
   "cell_type": "code",
   "execution_count": 6,
   "metadata": {},
   "outputs": [
    {
     "data": {
      "text/html": [
       "1"
      ],
      "text/latex": [
       "1"
      ],
      "text/markdown": [
       "1"
      ],
      "text/plain": [
       "[1] 1"
      ]
     },
     "metadata": {},
     "output_type": "display_data"
    },
    {
     "data": {
      "text/html": [
       "2"
      ],
      "text/latex": [
       "2"
      ],
      "text/markdown": [
       "2"
      ],
      "text/plain": [
       "[1] 2"
      ]
     },
     "metadata": {},
     "output_type": "display_data"
    },
    {
     "data": {
      "text/html": [
       "3"
      ],
      "text/latex": [
       "3"
      ],
      "text/markdown": [
       "3"
      ],
      "text/plain": [
       "[1] 3"
      ]
     },
     "metadata": {},
     "output_type": "display_data"
    },
    {
     "data": {
      "text/html": [
       "4"
      ],
      "text/latex": [
       "4"
      ],
      "text/markdown": [
       "4"
      ],
      "text/plain": [
       "[1] 4"
      ]
     },
     "metadata": {},
     "output_type": "display_data"
    }
   ],
   "source": [
    "a = 1\n",
    "b <- 2\n",
    "3 -> c\n",
    "assign('d', 4) # assignment as a function call\n",
    "a\n",
    "b\n",
    "c\n",
    "d"
   ]
  },
  {
   "cell_type": "code",
   "execution_count": 7,
   "metadata": {},
   "outputs": [
    {
     "data": {
      "text/html": [
       "'a'"
      ],
      "text/latex": [
       "'a'"
      ],
      "text/markdown": [
       "'a'"
      ],
      "text/plain": [
       "[1] \"a\""
      ]
     },
     "metadata": {},
     "output_type": "display_data"
    },
    {
     "data": {
      "text/html": [
       "'b'"
      ],
      "text/latex": [
       "'b'"
      ],
      "text/markdown": [
       "'b'"
      ],
      "text/plain": [
       "[1] \"b\""
      ]
     },
     "metadata": {},
     "output_type": "display_data"
    }
   ],
   "source": [
    "# literal string: single or double quotes\n",
    "a <- 'a'\n",
    "b <- \"b\"\n",
    "a\n",
    "b"
   ]
  },
  {
   "cell_type": "markdown",
   "metadata": {},
   "source": [
    "## R Scalar Data Types\n",
    "- numeric (double)\n",
    "- integer\n",
    "- complex\n",
    "- logical\n",
    "- character\n",
    "- function (closure)\n",
    "- factor\n",
    "\n",
    "## Type functions\n",
    "- *class()* - kind of object (high-level)\n",
    "- *typeof()* - object data type (low-level)"
   ]
  },
  {
   "cell_type": "code",
   "execution_count": 8,
   "metadata": {},
   "outputs": [
    {
     "data": {
      "text/html": [
       "'numeric'"
      ],
      "text/latex": [
       "'numeric'"
      ],
      "text/markdown": [
       "'numeric'"
      ],
      "text/plain": [
       "[1] \"numeric\""
      ]
     },
     "metadata": {},
     "output_type": "display_data"
    },
    {
     "data": {
      "text/html": [
       "'numeric'"
      ],
      "text/latex": [
       "'numeric'"
      ],
      "text/markdown": [
       "'numeric'"
      ],
      "text/plain": [
       "[1] \"numeric\""
      ]
     },
     "metadata": {},
     "output_type": "display_data"
    },
    {
     "data": {
      "text/html": [
       "'double'"
      ],
      "text/latex": [
       "'double'"
      ],
      "text/markdown": [
       "'double'"
      ],
      "text/plain": [
       "[1] \"double\""
      ]
     },
     "metadata": {},
     "output_type": "display_data"
    },
    {
     "data": {
      "text/html": [
       "'integer'"
      ],
      "text/latex": [
       "'integer'"
      ],
      "text/markdown": [
       "'integer'"
      ],
      "text/plain": [
       "[1] \"integer\""
      ]
     },
     "metadata": {},
     "output_type": "display_data"
    },
    {
     "data": {
      "text/html": [
       "'integer'"
      ],
      "text/latex": [
       "'integer'"
      ],
      "text/markdown": [
       "'integer'"
      ],
      "text/plain": [
       "[1] \"integer\""
      ]
     },
     "metadata": {},
     "output_type": "display_data"
    },
    {
     "data": {
      "text/html": [
       "'complex'"
      ],
      "text/latex": [
       "'complex'"
      ],
      "text/markdown": [
       "'complex'"
      ],
      "text/plain": [
       "[1] \"complex\""
      ]
     },
     "metadata": {},
     "output_type": "display_data"
    },
    {
     "data": {
      "text/html": [
       "'complex'"
      ],
      "text/latex": [
       "'complex'"
      ],
      "text/markdown": [
       "'complex'"
      ],
      "text/plain": [
       "[1] \"complex\""
      ]
     },
     "metadata": {},
     "output_type": "display_data"
    },
    {
     "data": {
      "text/html": [
       "'logical'"
      ],
      "text/latex": [
       "'logical'"
      ],
      "text/markdown": [
       "'logical'"
      ],
      "text/plain": [
       "[1] \"logical\""
      ]
     },
     "metadata": {},
     "output_type": "display_data"
    },
    {
     "data": {
      "text/html": [
       "'logical'"
      ],
      "text/latex": [
       "'logical'"
      ],
      "text/markdown": [
       "'logical'"
      ],
      "text/plain": [
       "[1] \"logical\""
      ]
     },
     "metadata": {},
     "output_type": "display_data"
    },
    {
     "data": {
      "text/html": [
       "'logical'"
      ],
      "text/latex": [
       "'logical'"
      ],
      "text/markdown": [
       "'logical'"
      ],
      "text/plain": [
       "[1] \"logical\""
      ]
     },
     "metadata": {},
     "output_type": "display_data"
    },
    {
     "data": {
      "text/html": [
       "'logical'"
      ],
      "text/latex": [
       "'logical'"
      ],
      "text/markdown": [
       "'logical'"
      ],
      "text/plain": [
       "[1] \"logical\""
      ]
     },
     "metadata": {},
     "output_type": "display_data"
    },
    {
     "data": {
      "text/html": [
       "'character'"
      ],
      "text/latex": [
       "'character'"
      ],
      "text/markdown": [
       "'character'"
      ],
      "text/plain": [
       "[1] \"character\""
      ]
     },
     "metadata": {},
     "output_type": "display_data"
    },
    {
     "data": {
      "text/html": [
       "'character'"
      ],
      "text/latex": [
       "'character'"
      ],
      "text/markdown": [
       "'character'"
      ],
      "text/plain": [
       "[1] \"character\""
      ]
     },
     "metadata": {},
     "output_type": "display_data"
    },
    {
     "data": {
      "text/html": [
       "'character'"
      ],
      "text/latex": [
       "'character'"
      ],
      "text/markdown": [
       "'character'"
      ],
      "text/plain": [
       "[1] \"character\""
      ]
     },
     "metadata": {},
     "output_type": "display_data"
    },
    {
     "data": {
      "text/html": [
       "'character'"
      ],
      "text/latex": [
       "'character'"
      ],
      "text/markdown": [
       "'character'"
      ],
      "text/plain": [
       "[1] \"character\""
      ]
     },
     "metadata": {},
     "output_type": "display_data"
    },
    {
     "data": {
      "text/html": [
       "'function'"
      ],
      "text/latex": [
       "'function'"
      ],
      "text/markdown": [
       "'function'"
      ],
      "text/plain": [
       "[1] \"function\""
      ]
     },
     "metadata": {},
     "output_type": "display_data"
    },
    {
     "data": {
      "text/html": [
       "'closure'"
      ],
      "text/latex": [
       "'closure'"
      ],
      "text/markdown": [
       "'closure'"
      ],
      "text/plain": [
       "[1] \"closure\""
      ]
     },
     "metadata": {},
     "output_type": "display_data"
    },
    {
     "data": {
      "text/html": [
       "<ol class=list-inline>\n",
       "\t<li>1</li>\n",
       "\t<li>2</li>\n",
       "\t<li>2</li>\n",
       "\t<li>3</li>\n",
       "\t<li>1</li>\n",
       "\t<li>2</li>\n",
       "\t<li>3</li>\n",
       "\t<li>3</li>\n",
       "\t<li>1</li>\n",
       "\t<li>2</li>\n",
       "\t<li>3</li>\n",
       "\t<li>3</li>\n",
       "\t<li>1</li>\n",
       "</ol>\n"
      ],
      "text/latex": [
       "\\begin{enumerate*}\n",
       "\\item 1\n",
       "\\item 2\n",
       "\\item 2\n",
       "\\item 3\n",
       "\\item 1\n",
       "\\item 2\n",
       "\\item 3\n",
       "\\item 3\n",
       "\\item 1\n",
       "\\item 2\n",
       "\\item 3\n",
       "\\item 3\n",
       "\\item 1\n",
       "\\end{enumerate*}\n"
      ],
      "text/markdown": [
       "1. 1\n",
       "2. 2\n",
       "3. 2\n",
       "4. 3\n",
       "5. 1\n",
       "6. 2\n",
       "7. 3\n",
       "8. 3\n",
       "9. 1\n",
       "10. 2\n",
       "11. 3\n",
       "12. 3\n",
       "13. 1\n",
       "\n",
       "\n"
      ],
      "text/plain": [
       " [1] 1 2 2 3 1 2 3 3 1 2 3 3 1"
      ]
     },
     "metadata": {},
     "output_type": "display_data"
    },
    {
     "data": {
      "text/html": [
       "'numeric'"
      ],
      "text/latex": [
       "'numeric'"
      ],
      "text/markdown": [
       "'numeric'"
      ],
      "text/plain": [
       "[1] \"numeric\""
      ]
     },
     "metadata": {},
     "output_type": "display_data"
    },
    {
     "data": {
      "text/html": [
       "'double'"
      ],
      "text/latex": [
       "'double'"
      ],
      "text/markdown": [
       "'double'"
      ],
      "text/plain": [
       "[1] \"double\""
      ]
     },
     "metadata": {},
     "output_type": "display_data"
    },
    {
     "data": {
      "text/html": [
       "'factor'"
      ],
      "text/latex": [
       "'factor'"
      ],
      "text/markdown": [
       "'factor'"
      ],
      "text/plain": [
       "[1] \"factor\""
      ]
     },
     "metadata": {},
     "output_type": "display_data"
    },
    {
     "data": {
      "text/html": [
       "'integer'"
      ],
      "text/latex": [
       "'integer'"
      ],
      "text/markdown": [
       "'integer'"
      ],
      "text/plain": [
       "[1] \"integer\""
      ]
     },
     "metadata": {},
     "output_type": "display_data"
    },
    {
     "data": {
      "text/html": [
       "<ol class=list-inline>\n",
       "\t<li>'1'</li>\n",
       "\t<li>'2'</li>\n",
       "\t<li>'3'</li>\n",
       "</ol>\n"
      ],
      "text/latex": [
       "\\begin{enumerate*}\n",
       "\\item '1'\n",
       "\\item '2'\n",
       "\\item '3'\n",
       "\\end{enumerate*}\n"
      ],
      "text/markdown": [
       "1. '1'\n",
       "2. '2'\n",
       "3. '3'\n",
       "\n",
       "\n"
      ],
      "text/plain": [
       "[1] \"1\" \"2\" \"3\""
      ]
     },
     "metadata": {},
     "output_type": "display_data"
    }
   ],
   "source": [
    "x <- 3.141592\n",
    "class(x)    # numeric\n",
    "x <- 42\n",
    "class(x)    # numeric\n",
    "typeof(x)   # double\n",
    "x <- 42L\n",
    "class(x)    # integer\n",
    "typeof(x)   # integer\n",
    "x <- 3+4i\n",
    "class(x)    # complex\n",
    "typeof(x)   # complex\n",
    "x <- TRUE\n",
    "class(x)    # logical\n",
    "typeof(x)   # logical\n",
    "x <- F\n",
    "class(x)    # logical\n",
    "typeof(x)   # logical\n",
    "x <- 'Hello'\n",
    "class(x)    # character\n",
    "typeof(x)   # character\n",
    "x <- \"Bye\"\n",
    "class(x)    # character\n",
    "typeof(x)   # character\n",
    "fun <- function (){}\n",
    "class(fun)  # function\n",
    "typeof(fun) # closure\n",
    "\n",
    "v = c(1,2,2,3,1,2,3,3,1,2,3,3,1)\n",
    "v           # 1 2 2 3 1 2 3 3 1 2 3 3 1\n",
    "class(v)    # 'numeric'\n",
    "typeof(v)   # 'double'\n",
    "\n",
    "f = factor(v)\n",
    "class(f)    # 'factor'\n",
    "typeof(f)   # 'integer'\n",
    "levels(f) # '1' '2' '3'"
   ]
  },
  {
   "cell_type": "markdown",
   "metadata": {},
   "source": [
    "## Special Values"
   ]
  },
  {
   "cell_type": "code",
   "execution_count": 9,
   "metadata": {},
   "outputs": [
    {
     "data": {
      "text/html": [
       "&lt;NA&gt;"
      ],
      "text/latex": [
       "<NA>"
      ],
      "text/markdown": [
       "&lt;NA&gt;"
      ],
      "text/plain": [
       "[1] NA"
      ]
     },
     "metadata": {},
     "output_type": "display_data"
    },
    {
     "data": {
      "text/html": [
       "Inf"
      ],
      "text/latex": [
       "Inf"
      ],
      "text/markdown": [
       "Inf"
      ],
      "text/plain": [
       "[1] Inf"
      ]
     },
     "metadata": {},
     "output_type": "display_data"
    },
    {
     "data": {
      "text/html": [
       "NaN"
      ],
      "text/latex": [
       "NaN"
      ],
      "text/markdown": [
       "NaN"
      ],
      "text/plain": [
       "[1] NaN"
      ]
     },
     "metadata": {},
     "output_type": "display_data"
    }
   ],
   "source": [
    "NA  # <NA>\n",
    "\n",
    "1/0 # Inf\n",
    "\n",
    "0/0 # NaN"
   ]
  },
  {
   "cell_type": "markdown",
   "metadata": {},
   "source": [
    "## R Collection Data Types\n",
    "\n",
    "- *vector*: ordered 1-dimentional collection of elements of homogenous type (restricted to a single mode)\n",
    "- *matrix*: ordered 2-dimentional collection of elements of homogenous type (restricted to a single mode)\n",
    "- *array*:  ordered higher-dimentional collection of elements of homogenous type (restricted to a single mode)\n",
    "- *list*:   ordered 1-dimentional collection of elements of heterogenous type (not restricted to a single mode)\n",
    "- *data frame*: similar to table in relational database (de facto data structure for tabular data and statistics)\n",
    "\n",
    "*NOTE*: ordered collections are indexed starting at 1, not 0"
   ]
  },
  {
   "cell_type": "code",
   "execution_count": 10,
   "metadata": {},
   "outputs": [
    {
     "data": {
      "text/html": [
       "<ol class=list-inline>\n",
       "\t<li>1</li>\n",
       "\t<li>2</li>\n",
       "\t<li>3</li>\n",
       "</ol>\n"
      ],
      "text/latex": [
       "\\begin{enumerate*}\n",
       "\\item 1\n",
       "\\item 2\n",
       "\\item 3\n",
       "\\end{enumerate*}\n"
      ],
      "text/markdown": [
       "1. 1\n",
       "2. 2\n",
       "3. 3\n",
       "\n",
       "\n"
      ],
      "text/plain": [
       "[1] 1 2 3"
      ]
     },
     "metadata": {},
     "output_type": "display_data"
    },
    {
     "data": {
      "text/html": [
       "3"
      ],
      "text/latex": [
       "3"
      ],
      "text/markdown": [
       "3"
      ],
      "text/plain": [
       "[1] 3"
      ]
     },
     "metadata": {},
     "output_type": "display_data"
    },
    {
     "data": {
      "text/html": [
       "'numeric'"
      ],
      "text/latex": [
       "'numeric'"
      ],
      "text/markdown": [
       "'numeric'"
      ],
      "text/plain": [
       "[1] \"numeric\""
      ]
     },
     "metadata": {},
     "output_type": "display_data"
    },
    {
     "data": {
      "text/html": [
       "'double'"
      ],
      "text/latex": [
       "'double'"
      ],
      "text/markdown": [
       "'double'"
      ],
      "text/plain": [
       "[1] \"double\""
      ]
     },
     "metadata": {},
     "output_type": "display_data"
    },
    {
     "data": {
      "text/html": [
       "<ol class=list-inline>\n",
       "\t<li>'1'</li>\n",
       "\t<li>'hello'</li>\n",
       "\t<li>'3'</li>\n",
       "</ol>\n"
      ],
      "text/latex": [
       "\\begin{enumerate*}\n",
       "\\item '1'\n",
       "\\item 'hello'\n",
       "\\item '3'\n",
       "\\end{enumerate*}\n"
      ],
      "text/markdown": [
       "1. '1'\n",
       "2. 'hello'\n",
       "3. '3'\n",
       "\n",
       "\n"
      ],
      "text/plain": [
       "[1] \"1\"     \"hello\" \"3\"    "
      ]
     },
     "metadata": {},
     "output_type": "display_data"
    },
    {
     "data": {
      "text/html": [
       "'character'"
      ],
      "text/latex": [
       "'character'"
      ],
      "text/markdown": [
       "'character'"
      ],
      "text/plain": [
       "[1] \"character\""
      ]
     },
     "metadata": {},
     "output_type": "display_data"
    },
    {
     "data": {
      "text/html": [
       "'character'"
      ],
      "text/latex": [
       "'character'"
      ],
      "text/markdown": [
       "'character'"
      ],
      "text/plain": [
       "[1] \"character\""
      ]
     },
     "metadata": {},
     "output_type": "display_data"
    },
    {
     "data": {
      "text/html": [
       "<ol class=list-inline>\n",
       "\t<li>0</li>\n",
       "\t<li>1</li>\n",
       "\t<li>0</li>\n",
       "\t<li>3</li>\n",
       "\t<li>&lt;NA&gt;</li>\n",
       "</ol>\n"
      ],
      "text/latex": [
       "\\begin{enumerate*}\n",
       "\\item 0\n",
       "\\item 1\n",
       "\\item 0\n",
       "\\item 3\n",
       "\\item <NA>\n",
       "\\end{enumerate*}\n"
      ],
      "text/markdown": [
       "1. 0\n",
       "2. 1\n",
       "3. 0\n",
       "4. 3\n",
       "5. &lt;NA&gt;\n",
       "\n",
       "\n"
      ],
      "text/plain": [
       "[1]  0  1  0  3 NA"
      ]
     },
     "metadata": {},
     "output_type": "display_data"
    },
    {
     "data": {
      "text/html": [
       "'numeric'"
      ],
      "text/latex": [
       "'numeric'"
      ],
      "text/markdown": [
       "'numeric'"
      ],
      "text/plain": [
       "[1] \"numeric\""
      ]
     },
     "metadata": {},
     "output_type": "display_data"
    },
    {
     "data": {
      "text/html": [
       "'double'"
      ],
      "text/latex": [
       "'double'"
      ],
      "text/markdown": [
       "'double'"
      ],
      "text/plain": [
       "[1] \"double\""
      ]
     },
     "metadata": {},
     "output_type": "display_data"
    },
    {
     "data": {
      "text/html": [
       "<ol class=list-inline>\n",
       "\t<li>1</li>\n",
       "\t<li>2</li>\n",
       "\t<li>3</li>\n",
       "\t<li>4</li>\n",
       "\t<li>5</li>\n",
       "\t<li>6</li>\n",
       "\t<li>7</li>\n",
       "\t<li>8</li>\n",
       "\t<li>9</li>\n",
       "\t<li>10</li>\n",
       "</ol>\n"
      ],
      "text/latex": [
       "\\begin{enumerate*}\n",
       "\\item 1\n",
       "\\item 2\n",
       "\\item 3\n",
       "\\item 4\n",
       "\\item 5\n",
       "\\item 6\n",
       "\\item 7\n",
       "\\item 8\n",
       "\\item 9\n",
       "\\item 10\n",
       "\\end{enumerate*}\n"
      ],
      "text/markdown": [
       "1. 1\n",
       "2. 2\n",
       "3. 3\n",
       "4. 4\n",
       "5. 5\n",
       "6. 6\n",
       "7. 7\n",
       "8. 8\n",
       "9. 9\n",
       "10. 10\n",
       "\n",
       "\n"
      ],
      "text/plain": [
       " [1]  1  2  3  4  5  6  7  8  9 10"
      ]
     },
     "metadata": {},
     "output_type": "display_data"
    },
    {
     "data": {
      "text/html": [
       "'integer'"
      ],
      "text/latex": [
       "'integer'"
      ],
      "text/markdown": [
       "'integer'"
      ],
      "text/plain": [
       "[1] \"integer\""
      ]
     },
     "metadata": {},
     "output_type": "display_data"
    },
    {
     "data": {
      "text/html": [
       "'integer'"
      ],
      "text/latex": [
       "'integer'"
      ],
      "text/markdown": [
       "'integer'"
      ],
      "text/plain": [
       "[1] \"integer\""
      ]
     },
     "metadata": {},
     "output_type": "display_data"
    },
    {
     "data": {
      "text/html": [
       "'numeric'"
      ],
      "text/latex": [
       "'numeric'"
      ],
      "text/markdown": [
       "'numeric'"
      ],
      "text/plain": [
       "[1] \"numeric\""
      ]
     },
     "metadata": {},
     "output_type": "display_data"
    },
    {
     "data": {
      "text/html": [
       "'double'"
      ],
      "text/latex": [
       "'double'"
      ],
      "text/markdown": [
       "'double'"
      ],
      "text/plain": [
       "[1] \"double\""
      ]
     },
     "metadata": {},
     "output_type": "display_data"
    },
    {
     "data": {
      "text/html": [
       "<ol class=list-inline>\n",
       "\t<li>FALSE</li>\n",
       "\t<li>TRUE</li>\n",
       "\t<li>FALSE</li>\n",
       "\t<li>FALSE</li>\n",
       "\t<li>TRUE</li>\n",
       "</ol>\n"
      ],
      "text/latex": [
       "\\begin{enumerate*}\n",
       "\\item FALSE\n",
       "\\item TRUE\n",
       "\\item FALSE\n",
       "\\item FALSE\n",
       "\\item TRUE\n",
       "\\end{enumerate*}\n"
      ],
      "text/markdown": [
       "1. FALSE\n",
       "2. TRUE\n",
       "3. FALSE\n",
       "4. FALSE\n",
       "5. TRUE\n",
       "\n",
       "\n"
      ],
      "text/plain": [
       "[1] FALSE  TRUE FALSE FALSE  TRUE"
      ]
     },
     "metadata": {},
     "output_type": "display_data"
    },
    {
     "data": {
      "text/html": [
       "10"
      ],
      "text/latex": [
       "10"
      ],
      "text/markdown": [
       "10"
      ],
      "text/plain": [
       "[1] 10"
      ]
     },
     "metadata": {},
     "output_type": "display_data"
    },
    {
     "data": {
      "text/html": [
       "12"
      ],
      "text/latex": [
       "12"
      ],
      "text/markdown": [
       "12"
      ],
      "text/plain": [
       "[1] 12"
      ]
     },
     "metadata": {},
     "output_type": "display_data"
    },
    {
     "data": {
      "text/plain": [
       "NULL"
      ]
     },
     "metadata": {},
     "output_type": "display_data"
    },
    {
     "data": {
      "text/html": [
       "<ol class=list-inline>\n",
       "\t<li>-1</li>\n",
       "\t<li>-1</li>\n",
       "\t<li>-1</li>\n",
       "\t<li>-1</li>\n",
       "\t<li>-1</li>\n",
       "\t<li>-1</li>\n",
       "\t<li>-1</li>\n",
       "\t<li>-1</li>\n",
       "\t<li>-1</li>\n",
       "\t<li>-1</li>\n",
       "</ol>\n"
      ],
      "text/latex": [
       "\\begin{enumerate*}\n",
       "\\item -1\n",
       "\\item -1\n",
       "\\item -1\n",
       "\\item -1\n",
       "\\item -1\n",
       "\\item -1\n",
       "\\item -1\n",
       "\\item -1\n",
       "\\item -1\n",
       "\\item -1\n",
       "\\end{enumerate*}\n"
      ],
      "text/markdown": [
       "1. -1\n",
       "2. -1\n",
       "3. -1\n",
       "4. -1\n",
       "5. -1\n",
       "6. -1\n",
       "7. -1\n",
       "8. -1\n",
       "9. -1\n",
       "10. -1\n",
       "\n",
       "\n"
      ],
      "text/plain": [
       " [1] -1 -1 -1 -1 -1 -1 -1 -1 -1 -1"
      ]
     },
     "metadata": {},
     "output_type": "display_data"
    }
   ],
   "source": [
    "v <- c(1, 2, 3)\n",
    "v\n",
    "length(v)\n",
    "class(v)  # numeric\n",
    "typeof(v) # double\n",
    "\n",
    "v <- c(1, \"hello\", 3)      # coercion to character\n",
    "v\n",
    "class(v)  # character\n",
    "typeof(v) # character\n",
    "\n",
    "v <- c(0, 1, FALSE, 3, NA) # coercion to numeric (double)\n",
    "v\n",
    "class(v)  # numeric\n",
    "typeof(v) # double\n",
    "\n",
    "v <- 1:10\n",
    "v\n",
    "class(v)  # integer\n",
    "typeof(v) # integer\n",
    "\n",
    "v <- seq(from = 1, to = 10, by = 0.1)\n",
    "class(v)  # numeric\n",
    "typeof(v) # double\n",
    "\n",
    "v <- c(\"a\", NA, \"c\", \"d\", NA)\n",
    "is.na(v) # FALSE TRUE FALSE FALSE TRUE\n",
    "\n",
    "length(1:10)          # 10\n",
    "nchar(\"Hello World!\") # 12\n",
    "dim(c(1,2,3))         # NULL\n",
    "\n",
    "rep(-1, 10)           # -1 -1 -1 -1 -1 -1 -1 -1 -1 -1"
   ]
  },
  {
   "cell_type": "code",
   "execution_count": 11,
   "metadata": {},
   "outputs": [
    {
     "data": {
      "text/html": [
       "<table>\n",
       "<tbody>\n",
       "\t<tr><td>NA</td><td>NA</td></tr>\n",
       "\t<tr><td>NA</td><td>NA</td></tr>\n",
       "</tbody>\n",
       "</table>\n"
      ],
      "text/latex": [
       "\\begin{tabular}{ll}\n",
       "\t NA & NA\\\\\n",
       "\t NA & NA\\\\\n",
       "\\end{tabular}\n"
      ],
      "text/markdown": [
       "\n",
       "| NA | NA | \n",
       "| NA | NA | \n",
       "\n",
       "\n"
      ],
      "text/plain": [
       "     [,1] [,2]\n",
       "[1,] NA   NA  \n",
       "[2,] NA   NA  "
      ]
     },
     "metadata": {},
     "output_type": "display_data"
    },
    {
     "data": {
      "text/html": [
       "<ol class=list-inline>\n",
       "\t<li>2</li>\n",
       "\t<li>2</li>\n",
       "</ol>\n"
      ],
      "text/latex": [
       "\\begin{enumerate*}\n",
       "\\item 2\n",
       "\\item 2\n",
       "\\end{enumerate*}\n"
      ],
      "text/markdown": [
       "1. 2\n",
       "2. 2\n",
       "\n",
       "\n"
      ],
      "text/plain": [
       "[1] 2 2"
      ]
     },
     "metadata": {},
     "output_type": "display_data"
    },
    {
     "data": {
      "text/html": [
       "<table>\n",
       "<tbody>\n",
       "\t<tr><td>1</td><td>3</td><td>5</td></tr>\n",
       "\t<tr><td>2</td><td>4</td><td>6</td></tr>\n",
       "</tbody>\n",
       "</table>\n"
      ],
      "text/latex": [
       "\\begin{tabular}{lll}\n",
       "\t 1 & 3 & 5\\\\\n",
       "\t 2 & 4 & 6\\\\\n",
       "\\end{tabular}\n"
      ],
      "text/markdown": [
       "\n",
       "| 1 | 3 | 5 | \n",
       "| 2 | 4 | 6 | \n",
       "\n",
       "\n"
      ],
      "text/plain": [
       "     [,1] [,2] [,3]\n",
       "[1,] 1    3    5   \n",
       "[2,] 2    4    6   "
      ]
     },
     "metadata": {},
     "output_type": "display_data"
    },
    {
     "data": {
      "text/html": [
       "<ol class=list-inline>\n",
       "\t<li>2</li>\n",
       "\t<li>3</li>\n",
       "</ol>\n"
      ],
      "text/latex": [
       "\\begin{enumerate*}\n",
       "\\item 2\n",
       "\\item 3\n",
       "\\end{enumerate*}\n"
      ],
      "text/markdown": [
       "1. 2\n",
       "2. 3\n",
       "\n",
       "\n"
      ],
      "text/plain": [
       "[1] 2 3"
      ]
     },
     "metadata": {},
     "output_type": "display_data"
    },
    {
     "data": {
      "text/html": [
       "<table>\n",
       "<tbody>\n",
       "\t<tr><td>1</td><td>4</td></tr>\n",
       "\t<tr><td>2</td><td>5</td></tr>\n",
       "\t<tr><td>3</td><td>6</td></tr>\n",
       "</tbody>\n",
       "</table>\n"
      ],
      "text/latex": [
       "\\begin{tabular}{ll}\n",
       "\t 1 & 4\\\\\n",
       "\t 2 & 5\\\\\n",
       "\t 3 & 6\\\\\n",
       "\\end{tabular}\n"
      ],
      "text/markdown": [
       "\n",
       "| 1 | 4 | \n",
       "| 2 | 5 | \n",
       "| 3 | 6 | \n",
       "\n",
       "\n"
      ],
      "text/plain": [
       "     [,1] [,2]\n",
       "[1,] 1    4   \n",
       "[2,] 2    5   \n",
       "[3,] 3    6   "
      ]
     },
     "metadata": {},
     "output_type": "display_data"
    },
    {
     "data": {
      "text/html": [
       "<ol class=list-inline>\n",
       "\t<li>3</li>\n",
       "\t<li>2</li>\n",
       "</ol>\n"
      ],
      "text/latex": [
       "\\begin{enumerate*}\n",
       "\\item 3\n",
       "\\item 2\n",
       "\\end{enumerate*}\n"
      ],
      "text/markdown": [
       "1. 3\n",
       "2. 2\n",
       "\n",
       "\n"
      ],
      "text/plain": [
       "[1] 3 2"
      ]
     },
     "metadata": {},
     "output_type": "display_data"
    },
    {
     "data": {
      "text/html": [
       "<table>\n",
       "<thead><tr><th scope=col>x</th><th scope=col>y</th></tr></thead>\n",
       "<tbody>\n",
       "\t<tr><td>1 </td><td>10</td></tr>\n",
       "\t<tr><td>2 </td><td>11</td></tr>\n",
       "\t<tr><td>3 </td><td>12</td></tr>\n",
       "</tbody>\n",
       "</table>\n"
      ],
      "text/latex": [
       "\\begin{tabular}{ll}\n",
       " x & y\\\\\n",
       "\\hline\n",
       "\t 1  & 10\\\\\n",
       "\t 2  & 11\\\\\n",
       "\t 3  & 12\\\\\n",
       "\\end{tabular}\n"
      ],
      "text/markdown": [
       "\n",
       "x | y | \n",
       "|---|---|---|\n",
       "| 1  | 10 | \n",
       "| 2  | 11 | \n",
       "| 3  | 12 | \n",
       "\n",
       "\n"
      ],
      "text/plain": [
       "     x y \n",
       "[1,] 1 10\n",
       "[2,] 2 11\n",
       "[3,] 3 12"
      ]
     },
     "metadata": {},
     "output_type": "display_data"
    },
    {
     "data": {
      "text/html": [
       "<table>\n",
       "<tbody>\n",
       "\t<tr><th scope=row>x</th><td> 1</td><td> 2</td><td> 3</td></tr>\n",
       "\t<tr><th scope=row>y</th><td>10</td><td>11</td><td>12</td></tr>\n",
       "</tbody>\n",
       "</table>\n"
      ],
      "text/latex": [
       "\\begin{tabular}{r|lll}\n",
       "\tx &  1 &  2 &  3\\\\\n",
       "\ty & 10 & 11 & 12\\\\\n",
       "\\end{tabular}\n"
      ],
      "text/markdown": [
       "\n",
       "| x |  1 |  2 |  3 | \n",
       "| y | 10 | 11 | 12 | \n",
       "\n",
       "\n"
      ],
      "text/plain": [
       "  [,1] [,2] [,3]\n",
       "x  1    2    3  \n",
       "y 10   11   12  "
      ]
     },
     "metadata": {},
     "output_type": "display_data"
    },
    {
     "data": {
      "text/html": [
       "<table>\n",
       "<tbody>\n",
       "\t<tr><td> 1</td><td> 2</td><td> 3</td></tr>\n",
       "\t<tr><td>11</td><td>12</td><td>13</td></tr>\n",
       "</tbody>\n",
       "</table>\n"
      ],
      "text/latex": [
       "\\begin{tabular}{lll}\n",
       "\t  1 &  2 &  3\\\\\n",
       "\t 11 & 12 & 13\\\\\n",
       "\\end{tabular}\n"
      ],
      "text/markdown": [
       "\n",
       "|  1 |  2 |  3 | \n",
       "| 11 | 12 | 13 | \n",
       "\n",
       "\n"
      ],
      "text/plain": [
       "     [,1] [,2] [,3]\n",
       "[1,]  1    2    3  \n",
       "[2,] 11   12   13  "
      ]
     },
     "metadata": {},
     "output_type": "display_data"
    }
   ],
   "source": [
    "m <- matrix(nrow = 2, ncol = 2)\n",
    "m\n",
    "dim(m) # 2 2\n",
    "\n",
    "m <- matrix(1:6, nrow = 2, ncol = 3)\n",
    "m\n",
    "dim(m) # 2 3\n",
    "dim(m) <- c(3, 2)\n",
    "m\n",
    "dim(m) # 3 2\n",
    "\n",
    "x <- 1:3\n",
    "y <- 10:12\n",
    "m <- cbind(x, y)\n",
    "m\n",
    "m <- rbind(x, y)\n",
    "m\n",
    "\n",
    "m <- matrix(c(1,2,3, 11,12,13), nrow = 2, ncol = 3, byrow = TRUE)\n",
    "m"
   ]
  },
  {
   "cell_type": "code",
   "execution_count": 12,
   "metadata": {},
   "outputs": [
    {
     "data": {
      "text/html": [
       "<ol class=list-inline>\n",
       "\t<li>3</li>\n",
       "\t<li>4</li>\n",
       "\t<li>2</li>\n",
       "</ol>\n"
      ],
      "text/latex": [
       "\\begin{enumerate*}\n",
       "\\item 3\n",
       "\\item 4\n",
       "\\item 2\n",
       "\\end{enumerate*}\n"
      ],
      "text/markdown": [
       "1. 3\n",
       "2. 4\n",
       "3. 2\n",
       "\n",
       "\n"
      ],
      "text/plain": [
       "[1] 3 4 2"
      ]
     },
     "metadata": {},
     "output_type": "display_data"
    },
    {
     "data": {
      "text/html": [
       "<ol class=list-inline>\n",
       "\t<li>1</li>\n",
       "\t<li>2</li>\n",
       "\t<li>3</li>\n",
       "\t<li>4</li>\n",
       "\t<li>5</li>\n",
       "\t<li>6</li>\n",
       "\t<li>7</li>\n",
       "\t<li>8</li>\n",
       "\t<li>9</li>\n",
       "\t<li>10</li>\n",
       "\t<li>11</li>\n",
       "\t<li>12</li>\n",
       "\t<li>13</li>\n",
       "\t<li>14</li>\n",
       "\t<li>15</li>\n",
       "\t<li>16</li>\n",
       "\t<li>17</li>\n",
       "\t<li>18</li>\n",
       "\t<li>19</li>\n",
       "\t<li>20</li>\n",
       "\t<li>21</li>\n",
       "\t<li>22</li>\n",
       "\t<li>23</li>\n",
       "\t<li>24</li>\n",
       "</ol>\n"
      ],
      "text/latex": [
       "\\begin{enumerate*}\n",
       "\\item 1\n",
       "\\item 2\n",
       "\\item 3\n",
       "\\item 4\n",
       "\\item 5\n",
       "\\item 6\n",
       "\\item 7\n",
       "\\item 8\n",
       "\\item 9\n",
       "\\item 10\n",
       "\\item 11\n",
       "\\item 12\n",
       "\\item 13\n",
       "\\item 14\n",
       "\\item 15\n",
       "\\item 16\n",
       "\\item 17\n",
       "\\item 18\n",
       "\\item 19\n",
       "\\item 20\n",
       "\\item 21\n",
       "\\item 22\n",
       "\\item 23\n",
       "\\item 24\n",
       "\\end{enumerate*}\n"
      ],
      "text/markdown": [
       "1. 1\n",
       "2. 2\n",
       "3. 3\n",
       "4. 4\n",
       "5. 5\n",
       "6. 6\n",
       "7. 7\n",
       "8. 8\n",
       "9. 9\n",
       "10. 10\n",
       "11. 11\n",
       "12. 12\n",
       "13. 13\n",
       "14. 14\n",
       "15. 15\n",
       "16. 16\n",
       "17. 17\n",
       "18. 18\n",
       "19. 19\n",
       "20. 20\n",
       "21. 21\n",
       "22. 22\n",
       "23. 23\n",
       "24. 24\n",
       "\n",
       "\n"
      ],
      "text/plain": [
       ", , 1\n",
       "\n",
       "     [,1] [,2] [,3] [,4]\n",
       "[1,]    1    4    7   10\n",
       "[2,]    2    5    8   11\n",
       "[3,]    3    6    9   12\n",
       "\n",
       ", , 2\n",
       "\n",
       "     [,1] [,2] [,3] [,4]\n",
       "[1,]   13   16   19   22\n",
       "[2,]   14   17   20   23\n",
       "[3,]   15   18   21   24\n"
      ]
     },
     "metadata": {},
     "output_type": "display_data"
    },
    {
     "name": "stdout",
     "output_type": "stream",
     "text": [
      ", , 1\n",
      "\n",
      "     [,1] [,2] [,3] [,4]\n",
      "[1,]    1    4    7   10\n",
      "[2,]    2    5    8   11\n",
      "[3,]    3    6    9   12\n",
      "\n",
      ", , 2\n",
      "\n",
      "     [,1] [,2] [,3] [,4]\n",
      "[1,]   13   16   19   22\n",
      "[2,]   14   17   20   23\n",
      "[3,]   15   18   21   24\n",
      "\n"
     ]
    },
    {
     "data": {
      "text/html": [
       "<ol class=list-inline>\n",
       "\t<li>3</li>\n",
       "\t<li>3</li>\n",
       "\t<li>2</li>\n",
       "</ol>\n"
      ],
      "text/latex": [
       "\\begin{enumerate*}\n",
       "\\item 3\n",
       "\\item 3\n",
       "\\item 2\n",
       "\\end{enumerate*}\n"
      ],
      "text/markdown": [
       "1. 3\n",
       "2. 3\n",
       "3. 2\n",
       "\n",
       "\n"
      ],
      "text/plain": [
       "[1] 3 3 2"
      ]
     },
     "metadata": {},
     "output_type": "display_data"
    },
    {
     "data": {
      "text/html": [
       "<ol class=list-inline>\n",
       "\t<li>10</li>\n",
       "\t<li>20</li>\n",
       "\t<li>30</li>\n",
       "\t<li>40</li>\n",
       "\t<li>50</li>\n",
       "\t<li>60</li>\n",
       "\t<li>70</li>\n",
       "\t<li>80</li>\n",
       "\t<li>90</li>\n",
       "\t<li>100</li>\n",
       "\t<li>10</li>\n",
       "\t<li>20</li>\n",
       "\t<li>30</li>\n",
       "\t<li>40</li>\n",
       "\t<li>50</li>\n",
       "\t<li>60</li>\n",
       "\t<li>70</li>\n",
       "\t<li>80</li>\n",
       "</ol>\n"
      ],
      "text/latex": [
       "\\begin{enumerate*}\n",
       "\\item 10\n",
       "\\item 20\n",
       "\\item 30\n",
       "\\item 40\n",
       "\\item 50\n",
       "\\item 60\n",
       "\\item 70\n",
       "\\item 80\n",
       "\\item 90\n",
       "\\item 100\n",
       "\\item 10\n",
       "\\item 20\n",
       "\\item 30\n",
       "\\item 40\n",
       "\\item 50\n",
       "\\item 60\n",
       "\\item 70\n",
       "\\item 80\n",
       "\\end{enumerate*}\n"
      ],
      "text/markdown": [
       "1. 10\n",
       "2. 20\n",
       "3. 30\n",
       "4. 40\n",
       "5. 50\n",
       "6. 60\n",
       "7. 70\n",
       "8. 80\n",
       "9. 90\n",
       "10. 100\n",
       "11. 10\n",
       "12. 20\n",
       "13. 30\n",
       "14. 40\n",
       "15. 50\n",
       "16. 60\n",
       "17. 70\n",
       "18. 80\n",
       "\n",
       "\n"
      ],
      "text/plain": [
       ", , 1\n",
       "\n",
       "     [,1] [,2] [,3]\n",
       "[1,]   10   40   70\n",
       "[2,]   20   50   80\n",
       "[3,]   30   60   90\n",
       "\n",
       ", , 2\n",
       "\n",
       "     [,1] [,2] [,3]\n",
       "[1,]  100   30   60\n",
       "[2,]   10   40   70\n",
       "[3,]   20   50   80\n"
      ]
     },
     "metadata": {},
     "output_type": "display_data"
    },
    {
     "name": "stdout",
     "output_type": "stream",
     "text": [
      ", , 1\n",
      "\n",
      "     [,1] [,2] [,3]\n",
      "[1,]   10   40   70\n",
      "[2,]   20   50   80\n",
      "[3,]   30   60   90\n",
      "\n",
      ", , 2\n",
      "\n",
      "     [,1] [,2] [,3]\n",
      "[1,]  100   30   60\n",
      "[2,]   10   40   70\n",
      "[3,]   20   50   80\n",
      "\n"
     ]
    }
   ],
   "source": [
    "a <- array(1: 24, dim = c(3, 4, 2))\n",
    "dim(a)   # 3 4 2\n",
    "a        # list out sequence\n",
    "print(a) # print out structure\n",
    "\n",
    "v1 <- c(10, 20, 30, 40)\n",
    "v2 <- c(50, 60, 70, 80, 90, 100)\n",
    " \n",
    "a <- array(c(v1, v2), dim = c(3, 3, 2))\n",
    "dim(a)   # 3 3 2\n",
    "a        # list out sequence\n",
    "print(a) # print out structure"
   ]
  },
  {
   "cell_type": "code",
   "execution_count": 13,
   "metadata": {},
   "outputs": [
    {
     "data": {
      "text/html": [
       "<ol>\n",
       "\t<li>'Sally'</li>\n",
       "\t<li>42</li>\n",
       "</ol>\n"
      ],
      "text/latex": [
       "\\begin{enumerate}\n",
       "\\item 'Sally'\n",
       "\\item 42\n",
       "\\end{enumerate}\n"
      ],
      "text/markdown": [
       "1. 'Sally'\n",
       "2. 42\n",
       "\n",
       "\n"
      ],
      "text/plain": [
       "[[1]]\n",
       "[1] \"Sally\"\n",
       "\n",
       "[[2]]\n",
       "[1] 42\n"
      ]
     },
     "metadata": {},
     "output_type": "display_data"
    },
    {
     "data": {
      "text/html": [
       "2"
      ],
      "text/latex": [
       "2"
      ],
      "text/markdown": [
       "2"
      ],
      "text/plain": [
       "[1] 2"
      ]
     },
     "metadata": {},
     "output_type": "display_data"
    },
    {
     "data": {
      "text/plain": [
       "NULL"
      ]
     },
     "metadata": {},
     "output_type": "display_data"
    },
    {
     "data": {
      "text/html": [
       "'list'"
      ],
      "text/latex": [
       "'list'"
      ],
      "text/markdown": [
       "'list'"
      ],
      "text/plain": [
       "[1] \"list\""
      ]
     },
     "metadata": {},
     "output_type": "display_data"
    },
    {
     "data": {
      "text/html": [
       "'list'"
      ],
      "text/latex": [
       "'list'"
      ],
      "text/markdown": [
       "'list'"
      ],
      "text/plain": [
       "[1] \"list\""
      ]
     },
     "metadata": {},
     "output_type": "display_data"
    },
    {
     "data": {
      "text/plain": [
       "NULL"
      ]
     },
     "metadata": {},
     "output_type": "display_data"
    },
    {
     "data": {
      "text/html": [
       "<dl>\n",
       "\t<dt>$name</dt>\n",
       "\t\t<dd>'Sally'</dd>\n",
       "\t<dt>$age</dt>\n",
       "\t\t<dd>42</dd>\n",
       "</dl>\n"
      ],
      "text/latex": [
       "\\begin{description}\n",
       "\\item[\\$name] 'Sally'\n",
       "\\item[\\$age] 42\n",
       "\\end{description}\n"
      ],
      "text/markdown": [
       "$name\n",
       ":   'Sally'\n",
       "$age\n",
       ":   42\n",
       "\n",
       "\n"
      ],
      "text/plain": [
       "$name\n",
       "[1] \"Sally\"\n",
       "\n",
       "$age\n",
       "[1] 42\n"
      ]
     },
     "metadata": {},
     "output_type": "display_data"
    },
    {
     "data": {
      "text/html": [
       "<strong>$names</strong> = <ol class=list-inline>\n",
       "\t<li>'name'</li>\n",
       "\t<li>'age'</li>\n",
       "</ol>\n"
      ],
      "text/latex": [
       "\\textbf{\\$names} = \\begin{enumerate*}\n",
       "\\item 'name'\n",
       "\\item 'age'\n",
       "\\end{enumerate*}\n"
      ],
      "text/markdown": [
       "**$names** = 1. 'name'\n",
       "2. 'age'\n",
       "\n",
       "\n"
      ],
      "text/plain": [
       "$names\n",
       "[1] \"name\" \"age\" \n"
      ]
     },
     "metadata": {},
     "output_type": "display_data"
    },
    {
     "data": {
      "text/html": [
       "<ol>\n",
       "\t<li>1</li>\n",
       "\t<li>'a'</li>\n",
       "\t<li>TRUE</li>\n",
       "\t<li>1+4i</li>\n",
       "</ol>\n"
      ],
      "text/latex": [
       "\\begin{enumerate}\n",
       "\\item 1\n",
       "\\item 'a'\n",
       "\\item TRUE\n",
       "\\item 1+4i\n",
       "\\end{enumerate}\n"
      ],
      "text/markdown": [
       "1. 1\n",
       "2. 'a'\n",
       "3. TRUE\n",
       "4. 1+4i\n",
       "\n",
       "\n"
      ],
      "text/plain": [
       "[[1]]\n",
       "[1] 1\n",
       "\n",
       "[[2]]\n",
       "[1] \"a\"\n",
       "\n",
       "[[3]]\n",
       "[1] TRUE\n",
       "\n",
       "[[4]]\n",
       "[1] 1+4i\n"
      ]
     },
     "metadata": {},
     "output_type": "display_data"
    },
    {
     "data": {
      "text/html": [
       "<ol>\n",
       "\t<li>NULL</li>\n",
       "\t<li>NULL</li>\n",
       "\t<li>NULL</li>\n",
       "\t<li>NULL</li>\n",
       "\t<li>NULL</li>\n",
       "</ol>\n"
      ],
      "text/latex": [
       "\\begin{enumerate}\n",
       "\\item NULL\n",
       "\\item NULL\n",
       "\\item NULL\n",
       "\\item NULL\n",
       "\\item NULL\n",
       "\\end{enumerate}\n"
      ],
      "text/markdown": [
       "1. NULL\n",
       "2. NULL\n",
       "3. NULL\n",
       "4. NULL\n",
       "5. NULL\n",
       "\n",
       "\n"
      ],
      "text/plain": [
       "[[1]]\n",
       "NULL\n",
       "\n",
       "[[2]]\n",
       "NULL\n",
       "\n",
       "[[3]]\n",
       "NULL\n",
       "\n",
       "[[4]]\n",
       "NULL\n",
       "\n",
       "[[5]]\n",
       "NULL\n"
      ]
     },
     "metadata": {},
     "output_type": "display_data"
    },
    {
     "data": {
      "text/html": [
       "5"
      ],
      "text/latex": [
       "5"
      ],
      "text/markdown": [
       "5"
      ],
      "text/plain": [
       "[1] 5"
      ]
     },
     "metadata": {},
     "output_type": "display_data"
    },
    {
     "data": {
      "text/html": [
       "10"
      ],
      "text/latex": [
       "10"
      ],
      "text/markdown": [
       "10"
      ],
      "text/plain": [
       "[1] 10"
      ]
     },
     "metadata": {},
     "output_type": "display_data"
    },
    {
     "data": {
      "text/html": [
       "<dl>\n",
       "\t<dt>$a</dt>\n",
       "\t\t<dd>'Sally'</dd>\n",
       "\t<dt>$b</dt>\n",
       "\t\t<dd><ol class=list-inline>\n",
       "\t<li>1</li>\n",
       "\t<li>2</li>\n",
       "\t<li>3</li>\n",
       "\t<li>4</li>\n",
       "\t<li>5</li>\n",
       "\t<li>6</li>\n",
       "\t<li>7</li>\n",
       "\t<li>8</li>\n",
       "\t<li>9</li>\n",
       "\t<li>10</li>\n",
       "</ol>\n",
       "</dd>\n",
       "\t<dt>$data</dt>\n",
       "\t\t<dd><table>\n",
       "<thead><tr><th scope=col>Sepal.Length</th><th scope=col>Sepal.Width</th><th scope=col>Petal.Length</th><th scope=col>Petal.Width</th><th scope=col>Species</th></tr></thead>\n",
       "<tbody>\n",
       "\t<tr><td>5.1   </td><td>3.5   </td><td>1.4   </td><td>0.2   </td><td>setosa</td></tr>\n",
       "\t<tr><td>4.9   </td><td>3.0   </td><td>1.4   </td><td>0.2   </td><td>setosa</td></tr>\n",
       "\t<tr><td>4.7   </td><td>3.2   </td><td>1.3   </td><td>0.2   </td><td>setosa</td></tr>\n",
       "\t<tr><td>4.6   </td><td>3.1   </td><td>1.5   </td><td>0.2   </td><td>setosa</td></tr>\n",
       "\t<tr><td>5.0   </td><td>3.6   </td><td>1.4   </td><td>0.2   </td><td>setosa</td></tr>\n",
       "\t<tr><td>5.4   </td><td>3.9   </td><td>1.7   </td><td>0.4   </td><td>setosa</td></tr>\n",
       "</tbody>\n",
       "</table>\n",
       "</dd>\n",
       "</dl>\n"
      ],
      "text/latex": [
       "\\begin{description}\n",
       "\\item[\\$a] 'Sally'\n",
       "\\item[\\$b] \\begin{enumerate*}\n",
       "\\item 1\n",
       "\\item 2\n",
       "\\item 3\n",
       "\\item 4\n",
       "\\item 5\n",
       "\\item 6\n",
       "\\item 7\n",
       "\\item 8\n",
       "\\item 9\n",
       "\\item 10\n",
       "\\end{enumerate*}\n",
       "\n",
       "\\item[\\$data] \\begin{tabular}{r|lllll}\n",
       " Sepal.Length & Sepal.Width & Petal.Length & Petal.Width & Species\\\\\n",
       "\\hline\n",
       "\t 5.1    & 3.5    & 1.4    & 0.2    & setosa\\\\\n",
       "\t 4.9    & 3.0    & 1.4    & 0.2    & setosa\\\\\n",
       "\t 4.7    & 3.2    & 1.3    & 0.2    & setosa\\\\\n",
       "\t 4.6    & 3.1    & 1.5    & 0.2    & setosa\\\\\n",
       "\t 5.0    & 3.6    & 1.4    & 0.2    & setosa\\\\\n",
       "\t 5.4    & 3.9    & 1.7    & 0.4    & setosa\\\\\n",
       "\\end{tabular}\n",
       "\n",
       "\\end{description}\n"
      ],
      "text/markdown": [
       "$a\n",
       ":   'Sally'\n",
       "$b\n",
       ":   1. 1\n",
       "2. 2\n",
       "3. 3\n",
       "4. 4\n",
       "5. 5\n",
       "6. 6\n",
       "7. 7\n",
       "8. 8\n",
       "9. 9\n",
       "10. 10\n",
       "\n",
       "\n",
       "\n",
       "$data\n",
       ":   \n",
       "Sepal.Length | Sepal.Width | Petal.Length | Petal.Width | Species | \n",
       "|---|---|---|---|---|---|\n",
       "| 5.1    | 3.5    | 1.4    | 0.2    | setosa | \n",
       "| 4.9    | 3.0    | 1.4    | 0.2    | setosa | \n",
       "| 4.7    | 3.2    | 1.3    | 0.2    | setosa | \n",
       "| 4.6    | 3.1    | 1.5    | 0.2    | setosa | \n",
       "| 5.0    | 3.6    | 1.4    | 0.2    | setosa | \n",
       "| 5.4    | 3.9    | 1.7    | 0.4    | setosa | \n",
       "\n",
       "\n",
       "\n",
       "\n",
       "\n"
      ],
      "text/plain": [
       "$a\n",
       "[1] \"Sally\"\n",
       "\n",
       "$b\n",
       " [1]  1  2  3  4  5  6  7  8  9 10\n",
       "\n",
       "$data\n",
       "  Sepal.Length Sepal.Width Petal.Length Petal.Width Species\n",
       "1          5.1         3.5          1.4         0.2  setosa\n",
       "2          4.9         3.0          1.4         0.2  setosa\n",
       "3          4.7         3.2          1.3         0.2  setosa\n",
       "4          4.6         3.1          1.5         0.2  setosa\n",
       "5          5.0         3.6          1.4         0.2  setosa\n",
       "6          5.4         3.9          1.7         0.4  setosa\n"
      ]
     },
     "metadata": {},
     "output_type": "display_data"
    }
   ],
   "source": [
    "l <- list(\"Sally\", 42)\n",
    "l\n",
    "length(l)      # 2\n",
    "dim(l)         # NULL\n",
    "class(l)       # list\n",
    "typeof(l)      # list\n",
    "attributes (l) # NULL\n",
    "\n",
    "l <- list(name=\"Sally\", age=42)\n",
    "l\n",
    "attributes (l) # 'name' 'age'\n",
    "\n",
    "l <- list(1, \"a\", TRUE, 1+4i)\n",
    "l\n",
    "\n",
    "l <- vector(\"list\", length = 5) # empty list\n",
    "l\n",
    "length(l)\n",
    "\n",
    "v <- 1:10\n",
    "l <- as.list(v)\n",
    "length(l)\n",
    "\n",
    "l <- list(a = \"Sally\", b = 1:10, data = head(iris))\n",
    "l"
   ]
  },
  {
   "cell_type": "code",
   "execution_count": 14,
   "metadata": {},
   "outputs": [
    {
     "data": {
      "text/html": [
       "<table>\n",
       "<thead><tr><th scope=col>id</th><th scope=col>x</th><th scope=col>y</th></tr></thead>\n",
       "<tbody>\n",
       "\t<tr><td>a </td><td> 1</td><td>11</td></tr>\n",
       "\t<tr><td>b </td><td> 2</td><td>12</td></tr>\n",
       "\t<tr><td>c </td><td> 3</td><td>13</td></tr>\n",
       "\t<tr><td>d </td><td> 4</td><td>14</td></tr>\n",
       "\t<tr><td>e </td><td> 5</td><td>15</td></tr>\n",
       "\t<tr><td>f </td><td> 6</td><td>16</td></tr>\n",
       "\t<tr><td>g </td><td> 7</td><td>17</td></tr>\n",
       "\t<tr><td>h </td><td> 8</td><td>18</td></tr>\n",
       "\t<tr><td>i </td><td> 9</td><td>19</td></tr>\n",
       "\t<tr><td>j </td><td>10</td><td>20</td></tr>\n",
       "</tbody>\n",
       "</table>\n"
      ],
      "text/latex": [
       "\\begin{tabular}{r|lll}\n",
       " id & x & y\\\\\n",
       "\\hline\n",
       "\t a  &  1 & 11\\\\\n",
       "\t b  &  2 & 12\\\\\n",
       "\t c  &  3 & 13\\\\\n",
       "\t d  &  4 & 14\\\\\n",
       "\t e  &  5 & 15\\\\\n",
       "\t f  &  6 & 16\\\\\n",
       "\t g  &  7 & 17\\\\\n",
       "\t h  &  8 & 18\\\\\n",
       "\t i  &  9 & 19\\\\\n",
       "\t j  & 10 & 20\\\\\n",
       "\\end{tabular}\n"
      ],
      "text/markdown": [
       "\n",
       "id | x | y | \n",
       "|---|---|---|---|---|---|---|---|---|---|\n",
       "| a  |  1 | 11 | \n",
       "| b  |  2 | 12 | \n",
       "| c  |  3 | 13 | \n",
       "| d  |  4 | 14 | \n",
       "| e  |  5 | 15 | \n",
       "| f  |  6 | 16 | \n",
       "| g  |  7 | 17 | \n",
       "| h  |  8 | 18 | \n",
       "| i  |  9 | 19 | \n",
       "| j  | 10 | 20 | \n",
       "\n",
       "\n"
      ],
      "text/plain": [
       "   id x  y \n",
       "1  a   1 11\n",
       "2  b   2 12\n",
       "3  c   3 13\n",
       "4  d   4 14\n",
       "5  e   5 15\n",
       "6  f   6 16\n",
       "7  g   7 17\n",
       "8  h   8 18\n",
       "9  i   9 19\n",
       "10 j  10 20"
      ]
     },
     "metadata": {},
     "output_type": "display_data"
    },
    {
     "data": {
      "text/html": [
       "'data.frame'"
      ],
      "text/latex": [
       "'data.frame'"
      ],
      "text/markdown": [
       "'data.frame'"
      ],
      "text/plain": [
       "[1] \"data.frame\""
      ]
     },
     "metadata": {},
     "output_type": "display_data"
    },
    {
     "data": {
      "text/html": [
       "<ol class=list-inline>\n",
       "\t<li>10</li>\n",
       "\t<li>3</li>\n",
       "</ol>\n"
      ],
      "text/latex": [
       "\\begin{enumerate*}\n",
       "\\item 10\n",
       "\\item 3\n",
       "\\end{enumerate*}\n"
      ],
      "text/markdown": [
       "1. 10\n",
       "2. 3\n",
       "\n",
       "\n"
      ],
      "text/plain": [
       "[1] 10  3"
      ]
     },
     "metadata": {},
     "output_type": "display_data"
    },
    {
     "data": {
      "text/html": [
       "10"
      ],
      "text/latex": [
       "10"
      ],
      "text/markdown": [
       "10"
      ],
      "text/plain": [
       "[1] 10"
      ]
     },
     "metadata": {},
     "output_type": "display_data"
    },
    {
     "data": {
      "text/html": [
       "3"
      ],
      "text/latex": [
       "3"
      ],
      "text/markdown": [
       "3"
      ],
      "text/plain": [
       "[1] 3"
      ]
     },
     "metadata": {},
     "output_type": "display_data"
    },
    {
     "data": {
      "text/html": [
       "<ol class=list-inline>\n",
       "\t<li>'id'</li>\n",
       "\t<li>'x'</li>\n",
       "\t<li>'y'</li>\n",
       "</ol>\n"
      ],
      "text/latex": [
       "\\begin{enumerate*}\n",
       "\\item 'id'\n",
       "\\item 'x'\n",
       "\\item 'y'\n",
       "\\end{enumerate*}\n"
      ],
      "text/markdown": [
       "1. 'id'\n",
       "2. 'x'\n",
       "3. 'y'\n",
       "\n",
       "\n"
      ],
      "text/plain": [
       "[1] \"id\" \"x\"  \"y\" "
      ]
     },
     "metadata": {},
     "output_type": "display_data"
    },
    {
     "name": "stdout",
     "output_type": "stream",
     "text": [
      "'data.frame':\t10 obs. of  3 variables:\n",
      " $ id: Factor w/ 10 levels \"a\",\"b\",\"c\",\"d\",..: 1 2 3 4 5 6 7 8 9 10\n",
      " $ x : int  1 2 3 4 5 6 7 8 9 10\n",
      " $ y : int  11 12 13 14 15 16 17 18 19 20\n"
     ]
    },
    {
     "data": {
      "text/html": [
       "<table>\n",
       "<thead><tr><th scope=col>id</th><th scope=col>x</th><th scope=col>y</th></tr></thead>\n",
       "<tbody>\n",
       "\t<tr><td>a </td><td>1 </td><td>11</td></tr>\n",
       "\t<tr><td>b </td><td>2 </td><td>12</td></tr>\n",
       "\t<tr><td>c </td><td>3 </td><td>13</td></tr>\n",
       "\t<tr><td>d </td><td>4 </td><td>14</td></tr>\n",
       "\t<tr><td>e </td><td>5 </td><td>15</td></tr>\n",
       "\t<tr><td>f </td><td>6 </td><td>16</td></tr>\n",
       "</tbody>\n",
       "</table>\n"
      ],
      "text/latex": [
       "\\begin{tabular}{r|lll}\n",
       " id & x & y\\\\\n",
       "\\hline\n",
       "\t a  & 1  & 11\\\\\n",
       "\t b  & 2  & 12\\\\\n",
       "\t c  & 3  & 13\\\\\n",
       "\t d  & 4  & 14\\\\\n",
       "\t e  & 5  & 15\\\\\n",
       "\t f  & 6  & 16\\\\\n",
       "\\end{tabular}\n"
      ],
      "text/markdown": [
       "\n",
       "id | x | y | \n",
       "|---|---|---|---|---|---|\n",
       "| a  | 1  | 11 | \n",
       "| b  | 2  | 12 | \n",
       "| c  | 3  | 13 | \n",
       "| d  | 4  | 14 | \n",
       "| e  | 5  | 15 | \n",
       "| f  | 6  | 16 | \n",
       "\n",
       "\n"
      ],
      "text/plain": [
       "  id x y \n",
       "1 a  1 11\n",
       "2 b  2 12\n",
       "3 c  3 13\n",
       "4 d  4 14\n",
       "5 e  5 15\n",
       "6 f  6 16"
      ]
     },
     "metadata": {},
     "output_type": "display_data"
    },
    {
     "data": {
      "text/html": [
       "'data.frame'"
      ],
      "text/latex": [
       "'data.frame'"
      ],
      "text/markdown": [
       "'data.frame'"
      ],
      "text/plain": [
       "[1] \"data.frame\""
      ]
     },
     "metadata": {},
     "output_type": "display_data"
    },
    {
     "data": {
      "text/html": [
       "5"
      ],
      "text/latex": [
       "5"
      ],
      "text/markdown": [
       "5"
      ],
      "text/plain": [
       "[1] 5"
      ]
     },
     "metadata": {},
     "output_type": "display_data"
    },
    {
     "data": {
      "text/html": [
       "150"
      ],
      "text/latex": [
       "150"
      ],
      "text/markdown": [
       "150"
      ],
      "text/plain": [
       "[1] 150"
      ]
     },
     "metadata": {},
     "output_type": "display_data"
    },
    {
     "data": {
      "text/html": [
       "5"
      ],
      "text/latex": [
       "5"
      ],
      "text/markdown": [
       "5"
      ],
      "text/plain": [
       "[1] 5"
      ]
     },
     "metadata": {},
     "output_type": "display_data"
    },
    {
     "data": {
      "text/html": [
       "<table>\n",
       "<thead><tr><th scope=col>Sepal.Length</th><th scope=col>Sepal.Width</th><th scope=col>Petal.Length</th><th scope=col>Petal.Width</th><th scope=col>Species</th></tr></thead>\n",
       "<tbody>\n",
       "\t<tr><td>5.1   </td><td>3.5   </td><td>1.4   </td><td>0.2   </td><td>setosa</td></tr>\n",
       "\t<tr><td>4.9   </td><td>3.0   </td><td>1.4   </td><td>0.2   </td><td>setosa</td></tr>\n",
       "\t<tr><td>4.7   </td><td>3.2   </td><td>1.3   </td><td>0.2   </td><td>setosa</td></tr>\n",
       "\t<tr><td>4.6   </td><td>3.1   </td><td>1.5   </td><td>0.2   </td><td>setosa</td></tr>\n",
       "\t<tr><td>5.0   </td><td>3.6   </td><td>1.4   </td><td>0.2   </td><td>setosa</td></tr>\n",
       "\t<tr><td>5.4   </td><td>3.9   </td><td>1.7   </td><td>0.4   </td><td>setosa</td></tr>\n",
       "</tbody>\n",
       "</table>\n"
      ],
      "text/latex": [
       "\\begin{tabular}{r|lllll}\n",
       " Sepal.Length & Sepal.Width & Petal.Length & Petal.Width & Species\\\\\n",
       "\\hline\n",
       "\t 5.1    & 3.5    & 1.4    & 0.2    & setosa\\\\\n",
       "\t 4.9    & 3.0    & 1.4    & 0.2    & setosa\\\\\n",
       "\t 4.7    & 3.2    & 1.3    & 0.2    & setosa\\\\\n",
       "\t 4.6    & 3.1    & 1.5    & 0.2    & setosa\\\\\n",
       "\t 5.0    & 3.6    & 1.4    & 0.2    & setosa\\\\\n",
       "\t 5.4    & 3.9    & 1.7    & 0.4    & setosa\\\\\n",
       "\\end{tabular}\n"
      ],
      "text/markdown": [
       "\n",
       "Sepal.Length | Sepal.Width | Petal.Length | Petal.Width | Species | \n",
       "|---|---|---|---|---|---|\n",
       "| 5.1    | 3.5    | 1.4    | 0.2    | setosa | \n",
       "| 4.9    | 3.0    | 1.4    | 0.2    | setosa | \n",
       "| 4.7    | 3.2    | 1.3    | 0.2    | setosa | \n",
       "| 4.6    | 3.1    | 1.5    | 0.2    | setosa | \n",
       "| 5.0    | 3.6    | 1.4    | 0.2    | setosa | \n",
       "| 5.4    | 3.9    | 1.7    | 0.4    | setosa | \n",
       "\n",
       "\n"
      ],
      "text/plain": [
       "  Sepal.Length Sepal.Width Petal.Length Petal.Width Species\n",
       "1 5.1          3.5         1.4          0.2         setosa \n",
       "2 4.9          3.0         1.4          0.2         setosa \n",
       "3 4.7          3.2         1.3          0.2         setosa \n",
       "4 4.6          3.1         1.5          0.2         setosa \n",
       "5 5.0          3.6         1.4          0.2         setosa \n",
       "6 5.4          3.9         1.7          0.4         setosa "
      ]
     },
     "metadata": {},
     "output_type": "display_data"
    }
   ],
   "source": [
    "df <- data.frame(id = letters[1:10], x = 1:10, y = 11:20)\n",
    "df\n",
    "class(df) # data.frame\n",
    "dim(df)   # 10 3\n",
    "nrow(df)  # 10\n",
    "ncol(df)  #  3\n",
    "names(df) # 'id' 'x' 'y'\n",
    "str(df)\n",
    "head(df)\n",
    "\n",
    "class(iris) # data.frame\n",
    "length(iris) #   5\n",
    "nrow(iris)   # 150\n",
    "ncol(iris)   #   5\n",
    "head(iris)"
   ]
  },
  {
   "cell_type": "markdown",
   "metadata": {},
   "source": [
    "## Arithmetic Operators\n",
    "- ```+``` addition\n",
    "- ```-``` subtraction\n",
    "- ```*``` multiplication\n",
    "- ```/``` division\n",
    "- ```^``` or ```**``` exponentiation\n",
    "- ```%%``` modulus\n",
    "- ```%/%``` integer division"
   ]
  },
  {
   "cell_type": "code",
   "execution_count": 15,
   "metadata": {},
   "outputs": [
    {
     "data": {
      "text/html": [
       "5"
      ],
      "text/latex": [
       "5"
      ],
      "text/markdown": [
       "5"
      ],
      "text/plain": [
       "[1] 5"
      ]
     },
     "metadata": {},
     "output_type": "display_data"
    },
    {
     "data": {
      "text/html": [
       "-1"
      ],
      "text/latex": [
       "-1"
      ],
      "text/markdown": [
       "-1"
      ],
      "text/plain": [
       "[1] -1"
      ]
     },
     "metadata": {},
     "output_type": "display_data"
    },
    {
     "data": {
      "text/html": [
       "6"
      ],
      "text/latex": [
       "6"
      ],
      "text/markdown": [
       "6"
      ],
      "text/plain": [
       "[1] 6"
      ]
     },
     "metadata": {},
     "output_type": "display_data"
    },
    {
     "data": {
      "text/html": [
       "0.666666666666667"
      ],
      "text/latex": [
       "0.666666666666667"
      ],
      "text/markdown": [
       "0.666666666666667"
      ],
      "text/plain": [
       "[1] 0.6666667"
      ]
     },
     "metadata": {},
     "output_type": "display_data"
    },
    {
     "data": {
      "text/html": [
       "8"
      ],
      "text/latex": [
       "8"
      ],
      "text/markdown": [
       "8"
      ],
      "text/plain": [
       "[1] 8"
      ]
     },
     "metadata": {},
     "output_type": "display_data"
    },
    {
     "data": {
      "text/html": [
       "8"
      ],
      "text/latex": [
       "8"
      ],
      "text/markdown": [
       "8"
      ],
      "text/plain": [
       "[1] 8"
      ]
     },
     "metadata": {},
     "output_type": "display_data"
    },
    {
     "data": {
      "text/html": [
       "2"
      ],
      "text/latex": [
       "2"
      ],
      "text/markdown": [
       "2"
      ],
      "text/plain": [
       "[1] 2"
      ]
     },
     "metadata": {},
     "output_type": "display_data"
    },
    {
     "data": {
      "text/html": [
       "0"
      ],
      "text/latex": [
       "0"
      ],
      "text/markdown": [
       "0"
      ],
      "text/plain": [
       "[1] 0"
      ]
     },
     "metadata": {},
     "output_type": "display_data"
    }
   ],
   "source": [
    "2+3   # 5\n",
    "2-3   # -1\n",
    "2*3   # 6\n",
    "2/3   # 0.666666666666667\n",
    "2^3   # 8\n",
    "2**3  # 8\n",
    "2%%3  # 2\n",
    "2%/%3 # 0"
   ]
  },
  {
   "cell_type": "markdown",
   "metadata": {},
   "source": [
    "## Logical Operators\n",
    "\n",
    "- *<* less than\n",
    "- *<=* less than or equal\n",
    "- *>* greater than\n",
    "- *>=* greater than or equal\n",
    "- *==* equal\n",
    "- *!=* not equal\n",
    "- *!* not\n",
    "- *|* or\n",
    "- *&* and\n",
    "- *isTRUE()* test if true"
   ]
  },
  {
   "cell_type": "markdown",
   "metadata": {},
   "source": [
    "## System Date and Time"
   ]
  },
  {
   "cell_type": "code",
   "execution_count": 16,
   "metadata": {},
   "outputs": [
    {
     "data": {
      "text/html": [
       "'Wed Oct 03 07:05:47 2018'"
      ],
      "text/latex": [
       "'Wed Oct 03 07:05:47 2018'"
      ],
      "text/markdown": [
       "'Wed Oct 03 07:05:47 2018'"
      ],
      "text/plain": [
       "[1] \"Wed Oct 03 07:05:47 2018\""
      ]
     },
     "metadata": {},
     "output_type": "display_data"
    }
   ],
   "source": [
    "date() # returns string of current system date and time in current time zone"
   ]
  },
  {
   "cell_type": "code",
   "execution_count": 17,
   "metadata": {},
   "outputs": [
    {
     "data": {
      "text/html": [
       "<time datetime=\"2018-10-03\">2018-10-03</time>"
      ],
      "text/latex": [
       "2018-10-03"
      ],
      "text/markdown": [
       "2018-10-03"
      ],
      "text/plain": [
       "[1] \"2018-10-03\""
      ]
     },
     "metadata": {},
     "output_type": "display_data"
    }
   ],
   "source": [
    "Sys.Date() # returns the current day in current time zone"
   ]
  },
  {
   "cell_type": "code",
   "execution_count": 18,
   "metadata": {},
   "outputs": [
    {
     "data": {
      "text/plain": [
       "[1] \"2018-10-03 07:05:47 EDT\""
      ]
     },
     "metadata": {},
     "output_type": "display_data"
    }
   ],
   "source": [
    "Sys.time() # returns absolute date-time which can be converted to various time zones"
   ]
  },
  {
   "cell_type": "markdown",
   "metadata": {},
   "source": [
    "## Formatting Date and Time"
   ]
  },
  {
   "cell_type": "code",
   "execution_count": 119,
   "metadata": {},
   "outputs": [
    {
     "data": {
      "text/html": [
       "'07:12:48'"
      ],
      "text/latex": [
       "'07:12:48'"
      ],
      "text/markdown": [
       "'07:12:48'"
      ],
      "text/plain": [
       "[1] \"07:12:48\""
      ]
     },
     "metadata": {},
     "output_type": "display_data"
    },
    {
     "name": "stdout",
     "output_type": "stream",
     "text": [
      "[1] \"07:12:48\"\n"
     ]
    }
   ],
   "source": [
    "nowIs <- format(Sys.time(), \"%H:%M:%S\")\n",
    "nowIs\n",
    "print(nowIs)"
   ]
  },
  {
   "cell_type": "code",
   "execution_count": 120,
   "metadata": {},
   "outputs": [],
   "source": [
    "help('strptime')"
   ]
  },
  {
   "cell_type": "markdown",
   "metadata": {},
   "source": [
    "## User-defined Functions"
   ]
  },
  {
   "cell_type": "code",
   "execution_count": 19,
   "metadata": {},
   "outputs": [
    {
     "data": {
      "text/html": [
       "7"
      ],
      "text/latex": [
       "7"
      ],
      "text/markdown": [
       "7"
      ],
      "text/plain": [
       "[1] 7"
      ]
     },
     "metadata": {},
     "output_type": "display_data"
    }
   ],
   "source": [
    "myFunction <- function(arg1, arg2) {\n",
    "    arg1 + arg2 # return keyword optional in this example\n",
    "}\n",
    "myFunction(3, 4)"
   ]
  },
  {
   "cell_type": "markdown",
   "metadata": {},
   "source": [
    "## Conditional and Repetitive Execution\n",
    "- ```if```\n",
    "- ```if/else```\n",
    "- ```for```\n",
    "- ```while```\n",
    "- ```repeat```\n",
    "- ```break```\n",
    "- ```next```\n",
    "- ```return```"
   ]
  },
  {
   "cell_type": "code",
   "execution_count": 20,
   "metadata": {},
   "outputs": [
    {
     "name": "stdout",
     "output_type": "stream",
     "text": [
      "[1] \"x is greater than 10\"\n"
     ]
    }
   ],
   "source": [
    "x <- 1:15\n",
    "if (sample(x, 1) <= 10) {\n",
    "    print(\"x is less than 10\")\n",
    "} else {\n",
    "    print(\"x is greater than 10\")\n",
    "}"
   ]
  },
  {
   "cell_type": "code",
   "execution_count": 21,
   "metadata": {},
   "outputs": [
    {
     "data": {
      "text/html": [
       "<ol class=list-inline>\n",
       "\t<li>'x less than 10'</li>\n",
       "\t<li>'x less than 10'</li>\n",
       "\t<li>'x less than 10'</li>\n",
       "\t<li>'x less than 10'</li>\n",
       "\t<li>'x less than 10'</li>\n",
       "\t<li>'x less than 10'</li>\n",
       "\t<li>'x less than 10'</li>\n",
       "\t<li>'x less than 10'</li>\n",
       "\t<li>'x less than 10'</li>\n",
       "\t<li>'x less than 10'</li>\n",
       "\t<li>'x greater than 10'</li>\n",
       "\t<li>'x greater than 10'</li>\n",
       "\t<li>'x greater than 10'</li>\n",
       "\t<li>'x greater than 10'</li>\n",
       "\t<li>'x greater than 10'</li>\n",
       "</ol>\n"
      ],
      "text/latex": [
       "\\begin{enumerate*}\n",
       "\\item 'x less than 10'\n",
       "\\item 'x less than 10'\n",
       "\\item 'x less than 10'\n",
       "\\item 'x less than 10'\n",
       "\\item 'x less than 10'\n",
       "\\item 'x less than 10'\n",
       "\\item 'x less than 10'\n",
       "\\item 'x less than 10'\n",
       "\\item 'x less than 10'\n",
       "\\item 'x less than 10'\n",
       "\\item 'x greater than 10'\n",
       "\\item 'x greater than 10'\n",
       "\\item 'x greater than 10'\n",
       "\\item 'x greater than 10'\n",
       "\\item 'x greater than 10'\n",
       "\\end{enumerate*}\n"
      ],
      "text/markdown": [
       "1. 'x less than 10'\n",
       "2. 'x less than 10'\n",
       "3. 'x less than 10'\n",
       "4. 'x less than 10'\n",
       "5. 'x less than 10'\n",
       "6. 'x less than 10'\n",
       "7. 'x less than 10'\n",
       "8. 'x less than 10'\n",
       "9. 'x less than 10'\n",
       "10. 'x less than 10'\n",
       "11. 'x greater than 10'\n",
       "12. 'x greater than 10'\n",
       "13. 'x greater than 10'\n",
       "14. 'x greater than 10'\n",
       "15. 'x greater than 10'\n",
       "\n",
       "\n"
      ],
      "text/plain": [
       " [1] \"x less than 10\"    \"x less than 10\"    \"x less than 10\"   \n",
       " [4] \"x less than 10\"    \"x less than 10\"    \"x less than 10\"   \n",
       " [7] \"x less than 10\"    \"x less than 10\"    \"x less than 10\"   \n",
       "[10] \"x less than 10\"    \"x greater than 10\" \"x greater than 10\"\n",
       "[13] \"x greater than 10\" \"x greater than 10\" \"x greater than 10\""
      ]
     },
     "metadata": {},
     "output_type": "display_data"
    }
   ],
   "source": [
    "ifelse(x <= 10, \"x less than 10\", \"x greater than 10\")"
   ]
  },
  {
   "cell_type": "code",
   "execution_count": 22,
   "metadata": {},
   "outputs": [
    {
     "name": "stdout",
     "output_type": "stream",
     "text": [
      "[1] 1\n",
      "[1] 2\n",
      "[1] 3\n",
      "[1] 4\n",
      "[1] 5\n",
      "[1] 6\n",
      "[1] 7\n",
      "[1] 8\n",
      "[1] 9\n",
      "[1] 10\n"
     ]
    }
   ],
   "source": [
    "for (i in 1:10) {\n",
    "    print(i)\n",
    "}"
   ]
  },
  {
   "cell_type": "code",
   "execution_count": 23,
   "metadata": {},
   "outputs": [
    {
     "name": "stdout",
     "output_type": "stream",
     "text": [
      "[1] \"apples\"\n",
      "[1] \"oranges\"\n",
      "[1] \"bananas\"\n",
      "[1] \"strawberries\"\n",
      "[1] \"apples\"\n",
      "[1] \"oranges\"\n",
      "[1] \"bananas\"\n",
      "[1] \"strawberries\"\n",
      "[1] \"apples\"\n",
      "[1] \"oranges\"\n",
      "[1] \"bananas\"\n",
      "[1] \"strawberries\"\n",
      "[1] \"apples\"\n",
      "[1] \"oranges\"\n",
      "[1] \"bananas\"\n",
      "[1] \"strawberries\"\n"
     ]
    }
   ],
   "source": [
    "x <- c(\"apples\", \"oranges\", \"bananas\", \"strawberries\")\n",
    "\n",
    "for (i in 1:length(x)) {\n",
    "    print(x[i])\n",
    "}\n",
    "\n",
    "for (el in x) {\n",
    "    print(el)\n",
    "}\n",
    "\n",
    "for (i in seq(x)) {\n",
    "    print(x[i])\n",
    "}\n",
    "\n",
    "for (i in 1:4) print(x[i])"
   ]
  },
  {
   "cell_type": "code",
   "execution_count": 24,
   "metadata": {},
   "outputs": [
    {
     "name": "stdout",
     "output_type": "stream",
     "text": [
      "[1] 1\n",
      "[1] 3\n",
      "[1] 5\n",
      "[1] 7\n",
      "[1] 9\n",
      "[1] 2\n",
      "[1] 4\n",
      "[1] 6\n",
      "[1] 8\n",
      "[1] 10\n"
     ]
    }
   ],
   "source": [
    "m <- matrix(1:10, 2)\n",
    "for (i in seq(nrow(m))) {\n",
    "    for (j in seq(ncol(m))) {\n",
    "        print(m[i, j])\n",
    "    }\n",
    "}"
   ]
  },
  {
   "cell_type": "code",
   "execution_count": 25,
   "metadata": {},
   "outputs": [
    {
     "data": {
      "text/html": [
       "<ol class=list-inline>\n",
       "\t<li>0</li>\n",
       "\t<li>0</li>\n",
       "\t<li>1</li>\n",
       "\t<li>1</li>\n",
       "\t<li>1</li>\n",
       "\t<li>0</li>\n",
       "\t<li>0</li>\n",
       "\t<li>1</li>\n",
       "\t<li>0</li>\n",
       "\t<li>0</li>\n",
       "\t<li>1</li>\n",
       "\t<li>0</li>\n",
       "\t<li>1</li>\n",
       "\t<li>1</li>\n",
       "\t<li>1</li>\n",
       "\t<li>1</li>\n",
       "\t<li>1</li>\n",
       "\t<li>0</li>\n",
       "\t<li>0</li>\n",
       "\t<li>1</li>\n",
       "</ol>\n"
      ],
      "text/latex": [
       "\\begin{enumerate*}\n",
       "\\item 0\n",
       "\\item 0\n",
       "\\item 1\n",
       "\\item 1\n",
       "\\item 1\n",
       "\\item 0\n",
       "\\item 0\n",
       "\\item 1\n",
       "\\item 0\n",
       "\\item 0\n",
       "\\item 1\n",
       "\\item 0\n",
       "\\item 1\n",
       "\\item 1\n",
       "\\item 1\n",
       "\\item 1\n",
       "\\item 1\n",
       "\\item 0\n",
       "\\item 0\n",
       "\\item 1\n",
       "\\end{enumerate*}\n"
      ],
      "text/markdown": [
       "1. 0\n",
       "2. 0\n",
       "3. 1\n",
       "4. 1\n",
       "5. 1\n",
       "6. 0\n",
       "7. 0\n",
       "8. 1\n",
       "9. 0\n",
       "10. 0\n",
       "11. 1\n",
       "12. 0\n",
       "13. 1\n",
       "14. 1\n",
       "15. 1\n",
       "16. 1\n",
       "17. 1\n",
       "18. 0\n",
       "19. 0\n",
       "20. 1\n",
       "\n",
       "\n"
      ],
      "text/plain": [
       " [1] 0 0 1 1 1 0 0 1 0 0 1 0 1 1 1 1 1 0 0 1"
      ]
     },
     "metadata": {},
     "output_type": "display_data"
    },
    {
     "data": {
      "text/html": [
       "<ol class=list-inline>\n",
       "\t<li>'T'</li>\n",
       "\t<li>'T'</li>\n",
       "\t<li>'H'</li>\n",
       "\t<li>'H'</li>\n",
       "\t<li>'H'</li>\n",
       "\t<li>'T'</li>\n",
       "\t<li>'T'</li>\n",
       "\t<li>'H'</li>\n",
       "\t<li>'T'</li>\n",
       "\t<li>'T'</li>\n",
       "\t<li>'H'</li>\n",
       "\t<li>'T'</li>\n",
       "\t<li>'H'</li>\n",
       "\t<li>'H'</li>\n",
       "\t<li>'H'</li>\n",
       "\t<li>'H'</li>\n",
       "\t<li>'H'</li>\n",
       "\t<li>'T'</li>\n",
       "\t<li>'T'</li>\n",
       "\t<li>'H'</li>\n",
       "</ol>\n"
      ],
      "text/latex": [
       "\\begin{enumerate*}\n",
       "\\item 'T'\n",
       "\\item 'T'\n",
       "\\item 'H'\n",
       "\\item 'H'\n",
       "\\item 'H'\n",
       "\\item 'T'\n",
       "\\item 'T'\n",
       "\\item 'H'\n",
       "\\item 'T'\n",
       "\\item 'T'\n",
       "\\item 'H'\n",
       "\\item 'T'\n",
       "\\item 'H'\n",
       "\\item 'H'\n",
       "\\item 'H'\n",
       "\\item 'H'\n",
       "\\item 'H'\n",
       "\\item 'T'\n",
       "\\item 'T'\n",
       "\\item 'H'\n",
       "\\end{enumerate*}\n"
      ],
      "text/markdown": [
       "1. 'T'\n",
       "2. 'T'\n",
       "3. 'H'\n",
       "4. 'H'\n",
       "5. 'H'\n",
       "6. 'T'\n",
       "7. 'T'\n",
       "8. 'H'\n",
       "9. 'T'\n",
       "10. 'T'\n",
       "11. 'H'\n",
       "12. 'T'\n",
       "13. 'H'\n",
       "14. 'H'\n",
       "15. 'H'\n",
       "16. 'H'\n",
       "17. 'H'\n",
       "18. 'T'\n",
       "19. 'T'\n",
       "20. 'H'\n",
       "\n",
       "\n"
      ],
      "text/plain": [
       " [1] \"T\" \"T\" \"H\" \"H\" \"H\" \"T\" \"T\" \"H\" \"T\" \"T\" \"H\" \"T\" \"H\" \"H\" \"H\" \"H\" \"H\" \"T\" \"T\"\n",
       "[20] \"H\""
      ]
     },
     "metadata": {},
     "output_type": "display_data"
    }
   ],
   "source": [
    "x <- rbinom(20, 1, 0.5) # rbinom(n, size, prob)\n",
    "x\n",
    "y <- c()\n",
    "for (i in 1:length(x)) {\n",
    "    if (x[i] == 1) y[i] <- 'H' else y[i] <- 'T' \n",
    "}\n",
    "y"
   ]
  },
  {
   "cell_type": "code",
   "execution_count": 26,
   "metadata": {},
   "outputs": [
    {
     "name": "stdout",
     "output_type": "stream",
     "text": [
      "[1] 1\n",
      "[1] 2\n",
      "[1] 3\n",
      "[1] 4\n",
      "[1] 5\n",
      "[1] 6\n",
      "[1] 7\n",
      "[1] 8\n",
      "[1] 9\n"
     ]
    }
   ],
   "source": [
    "i <- 1\n",
    "while (i < 10) {\n",
    "    print(i)\n",
    "    i <- i + 1\n",
    "}"
   ]
  },
  {
   "cell_type": "code",
   "execution_count": 27,
   "metadata": {},
   "outputs": [
    {
     "name": "stdout",
     "output_type": "stream",
     "text": [
      "[1] 1\n",
      "[1] 2\n",
      "[1] 3\n",
      "[1] 4\n",
      "[1] 5\n",
      "[1] 6\n",
      "[1] 7\n",
      "[1] 8\n",
      "[1] 9\n",
      "[1] 10\n"
     ]
    }
   ],
   "source": [
    "i <- 1; max <- 10\n",
    "repeat {\n",
    "    if (i > max) break\n",
    "    print(i)\n",
    "    i <- i + 1\n",
    "}"
   ]
  },
  {
   "cell_type": "code",
   "execution_count": 28,
   "metadata": {},
   "outputs": [
    {
     "name": "stdout",
     "output_type": "stream",
     "text": [
      "[1] 2\n",
      "[1] 4\n",
      "[1] 6\n",
      "[1] 8\n",
      "[1] 10\n",
      "[1] 12\n",
      "[1] 14\n",
      "[1] 16\n",
      "[1] 18\n",
      "[1] 20\n"
     ]
    }
   ],
   "source": [
    "for (i in 1:20) {\n",
    "    if (i%%2 == 1) { # skip evens\n",
    "        next\n",
    "    } else {\n",
    "        print(i)\n",
    "    }\n",
    "}"
   ]
  },
  {
   "cell_type": "markdown",
   "metadata": {},
   "source": [
    "## Built-in Functions\n",
    "\n",
    "- abs\n",
    "- cos\n",
    "- sin\n",
    "- exp\n",
    "- sqrt\n",
    "- trunc\n",
    "- floor\n",
    "- grep\n",
    "- nchar\n",
    "- paste\n",
    "- substr\n",
    "- toupper\n",
    "- tolower\n",
    "- edit"
   ]
  },
  {
   "cell_type": "code",
   "execution_count": 29,
   "metadata": {},
   "outputs": [
    {
     "data": {
      "text/html": [
       "1"
      ],
      "text/latex": [
       "1"
      ],
      "text/markdown": [
       "1"
      ],
      "text/plain": [
       "[1] 1"
      ]
     },
     "metadata": {},
     "output_type": "display_data"
    },
    {
     "data": {
      "text/html": [
       "0.5"
      ],
      "text/latex": [
       "0.5"
      ],
      "text/markdown": [
       "0.5"
      ],
      "text/plain": [
       "[1] 0.5"
      ]
     },
     "metadata": {},
     "output_type": "display_data"
    },
    {
     "data": {
      "text/html": [
       "1"
      ],
      "text/latex": [
       "1"
      ],
      "text/markdown": [
       "1"
      ],
      "text/plain": [
       "[1] 1"
      ]
     },
     "metadata": {},
     "output_type": "display_data"
    },
    {
     "data": {
      "text/html": [
       "2.71828182845905"
      ],
      "text/latex": [
       "2.71828182845905"
      ],
      "text/markdown": [
       "2.71828182845905"
      ],
      "text/plain": [
       "[1] 2.718282"
      ]
     },
     "metadata": {},
     "output_type": "display_data"
    },
    {
     "data": {
      "text/html": [
       "7.38905609893065"
      ],
      "text/latex": [
       "7.38905609893065"
      ],
      "text/markdown": [
       "7.38905609893065"
      ],
      "text/plain": [
       "[1] 7.389056"
      ]
     },
     "metadata": {},
     "output_type": "display_data"
    },
    {
     "data": {
      "text/html": [
       "2"
      ],
      "text/latex": [
       "2"
      ],
      "text/markdown": [
       "2"
      ],
      "text/plain": [
       "[1] 2"
      ]
     },
     "metadata": {},
     "output_type": "display_data"
    },
    {
     "data": {
      "text/html": [
       "5"
      ],
      "text/latex": [
       "5"
      ],
      "text/markdown": [
       "5"
      ],
      "text/plain": [
       "[1] 5"
      ]
     },
     "metadata": {},
     "output_type": "display_data"
    },
    {
     "data": {
      "text/html": [
       "-3"
      ],
      "text/latex": [
       "-3"
      ],
      "text/markdown": [
       "-3"
      ],
      "text/plain": [
       "[1] -3"
      ]
     },
     "metadata": {},
     "output_type": "display_data"
    },
    {
     "data": {
      "text/html": [
       "-4"
      ],
      "text/latex": [
       "-4"
      ],
      "text/markdown": [
       "-4"
      ],
      "text/plain": [
       "[1] -4"
      ]
     },
     "metadata": {},
     "output_type": "display_data"
    },
    {
     "data": {
      "text/html": [
       "5"
      ],
      "text/latex": [
       "5"
      ],
      "text/markdown": [
       "5"
      ],
      "text/plain": [
       "[1] 5"
      ]
     },
     "metadata": {},
     "output_type": "display_data"
    },
    {
     "data": {
      "text/html": [
       "<span style=white-space:pre-wrap>'Answer:  42'</span>"
      ],
      "text/latex": [
       "'Answer:  42'"
      ],
      "text/markdown": [
       "<span style=white-space:pre-wrap>'Answer:  42'</span>"
      ],
      "text/plain": [
       "[1] \"Answer:  42\""
      ]
     },
     "metadata": {},
     "output_type": "display_data"
    },
    {
     "data": {
      "text/html": [
       "'HELLO'"
      ],
      "text/latex": [
       "'HELLO'"
      ],
      "text/markdown": [
       "'HELLO'"
      ],
      "text/plain": [
       "[1] \"HELLO\""
      ]
     },
     "metadata": {},
     "output_type": "display_data"
    },
    {
     "data": {
      "text/html": [
       "'hello'"
      ],
      "text/latex": [
       "'hello'"
      ],
      "text/markdown": [
       "'hello'"
      ],
      "text/plain": [
       "[1] \"hello\""
      ]
     },
     "metadata": {},
     "output_type": "display_data"
    },
    {
     "data": {
      "text/html": [
       "'ll'"
      ],
      "text/latex": [
       "'ll'"
      ],
      "text/markdown": [
       "'ll'"
      ],
      "text/plain": [
       "[1] \"ll\""
      ]
     },
     "metadata": {},
     "output_type": "display_data"
    },
    {
     "name": "stdout",
     "output_type": "stream",
     "text": [
      "[1] 1\n",
      "integer(0)\n"
     ]
    }
   ],
   "source": [
    "abs(-1)               # 1\n",
    "cos(pi/3)             # 0.5\n",
    "sin(pi/2)             # 1\n",
    "exp(1)                # e\n",
    "exp(2)                # e^2\n",
    "log10(100)            # 2\n",
    "sqrt(25)              # 5\n",
    "trunc(-3.141592)      # -3\n",
    "floor(-3.141592)      # -4\n",
    "nchar(\"Hello\")        # 5\n",
    "paste(\"Answer: \", 42) # 'Answer:  42'\n",
    "toupper(\"Hello\")      # 'HELLO'\n",
    "tolower(\"Hello\")      # 'hello'\n",
    "substr(\"Hello\", 3, 4) # 'll'\n",
    "print(grep(\"[a-z]\", \"abc\"))\n",
    "print(grep(\"[a-z]\", \"123\"))"
   ]
  },
  {
   "cell_type": "code",
   "execution_count": 30,
   "metadata": {},
   "outputs": [
    {
     "name": "stdout",
     "output_type": "stream",
     "text": [
      "[1] 1\n",
      "[1] 1 2 3\n",
      "[1] \"numeric\"\n",
      "[1] \"1\" \"2\" \"3\"\n",
      "[1] \"character\"\n",
      "[1] \"a\" \"b\" \"c\"\n",
      "[1] \"character\"\n",
      "[1] \"1 4\" \"2 5\" \"3 6\"\n",
      "[1] \"character\"\n",
      "[1] \"1-4_2-5_3-6\"\n",
      "[1] \"character\"\n"
     ]
    }
   ],
   "source": [
    "print(1, 2, 3)              # 1\n",
    "\n",
    "x <- c(1, 2, 3)\n",
    "print(x)                    # 1 2 3\n",
    "print(class(x))             # \"numeric\"\n",
    "\n",
    "x <- paste(c(1, 2, 3))\n",
    "print(x)                    # \"1\" \"2\" \"3\"\n",
    "print(class(x))             # \"character\"\n",
    "\n",
    "x <- paste(c(\"a\", \"b\", \"c\"))\n",
    "print(x)                    # \"a\" \"b\" \"c\"\n",
    "print(class(x))             # \"character\"\n",
    "\n",
    "x <- paste(c(1, 2, 3), c(4, 5, 6))\n",
    "print(x)                    # \"1 4\" \"2 5\" \"3 6\"\n",
    "print(class(x))             # \"character\"\n",
    "\n",
    "x <- paste(c(1, 2, 3), c(4, 5, 6), sep=\"-\", collapse=\"_\")\n",
    "print(x)                    # \"1-4_2-5_3-6\"\n",
    "print(class(x))             # \"character\""
   ]
  },
  {
   "cell_type": "markdown",
   "metadata": {},
   "source": [
    "## Vector and Matrix Arithmetic\n"
   ]
  },
  {
   "cell_type": "code",
   "execution_count": 31,
   "metadata": {},
   "outputs": [
    {
     "data": {
      "text/html": [
       "<ol class=list-inline>\n",
       "\t<li>2</li>\n",
       "\t<li>4</li>\n",
       "\t<li>6</li>\n",
       "\t<li>8</li>\n",
       "</ol>\n"
      ],
      "text/latex": [
       "\\begin{enumerate*}\n",
       "\\item 2\n",
       "\\item 4\n",
       "\\item 6\n",
       "\\item 8\n",
       "\\end{enumerate*}\n"
      ],
      "text/markdown": [
       "1. 2\n",
       "2. 4\n",
       "3. 6\n",
       "4. 8\n",
       "\n",
       "\n"
      ],
      "text/plain": [
       "[1] 2 4 6 8"
      ]
     },
     "metadata": {},
     "output_type": "display_data"
    },
    {
     "data": {
      "text/html": [
       "<ol class=list-inline>\n",
       "\t<li>2.02</li>\n",
       "\t<li>4.04</li>\n",
       "\t<li>6.06</li>\n",
       "\t<li>8.08</li>\n",
       "</ol>\n"
      ],
      "text/latex": [
       "\\begin{enumerate*}\n",
       "\\item 2.02\n",
       "\\item 4.04\n",
       "\\item 6.06\n",
       "\\item 8.08\n",
       "\\end{enumerate*}\n"
      ],
      "text/markdown": [
       "1. 2.02\n",
       "2. 4.04\n",
       "3. 6.06\n",
       "4. 8.08\n",
       "\n",
       "\n"
      ],
      "text/plain": [
       "[1] 2.02 4.04 6.06 8.08"
      ]
     },
     "metadata": {},
     "output_type": "display_data"
    },
    {
     "data": {
      "text/html": [
       "<table>\n",
       "<tbody>\n",
       "\t<tr><td>1 </td><td>3 </td><td>5 </td><td>7 </td><td> 9</td></tr>\n",
       "\t<tr><td>2 </td><td>4 </td><td>6 </td><td>8 </td><td>10</td></tr>\n",
       "</tbody>\n",
       "</table>\n"
      ],
      "text/latex": [
       "\\begin{tabular}{lllll}\n",
       "\t 1  & 3  & 5  & 7  &  9\\\\\n",
       "\t 2  & 4  & 6  & 8  & 10\\\\\n",
       "\\end{tabular}\n"
      ],
      "text/markdown": [
       "\n",
       "| 1  | 3  | 5  | 7  |  9 | \n",
       "| 2  | 4  | 6  | 8  | 10 | \n",
       "\n",
       "\n"
      ],
      "text/plain": [
       "     [,1] [,2] [,3] [,4] [,5]\n",
       "[1,] 1    3    5    7     9  \n",
       "[2,] 2    4    6    8    10  "
      ]
     },
     "metadata": {},
     "output_type": "display_data"
    },
    {
     "data": {
      "text/html": [
       "<table>\n",
       "<tbody>\n",
       "\t<tr><td>1.01 </td><td>3.03 </td><td>5.05 </td><td>7.07 </td><td> 9.09</td></tr>\n",
       "\t<tr><td>2.02 </td><td>4.04 </td><td>6.06 </td><td>8.08 </td><td>10.10</td></tr>\n",
       "</tbody>\n",
       "</table>\n"
      ],
      "text/latex": [
       "\\begin{tabular}{lllll}\n",
       "\t 1.01  & 3.03  & 5.05  & 7.07  &  9.09\\\\\n",
       "\t 2.02  & 4.04  & 6.06  & 8.08  & 10.10\\\\\n",
       "\\end{tabular}\n"
      ],
      "text/markdown": [
       "\n",
       "| 1.01  | 3.03  | 5.05  | 7.07  |  9.09 | \n",
       "| 2.02  | 4.04  | 6.06  | 8.08  | 10.10 | \n",
       "\n",
       "\n"
      ],
      "text/plain": [
       "     [,1] [,2] [,3] [,4] [,5] \n",
       "[1,] 1.01 3.03 5.05 7.07  9.09\n",
       "[2,] 2.02 4.04 6.06 8.08 10.10"
      ]
     },
     "metadata": {},
     "output_type": "display_data"
    }
   ],
   "source": [
    "v <- c(2, 4, 6, 8)\n",
    "v\n",
    "v <- v *1.01\n",
    "v\n",
    "\n",
    "m <- matrix(1:10, 2)\n",
    "m\n",
    "m <- m *1.01\n",
    "m"
   ]
  },
  {
   "cell_type": "code",
   "execution_count": 32,
   "metadata": {},
   "outputs": [
    {
     "data": {
      "text/html": [
       "55"
      ],
      "text/latex": [
       "55"
      ],
      "text/markdown": [
       "55"
      ],
      "text/plain": [
       "[1] 55"
      ]
     },
     "metadata": {},
     "output_type": "display_data"
    }
   ],
   "source": [
    "vec <- 1:10\n",
    "sumvec <- sum(vec)\n",
    "sumvec"
   ]
  },
  {
   "cell_type": "code",
   "execution_count": 33,
   "metadata": {},
   "outputs": [
    {
     "data": {
      "text/html": [
       "<ol class=list-inline>\n",
       "\t<li>1</li>\n",
       "\t<li>4</li>\n",
       "\t<li>9</li>\n",
       "</ol>\n"
      ],
      "text/latex": [
       "\\begin{enumerate*}\n",
       "\\item 1\n",
       "\\item 4\n",
       "\\item 9\n",
       "\\end{enumerate*}\n"
      ],
      "text/markdown": [
       "1. 1\n",
       "2. 4\n",
       "3. 9\n",
       "\n",
       "\n"
      ],
      "text/plain": [
       "[1] 1 4 9"
      ]
     },
     "metadata": {},
     "output_type": "display_data"
    }
   ],
   "source": [
    "vec <- c(1, 2, 3) ^ 2\n",
    "vec"
   ]
  },
  {
   "cell_type": "code",
   "execution_count": 34,
   "metadata": {},
   "outputs": [
    {
     "data": {
      "text/html": [
       "55"
      ],
      "text/latex": [
       "55"
      ],
      "text/markdown": [
       "55"
      ],
      "text/plain": [
       "[1] 55"
      ]
     },
     "metadata": {},
     "output_type": "display_data"
    },
    {
     "data": {
      "text/html": [
       "55"
      ],
      "text/latex": [
       "55"
      ],
      "text/markdown": [
       "55"
      ],
      "text/plain": [
       "[1] 55"
      ]
     },
     "metadata": {},
     "output_type": "display_data"
    }
   ],
   "source": [
    "Reduce(\"+\", 1:10)\n",
    "Reduce (function (x, y) { x + y}, c(1, 2, 3, 4, 5, 6, 7, 8, 9, 10))"
   ]
  },
  {
   "cell_type": "code",
   "execution_count": 35,
   "metadata": {},
   "outputs": [
    {
     "data": {
      "text/html": [
       "'list'"
      ],
      "text/latex": [
       "'list'"
      ],
      "text/markdown": [
       "'list'"
      ],
      "text/plain": [
       "[1] \"list\""
      ]
     },
     "metadata": {},
     "output_type": "display_data"
    },
    {
     "data": {
      "text/html": [
       "<ol>\n",
       "\t<li>1</li>\n",
       "\t<li>4</li>\n",
       "\t<li>9</li>\n",
       "\t<li>16</li>\n",
       "\t<li>25</li>\n",
       "</ol>\n"
      ],
      "text/latex": [
       "\\begin{enumerate}\n",
       "\\item 1\n",
       "\\item 4\n",
       "\\item 9\n",
       "\\item 16\n",
       "\\item 25\n",
       "\\end{enumerate}\n"
      ],
      "text/markdown": [
       "1. 1\n",
       "2. 4\n",
       "3. 9\n",
       "4. 16\n",
       "5. 25\n",
       "\n",
       "\n"
      ],
      "text/plain": [
       "[[1]]\n",
       "[1] 1\n",
       "\n",
       "[[2]]\n",
       "[1] 4\n",
       "\n",
       "[[3]]\n",
       "[1] 9\n",
       "\n",
       "[[4]]\n",
       "[1] 16\n",
       "\n",
       "[[5]]\n",
       "[1] 25\n"
      ]
     },
     "metadata": {},
     "output_type": "display_data"
    }
   ],
   "source": [
    "l <- Map (function (x) { x^2 }, c(1, 2, 3, 4, 5))\n",
    "class(l)\n",
    "l"
   ]
  },
  {
   "cell_type": "code",
   "execution_count": 36,
   "metadata": {},
   "outputs": [
    {
     "data": {
      "text/html": [
       "<ol class=list-inline>\n",
       "\t<li>1</li>\n",
       "\t<li>2</li>\n",
       "\t<li>3</li>\n",
       "</ol>\n"
      ],
      "text/latex": [
       "\\begin{enumerate*}\n",
       "\\item 1\n",
       "\\item 2\n",
       "\\item 3\n",
       "\\end{enumerate*}\n"
      ],
      "text/markdown": [
       "1. 1\n",
       "2. 2\n",
       "3. 3\n",
       "\n",
       "\n"
      ],
      "text/plain": [
       "[1] 1 2 3"
      ]
     },
     "metadata": {},
     "output_type": "display_data"
    }
   ],
   "source": [
    "Filter (function (x) { x < 4 }, c(1, 2, 3, 4, 5))"
   ]
  },
  {
   "cell_type": "markdown",
   "metadata": {},
   "source": [
    "## Getting and Setting the Working Directory"
   ]
  },
  {
   "cell_type": "code",
   "execution_count": 37,
   "metadata": {},
   "outputs": [
    {
     "data": {
      "text/html": [
       "'C:/Users/peterthor/Documents/R_Jupyter'"
      ],
      "text/latex": [
       "'C:/Users/peterthor/Documents/R\\_Jupyter'"
      ],
      "text/markdown": [
       "'C:/Users/peterthor/Documents/R_Jupyter'"
      ],
      "text/plain": [
       "[1] \"C:/Users/peterthor/Documents/R_Jupyter\""
      ]
     },
     "metadata": {},
     "output_type": "display_data"
    },
    {
     "data": {
      "text/html": [
       "<ol class=list-inline>\n",
       "\t<li>'00_WA2711.ipynb'</li>\n",
       "\t<li>'01_Starter_Demos.ipynb'</li>\n",
       "\t<li>'02_Simple_R_Syntax.ipynb'</li>\n",
       "\t<li>'03_Atomic_Classes.ipynb'</li>\n",
       "\t<li>'04_Control_Structures.ipynb'</li>\n",
       "\t<li>'05_The_Base_Plotting_System.ipynb'</li>\n",
       "\t<li>'06_Vectors.ipynb'</li>\n",
       "\t<li>'07_The_plotrix_Graphics_Package.ipynb'</li>\n",
       "\t<li>'08_Lists.ipynb'</li>\n",
       "\t<li>'09_Factors.ipynb'</li>\n",
       "\t<li>'10_Base_R_Sample_Datasets.ipynb'</li>\n",
       "\t<li>'11_Attributes.ipynb'</li>\n",
       "\t<li>'12_Data_Frames.ipynb'</li>\n",
       "\t<li>'13_Date_Time.ipynb'</li>\n",
       "\t<li>'14_Manipulating_Data.ipynb'</li>\n",
       "\t<li>'15_Algorithms.ipynb'</li>\n",
       "\t<li>'16_Xxx.ipynb'</li>\n",
       "\t<li>'17_Linear_Algebra.ipynb'</li>\n",
       "\t<li>'18_Probability_Distributions.ipynb'</li>\n",
       "\t<li>'19_Statistical_Probability_Functions.ipynb'</li>\n",
       "\t<li>'20_Matrices.ipynb'</li>\n",
       "\t<li>'21_Functions.ipynb'</li>\n",
       "\t<li>'22_Logistic_Regression.ipynb'</li>\n",
       "\t<li>'23_Linear_Regression.ipynb'</li>\n",
       "\t<li>'23b_Linear_Regression.ipynb'</li>\n",
       "\t<li>'24_Regression_Correlation.ipynb'</li>\n",
       "\t<li>'25_Object_Oriented_Programming.ipynb'</li>\n",
       "\t<li>'26_The_ggplot2_Package.ipynb'</li>\n",
       "\t<li>'27_Calculus.ipynb'</li>\n",
       "\t<li>'28_The_dplyr_Package.ipynb'</li>\n",
       "\t<li>'29_The_tibble_Package.ipynb'</li>\n",
       "\t<li>'30_The_readr_Package.ipynb'</li>\n",
       "\t<li>'31_The_tidyr_Package.ipynb'</li>\n",
       "\t<li>'32_K_Nearest_Neighbors.ipynb'</li>\n",
       "\t<li>'33_Machine_Learning_Project.ipynb'</li>\n",
       "\t<li>'34_Artificial_Neural_Networks.ipynb'</li>\n",
       "\t<li>'35_Bayesian_Networks.ipynb'</li>\n",
       "\t<li>'36_K_Means_Clustering.ipynb'</li>\n",
       "\t<li>'37_Support_Vector_Machines.ipynb'</li>\n",
       "\t<li>'38_MNIST_Machine_Learning.ipynb'</li>\n",
       "\t<li>'39_Monte_Carlo_Simulation.ipynb'</li>\n",
       "\t<li>'40_Debugging_Performance.ipynb'</li>\n",
       "\t<li>'41_The_plotly_Package.ipynb'</li>\n",
       "\t<li>'data'</li>\n",
       "\t<li>'gapminder.ipynb'</li>\n",
       "\t<li>'images'</li>\n",
       "\t<li>'index.ipynb'</li>\n",
       "\t<li>'My R Course'</li>\n",
       "\t<li>'my.RData'</li>\n",
       "\t<li>'scripts'</li>\n",
       "\t<li>'Untitled.ipynb'</li>\n",
       "</ol>\n"
      ],
      "text/latex": [
       "\\begin{enumerate*}\n",
       "\\item '00\\_WA2711.ipynb'\n",
       "\\item '01\\_Starter\\_Demos.ipynb'\n",
       "\\item '02\\_Simple\\_R\\_Syntax.ipynb'\n",
       "\\item '03\\_Atomic\\_Classes.ipynb'\n",
       "\\item '04\\_Control\\_Structures.ipynb'\n",
       "\\item '05\\_The\\_Base\\_Plotting\\_System.ipynb'\n",
       "\\item '06\\_Vectors.ipynb'\n",
       "\\item '07\\_The\\_plotrix\\_Graphics\\_Package.ipynb'\n",
       "\\item '08\\_Lists.ipynb'\n",
       "\\item '09\\_Factors.ipynb'\n",
       "\\item '10\\_Base\\_R\\_Sample\\_Datasets.ipynb'\n",
       "\\item '11\\_Attributes.ipynb'\n",
       "\\item '12\\_Data\\_Frames.ipynb'\n",
       "\\item '13\\_Date\\_Time.ipynb'\n",
       "\\item '14\\_Manipulating\\_Data.ipynb'\n",
       "\\item '15\\_Algorithms.ipynb'\n",
       "\\item '16\\_Xxx.ipynb'\n",
       "\\item '17\\_Linear\\_Algebra.ipynb'\n",
       "\\item '18\\_Probability\\_Distributions.ipynb'\n",
       "\\item '19\\_Statistical\\_Probability\\_Functions.ipynb'\n",
       "\\item '20\\_Matrices.ipynb'\n",
       "\\item '21\\_Functions.ipynb'\n",
       "\\item '22\\_Logistic\\_Regression.ipynb'\n",
       "\\item '23\\_Linear\\_Regression.ipynb'\n",
       "\\item '23b\\_Linear\\_Regression.ipynb'\n",
       "\\item '24\\_Regression\\_Correlation.ipynb'\n",
       "\\item '25\\_Object\\_Oriented\\_Programming.ipynb'\n",
       "\\item '26\\_The\\_ggplot2\\_Package.ipynb'\n",
       "\\item '27\\_Calculus.ipynb'\n",
       "\\item '28\\_The\\_dplyr\\_Package.ipynb'\n",
       "\\item '29\\_The\\_tibble\\_Package.ipynb'\n",
       "\\item '30\\_The\\_readr\\_Package.ipynb'\n",
       "\\item '31\\_The\\_tidyr\\_Package.ipynb'\n",
       "\\item '32\\_K\\_Nearest\\_Neighbors.ipynb'\n",
       "\\item '33\\_Machine\\_Learning\\_Project.ipynb'\n",
       "\\item '34\\_Artificial\\_Neural\\_Networks.ipynb'\n",
       "\\item '35\\_Bayesian\\_Networks.ipynb'\n",
       "\\item '36\\_K\\_Means\\_Clustering.ipynb'\n",
       "\\item '37\\_Support\\_Vector\\_Machines.ipynb'\n",
       "\\item '38\\_MNIST\\_Machine\\_Learning.ipynb'\n",
       "\\item '39\\_Monte\\_Carlo\\_Simulation.ipynb'\n",
       "\\item '40\\_Debugging\\_Performance.ipynb'\n",
       "\\item '41\\_The\\_plotly\\_Package.ipynb'\n",
       "\\item 'data'\n",
       "\\item 'gapminder.ipynb'\n",
       "\\item 'images'\n",
       "\\item 'index.ipynb'\n",
       "\\item 'My R Course'\n",
       "\\item 'my.RData'\n",
       "\\item 'scripts'\n",
       "\\item 'Untitled.ipynb'\n",
       "\\end{enumerate*}\n"
      ],
      "text/markdown": [
       "1. '00_WA2711.ipynb'\n",
       "2. '01_Starter_Demos.ipynb'\n",
       "3. '02_Simple_R_Syntax.ipynb'\n",
       "4. '03_Atomic_Classes.ipynb'\n",
       "5. '04_Control_Structures.ipynb'\n",
       "6. '05_The_Base_Plotting_System.ipynb'\n",
       "7. '06_Vectors.ipynb'\n",
       "8. '07_The_plotrix_Graphics_Package.ipynb'\n",
       "9. '08_Lists.ipynb'\n",
       "10. '09_Factors.ipynb'\n",
       "11. '10_Base_R_Sample_Datasets.ipynb'\n",
       "12. '11_Attributes.ipynb'\n",
       "13. '12_Data_Frames.ipynb'\n",
       "14. '13_Date_Time.ipynb'\n",
       "15. '14_Manipulating_Data.ipynb'\n",
       "16. '15_Algorithms.ipynb'\n",
       "17. '16_Xxx.ipynb'\n",
       "18. '17_Linear_Algebra.ipynb'\n",
       "19. '18_Probability_Distributions.ipynb'\n",
       "20. '19_Statistical_Probability_Functions.ipynb'\n",
       "21. '20_Matrices.ipynb'\n",
       "22. '21_Functions.ipynb'\n",
       "23. '22_Logistic_Regression.ipynb'\n",
       "24. '23_Linear_Regression.ipynb'\n",
       "25. '23b_Linear_Regression.ipynb'\n",
       "26. '24_Regression_Correlation.ipynb'\n",
       "27. '25_Object_Oriented_Programming.ipynb'\n",
       "28. '26_The_ggplot2_Package.ipynb'\n",
       "29. '27_Calculus.ipynb'\n",
       "30. '28_The_dplyr_Package.ipynb'\n",
       "31. '29_The_tibble_Package.ipynb'\n",
       "32. '30_The_readr_Package.ipynb'\n",
       "33. '31_The_tidyr_Package.ipynb'\n",
       "34. '32_K_Nearest_Neighbors.ipynb'\n",
       "35. '33_Machine_Learning_Project.ipynb'\n",
       "36. '34_Artificial_Neural_Networks.ipynb'\n",
       "37. '35_Bayesian_Networks.ipynb'\n",
       "38. '36_K_Means_Clustering.ipynb'\n",
       "39. '37_Support_Vector_Machines.ipynb'\n",
       "40. '38_MNIST_Machine_Learning.ipynb'\n",
       "41. '39_Monte_Carlo_Simulation.ipynb'\n",
       "42. '40_Debugging_Performance.ipynb'\n",
       "43. '41_The_plotly_Package.ipynb'\n",
       "44. 'data'\n",
       "45. 'gapminder.ipynb'\n",
       "46. 'images'\n",
       "47. 'index.ipynb'\n",
       "48. 'My R Course'\n",
       "49. 'my.RData'\n",
       "50. 'scripts'\n",
       "51. 'Untitled.ipynb'\n",
       "\n",
       "\n"
      ],
      "text/plain": [
       " [1] \"00_WA2711.ipynb\"                           \n",
       " [2] \"01_Starter_Demos.ipynb\"                    \n",
       " [3] \"02_Simple_R_Syntax.ipynb\"                  \n",
       " [4] \"03_Atomic_Classes.ipynb\"                   \n",
       " [5] \"04_Control_Structures.ipynb\"               \n",
       " [6] \"05_The_Base_Plotting_System.ipynb\"         \n",
       " [7] \"06_Vectors.ipynb\"                          \n",
       " [8] \"07_The_plotrix_Graphics_Package.ipynb\"     \n",
       " [9] \"08_Lists.ipynb\"                            \n",
       "[10] \"09_Factors.ipynb\"                          \n",
       "[11] \"10_Base_R_Sample_Datasets.ipynb\"           \n",
       "[12] \"11_Attributes.ipynb\"                       \n",
       "[13] \"12_Data_Frames.ipynb\"                      \n",
       "[14] \"13_Date_Time.ipynb\"                        \n",
       "[15] \"14_Manipulating_Data.ipynb\"                \n",
       "[16] \"15_Algorithms.ipynb\"                       \n",
       "[17] \"16_Xxx.ipynb\"                              \n",
       "[18] \"17_Linear_Algebra.ipynb\"                   \n",
       "[19] \"18_Probability_Distributions.ipynb\"        \n",
       "[20] \"19_Statistical_Probability_Functions.ipynb\"\n",
       "[21] \"20_Matrices.ipynb\"                         \n",
       "[22] \"21_Functions.ipynb\"                        \n",
       "[23] \"22_Logistic_Regression.ipynb\"              \n",
       "[24] \"23_Linear_Regression.ipynb\"                \n",
       "[25] \"23b_Linear_Regression.ipynb\"               \n",
       "[26] \"24_Regression_Correlation.ipynb\"           \n",
       "[27] \"25_Object_Oriented_Programming.ipynb\"      \n",
       "[28] \"26_The_ggplot2_Package.ipynb\"              \n",
       "[29] \"27_Calculus.ipynb\"                         \n",
       "[30] \"28_The_dplyr_Package.ipynb\"                \n",
       "[31] \"29_The_tibble_Package.ipynb\"               \n",
       "[32] \"30_The_readr_Package.ipynb\"                \n",
       "[33] \"31_The_tidyr_Package.ipynb\"                \n",
       "[34] \"32_K_Nearest_Neighbors.ipynb\"              \n",
       "[35] \"33_Machine_Learning_Project.ipynb\"         \n",
       "[36] \"34_Artificial_Neural_Networks.ipynb\"       \n",
       "[37] \"35_Bayesian_Networks.ipynb\"                \n",
       "[38] \"36_K_Means_Clustering.ipynb\"               \n",
       "[39] \"37_Support_Vector_Machines.ipynb\"          \n",
       "[40] \"38_MNIST_Machine_Learning.ipynb\"           \n",
       "[41] \"39_Monte_Carlo_Simulation.ipynb\"           \n",
       "[42] \"40_Debugging_Performance.ipynb\"            \n",
       "[43] \"41_The_plotly_Package.ipynb\"               \n",
       "[44] \"data\"                                      \n",
       "[45] \"gapminder.ipynb\"                           \n",
       "[46] \"images\"                                    \n",
       "[47] \"index.ipynb\"                               \n",
       "[48] \"My R Course\"                               \n",
       "[49] \"my.RData\"                                  \n",
       "[50] \"scripts\"                                   \n",
       "[51] \"Untitled.ipynb\"                            "
      ]
     },
     "metadata": {},
     "output_type": "display_data"
    }
   ],
   "source": [
    "getwd()\n",
    "list.files()"
   ]
  },
  {
   "cell_type": "code",
   "execution_count": 38,
   "metadata": {},
   "outputs": [
    {
     "data": {
      "text/html": [
       "'C:/Users/peterthor/Documents'"
      ],
      "text/latex": [
       "'C:/Users/peterthor/Documents'"
      ],
      "text/markdown": [
       "'C:/Users/peterthor/Documents'"
      ],
      "text/plain": [
       "[1] \"C:/Users/peterthor/Documents\""
      ]
     },
     "metadata": {},
     "output_type": "display_data"
    },
    {
     "data": {
      "text/html": [
       "<ol class=list-inline>\n",
       "\t<li>'AndroidStudio'</li>\n",
       "\t<li>'ASUS'</li>\n",
       "\t<li>'Audacity'</li>\n",
       "\t<li>'Bluetooth Folder'</li>\n",
       "\t<li>'cache'</li>\n",
       "\t<li>'Camtasia Studio'</li>\n",
       "\t<li>'ChatLog Austin_s Meeting 2018_06_29 15_29.rtf'</li>\n",
       "\t<li>'ChatLog Conference call 2018_05_31 10_18.rtf'</li>\n",
       "\t<li>'ChatLog Numerical Programming_ Understanding Python_ Numpy _ Matplotlib 2018_07_10 13_57.rtf'</li>\n",
       "\t<li>'CPP_Jupyter'</li>\n",
       "\t<li>'Custom Office Templates'</li>\n",
       "\t<li>'Default.rdp'</li>\n",
       "\t<li>'desktop.ini'</li>\n",
       "\t<li>'Fax'</li>\n",
       "\t<li>'FreshStart'</li>\n",
       "\t<li>'GitHub'</li>\n",
       "\t<li>'Graphics'</li>\n",
       "\t<li>'IISExpress'</li>\n",
       "\t<li>'JS_Jupyter'</li>\n",
       "\t<li>'My Music'</li>\n",
       "\t<li>'My Pictures'</li>\n",
       "\t<li>'My Videos'</li>\n",
       "\t<li>'OneNote Notebooks'</li>\n",
       "\t<li>'Py_Jupyter'</li>\n",
       "\t<li>'Python Scripts'</li>\n",
       "\t<li>'R'</li>\n",
       "\t<li>'R_Jupyter'</li>\n",
       "\t<li>'Scanned Documents'</li>\n",
       "\t<li>'Sound recordings'</li>\n",
       "\t<li>'Visual Studio 2013'</li>\n",
       "\t<li>'Visual Studio 2015'</li>\n",
       "\t<li>'Visual Studio 2017'</li>\n",
       "\t<li>'Zoom'</li>\n",
       "</ol>\n"
      ],
      "text/latex": [
       "\\begin{enumerate*}\n",
       "\\item 'AndroidStudio'\n",
       "\\item 'ASUS'\n",
       "\\item 'Audacity'\n",
       "\\item 'Bluetooth Folder'\n",
       "\\item 'cache'\n",
       "\\item 'Camtasia Studio'\n",
       "\\item 'ChatLog Austin\\_s Meeting 2018\\_06\\_29 15\\_29.rtf'\n",
       "\\item 'ChatLog Conference call 2018\\_05\\_31 10\\_18.rtf'\n",
       "\\item 'ChatLog Numerical Programming\\_ Understanding Python\\_ Numpy \\_ Matplotlib 2018\\_07\\_10 13\\_57.rtf'\n",
       "\\item 'CPP\\_Jupyter'\n",
       "\\item 'Custom Office Templates'\n",
       "\\item 'Default.rdp'\n",
       "\\item 'desktop.ini'\n",
       "\\item 'Fax'\n",
       "\\item 'FreshStart'\n",
       "\\item 'GitHub'\n",
       "\\item 'Graphics'\n",
       "\\item 'IISExpress'\n",
       "\\item 'JS\\_Jupyter'\n",
       "\\item 'My Music'\n",
       "\\item 'My Pictures'\n",
       "\\item 'My Videos'\n",
       "\\item 'OneNote Notebooks'\n",
       "\\item 'Py\\_Jupyter'\n",
       "\\item 'Python Scripts'\n",
       "\\item 'R'\n",
       "\\item 'R\\_Jupyter'\n",
       "\\item 'Scanned Documents'\n",
       "\\item 'Sound recordings'\n",
       "\\item 'Visual Studio 2013'\n",
       "\\item 'Visual Studio 2015'\n",
       "\\item 'Visual Studio 2017'\n",
       "\\item 'Zoom'\n",
       "\\end{enumerate*}\n"
      ],
      "text/markdown": [
       "1. 'AndroidStudio'\n",
       "2. 'ASUS'\n",
       "3. 'Audacity'\n",
       "4. 'Bluetooth Folder'\n",
       "5. 'cache'\n",
       "6. 'Camtasia Studio'\n",
       "7. 'ChatLog Austin_s Meeting 2018_06_29 15_29.rtf'\n",
       "8. 'ChatLog Conference call 2018_05_31 10_18.rtf'\n",
       "9. 'ChatLog Numerical Programming_ Understanding Python_ Numpy _ Matplotlib 2018_07_10 13_57.rtf'\n",
       "10. 'CPP_Jupyter'\n",
       "11. 'Custom Office Templates'\n",
       "12. 'Default.rdp'\n",
       "13. 'desktop.ini'\n",
       "14. 'Fax'\n",
       "15. 'FreshStart'\n",
       "16. 'GitHub'\n",
       "17. 'Graphics'\n",
       "18. 'IISExpress'\n",
       "19. 'JS_Jupyter'\n",
       "20. 'My Music'\n",
       "21. 'My Pictures'\n",
       "22. 'My Videos'\n",
       "23. 'OneNote Notebooks'\n",
       "24. 'Py_Jupyter'\n",
       "25. 'Python Scripts'\n",
       "26. 'R'\n",
       "27. 'R_Jupyter'\n",
       "28. 'Scanned Documents'\n",
       "29. 'Sound recordings'\n",
       "30. 'Visual Studio 2013'\n",
       "31. 'Visual Studio 2015'\n",
       "32. 'Visual Studio 2017'\n",
       "33. 'Zoom'\n",
       "\n",
       "\n"
      ],
      "text/plain": [
       " [1] \"AndroidStudio\"                                                                               \n",
       " [2] \"ASUS\"                                                                                        \n",
       " [3] \"Audacity\"                                                                                    \n",
       " [4] \"Bluetooth Folder\"                                                                            \n",
       " [5] \"cache\"                                                                                       \n",
       " [6] \"Camtasia Studio\"                                                                             \n",
       " [7] \"ChatLog Austin_s Meeting 2018_06_29 15_29.rtf\"                                               \n",
       " [8] \"ChatLog Conference call 2018_05_31 10_18.rtf\"                                                \n",
       " [9] \"ChatLog Numerical Programming_ Understanding Python_ Numpy _ Matplotlib 2018_07_10 13_57.rtf\"\n",
       "[10] \"CPP_Jupyter\"                                                                                 \n",
       "[11] \"Custom Office Templates\"                                                                     \n",
       "[12] \"Default.rdp\"                                                                                 \n",
       "[13] \"desktop.ini\"                                                                                 \n",
       "[14] \"Fax\"                                                                                         \n",
       "[15] \"FreshStart\"                                                                                  \n",
       "[16] \"GitHub\"                                                                                      \n",
       "[17] \"Graphics\"                                                                                    \n",
       "[18] \"IISExpress\"                                                                                  \n",
       "[19] \"JS_Jupyter\"                                                                                  \n",
       "[20] \"My Music\"                                                                                    \n",
       "[21] \"My Pictures\"                                                                                 \n",
       "[22] \"My Videos\"                                                                                   \n",
       "[23] \"OneNote Notebooks\"                                                                           \n",
       "[24] \"Py_Jupyter\"                                                                                  \n",
       "[25] \"Python Scripts\"                                                                              \n",
       "[26] \"R\"                                                                                           \n",
       "[27] \"R_Jupyter\"                                                                                   \n",
       "[28] \"Scanned Documents\"                                                                           \n",
       "[29] \"Sound recordings\"                                                                            \n",
       "[30] \"Visual Studio 2013\"                                                                          \n",
       "[31] \"Visual Studio 2015\"                                                                          \n",
       "[32] \"Visual Studio 2017\"                                                                          \n",
       "[33] \"Zoom\"                                                                                        "
      ]
     },
     "metadata": {},
     "output_type": "display_data"
    },
    {
     "data": {
      "text/html": [
       "'C:/Users/peterthor/Documents/R_Jupyter'"
      ],
      "text/latex": [
       "'C:/Users/peterthor/Documents/R\\_Jupyter'"
      ],
      "text/markdown": [
       "'C:/Users/peterthor/Documents/R_Jupyter'"
      ],
      "text/plain": [
       "[1] \"C:/Users/peterthor/Documents/R_Jupyter\""
      ]
     },
     "metadata": {},
     "output_type": "display_data"
    },
    {
     "data": {
      "text/html": [
       "<ol class=list-inline>\n",
       "\t<li>'00_WA2711.ipynb'</li>\n",
       "\t<li>'01_Starter_Demos.ipynb'</li>\n",
       "\t<li>'02_Simple_R_Syntax.ipynb'</li>\n",
       "\t<li>'03_Atomic_Classes.ipynb'</li>\n",
       "\t<li>'04_Control_Structures.ipynb'</li>\n",
       "\t<li>'05_The_Base_Plotting_System.ipynb'</li>\n",
       "\t<li>'06_Vectors.ipynb'</li>\n",
       "\t<li>'07_The_plotrix_Graphics_Package.ipynb'</li>\n",
       "\t<li>'08_Lists.ipynb'</li>\n",
       "\t<li>'09_Factors.ipynb'</li>\n",
       "\t<li>'10_Base_R_Sample_Datasets.ipynb'</li>\n",
       "\t<li>'11_Attributes.ipynb'</li>\n",
       "\t<li>'12_Data_Frames.ipynb'</li>\n",
       "\t<li>'13_Date_Time.ipynb'</li>\n",
       "\t<li>'14_Manipulating_Data.ipynb'</li>\n",
       "\t<li>'15_Algorithms.ipynb'</li>\n",
       "\t<li>'16_Xxx.ipynb'</li>\n",
       "\t<li>'17_Linear_Algebra.ipynb'</li>\n",
       "\t<li>'18_Probability_Distributions.ipynb'</li>\n",
       "\t<li>'19_Statistical_Probability_Functions.ipynb'</li>\n",
       "\t<li>'20_Matrices.ipynb'</li>\n",
       "\t<li>'21_Functions.ipynb'</li>\n",
       "\t<li>'22_Logistic_Regression.ipynb'</li>\n",
       "\t<li>'23_Linear_Regression.ipynb'</li>\n",
       "\t<li>'23b_Linear_Regression.ipynb'</li>\n",
       "\t<li>'24_Regression_Correlation.ipynb'</li>\n",
       "\t<li>'25_Object_Oriented_Programming.ipynb'</li>\n",
       "\t<li>'26_The_ggplot2_Package.ipynb'</li>\n",
       "\t<li>'27_Calculus.ipynb'</li>\n",
       "\t<li>'28_The_dplyr_Package.ipynb'</li>\n",
       "\t<li>'29_The_tibble_Package.ipynb'</li>\n",
       "\t<li>'30_The_readr_Package.ipynb'</li>\n",
       "\t<li>'31_The_tidyr_Package.ipynb'</li>\n",
       "\t<li>'32_K_Nearest_Neighbors.ipynb'</li>\n",
       "\t<li>'33_Machine_Learning_Project.ipynb'</li>\n",
       "\t<li>'34_Artificial_Neural_Networks.ipynb'</li>\n",
       "\t<li>'35_Bayesian_Networks.ipynb'</li>\n",
       "\t<li>'36_K_Means_Clustering.ipynb'</li>\n",
       "\t<li>'37_Support_Vector_Machines.ipynb'</li>\n",
       "\t<li>'38_MNIST_Machine_Learning.ipynb'</li>\n",
       "\t<li>'39_Monte_Carlo_Simulation.ipynb'</li>\n",
       "\t<li>'40_Debugging_Performance.ipynb'</li>\n",
       "\t<li>'41_The_plotly_Package.ipynb'</li>\n",
       "\t<li>'data'</li>\n",
       "\t<li>'gapminder.ipynb'</li>\n",
       "\t<li>'images'</li>\n",
       "\t<li>'index.ipynb'</li>\n",
       "\t<li>'My R Course'</li>\n",
       "\t<li>'my.RData'</li>\n",
       "\t<li>'scripts'</li>\n",
       "\t<li>'Untitled.ipynb'</li>\n",
       "</ol>\n"
      ],
      "text/latex": [
       "\\begin{enumerate*}\n",
       "\\item '00\\_WA2711.ipynb'\n",
       "\\item '01\\_Starter\\_Demos.ipynb'\n",
       "\\item '02\\_Simple\\_R\\_Syntax.ipynb'\n",
       "\\item '03\\_Atomic\\_Classes.ipynb'\n",
       "\\item '04\\_Control\\_Structures.ipynb'\n",
       "\\item '05\\_The\\_Base\\_Plotting\\_System.ipynb'\n",
       "\\item '06\\_Vectors.ipynb'\n",
       "\\item '07\\_The\\_plotrix\\_Graphics\\_Package.ipynb'\n",
       "\\item '08\\_Lists.ipynb'\n",
       "\\item '09\\_Factors.ipynb'\n",
       "\\item '10\\_Base\\_R\\_Sample\\_Datasets.ipynb'\n",
       "\\item '11\\_Attributes.ipynb'\n",
       "\\item '12\\_Data\\_Frames.ipynb'\n",
       "\\item '13\\_Date\\_Time.ipynb'\n",
       "\\item '14\\_Manipulating\\_Data.ipynb'\n",
       "\\item '15\\_Algorithms.ipynb'\n",
       "\\item '16\\_Xxx.ipynb'\n",
       "\\item '17\\_Linear\\_Algebra.ipynb'\n",
       "\\item '18\\_Probability\\_Distributions.ipynb'\n",
       "\\item '19\\_Statistical\\_Probability\\_Functions.ipynb'\n",
       "\\item '20\\_Matrices.ipynb'\n",
       "\\item '21\\_Functions.ipynb'\n",
       "\\item '22\\_Logistic\\_Regression.ipynb'\n",
       "\\item '23\\_Linear\\_Regression.ipynb'\n",
       "\\item '23b\\_Linear\\_Regression.ipynb'\n",
       "\\item '24\\_Regression\\_Correlation.ipynb'\n",
       "\\item '25\\_Object\\_Oriented\\_Programming.ipynb'\n",
       "\\item '26\\_The\\_ggplot2\\_Package.ipynb'\n",
       "\\item '27\\_Calculus.ipynb'\n",
       "\\item '28\\_The\\_dplyr\\_Package.ipynb'\n",
       "\\item '29\\_The\\_tibble\\_Package.ipynb'\n",
       "\\item '30\\_The\\_readr\\_Package.ipynb'\n",
       "\\item '31\\_The\\_tidyr\\_Package.ipynb'\n",
       "\\item '32\\_K\\_Nearest\\_Neighbors.ipynb'\n",
       "\\item '33\\_Machine\\_Learning\\_Project.ipynb'\n",
       "\\item '34\\_Artificial\\_Neural\\_Networks.ipynb'\n",
       "\\item '35\\_Bayesian\\_Networks.ipynb'\n",
       "\\item '36\\_K\\_Means\\_Clustering.ipynb'\n",
       "\\item '37\\_Support\\_Vector\\_Machines.ipynb'\n",
       "\\item '38\\_MNIST\\_Machine\\_Learning.ipynb'\n",
       "\\item '39\\_Monte\\_Carlo\\_Simulation.ipynb'\n",
       "\\item '40\\_Debugging\\_Performance.ipynb'\n",
       "\\item '41\\_The\\_plotly\\_Package.ipynb'\n",
       "\\item 'data'\n",
       "\\item 'gapminder.ipynb'\n",
       "\\item 'images'\n",
       "\\item 'index.ipynb'\n",
       "\\item 'My R Course'\n",
       "\\item 'my.RData'\n",
       "\\item 'scripts'\n",
       "\\item 'Untitled.ipynb'\n",
       "\\end{enumerate*}\n"
      ],
      "text/markdown": [
       "1. '00_WA2711.ipynb'\n",
       "2. '01_Starter_Demos.ipynb'\n",
       "3. '02_Simple_R_Syntax.ipynb'\n",
       "4. '03_Atomic_Classes.ipynb'\n",
       "5. '04_Control_Structures.ipynb'\n",
       "6. '05_The_Base_Plotting_System.ipynb'\n",
       "7. '06_Vectors.ipynb'\n",
       "8. '07_The_plotrix_Graphics_Package.ipynb'\n",
       "9. '08_Lists.ipynb'\n",
       "10. '09_Factors.ipynb'\n",
       "11. '10_Base_R_Sample_Datasets.ipynb'\n",
       "12. '11_Attributes.ipynb'\n",
       "13. '12_Data_Frames.ipynb'\n",
       "14. '13_Date_Time.ipynb'\n",
       "15. '14_Manipulating_Data.ipynb'\n",
       "16. '15_Algorithms.ipynb'\n",
       "17. '16_Xxx.ipynb'\n",
       "18. '17_Linear_Algebra.ipynb'\n",
       "19. '18_Probability_Distributions.ipynb'\n",
       "20. '19_Statistical_Probability_Functions.ipynb'\n",
       "21. '20_Matrices.ipynb'\n",
       "22. '21_Functions.ipynb'\n",
       "23. '22_Logistic_Regression.ipynb'\n",
       "24. '23_Linear_Regression.ipynb'\n",
       "25. '23b_Linear_Regression.ipynb'\n",
       "26. '24_Regression_Correlation.ipynb'\n",
       "27. '25_Object_Oriented_Programming.ipynb'\n",
       "28. '26_The_ggplot2_Package.ipynb'\n",
       "29. '27_Calculus.ipynb'\n",
       "30. '28_The_dplyr_Package.ipynb'\n",
       "31. '29_The_tibble_Package.ipynb'\n",
       "32. '30_The_readr_Package.ipynb'\n",
       "33. '31_The_tidyr_Package.ipynb'\n",
       "34. '32_K_Nearest_Neighbors.ipynb'\n",
       "35. '33_Machine_Learning_Project.ipynb'\n",
       "36. '34_Artificial_Neural_Networks.ipynb'\n",
       "37. '35_Bayesian_Networks.ipynb'\n",
       "38. '36_K_Means_Clustering.ipynb'\n",
       "39. '37_Support_Vector_Machines.ipynb'\n",
       "40. '38_MNIST_Machine_Learning.ipynb'\n",
       "41. '39_Monte_Carlo_Simulation.ipynb'\n",
       "42. '40_Debugging_Performance.ipynb'\n",
       "43. '41_The_plotly_Package.ipynb'\n",
       "44. 'data'\n",
       "45. 'gapminder.ipynb'\n",
       "46. 'images'\n",
       "47. 'index.ipynb'\n",
       "48. 'My R Course'\n",
       "49. 'my.RData'\n",
       "50. 'scripts'\n",
       "51. 'Untitled.ipynb'\n",
       "\n",
       "\n"
      ],
      "text/plain": [
       " [1] \"00_WA2711.ipynb\"                           \n",
       " [2] \"01_Starter_Demos.ipynb\"                    \n",
       " [3] \"02_Simple_R_Syntax.ipynb\"                  \n",
       " [4] \"03_Atomic_Classes.ipynb\"                   \n",
       " [5] \"04_Control_Structures.ipynb\"               \n",
       " [6] \"05_The_Base_Plotting_System.ipynb\"         \n",
       " [7] \"06_Vectors.ipynb\"                          \n",
       " [8] \"07_The_plotrix_Graphics_Package.ipynb\"     \n",
       " [9] \"08_Lists.ipynb\"                            \n",
       "[10] \"09_Factors.ipynb\"                          \n",
       "[11] \"10_Base_R_Sample_Datasets.ipynb\"           \n",
       "[12] \"11_Attributes.ipynb\"                       \n",
       "[13] \"12_Data_Frames.ipynb\"                      \n",
       "[14] \"13_Date_Time.ipynb\"                        \n",
       "[15] \"14_Manipulating_Data.ipynb\"                \n",
       "[16] \"15_Algorithms.ipynb\"                       \n",
       "[17] \"16_Xxx.ipynb\"                              \n",
       "[18] \"17_Linear_Algebra.ipynb\"                   \n",
       "[19] \"18_Probability_Distributions.ipynb\"        \n",
       "[20] \"19_Statistical_Probability_Functions.ipynb\"\n",
       "[21] \"20_Matrices.ipynb\"                         \n",
       "[22] \"21_Functions.ipynb\"                        \n",
       "[23] \"22_Logistic_Regression.ipynb\"              \n",
       "[24] \"23_Linear_Regression.ipynb\"                \n",
       "[25] \"23b_Linear_Regression.ipynb\"               \n",
       "[26] \"24_Regression_Correlation.ipynb\"           \n",
       "[27] \"25_Object_Oriented_Programming.ipynb\"      \n",
       "[28] \"26_The_ggplot2_Package.ipynb\"              \n",
       "[29] \"27_Calculus.ipynb\"                         \n",
       "[30] \"28_The_dplyr_Package.ipynb\"                \n",
       "[31] \"29_The_tibble_Package.ipynb\"               \n",
       "[32] \"30_The_readr_Package.ipynb\"                \n",
       "[33] \"31_The_tidyr_Package.ipynb\"                \n",
       "[34] \"32_K_Nearest_Neighbors.ipynb\"              \n",
       "[35] \"33_Machine_Learning_Project.ipynb\"         \n",
       "[36] \"34_Artificial_Neural_Networks.ipynb\"       \n",
       "[37] \"35_Bayesian_Networks.ipynb\"                \n",
       "[38] \"36_K_Means_Clustering.ipynb\"               \n",
       "[39] \"37_Support_Vector_Machines.ipynb\"          \n",
       "[40] \"38_MNIST_Machine_Learning.ipynb\"           \n",
       "[41] \"39_Monte_Carlo_Simulation.ipynb\"           \n",
       "[42] \"40_Debugging_Performance.ipynb\"            \n",
       "[43] \"41_The_plotly_Package.ipynb\"               \n",
       "[44] \"data\"                                      \n",
       "[45] \"gapminder.ipynb\"                           \n",
       "[46] \"images\"                                    \n",
       "[47] \"index.ipynb\"                               \n",
       "[48] \"My R Course\"                               \n",
       "[49] \"my.RData\"                                  \n",
       "[50] \"scripts\"                                   \n",
       "[51] \"Untitled.ipynb\"                            "
      ]
     },
     "metadata": {},
     "output_type": "display_data"
    }
   ],
   "source": [
    "saveDir <- getwd()\n",
    "setwd(\"..\")\n",
    "getwd()\n",
    "list.files()\n",
    "setwd(saveDir)\n",
    "getwd()\n",
    "list.files()"
   ]
  },
  {
   "cell_type": "markdown",
   "metadata": {},
   "source": [
    "## The R Home Directory"
   ]
  },
  {
   "cell_type": "code",
   "execution_count": 39,
   "metadata": {},
   "outputs": [
    {
     "data": {
      "text/html": [
       "'C:/Users/peterthor/Anaconda3/lib/R'"
      ],
      "text/latex": [
       "'C:/Users/peterthor/Anaconda3/lib/R'"
      ],
      "text/markdown": [
       "'C:/Users/peterthor/Anaconda3/lib/R'"
      ],
      "text/plain": [
       "[1] \"C:/Users/peterthor/Anaconda3/lib/R\""
      ]
     },
     "metadata": {},
     "output_type": "display_data"
    }
   ],
   "source": [
    "R.home()"
   ]
  },
  {
   "cell_type": "markdown",
   "metadata": {},
   "source": [
    "## Loading External R commands"
   ]
  },
  {
   "cell_type": "code",
   "execution_count": 40,
   "metadata": {},
   "outputs": [],
   "source": [
    "help('source')"
   ]
  },
  {
   "cell_type": "markdown",
   "metadata": {},
   "source": [
    "## Listing Objects in Workspace\n",
    "- ```objects()```\n",
    "- ```ls()```"
   ]
  },
  {
   "cell_type": "code",
   "execution_count": 41,
   "metadata": {},
   "outputs": [
    {
     "data": {
      "text/html": [
       "<ol class=list-inline>\n",
       "\t<li>'a'</li>\n",
       "\t<li>'b'</li>\n",
       "\t<li>'c'</li>\n",
       "\t<li>'d'</li>\n",
       "\t<li>'df'</li>\n",
       "\t<li>'el'</li>\n",
       "\t<li>'f'</li>\n",
       "\t<li>'fun'</li>\n",
       "\t<li>'i'</li>\n",
       "\t<li>'j'</li>\n",
       "\t<li>'l'</li>\n",
       "\t<li>'m'</li>\n",
       "\t<li>'max'</li>\n",
       "\t<li>'myFunction'</li>\n",
       "\t<li>'saveDir'</li>\n",
       "\t<li>'sumvec'</li>\n",
       "\t<li>'v'</li>\n",
       "\t<li>'v1'</li>\n",
       "\t<li>'v2'</li>\n",
       "\t<li>'vec'</li>\n",
       "\t<li>'x'</li>\n",
       "\t<li>'y'</li>\n",
       "</ol>\n"
      ],
      "text/latex": [
       "\\begin{enumerate*}\n",
       "\\item 'a'\n",
       "\\item 'b'\n",
       "\\item 'c'\n",
       "\\item 'd'\n",
       "\\item 'df'\n",
       "\\item 'el'\n",
       "\\item 'f'\n",
       "\\item 'fun'\n",
       "\\item 'i'\n",
       "\\item 'j'\n",
       "\\item 'l'\n",
       "\\item 'm'\n",
       "\\item 'max'\n",
       "\\item 'myFunction'\n",
       "\\item 'saveDir'\n",
       "\\item 'sumvec'\n",
       "\\item 'v'\n",
       "\\item 'v1'\n",
       "\\item 'v2'\n",
       "\\item 'vec'\n",
       "\\item 'x'\n",
       "\\item 'y'\n",
       "\\end{enumerate*}\n"
      ],
      "text/markdown": [
       "1. 'a'\n",
       "2. 'b'\n",
       "3. 'c'\n",
       "4. 'd'\n",
       "5. 'df'\n",
       "6. 'el'\n",
       "7. 'f'\n",
       "8. 'fun'\n",
       "9. 'i'\n",
       "10. 'j'\n",
       "11. 'l'\n",
       "12. 'm'\n",
       "13. 'max'\n",
       "14. 'myFunction'\n",
       "15. 'saveDir'\n",
       "16. 'sumvec'\n",
       "17. 'v'\n",
       "18. 'v1'\n",
       "19. 'v2'\n",
       "20. 'vec'\n",
       "21. 'x'\n",
       "22. 'y'\n",
       "\n",
       "\n"
      ],
      "text/plain": [
       " [1] \"a\"          \"b\"          \"c\"          \"d\"          \"df\"        \n",
       " [6] \"el\"         \"f\"          \"fun\"        \"i\"          \"j\"         \n",
       "[11] \"l\"          \"m\"          \"max\"        \"myFunction\" \"saveDir\"   \n",
       "[16] \"sumvec\"     \"v\"          \"v1\"         \"v2\"         \"vec\"       \n",
       "[21] \"x\"          \"y\"         "
      ]
     },
     "metadata": {},
     "output_type": "display_data"
    }
   ],
   "source": [
    "objects()"
   ]
  },
  {
   "cell_type": "code",
   "execution_count": 42,
   "metadata": {},
   "outputs": [
    {
     "data": {
      "text/html": [
       "<ol class=list-inline>\n",
       "\t<li>'a'</li>\n",
       "\t<li>'b'</li>\n",
       "\t<li>'c'</li>\n",
       "\t<li>'d'</li>\n",
       "\t<li>'df'</li>\n",
       "\t<li>'el'</li>\n",
       "\t<li>'f'</li>\n",
       "\t<li>'fun'</li>\n",
       "\t<li>'i'</li>\n",
       "\t<li>'j'</li>\n",
       "\t<li>'l'</li>\n",
       "\t<li>'m'</li>\n",
       "\t<li>'max'</li>\n",
       "\t<li>'myFunction'</li>\n",
       "\t<li>'saveDir'</li>\n",
       "\t<li>'sumvec'</li>\n",
       "\t<li>'v'</li>\n",
       "\t<li>'v1'</li>\n",
       "\t<li>'v2'</li>\n",
       "\t<li>'vec'</li>\n",
       "\t<li>'x'</li>\n",
       "\t<li>'y'</li>\n",
       "</ol>\n"
      ],
      "text/latex": [
       "\\begin{enumerate*}\n",
       "\\item 'a'\n",
       "\\item 'b'\n",
       "\\item 'c'\n",
       "\\item 'd'\n",
       "\\item 'df'\n",
       "\\item 'el'\n",
       "\\item 'f'\n",
       "\\item 'fun'\n",
       "\\item 'i'\n",
       "\\item 'j'\n",
       "\\item 'l'\n",
       "\\item 'm'\n",
       "\\item 'max'\n",
       "\\item 'myFunction'\n",
       "\\item 'saveDir'\n",
       "\\item 'sumvec'\n",
       "\\item 'v'\n",
       "\\item 'v1'\n",
       "\\item 'v2'\n",
       "\\item 'vec'\n",
       "\\item 'x'\n",
       "\\item 'y'\n",
       "\\end{enumerate*}\n"
      ],
      "text/markdown": [
       "1. 'a'\n",
       "2. 'b'\n",
       "3. 'c'\n",
       "4. 'd'\n",
       "5. 'df'\n",
       "6. 'el'\n",
       "7. 'f'\n",
       "8. 'fun'\n",
       "9. 'i'\n",
       "10. 'j'\n",
       "11. 'l'\n",
       "12. 'm'\n",
       "13. 'max'\n",
       "14. 'myFunction'\n",
       "15. 'saveDir'\n",
       "16. 'sumvec'\n",
       "17. 'v'\n",
       "18. 'v1'\n",
       "19. 'v2'\n",
       "20. 'vec'\n",
       "21. 'x'\n",
       "22. 'y'\n",
       "\n",
       "\n"
      ],
      "text/plain": [
       " [1] \"a\"          \"b\"          \"c\"          \"d\"          \"df\"        \n",
       " [6] \"el\"         \"f\"          \"fun\"        \"i\"          \"j\"         \n",
       "[11] \"l\"          \"m\"          \"max\"        \"myFunction\" \"saveDir\"   \n",
       "[16] \"sumvec\"     \"v\"          \"v1\"         \"v2\"         \"vec\"       \n",
       "[21] \"x\"          \"y\"         "
      ]
     },
     "metadata": {},
     "output_type": "display_data"
    }
   ],
   "source": [
    "ls()"
   ]
  },
  {
   "cell_type": "markdown",
   "metadata": {},
   "source": [
    "## Removing Objects in Workspace"
   ]
  },
  {
   "cell_type": "code",
   "execution_count": 43,
   "metadata": {},
   "outputs": [
    {
     "data": {
      "text/html": [
       "<ol class=list-inline>\n",
       "\t<li>'a'</li>\n",
       "\t<li>'b'</li>\n",
       "\t<li>'c'</li>\n",
       "\t<li>'d'</li>\n",
       "\t<li>'df'</li>\n",
       "\t<li>'el'</li>\n",
       "\t<li>'f'</li>\n",
       "\t<li>'fun'</li>\n",
       "\t<li>'i'</li>\n",
       "\t<li>'j'</li>\n",
       "\t<li>'l'</li>\n",
       "\t<li>'m'</li>\n",
       "\t<li>'max'</li>\n",
       "\t<li>'myFunction'</li>\n",
       "\t<li>'saveDir'</li>\n",
       "\t<li>'sumvec'</li>\n",
       "\t<li>'v'</li>\n",
       "\t<li>'v1'</li>\n",
       "\t<li>'v2'</li>\n",
       "\t<li>'vec'</li>\n",
       "\t<li>'x'</li>\n",
       "\t<li>'y'</li>\n",
       "\t<li>'zzz1'</li>\n",
       "\t<li>'zzz2'</li>\n",
       "</ol>\n"
      ],
      "text/latex": [
       "\\begin{enumerate*}\n",
       "\\item 'a'\n",
       "\\item 'b'\n",
       "\\item 'c'\n",
       "\\item 'd'\n",
       "\\item 'df'\n",
       "\\item 'el'\n",
       "\\item 'f'\n",
       "\\item 'fun'\n",
       "\\item 'i'\n",
       "\\item 'j'\n",
       "\\item 'l'\n",
       "\\item 'm'\n",
       "\\item 'max'\n",
       "\\item 'myFunction'\n",
       "\\item 'saveDir'\n",
       "\\item 'sumvec'\n",
       "\\item 'v'\n",
       "\\item 'v1'\n",
       "\\item 'v2'\n",
       "\\item 'vec'\n",
       "\\item 'x'\n",
       "\\item 'y'\n",
       "\\item 'zzz1'\n",
       "\\item 'zzz2'\n",
       "\\end{enumerate*}\n"
      ],
      "text/markdown": [
       "1. 'a'\n",
       "2. 'b'\n",
       "3. 'c'\n",
       "4. 'd'\n",
       "5. 'df'\n",
       "6. 'el'\n",
       "7. 'f'\n",
       "8. 'fun'\n",
       "9. 'i'\n",
       "10. 'j'\n",
       "11. 'l'\n",
       "12. 'm'\n",
       "13. 'max'\n",
       "14. 'myFunction'\n",
       "15. 'saveDir'\n",
       "16. 'sumvec'\n",
       "17. 'v'\n",
       "18. 'v1'\n",
       "19. 'v2'\n",
       "20. 'vec'\n",
       "21. 'x'\n",
       "22. 'y'\n",
       "23. 'zzz1'\n",
       "24. 'zzz2'\n",
       "\n",
       "\n"
      ],
      "text/plain": [
       " [1] \"a\"          \"b\"          \"c\"          \"d\"          \"df\"        \n",
       " [6] \"el\"         \"f\"          \"fun\"        \"i\"          \"j\"         \n",
       "[11] \"l\"          \"m\"          \"max\"        \"myFunction\" \"saveDir\"   \n",
       "[16] \"sumvec\"     \"v\"          \"v1\"         \"v2\"         \"vec\"       \n",
       "[21] \"x\"          \"y\"          \"zzz1\"       \"zzz2\"      "
      ]
     },
     "metadata": {},
     "output_type": "display_data"
    },
    {
     "data": {
      "text/html": [
       "<ol class=list-inline>\n",
       "\t<li>'a'</li>\n",
       "\t<li>'b'</li>\n",
       "\t<li>'c'</li>\n",
       "\t<li>'d'</li>\n",
       "\t<li>'df'</li>\n",
       "\t<li>'el'</li>\n",
       "\t<li>'f'</li>\n",
       "\t<li>'fun'</li>\n",
       "\t<li>'i'</li>\n",
       "\t<li>'j'</li>\n",
       "\t<li>'l'</li>\n",
       "\t<li>'m'</li>\n",
       "\t<li>'max'</li>\n",
       "\t<li>'myFunction'</li>\n",
       "\t<li>'saveDir'</li>\n",
       "\t<li>'sumvec'</li>\n",
       "\t<li>'v'</li>\n",
       "\t<li>'v1'</li>\n",
       "\t<li>'v2'</li>\n",
       "\t<li>'vec'</li>\n",
       "\t<li>'x'</li>\n",
       "\t<li>'y'</li>\n",
       "</ol>\n"
      ],
      "text/latex": [
       "\\begin{enumerate*}\n",
       "\\item 'a'\n",
       "\\item 'b'\n",
       "\\item 'c'\n",
       "\\item 'd'\n",
       "\\item 'df'\n",
       "\\item 'el'\n",
       "\\item 'f'\n",
       "\\item 'fun'\n",
       "\\item 'i'\n",
       "\\item 'j'\n",
       "\\item 'l'\n",
       "\\item 'm'\n",
       "\\item 'max'\n",
       "\\item 'myFunction'\n",
       "\\item 'saveDir'\n",
       "\\item 'sumvec'\n",
       "\\item 'v'\n",
       "\\item 'v1'\n",
       "\\item 'v2'\n",
       "\\item 'vec'\n",
       "\\item 'x'\n",
       "\\item 'y'\n",
       "\\end{enumerate*}\n"
      ],
      "text/markdown": [
       "1. 'a'\n",
       "2. 'b'\n",
       "3. 'c'\n",
       "4. 'd'\n",
       "5. 'df'\n",
       "6. 'el'\n",
       "7. 'f'\n",
       "8. 'fun'\n",
       "9. 'i'\n",
       "10. 'j'\n",
       "11. 'l'\n",
       "12. 'm'\n",
       "13. 'max'\n",
       "14. 'myFunction'\n",
       "15. 'saveDir'\n",
       "16. 'sumvec'\n",
       "17. 'v'\n",
       "18. 'v1'\n",
       "19. 'v2'\n",
       "20. 'vec'\n",
       "21. 'x'\n",
       "22. 'y'\n",
       "\n",
       "\n"
      ],
      "text/plain": [
       " [1] \"a\"          \"b\"          \"c\"          \"d\"          \"df\"        \n",
       " [6] \"el\"         \"f\"          \"fun\"        \"i\"          \"j\"         \n",
       "[11] \"l\"          \"m\"          \"max\"        \"myFunction\" \"saveDir\"   \n",
       "[16] \"sumvec\"     \"v\"          \"v1\"         \"v2\"         \"vec\"       \n",
       "[21] \"x\"          \"y\"         "
      ]
     },
     "metadata": {},
     "output_type": "display_data"
    },
    {
     "data": {
      "text/html": [],
      "text/latex": [],
      "text/markdown": [],
      "text/plain": [
       "character(0)"
      ]
     },
     "metadata": {},
     "output_type": "display_data"
    },
    {
     "data": {
      "text/html": [
       "<ol class=list-inline>\n",
       "\t<li>'.pbd_env'</li>\n",
       "\t<li>'.Random.seed'</li>\n",
       "</ol>\n"
      ],
      "text/latex": [
       "\\begin{enumerate*}\n",
       "\\item '.pbd\\_env'\n",
       "\\item '.Random.seed'\n",
       "\\end{enumerate*}\n"
      ],
      "text/markdown": [
       "1. '.pbd_env'\n",
       "2. '.Random.seed'\n",
       "\n",
       "\n"
      ],
      "text/plain": [
       "[1] \".pbd_env\"     \".Random.seed\""
      ]
     },
     "metadata": {},
     "output_type": "display_data"
    }
   ],
   "source": [
    "zzz1 <- 1\n",
    "zzz2 <- 2\n",
    "ls()\n",
    "rm(zzz1, zzz2)\n",
    "ls()\n",
    "rm(list=ls()) # remove all objects that are not hidden objects (.)\n",
    "ls()\n",
    "ls(all.names=TRUE) # list all objects including hidden objects (.)"
   ]
  },
  {
   "cell_type": "markdown",
   "metadata": {},
   "source": [
    "## Saving and Loading Workspace\n",
    "\n",
    "- save(…, file)  # Save list of objects in current session to .RData file\n",
    "- save.image(file) # save all objects in current session to .RData file \n",
    "- load(file)       # load objects from .RData file into current session"
   ]
  },
  {
   "cell_type": "code",
   "execution_count": 44,
   "metadata": {},
   "outputs": [
    {
     "data": {
      "text/html": [
       "FALSE"
      ],
      "text/latex": [
       "FALSE"
      ],
      "text/markdown": [
       "FALSE"
      ],
      "text/plain": [
       "[1] FALSE"
      ]
     },
     "metadata": {},
     "output_type": "display_data"
    },
    {
     "data": {
      "text/html": [
       "TRUE"
      ],
      "text/latex": [
       "TRUE"
      ],
      "text/markdown": [
       "TRUE"
      ],
      "text/plain": [
       "[1] TRUE"
      ]
     },
     "metadata": {},
     "output_type": "display_data"
    },
    {
     "data": {
      "text/html": [
       "FALSE"
      ],
      "text/latex": [
       "FALSE"
      ],
      "text/markdown": [
       "FALSE"
      ],
      "text/plain": [
       "[1] FALSE"
      ]
     },
     "metadata": {},
     "output_type": "display_data"
    },
    {
     "data": {
      "text/html": [
       "TRUE"
      ],
      "text/latex": [
       "TRUE"
      ],
      "text/markdown": [
       "TRUE"
      ],
      "text/plain": [
       "[1] TRUE"
      ]
     },
     "metadata": {},
     "output_type": "display_data"
    }
   ],
   "source": [
    "x <- 3\n",
    "rm(x)\n",
    "exists(\"x\")\n",
    "x <- 3; y <- 4\n",
    "exists(\"x\")\n",
    "save(x, file=\"my.RData\")\n",
    "rm(x)\n",
    "exists(\"x\")\n",
    "load(\"my.RData\")\n",
    "exists(\"x\")"
   ]
  },
  {
   "cell_type": "markdown",
   "metadata": {},
   "source": [
    "## Diverting Output to File\n",
    "\n",
    "- sink(\"file\") # set path to file output\n",
    "- sink() # revert back to console output"
   ]
  },
  {
   "cell_type": "markdown",
   "metadata": {},
   "source": [
    "## Using the mode() Function"
   ]
  },
  {
   "cell_type": "code",
   "execution_count": 47,
   "metadata": {},
   "outputs": [
    {
     "data": {
      "text/html": [
       "'numeric'"
      ],
      "text/latex": [
       "'numeric'"
      ],
      "text/markdown": [
       "'numeric'"
      ],
      "text/plain": [
       "[1] \"numeric\""
      ]
     },
     "metadata": {},
     "output_type": "display_data"
    },
    {
     "data": {
      "text/html": [
       "'character'"
      ],
      "text/latex": [
       "'character'"
      ],
      "text/markdown": [
       "'character'"
      ],
      "text/plain": [
       "[1] \"character\""
      ]
     },
     "metadata": {},
     "output_type": "display_data"
    },
    {
     "data": {
      "text/html": [
       "'logical'"
      ],
      "text/latex": [
       "'logical'"
      ],
      "text/markdown": [
       "'logical'"
      ],
      "text/plain": [
       "[1] \"logical\""
      ]
     },
     "metadata": {},
     "output_type": "display_data"
    },
    {
     "data": {
      "text/html": [
       "'logical'"
      ],
      "text/latex": [
       "'logical'"
      ],
      "text/markdown": [
       "'logical'"
      ],
      "text/plain": [
       "[1] \"logical\""
      ]
     },
     "metadata": {},
     "output_type": "display_data"
    },
    {
     "data": {
      "text/html": [
       "'logical'"
      ],
      "text/latex": [
       "'logical'"
      ],
      "text/markdown": [
       "'logical'"
      ],
      "text/plain": [
       "[1] \"logical\""
      ]
     },
     "metadata": {},
     "output_type": "display_data"
    }
   ],
   "source": [
    "mode(123)\n",
    "mode('xyz')\n",
    "mode(TRUE)\n",
    "mode(F)\n",
    "mode(1>2)"
   ]
  },
  {
   "cell_type": "markdown",
   "metadata": {},
   "source": [
    "## Logical Vectors"
   ]
  },
  {
   "cell_type": "code",
   "execution_count": 48,
   "metadata": {},
   "outputs": [
    {
     "name": "stdout",
     "output_type": "stream",
     "text": [
      "[1] FALSE FALSE  TRUE  TRUE  TRUE\n",
      "[1] FALSE  TRUE  TRUE FALSE\n"
     ]
    }
   ],
   "source": [
    "print(c(10, 11, 12, 12, 14) >= 12) # FALSE FALSE  TRUE  TRUE  TRUE\n",
    "print(c(1>2, 2>1, 1==1, 1==2))     # FALSE  TRUE  TRUE FALSE"
   ]
  },
  {
   "cell_type": "markdown",
   "metadata": {},
   "source": [
    "## Character Vectors"
   ]
  },
  {
   "cell_type": "code",
   "execution_count": 49,
   "metadata": {},
   "outputs": [
    {
     "data": {
      "text/html": [
       "<ol class=list-inline>\n",
       "\t<li>'Hello'</li>\n",
       "\t<li>'Hello'</li>\n",
       "\t<li>'Hello'</li>\n",
       "</ol>\n"
      ],
      "text/latex": [
       "\\begin{enumerate*}\n",
       "\\item 'Hello'\n",
       "\\item 'Hello'\n",
       "\\item 'Hello'\n",
       "\\end{enumerate*}\n"
      ],
      "text/markdown": [
       "1. 'Hello'\n",
       "2. 'Hello'\n",
       "3. 'Hello'\n",
       "\n",
       "\n"
      ],
      "text/plain": [
       "[1] \"Hello\" \"Hello\" \"Hello\""
      ]
     },
     "metadata": {},
     "output_type": "display_data"
    },
    {
     "data": {
      "text/html": [
       "'character'"
      ],
      "text/latex": [
       "'character'"
      ],
      "text/markdown": [
       "'character'"
      ],
      "text/plain": [
       "[1] \"character\""
      ]
     },
     "metadata": {},
     "output_type": "display_data"
    }
   ],
   "source": [
    "rep('Hello', 3)        # 'Hello' 'Hello' 'Hello'\n",
    "class(rep('Hello', 3)) # 'character'"
   ]
  },
  {
   "cell_type": "markdown",
   "metadata": {},
   "source": [
    "## Factorization"
   ]
  },
  {
   "cell_type": "code",
   "execution_count": 50,
   "metadata": {},
   "outputs": [
    {
     "name": "stdout",
     "output_type": "stream",
     "text": [
      "[1] 1 2 1 1 2 2 3 4 1\n",
      "Levels: 1 2 3 4\n"
     ]
    }
   ],
   "source": [
    "v <- c(1, 2, 1, 1, 2, 2, 3, 4, 1)\n",
    "print(factor(v))"
   ]
  },
  {
   "cell_type": "markdown",
   "metadata": {},
   "source": [
    "## Multi-Mode Vectors"
   ]
  },
  {
   "cell_type": "code",
   "execution_count": 51,
   "metadata": {},
   "outputs": [
    {
     "name": "stdout",
     "output_type": "stream",
     "text": [
      "[1] \"I told you a \" \"1000\"          \"times\"         \"TRUE\"         \n"
     ]
    },
    {
     "data": {
      "text/html": [
       "'character'"
      ],
      "text/latex": [
       "'character'"
      ],
      "text/markdown": [
       "'character'"
      ],
      "text/plain": [
       "[1] \"character\""
      ]
     },
     "metadata": {},
     "output_type": "display_data"
    },
    {
     "name": "stdout",
     "output_type": "stream",
     "text": [
      "[1] 0 1 2 3\n"
     ]
    },
    {
     "data": {
      "text/html": [
       "'numeric'"
      ],
      "text/latex": [
       "'numeric'"
      ],
      "text/markdown": [
       "'numeric'"
      ],
      "text/plain": [
       "[1] \"numeric\""
      ]
     },
     "metadata": {},
     "output_type": "display_data"
    },
    {
     "data": {
      "text/html": [
       "<ol class=list-inline>\n",
       "\t<li>0</li>\n",
       "\t<li>1</li>\n",
       "\t<li>2</li>\n",
       "\t<li>3</li>\n",
       "\t<li>&lt;NA&gt;</li>\n",
       "\t<li>5</li>\n",
       "</ol>\n"
      ],
      "text/latex": [
       "\\begin{enumerate*}\n",
       "\\item 0\n",
       "\\item 1\n",
       "\\item 2\n",
       "\\item 3\n",
       "\\item <NA>\n",
       "\\item 5\n",
       "\\end{enumerate*}\n"
      ],
      "text/markdown": [
       "1. 0\n",
       "2. 1\n",
       "3. 2\n",
       "4. 3\n",
       "5. &lt;NA&gt;\n",
       "6. 5\n",
       "\n",
       "\n"
      ],
      "text/plain": [
       "[1]  0  1  2  3 NA  5"
      ]
     },
     "metadata": {},
     "output_type": "display_data"
    }
   ],
   "source": [
    "v <- c(\"I told you a \", 1000, 'times', TRUE) # 1000 -> '1000'\n",
    "print(v)\n",
    "mode(v)\n",
    "\n",
    "v <- c(F, T, 2, 3) # FALSE -> 0, TRUE -> 1,\n",
    "print(v)\n",
    "mode(v)\n",
    "\n",
    "(c(0,1,2,3,NA,5))"
   ]
  },
  {
   "cell_type": "markdown",
   "metadata": {},
   "source": [
    "## The Length of a Vector"
   ]
  },
  {
   "cell_type": "code",
   "execution_count": 52,
   "metadata": {},
   "outputs": [
    {
     "data": {
      "text/html": [
       "3"
      ],
      "text/latex": [
       "3"
      ],
      "text/markdown": [
       "3"
      ],
      "text/plain": [
       "[1] 3"
      ]
     },
     "metadata": {},
     "output_type": "display_data"
    }
   ],
   "source": [
    "length(c(1,2,3))"
   ]
  },
  {
   "cell_type": "markdown",
   "metadata": {},
   "source": [
    "## Getting Vector Elements"
   ]
  },
  {
   "cell_type": "code",
   "execution_count": 53,
   "metadata": {},
   "outputs": [
    {
     "data": {
      "text/html": [
       "<ol class=list-inline>\n",
       "\t<li>1</li>\n",
       "\t<li>2</li>\n",
       "\t<li>3</li>\n",
       "\t<li>4</li>\n",
       "\t<li>5</li>\n",
       "</ol>\n"
      ],
      "text/latex": [
       "\\begin{enumerate*}\n",
       "\\item 1\n",
       "\\item 2\n",
       "\\item 3\n",
       "\\item 4\n",
       "\\item 5\n",
       "\\end{enumerate*}\n"
      ],
      "text/markdown": [
       "1. 1\n",
       "2. 2\n",
       "3. 3\n",
       "4. 4\n",
       "5. 5\n",
       "\n",
       "\n"
      ],
      "text/plain": [
       "[1] 1 2 3 4 5"
      ]
     },
     "metadata": {},
     "output_type": "display_data"
    },
    {
     "data": {
      "text/html": [
       "2"
      ],
      "text/latex": [
       "2"
      ],
      "text/markdown": [
       "2"
      ],
      "text/plain": [
       "[1] 2"
      ]
     },
     "metadata": {},
     "output_type": "display_data"
    },
    {
     "data": {
      "text/html": [
       "<ol class=list-inline>\n",
       "\t<li>2</li>\n",
       "\t<li>4</li>\n",
       "</ol>\n"
      ],
      "text/latex": [
       "\\begin{enumerate*}\n",
       "\\item 2\n",
       "\\item 4\n",
       "\\end{enumerate*}\n"
      ],
      "text/markdown": [
       "1. 2\n",
       "2. 4\n",
       "\n",
       "\n"
      ],
      "text/plain": [
       "[1] 2 4"
      ]
     },
     "metadata": {},
     "output_type": "display_data"
    },
    {
     "data": {
      "text/html": [
       "<ol class=list-inline>\n",
       "\t<li>1</li>\n",
       "\t<li>3</li>\n",
       "\t<li>5</li>\n",
       "</ol>\n"
      ],
      "text/latex": [
       "\\begin{enumerate*}\n",
       "\\item 1\n",
       "\\item 3\n",
       "\\item 5\n",
       "\\end{enumerate*}\n"
      ],
      "text/markdown": [
       "1. 1\n",
       "2. 3\n",
       "3. 5\n",
       "\n",
       "\n"
      ],
      "text/plain": [
       "[1] 1 3 5"
      ]
     },
     "metadata": {},
     "output_type": "display_data"
    },
    {
     "data": {
      "text/html": [
       "<ol class=list-inline>\n",
       "\t<li>2</li>\n",
       "\t<li>3</li>\n",
       "</ol>\n"
      ],
      "text/latex": [
       "\\begin{enumerate*}\n",
       "\\item 2\n",
       "\\item 3\n",
       "\\end{enumerate*}\n"
      ],
      "text/markdown": [
       "1. 2\n",
       "2. 3\n",
       "\n",
       "\n"
      ],
      "text/plain": [
       "[1] 2 3"
      ]
     },
     "metadata": {},
     "output_type": "display_data"
    },
    {
     "data": {
      "text/html": [
       "<ol class=list-inline>\n",
       "\t<li>1</li>\n",
       "\t<li>4</li>\n",
       "\t<li>5</li>\n",
       "</ol>\n"
      ],
      "text/latex": [
       "\\begin{enumerate*}\n",
       "\\item 1\n",
       "\\item 4\n",
       "\\item 5\n",
       "\\end{enumerate*}\n"
      ],
      "text/markdown": [
       "1. 1\n",
       "2. 4\n",
       "3. 5\n",
       "\n",
       "\n"
      ],
      "text/plain": [
       "[1] 1 4 5"
      ]
     },
     "metadata": {},
     "output_type": "display_data"
    }
   ],
   "source": [
    "(1:5)             # 1 2 3 4 5\n",
    "((1:5)[2])        # 2\n",
    "((1:5)[c(2,4)])   # 2 4\n",
    "((1:5)[c(-2,-4)]) # 1 3 5\n",
    "((1:5)[2:3])      # 2 3\n",
    "((1:5)[-2:-3])    # 1 4 5"
   ]
  },
  {
   "cell_type": "markdown",
   "metadata": {},
   "source": [
    "## Lists"
   ]
  },
  {
   "cell_type": "code",
   "execution_count": 54,
   "metadata": {},
   "outputs": [
    {
     "name": "stdout",
     "output_type": "stream",
     "text": [
      "[[1]]\n",
      "[1] 1 2 3\n",
      "\n",
      "[[2]]\n",
      "[1] 10 20\n",
      "\n"
     ]
    }
   ],
   "source": [
    "print(list((1:3), c(10,20)))"
   ]
  },
  {
   "cell_type": "code",
   "execution_count": 55,
   "metadata": {},
   "outputs": [
    {
     "name": "stdout",
     "output_type": "stream",
     "text": [
      "[[1]]\n",
      "[1] 1 2 3\n",
      "\n",
      "[[2]]\n",
      "[1] 10 20\n",
      "\n",
      "\n",
      "[[1]]\n",
      "[1] 1 2 3\n",
      "\n",
      "\n",
      "[1] 1 2 3\n"
     ]
    }
   ],
   "source": [
    "l <- list((1:3), c(10,20))\n",
    "print(l)\n",
    "cat('\\n')\n",
    "print(l[1])\n",
    "cat('\\n')\n",
    "print(l[[1]])"
   ]
  },
  {
   "cell_type": "markdown",
   "metadata": {
    "collapsed": true
   },
   "source": [
    "## A List with Element Names"
   ]
  },
  {
   "cell_type": "code",
   "execution_count": 56,
   "metadata": {},
   "outputs": [
    {
     "name": "stdout",
     "output_type": "stream",
     "text": [
      "$Jan_Sales_By_Region\n",
      "[1] 1 2 3 4 5\n",
      "\n",
      "$Feb_Sales_By_Region\n",
      "[1] 3 4 5 6 7\n",
      "\n",
      "$Mar_Sales_By_Region\n",
      "[1] 2 3 4 5 6\n",
      "\n"
     ]
    },
    {
     "data": {
      "text/html": [
       "<ol class=list-inline>\n",
       "\t<li>1</li>\n",
       "\t<li>2</li>\n",
       "\t<li>3</li>\n",
       "\t<li>4</li>\n",
       "\t<li>5</li>\n",
       "</ol>\n"
      ],
      "text/latex": [
       "\\begin{enumerate*}\n",
       "\\item 1\n",
       "\\item 2\n",
       "\\item 3\n",
       "\\item 4\n",
       "\\item 5\n",
       "\\end{enumerate*}\n"
      ],
      "text/markdown": [
       "1. 1\n",
       "2. 2\n",
       "3. 3\n",
       "4. 4\n",
       "5. 5\n",
       "\n",
       "\n"
      ],
      "text/plain": [
       "[1] 1 2 3 4 5"
      ]
     },
     "metadata": {},
     "output_type": "display_data"
    },
    {
     "data": {
      "text/html": [
       "<strong>$Jan_Sales_By_Region</strong> = <ol class=list-inline>\n",
       "\t<li>1</li>\n",
       "\t<li>2</li>\n",
       "\t<li>3</li>\n",
       "\t<li>4</li>\n",
       "\t<li>5</li>\n",
       "</ol>\n"
      ],
      "text/latex": [
       "\\textbf{\\$Jan\\_Sales\\_By\\_Region} = \\begin{enumerate*}\n",
       "\\item 1\n",
       "\\item 2\n",
       "\\item 3\n",
       "\\item 4\n",
       "\\item 5\n",
       "\\end{enumerate*}\n"
      ],
      "text/markdown": [
       "**$Jan_Sales_By_Region** = 1. 1\n",
       "2. 2\n",
       "3. 3\n",
       "4. 4\n",
       "5. 5\n",
       "\n",
       "\n"
      ],
      "text/plain": [
       "$Jan_Sales_By_Region\n",
       "[1] 1 2 3 4 5\n"
      ]
     },
     "metadata": {},
     "output_type": "display_data"
    }
   ],
   "source": [
    "print(sales <- list(\n",
    "    Jan_Sales_By_Region = (1:5),\n",
    "    Feb_Sales_By_Region = (3:7),\n",
    "    Mar_Sales_By_Region = (2:6)))\n",
    "\n",
    "sales$Jan_Sales_By_Region\n",
    "sales[1]"
   ]
  },
  {
   "cell_type": "markdown",
   "metadata": {},
   "source": [
    "## Adding to a List"
   ]
  },
  {
   "cell_type": "code",
   "execution_count": 57,
   "metadata": {},
   "outputs": [
    {
     "data": {
      "text/html": [
       "<ol>\n",
       "\t<li><ol class=list-inline>\n",
       "\t<li>1</li>\n",
       "\t<li>2</li>\n",
       "\t<li>3</li>\n",
       "</ol>\n",
       "</li>\n",
       "\t<li>NULL</li>\n",
       "\t<li><ol class=list-inline>\n",
       "\t<li>11</li>\n",
       "\t<li>12</li>\n",
       "\t<li>13</li>\n",
       "</ol>\n",
       "</li>\n",
       "</ol>\n"
      ],
      "text/latex": [
       "\\begin{enumerate}\n",
       "\\item \\begin{enumerate*}\n",
       "\\item 1\n",
       "\\item 2\n",
       "\\item 3\n",
       "\\end{enumerate*}\n",
       "\n",
       "\\item NULL\n",
       "\\item \\begin{enumerate*}\n",
       "\\item 11\n",
       "\\item 12\n",
       "\\item 13\n",
       "\\end{enumerate*}\n",
       "\n",
       "\\end{enumerate}\n"
      ],
      "text/markdown": [
       "1. 1. 1\n",
       "2. 2\n",
       "3. 3\n",
       "\n",
       "\n",
       "\n",
       "2. NULL\n",
       "3. 1. 11\n",
       "2. 12\n",
       "3. 13\n",
       "\n",
       "\n",
       "\n",
       "\n",
       "\n"
      ],
      "text/plain": [
       "[[1]]\n",
       "[1] 1 2 3\n",
       "\n",
       "[[2]]\n",
       "NULL\n",
       "\n",
       "[[3]]\n",
       "[1] 11 12 13\n"
      ]
     },
     "metadata": {},
     "output_type": "display_data"
    },
    {
     "data": {
      "text/html": [
       "3"
      ],
      "text/latex": [
       "3"
      ],
      "text/markdown": [
       "3"
      ],
      "text/plain": [
       "[1] 3"
      ]
     },
     "metadata": {},
     "output_type": "display_data"
    }
   ],
   "source": [
    "x <- list() # create empty list\n",
    "x[[1]] <- (1:3)   # first element\n",
    "x[[3]] <- (11:13) # 3rd element (skipped 2nd element)\n",
    "x\n",
    "length(x)         # 3"
   ]
  },
  {
   "cell_type": "markdown",
   "metadata": {
    "collapsed": true
   },
   "source": [
    "## Matrix Data Structure\n",
    "\n",
    "- Single mode 2-D collection\n",
    "- Special case of 2-D array\n",
    "- Created using the matrix(data, nrow, ncol, byrow, dimnames) function"
   ]
  },
  {
   "cell_type": "code",
   "execution_count": 58,
   "metadata": {},
   "outputs": [],
   "source": [
    "help(matrix)"
   ]
  },
  {
   "cell_type": "code",
   "execution_count": 59,
   "metadata": {},
   "outputs": [
    {
     "name": "stdout",
     "output_type": "stream",
     "text": [
      "     [,1] [,2] [,3]\n",
      "[1,]    1    2    3\n",
      "[2,]    4    5    6\n"
     ]
    }
   ],
   "source": [
    "print(m <- matrix(1:6, 2, 3, byrow=TRUE))"
   ]
  },
  {
   "cell_type": "code",
   "execution_count": 60,
   "metadata": {},
   "outputs": [
    {
     "name": "stdout",
     "output_type": "stream",
     "text": [
      "     Col1 Col2 Col3\n",
      "Row1   11   12   13\n",
      "Row2   21   22   23\n"
     ]
    }
   ],
   "source": [
    "print(m <- matrix(c(11,12,13,21,22,23), nrow=2, ncol=3,\n",
    "    byrow=TRUE, dimnames = list(\n",
    "        c(\"Row1\", \"Row2\"),\n",
    "        c(\"Col1\", \"Col2\", \"Col3\"))))"
   ]
  },
  {
   "cell_type": "markdown",
   "metadata": {},
   "source": [
    "## Creating Matrices with cbind() and rbind()"
   ]
  },
  {
   "cell_type": "code",
   "execution_count": 61,
   "metadata": {},
   "outputs": [
    {
     "name": "stdout",
     "output_type": "stream",
     "text": [
      "     [,1] [,2] [,3]\n",
      "[1,]    1    5    0\n",
      "[2,]    2    6    0\n",
      "[3,]    3    7    0\n",
      "     [,1] [,2] [,3]\n",
      "[1,]    1    2    3\n",
      "[2,]    5    6    7\n",
      "[3,]    0    0    0\n"
     ]
    }
   ],
   "source": [
    "print(cbind(1:3, 5:7, rep(0,3)))\n",
    "print(rbind(1:3, 5:7, rep(0,3)))"
   ]
  },
  {
   "cell_type": "markdown",
   "metadata": {},
   "source": [
    "## Working with Data Frames\n",
    "\n",
    "- For storing tables\n",
    "- Made up of list of collections that are of equal length\n",
    "- Each column is limited to elements of one type\n",
    "- Different columns can have different types"
   ]
  },
  {
   "cell_type": "code",
   "execution_count": 62,
   "metadata": {},
   "outputs": [
    {
     "data": {
      "text/html": [
       "<table>\n",
       "<thead><tr><th></th><th scope=col>mpg</th><th scope=col>cyl</th><th scope=col>disp</th><th scope=col>hp</th><th scope=col>drat</th><th scope=col>wt</th><th scope=col>qsec</th><th scope=col>vs</th><th scope=col>am</th><th scope=col>gear</th><th scope=col>carb</th></tr></thead>\n",
       "<tbody>\n",
       "\t<tr><th scope=row>Mazda RX4</th><td>21.0 </td><td>6    </td><td>160.0</td><td>110  </td><td>3.90 </td><td>2.620</td><td>16.46</td><td>0    </td><td>1    </td><td>4    </td><td>4    </td></tr>\n",
       "\t<tr><th scope=row>Mazda RX4 Wag</th><td>21.0 </td><td>6    </td><td>160.0</td><td>110  </td><td>3.90 </td><td>2.875</td><td>17.02</td><td>0    </td><td>1    </td><td>4    </td><td>4    </td></tr>\n",
       "\t<tr><th scope=row>Datsun 710</th><td>22.8 </td><td>4    </td><td>108.0</td><td> 93  </td><td>3.85 </td><td>2.320</td><td>18.61</td><td>1    </td><td>1    </td><td>4    </td><td>1    </td></tr>\n",
       "\t<tr><th scope=row>Hornet 4 Drive</th><td>21.4 </td><td>6    </td><td>258.0</td><td>110  </td><td>3.08 </td><td>3.215</td><td>19.44</td><td>1    </td><td>0    </td><td>3    </td><td>1    </td></tr>\n",
       "\t<tr><th scope=row>Hornet Sportabout</th><td>18.7 </td><td>8    </td><td>360.0</td><td>175  </td><td>3.15 </td><td>3.440</td><td>17.02</td><td>0    </td><td>0    </td><td>3    </td><td>2    </td></tr>\n",
       "\t<tr><th scope=row>Valiant</th><td>18.1 </td><td>6    </td><td>225.0</td><td>105  </td><td>2.76 </td><td>3.460</td><td>20.22</td><td>1    </td><td>0    </td><td>3    </td><td>1    </td></tr>\n",
       "\t<tr><th scope=row>Duster 360</th><td>14.3 </td><td>8    </td><td>360.0</td><td>245  </td><td>3.21 </td><td>3.570</td><td>15.84</td><td>0    </td><td>0    </td><td>3    </td><td>4    </td></tr>\n",
       "\t<tr><th scope=row>Merc 240D</th><td>24.4 </td><td>4    </td><td>146.7</td><td> 62  </td><td>3.69 </td><td>3.190</td><td>20.00</td><td>1    </td><td>0    </td><td>4    </td><td>2    </td></tr>\n",
       "\t<tr><th scope=row>Merc 230</th><td>22.8 </td><td>4    </td><td>140.8</td><td> 95  </td><td>3.92 </td><td>3.150</td><td>22.90</td><td>1    </td><td>0    </td><td>4    </td><td>2    </td></tr>\n",
       "\t<tr><th scope=row>Merc 280</th><td>19.2 </td><td>6    </td><td>167.6</td><td>123  </td><td>3.92 </td><td>3.440</td><td>18.30</td><td>1    </td><td>0    </td><td>4    </td><td>4    </td></tr>\n",
       "\t<tr><th scope=row>Merc 280C</th><td>17.8 </td><td>6    </td><td>167.6</td><td>123  </td><td>3.92 </td><td>3.440</td><td>18.90</td><td>1    </td><td>0    </td><td>4    </td><td>4    </td></tr>\n",
       "\t<tr><th scope=row>Merc 450SE</th><td>16.4 </td><td>8    </td><td>275.8</td><td>180  </td><td>3.07 </td><td>4.070</td><td>17.40</td><td>0    </td><td>0    </td><td>3    </td><td>3    </td></tr>\n",
       "\t<tr><th scope=row>Merc 450SL</th><td>17.3 </td><td>8    </td><td>275.8</td><td>180  </td><td>3.07 </td><td>3.730</td><td>17.60</td><td>0    </td><td>0    </td><td>3    </td><td>3    </td></tr>\n",
       "\t<tr><th scope=row>Merc 450SLC</th><td>15.2 </td><td>8    </td><td>275.8</td><td>180  </td><td>3.07 </td><td>3.780</td><td>18.00</td><td>0    </td><td>0    </td><td>3    </td><td>3    </td></tr>\n",
       "\t<tr><th scope=row>Cadillac Fleetwood</th><td>10.4 </td><td>8    </td><td>472.0</td><td>205  </td><td>2.93 </td><td>5.250</td><td>17.98</td><td>0    </td><td>0    </td><td>3    </td><td>4    </td></tr>\n",
       "\t<tr><th scope=row>Lincoln Continental</th><td>10.4 </td><td>8    </td><td>460.0</td><td>215  </td><td>3.00 </td><td>5.424</td><td>17.82</td><td>0    </td><td>0    </td><td>3    </td><td>4    </td></tr>\n",
       "\t<tr><th scope=row>Chrysler Imperial</th><td>14.7 </td><td>8    </td><td>440.0</td><td>230  </td><td>3.23 </td><td>5.345</td><td>17.42</td><td>0    </td><td>0    </td><td>3    </td><td>4    </td></tr>\n",
       "\t<tr><th scope=row>Fiat 128</th><td>32.4 </td><td>4    </td><td> 78.7</td><td> 66  </td><td>4.08 </td><td>2.200</td><td>19.47</td><td>1    </td><td>1    </td><td>4    </td><td>1    </td></tr>\n",
       "\t<tr><th scope=row>Honda Civic</th><td>30.4 </td><td>4    </td><td> 75.7</td><td> 52  </td><td>4.93 </td><td>1.615</td><td>18.52</td><td>1    </td><td>1    </td><td>4    </td><td>2    </td></tr>\n",
       "\t<tr><th scope=row>Toyota Corolla</th><td>33.9 </td><td>4    </td><td> 71.1</td><td> 65  </td><td>4.22 </td><td>1.835</td><td>19.90</td><td>1    </td><td>1    </td><td>4    </td><td>1    </td></tr>\n",
       "\t<tr><th scope=row>Toyota Corona</th><td>21.5 </td><td>4    </td><td>120.1</td><td> 97  </td><td>3.70 </td><td>2.465</td><td>20.01</td><td>1    </td><td>0    </td><td>3    </td><td>1    </td></tr>\n",
       "\t<tr><th scope=row>Dodge Challenger</th><td>15.5 </td><td>8    </td><td>318.0</td><td>150  </td><td>2.76 </td><td>3.520</td><td>16.87</td><td>0    </td><td>0    </td><td>3    </td><td>2    </td></tr>\n",
       "\t<tr><th scope=row>AMC Javelin</th><td>15.2 </td><td>8    </td><td>304.0</td><td>150  </td><td>3.15 </td><td>3.435</td><td>17.30</td><td>0    </td><td>0    </td><td>3    </td><td>2    </td></tr>\n",
       "\t<tr><th scope=row>Camaro Z28</th><td>13.3 </td><td>8    </td><td>350.0</td><td>245  </td><td>3.73 </td><td>3.840</td><td>15.41</td><td>0    </td><td>0    </td><td>3    </td><td>4    </td></tr>\n",
       "\t<tr><th scope=row>Pontiac Firebird</th><td>19.2 </td><td>8    </td><td>400.0</td><td>175  </td><td>3.08 </td><td>3.845</td><td>17.05</td><td>0    </td><td>0    </td><td>3    </td><td>2    </td></tr>\n",
       "\t<tr><th scope=row>Fiat X1-9</th><td>27.3 </td><td>4    </td><td> 79.0</td><td> 66  </td><td>4.08 </td><td>1.935</td><td>18.90</td><td>1    </td><td>1    </td><td>4    </td><td>1    </td></tr>\n",
       "\t<tr><th scope=row>Porsche 914-2</th><td>26.0 </td><td>4    </td><td>120.3</td><td> 91  </td><td>4.43 </td><td>2.140</td><td>16.70</td><td>0    </td><td>1    </td><td>5    </td><td>2    </td></tr>\n",
       "\t<tr><th scope=row>Lotus Europa</th><td>30.4 </td><td>4    </td><td> 95.1</td><td>113  </td><td>3.77 </td><td>1.513</td><td>16.90</td><td>1    </td><td>1    </td><td>5    </td><td>2    </td></tr>\n",
       "\t<tr><th scope=row>Ford Pantera L</th><td>15.8 </td><td>8    </td><td>351.0</td><td>264  </td><td>4.22 </td><td>3.170</td><td>14.50</td><td>0    </td><td>1    </td><td>5    </td><td>4    </td></tr>\n",
       "\t<tr><th scope=row>Ferrari Dino</th><td>19.7 </td><td>6    </td><td>145.0</td><td>175  </td><td>3.62 </td><td>2.770</td><td>15.50</td><td>0    </td><td>1    </td><td>5    </td><td>6    </td></tr>\n",
       "\t<tr><th scope=row>Maserati Bora</th><td>15.0 </td><td>8    </td><td>301.0</td><td>335  </td><td>3.54 </td><td>3.570</td><td>14.60</td><td>0    </td><td>1    </td><td>5    </td><td>8    </td></tr>\n",
       "\t<tr><th scope=row>Volvo 142E</th><td>21.4 </td><td>4    </td><td>121.0</td><td>109  </td><td>4.11 </td><td>2.780</td><td>18.60</td><td>1    </td><td>1    </td><td>4    </td><td>2    </td></tr>\n",
       "</tbody>\n",
       "</table>\n"
      ],
      "text/latex": [
       "\\begin{tabular}{r|lllllllllll}\n",
       "  & mpg & cyl & disp & hp & drat & wt & qsec & vs & am & gear & carb\\\\\n",
       "\\hline\n",
       "\tMazda RX4 & 21.0  & 6     & 160.0 & 110   & 3.90  & 2.620 & 16.46 & 0     & 1     & 4     & 4    \\\\\n",
       "\tMazda RX4 Wag & 21.0  & 6     & 160.0 & 110   & 3.90  & 2.875 & 17.02 & 0     & 1     & 4     & 4    \\\\\n",
       "\tDatsun 710 & 22.8  & 4     & 108.0 &  93   & 3.85  & 2.320 & 18.61 & 1     & 1     & 4     & 1    \\\\\n",
       "\tHornet 4 Drive & 21.4  & 6     & 258.0 & 110   & 3.08  & 3.215 & 19.44 & 1     & 0     & 3     & 1    \\\\\n",
       "\tHornet Sportabout & 18.7  & 8     & 360.0 & 175   & 3.15  & 3.440 & 17.02 & 0     & 0     & 3     & 2    \\\\\n",
       "\tValiant & 18.1  & 6     & 225.0 & 105   & 2.76  & 3.460 & 20.22 & 1     & 0     & 3     & 1    \\\\\n",
       "\tDuster 360 & 14.3  & 8     & 360.0 & 245   & 3.21  & 3.570 & 15.84 & 0     & 0     & 3     & 4    \\\\\n",
       "\tMerc 240D & 24.4  & 4     & 146.7 &  62   & 3.69  & 3.190 & 20.00 & 1     & 0     & 4     & 2    \\\\\n",
       "\tMerc 230 & 22.8  & 4     & 140.8 &  95   & 3.92  & 3.150 & 22.90 & 1     & 0     & 4     & 2    \\\\\n",
       "\tMerc 280 & 19.2  & 6     & 167.6 & 123   & 3.92  & 3.440 & 18.30 & 1     & 0     & 4     & 4    \\\\\n",
       "\tMerc 280C & 17.8  & 6     & 167.6 & 123   & 3.92  & 3.440 & 18.90 & 1     & 0     & 4     & 4    \\\\\n",
       "\tMerc 450SE & 16.4  & 8     & 275.8 & 180   & 3.07  & 4.070 & 17.40 & 0     & 0     & 3     & 3    \\\\\n",
       "\tMerc 450SL & 17.3  & 8     & 275.8 & 180   & 3.07  & 3.730 & 17.60 & 0     & 0     & 3     & 3    \\\\\n",
       "\tMerc 450SLC & 15.2  & 8     & 275.8 & 180   & 3.07  & 3.780 & 18.00 & 0     & 0     & 3     & 3    \\\\\n",
       "\tCadillac Fleetwood & 10.4  & 8     & 472.0 & 205   & 2.93  & 5.250 & 17.98 & 0     & 0     & 3     & 4    \\\\\n",
       "\tLincoln Continental & 10.4  & 8     & 460.0 & 215   & 3.00  & 5.424 & 17.82 & 0     & 0     & 3     & 4    \\\\\n",
       "\tChrysler Imperial & 14.7  & 8     & 440.0 & 230   & 3.23  & 5.345 & 17.42 & 0     & 0     & 3     & 4    \\\\\n",
       "\tFiat 128 & 32.4  & 4     &  78.7 &  66   & 4.08  & 2.200 & 19.47 & 1     & 1     & 4     & 1    \\\\\n",
       "\tHonda Civic & 30.4  & 4     &  75.7 &  52   & 4.93  & 1.615 & 18.52 & 1     & 1     & 4     & 2    \\\\\n",
       "\tToyota Corolla & 33.9  & 4     &  71.1 &  65   & 4.22  & 1.835 & 19.90 & 1     & 1     & 4     & 1    \\\\\n",
       "\tToyota Corona & 21.5  & 4     & 120.1 &  97   & 3.70  & 2.465 & 20.01 & 1     & 0     & 3     & 1    \\\\\n",
       "\tDodge Challenger & 15.5  & 8     & 318.0 & 150   & 2.76  & 3.520 & 16.87 & 0     & 0     & 3     & 2    \\\\\n",
       "\tAMC Javelin & 15.2  & 8     & 304.0 & 150   & 3.15  & 3.435 & 17.30 & 0     & 0     & 3     & 2    \\\\\n",
       "\tCamaro Z28 & 13.3  & 8     & 350.0 & 245   & 3.73  & 3.840 & 15.41 & 0     & 0     & 3     & 4    \\\\\n",
       "\tPontiac Firebird & 19.2  & 8     & 400.0 & 175   & 3.08  & 3.845 & 17.05 & 0     & 0     & 3     & 2    \\\\\n",
       "\tFiat X1-9 & 27.3  & 4     &  79.0 &  66   & 4.08  & 1.935 & 18.90 & 1     & 1     & 4     & 1    \\\\\n",
       "\tPorsche 914-2 & 26.0  & 4     & 120.3 &  91   & 4.43  & 2.140 & 16.70 & 0     & 1     & 5     & 2    \\\\\n",
       "\tLotus Europa & 30.4  & 4     &  95.1 & 113   & 3.77  & 1.513 & 16.90 & 1     & 1     & 5     & 2    \\\\\n",
       "\tFord Pantera L & 15.8  & 8     & 351.0 & 264   & 4.22  & 3.170 & 14.50 & 0     & 1     & 5     & 4    \\\\\n",
       "\tFerrari Dino & 19.7  & 6     & 145.0 & 175   & 3.62  & 2.770 & 15.50 & 0     & 1     & 5     & 6    \\\\\n",
       "\tMaserati Bora & 15.0  & 8     & 301.0 & 335   & 3.54  & 3.570 & 14.60 & 0     & 1     & 5     & 8    \\\\\n",
       "\tVolvo 142E & 21.4  & 4     & 121.0 & 109   & 4.11  & 2.780 & 18.60 & 1     & 1     & 4     & 2    \\\\\n",
       "\\end{tabular}\n"
      ],
      "text/markdown": [
       "\n",
       "| <!--/--> | mpg | cyl | disp | hp | drat | wt | qsec | vs | am | gear | carb | \n",
       "|---|---|---|---|---|---|---|---|---|---|---|---|---|---|---|---|---|---|---|---|---|---|---|---|---|---|---|---|---|---|---|---|\n",
       "| Mazda RX4 | 21.0  | 6     | 160.0 | 110   | 3.90  | 2.620 | 16.46 | 0     | 1     | 4     | 4     | \n",
       "| Mazda RX4 Wag | 21.0  | 6     | 160.0 | 110   | 3.90  | 2.875 | 17.02 | 0     | 1     | 4     | 4     | \n",
       "| Datsun 710 | 22.8  | 4     | 108.0 |  93   | 3.85  | 2.320 | 18.61 | 1     | 1     | 4     | 1     | \n",
       "| Hornet 4 Drive | 21.4  | 6     | 258.0 | 110   | 3.08  | 3.215 | 19.44 | 1     | 0     | 3     | 1     | \n",
       "| Hornet Sportabout | 18.7  | 8     | 360.0 | 175   | 3.15  | 3.440 | 17.02 | 0     | 0     | 3     | 2     | \n",
       "| Valiant | 18.1  | 6     | 225.0 | 105   | 2.76  | 3.460 | 20.22 | 1     | 0     | 3     | 1     | \n",
       "| Duster 360 | 14.3  | 8     | 360.0 | 245   | 3.21  | 3.570 | 15.84 | 0     | 0     | 3     | 4     | \n",
       "| Merc 240D | 24.4  | 4     | 146.7 |  62   | 3.69  | 3.190 | 20.00 | 1     | 0     | 4     | 2     | \n",
       "| Merc 230 | 22.8  | 4     | 140.8 |  95   | 3.92  | 3.150 | 22.90 | 1     | 0     | 4     | 2     | \n",
       "| Merc 280 | 19.2  | 6     | 167.6 | 123   | 3.92  | 3.440 | 18.30 | 1     | 0     | 4     | 4     | \n",
       "| Merc 280C | 17.8  | 6     | 167.6 | 123   | 3.92  | 3.440 | 18.90 | 1     | 0     | 4     | 4     | \n",
       "| Merc 450SE | 16.4  | 8     | 275.8 | 180   | 3.07  | 4.070 | 17.40 | 0     | 0     | 3     | 3     | \n",
       "| Merc 450SL | 17.3  | 8     | 275.8 | 180   | 3.07  | 3.730 | 17.60 | 0     | 0     | 3     | 3     | \n",
       "| Merc 450SLC | 15.2  | 8     | 275.8 | 180   | 3.07  | 3.780 | 18.00 | 0     | 0     | 3     | 3     | \n",
       "| Cadillac Fleetwood | 10.4  | 8     | 472.0 | 205   | 2.93  | 5.250 | 17.98 | 0     | 0     | 3     | 4     | \n",
       "| Lincoln Continental | 10.4  | 8     | 460.0 | 215   | 3.00  | 5.424 | 17.82 | 0     | 0     | 3     | 4     | \n",
       "| Chrysler Imperial | 14.7  | 8     | 440.0 | 230   | 3.23  | 5.345 | 17.42 | 0     | 0     | 3     | 4     | \n",
       "| Fiat 128 | 32.4  | 4     |  78.7 |  66   | 4.08  | 2.200 | 19.47 | 1     | 1     | 4     | 1     | \n",
       "| Honda Civic | 30.4  | 4     |  75.7 |  52   | 4.93  | 1.615 | 18.52 | 1     | 1     | 4     | 2     | \n",
       "| Toyota Corolla | 33.9  | 4     |  71.1 |  65   | 4.22  | 1.835 | 19.90 | 1     | 1     | 4     | 1     | \n",
       "| Toyota Corona | 21.5  | 4     | 120.1 |  97   | 3.70  | 2.465 | 20.01 | 1     | 0     | 3     | 1     | \n",
       "| Dodge Challenger | 15.5  | 8     | 318.0 | 150   | 2.76  | 3.520 | 16.87 | 0     | 0     | 3     | 2     | \n",
       "| AMC Javelin | 15.2  | 8     | 304.0 | 150   | 3.15  | 3.435 | 17.30 | 0     | 0     | 3     | 2     | \n",
       "| Camaro Z28 | 13.3  | 8     | 350.0 | 245   | 3.73  | 3.840 | 15.41 | 0     | 0     | 3     | 4     | \n",
       "| Pontiac Firebird | 19.2  | 8     | 400.0 | 175   | 3.08  | 3.845 | 17.05 | 0     | 0     | 3     | 2     | \n",
       "| Fiat X1-9 | 27.3  | 4     |  79.0 |  66   | 4.08  | 1.935 | 18.90 | 1     | 1     | 4     | 1     | \n",
       "| Porsche 914-2 | 26.0  | 4     | 120.3 |  91   | 4.43  | 2.140 | 16.70 | 0     | 1     | 5     | 2     | \n",
       "| Lotus Europa | 30.4  | 4     |  95.1 | 113   | 3.77  | 1.513 | 16.90 | 1     | 1     | 5     | 2     | \n",
       "| Ford Pantera L | 15.8  | 8     | 351.0 | 264   | 4.22  | 3.170 | 14.50 | 0     | 1     | 5     | 4     | \n",
       "| Ferrari Dino | 19.7  | 6     | 145.0 | 175   | 3.62  | 2.770 | 15.50 | 0     | 1     | 5     | 6     | \n",
       "| Maserati Bora | 15.0  | 8     | 301.0 | 335   | 3.54  | 3.570 | 14.60 | 0     | 1     | 5     | 8     | \n",
       "| Volvo 142E | 21.4  | 4     | 121.0 | 109   | 4.11  | 2.780 | 18.60 | 1     | 1     | 4     | 2     | \n",
       "\n",
       "\n"
      ],
      "text/plain": [
       "                    mpg  cyl disp  hp  drat wt    qsec  vs am gear carb\n",
       "Mazda RX4           21.0 6   160.0 110 3.90 2.620 16.46 0  1  4    4   \n",
       "Mazda RX4 Wag       21.0 6   160.0 110 3.90 2.875 17.02 0  1  4    4   \n",
       "Datsun 710          22.8 4   108.0  93 3.85 2.320 18.61 1  1  4    1   \n",
       "Hornet 4 Drive      21.4 6   258.0 110 3.08 3.215 19.44 1  0  3    1   \n",
       "Hornet Sportabout   18.7 8   360.0 175 3.15 3.440 17.02 0  0  3    2   \n",
       "Valiant             18.1 6   225.0 105 2.76 3.460 20.22 1  0  3    1   \n",
       "Duster 360          14.3 8   360.0 245 3.21 3.570 15.84 0  0  3    4   \n",
       "Merc 240D           24.4 4   146.7  62 3.69 3.190 20.00 1  0  4    2   \n",
       "Merc 230            22.8 4   140.8  95 3.92 3.150 22.90 1  0  4    2   \n",
       "Merc 280            19.2 6   167.6 123 3.92 3.440 18.30 1  0  4    4   \n",
       "Merc 280C           17.8 6   167.6 123 3.92 3.440 18.90 1  0  4    4   \n",
       "Merc 450SE          16.4 8   275.8 180 3.07 4.070 17.40 0  0  3    3   \n",
       "Merc 450SL          17.3 8   275.8 180 3.07 3.730 17.60 0  0  3    3   \n",
       "Merc 450SLC         15.2 8   275.8 180 3.07 3.780 18.00 0  0  3    3   \n",
       "Cadillac Fleetwood  10.4 8   472.0 205 2.93 5.250 17.98 0  0  3    4   \n",
       "Lincoln Continental 10.4 8   460.0 215 3.00 5.424 17.82 0  0  3    4   \n",
       "Chrysler Imperial   14.7 8   440.0 230 3.23 5.345 17.42 0  0  3    4   \n",
       "Fiat 128            32.4 4    78.7  66 4.08 2.200 19.47 1  1  4    1   \n",
       "Honda Civic         30.4 4    75.7  52 4.93 1.615 18.52 1  1  4    2   \n",
       "Toyota Corolla      33.9 4    71.1  65 4.22 1.835 19.90 1  1  4    1   \n",
       "Toyota Corona       21.5 4   120.1  97 3.70 2.465 20.01 1  0  3    1   \n",
       "Dodge Challenger    15.5 8   318.0 150 2.76 3.520 16.87 0  0  3    2   \n",
       "AMC Javelin         15.2 8   304.0 150 3.15 3.435 17.30 0  0  3    2   \n",
       "Camaro Z28          13.3 8   350.0 245 3.73 3.840 15.41 0  0  3    4   \n",
       "Pontiac Firebird    19.2 8   400.0 175 3.08 3.845 17.05 0  0  3    2   \n",
       "Fiat X1-9           27.3 4    79.0  66 4.08 1.935 18.90 1  1  4    1   \n",
       "Porsche 914-2       26.0 4   120.3  91 4.43 2.140 16.70 0  1  5    2   \n",
       "Lotus Europa        30.4 4    95.1 113 3.77 1.513 16.90 1  1  5    2   \n",
       "Ford Pantera L      15.8 8   351.0 264 4.22 3.170 14.50 0  1  5    4   \n",
       "Ferrari Dino        19.7 6   145.0 175 3.62 2.770 15.50 0  1  5    6   \n",
       "Maserati Bora       15.0 8   301.0 335 3.54 3.570 14.60 0  1  5    8   \n",
       "Volvo 142E          21.4 4   121.0 109 4.11 2.780 18.60 1  1  4    2   "
      ]
     },
     "metadata": {},
     "output_type": "display_data"
    }
   ],
   "source": [
    "mtcars"
   ]
  },
  {
   "cell_type": "markdown",
   "metadata": {},
   "source": [
    "## Creating a Data Frame"
   ]
  },
  {
   "cell_type": "code",
   "execution_count": 63,
   "metadata": {},
   "outputs": [
    {
     "data": {
      "text/html": [
       "<table>\n",
       "<thead><tr><th scope=col>month_name</th><th scope=col>month_count</th></tr></thead>\n",
       "<tbody>\n",
       "\t<tr><td>Jan</td><td>1  </td></tr>\n",
       "\t<tr><td>Feb</td><td>2  </td></tr>\n",
       "\t<tr><td>Mar</td><td>3  </td></tr>\n",
       "</tbody>\n",
       "</table>\n"
      ],
      "text/latex": [
       "\\begin{tabular}{r|ll}\n",
       " month\\_name & month\\_count\\\\\n",
       "\\hline\n",
       "\t Jan & 1  \\\\\n",
       "\t Feb & 2  \\\\\n",
       "\t Mar & 3  \\\\\n",
       "\\end{tabular}\n"
      ],
      "text/markdown": [
       "\n",
       "month_name | month_count | \n",
       "|---|---|---|\n",
       "| Jan | 1   | \n",
       "| Feb | 2   | \n",
       "| Mar | 3   | \n",
       "\n",
       "\n"
      ],
      "text/plain": [
       "  month_name month_count\n",
       "1 Jan        1          \n",
       "2 Feb        2          \n",
       "3 Mar        3          "
      ]
     },
     "metadata": {},
     "output_type": "display_data"
    }
   ],
   "source": [
    "df <- data.frame(month_name=c(\"Jan\", \"Feb\", \"Mar\"), month_count=1:3)\n",
    "df"
   ]
  },
  {
   "cell_type": "markdown",
   "metadata": {},
   "source": [
    "## Accessing Data Cells"
   ]
  },
  {
   "cell_type": "code",
   "execution_count": 64,
   "metadata": {},
   "outputs": [
    {
     "data": {
      "text/html": [
       "21"
      ],
      "text/latex": [
       "21"
      ],
      "text/markdown": [
       "21"
      ],
      "text/plain": [
       "[1] 21"
      ]
     },
     "metadata": {},
     "output_type": "display_data"
    },
    {
     "data": {
      "text/html": [
       "21"
      ],
      "text/latex": [
       "21"
      ],
      "text/markdown": [
       "21"
      ],
      "text/plain": [
       "[1] 21"
      ]
     },
     "metadata": {},
     "output_type": "display_data"
    }
   ],
   "source": [
    "mtcars[1, 1]               # access by index\n",
    "mtcars[\"Mazda RX4\", \"mpg\"] # access by row and column labels"
   ]
  },
  {
   "cell_type": "markdown",
   "metadata": {},
   "source": [
    "## Getting Info About a Data Frame"
   ]
  },
  {
   "cell_type": "code",
   "execution_count": 65,
   "metadata": {},
   "outputs": [
    {
     "data": {
      "text/html": [
       "<ol class=list-inline>\n",
       "\t<li>'mpg'</li>\n",
       "\t<li>'cyl'</li>\n",
       "\t<li>'disp'</li>\n",
       "\t<li>'hp'</li>\n",
       "\t<li>'drat'</li>\n",
       "\t<li>'wt'</li>\n",
       "\t<li>'qsec'</li>\n",
       "\t<li>'vs'</li>\n",
       "\t<li>'am'</li>\n",
       "\t<li>'gear'</li>\n",
       "\t<li>'carb'</li>\n",
       "</ol>\n"
      ],
      "text/latex": [
       "\\begin{enumerate*}\n",
       "\\item 'mpg'\n",
       "\\item 'cyl'\n",
       "\\item 'disp'\n",
       "\\item 'hp'\n",
       "\\item 'drat'\n",
       "\\item 'wt'\n",
       "\\item 'qsec'\n",
       "\\item 'vs'\n",
       "\\item 'am'\n",
       "\\item 'gear'\n",
       "\\item 'carb'\n",
       "\\end{enumerate*}\n"
      ],
      "text/markdown": [
       "1. 'mpg'\n",
       "2. 'cyl'\n",
       "3. 'disp'\n",
       "4. 'hp'\n",
       "5. 'drat'\n",
       "6. 'wt'\n",
       "7. 'qsec'\n",
       "8. 'vs'\n",
       "9. 'am'\n",
       "10. 'gear'\n",
       "11. 'carb'\n",
       "\n",
       "\n"
      ],
      "text/plain": [
       " [1] \"mpg\"  \"cyl\"  \"disp\" \"hp\"   \"drat\" \"wt\"   \"qsec\" \"vs\"   \"am\"   \"gear\"\n",
       "[11] \"carb\""
      ]
     },
     "metadata": {},
     "output_type": "display_data"
    },
    {
     "data": {
      "text/html": [
       "32"
      ],
      "text/latex": [
       "32"
      ],
      "text/markdown": [
       "32"
      ],
      "text/plain": [
       "[1] 32"
      ]
     },
     "metadata": {},
     "output_type": "display_data"
    },
    {
     "data": {
      "text/html": [
       "11"
      ],
      "text/latex": [
       "11"
      ],
      "text/markdown": [
       "11"
      ],
      "text/plain": [
       "[1] 11"
      ]
     },
     "metadata": {},
     "output_type": "display_data"
    }
   ],
   "source": [
    "names(mtcars)\n",
    "nrow(mtcars)\n",
    "ncol(mtcars)"
   ]
  },
  {
   "cell_type": "markdown",
   "metadata": {},
   "source": [
    "## Selecting Columns in Data Frames"
   ]
  },
  {
   "cell_type": "code",
   "execution_count": 66,
   "metadata": {},
   "outputs": [
    {
     "name": "stdout",
     "output_type": "stream",
     "text": [
      "                     mpg cyl  hp\n",
      "Mazda RX4           21.0   6 110\n",
      "Mazda RX4 Wag       21.0   6 110\n",
      "Datsun 710          22.8   4  93\n",
      "Hornet 4 Drive      21.4   6 110\n",
      "Hornet Sportabout   18.7   8 175\n",
      "Valiant             18.1   6 105\n",
      "Duster 360          14.3   8 245\n",
      "Merc 240D           24.4   4  62\n",
      "Merc 230            22.8   4  95\n",
      "Merc 280            19.2   6 123\n",
      "Merc 280C           17.8   6 123\n",
      "Merc 450SE          16.4   8 180\n",
      "Merc 450SL          17.3   8 180\n",
      "Merc 450SLC         15.2   8 180\n",
      "Cadillac Fleetwood  10.4   8 205\n",
      "Lincoln Continental 10.4   8 215\n",
      "Chrysler Imperial   14.7   8 230\n",
      "Fiat 128            32.4   4  66\n",
      "Honda Civic         30.4   4  52\n",
      "Toyota Corolla      33.9   4  65\n",
      "Toyota Corona       21.5   4  97\n",
      "Dodge Challenger    15.5   8 150\n",
      "AMC Javelin         15.2   8 150\n",
      "Camaro Z28          13.3   8 245\n",
      "Pontiac Firebird    19.2   8 175\n",
      "Fiat X1-9           27.3   4  66\n",
      "Porsche 914-2       26.0   4  91\n",
      "Lotus Europa        30.4   4 113\n",
      "Ford Pantera L      15.8   8 264\n",
      "Ferrari Dino        19.7   6 175\n",
      "Maserati Bora       15.0   8 335\n",
      "Volvo 142E          21.4   4 109\n"
     ]
    }
   ],
   "source": [
    "cols <- c(\"mpg\", \"cyl\", \"hp\") # slice columns using column names\n",
    "print(mtcars[cols])"
   ]
  },
  {
   "cell_type": "code",
   "execution_count": 67,
   "metadata": {},
   "outputs": [
    {
     "data": {
      "text/html": [
       "<ol class=list-inline>\n",
       "\t<li>21</li>\n",
       "\t<li>21</li>\n",
       "\t<li>22.8</li>\n",
       "\t<li>21.4</li>\n",
       "\t<li>18.7</li>\n",
       "\t<li>18.1</li>\n",
       "\t<li>14.3</li>\n",
       "\t<li>24.4</li>\n",
       "\t<li>22.8</li>\n",
       "\t<li>19.2</li>\n",
       "\t<li>17.8</li>\n",
       "\t<li>16.4</li>\n",
       "\t<li>17.3</li>\n",
       "\t<li>15.2</li>\n",
       "\t<li>10.4</li>\n",
       "\t<li>10.4</li>\n",
       "\t<li>14.7</li>\n",
       "\t<li>32.4</li>\n",
       "\t<li>30.4</li>\n",
       "\t<li>33.9</li>\n",
       "\t<li>21.5</li>\n",
       "\t<li>15.5</li>\n",
       "\t<li>15.2</li>\n",
       "\t<li>13.3</li>\n",
       "\t<li>19.2</li>\n",
       "\t<li>27.3</li>\n",
       "\t<li>26</li>\n",
       "\t<li>30.4</li>\n",
       "\t<li>15.8</li>\n",
       "\t<li>19.7</li>\n",
       "\t<li>15</li>\n",
       "\t<li>21.4</li>\n",
       "</ol>\n"
      ],
      "text/latex": [
       "\\begin{enumerate*}\n",
       "\\item 21\n",
       "\\item 21\n",
       "\\item 22.8\n",
       "\\item 21.4\n",
       "\\item 18.7\n",
       "\\item 18.1\n",
       "\\item 14.3\n",
       "\\item 24.4\n",
       "\\item 22.8\n",
       "\\item 19.2\n",
       "\\item 17.8\n",
       "\\item 16.4\n",
       "\\item 17.3\n",
       "\\item 15.2\n",
       "\\item 10.4\n",
       "\\item 10.4\n",
       "\\item 14.7\n",
       "\\item 32.4\n",
       "\\item 30.4\n",
       "\\item 33.9\n",
       "\\item 21.5\n",
       "\\item 15.5\n",
       "\\item 15.2\n",
       "\\item 13.3\n",
       "\\item 19.2\n",
       "\\item 27.3\n",
       "\\item 26\n",
       "\\item 30.4\n",
       "\\item 15.8\n",
       "\\item 19.7\n",
       "\\item 15\n",
       "\\item 21.4\n",
       "\\end{enumerate*}\n"
      ],
      "text/markdown": [
       "1. 21\n",
       "2. 21\n",
       "3. 22.8\n",
       "4. 21.4\n",
       "5. 18.7\n",
       "6. 18.1\n",
       "7. 14.3\n",
       "8. 24.4\n",
       "9. 22.8\n",
       "10. 19.2\n",
       "11. 17.8\n",
       "12. 16.4\n",
       "13. 17.3\n",
       "14. 15.2\n",
       "15. 10.4\n",
       "16. 10.4\n",
       "17. 14.7\n",
       "18. 32.4\n",
       "19. 30.4\n",
       "20. 33.9\n",
       "21. 21.5\n",
       "22. 15.5\n",
       "23. 15.2\n",
       "24. 13.3\n",
       "25. 19.2\n",
       "26. 27.3\n",
       "27. 26\n",
       "28. 30.4\n",
       "29. 15.8\n",
       "30. 19.7\n",
       "31. 15\n",
       "32. 21.4\n",
       "\n",
       "\n"
      ],
      "text/plain": [
       " [1] 21.0 21.0 22.8 21.4 18.7 18.1 14.3 24.4 22.8 19.2 17.8 16.4 17.3 15.2 10.4\n",
       "[16] 10.4 14.7 32.4 30.4 33.9 21.5 15.5 15.2 13.3 19.2 27.3 26.0 30.4 15.8 19.7\n",
       "[31] 15.0 21.4"
      ]
     },
     "metadata": {},
     "output_type": "display_data"
    }
   ],
   "source": [
    "mtcars$mpg # select single column using $ reference"
   ]
  },
  {
   "cell_type": "markdown",
   "metadata": {},
   "source": [
    "## Selecting Rows in Data Frames"
   ]
  },
  {
   "cell_type": "code",
   "execution_count": 68,
   "metadata": {},
   "outputs": [
    {
     "name": "stdout",
     "output_type": "stream",
     "text": [
      "                   mpg cyl disp  hp drat    wt  qsec vs am gear carb\n",
      "Mazda RX4 Wag     21.0   6  160 110 3.90 2.875 17.02  0  1    4    4\n",
      "Datsun 710        22.8   4  108  93 3.85 2.320 18.61  1  1    4    1\n",
      "Hornet Sportabout 18.7   8  360 175 3.15 3.440 17.02  0  0    3    2\n"
     ]
    }
   ],
   "source": [
    "carIndexes <- c(2, 3, 5)   # slice data frame horizontally using row indexes\n",
    "print(mtcars[carIndexes,])"
   ]
  },
  {
   "cell_type": "code",
   "execution_count": 69,
   "metadata": {},
   "outputs": [
    {
     "name": "stdout",
     "output_type": "stream",
     "text": [
      "              mpg cyl  disp  hp drat    wt  qsec vs am gear carb\n",
      "Lotus Europa 30.4   4  95.1 113 3.77 1.513 16.90  1  1    5    2\n",
      "Camaro Z28   13.3   8 350.0 245 3.73 3.840 15.41  0  0    3    4\n",
      "AMC Javelin  15.2   8 304.0 150 3.15 3.435 17.30  0  0    3    2\n"
     ]
    }
   ],
   "source": [
    "carNames <- c(\"Lotus Europa\", \"Camaro Z28\", \"AMC Javelin\")   # slice data frame horizontally using row names\n",
    "print(mtcars[carNames,])"
   ]
  },
  {
   "cell_type": "markdown",
   "metadata": {},
   "source": [
    "## Getting a Subset of a Data Frame"
   ]
  },
  {
   "cell_type": "code",
   "execution_count": 70,
   "metadata": {},
   "outputs": [
    {
     "name": "stdout",
     "output_type": "stream",
     "text": [
      "               hp    wt\n",
      "Mazda RX4     110 2.620\n",
      "Mazda RX4 Wag 110 2.875\n",
      "Datsun 710     93 2.320\n"
     ]
    }
   ],
   "source": [
    "stats <- as.data.frame(mtcars[c(1,2,3), c(\"hp\", \"wt\")]) # some rows and some columns\n",
    "print(stats)"
   ]
  },
  {
   "cell_type": "code",
   "execution_count": 71,
   "metadata": {},
   "outputs": [
    {
     "name": "stdout",
     "output_type": "stream",
     "text": [
      "                     hp    wt\n",
      "Mazda RX4           110 2.620\n",
      "Mazda RX4 Wag       110 2.875\n",
      "Datsun 710           93 2.320\n",
      "Hornet 4 Drive      110 3.215\n",
      "Hornet Sportabout   175 3.440\n",
      "Valiant             105 3.460\n",
      "Duster 360          245 3.570\n",
      "Merc 240D            62 3.190\n",
      "Merc 230             95 3.150\n",
      "Merc 280            123 3.440\n",
      "Merc 280C           123 3.440\n",
      "Merc 450SE          180 4.070\n",
      "Merc 450SL          180 3.730\n",
      "Merc 450SLC         180 3.780\n",
      "Cadillac Fleetwood  205 5.250\n",
      "Lincoln Continental 215 5.424\n",
      "Chrysler Imperial   230 5.345\n",
      "Fiat 128             66 2.200\n",
      "Honda Civic          52 1.615\n",
      "Toyota Corolla       65 1.835\n",
      "Toyota Corona        97 2.465\n",
      "Dodge Challenger    150 3.520\n",
      "AMC Javelin         150 3.435\n",
      "Camaro Z28          245 3.840\n",
      "Pontiac Firebird    175 3.845\n",
      "Fiat X1-9            66 1.935\n",
      "Porsche 914-2        91 2.140\n",
      "Lotus Europa        113 1.513\n",
      "Ford Pantera L      264 3.170\n",
      "Ferrari Dino        175 2.770\n",
      "Maserati Bora       335 3.570\n",
      "Volvo 142E          109 2.780\n"
     ]
    }
   ],
   "source": [
    "stats <- as.data.frame(mtcars[, c(\"hp\", \"wt\")])         # all rows and some columns\n",
    "print(stats)"
   ]
  },
  {
   "cell_type": "code",
   "execution_count": 72,
   "metadata": {},
   "outputs": [
    {
     "name": "stdout",
     "output_type": "stream",
     "text": [
      "               mpg cyl disp  hp drat    wt  qsec vs am gear carb\n",
      "Mazda RX4     21.0   6  160 110 3.90 2.620 16.46  0  1    4    4\n",
      "Mazda RX4 Wag 21.0   6  160 110 3.90 2.875 17.02  0  1    4    4\n",
      "Datsun 710    22.8   4  108  93 3.85 2.320 18.61  1  1    4    1\n"
     ]
    }
   ],
   "source": [
    "stats <- as.data.frame(mtcars[c(1,2,3),]) # some rows and all columns\n",
    "print(stats)"
   ]
  },
  {
   "cell_type": "markdown",
   "metadata": {},
   "source": [
    "## Sorting Data in Data Frame by Attributes"
   ]
  },
  {
   "cell_type": "code",
   "execution_count": 73,
   "metadata": {},
   "outputs": [
    {
     "data": {
      "text/html": [
       "<table>\n",
       "<thead><tr><th></th><th scope=col>mpg</th><th scope=col>cyl</th><th scope=col>disp</th><th scope=col>hp</th><th scope=col>drat</th><th scope=col>wt</th><th scope=col>qsec</th><th scope=col>vs</th><th scope=col>am</th><th scope=col>gear</th><th scope=col>carb</th></tr></thead>\n",
       "<tbody>\n",
       "\t<tr><th scope=row>Cadillac Fleetwood</th><td>10.4 </td><td>8    </td><td>472.0</td><td>205  </td><td>2.93 </td><td>5.250</td><td>17.98</td><td>0    </td><td>0    </td><td>3    </td><td>4    </td></tr>\n",
       "\t<tr><th scope=row>Lincoln Continental</th><td>10.4 </td><td>8    </td><td>460.0</td><td>215  </td><td>3.00 </td><td>5.424</td><td>17.82</td><td>0    </td><td>0    </td><td>3    </td><td>4    </td></tr>\n",
       "\t<tr><th scope=row>Camaro Z28</th><td>13.3 </td><td>8    </td><td>350.0</td><td>245  </td><td>3.73 </td><td>3.840</td><td>15.41</td><td>0    </td><td>0    </td><td>3    </td><td>4    </td></tr>\n",
       "\t<tr><th scope=row>Duster 360</th><td>14.3 </td><td>8    </td><td>360.0</td><td>245  </td><td>3.21 </td><td>3.570</td><td>15.84</td><td>0    </td><td>0    </td><td>3    </td><td>4    </td></tr>\n",
       "\t<tr><th scope=row>Chrysler Imperial</th><td>14.7 </td><td>8    </td><td>440.0</td><td>230  </td><td>3.23 </td><td>5.345</td><td>17.42</td><td>0    </td><td>0    </td><td>3    </td><td>4    </td></tr>\n",
       "\t<tr><th scope=row>Maserati Bora</th><td>15.0 </td><td>8    </td><td>301.0</td><td>335  </td><td>3.54 </td><td>3.570</td><td>14.60</td><td>0    </td><td>1    </td><td>5    </td><td>8    </td></tr>\n",
       "\t<tr><th scope=row>Merc 450SLC</th><td>15.2 </td><td>8    </td><td>275.8</td><td>180  </td><td>3.07 </td><td>3.780</td><td>18.00</td><td>0    </td><td>0    </td><td>3    </td><td>3    </td></tr>\n",
       "\t<tr><th scope=row>AMC Javelin</th><td>15.2 </td><td>8    </td><td>304.0</td><td>150  </td><td>3.15 </td><td>3.435</td><td>17.30</td><td>0    </td><td>0    </td><td>3    </td><td>2    </td></tr>\n",
       "\t<tr><th scope=row>Dodge Challenger</th><td>15.5 </td><td>8    </td><td>318.0</td><td>150  </td><td>2.76 </td><td>3.520</td><td>16.87</td><td>0    </td><td>0    </td><td>3    </td><td>2    </td></tr>\n",
       "\t<tr><th scope=row>Ford Pantera L</th><td>15.8 </td><td>8    </td><td>351.0</td><td>264  </td><td>4.22 </td><td>3.170</td><td>14.50</td><td>0    </td><td>1    </td><td>5    </td><td>4    </td></tr>\n",
       "\t<tr><th scope=row>Merc 450SE</th><td>16.4 </td><td>8    </td><td>275.8</td><td>180  </td><td>3.07 </td><td>4.070</td><td>17.40</td><td>0    </td><td>0    </td><td>3    </td><td>3    </td></tr>\n",
       "\t<tr><th scope=row>Merc 450SL</th><td>17.3 </td><td>8    </td><td>275.8</td><td>180  </td><td>3.07 </td><td>3.730</td><td>17.60</td><td>0    </td><td>0    </td><td>3    </td><td>3    </td></tr>\n",
       "\t<tr><th scope=row>Merc 280C</th><td>17.8 </td><td>6    </td><td>167.6</td><td>123  </td><td>3.92 </td><td>3.440</td><td>18.90</td><td>1    </td><td>0    </td><td>4    </td><td>4    </td></tr>\n",
       "\t<tr><th scope=row>Valiant</th><td>18.1 </td><td>6    </td><td>225.0</td><td>105  </td><td>2.76 </td><td>3.460</td><td>20.22</td><td>1    </td><td>0    </td><td>3    </td><td>1    </td></tr>\n",
       "\t<tr><th scope=row>Hornet Sportabout</th><td>18.7 </td><td>8    </td><td>360.0</td><td>175  </td><td>3.15 </td><td>3.440</td><td>17.02</td><td>0    </td><td>0    </td><td>3    </td><td>2    </td></tr>\n",
       "\t<tr><th scope=row>Merc 280</th><td>19.2 </td><td>6    </td><td>167.6</td><td>123  </td><td>3.92 </td><td>3.440</td><td>18.30</td><td>1    </td><td>0    </td><td>4    </td><td>4    </td></tr>\n",
       "\t<tr><th scope=row>Pontiac Firebird</th><td>19.2 </td><td>8    </td><td>400.0</td><td>175  </td><td>3.08 </td><td>3.845</td><td>17.05</td><td>0    </td><td>0    </td><td>3    </td><td>2    </td></tr>\n",
       "\t<tr><th scope=row>Ferrari Dino</th><td>19.7 </td><td>6    </td><td>145.0</td><td>175  </td><td>3.62 </td><td>2.770</td><td>15.50</td><td>0    </td><td>1    </td><td>5    </td><td>6    </td></tr>\n",
       "\t<tr><th scope=row>Mazda RX4</th><td>21.0 </td><td>6    </td><td>160.0</td><td>110  </td><td>3.90 </td><td>2.620</td><td>16.46</td><td>0    </td><td>1    </td><td>4    </td><td>4    </td></tr>\n",
       "\t<tr><th scope=row>Mazda RX4 Wag</th><td>21.0 </td><td>6    </td><td>160.0</td><td>110  </td><td>3.90 </td><td>2.875</td><td>17.02</td><td>0    </td><td>1    </td><td>4    </td><td>4    </td></tr>\n",
       "\t<tr><th scope=row>Hornet 4 Drive</th><td>21.4 </td><td>6    </td><td>258.0</td><td>110  </td><td>3.08 </td><td>3.215</td><td>19.44</td><td>1    </td><td>0    </td><td>3    </td><td>1    </td></tr>\n",
       "\t<tr><th scope=row>Volvo 142E</th><td>21.4 </td><td>4    </td><td>121.0</td><td>109  </td><td>4.11 </td><td>2.780</td><td>18.60</td><td>1    </td><td>1    </td><td>4    </td><td>2    </td></tr>\n",
       "\t<tr><th scope=row>Toyota Corona</th><td>21.5 </td><td>4    </td><td>120.1</td><td> 97  </td><td>3.70 </td><td>2.465</td><td>20.01</td><td>1    </td><td>0    </td><td>3    </td><td>1    </td></tr>\n",
       "\t<tr><th scope=row>Datsun 710</th><td>22.8 </td><td>4    </td><td>108.0</td><td> 93  </td><td>3.85 </td><td>2.320</td><td>18.61</td><td>1    </td><td>1    </td><td>4    </td><td>1    </td></tr>\n",
       "\t<tr><th scope=row>Merc 230</th><td>22.8 </td><td>4    </td><td>140.8</td><td> 95  </td><td>3.92 </td><td>3.150</td><td>22.90</td><td>1    </td><td>0    </td><td>4    </td><td>2    </td></tr>\n",
       "\t<tr><th scope=row>Merc 240D</th><td>24.4 </td><td>4    </td><td>146.7</td><td> 62  </td><td>3.69 </td><td>3.190</td><td>20.00</td><td>1    </td><td>0    </td><td>4    </td><td>2    </td></tr>\n",
       "\t<tr><th scope=row>Porsche 914-2</th><td>26.0 </td><td>4    </td><td>120.3</td><td> 91  </td><td>4.43 </td><td>2.140</td><td>16.70</td><td>0    </td><td>1    </td><td>5    </td><td>2    </td></tr>\n",
       "\t<tr><th scope=row>Fiat X1-9</th><td>27.3 </td><td>4    </td><td> 79.0</td><td> 66  </td><td>4.08 </td><td>1.935</td><td>18.90</td><td>1    </td><td>1    </td><td>4    </td><td>1    </td></tr>\n",
       "\t<tr><th scope=row>Honda Civic</th><td>30.4 </td><td>4    </td><td> 75.7</td><td> 52  </td><td>4.93 </td><td>1.615</td><td>18.52</td><td>1    </td><td>1    </td><td>4    </td><td>2    </td></tr>\n",
       "\t<tr><th scope=row>Lotus Europa</th><td>30.4 </td><td>4    </td><td> 95.1</td><td>113  </td><td>3.77 </td><td>1.513</td><td>16.90</td><td>1    </td><td>1    </td><td>5    </td><td>2    </td></tr>\n",
       "\t<tr><th scope=row>Fiat 128</th><td>32.4 </td><td>4    </td><td> 78.7</td><td> 66  </td><td>4.08 </td><td>2.200</td><td>19.47</td><td>1    </td><td>1    </td><td>4    </td><td>1    </td></tr>\n",
       "\t<tr><th scope=row>Toyota Corolla</th><td>33.9 </td><td>4    </td><td> 71.1</td><td> 65  </td><td>4.22 </td><td>1.835</td><td>19.90</td><td>1    </td><td>1    </td><td>4    </td><td>1    </td></tr>\n",
       "</tbody>\n",
       "</table>\n"
      ],
      "text/latex": [
       "\\begin{tabular}{r|lllllllllll}\n",
       "  & mpg & cyl & disp & hp & drat & wt & qsec & vs & am & gear & carb\\\\\n",
       "\\hline\n",
       "\tCadillac Fleetwood & 10.4  & 8     & 472.0 & 205   & 2.93  & 5.250 & 17.98 & 0     & 0     & 3     & 4    \\\\\n",
       "\tLincoln Continental & 10.4  & 8     & 460.0 & 215   & 3.00  & 5.424 & 17.82 & 0     & 0     & 3     & 4    \\\\\n",
       "\tCamaro Z28 & 13.3  & 8     & 350.0 & 245   & 3.73  & 3.840 & 15.41 & 0     & 0     & 3     & 4    \\\\\n",
       "\tDuster 360 & 14.3  & 8     & 360.0 & 245   & 3.21  & 3.570 & 15.84 & 0     & 0     & 3     & 4    \\\\\n",
       "\tChrysler Imperial & 14.7  & 8     & 440.0 & 230   & 3.23  & 5.345 & 17.42 & 0     & 0     & 3     & 4    \\\\\n",
       "\tMaserati Bora & 15.0  & 8     & 301.0 & 335   & 3.54  & 3.570 & 14.60 & 0     & 1     & 5     & 8    \\\\\n",
       "\tMerc 450SLC & 15.2  & 8     & 275.8 & 180   & 3.07  & 3.780 & 18.00 & 0     & 0     & 3     & 3    \\\\\n",
       "\tAMC Javelin & 15.2  & 8     & 304.0 & 150   & 3.15  & 3.435 & 17.30 & 0     & 0     & 3     & 2    \\\\\n",
       "\tDodge Challenger & 15.5  & 8     & 318.0 & 150   & 2.76  & 3.520 & 16.87 & 0     & 0     & 3     & 2    \\\\\n",
       "\tFord Pantera L & 15.8  & 8     & 351.0 & 264   & 4.22  & 3.170 & 14.50 & 0     & 1     & 5     & 4    \\\\\n",
       "\tMerc 450SE & 16.4  & 8     & 275.8 & 180   & 3.07  & 4.070 & 17.40 & 0     & 0     & 3     & 3    \\\\\n",
       "\tMerc 450SL & 17.3  & 8     & 275.8 & 180   & 3.07  & 3.730 & 17.60 & 0     & 0     & 3     & 3    \\\\\n",
       "\tMerc 280C & 17.8  & 6     & 167.6 & 123   & 3.92  & 3.440 & 18.90 & 1     & 0     & 4     & 4    \\\\\n",
       "\tValiant & 18.1  & 6     & 225.0 & 105   & 2.76  & 3.460 & 20.22 & 1     & 0     & 3     & 1    \\\\\n",
       "\tHornet Sportabout & 18.7  & 8     & 360.0 & 175   & 3.15  & 3.440 & 17.02 & 0     & 0     & 3     & 2    \\\\\n",
       "\tMerc 280 & 19.2  & 6     & 167.6 & 123   & 3.92  & 3.440 & 18.30 & 1     & 0     & 4     & 4    \\\\\n",
       "\tPontiac Firebird & 19.2  & 8     & 400.0 & 175   & 3.08  & 3.845 & 17.05 & 0     & 0     & 3     & 2    \\\\\n",
       "\tFerrari Dino & 19.7  & 6     & 145.0 & 175   & 3.62  & 2.770 & 15.50 & 0     & 1     & 5     & 6    \\\\\n",
       "\tMazda RX4 & 21.0  & 6     & 160.0 & 110   & 3.90  & 2.620 & 16.46 & 0     & 1     & 4     & 4    \\\\\n",
       "\tMazda RX4 Wag & 21.0  & 6     & 160.0 & 110   & 3.90  & 2.875 & 17.02 & 0     & 1     & 4     & 4    \\\\\n",
       "\tHornet 4 Drive & 21.4  & 6     & 258.0 & 110   & 3.08  & 3.215 & 19.44 & 1     & 0     & 3     & 1    \\\\\n",
       "\tVolvo 142E & 21.4  & 4     & 121.0 & 109   & 4.11  & 2.780 & 18.60 & 1     & 1     & 4     & 2    \\\\\n",
       "\tToyota Corona & 21.5  & 4     & 120.1 &  97   & 3.70  & 2.465 & 20.01 & 1     & 0     & 3     & 1    \\\\\n",
       "\tDatsun 710 & 22.8  & 4     & 108.0 &  93   & 3.85  & 2.320 & 18.61 & 1     & 1     & 4     & 1    \\\\\n",
       "\tMerc 230 & 22.8  & 4     & 140.8 &  95   & 3.92  & 3.150 & 22.90 & 1     & 0     & 4     & 2    \\\\\n",
       "\tMerc 240D & 24.4  & 4     & 146.7 &  62   & 3.69  & 3.190 & 20.00 & 1     & 0     & 4     & 2    \\\\\n",
       "\tPorsche 914-2 & 26.0  & 4     & 120.3 &  91   & 4.43  & 2.140 & 16.70 & 0     & 1     & 5     & 2    \\\\\n",
       "\tFiat X1-9 & 27.3  & 4     &  79.0 &  66   & 4.08  & 1.935 & 18.90 & 1     & 1     & 4     & 1    \\\\\n",
       "\tHonda Civic & 30.4  & 4     &  75.7 &  52   & 4.93  & 1.615 & 18.52 & 1     & 1     & 4     & 2    \\\\\n",
       "\tLotus Europa & 30.4  & 4     &  95.1 & 113   & 3.77  & 1.513 & 16.90 & 1     & 1     & 5     & 2    \\\\\n",
       "\tFiat 128 & 32.4  & 4     &  78.7 &  66   & 4.08  & 2.200 & 19.47 & 1     & 1     & 4     & 1    \\\\\n",
       "\tToyota Corolla & 33.9  & 4     &  71.1 &  65   & 4.22  & 1.835 & 19.90 & 1     & 1     & 4     & 1    \\\\\n",
       "\\end{tabular}\n"
      ],
      "text/markdown": [
       "\n",
       "| <!--/--> | mpg | cyl | disp | hp | drat | wt | qsec | vs | am | gear | carb | \n",
       "|---|---|---|---|---|---|---|---|---|---|---|---|---|---|---|---|---|---|---|---|---|---|---|---|---|---|---|---|---|---|---|---|\n",
       "| Cadillac Fleetwood | 10.4  | 8     | 472.0 | 205   | 2.93  | 5.250 | 17.98 | 0     | 0     | 3     | 4     | \n",
       "| Lincoln Continental | 10.4  | 8     | 460.0 | 215   | 3.00  | 5.424 | 17.82 | 0     | 0     | 3     | 4     | \n",
       "| Camaro Z28 | 13.3  | 8     | 350.0 | 245   | 3.73  | 3.840 | 15.41 | 0     | 0     | 3     | 4     | \n",
       "| Duster 360 | 14.3  | 8     | 360.0 | 245   | 3.21  | 3.570 | 15.84 | 0     | 0     | 3     | 4     | \n",
       "| Chrysler Imperial | 14.7  | 8     | 440.0 | 230   | 3.23  | 5.345 | 17.42 | 0     | 0     | 3     | 4     | \n",
       "| Maserati Bora | 15.0  | 8     | 301.0 | 335   | 3.54  | 3.570 | 14.60 | 0     | 1     | 5     | 8     | \n",
       "| Merc 450SLC | 15.2  | 8     | 275.8 | 180   | 3.07  | 3.780 | 18.00 | 0     | 0     | 3     | 3     | \n",
       "| AMC Javelin | 15.2  | 8     | 304.0 | 150   | 3.15  | 3.435 | 17.30 | 0     | 0     | 3     | 2     | \n",
       "| Dodge Challenger | 15.5  | 8     | 318.0 | 150   | 2.76  | 3.520 | 16.87 | 0     | 0     | 3     | 2     | \n",
       "| Ford Pantera L | 15.8  | 8     | 351.0 | 264   | 4.22  | 3.170 | 14.50 | 0     | 1     | 5     | 4     | \n",
       "| Merc 450SE | 16.4  | 8     | 275.8 | 180   | 3.07  | 4.070 | 17.40 | 0     | 0     | 3     | 3     | \n",
       "| Merc 450SL | 17.3  | 8     | 275.8 | 180   | 3.07  | 3.730 | 17.60 | 0     | 0     | 3     | 3     | \n",
       "| Merc 280C | 17.8  | 6     | 167.6 | 123   | 3.92  | 3.440 | 18.90 | 1     | 0     | 4     | 4     | \n",
       "| Valiant | 18.1  | 6     | 225.0 | 105   | 2.76  | 3.460 | 20.22 | 1     | 0     | 3     | 1     | \n",
       "| Hornet Sportabout | 18.7  | 8     | 360.0 | 175   | 3.15  | 3.440 | 17.02 | 0     | 0     | 3     | 2     | \n",
       "| Merc 280 | 19.2  | 6     | 167.6 | 123   | 3.92  | 3.440 | 18.30 | 1     | 0     | 4     | 4     | \n",
       "| Pontiac Firebird | 19.2  | 8     | 400.0 | 175   | 3.08  | 3.845 | 17.05 | 0     | 0     | 3     | 2     | \n",
       "| Ferrari Dino | 19.7  | 6     | 145.0 | 175   | 3.62  | 2.770 | 15.50 | 0     | 1     | 5     | 6     | \n",
       "| Mazda RX4 | 21.0  | 6     | 160.0 | 110   | 3.90  | 2.620 | 16.46 | 0     | 1     | 4     | 4     | \n",
       "| Mazda RX4 Wag | 21.0  | 6     | 160.0 | 110   | 3.90  | 2.875 | 17.02 | 0     | 1     | 4     | 4     | \n",
       "| Hornet 4 Drive | 21.4  | 6     | 258.0 | 110   | 3.08  | 3.215 | 19.44 | 1     | 0     | 3     | 1     | \n",
       "| Volvo 142E | 21.4  | 4     | 121.0 | 109   | 4.11  | 2.780 | 18.60 | 1     | 1     | 4     | 2     | \n",
       "| Toyota Corona | 21.5  | 4     | 120.1 |  97   | 3.70  | 2.465 | 20.01 | 1     | 0     | 3     | 1     | \n",
       "| Datsun 710 | 22.8  | 4     | 108.0 |  93   | 3.85  | 2.320 | 18.61 | 1     | 1     | 4     | 1     | \n",
       "| Merc 230 | 22.8  | 4     | 140.8 |  95   | 3.92  | 3.150 | 22.90 | 1     | 0     | 4     | 2     | \n",
       "| Merc 240D | 24.4  | 4     | 146.7 |  62   | 3.69  | 3.190 | 20.00 | 1     | 0     | 4     | 2     | \n",
       "| Porsche 914-2 | 26.0  | 4     | 120.3 |  91   | 4.43  | 2.140 | 16.70 | 0     | 1     | 5     | 2     | \n",
       "| Fiat X1-9 | 27.3  | 4     |  79.0 |  66   | 4.08  | 1.935 | 18.90 | 1     | 1     | 4     | 1     | \n",
       "| Honda Civic | 30.4  | 4     |  75.7 |  52   | 4.93  | 1.615 | 18.52 | 1     | 1     | 4     | 2     | \n",
       "| Lotus Europa | 30.4  | 4     |  95.1 | 113   | 3.77  | 1.513 | 16.90 | 1     | 1     | 5     | 2     | \n",
       "| Fiat 128 | 32.4  | 4     |  78.7 |  66   | 4.08  | 2.200 | 19.47 | 1     | 1     | 4     | 1     | \n",
       "| Toyota Corolla | 33.9  | 4     |  71.1 |  65   | 4.22  | 1.835 | 19.90 | 1     | 1     | 4     | 1     | \n",
       "\n",
       "\n"
      ],
      "text/plain": [
       "                    mpg  cyl disp  hp  drat wt    qsec  vs am gear carb\n",
       "Cadillac Fleetwood  10.4 8   472.0 205 2.93 5.250 17.98 0  0  3    4   \n",
       "Lincoln Continental 10.4 8   460.0 215 3.00 5.424 17.82 0  0  3    4   \n",
       "Camaro Z28          13.3 8   350.0 245 3.73 3.840 15.41 0  0  3    4   \n",
       "Duster 360          14.3 8   360.0 245 3.21 3.570 15.84 0  0  3    4   \n",
       "Chrysler Imperial   14.7 8   440.0 230 3.23 5.345 17.42 0  0  3    4   \n",
       "Maserati Bora       15.0 8   301.0 335 3.54 3.570 14.60 0  1  5    8   \n",
       "Merc 450SLC         15.2 8   275.8 180 3.07 3.780 18.00 0  0  3    3   \n",
       "AMC Javelin         15.2 8   304.0 150 3.15 3.435 17.30 0  0  3    2   \n",
       "Dodge Challenger    15.5 8   318.0 150 2.76 3.520 16.87 0  0  3    2   \n",
       "Ford Pantera L      15.8 8   351.0 264 4.22 3.170 14.50 0  1  5    4   \n",
       "Merc 450SE          16.4 8   275.8 180 3.07 4.070 17.40 0  0  3    3   \n",
       "Merc 450SL          17.3 8   275.8 180 3.07 3.730 17.60 0  0  3    3   \n",
       "Merc 280C           17.8 6   167.6 123 3.92 3.440 18.90 1  0  4    4   \n",
       "Valiant             18.1 6   225.0 105 2.76 3.460 20.22 1  0  3    1   \n",
       "Hornet Sportabout   18.7 8   360.0 175 3.15 3.440 17.02 0  0  3    2   \n",
       "Merc 280            19.2 6   167.6 123 3.92 3.440 18.30 1  0  4    4   \n",
       "Pontiac Firebird    19.2 8   400.0 175 3.08 3.845 17.05 0  0  3    2   \n",
       "Ferrari Dino        19.7 6   145.0 175 3.62 2.770 15.50 0  1  5    6   \n",
       "Mazda RX4           21.0 6   160.0 110 3.90 2.620 16.46 0  1  4    4   \n",
       "Mazda RX4 Wag       21.0 6   160.0 110 3.90 2.875 17.02 0  1  4    4   \n",
       "Hornet 4 Drive      21.4 6   258.0 110 3.08 3.215 19.44 1  0  3    1   \n",
       "Volvo 142E          21.4 4   121.0 109 4.11 2.780 18.60 1  1  4    2   \n",
       "Toyota Corona       21.5 4   120.1  97 3.70 2.465 20.01 1  0  3    1   \n",
       "Datsun 710          22.8 4   108.0  93 3.85 2.320 18.61 1  1  4    1   \n",
       "Merc 230            22.8 4   140.8  95 3.92 3.150 22.90 1  0  4    2   \n",
       "Merc 240D           24.4 4   146.7  62 3.69 3.190 20.00 1  0  4    2   \n",
       "Porsche 914-2       26.0 4   120.3  91 4.43 2.140 16.70 0  1  5    2   \n",
       "Fiat X1-9           27.3 4    79.0  66 4.08 1.935 18.90 1  1  4    1   \n",
       "Honda Civic         30.4 4    75.7  52 4.93 1.615 18.52 1  1  4    2   \n",
       "Lotus Europa        30.4 4    95.1 113 3.77 1.513 16.90 1  1  5    2   \n",
       "Fiat 128            32.4 4    78.7  66 4.08 2.200 19.47 1  1  4    1   \n",
       "Toyota Corolla      33.9 4    71.1  65 4.22 1.835 19.90 1  1  4    1   "
      ]
     },
     "metadata": {},
     "output_type": "display_data"
    }
   ],
   "source": [
    "sortedDF <- mtcars[order(mtcars$mpg),] # ascending\n",
    "sortedDF"
   ]
  },
  {
   "cell_type": "code",
   "execution_count": 74,
   "metadata": {},
   "outputs": [
    {
     "data": {
      "text/html": [
       "<table>\n",
       "<thead><tr><th></th><th scope=col>mpg</th><th scope=col>cyl</th><th scope=col>disp</th><th scope=col>hp</th><th scope=col>drat</th><th scope=col>wt</th><th scope=col>qsec</th><th scope=col>vs</th><th scope=col>am</th><th scope=col>gear</th><th scope=col>carb</th></tr></thead>\n",
       "<tbody>\n",
       "\t<tr><th scope=row>Toyota Corolla</th><td>33.9 </td><td>4    </td><td> 71.1</td><td> 65  </td><td>4.22 </td><td>1.835</td><td>19.90</td><td>1    </td><td>1    </td><td>4    </td><td>1    </td></tr>\n",
       "\t<tr><th scope=row>Fiat 128</th><td>32.4 </td><td>4    </td><td> 78.7</td><td> 66  </td><td>4.08 </td><td>2.200</td><td>19.47</td><td>1    </td><td>1    </td><td>4    </td><td>1    </td></tr>\n",
       "\t<tr><th scope=row>Honda Civic</th><td>30.4 </td><td>4    </td><td> 75.7</td><td> 52  </td><td>4.93 </td><td>1.615</td><td>18.52</td><td>1    </td><td>1    </td><td>4    </td><td>2    </td></tr>\n",
       "\t<tr><th scope=row>Lotus Europa</th><td>30.4 </td><td>4    </td><td> 95.1</td><td>113  </td><td>3.77 </td><td>1.513</td><td>16.90</td><td>1    </td><td>1    </td><td>5    </td><td>2    </td></tr>\n",
       "\t<tr><th scope=row>Fiat X1-9</th><td>27.3 </td><td>4    </td><td> 79.0</td><td> 66  </td><td>4.08 </td><td>1.935</td><td>18.90</td><td>1    </td><td>1    </td><td>4    </td><td>1    </td></tr>\n",
       "\t<tr><th scope=row>Porsche 914-2</th><td>26.0 </td><td>4    </td><td>120.3</td><td> 91  </td><td>4.43 </td><td>2.140</td><td>16.70</td><td>0    </td><td>1    </td><td>5    </td><td>2    </td></tr>\n",
       "\t<tr><th scope=row>Merc 240D</th><td>24.4 </td><td>4    </td><td>146.7</td><td> 62  </td><td>3.69 </td><td>3.190</td><td>20.00</td><td>1    </td><td>0    </td><td>4    </td><td>2    </td></tr>\n",
       "\t<tr><th scope=row>Datsun 710</th><td>22.8 </td><td>4    </td><td>108.0</td><td> 93  </td><td>3.85 </td><td>2.320</td><td>18.61</td><td>1    </td><td>1    </td><td>4    </td><td>1    </td></tr>\n",
       "\t<tr><th scope=row>Merc 230</th><td>22.8 </td><td>4    </td><td>140.8</td><td> 95  </td><td>3.92 </td><td>3.150</td><td>22.90</td><td>1    </td><td>0    </td><td>4    </td><td>2    </td></tr>\n",
       "\t<tr><th scope=row>Toyota Corona</th><td>21.5 </td><td>4    </td><td>120.1</td><td> 97  </td><td>3.70 </td><td>2.465</td><td>20.01</td><td>1    </td><td>0    </td><td>3    </td><td>1    </td></tr>\n",
       "\t<tr><th scope=row>Hornet 4 Drive</th><td>21.4 </td><td>6    </td><td>258.0</td><td>110  </td><td>3.08 </td><td>3.215</td><td>19.44</td><td>1    </td><td>0    </td><td>3    </td><td>1    </td></tr>\n",
       "\t<tr><th scope=row>Volvo 142E</th><td>21.4 </td><td>4    </td><td>121.0</td><td>109  </td><td>4.11 </td><td>2.780</td><td>18.60</td><td>1    </td><td>1    </td><td>4    </td><td>2    </td></tr>\n",
       "\t<tr><th scope=row>Mazda RX4</th><td>21.0 </td><td>6    </td><td>160.0</td><td>110  </td><td>3.90 </td><td>2.620</td><td>16.46</td><td>0    </td><td>1    </td><td>4    </td><td>4    </td></tr>\n",
       "\t<tr><th scope=row>Mazda RX4 Wag</th><td>21.0 </td><td>6    </td><td>160.0</td><td>110  </td><td>3.90 </td><td>2.875</td><td>17.02</td><td>0    </td><td>1    </td><td>4    </td><td>4    </td></tr>\n",
       "\t<tr><th scope=row>Ferrari Dino</th><td>19.7 </td><td>6    </td><td>145.0</td><td>175  </td><td>3.62 </td><td>2.770</td><td>15.50</td><td>0    </td><td>1    </td><td>5    </td><td>6    </td></tr>\n",
       "\t<tr><th scope=row>Merc 280</th><td>19.2 </td><td>6    </td><td>167.6</td><td>123  </td><td>3.92 </td><td>3.440</td><td>18.30</td><td>1    </td><td>0    </td><td>4    </td><td>4    </td></tr>\n",
       "\t<tr><th scope=row>Pontiac Firebird</th><td>19.2 </td><td>8    </td><td>400.0</td><td>175  </td><td>3.08 </td><td>3.845</td><td>17.05</td><td>0    </td><td>0    </td><td>3    </td><td>2    </td></tr>\n",
       "\t<tr><th scope=row>Hornet Sportabout</th><td>18.7 </td><td>8    </td><td>360.0</td><td>175  </td><td>3.15 </td><td>3.440</td><td>17.02</td><td>0    </td><td>0    </td><td>3    </td><td>2    </td></tr>\n",
       "\t<tr><th scope=row>Valiant</th><td>18.1 </td><td>6    </td><td>225.0</td><td>105  </td><td>2.76 </td><td>3.460</td><td>20.22</td><td>1    </td><td>0    </td><td>3    </td><td>1    </td></tr>\n",
       "\t<tr><th scope=row>Merc 280C</th><td>17.8 </td><td>6    </td><td>167.6</td><td>123  </td><td>3.92 </td><td>3.440</td><td>18.90</td><td>1    </td><td>0    </td><td>4    </td><td>4    </td></tr>\n",
       "\t<tr><th scope=row>Merc 450SL</th><td>17.3 </td><td>8    </td><td>275.8</td><td>180  </td><td>3.07 </td><td>3.730</td><td>17.60</td><td>0    </td><td>0    </td><td>3    </td><td>3    </td></tr>\n",
       "\t<tr><th scope=row>Merc 450SE</th><td>16.4 </td><td>8    </td><td>275.8</td><td>180  </td><td>3.07 </td><td>4.070</td><td>17.40</td><td>0    </td><td>0    </td><td>3    </td><td>3    </td></tr>\n",
       "\t<tr><th scope=row>Ford Pantera L</th><td>15.8 </td><td>8    </td><td>351.0</td><td>264  </td><td>4.22 </td><td>3.170</td><td>14.50</td><td>0    </td><td>1    </td><td>5    </td><td>4    </td></tr>\n",
       "\t<tr><th scope=row>Dodge Challenger</th><td>15.5 </td><td>8    </td><td>318.0</td><td>150  </td><td>2.76 </td><td>3.520</td><td>16.87</td><td>0    </td><td>0    </td><td>3    </td><td>2    </td></tr>\n",
       "\t<tr><th scope=row>Merc 450SLC</th><td>15.2 </td><td>8    </td><td>275.8</td><td>180  </td><td>3.07 </td><td>3.780</td><td>18.00</td><td>0    </td><td>0    </td><td>3    </td><td>3    </td></tr>\n",
       "\t<tr><th scope=row>AMC Javelin</th><td>15.2 </td><td>8    </td><td>304.0</td><td>150  </td><td>3.15 </td><td>3.435</td><td>17.30</td><td>0    </td><td>0    </td><td>3    </td><td>2    </td></tr>\n",
       "\t<tr><th scope=row>Maserati Bora</th><td>15.0 </td><td>8    </td><td>301.0</td><td>335  </td><td>3.54 </td><td>3.570</td><td>14.60</td><td>0    </td><td>1    </td><td>5    </td><td>8    </td></tr>\n",
       "\t<tr><th scope=row>Chrysler Imperial</th><td>14.7 </td><td>8    </td><td>440.0</td><td>230  </td><td>3.23 </td><td>5.345</td><td>17.42</td><td>0    </td><td>0    </td><td>3    </td><td>4    </td></tr>\n",
       "\t<tr><th scope=row>Duster 360</th><td>14.3 </td><td>8    </td><td>360.0</td><td>245  </td><td>3.21 </td><td>3.570</td><td>15.84</td><td>0    </td><td>0    </td><td>3    </td><td>4    </td></tr>\n",
       "\t<tr><th scope=row>Camaro Z28</th><td>13.3 </td><td>8    </td><td>350.0</td><td>245  </td><td>3.73 </td><td>3.840</td><td>15.41</td><td>0    </td><td>0    </td><td>3    </td><td>4    </td></tr>\n",
       "\t<tr><th scope=row>Cadillac Fleetwood</th><td>10.4 </td><td>8    </td><td>472.0</td><td>205  </td><td>2.93 </td><td>5.250</td><td>17.98</td><td>0    </td><td>0    </td><td>3    </td><td>4    </td></tr>\n",
       "\t<tr><th scope=row>Lincoln Continental</th><td>10.4 </td><td>8    </td><td>460.0</td><td>215  </td><td>3.00 </td><td>5.424</td><td>17.82</td><td>0    </td><td>0    </td><td>3    </td><td>4    </td></tr>\n",
       "</tbody>\n",
       "</table>\n"
      ],
      "text/latex": [
       "\\begin{tabular}{r|lllllllllll}\n",
       "  & mpg & cyl & disp & hp & drat & wt & qsec & vs & am & gear & carb\\\\\n",
       "\\hline\n",
       "\tToyota Corolla & 33.9  & 4     &  71.1 &  65   & 4.22  & 1.835 & 19.90 & 1     & 1     & 4     & 1    \\\\\n",
       "\tFiat 128 & 32.4  & 4     &  78.7 &  66   & 4.08  & 2.200 & 19.47 & 1     & 1     & 4     & 1    \\\\\n",
       "\tHonda Civic & 30.4  & 4     &  75.7 &  52   & 4.93  & 1.615 & 18.52 & 1     & 1     & 4     & 2    \\\\\n",
       "\tLotus Europa & 30.4  & 4     &  95.1 & 113   & 3.77  & 1.513 & 16.90 & 1     & 1     & 5     & 2    \\\\\n",
       "\tFiat X1-9 & 27.3  & 4     &  79.0 &  66   & 4.08  & 1.935 & 18.90 & 1     & 1     & 4     & 1    \\\\\n",
       "\tPorsche 914-2 & 26.0  & 4     & 120.3 &  91   & 4.43  & 2.140 & 16.70 & 0     & 1     & 5     & 2    \\\\\n",
       "\tMerc 240D & 24.4  & 4     & 146.7 &  62   & 3.69  & 3.190 & 20.00 & 1     & 0     & 4     & 2    \\\\\n",
       "\tDatsun 710 & 22.8  & 4     & 108.0 &  93   & 3.85  & 2.320 & 18.61 & 1     & 1     & 4     & 1    \\\\\n",
       "\tMerc 230 & 22.8  & 4     & 140.8 &  95   & 3.92  & 3.150 & 22.90 & 1     & 0     & 4     & 2    \\\\\n",
       "\tToyota Corona & 21.5  & 4     & 120.1 &  97   & 3.70  & 2.465 & 20.01 & 1     & 0     & 3     & 1    \\\\\n",
       "\tHornet 4 Drive & 21.4  & 6     & 258.0 & 110   & 3.08  & 3.215 & 19.44 & 1     & 0     & 3     & 1    \\\\\n",
       "\tVolvo 142E & 21.4  & 4     & 121.0 & 109   & 4.11  & 2.780 & 18.60 & 1     & 1     & 4     & 2    \\\\\n",
       "\tMazda RX4 & 21.0  & 6     & 160.0 & 110   & 3.90  & 2.620 & 16.46 & 0     & 1     & 4     & 4    \\\\\n",
       "\tMazda RX4 Wag & 21.0  & 6     & 160.0 & 110   & 3.90  & 2.875 & 17.02 & 0     & 1     & 4     & 4    \\\\\n",
       "\tFerrari Dino & 19.7  & 6     & 145.0 & 175   & 3.62  & 2.770 & 15.50 & 0     & 1     & 5     & 6    \\\\\n",
       "\tMerc 280 & 19.2  & 6     & 167.6 & 123   & 3.92  & 3.440 & 18.30 & 1     & 0     & 4     & 4    \\\\\n",
       "\tPontiac Firebird & 19.2  & 8     & 400.0 & 175   & 3.08  & 3.845 & 17.05 & 0     & 0     & 3     & 2    \\\\\n",
       "\tHornet Sportabout & 18.7  & 8     & 360.0 & 175   & 3.15  & 3.440 & 17.02 & 0     & 0     & 3     & 2    \\\\\n",
       "\tValiant & 18.1  & 6     & 225.0 & 105   & 2.76  & 3.460 & 20.22 & 1     & 0     & 3     & 1    \\\\\n",
       "\tMerc 280C & 17.8  & 6     & 167.6 & 123   & 3.92  & 3.440 & 18.90 & 1     & 0     & 4     & 4    \\\\\n",
       "\tMerc 450SL & 17.3  & 8     & 275.8 & 180   & 3.07  & 3.730 & 17.60 & 0     & 0     & 3     & 3    \\\\\n",
       "\tMerc 450SE & 16.4  & 8     & 275.8 & 180   & 3.07  & 4.070 & 17.40 & 0     & 0     & 3     & 3    \\\\\n",
       "\tFord Pantera L & 15.8  & 8     & 351.0 & 264   & 4.22  & 3.170 & 14.50 & 0     & 1     & 5     & 4    \\\\\n",
       "\tDodge Challenger & 15.5  & 8     & 318.0 & 150   & 2.76  & 3.520 & 16.87 & 0     & 0     & 3     & 2    \\\\\n",
       "\tMerc 450SLC & 15.2  & 8     & 275.8 & 180   & 3.07  & 3.780 & 18.00 & 0     & 0     & 3     & 3    \\\\\n",
       "\tAMC Javelin & 15.2  & 8     & 304.0 & 150   & 3.15  & 3.435 & 17.30 & 0     & 0     & 3     & 2    \\\\\n",
       "\tMaserati Bora & 15.0  & 8     & 301.0 & 335   & 3.54  & 3.570 & 14.60 & 0     & 1     & 5     & 8    \\\\\n",
       "\tChrysler Imperial & 14.7  & 8     & 440.0 & 230   & 3.23  & 5.345 & 17.42 & 0     & 0     & 3     & 4    \\\\\n",
       "\tDuster 360 & 14.3  & 8     & 360.0 & 245   & 3.21  & 3.570 & 15.84 & 0     & 0     & 3     & 4    \\\\\n",
       "\tCamaro Z28 & 13.3  & 8     & 350.0 & 245   & 3.73  & 3.840 & 15.41 & 0     & 0     & 3     & 4    \\\\\n",
       "\tCadillac Fleetwood & 10.4  & 8     & 472.0 & 205   & 2.93  & 5.250 & 17.98 & 0     & 0     & 3     & 4    \\\\\n",
       "\tLincoln Continental & 10.4  & 8     & 460.0 & 215   & 3.00  & 5.424 & 17.82 & 0     & 0     & 3     & 4    \\\\\n",
       "\\end{tabular}\n"
      ],
      "text/markdown": [
       "\n",
       "| <!--/--> | mpg | cyl | disp | hp | drat | wt | qsec | vs | am | gear | carb | \n",
       "|---|---|---|---|---|---|---|---|---|---|---|---|---|---|---|---|---|---|---|---|---|---|---|---|---|---|---|---|---|---|---|---|\n",
       "| Toyota Corolla | 33.9  | 4     |  71.1 |  65   | 4.22  | 1.835 | 19.90 | 1     | 1     | 4     | 1     | \n",
       "| Fiat 128 | 32.4  | 4     |  78.7 |  66   | 4.08  | 2.200 | 19.47 | 1     | 1     | 4     | 1     | \n",
       "| Honda Civic | 30.4  | 4     |  75.7 |  52   | 4.93  | 1.615 | 18.52 | 1     | 1     | 4     | 2     | \n",
       "| Lotus Europa | 30.4  | 4     |  95.1 | 113   | 3.77  | 1.513 | 16.90 | 1     | 1     | 5     | 2     | \n",
       "| Fiat X1-9 | 27.3  | 4     |  79.0 |  66   | 4.08  | 1.935 | 18.90 | 1     | 1     | 4     | 1     | \n",
       "| Porsche 914-2 | 26.0  | 4     | 120.3 |  91   | 4.43  | 2.140 | 16.70 | 0     | 1     | 5     | 2     | \n",
       "| Merc 240D | 24.4  | 4     | 146.7 |  62   | 3.69  | 3.190 | 20.00 | 1     | 0     | 4     | 2     | \n",
       "| Datsun 710 | 22.8  | 4     | 108.0 |  93   | 3.85  | 2.320 | 18.61 | 1     | 1     | 4     | 1     | \n",
       "| Merc 230 | 22.8  | 4     | 140.8 |  95   | 3.92  | 3.150 | 22.90 | 1     | 0     | 4     | 2     | \n",
       "| Toyota Corona | 21.5  | 4     | 120.1 |  97   | 3.70  | 2.465 | 20.01 | 1     | 0     | 3     | 1     | \n",
       "| Hornet 4 Drive | 21.4  | 6     | 258.0 | 110   | 3.08  | 3.215 | 19.44 | 1     | 0     | 3     | 1     | \n",
       "| Volvo 142E | 21.4  | 4     | 121.0 | 109   | 4.11  | 2.780 | 18.60 | 1     | 1     | 4     | 2     | \n",
       "| Mazda RX4 | 21.0  | 6     | 160.0 | 110   | 3.90  | 2.620 | 16.46 | 0     | 1     | 4     | 4     | \n",
       "| Mazda RX4 Wag | 21.0  | 6     | 160.0 | 110   | 3.90  | 2.875 | 17.02 | 0     | 1     | 4     | 4     | \n",
       "| Ferrari Dino | 19.7  | 6     | 145.0 | 175   | 3.62  | 2.770 | 15.50 | 0     | 1     | 5     | 6     | \n",
       "| Merc 280 | 19.2  | 6     | 167.6 | 123   | 3.92  | 3.440 | 18.30 | 1     | 0     | 4     | 4     | \n",
       "| Pontiac Firebird | 19.2  | 8     | 400.0 | 175   | 3.08  | 3.845 | 17.05 | 0     | 0     | 3     | 2     | \n",
       "| Hornet Sportabout | 18.7  | 8     | 360.0 | 175   | 3.15  | 3.440 | 17.02 | 0     | 0     | 3     | 2     | \n",
       "| Valiant | 18.1  | 6     | 225.0 | 105   | 2.76  | 3.460 | 20.22 | 1     | 0     | 3     | 1     | \n",
       "| Merc 280C | 17.8  | 6     | 167.6 | 123   | 3.92  | 3.440 | 18.90 | 1     | 0     | 4     | 4     | \n",
       "| Merc 450SL | 17.3  | 8     | 275.8 | 180   | 3.07  | 3.730 | 17.60 | 0     | 0     | 3     | 3     | \n",
       "| Merc 450SE | 16.4  | 8     | 275.8 | 180   | 3.07  | 4.070 | 17.40 | 0     | 0     | 3     | 3     | \n",
       "| Ford Pantera L | 15.8  | 8     | 351.0 | 264   | 4.22  | 3.170 | 14.50 | 0     | 1     | 5     | 4     | \n",
       "| Dodge Challenger | 15.5  | 8     | 318.0 | 150   | 2.76  | 3.520 | 16.87 | 0     | 0     | 3     | 2     | \n",
       "| Merc 450SLC | 15.2  | 8     | 275.8 | 180   | 3.07  | 3.780 | 18.00 | 0     | 0     | 3     | 3     | \n",
       "| AMC Javelin | 15.2  | 8     | 304.0 | 150   | 3.15  | 3.435 | 17.30 | 0     | 0     | 3     | 2     | \n",
       "| Maserati Bora | 15.0  | 8     | 301.0 | 335   | 3.54  | 3.570 | 14.60 | 0     | 1     | 5     | 8     | \n",
       "| Chrysler Imperial | 14.7  | 8     | 440.0 | 230   | 3.23  | 5.345 | 17.42 | 0     | 0     | 3     | 4     | \n",
       "| Duster 360 | 14.3  | 8     | 360.0 | 245   | 3.21  | 3.570 | 15.84 | 0     | 0     | 3     | 4     | \n",
       "| Camaro Z28 | 13.3  | 8     | 350.0 | 245   | 3.73  | 3.840 | 15.41 | 0     | 0     | 3     | 4     | \n",
       "| Cadillac Fleetwood | 10.4  | 8     | 472.0 | 205   | 2.93  | 5.250 | 17.98 | 0     | 0     | 3     | 4     | \n",
       "| Lincoln Continental | 10.4  | 8     | 460.0 | 215   | 3.00  | 5.424 | 17.82 | 0     | 0     | 3     | 4     | \n",
       "\n",
       "\n"
      ],
      "text/plain": [
       "                    mpg  cyl disp  hp  drat wt    qsec  vs am gear carb\n",
       "Toyota Corolla      33.9 4    71.1  65 4.22 1.835 19.90 1  1  4    1   \n",
       "Fiat 128            32.4 4    78.7  66 4.08 2.200 19.47 1  1  4    1   \n",
       "Honda Civic         30.4 4    75.7  52 4.93 1.615 18.52 1  1  4    2   \n",
       "Lotus Europa        30.4 4    95.1 113 3.77 1.513 16.90 1  1  5    2   \n",
       "Fiat X1-9           27.3 4    79.0  66 4.08 1.935 18.90 1  1  4    1   \n",
       "Porsche 914-2       26.0 4   120.3  91 4.43 2.140 16.70 0  1  5    2   \n",
       "Merc 240D           24.4 4   146.7  62 3.69 3.190 20.00 1  0  4    2   \n",
       "Datsun 710          22.8 4   108.0  93 3.85 2.320 18.61 1  1  4    1   \n",
       "Merc 230            22.8 4   140.8  95 3.92 3.150 22.90 1  0  4    2   \n",
       "Toyota Corona       21.5 4   120.1  97 3.70 2.465 20.01 1  0  3    1   \n",
       "Hornet 4 Drive      21.4 6   258.0 110 3.08 3.215 19.44 1  0  3    1   \n",
       "Volvo 142E          21.4 4   121.0 109 4.11 2.780 18.60 1  1  4    2   \n",
       "Mazda RX4           21.0 6   160.0 110 3.90 2.620 16.46 0  1  4    4   \n",
       "Mazda RX4 Wag       21.0 6   160.0 110 3.90 2.875 17.02 0  1  4    4   \n",
       "Ferrari Dino        19.7 6   145.0 175 3.62 2.770 15.50 0  1  5    6   \n",
       "Merc 280            19.2 6   167.6 123 3.92 3.440 18.30 1  0  4    4   \n",
       "Pontiac Firebird    19.2 8   400.0 175 3.08 3.845 17.05 0  0  3    2   \n",
       "Hornet Sportabout   18.7 8   360.0 175 3.15 3.440 17.02 0  0  3    2   \n",
       "Valiant             18.1 6   225.0 105 2.76 3.460 20.22 1  0  3    1   \n",
       "Merc 280C           17.8 6   167.6 123 3.92 3.440 18.90 1  0  4    4   \n",
       "Merc 450SL          17.3 8   275.8 180 3.07 3.730 17.60 0  0  3    3   \n",
       "Merc 450SE          16.4 8   275.8 180 3.07 4.070 17.40 0  0  3    3   \n",
       "Ford Pantera L      15.8 8   351.0 264 4.22 3.170 14.50 0  1  5    4   \n",
       "Dodge Challenger    15.5 8   318.0 150 2.76 3.520 16.87 0  0  3    2   \n",
       "Merc 450SLC         15.2 8   275.8 180 3.07 3.780 18.00 0  0  3    3   \n",
       "AMC Javelin         15.2 8   304.0 150 3.15 3.435 17.30 0  0  3    2   \n",
       "Maserati Bora       15.0 8   301.0 335 3.54 3.570 14.60 0  1  5    8   \n",
       "Chrysler Imperial   14.7 8   440.0 230 3.23 5.345 17.42 0  0  3    4   \n",
       "Duster 360          14.3 8   360.0 245 3.21 3.570 15.84 0  0  3    4   \n",
       "Camaro Z28          13.3 8   350.0 245 3.73 3.840 15.41 0  0  3    4   \n",
       "Cadillac Fleetwood  10.4 8   472.0 205 2.93 5.250 17.98 0  0  3    4   \n",
       "Lincoln Continental 10.4 8   460.0 215 3.00 5.424 17.82 0  0  3    4   "
      ]
     },
     "metadata": {},
     "output_type": "display_data"
    }
   ],
   "source": [
    "sortedDF <- mtcars[order(-mtcars$mpg),] # descending\n",
    "sortedDF"
   ]
  },
  {
   "cell_type": "markdown",
   "metadata": {},
   "source": [
    "## Editing Data Frames"
   ]
  },
  {
   "cell_type": "code",
   "execution_count": 75,
   "metadata": {},
   "outputs": [],
   "source": [
    "fix(mtcars)"
   ]
  },
  {
   "cell_type": "markdown",
   "metadata": {},
   "source": [
    "## The str() Function"
   ]
  },
  {
   "cell_type": "code",
   "execution_count": 76,
   "metadata": {},
   "outputs": [
    {
     "name": "stdout",
     "output_type": "stream",
     "text": [
      " num [1:3] 1 2 3\n",
      " num [1:2, 1:3] 1 11 2 12 3 13\n"
     ]
    }
   ],
   "source": [
    "v <- c(1, 2, 3)\n",
    "str(v)\n",
    "\n",
    "m <- matrix(c(1,2,3, 11,12,13), nrow = 2, ncol = 3, byrow = TRUE)\n",
    "str(m)"
   ]
  },
  {
   "cell_type": "markdown",
   "metadata": {},
   "source": [
    "## Type Conversion"
   ]
  },
  {
   "cell_type": "code",
   "execution_count": 77,
   "metadata": {},
   "outputs": [
    {
     "data": {
      "text/html": [
       "<ol class=list-inline>\n",
       "\t<li>'1'</li>\n",
       "\t<li>'2'</li>\n",
       "\t<li>'3'</li>\n",
       "\t<li>'4'</li>\n",
       "\t<li>'5'</li>\n",
       "</ol>\n"
      ],
      "text/latex": [
       "\\begin{enumerate*}\n",
       "\\item '1'\n",
       "\\item '2'\n",
       "\\item '3'\n",
       "\\item '4'\n",
       "\\item '5'\n",
       "\\end{enumerate*}\n"
      ],
      "text/markdown": [
       "1. '1'\n",
       "2. '2'\n",
       "3. '3'\n",
       "4. '4'\n",
       "5. '5'\n",
       "\n",
       "\n"
      ],
      "text/plain": [
       "[1] \"1\" \"2\" \"3\" \"4\" \"5\""
      ]
     },
     "metadata": {},
     "output_type": "display_data"
    },
    {
     "data": {
      "text/html": [
       "<ol class=list-inline>\n",
       "\t<li>1</li>\n",
       "\t<li>2</li>\n",
       "\t<li>3</li>\n",
       "\t<li>4</li>\n",
       "\t<li>5</li>\n",
       "</ol>\n"
      ],
      "text/latex": [
       "\\begin{enumerate*}\n",
       "\\item 1\n",
       "\\item 2\n",
       "\\item 3\n",
       "\\item 4\n",
       "\\item 5\n",
       "\\end{enumerate*}\n"
      ],
      "text/markdown": [
       "1. 1\n",
       "2. 2\n",
       "3. 3\n",
       "4. 4\n",
       "5. 5\n",
       "\n",
       "\n"
      ],
      "text/plain": [
       "[1] 1 2 3 4 5"
      ]
     },
     "metadata": {},
     "output_type": "display_data"
    },
    {
     "data": {
      "text/html": [
       "<time datetime=\"2018-12-31\">2018-12-31</time>"
      ],
      "text/latex": [
       "2018-12-31"
      ],
      "text/markdown": [
       "2018-12-31"
      ],
      "text/plain": [
       "[1] \"2018-12-31\""
      ]
     },
     "metadata": {},
     "output_type": "display_data"
    }
   ],
   "source": [
    "c <- as.character(1:5)\n",
    "c\n",
    "n <- as.integer(c)\n",
    "n\n",
    "as.Date(\"2018-12-31\")"
   ]
  },
  {
   "cell_type": "markdown",
   "metadata": {},
   "source": [
    "## The summary() function"
   ]
  },
  {
   "cell_type": "code",
   "execution_count": 78,
   "metadata": {},
   "outputs": [
    {
     "data": {
      "text/plain": [
       "   Min. 1st Qu.  Median    Mean 3rd Qu.    Max. \n",
       "     10      11      12      12      13      14 "
      ]
     },
     "metadata": {},
     "output_type": "display_data"
    },
    {
     "data": {
      "text/plain": [
       "       V1             V2             V3      \n",
       " Min.   : 1.0   Min.   : 2.0   Min.   : 3.0  \n",
       " 1st Qu.: 3.5   1st Qu.: 4.5   1st Qu.: 5.5  \n",
       " Median : 6.0   Median : 7.0   Median : 8.0  \n",
       " Mean   : 6.0   Mean   : 7.0   Mean   : 8.0  \n",
       " 3rd Qu.: 8.5   3rd Qu.: 9.5   3rd Qu.:10.5  \n",
       " Max.   :11.0   Max.   :12.0   Max.   :13.0  "
      ]
     },
     "metadata": {},
     "output_type": "display_data"
    }
   ],
   "source": [
    "v <- c(10, 11, 12, 13, 14)\n",
    "summary(v)\n",
    "\n",
    "m <- matrix(c(1,2,3, 11,12,13), nrow = 2, ncol = 3, byrow = TRUE)\n",
    "summary(m)\n"
   ]
  },
  {
   "cell_type": "markdown",
   "metadata": {},
   "source": [
    "## Checking an Object's Type"
   ]
  },
  {
   "cell_type": "code",
   "execution_count": 79,
   "metadata": {},
   "outputs": [
    {
     "data": {
      "text/html": [
       "TRUE"
      ],
      "text/latex": [
       "TRUE"
      ],
      "text/markdown": [
       "TRUE"
      ],
      "text/plain": [
       "[1] TRUE"
      ]
     },
     "metadata": {},
     "output_type": "display_data"
    },
    {
     "data": {
      "text/html": [
       "FALSE"
      ],
      "text/latex": [
       "FALSE"
      ],
      "text/markdown": [
       "FALSE"
      ],
      "text/plain": [
       "[1] FALSE"
      ]
     },
     "metadata": {},
     "output_type": "display_data"
    },
    {
     "data": {
      "text/html": [
       "TRUE"
      ],
      "text/latex": [
       "TRUE"
      ],
      "text/markdown": [
       "TRUE"
      ],
      "text/plain": [
       "[1] TRUE"
      ]
     },
     "metadata": {},
     "output_type": "display_data"
    },
    {
     "data": {
      "text/html": [
       "FALSE"
      ],
      "text/latex": [
       "FALSE"
      ],
      "text/markdown": [
       "FALSE"
      ],
      "text/plain": [
       "[1] FALSE"
      ]
     },
     "metadata": {},
     "output_type": "display_data"
    },
    {
     "data": {
      "text/html": [
       "TRUE"
      ],
      "text/latex": [
       "TRUE"
      ],
      "text/markdown": [
       "TRUE"
      ],
      "text/plain": [
       "[1] TRUE"
      ]
     },
     "metadata": {},
     "output_type": "display_data"
    }
   ],
   "source": [
    "is.vector(1:3)                  # TRUE\n",
    "is.list(1:3)                    # FALSE\n",
    "is.numeric(1:3)                 # TRUE\n",
    "is.character(1:3)               # FALSE\n",
    "is.character(as.character(1:3)) # TRUE"
   ]
  },
  {
   "cell_type": "markdown",
   "metadata": {
    "collapsed": true
   },
   "source": [
    "## Loading Packages\n",
    "\n",
    "- library(splines)\n",
    "- library(help = \"utils\")\n"
   ]
  },
  {
   "cell_type": "markdown",
   "metadata": {},
   "source": [
    "## Installing and Removing Packages\n",
    "\n",
    "- install.packages(\"package_name\")\n",
    "- remove.packages(\"package_name\")"
   ]
  },
  {
   "cell_type": "markdown",
   "metadata": {},
   "source": [
    "## Reading Data from File into a Vector\n",
    "\n",
    "- myVector <- scan(\"PATH_TO_DATA_FILE\")"
   ]
  },
  {
   "cell_type": "code",
   "execution_count": 80,
   "metadata": {},
   "outputs": [],
   "source": [
    "help(scan)"
   ]
  },
  {
   "cell_type": "markdown",
   "metadata": {},
   "source": [
    "## Writing Data to a File\n",
    "\n",
    "- write (<object_to_save>, \"PATH_TO_FILE\")"
   ]
  },
  {
   "cell_type": "code",
   "execution_count": 81,
   "metadata": {},
   "outputs": [],
   "source": [
    "help(write)"
   ]
  },
  {
   "cell_type": "markdown",
   "metadata": {},
   "source": [
    "## Reading Data into a Data Frame\n",
    "\n",
    "- df <- read.table(\"data_input.dat\", header = T, sep = \",\")"
   ]
  },
  {
   "cell_type": "markdown",
   "metadata": {},
   "source": [
    "## Writing CSV Files\n",
    "\n",
    "- write.table(df, \"your_file\", sep = \"|\", row.names = F)"
   ]
  },
  {
   "cell_type": "markdown",
   "metadata": {},
   "source": [
    "## Imprting Data into R\n",
    "\n",
    "- library(xlsx)"
   ]
  },
  {
   "cell_type": "markdown",
   "metadata": {},
   "source": [
    "## Exporting Data from R\n",
    "\n",
    "- ..."
   ]
  },
  {
   "cell_type": "markdown",
   "metadata": {},
   "source": [
    "## Basic Stastistical Functions\n",
    "\n",
    "- mean()\n",
    "- median()\n",
    "- sd()\n",
    "- var()"
   ]
  },
  {
   "cell_type": "markdown",
   "metadata": {},
   "source": [
    "## Examples of Using Basic Statistical  Functions"
   ]
  },
  {
   "cell_type": "code",
   "execution_count": 82,
   "metadata": {},
   "outputs": [
    {
     "name": "stdout",
     "output_type": "stream",
     "text": [
      "[1]   2   4   8  16  32  64 128 256\n"
     ]
    },
    {
     "data": {
      "text/html": [
       "63.75"
      ],
      "text/latex": [
       "63.75"
      ],
      "text/markdown": [
       "63.75"
      ],
      "text/plain": [
       "[1] 63.75"
      ]
     },
     "metadata": {},
     "output_type": "display_data"
    },
    {
     "data": {
      "text/html": [
       "24"
      ],
      "text/latex": [
       "24"
      ],
      "text/markdown": [
       "24"
      ],
      "text/plain": [
       "[1] 24"
      ]
     },
     "metadata": {},
     "output_type": "display_data"
    },
    {
     "data": {
      "text/html": [
       "7838.21428571429"
      ],
      "text/latex": [
       "7838.21428571429"
      ],
      "text/markdown": [
       "7838.21428571429"
      ],
      "text/plain": [
       "[1] 7838.214"
      ]
     },
     "metadata": {},
     "output_type": "display_data"
    },
    {
     "data": {
      "text/html": [
       "88.5336901168944"
      ],
      "text/latex": [
       "88.5336901168944"
      ],
      "text/markdown": [
       "88.5336901168944"
      ],
      "text/plain": [
       "[1] 88.53369"
      ]
     },
     "metadata": {},
     "output_type": "display_data"
    }
   ],
   "source": [
    "x <- 2^(1:8)\n",
    "print(x)\n",
    "mean(x)\n",
    "median(x)\n",
    "var(x)\n",
    "sd(x)"
   ]
  },
  {
   "cell_type": "markdown",
   "metadata": {},
   "source": [
    "## Writing Your Own skew and kurtosis Functions\n",
    "\n",
    "- ..."
   ]
  },
  {
   "cell_type": "markdown",
   "metadata": {},
   "source": [
    "## Generating Normally Distributed Random Numbers\n",
    "\n",
    "- rnorm()"
   ]
  },
  {
   "cell_type": "code",
   "execution_count": 83,
   "metadata": {},
   "outputs": [
    {
     "data": {
      "text/html": [
       "<ol class=list-inline>\n",
       "\t<li>-3.07243623113273</li>\n",
       "\t<li>4.49535635177151</li>\n",
       "\t<li>0.333566607200606</li>\n",
       "\t<li>2.01587332408051</li>\n",
       "\t<li>3.34018112991483</li>\n",
       "\t<li>1.44574550140037</li>\n",
       "\t<li>-1.23677143948205</li>\n",
       "\t<li>-0.45799894689929</li>\n",
       "\t<li>0.855409307250763</li>\n",
       "\t<li>2.0966927178195</li>\n",
       "\t<li>1.89683351471339</li>\n",
       "\t<li>-1.01512583177097</li>\n",
       "\t<li>2.06239094873282</li>\n",
       "\t<li>-6.80703209045312</li>\n",
       "\t<li>3.97545695284627</li>\n",
       "\t<li>-1.13305613303217</li>\n",
       "\t<li>0.925051158633891</li>\n",
       "\t<li>2.22488851128816</li>\n",
       "\t<li>5.56430186615648</li>\n",
       "\t<li>0.226880371374681</li>\n",
       "\t<li>3.94321077074091</li>\n",
       "\t<li>1.81905689507391</li>\n",
       "\t<li>0.971635178961171</li>\n",
       "\t<li>4.08336449213092</li>\n",
       "\t<li>0.483669239041262</li>\n",
       "\t<li>0.651537097895729</li>\n",
       "\t<li>3.47849439211259</li>\n",
       "\t<li>2.73799916851769</li>\n",
       "\t<li>3.07578009474345</li>\n",
       "\t<li>0.973231575383822</li>\n",
       "\t<li>0.508674506735025</li>\n",
       "\t<li>1.59355381507994</li>\n",
       "\t<li>1.48167043858103</li>\n",
       "\t<li>4.57733210906918</li>\n",
       "\t<li>2.56030691393365</li>\n",
       "\t<li>4.6890551874106</li>\n",
       "\t<li>4.90032870748012</li>\n",
       "\t<li>-4.23128400886273</li>\n",
       "\t<li>3.91896710601524</li>\n",
       "\t<li>4.30150375979412</li>\n",
       "\t<li>1.72000659638585</li>\n",
       "\t<li>0.867352446584798</li>\n",
       "\t<li>0.612685295886881</li>\n",
       "\t<li>7.7945503977185</li>\n",
       "\t<li>2.12812118897586</li>\n",
       "\t<li>0.195262228125948</li>\n",
       "\t<li>-3.38237169533906</li>\n",
       "\t<li>-5.93808590815471</li>\n",
       "\t<li>-0.218178662010403</li>\n",
       "\t<li>0.155122881250417</li>\n",
       "\t<li>2.48372646139244</li>\n",
       "\t<li>0.256137274350234</li>\n",
       "\t<li>2.83320789398939</li>\n",
       "\t<li>-0.910020428271531</li>\n",
       "\t<li>1.14589742945971</li>\n",
       "\t<li>2.34785374271928</li>\n",
       "\t<li>1.50171602956805</li>\n",
       "\t<li>-0.0524412068906686</li>\n",
       "\t<li>0.799366785973827</li>\n",
       "\t<li>-1.54939173435756</li>\n",
       "\t<li>2.27420091555496</li>\n",
       "\t<li>1.74124253625357</li>\n",
       "\t<li>2.9903017581096</li>\n",
       "\t<li>-0.636175354367041</li>\n",
       "\t<li>2.74315558140122</li>\n",
       "\t<li>0.457058276577871</li>\n",
       "\t<li>0.0622386319443224</li>\n",
       "\t<li>3.45410950157268</li>\n",
       "\t<li>1.30847342942399</li>\n",
       "\t<li>0.762907554219538</li>\n",
       "\t<li>-0.264065363662878</li>\n",
       "\t<li>-1.57158127391106</li>\n",
       "\t<li>5.72222006760568</li>\n",
       "\t<li>2.75835264624701</li>\n",
       "\t<li>-0.494725895100826</li>\n",
       "\t<li>1.43780539952127</li>\n",
       "\t<li>0.873650686177013</li>\n",
       "\t<li>5.0192656115734</li>\n",
       "\t<li>3.13681083419234</li>\n",
       "\t<li>-1.63508664346139</li>\n",
       "\t<li>-4.84230433031616</li>\n",
       "\t<li>1.39317391527193</li>\n",
       "\t<li>-5.84426023333946</li>\n",
       "\t<li>0.0305968676652246</li>\n",
       "\t<li>3.40372873137</li>\n",
       "\t<li>-1.3244622245544</li>\n",
       "\t<li>0.432483144362296</li>\n",
       "\t<li>-0.516424479305158</li>\n",
       "\t<li>-2.61676683505522</li>\n",
       "\t<li>2.17802259644426</li>\n",
       "\t<li>1.65498530047663</li>\n",
       "\t<li>0.399701032116117</li>\n",
       "\t<li>-2.66316225944391</li>\n",
       "\t<li>0.387433419866321</li>\n",
       "\t<li>1.03715983622577</li>\n",
       "\t<li>-3.88472529065903</li>\n",
       "\t<li>1.8920488826659</li>\n",
       "\t<li>-3.51099192007391</li>\n",
       "\t<li>1.82316772557093</li>\n",
       "\t<li>8.10453324535954</li>\n",
       "\t<li>-0.624503224127767</li>\n",
       "\t<li>3.06150185352572</li>\n",
       "\t<li>2.06215647151412</li>\n",
       "\t<li>-1.88125006263661</li>\n",
       "\t<li>5.76335628341716</li>\n",
       "\t<li>-0.869808949053938</li>\n",
       "\t<li>0.435339618099197</li>\n",
       "\t<li>-0.896773986621621</li>\n",
       "\t<li>0.581969282426686</li>\n",
       "\t<li>-2.97216348941782</li>\n",
       "\t<li>-1.53787818769383</li>\n",
       "\t<li>0.555288405911027</li>\n",
       "\t<li>4.07537560136764</li>\n",
       "\t<li>-1.4413451630454</li>\n",
       "\t<li>3.21952369160096</li>\n",
       "\t<li>-0.33859133440501</li>\n",
       "\t<li>2.67070887242542</li>\n",
       "\t<li>0.715124949436626</li>\n",
       "\t<li>0.193972153496445</li>\n",
       "\t<li>0.393760622197311</li>\n",
       "\t<li>-2.02187293412855</li>\n",
       "\t<li>0.220460077214538</li>\n",
       "\t<li>3.40416107152464</li>\n",
       "\t<li>0.291690288113164</li>\n",
       "\t<li>2.20542311403966</li>\n",
       "\t<li>-3.81891122991627</li>\n",
       "\t<li>-0.697799098851948</li>\n",
       "\t<li>2.70895794675673</li>\n",
       "\t<li>3.21357955857868</li>\n",
       "\t<li>-0.122102389312682</li>\n",
       "\t<li>0.160765312579985</li>\n",
       "\t<li>6.0365562537693</li>\n",
       "\t<li>7.13672125229051</li>\n",
       "\t<li>2.92876829155554</li>\n",
       "\t<li>-0.459746596164838</li>\n",
       "\t<li>3.11884022662673</li>\n",
       "\t<li>3.02420666629321</li>\n",
       "\t<li>-0.62230666058582</li>\n",
       "\t<li>5.11771886882815</li>\n",
       "\t<li>-0.828912074501088</li>\n",
       "\t<li>2.83523670944685</li>\n",
       "\t<li>5.25593170836336</li>\n",
       "\t<li>-1.02071697866417</li>\n",
       "\t<li>-1.65520614025972</li>\n",
       "\t<li>-3.75938372520168</li>\n",
       "\t<li>0.94125580157621</li>\n",
       "\t<li>2.5876179259482</li>\n",
       "\t<li>6.81588376777738</li>\n",
       "\t<li>-5.79561977606467</li>\n",
       "\t<li>0.338963994792527</li>\n",
       "\t<li>1.37259317215362</li>\n",
       "\t<li>-0.0415810623491666</li>\n",
       "\t<li>1.67856831650225</li>\n",
       "\t<li>-1.5808005922576</li>\n",
       "\t<li>-1.41599896293272</li>\n",
       "\t<li>1.91960096586489</li>\n",
       "\t<li>4.17724107192169</li>\n",
       "\t<li>3.8689641885072</li>\n",
       "\t<li>0.608758794777408</li>\n",
       "\t<li>4.73618518539972</li>\n",
       "\t<li>5.0961004900978</li>\n",
       "\t<li>1.7104712339379</li>\n",
       "\t<li>-2.02952659531983</li>\n",
       "\t<li>-3.60850941706362</li>\n",
       "\t<li>1.41654769506583</li>\n",
       "\t<li>1.6247110600117</li>\n",
       "\t<li>2.64936419800437</li>\n",
       "\t<li>-1.39667654101483</li>\n",
       "\t<li>-1.78660066240441</li>\n",
       "\t<li>1.97792346004315</li>\n",
       "\t<li>2.10331083721527</li>\n",
       "\t<li>3.44472410347109</li>\n",
       "\t<li>-3.45857257288777</li>\n",
       "\t<li>-2.19045662766155</li>\n",
       "\t<li>7.66992480990431</li>\n",
       "\t<li>-0.580341994657723</li>\n",
       "\t<li>-0.115720323139566</li>\n",
       "\t<li>1.86095579644101</li>\n",
       "\t<li>1.79215687227646</li>\n",
       "\t<li>1.90417149305661</li>\n",
       "\t<li>-4.47572368643643</li>\n",
       "\t<li>-1.32250867484658</li>\n",
       "\t<li>-2.60748219643603</li>\n",
       "\t<li>-1.1475207751827</li>\n",
       "\t<li>-0.409406926375577</li>\n",
       "\t<li>5.61574311181334</li>\n",
       "\t<li>-0.408781377436683</li>\n",
       "\t<li>2.7106042782274</li>\n",
       "\t<li>4.35957166063579</li>\n",
       "\t<li>1.68825202664013</li>\n",
       "\t<li>1.52135714073466</li>\n",
       "\t<li>-0.215601640562255</li>\n",
       "\t<li>-0.652923180167824</li>\n",
       "\t<li>3.54812033858787</li>\n",
       "\t<li>0.371262535264872</li>\n",
       "\t<li>-6.76069776652326</li>\n",
       "\t<li>-3.19915859427109</li>\n",
       "\t<li>7.0681698357054</li>\n",
       "\t<li>2.87146024185384</li>\n",
       "\t<li>1.13189241663887</li>\n",
       "\t<li>0.140450471465593</li>\n",
       "\t<li>-0.688389391899999</li>\n",
       "\t<li>0.933185902741018</li>\n",
       "\t<li>-0.240423144679467</li>\n",
       "\t<li>4.2048785178888</li>\n",
       "\t<li>-0.565765360279159</li>\n",
       "\t<li>-4.56105071816653</li>\n",
       "\t<li>-0.982394551973596</li>\n",
       "\t<li>-1.39803499834522</li>\n",
       "\t<li>-4.69035523721093</li>\n",
       "\t<li>-0.295123010157018</li>\n",
       "\t<li>0.975312133825041</li>\n",
       "\t<li>-1.63862398954144</li>\n",
       "\t<li>-2.89815333319265</li>\n",
       "\t<li>8.09704592827055</li>\n",
       "\t<li>3.2463132970303</li>\n",
       "\t<li>5.76742407526121</li>\n",
       "\t<li>-4.25932296089066</li>\n",
       "\t<li>5.13765396380978</li>\n",
       "\t<li>0.334457091589064</li>\n",
       "\t<li>-4.67669656034875</li>\n",
       "\t<li>0.110599707210257</li>\n",
       "\t<li>-1.94009475300153</li>\n",
       "\t<li>-0.889112141177836</li>\n",
       "\t<li>-4.16939158939856</li>\n",
       "\t<li>1.15546221628088</li>\n",
       "\t<li>-0.612113421223521</li>\n",
       "\t<li>1.97316506802674</li>\n",
       "\t<li>0.626464243234483</li>\n",
       "\t<li>-0.565881433772089</li>\n",
       "\t<li>0.0430592205904337</li>\n",
       "\t<li>-0.671724918101345</li>\n",
       "\t<li>3.23267051959905</li>\n",
       "\t<li>0.0355636351136052</li>\n",
       "\t<li>-1.00920419811734</li>\n",
       "\t<li>-1.52927415989209</li>\n",
       "\t<li>-4.08474597681276</li>\n",
       "\t<li>3.80725238807894</li>\n",
       "\t<li>0.00796825759256914</li>\n",
       "\t<li>-1.96694593082345</li>\n",
       "\t<li>3.20147405892309</li>\n",
       "\t<li>-0.996935851966124</li>\n",
       "\t<li>1.77197159838672</li>\n",
       "\t<li>1.58882426090342</li>\n",
       "\t<li>6.81439391273667</li>\n",
       "\t<li>6.35416092062945</li>\n",
       "\t<li>3.1056661208589</li>\n",
       "\t<li>-4.3804377110077</li>\n",
       "\t<li>2.08101271041942</li>\n",
       "\t<li>0.66776444824367</li>\n",
       "\t<li>4.65947619097378</li>\n",
       "\t<li>-0.830576605324735</li>\n",
       "\t<li>2.53119569775954</li>\n",
       "\t<li>3.341659034437</li>\n",
       "\t<li>2.53287466946172</li>\n",
       "\t<li>8.33084916545164</li>\n",
       "\t<li>-2.53483749778452</li>\n",
       "\t<li>-4.05231131712819</li>\n",
       "\t<li>1.32164801356951</li>\n",
       "\t<li>1.54634973295649</li>\n",
       "\t<li>3.46439570620759</li>\n",
       "\t<li>-0.167389678543436</li>\n",
       "\t<li>7.76521137376861</li>\n",
       "\t<li>4.74764766143619</li>\n",
       "\t<li>2.62243746096113</li>\n",
       "\t<li>-2.69989555921333</li>\n",
       "\t<li>-1.2163012353209</li>\n",
       "\t<li>2.59432093758164</li>\n",
       "\t<li>-0.703724212192954</li>\n",
       "\t<li>5.55056730713966</li>\n",
       "\t<li>5.28490525078572</li>\n",
       "\t<li>1.51295521559224</li>\n",
       "\t<li>-2.59998177962325</li>\n",
       "\t<li>0.0106016628343342</li>\n",
       "\t<li>1.71704197142161</li>\n",
       "\t<li>-0.766014449709294</li>\n",
       "\t<li>1.73218157267511</li>\n",
       "\t<li>3.2049887806263</li>\n",
       "\t<li>-2.80855826668365</li>\n",
       "\t<li>2.52926799144446</li>\n",
       "\t<li>1.60825066982366</li>\n",
       "\t<li>5.26406313470481</li>\n",
       "\t<li>2.26141284872679</li>\n",
       "\t<li>0.459283301317006</li>\n",
       "\t<li>-0.954314647701179</li>\n",
       "\t<li>-3.88332556092346</li>\n",
       "\t<li>-2.61119714352265</li>\n",
       "\t<li>1.38887041114758</li>\n",
       "\t<li>-3.01827508338412</li>\n",
       "\t<li>3.17021606558232</li>\n",
       "\t<li>3.3917027976193</li>\n",
       "\t<li>-4.24519228041398</li>\n",
       "\t<li>0.716693301107667</li>\n",
       "\t<li>2.70253587999241</li>\n",
       "\t<li>1.29763589537389</li>\n",
       "\t<li>0.408551156439555</li>\n",
       "\t<li>0.555471764790531</li>\n",
       "\t<li>0.728848318652886</li>\n",
       "\t<li>-4.96977719614252</li>\n",
       "\t<li>-4.70277361367584</li>\n",
       "\t<li>-0.714629223413444</li>\n",
       "\t<li>4.34519685122041</li>\n",
       "\t<li>-2.75813576706396</li>\n",
       "\t<li>0.655297006472141</li>\n",
       "\t<li>3.36944441819789</li>\n",
       "\t<li>3.37954149544741</li>\n",
       "\t<li>3.71035544884991</li>\n",
       "\t<li>6.20399522353177</li>\n",
       "\t<li>0.408924433833934</li>\n",
       "\t<li>0.226313522434411</li>\n",
       "\t<li>-4.2708629269355</li>\n",
       "\t<li>-1.80298770316547</li>\n",
       "\t<li>3.56551096029789</li>\n",
       "\t<li>5.69802318354141</li>\n",
       "\t<li>3.57721841205127</li>\n",
       "\t<li>3.23927112984774</li>\n",
       "\t<li>3.23738111432679</li>\n",
       "\t<li>3.85120656219792</li>\n",
       "\t<li>6.86370233502117</li>\n",
       "\t<li>-1.18847024123686</li>\n",
       "\t<li>0.144437184635064</li>\n",
       "\t<li>2.26875709993298</li>\n",
       "\t<li>-0.958465183460922</li>\n",
       "\t<li>0.718055120200115</li>\n",
       "\t<li>-2.9483491536264</li>\n",
       "\t<li>0.871890025746245</li>\n",
       "\t<li>-2.56229449828793</li>\n",
       "\t<li>0.371014378204891</li>\n",
       "\t<li>1.82623391076806</li>\n",
       "\t<li>6.16874744834464</li>\n",
       "\t<li>3.99820465599288</li>\n",
       "\t<li>-0.678092251905879</li>\n",
       "\t<li>2.44651491781957</li>\n",
       "\t<li>6.75124315970605</li>\n",
       "\t<li>-2.59987321737557</li>\n",
       "\t<li>-2.012277873497</li>\n",
       "\t<li>-3.49117843666751</li>\n",
       "\t<li>5.50179672360795</li>\n",
       "\t<li>0.0483009503454408</li>\n",
       "\t<li>1.02175347993132</li>\n",
       "\t<li>-0.409353263897742</li>\n",
       "\t<li>0.340688863166567</li>\n",
       "\t<li>-0.0857264812723784</li>\n",
       "\t<li>-2.11890980732114</li>\n",
       "\t<li>2.58218511485947</li>\n",
       "\t<li>-1.99096850743502</li>\n",
       "\t<li>0.918471048781835</li>\n",
       "\t<li>-1.51135497937828</li>\n",
       "\t<li>-1.02242808866603</li>\n",
       "\t<li>-1.71213232284886</li>\n",
       "\t<li>-2.67240185359531</li>\n",
       "\t<li>0.288313826142069</li>\n",
       "\t<li>2.61670048654235</li>\n",
       "\t<li>-4.61333203682836</li>\n",
       "\t<li>-4.39457473829775</li>\n",
       "\t<li>-1.15166032617076</li>\n",
       "\t<li>1.85376591594786</li>\n",
       "\t<li>-0.404324193643772</li>\n",
       "\t<li>-0.973042214409544</li>\n",
       "\t<li>-1.91963847711925</li>\n",
       "\t<li>2.68252154979159</li>\n",
       "\t<li>0.604609386541022</li>\n",
       "\t<li>2.01890425122436</li>\n",
       "\t<li>6.22122276588741</li>\n",
       "\t<li>4.67800401390669</li>\n",
       "\t<li>3.52563378536617</li>\n",
       "\t<li>2.01387660166935</li>\n",
       "\t<li>1.08419340129949</li>\n",
       "\t<li>7.63405600660237</li>\n",
       "\t<li>-0.49854135394613</li>\n",
       "\t<li>1.23344015340359</li>\n",
       "\t<li>3.5427483754946</li>\n",
       "\t<li>3.92677873498086</li>\n",
       "\t<li>1.88151705511286</li>\n",
       "\t<li>1.40575885496457</li>\n",
       "\t<li>0.786306415534491</li>\n",
       "\t<li>0.070241490445212</li>\n",
       "\t<li>6.25261542672859</li>\n",
       "\t<li>1.73222512440875</li>\n",
       "\t<li>3.89613147303913</li>\n",
       "\t<li>2.14381400981006</li>\n",
       "\t<li>-2.00374149526454</li>\n",
       "\t<li>-5.08441255763185</li>\n",
       "\t<li>0.67835745388105</li>\n",
       "\t<li>0.100440666037173</li>\n",
       "\t<li>0.248938443971933</li>\n",
       "\t<li>-1.35201076126527</li>\n",
       "\t<li>1.06473793013746</li>\n",
       "\t<li>4.29625070718143</li>\n",
       "\t<li>4.73756383503761</li>\n",
       "\t<li>-0.208549884295896</li>\n",
       "\t<li>-1.66939432855235</li>\n",
       "\t<li>7.61860269932304</li>\n",
       "\t<li>-0.000343955225977854</li>\n",
       "\t<li>3.61372903969504</li>\n",
       "\t<li>2.68031764937447</li>\n",
       "\t<li>-0.882607605734773</li>\n",
       "\t<li>0.584047533687019</li>\n",
       "\t<li>-2.68956916561899</li>\n",
       "\t<li>0.844746058967176</li>\n",
       "\t<li>-2.67684949452854</li>\n",
       "\t<li>-0.739272548730301</li>\n",
       "\t<li>5.4679726474445</li>\n",
       "\t<li>-4.61213872321918</li>\n",
       "\t<li>0.284804456210214</li>\n",
       "\t<li>1.09972007069749</li>\n",
       "\t<li>-1.51743988293055</li>\n",
       "\t<li>8.50557776163232</li>\n",
       "\t<li>1.6577930791361</li>\n",
       "\t<li>0.454256836008096</li>\n",
       "\t<li>1.17016498121011</li>\n",
       "\t<li>1.18934423367495</li>\n",
       "\t<li>7.13201625256437</li>\n",
       "\t<li>6.48854076729749</li>\n",
       "\t<li>0.164825554784723</li>\n",
       "\t<li>3.9053170486801</li>\n",
       "\t<li>2.0734561638917</li>\n",
       "\t<li>3.876633903359</li>\n",
       "\t<li>1.95591561875521</li>\n",
       "\t<li>4.06580392997211</li>\n",
       "\t<li>5.6973900437617</li>\n",
       "\t<li>0.85028645367717</li>\n",
       "\t<li>2.10500538719116</li>\n",
       "\t<li>0.299754361132661</li>\n",
       "\t<li>-0.286255435401621</li>\n",
       "\t<li>0.170976839528375</li>\n",
       "\t<li>2.54820978794787</li>\n",
       "\t<li>2.89400712683572</li>\n",
       "\t<li>-1.26137682827445</li>\n",
       "\t<li>-1.099803710513</li>\n",
       "\t<li>1.04071694204401</li>\n",
       "\t<li>-2.10695786949459</li>\n",
       "\t<li>-1.54619615781258</li>\n",
       "\t<li>1.76430020656457</li>\n",
       "\t<li>0.92731453725839</li>\n",
       "\t<li>1.09576664362536</li>\n",
       "\t<li>1.71613027832812</li>\n",
       "\t<li>2.01764094430465</li>\n",
       "\t<li>-0.557621121497598</li>\n",
       "\t<li>1.79475247503528</li>\n",
       "\t<li>3.21988612792341</li>\n",
       "\t<li>-3.07822583451515</li>\n",
       "\t<li>-0.710091954049937</li>\n",
       "\t<li>3.90398210097542</li>\n",
       "\t<li>2.35178324073259</li>\n",
       "\t<li>5.24411347133988</li>\n",
       "\t<li>-0.326990878778886</li>\n",
       "\t<li>1.49661812970344</li>\n",
       "\t<li>0.215858689039885</li>\n",
       "\t<li>-4.02829203237225</li>\n",
       "\t<li>0.272507381801475</li>\n",
       "\t<li>0.925721056136311</li>\n",
       "\t<li>1.04436012105574</li>\n",
       "\t<li>4.48727856807315</li>\n",
       "\t<li>-3.34197881168952</li>\n",
       "\t<li>0.291642120316387</li>\n",
       "\t<li>11.1549385240335</li>\n",
       "\t<li>-6.09133399448629</li>\n",
       "\t<li>2.17798611106564</li>\n",
       "\t<li>1.45275160701741</li>\n",
       "\t<li>3.87591553845705</li>\n",
       "\t<li>-1.19611159331667</li>\n",
       "\t<li>0.113284764230889</li>\n",
       "\t<li>-2.04884493654767</li>\n",
       "\t<li>4.93525230377544</li>\n",
       "\t<li>-2.93434612095967</li>\n",
       "\t<li>-4.15628420195443</li>\n",
       "\t<li>-2.26976911505207</li>\n",
       "\t<li>4.29190245341183</li>\n",
       "\t<li>-1.40559929055617</li>\n",
       "\t<li>8.46125046743445</li>\n",
       "\t<li>-0.561522036883798</li>\n",
       "\t<li>-0.0372933714323462</li>\n",
       "\t<li>3.39016927323639</li>\n",
       "\t<li>3.1941435517034</li>\n",
       "\t<li>1.97993982209058</li>\n",
       "\t<li>-2.94898344225987</li>\n",
       "\t<li>0.584085228470697</li>\n",
       "\t<li>-1.69564647907716</li>\n",
       "\t<li>-1.30925994282667</li>\n",
       "\t<li>2.13922678381941</li>\n",
       "\t<li>2.40498535694192</li>\n",
       "\t<li>0.640922041728273</li>\n",
       "\t<li>0.939002103022412</li>\n",
       "\t<li>0.751736280404046</li>\n",
       "\t<li>5.33518806413912</li>\n",
       "\t<li>-0.199112268318881</li>\n",
       "\t<li>6.1398536692844</li>\n",
       "\t<li>-0.366327321069681</li>\n",
       "\t<li>1.56745928014947</li>\n",
       "\t<li>0.0157088122211936</li>\n",
       "\t<li>-4.0379634771177</li>\n",
       "\t<li>3.0026992243826</li>\n",
       "\t<li>-1.89061367617285</li>\n",
       "\t<li>-0.858351155972922</li>\n",
       "\t<li>3.90665910761233</li>\n",
       "\t<li>4.24165700068844</li>\n",
       "\t<li>6.57028799551756</li>\n",
       "\t<li>-0.0534154556566673</li>\n",
       "\t<li>4.16657658411507</li>\n",
       "\t<li>3.31917554000703</li>\n",
       "\t<li>1.09441274453237</li>\n",
       "\t<li>-4.5740453102379</li>\n",
       "\t<li>3.57317596011735</li>\n",
       "\t<li>-0.603257342303101</li>\n",
       "\t<li>7.59695976311245</li>\n",
       "\t<li>3.58675335574439</li>\n",
       "\t<li>-2.21903056913567</li>\n",
       "\t<li>-0.0421271066130278</li>\n",
       "\t<li>-4.13118714316011</li>\n",
       "\t<li>3.18063751748033</li>\n",
       "\t<li>5.3013067080218</li>\n",
       "\t<li>-5.78040944626874</li>\n",
       "\t<li>3.62926309196825</li>\n",
       "\t<li>-1.21638417362032</li>\n",
       "\t<li>1.52739841546054</li>\n",
       "\t<li>-0.690869507445448</li>\n",
       "\t<li>1.205927003802</li>\n",
       "\t<li>1.89477608773536</li>\n",
       "\t<li>3.44617342377849</li>\n",
       "\t<li>3.23431207134377</li>\n",
       "\t<li>-0.475793408281429</li>\n",
       "\t<li>-5.3959129048943</li>\n",
       "\t<li>-2.6293406942825</li>\n",
       "\t<li>1.82119670311891</li>\n",
       "\t<li>3.42645666675982</li>\n",
       "\t<li>2.75807384002514</li>\n",
       "\t<li>-4.39462227547335</li>\n",
       "\t<li>1.00551592302777</li>\n",
       "\t<li>0.890450043633618</li>\n",
       "\t<li>2.38011634381501</li>\n",
       "\t<li>2.70074745165088</li>\n",
       "\t<li>-0.277432612273979</li>\n",
       "\t<li>3.71513655744953</li>\n",
       "\t<li>-1.35401530215526</li>\n",
       "\t<li>-1.62950647972278</li>\n",
       "\t<li>4.29895139068372</li>\n",
       "\t<li>-2.16154492946616</li>\n",
       "\t<li>1.88638903745079</li>\n",
       "\t<li>-1.93230214993828</li>\n",
       "\t<li>3.48643155691369</li>\n",
       "\t<li>-1.41276444137593</li>\n",
       "\t<li>0.246636262239325</li>\n",
       "\t<li>2.1221106245738</li>\n",
       "\t<li>5.13941141031475</li>\n",
       "\t<li>-1.10522319949799</li>\n",
       "\t<li>0.106311468310739</li>\n",
       "\t<li>0.899945676566685</li>\n",
       "\t<li>0.0443808018610441</li>\n",
       "\t<li>2.12617672282961</li>\n",
       "\t<li>4.51970483488031</li>\n",
       "\t<li>1.8659476214315</li>\n",
       "\t<li>-3.14888858339177</li>\n",
       "\t<li>2.80386752319618</li>\n",
       "\t<li>-2.27673811411612</li>\n",
       "\t<li>5.41391194192516</li>\n",
       "\t<li>-2.92499274309581</li>\n",
       "\t<li>5.02182707913152</li>\n",
       "\t<li>-0.215435205584698</li>\n",
       "\t<li>2.7760801321367</li>\n",
       "\t<li>1.90144394581317</li>\n",
       "\t<li>2.62717396623647</li>\n",
       "\t<li>-0.0751773091321652</li>\n",
       "\t<li>5.5607945343216</li>\n",
       "\t<li>0.454423358035135</li>\n",
       "\t<li>3.09246279596519</li>\n",
       "\t<li>3.00785336115648</li>\n",
       "\t<li>5.13849483250816</li>\n",
       "\t<li>7.70182820771674</li>\n",
       "\t<li>0.00337855329728365</li>\n",
       "\t<li>-3.03873860619793</li>\n",
       "\t<li>2.97000582273074</li>\n",
       "\t<li>5.01962017830681</li>\n",
       "\t<li>4.46757552919558</li>\n",
       "\t<li>-2.7677318765327</li>\n",
       "\t<li>0.333003783405423</li>\n",
       "\t<li>0.8517044300448</li>\n",
       "\t<li>5.61607174863106</li>\n",
       "\t<li>2.58296428414761</li>\n",
       "\t<li>5.49313902169199</li>\n",
       "\t<li>3.48877760846208</li>\n",
       "\t<li>-0.876859806739847</li>\n",
       "\t<li>3.18496255728335</li>\n",
       "\t<li>4.91366897002252</li>\n",
       "\t<li>-3.60833607138155</li>\n",
       "\t<li>7.27588921053557</li>\n",
       "\t<li>-0.142058766372979</li>\n",
       "\t<li>0.619892118515273</li>\n",
       "\t<li>2.20451533704562</li>\n",
       "\t<li>6.77324725189892</li>\n",
       "\t<li>3.4007077790046</li>\n",
       "\t<li>3.67785359983849</li>\n",
       "\t<li>-0.637101961397278</li>\n",
       "\t<li>1.9028526320686</li>\n",
       "\t<li>-1.8305935404684</li>\n",
       "\t<li>1.85404381724327</li>\n",
       "\t<li>1.54281183398557</li>\n",
       "\t<li>1.51633974860361</li>\n",
       "\t<li>-0.736955657982321</li>\n",
       "\t<li>3.01798590443987</li>\n",
       "\t<li>1.35442713993888</li>\n",
       "\t<li>-1.83641725163824</li>\n",
       "\t<li>0.878642565555059</li>\n",
       "\t<li>-1.72428332013361</li>\n",
       "\t<li>2.8758931315519</li>\n",
       "\t<li>-1.05608263228372</li>\n",
       "\t<li>5.74255742708126</li>\n",
       "\t<li>0.582367117951091</li>\n",
       "\t<li>-0.408089444664735</li>\n",
       "\t<li>7.29910570256021</li>\n",
       "\t<li>-7.04923232115848</li>\n",
       "\t<li>-2.50577737150638</li>\n",
       "\t<li>3.6413769589088</li>\n",
       "\t<li>4.39788498497614</li>\n",
       "\t<li>3.66248379344275</li>\n",
       "\t<li>0.503457926671711</li>\n",
       "\t<li>5.26245560287812</li>\n",
       "\t<li>-2.69098620179087</li>\n",
       "\t<li>0.101040125536049</li>\n",
       "\t<li>7.61764759923816</li>\n",
       "\t<li>-1.48574951305086</li>\n",
       "\t<li>0.363045776605304</li>\n",
       "\t<li>-3.24220123930074</li>\n",
       "\t<li>0.976845509666283</li>\n",
       "\t<li>0.813677740161099</li>\n",
       "\t<li>4.48933067768986</li>\n",
       "\t<li>1.12349483845338</li>\n",
       "\t<li>0.665474199789182</li>\n",
       "\t<li>1.79240167497695</li>\n",
       "\t<li>-3.65269131041255</li>\n",
       "\t<li>7.46438568560074</li>\n",
       "\t<li>3.34511252497096</li>\n",
       "\t<li>5.89785151310997</li>\n",
       "\t<li>4.63712322627699</li>\n",
       "\t<li>6.0100803322875</li>\n",
       "\t<li>4.33914279314951</li>\n",
       "\t<li>1.89053826735257</li>\n",
       "\t<li>0.186052441702491</li>\n",
       "\t<li>-2.15299809730994</li>\n",
       "\t<li>-2.23078933989455</li>\n",
       "\t<li>0.752839883002113</li>\n",
       "\t<li>0.854271462174486</li>\n",
       "\t<li>3.51811061822427</li>\n",
       "\t<li>2.66975920521453</li>\n",
       "\t<li>-0.472221415950984</li>\n",
       "\t<li>3.68282858940271</li>\n",
       "\t<li>1.2210020031541</li>\n",
       "\t<li>-0.876584444200702</li>\n",
       "\t<li>0.990868649994787</li>\n",
       "\t<li>4.67569021381165</li>\n",
       "\t<li>1.59298418833892</li>\n",
       "\t<li>1.06712946664905</li>\n",
       "\t<li>4.48622857016292</li>\n",
       "\t<li>-1.09014939978291</li>\n",
       "\t<li>4.73102446436591</li>\n",
       "\t<li>0.929567403722078</li>\n",
       "\t<li>0.0544454759009516</li>\n",
       "\t<li>-2.48620925197002</li>\n",
       "\t<li>-0.886507945490652</li>\n",
       "\t<li>5.17329676581479</li>\n",
       "\t<li>-4.62352895373497</li>\n",
       "\t<li>-3.74749034043434</li>\n",
       "\t<li>0.0244197477034833</li>\n",
       "\t<li>-0.155083506755953</li>\n",
       "\t<li>3.35908640561663</li>\n",
       "\t<li>-0.758446098647805</li>\n",
       "\t<li>0.705253979674928</li>\n",
       "\t<li>3.81860682669035</li>\n",
       "\t<li>1.44650006544998</li>\n",
       "\t<li>2.27552712941511</li>\n",
       "\t<li>5.59616447652312</li>\n",
       "\t<li>1.32528543818048</li>\n",
       "\t<li>3.22303331711459</li>\n",
       "\t<li>0.21079801619373</li>\n",
       "\t<li>-5.65424191913692</li>\n",
       "\t<li>2.69072501537052</li>\n",
       "\t<li>-3.51874833260304</li>\n",
       "\t<li>2.11446395811357</li>\n",
       "\t<li>-0.705171997983575</li>\n",
       "\t<li>-2.74880282416509</li>\n",
       "\t<li>0.523318056288018</li>\n",
       "\t<li>0.416496554382128</li>\n",
       "\t<li>4.03652998797777</li>\n",
       "\t<li>4.5183768535615</li>\n",
       "\t<li>-2.47127677203221</li>\n",
       "\t<li>2.83814833386126</li>\n",
       "\t<li>-2.91943608571245</li>\n",
       "\t<li>3.89830027760868</li>\n",
       "\t<li>-4.10821768616167</li>\n",
       "\t<li>-2.89359795259189</li>\n",
       "\t<li>-7.04435232922254</li>\n",
       "\t<li>0.660097819711156</li>\n",
       "\t<li>5.31319259572464</li>\n",
       "\t<li>3.18047084754214</li>\n",
       "\t<li>3.60252047807329</li>\n",
       "\t<li>-4.44459022050054</li>\n",
       "\t<li>-1.53727641144799</li>\n",
       "\t<li>1.73645214210794</li>\n",
       "\t<li>1.23487078251545</li>\n",
       "\t<li>3.17080240796425</li>\n",
       "\t<li>-5.94796567202192</li>\n",
       "\t<li>3.90621339887362</li>\n",
       "\t<li>6.24778409463069</li>\n",
       "\t<li>-6.32210100475855</li>\n",
       "\t<li>0.659411804303455</li>\n",
       "\t<li>0.255357286385286</li>\n",
       "\t<li>-0.122089124582365</li>\n",
       "\t<li>-0.380399723191484</li>\n",
       "\t<li>2.54239963157537</li>\n",
       "\t<li>1.37307133058643</li>\n",
       "\t<li>0.597962146651449</li>\n",
       "\t<li>2.4602722832666</li>\n",
       "\t<li>7.25376738750926</li>\n",
       "\t<li>4.83031912953884</li>\n",
       "\t<li>3.25484065466671</li>\n",
       "\t<li>1.41881014272781</li>\n",
       "\t<li>4.7073051193235</li>\n",
       "\t<li>0.595700422270101</li>\n",
       "\t<li>3.40069814090583</li>\n",
       "\t<li>-2.99347748459603</li>\n",
       "\t<li>3.04127022680217</li>\n",
       "\t<li>1.0920319399206</li>\n",
       "\t<li>2.28406095576539</li>\n",
       "\t<li>3.56162332863257</li>\n",
       "\t<li>0.16476332380306</li>\n",
       "\t<li>-0.0603512186182582</li>\n",
       "\t<li>4.37553632565082</li>\n",
       "\t<li>1.13754096790031</li>\n",
       "\t<li>3.72120245131129</li>\n",
       "\t<li>1.77358064344508</li>\n",
       "\t<li>5.98770160727204</li>\n",
       "\t<li>5.27302491259797</li>\n",
       "\t<li>0.484123663050312</li>\n",
       "\t<li>-0.903761169332138</li>\n",
       "\t<li>2.62986513697126</li>\n",
       "\t<li>-3.00580724502464</li>\n",
       "\t<li>4.03373117746056</li>\n",
       "\t<li>1.54692846367315</li>\n",
       "\t<li>-5.41275348501701</li>\n",
       "\t<li>7.71868217330907</li>\n",
       "\t<li>-2.39465660571934</li>\n",
       "\t<li>0.845546030796999</li>\n",
       "\t<li>4.20484653844316</li>\n",
       "\t<li>0.476208872426013</li>\n",
       "\t<li>5.14725641308318</li>\n",
       "\t<li>2.42597471269393</li>\n",
       "\t<li>4.44749690555257</li>\n",
       "\t<li>2.81131848293175</li>\n",
       "\t<li>5.17207825015958</li>\n",
       "\t<li>3.12403604216602</li>\n",
       "\t<li>0.431833228810359</li>\n",
       "\t<li>1.92098412849345</li>\n",
       "\t<li>5.69573945171373</li>\n",
       "\t<li>-7.96233647983627</li>\n",
       "\t<li>-0.243048921632061</li>\n",
       "\t<li>0.118027734987623</li>\n",
       "\t<li>0.141302458672936</li>\n",
       "\t<li>-2.99941983703072</li>\n",
       "\t<li>0.245622375334241</li>\n",
       "\t<li>0.0723603026212054</li>\n",
       "\t<li>2.90219076030331</li>\n",
       "\t<li>1.39041149368408</li>\n",
       "\t<li>-1.58283961366071</li>\n",
       "\t<li>-0.892157001030106</li>\n",
       "\t<li>6.98398506336292</li>\n",
       "\t<li>-0.779908035524322</li>\n",
       "\t<li>-0.65230177489242</li>\n",
       "\t<li>-1.95492266445709</li>\n",
       "\t<li>3.10701611432791</li>\n",
       "\t<li>1.9272683151375</li>\n",
       "\t<li>-0.101067442016604</li>\n",
       "\t<li>4.58894515826345</li>\n",
       "\t<li>-2.07218095367292</li>\n",
       "\t<li>4.29186744556362</li>\n",
       "\t<li>1.37015256171164</li>\n",
       "\t<li>0.198379809957656</li>\n",
       "\t<li>-2.81296352602669</li>\n",
       "\t<li>-1.05280785570826</li>\n",
       "\t<li>0.190257016026207</li>\n",
       "\t<li>4.4042132987679</li>\n",
       "\t<li>3.11988859439868</li>\n",
       "\t<li>-3.58410759518155</li>\n",
       "\t<li>5.94053196452576</li>\n",
       "\t<li>-6.54564041918458</li>\n",
       "\t<li>-3.04027758798917</li>\n",
       "\t<li>3.89438995693639</li>\n",
       "\t<li>1.35228978371234</li>\n",
       "\t<li>2.21323582328612</li>\n",
       "\t<li>1.20720850935714</li>\n",
       "\t<li>-4.85882903230612</li>\n",
       "\t<li>-0.333514538404357</li>\n",
       "\t<li>5.16258006125721</li>\n",
       "\t<li>3.31957941401438</li>\n",
       "\t<li>-0.573448604045757</li>\n",
       "\t<li>-2.72855874282408</li>\n",
       "\t<li>0.513171639315786</li>\n",
       "\t<li>-1.08461113753899</li>\n",
       "\t<li>-2.92005968957683</li>\n",
       "\t<li>3.63591606904691</li>\n",
       "\t<li>2.99182674923158</li>\n",
       "\t<li>-1.52689332740654</li>\n",
       "\t<li>-4.44018212922929</li>\n",
       "\t<li>6.19200698751994</li>\n",
       "\t<li>0.119046072303547</li>\n",
       "\t<li>-1.06382379191722</li>\n",
       "\t<li>-0.52259981124929</li>\n",
       "\t<li>-5.25795486689944</li>\n",
       "\t<li>-0.984052797653977</li>\n",
       "\t<li>2.36405364043797</li>\n",
       "\t<li>0.500553371078755</li>\n",
       "\t<li>-1.75493307033947</li>\n",
       "\t<li>-5.62408738918069</li>\n",
       "\t<li>-0.0454736242302241</li>\n",
       "\t<li>4.58744029730112</li>\n",
       "\t<li>-6.42441509416045</li>\n",
       "\t<li>3.29094390840162</li>\n",
       "\t<li>0.891265042141809</li>\n",
       "\t<li>-0.467309044833172</li>\n",
       "\t<li>0.85668464111939</li>\n",
       "\t<li>-5.76624251070812</li>\n",
       "\t<li>-1.19306211846036</li>\n",
       "\t<li>-4.24731189063297</li>\n",
       "\t<li>2.56879444491778</li>\n",
       "\t<li>1.46251165092383</li>\n",
       "\t<li>5.1953797551526</li>\n",
       "\t<li>5.37683061534268</li>\n",
       "\t<li>1.86231030983773</li>\n",
       "\t<li>2.76378135551373</li>\n",
       "\t<li>3.02142827610505</li>\n",
       "\t<li>-3.5088746160549</li>\n",
       "\t<li>5.03903490168297</li>\n",
       "\t<li>3.95957094830051</li>\n",
       "\t<li>4.827055778921</li>\n",
       "\t<li>1.0706540742199</li>\n",
       "\t<li>5.48508441109574</li>\n",
       "\t<li>5.39929500669467</li>\n",
       "\t<li>3.1916862000684</li>\n",
       "\t<li>3.35988945541003</li>\n",
       "\t<li>3.25819077850789</li>\n",
       "\t<li>1.43006069494299</li>\n",
       "\t<li>-3.5921549437339</li>\n",
       "\t<li>1.08271635885336</li>\n",
       "\t<li>3.63281198160765</li>\n",
       "\t<li>-0.461821599372388</li>\n",
       "\t<li>-0.0831647732023517</li>\n",
       "\t<li>-3.22014786232054</li>\n",
       "\t<li>0.900841954377074</li>\n",
       "\t<li>-2.29144970118411</li>\n",
       "\t<li>1.57694158414242</li>\n",
       "\t<li>1.18481334377864</li>\n",
       "\t<li>0.425367047128203</li>\n",
       "\t<li>-0.443710562272343</li>\n",
       "\t<li>0.621618794771994</li>\n",
       "\t<li>5.71000928412303</li>\n",
       "\t<li>3.188841801432</li>\n",
       "\t<li>-4.40430097637605</li>\n",
       "\t<li>0.603384512321525</li>\n",
       "\t<li>1.73955767292252</li>\n",
       "\t<li>0.577641121015141</li>\n",
       "\t<li>6.48421138518953</li>\n",
       "\t<li>8.30690373321085</li>\n",
       "\t<li>-0.384155801387458</li>\n",
       "\t<li>0.424256617147071</li>\n",
       "\t<li>-0.865992003912129</li>\n",
       "\t<li>2.44034298589729</li>\n",
       "\t<li>0.528304363982501</li>\n",
       "\t<li>1.92423204739917</li>\n",
       "\t<li>0.725511073455929</li>\n",
       "\t<li>1.63761621166476</li>\n",
       "\t<li>-2.26600719467265</li>\n",
       "\t<li>4.08327747458778</li>\n",
       "\t<li>2.09433296587351</li>\n",
       "\t<li>4.40028993186533</li>\n",
       "\t<li>-2.24190038668761</li>\n",
       "\t<li>1.11776006716344</li>\n",
       "\t<li>0.986928063073253</li>\n",
       "\t<li>-0.998635477579539</li>\n",
       "\t<li>-4.89562778038563</li>\n",
       "\t<li>-4.24320275402487</li>\n",
       "\t<li>3.50930080485709</li>\n",
       "\t<li>-5.05927245761787</li>\n",
       "\t<li>0.621501403407534</li>\n",
       "\t<li>-1.47966439599857</li>\n",
       "\t<li>-1.90325706928071</li>\n",
       "\t<li>-0.616831017504159</li>\n",
       "\t<li>2.48673171798572</li>\n",
       "\t<li>6.9452916768347</li>\n",
       "\t<li>-2.44612465491072</li>\n",
       "\t<li>-0.256405289085144</li>\n",
       "\t<li>1.47455645905558</li>\n",
       "\t<li>0.540780616231461</li>\n",
       "\t<li>0.625289728860676</li>\n",
       "\t<li>2.53583888838638</li>\n",
       "\t<li>-3.28280247427799</li>\n",
       "\t<li>3.24595910340547</li>\n",
       "\t<li>-0.55669352996071</li>\n",
       "\t<li>2.61144528748448</li>\n",
       "\t<li>-3.96807550592669</li>\n",
       "\t<li>7.87009304186965</li>\n",
       "\t<li>-1.80263308702194</li>\n",
       "\t<li>0.380265209357411</li>\n",
       "\t<li>3.54278348763592</li>\n",
       "\t<li>0.3074861748674</li>\n",
       "\t<li>2.34218526099402</li>\n",
       "\t<li>1.58465999659759</li>\n",
       "\t<li>-0.152816567002366</li>\n",
       "\t<li>1.98155751740554</li>\n",
       "\t<li>1.25663609893612</li>\n",
       "\t<li>-2.77400962972907</li>\n",
       "\t<li>-1.34560610416886</li>\n",
       "\t<li>-2.97695214410777</li>\n",
       "\t<li>1.80687765088975</li>\n",
       "\t<li>-1.66813732704868</li>\n",
       "\t<li>1.43399028910662</li>\n",
       "\t<li>0.30741678324255</li>\n",
       "\t<li>1.70282225715867</li>\n",
       "\t<li>-0.602613474060363</li>\n",
       "\t<li>-7.16873615699614</li>\n",
       "\t<li>5.96933482602553</li>\n",
       "\t<li>0.521267783390149</li>\n",
       "\t<li>-3.12146690306189</li>\n",
       "\t<li>2.21253113853343</li>\n",
       "\t<li>4.77687848083251</li>\n",
       "\t<li>-5.92886388640431</li>\n",
       "\t<li>5.41973892875409</li>\n",
       "\t<li>2.8920668235635</li>\n",
       "\t<li>-3.26760751843481</li>\n",
       "\t<li>-1.494602304019</li>\n",
       "\t<li>3.553725435529</li>\n",
       "\t<li>-2.88984579765969</li>\n",
       "\t<li>-0.659755226091053</li>\n",
       "\t<li>0.945324040215475</li>\n",
       "\t<li>3.53375156734628</li>\n",
       "\t<li>1.42180888449152</li>\n",
       "\t<li>5.23988150894084</li>\n",
       "\t<li>3.78915558359052</li>\n",
       "\t<li>-1.3161564960749</li>\n",
       "\t<li>3.31392878715718</li>\n",
       "\t<li>2.58345143633523</li>\n",
       "\t<li>-1.86268462155762</li>\n",
       "\t<li>0.186486413128918</li>\n",
       "\t<li>3.24288739896144</li>\n",
       "\t<li>3.99880685950755</li>\n",
       "\t<li>2.96013495596575</li>\n",
       "\t<li>-0.670989277799482</li>\n",
       "\t<li>-0.518914313243875</li>\n",
       "\t<li>-3.93289615326016</li>\n",
       "\t<li>-0.174241297028365</li>\n",
       "\t<li>1.14641631565116</li>\n",
       "\t<li>9.77278794296967</li>\n",
       "\t<li>6.95707091556068</li>\n",
       "\t<li>-0.753774974201124</li>\n",
       "\t<li>-0.890081211369221</li>\n",
       "\t<li>5.09129327307856</li>\n",
       "\t<li>2.79850438172788</li>\n",
       "\t<li>4.91987641245081</li>\n",
       "\t<li>2.21328673681046</li>\n",
       "\t<li>1.04556103683065</li>\n",
       "\t<li>-3.07393931189178</li>\n",
       "\t<li>3.00200223496331</li>\n",
       "\t<li>-4.11611025832133</li>\n",
       "\t<li>6.20635398294307</li>\n",
       "\t<li>2.8984854160583</li>\n",
       "\t<li>-4.25258699495581</li>\n",
       "\t<li>1.08746300791908</li>\n",
       "\t<li>4.0121991165785</li>\n",
       "\t<li>3.85932996634426</li>\n",
       "\t<li>-0.95590849204264</li>\n",
       "\t<li>4.65798837764797</li>\n",
       "\t<li>3.77188450212281</li>\n",
       "\t<li>-2.80309368362665</li>\n",
       "\t<li>3.98514322411713</li>\n",
       "\t<li>2.87211920115598</li>\n",
       "\t<li>0.625479688830093</li>\n",
       "\t<li>5.88264434806843</li>\n",
       "\t<li>2.42653634735454</li>\n",
       "\t<li>0.838521453456172</li>\n",
       "\t<li>-1.6363920699742</li>\n",
       "\t<li>1.92925412739906</li>\n",
       "\t<li>-2.27281772195144</li>\n",
       "\t<li>-2.41878100834709</li>\n",
       "\t<li>-0.839027148221627</li>\n",
       "\t<li>2.86711234645274</li>\n",
       "\t<li>-4.48381292179075</li>\n",
       "\t<li>5.49586557249989</li>\n",
       "\t<li>0.378089015734899</li>\n",
       "\t<li>-6.50855997564895</li>\n",
       "\t<li>0.845616052751352</li>\n",
       "\t<li>1.98177370333546</li>\n",
       "\t<li>0.449591488974401</li>\n",
       "\t<li>1.5410526715961</li>\n",
       "\t<li>0.850806249610203</li>\n",
       "\t<li>1.54805356857521</li>\n",
       "\t<li>4.70867448811406</li>\n",
       "\t<li>2.10308790428795</li>\n",
       "\t<li>1.02163175203254</li>\n",
       "\t<li>-1.6632275182814</li>\n",
       "\t<li>0.107195017668181</li>\n",
       "\t<li>0.566737180875809</li>\n",
       "\t<li>-2.06326295648045</li>\n",
       "</ol>\n"
      ],
      "text/latex": [
       "\\begin{enumerate*}\n",
       "\\item -3.07243623113273\n",
       "\\item 4.49535635177151\n",
       "\\item 0.333566607200606\n",
       "\\item 2.01587332408051\n",
       "\\item 3.34018112991483\n",
       "\\item 1.44574550140037\n",
       "\\item -1.23677143948205\n",
       "\\item -0.45799894689929\n",
       "\\item 0.855409307250763\n",
       "\\item 2.0966927178195\n",
       "\\item 1.89683351471339\n",
       "\\item -1.01512583177097\n",
       "\\item 2.06239094873282\n",
       "\\item -6.80703209045312\n",
       "\\item 3.97545695284627\n",
       "\\item -1.13305613303217\n",
       "\\item 0.925051158633891\n",
       "\\item 2.22488851128816\n",
       "\\item 5.56430186615648\n",
       "\\item 0.226880371374681\n",
       "\\item 3.94321077074091\n",
       "\\item 1.81905689507391\n",
       "\\item 0.971635178961171\n",
       "\\item 4.08336449213092\n",
       "\\item 0.483669239041262\n",
       "\\item 0.651537097895729\n",
       "\\item 3.47849439211259\n",
       "\\item 2.73799916851769\n",
       "\\item 3.07578009474345\n",
       "\\item 0.973231575383822\n",
       "\\item 0.508674506735025\n",
       "\\item 1.59355381507994\n",
       "\\item 1.48167043858103\n",
       "\\item 4.57733210906918\n",
       "\\item 2.56030691393365\n",
       "\\item 4.6890551874106\n",
       "\\item 4.90032870748012\n",
       "\\item -4.23128400886273\n",
       "\\item 3.91896710601524\n",
       "\\item 4.30150375979412\n",
       "\\item 1.72000659638585\n",
       "\\item 0.867352446584798\n",
       "\\item 0.612685295886881\n",
       "\\item 7.7945503977185\n",
       "\\item 2.12812118897586\n",
       "\\item 0.195262228125948\n",
       "\\item -3.38237169533906\n",
       "\\item -5.93808590815471\n",
       "\\item -0.218178662010403\n",
       "\\item 0.155122881250417\n",
       "\\item 2.48372646139244\n",
       "\\item 0.256137274350234\n",
       "\\item 2.83320789398939\n",
       "\\item -0.910020428271531\n",
       "\\item 1.14589742945971\n",
       "\\item 2.34785374271928\n",
       "\\item 1.50171602956805\n",
       "\\item -0.0524412068906686\n",
       "\\item 0.799366785973827\n",
       "\\item -1.54939173435756\n",
       "\\item 2.27420091555496\n",
       "\\item 1.74124253625357\n",
       "\\item 2.9903017581096\n",
       "\\item -0.636175354367041\n",
       "\\item 2.74315558140122\n",
       "\\item 0.457058276577871\n",
       "\\item 0.0622386319443224\n",
       "\\item 3.45410950157268\n",
       "\\item 1.30847342942399\n",
       "\\item 0.762907554219538\n",
       "\\item -0.264065363662878\n",
       "\\item -1.57158127391106\n",
       "\\item 5.72222006760568\n",
       "\\item 2.75835264624701\n",
       "\\item -0.494725895100826\n",
       "\\item 1.43780539952127\n",
       "\\item 0.873650686177013\n",
       "\\item 5.0192656115734\n",
       "\\item 3.13681083419234\n",
       "\\item -1.63508664346139\n",
       "\\item -4.84230433031616\n",
       "\\item 1.39317391527193\n",
       "\\item -5.84426023333946\n",
       "\\item 0.0305968676652246\n",
       "\\item 3.40372873137\n",
       "\\item -1.3244622245544\n",
       "\\item 0.432483144362296\n",
       "\\item -0.516424479305158\n",
       "\\item -2.61676683505522\n",
       "\\item 2.17802259644426\n",
       "\\item 1.65498530047663\n",
       "\\item 0.399701032116117\n",
       "\\item -2.66316225944391\n",
       "\\item 0.387433419866321\n",
       "\\item 1.03715983622577\n",
       "\\item -3.88472529065903\n",
       "\\item 1.8920488826659\n",
       "\\item -3.51099192007391\n",
       "\\item 1.82316772557093\n",
       "\\item 8.10453324535954\n",
       "\\item -0.624503224127767\n",
       "\\item 3.06150185352572\n",
       "\\item 2.06215647151412\n",
       "\\item -1.88125006263661\n",
       "\\item 5.76335628341716\n",
       "\\item -0.869808949053938\n",
       "\\item 0.435339618099197\n",
       "\\item -0.896773986621621\n",
       "\\item 0.581969282426686\n",
       "\\item -2.97216348941782\n",
       "\\item -1.53787818769383\n",
       "\\item 0.555288405911027\n",
       "\\item 4.07537560136764\n",
       "\\item -1.4413451630454\n",
       "\\item 3.21952369160096\n",
       "\\item -0.33859133440501\n",
       "\\item 2.67070887242542\n",
       "\\item 0.715124949436626\n",
       "\\item 0.193972153496445\n",
       "\\item 0.393760622197311\n",
       "\\item -2.02187293412855\n",
       "\\item 0.220460077214538\n",
       "\\item 3.40416107152464\n",
       "\\item 0.291690288113164\n",
       "\\item 2.20542311403966\n",
       "\\item -3.81891122991627\n",
       "\\item -0.697799098851948\n",
       "\\item 2.70895794675673\n",
       "\\item 3.21357955857868\n",
       "\\item -0.122102389312682\n",
       "\\item 0.160765312579985\n",
       "\\item 6.0365562537693\n",
       "\\item 7.13672125229051\n",
       "\\item 2.92876829155554\n",
       "\\item -0.459746596164838\n",
       "\\item 3.11884022662673\n",
       "\\item 3.02420666629321\n",
       "\\item -0.62230666058582\n",
       "\\item 5.11771886882815\n",
       "\\item -0.828912074501088\n",
       "\\item 2.83523670944685\n",
       "\\item 5.25593170836336\n",
       "\\item -1.02071697866417\n",
       "\\item -1.65520614025972\n",
       "\\item -3.75938372520168\n",
       "\\item 0.94125580157621\n",
       "\\item 2.5876179259482\n",
       "\\item 6.81588376777738\n",
       "\\item -5.79561977606467\n",
       "\\item 0.338963994792527\n",
       "\\item 1.37259317215362\n",
       "\\item -0.0415810623491666\n",
       "\\item 1.67856831650225\n",
       "\\item -1.5808005922576\n",
       "\\item -1.41599896293272\n",
       "\\item 1.91960096586489\n",
       "\\item 4.17724107192169\n",
       "\\item 3.8689641885072\n",
       "\\item 0.608758794777408\n",
       "\\item 4.73618518539972\n",
       "\\item 5.0961004900978\n",
       "\\item 1.7104712339379\n",
       "\\item -2.02952659531983\n",
       "\\item -3.60850941706362\n",
       "\\item 1.41654769506583\n",
       "\\item 1.6247110600117\n",
       "\\item 2.64936419800437\n",
       "\\item -1.39667654101483\n",
       "\\item -1.78660066240441\n",
       "\\item 1.97792346004315\n",
       "\\item 2.10331083721527\n",
       "\\item 3.44472410347109\n",
       "\\item -3.45857257288777\n",
       "\\item -2.19045662766155\n",
       "\\item 7.66992480990431\n",
       "\\item -0.580341994657723\n",
       "\\item -0.115720323139566\n",
       "\\item 1.86095579644101\n",
       "\\item 1.79215687227646\n",
       "\\item 1.90417149305661\n",
       "\\item -4.47572368643643\n",
       "\\item -1.32250867484658\n",
       "\\item -2.60748219643603\n",
       "\\item -1.1475207751827\n",
       "\\item -0.409406926375577\n",
       "\\item 5.61574311181334\n",
       "\\item -0.408781377436683\n",
       "\\item 2.7106042782274\n",
       "\\item 4.35957166063579\n",
       "\\item 1.68825202664013\n",
       "\\item 1.52135714073466\n",
       "\\item -0.215601640562255\n",
       "\\item -0.652923180167824\n",
       "\\item 3.54812033858787\n",
       "\\item 0.371262535264872\n",
       "\\item -6.76069776652326\n",
       "\\item -3.19915859427109\n",
       "\\item 7.0681698357054\n",
       "\\item 2.87146024185384\n",
       "\\item 1.13189241663887\n",
       "\\item 0.140450471465593\n",
       "\\item -0.688389391899999\n",
       "\\item 0.933185902741018\n",
       "\\item -0.240423144679467\n",
       "\\item 4.2048785178888\n",
       "\\item -0.565765360279159\n",
       "\\item -4.56105071816653\n",
       "\\item -0.982394551973596\n",
       "\\item -1.39803499834522\n",
       "\\item -4.69035523721093\n",
       "\\item -0.295123010157018\n",
       "\\item 0.975312133825041\n",
       "\\item -1.63862398954144\n",
       "\\item -2.89815333319265\n",
       "\\item 8.09704592827055\n",
       "\\item 3.2463132970303\n",
       "\\item 5.76742407526121\n",
       "\\item -4.25932296089066\n",
       "\\item 5.13765396380978\n",
       "\\item 0.334457091589064\n",
       "\\item -4.67669656034875\n",
       "\\item 0.110599707210257\n",
       "\\item -1.94009475300153\n",
       "\\item -0.889112141177836\n",
       "\\item -4.16939158939856\n",
       "\\item 1.15546221628088\n",
       "\\item -0.612113421223521\n",
       "\\item 1.97316506802674\n",
       "\\item 0.626464243234483\n",
       "\\item -0.565881433772089\n",
       "\\item 0.0430592205904337\n",
       "\\item -0.671724918101345\n",
       "\\item 3.23267051959905\n",
       "\\item 0.0355636351136052\n",
       "\\item -1.00920419811734\n",
       "\\item -1.52927415989209\n",
       "\\item -4.08474597681276\n",
       "\\item 3.80725238807894\n",
       "\\item 0.00796825759256914\n",
       "\\item -1.96694593082345\n",
       "\\item 3.20147405892309\n",
       "\\item -0.996935851966124\n",
       "\\item 1.77197159838672\n",
       "\\item 1.58882426090342\n",
       "\\item 6.81439391273667\n",
       "\\item 6.35416092062945\n",
       "\\item 3.1056661208589\n",
       "\\item -4.3804377110077\n",
       "\\item 2.08101271041942\n",
       "\\item 0.66776444824367\n",
       "\\item 4.65947619097378\n",
       "\\item -0.830576605324735\n",
       "\\item 2.53119569775954\n",
       "\\item 3.341659034437\n",
       "\\item 2.53287466946172\n",
       "\\item 8.33084916545164\n",
       "\\item -2.53483749778452\n",
       "\\item -4.05231131712819\n",
       "\\item 1.32164801356951\n",
       "\\item 1.54634973295649\n",
       "\\item 3.46439570620759\n",
       "\\item -0.167389678543436\n",
       "\\item 7.76521137376861\n",
       "\\item 4.74764766143619\n",
       "\\item 2.62243746096113\n",
       "\\item -2.69989555921333\n",
       "\\item -1.2163012353209\n",
       "\\item 2.59432093758164\n",
       "\\item -0.703724212192954\n",
       "\\item 5.55056730713966\n",
       "\\item 5.28490525078572\n",
       "\\item 1.51295521559224\n",
       "\\item -2.59998177962325\n",
       "\\item 0.0106016628343342\n",
       "\\item 1.71704197142161\n",
       "\\item -0.766014449709294\n",
       "\\item 1.73218157267511\n",
       "\\item 3.2049887806263\n",
       "\\item -2.80855826668365\n",
       "\\item 2.52926799144446\n",
       "\\item 1.60825066982366\n",
       "\\item 5.26406313470481\n",
       "\\item 2.26141284872679\n",
       "\\item 0.459283301317006\n",
       "\\item -0.954314647701179\n",
       "\\item -3.88332556092346\n",
       "\\item -2.61119714352265\n",
       "\\item 1.38887041114758\n",
       "\\item -3.01827508338412\n",
       "\\item 3.17021606558232\n",
       "\\item 3.3917027976193\n",
       "\\item -4.24519228041398\n",
       "\\item 0.716693301107667\n",
       "\\item 2.70253587999241\n",
       "\\item 1.29763589537389\n",
       "\\item 0.408551156439555\n",
       "\\item 0.555471764790531\n",
       "\\item 0.728848318652886\n",
       "\\item -4.96977719614252\n",
       "\\item -4.70277361367584\n",
       "\\item -0.714629223413444\n",
       "\\item 4.34519685122041\n",
       "\\item -2.75813576706396\n",
       "\\item 0.655297006472141\n",
       "\\item 3.36944441819789\n",
       "\\item 3.37954149544741\n",
       "\\item 3.71035544884991\n",
       "\\item 6.20399522353177\n",
       "\\item 0.408924433833934\n",
       "\\item 0.226313522434411\n",
       "\\item -4.2708629269355\n",
       "\\item -1.80298770316547\n",
       "\\item 3.56551096029789\n",
       "\\item 5.69802318354141\n",
       "\\item 3.57721841205127\n",
       "\\item 3.23927112984774\n",
       "\\item 3.23738111432679\n",
       "\\item 3.85120656219792\n",
       "\\item 6.86370233502117\n",
       "\\item -1.18847024123686\n",
       "\\item 0.144437184635064\n",
       "\\item 2.26875709993298\n",
       "\\item -0.958465183460922\n",
       "\\item 0.718055120200115\n",
       "\\item -2.9483491536264\n",
       "\\item 0.871890025746245\n",
       "\\item -2.56229449828793\n",
       "\\item 0.371014378204891\n",
       "\\item 1.82623391076806\n",
       "\\item 6.16874744834464\n",
       "\\item 3.99820465599288\n",
       "\\item -0.678092251905879\n",
       "\\item 2.44651491781957\n",
       "\\item 6.75124315970605\n",
       "\\item -2.59987321737557\n",
       "\\item -2.012277873497\n",
       "\\item -3.49117843666751\n",
       "\\item 5.50179672360795\n",
       "\\item 0.0483009503454408\n",
       "\\item 1.02175347993132\n",
       "\\item -0.409353263897742\n",
       "\\item 0.340688863166567\n",
       "\\item -0.0857264812723784\n",
       "\\item -2.11890980732114\n",
       "\\item 2.58218511485947\n",
       "\\item -1.99096850743502\n",
       "\\item 0.918471048781835\n",
       "\\item -1.51135497937828\n",
       "\\item -1.02242808866603\n",
       "\\item -1.71213232284886\n",
       "\\item -2.67240185359531\n",
       "\\item 0.288313826142069\n",
       "\\item 2.61670048654235\n",
       "\\item -4.61333203682836\n",
       "\\item -4.39457473829775\n",
       "\\item -1.15166032617076\n",
       "\\item 1.85376591594786\n",
       "\\item -0.404324193643772\n",
       "\\item -0.973042214409544\n",
       "\\item -1.91963847711925\n",
       "\\item 2.68252154979159\n",
       "\\item 0.604609386541022\n",
       "\\item 2.01890425122436\n",
       "\\item 6.22122276588741\n",
       "\\item 4.67800401390669\n",
       "\\item 3.52563378536617\n",
       "\\item 2.01387660166935\n",
       "\\item 1.08419340129949\n",
       "\\item 7.63405600660237\n",
       "\\item -0.49854135394613\n",
       "\\item 1.23344015340359\n",
       "\\item 3.5427483754946\n",
       "\\item 3.92677873498086\n",
       "\\item 1.88151705511286\n",
       "\\item 1.40575885496457\n",
       "\\item 0.786306415534491\n",
       "\\item 0.070241490445212\n",
       "\\item 6.25261542672859\n",
       "\\item 1.73222512440875\n",
       "\\item 3.89613147303913\n",
       "\\item 2.14381400981006\n",
       "\\item -2.00374149526454\n",
       "\\item -5.08441255763185\n",
       "\\item 0.67835745388105\n",
       "\\item 0.100440666037173\n",
       "\\item 0.248938443971933\n",
       "\\item -1.35201076126527\n",
       "\\item 1.06473793013746\n",
       "\\item 4.29625070718143\n",
       "\\item 4.73756383503761\n",
       "\\item -0.208549884295896\n",
       "\\item -1.66939432855235\n",
       "\\item 7.61860269932304\n",
       "\\item -0.000343955225977854\n",
       "\\item 3.61372903969504\n",
       "\\item 2.68031764937447\n",
       "\\item -0.882607605734773\n",
       "\\item 0.584047533687019\n",
       "\\item -2.68956916561899\n",
       "\\item 0.844746058967176\n",
       "\\item -2.67684949452854\n",
       "\\item -0.739272548730301\n",
       "\\item 5.4679726474445\n",
       "\\item -4.61213872321918\n",
       "\\item 0.284804456210214\n",
       "\\item 1.09972007069749\n",
       "\\item -1.51743988293055\n",
       "\\item 8.50557776163232\n",
       "\\item 1.6577930791361\n",
       "\\item 0.454256836008096\n",
       "\\item 1.17016498121011\n",
       "\\item 1.18934423367495\n",
       "\\item 7.13201625256437\n",
       "\\item 6.48854076729749\n",
       "\\item 0.164825554784723\n",
       "\\item 3.9053170486801\n",
       "\\item 2.0734561638917\n",
       "\\item 3.876633903359\n",
       "\\item 1.95591561875521\n",
       "\\item 4.06580392997211\n",
       "\\item 5.6973900437617\n",
       "\\item 0.85028645367717\n",
       "\\item 2.10500538719116\n",
       "\\item 0.299754361132661\n",
       "\\item -0.286255435401621\n",
       "\\item 0.170976839528375\n",
       "\\item 2.54820978794787\n",
       "\\item 2.89400712683572\n",
       "\\item -1.26137682827445\n",
       "\\item -1.099803710513\n",
       "\\item 1.04071694204401\n",
       "\\item -2.10695786949459\n",
       "\\item -1.54619615781258\n",
       "\\item 1.76430020656457\n",
       "\\item 0.92731453725839\n",
       "\\item 1.09576664362536\n",
       "\\item 1.71613027832812\n",
       "\\item 2.01764094430465\n",
       "\\item -0.557621121497598\n",
       "\\item 1.79475247503528\n",
       "\\item 3.21988612792341\n",
       "\\item -3.07822583451515\n",
       "\\item -0.710091954049937\n",
       "\\item 3.90398210097542\n",
       "\\item 2.35178324073259\n",
       "\\item 5.24411347133988\n",
       "\\item -0.326990878778886\n",
       "\\item 1.49661812970344\n",
       "\\item 0.215858689039885\n",
       "\\item -4.02829203237225\n",
       "\\item 0.272507381801475\n",
       "\\item 0.925721056136311\n",
       "\\item 1.04436012105574\n",
       "\\item 4.48727856807315\n",
       "\\item -3.34197881168952\n",
       "\\item 0.291642120316387\n",
       "\\item 11.1549385240335\n",
       "\\item -6.09133399448629\n",
       "\\item 2.17798611106564\n",
       "\\item 1.45275160701741\n",
       "\\item 3.87591553845705\n",
       "\\item -1.19611159331667\n",
       "\\item 0.113284764230889\n",
       "\\item -2.04884493654767\n",
       "\\item 4.93525230377544\n",
       "\\item -2.93434612095967\n",
       "\\item -4.15628420195443\n",
       "\\item -2.26976911505207\n",
       "\\item 4.29190245341183\n",
       "\\item -1.40559929055617\n",
       "\\item 8.46125046743445\n",
       "\\item -0.561522036883798\n",
       "\\item -0.0372933714323462\n",
       "\\item 3.39016927323639\n",
       "\\item 3.1941435517034\n",
       "\\item 1.97993982209058\n",
       "\\item -2.94898344225987\n",
       "\\item 0.584085228470697\n",
       "\\item -1.69564647907716\n",
       "\\item -1.30925994282667\n",
       "\\item 2.13922678381941\n",
       "\\item 2.40498535694192\n",
       "\\item 0.640922041728273\n",
       "\\item 0.939002103022412\n",
       "\\item 0.751736280404046\n",
       "\\item 5.33518806413912\n",
       "\\item -0.199112268318881\n",
       "\\item 6.1398536692844\n",
       "\\item -0.366327321069681\n",
       "\\item 1.56745928014947\n",
       "\\item 0.0157088122211936\n",
       "\\item -4.0379634771177\n",
       "\\item 3.0026992243826\n",
       "\\item -1.89061367617285\n",
       "\\item -0.858351155972922\n",
       "\\item 3.90665910761233\n",
       "\\item 4.24165700068844\n",
       "\\item 6.57028799551756\n",
       "\\item -0.0534154556566673\n",
       "\\item 4.16657658411507\n",
       "\\item 3.31917554000703\n",
       "\\item 1.09441274453237\n",
       "\\item -4.5740453102379\n",
       "\\item 3.57317596011735\n",
       "\\item -0.603257342303101\n",
       "\\item 7.59695976311245\n",
       "\\item 3.58675335574439\n",
       "\\item -2.21903056913567\n",
       "\\item -0.0421271066130278\n",
       "\\item -4.13118714316011\n",
       "\\item 3.18063751748033\n",
       "\\item 5.3013067080218\n",
       "\\item -5.78040944626874\n",
       "\\item 3.62926309196825\n",
       "\\item -1.21638417362032\n",
       "\\item 1.52739841546054\n",
       "\\item -0.690869507445448\n",
       "\\item 1.205927003802\n",
       "\\item 1.89477608773536\n",
       "\\item 3.44617342377849\n",
       "\\item 3.23431207134377\n",
       "\\item -0.475793408281429\n",
       "\\item -5.3959129048943\n",
       "\\item -2.6293406942825\n",
       "\\item 1.82119670311891\n",
       "\\item 3.42645666675982\n",
       "\\item 2.75807384002514\n",
       "\\item -4.39462227547335\n",
       "\\item 1.00551592302777\n",
       "\\item 0.890450043633618\n",
       "\\item 2.38011634381501\n",
       "\\item 2.70074745165088\n",
       "\\item -0.277432612273979\n",
       "\\item 3.71513655744953\n",
       "\\item -1.35401530215526\n",
       "\\item -1.62950647972278\n",
       "\\item 4.29895139068372\n",
       "\\item -2.16154492946616\n",
       "\\item 1.88638903745079\n",
       "\\item -1.93230214993828\n",
       "\\item 3.48643155691369\n",
       "\\item -1.41276444137593\n",
       "\\item 0.246636262239325\n",
       "\\item 2.1221106245738\n",
       "\\item 5.13941141031475\n",
       "\\item -1.10522319949799\n",
       "\\item 0.106311468310739\n",
       "\\item 0.899945676566685\n",
       "\\item 0.0443808018610441\n",
       "\\item 2.12617672282961\n",
       "\\item 4.51970483488031\n",
       "\\item 1.8659476214315\n",
       "\\item -3.14888858339177\n",
       "\\item 2.80386752319618\n",
       "\\item -2.27673811411612\n",
       "\\item 5.41391194192516\n",
       "\\item -2.92499274309581\n",
       "\\item 5.02182707913152\n",
       "\\item -0.215435205584698\n",
       "\\item 2.7760801321367\n",
       "\\item 1.90144394581317\n",
       "\\item 2.62717396623647\n",
       "\\item -0.0751773091321652\n",
       "\\item 5.5607945343216\n",
       "\\item 0.454423358035135\n",
       "\\item 3.09246279596519\n",
       "\\item 3.00785336115648\n",
       "\\item 5.13849483250816\n",
       "\\item 7.70182820771674\n",
       "\\item 0.00337855329728365\n",
       "\\item -3.03873860619793\n",
       "\\item 2.97000582273074\n",
       "\\item 5.01962017830681\n",
       "\\item 4.46757552919558\n",
       "\\item -2.7677318765327\n",
       "\\item 0.333003783405423\n",
       "\\item 0.8517044300448\n",
       "\\item 5.61607174863106\n",
       "\\item 2.58296428414761\n",
       "\\item 5.49313902169199\n",
       "\\item 3.48877760846208\n",
       "\\item -0.876859806739847\n",
       "\\item 3.18496255728335\n",
       "\\item 4.91366897002252\n",
       "\\item -3.60833607138155\n",
       "\\item 7.27588921053557\n",
       "\\item -0.142058766372979\n",
       "\\item 0.619892118515273\n",
       "\\item 2.20451533704562\n",
       "\\item 6.77324725189892\n",
       "\\item 3.4007077790046\n",
       "\\item 3.67785359983849\n",
       "\\item -0.637101961397278\n",
       "\\item 1.9028526320686\n",
       "\\item -1.8305935404684\n",
       "\\item 1.85404381724327\n",
       "\\item 1.54281183398557\n",
       "\\item 1.51633974860361\n",
       "\\item -0.736955657982321\n",
       "\\item 3.01798590443987\n",
       "\\item 1.35442713993888\n",
       "\\item -1.83641725163824\n",
       "\\item 0.878642565555059\n",
       "\\item -1.72428332013361\n",
       "\\item 2.8758931315519\n",
       "\\item -1.05608263228372\n",
       "\\item 5.74255742708126\n",
       "\\item 0.582367117951091\n",
       "\\item -0.408089444664735\n",
       "\\item 7.29910570256021\n",
       "\\item -7.04923232115848\n",
       "\\item -2.50577737150638\n",
       "\\item 3.6413769589088\n",
       "\\item 4.39788498497614\n",
       "\\item 3.66248379344275\n",
       "\\item 0.503457926671711\n",
       "\\item 5.26245560287812\n",
       "\\item -2.69098620179087\n",
       "\\item 0.101040125536049\n",
       "\\item 7.61764759923816\n",
       "\\item -1.48574951305086\n",
       "\\item 0.363045776605304\n",
       "\\item -3.24220123930074\n",
       "\\item 0.976845509666283\n",
       "\\item 0.813677740161099\n",
       "\\item 4.48933067768986\n",
       "\\item 1.12349483845338\n",
       "\\item 0.665474199789182\n",
       "\\item 1.79240167497695\n",
       "\\item -3.65269131041255\n",
       "\\item 7.46438568560074\n",
       "\\item 3.34511252497096\n",
       "\\item 5.89785151310997\n",
       "\\item 4.63712322627699\n",
       "\\item 6.0100803322875\n",
       "\\item 4.33914279314951\n",
       "\\item 1.89053826735257\n",
       "\\item 0.186052441702491\n",
       "\\item -2.15299809730994\n",
       "\\item -2.23078933989455\n",
       "\\item 0.752839883002113\n",
       "\\item 0.854271462174486\n",
       "\\item 3.51811061822427\n",
       "\\item 2.66975920521453\n",
       "\\item -0.472221415950984\n",
       "\\item 3.68282858940271\n",
       "\\item 1.2210020031541\n",
       "\\item -0.876584444200702\n",
       "\\item 0.990868649994787\n",
       "\\item 4.67569021381165\n",
       "\\item 1.59298418833892\n",
       "\\item 1.06712946664905\n",
       "\\item 4.48622857016292\n",
       "\\item -1.09014939978291\n",
       "\\item 4.73102446436591\n",
       "\\item 0.929567403722078\n",
       "\\item 0.0544454759009516\n",
       "\\item -2.48620925197002\n",
       "\\item -0.886507945490652\n",
       "\\item 5.17329676581479\n",
       "\\item -4.62352895373497\n",
       "\\item -3.74749034043434\n",
       "\\item 0.0244197477034833\n",
       "\\item -0.155083506755953\n",
       "\\item 3.35908640561663\n",
       "\\item -0.758446098647805\n",
       "\\item 0.705253979674928\n",
       "\\item 3.81860682669035\n",
       "\\item 1.44650006544998\n",
       "\\item 2.27552712941511\n",
       "\\item 5.59616447652312\n",
       "\\item 1.32528543818048\n",
       "\\item 3.22303331711459\n",
       "\\item 0.21079801619373\n",
       "\\item -5.65424191913692\n",
       "\\item 2.69072501537052\n",
       "\\item -3.51874833260304\n",
       "\\item 2.11446395811357\n",
       "\\item -0.705171997983575\n",
       "\\item -2.74880282416509\n",
       "\\item 0.523318056288018\n",
       "\\item 0.416496554382128\n",
       "\\item 4.03652998797777\n",
       "\\item 4.5183768535615\n",
       "\\item -2.47127677203221\n",
       "\\item 2.83814833386126\n",
       "\\item -2.91943608571245\n",
       "\\item 3.89830027760868\n",
       "\\item -4.10821768616167\n",
       "\\item -2.89359795259189\n",
       "\\item -7.04435232922254\n",
       "\\item 0.660097819711156\n",
       "\\item 5.31319259572464\n",
       "\\item 3.18047084754214\n",
       "\\item 3.60252047807329\n",
       "\\item -4.44459022050054\n",
       "\\item -1.53727641144799\n",
       "\\item 1.73645214210794\n",
       "\\item 1.23487078251545\n",
       "\\item 3.17080240796425\n",
       "\\item -5.94796567202192\n",
       "\\item 3.90621339887362\n",
       "\\item 6.24778409463069\n",
       "\\item -6.32210100475855\n",
       "\\item 0.659411804303455\n",
       "\\item 0.255357286385286\n",
       "\\item -0.122089124582365\n",
       "\\item -0.380399723191484\n",
       "\\item 2.54239963157537\n",
       "\\item 1.37307133058643\n",
       "\\item 0.597962146651449\n",
       "\\item 2.4602722832666\n",
       "\\item 7.25376738750926\n",
       "\\item 4.83031912953884\n",
       "\\item 3.25484065466671\n",
       "\\item 1.41881014272781\n",
       "\\item 4.7073051193235\n",
       "\\item 0.595700422270101\n",
       "\\item 3.40069814090583\n",
       "\\item -2.99347748459603\n",
       "\\item 3.04127022680217\n",
       "\\item 1.0920319399206\n",
       "\\item 2.28406095576539\n",
       "\\item 3.56162332863257\n",
       "\\item 0.16476332380306\n",
       "\\item -0.0603512186182582\n",
       "\\item 4.37553632565082\n",
       "\\item 1.13754096790031\n",
       "\\item 3.72120245131129\n",
       "\\item 1.77358064344508\n",
       "\\item 5.98770160727204\n",
       "\\item 5.27302491259797\n",
       "\\item 0.484123663050312\n",
       "\\item -0.903761169332138\n",
       "\\item 2.62986513697126\n",
       "\\item -3.00580724502464\n",
       "\\item 4.03373117746056\n",
       "\\item 1.54692846367315\n",
       "\\item -5.41275348501701\n",
       "\\item 7.71868217330907\n",
       "\\item -2.39465660571934\n",
       "\\item 0.845546030796999\n",
       "\\item 4.20484653844316\n",
       "\\item 0.476208872426013\n",
       "\\item 5.14725641308318\n",
       "\\item 2.42597471269393\n",
       "\\item 4.44749690555257\n",
       "\\item 2.81131848293175\n",
       "\\item 5.17207825015958\n",
       "\\item 3.12403604216602\n",
       "\\item 0.431833228810359\n",
       "\\item 1.92098412849345\n",
       "\\item 5.69573945171373\n",
       "\\item -7.96233647983627\n",
       "\\item -0.243048921632061\n",
       "\\item 0.118027734987623\n",
       "\\item 0.141302458672936\n",
       "\\item -2.99941983703072\n",
       "\\item 0.245622375334241\n",
       "\\item 0.0723603026212054\n",
       "\\item 2.90219076030331\n",
       "\\item 1.39041149368408\n",
       "\\item -1.58283961366071\n",
       "\\item -0.892157001030106\n",
       "\\item 6.98398506336292\n",
       "\\item -0.779908035524322\n",
       "\\item -0.65230177489242\n",
       "\\item -1.95492266445709\n",
       "\\item 3.10701611432791\n",
       "\\item 1.9272683151375\n",
       "\\item -0.101067442016604\n",
       "\\item 4.58894515826345\n",
       "\\item -2.07218095367292\n",
       "\\item 4.29186744556362\n",
       "\\item 1.37015256171164\n",
       "\\item 0.198379809957656\n",
       "\\item -2.81296352602669\n",
       "\\item -1.05280785570826\n",
       "\\item 0.190257016026207\n",
       "\\item 4.4042132987679\n",
       "\\item 3.11988859439868\n",
       "\\item -3.58410759518155\n",
       "\\item 5.94053196452576\n",
       "\\item -6.54564041918458\n",
       "\\item -3.04027758798917\n",
       "\\item 3.89438995693639\n",
       "\\item 1.35228978371234\n",
       "\\item 2.21323582328612\n",
       "\\item 1.20720850935714\n",
       "\\item -4.85882903230612\n",
       "\\item -0.333514538404357\n",
       "\\item 5.16258006125721\n",
       "\\item 3.31957941401438\n",
       "\\item -0.573448604045757\n",
       "\\item -2.72855874282408\n",
       "\\item 0.513171639315786\n",
       "\\item -1.08461113753899\n",
       "\\item -2.92005968957683\n",
       "\\item 3.63591606904691\n",
       "\\item 2.99182674923158\n",
       "\\item -1.52689332740654\n",
       "\\item -4.44018212922929\n",
       "\\item 6.19200698751994\n",
       "\\item 0.119046072303547\n",
       "\\item -1.06382379191722\n",
       "\\item -0.52259981124929\n",
       "\\item -5.25795486689944\n",
       "\\item -0.984052797653977\n",
       "\\item 2.36405364043797\n",
       "\\item 0.500553371078755\n",
       "\\item -1.75493307033947\n",
       "\\item -5.62408738918069\n",
       "\\item -0.0454736242302241\n",
       "\\item 4.58744029730112\n",
       "\\item -6.42441509416045\n",
       "\\item 3.29094390840162\n",
       "\\item 0.891265042141809\n",
       "\\item -0.467309044833172\n",
       "\\item 0.85668464111939\n",
       "\\item -5.76624251070812\n",
       "\\item -1.19306211846036\n",
       "\\item -4.24731189063297\n",
       "\\item 2.56879444491778\n",
       "\\item 1.46251165092383\n",
       "\\item 5.1953797551526\n",
       "\\item 5.37683061534268\n",
       "\\item 1.86231030983773\n",
       "\\item 2.76378135551373\n",
       "\\item 3.02142827610505\n",
       "\\item -3.5088746160549\n",
       "\\item 5.03903490168297\n",
       "\\item 3.95957094830051\n",
       "\\item 4.827055778921\n",
       "\\item 1.0706540742199\n",
       "\\item 5.48508441109574\n",
       "\\item 5.39929500669467\n",
       "\\item 3.1916862000684\n",
       "\\item 3.35988945541003\n",
       "\\item 3.25819077850789\n",
       "\\item 1.43006069494299\n",
       "\\item -3.5921549437339\n",
       "\\item 1.08271635885336\n",
       "\\item 3.63281198160765\n",
       "\\item -0.461821599372388\n",
       "\\item -0.0831647732023517\n",
       "\\item -3.22014786232054\n",
       "\\item 0.900841954377074\n",
       "\\item -2.29144970118411\n",
       "\\item 1.57694158414242\n",
       "\\item 1.18481334377864\n",
       "\\item 0.425367047128203\n",
       "\\item -0.443710562272343\n",
       "\\item 0.621618794771994\n",
       "\\item 5.71000928412303\n",
       "\\item 3.188841801432\n",
       "\\item -4.40430097637605\n",
       "\\item 0.603384512321525\n",
       "\\item 1.73955767292252\n",
       "\\item 0.577641121015141\n",
       "\\item 6.48421138518953\n",
       "\\item 8.30690373321085\n",
       "\\item -0.384155801387458\n",
       "\\item 0.424256617147071\n",
       "\\item -0.865992003912129\n",
       "\\item 2.44034298589729\n",
       "\\item 0.528304363982501\n",
       "\\item 1.92423204739917\n",
       "\\item 0.725511073455929\n",
       "\\item 1.63761621166476\n",
       "\\item -2.26600719467265\n",
       "\\item 4.08327747458778\n",
       "\\item 2.09433296587351\n",
       "\\item 4.40028993186533\n",
       "\\item -2.24190038668761\n",
       "\\item 1.11776006716344\n",
       "\\item 0.986928063073253\n",
       "\\item -0.998635477579539\n",
       "\\item -4.89562778038563\n",
       "\\item -4.24320275402487\n",
       "\\item 3.50930080485709\n",
       "\\item -5.05927245761787\n",
       "\\item 0.621501403407534\n",
       "\\item -1.47966439599857\n",
       "\\item -1.90325706928071\n",
       "\\item -0.616831017504159\n",
       "\\item 2.48673171798572\n",
       "\\item 6.9452916768347\n",
       "\\item -2.44612465491072\n",
       "\\item -0.256405289085144\n",
       "\\item 1.47455645905558\n",
       "\\item 0.540780616231461\n",
       "\\item 0.625289728860676\n",
       "\\item 2.53583888838638\n",
       "\\item -3.28280247427799\n",
       "\\item 3.24595910340547\n",
       "\\item -0.55669352996071\n",
       "\\item 2.61144528748448\n",
       "\\item -3.96807550592669\n",
       "\\item 7.87009304186965\n",
       "\\item -1.80263308702194\n",
       "\\item 0.380265209357411\n",
       "\\item 3.54278348763592\n",
       "\\item 0.3074861748674\n",
       "\\item 2.34218526099402\n",
       "\\item 1.58465999659759\n",
       "\\item -0.152816567002366\n",
       "\\item 1.98155751740554\n",
       "\\item 1.25663609893612\n",
       "\\item -2.77400962972907\n",
       "\\item -1.34560610416886\n",
       "\\item -2.97695214410777\n",
       "\\item 1.80687765088975\n",
       "\\item -1.66813732704868\n",
       "\\item 1.43399028910662\n",
       "\\item 0.30741678324255\n",
       "\\item 1.70282225715867\n",
       "\\item -0.602613474060363\n",
       "\\item -7.16873615699614\n",
       "\\item 5.96933482602553\n",
       "\\item 0.521267783390149\n",
       "\\item -3.12146690306189\n",
       "\\item 2.21253113853343\n",
       "\\item 4.77687848083251\n",
       "\\item -5.92886388640431\n",
       "\\item 5.41973892875409\n",
       "\\item 2.8920668235635\n",
       "\\item -3.26760751843481\n",
       "\\item -1.494602304019\n",
       "\\item 3.553725435529\n",
       "\\item -2.88984579765969\n",
       "\\item -0.659755226091053\n",
       "\\item 0.945324040215475\n",
       "\\item 3.53375156734628\n",
       "\\item 1.42180888449152\n",
       "\\item 5.23988150894084\n",
       "\\item 3.78915558359052\n",
       "\\item -1.3161564960749\n",
       "\\item 3.31392878715718\n",
       "\\item 2.58345143633523\n",
       "\\item -1.86268462155762\n",
       "\\item 0.186486413128918\n",
       "\\item 3.24288739896144\n",
       "\\item 3.99880685950755\n",
       "\\item 2.96013495596575\n",
       "\\item -0.670989277799482\n",
       "\\item -0.518914313243875\n",
       "\\item -3.93289615326016\n",
       "\\item -0.174241297028365\n",
       "\\item 1.14641631565116\n",
       "\\item 9.77278794296967\n",
       "\\item 6.95707091556068\n",
       "\\item -0.753774974201124\n",
       "\\item -0.890081211369221\n",
       "\\item 5.09129327307856\n",
       "\\item 2.79850438172788\n",
       "\\item 4.91987641245081\n",
       "\\item 2.21328673681046\n",
       "\\item 1.04556103683065\n",
       "\\item -3.07393931189178\n",
       "\\item 3.00200223496331\n",
       "\\item -4.11611025832133\n",
       "\\item 6.20635398294307\n",
       "\\item 2.8984854160583\n",
       "\\item -4.25258699495581\n",
       "\\item 1.08746300791908\n",
       "\\item 4.0121991165785\n",
       "\\item 3.85932996634426\n",
       "\\item -0.95590849204264\n",
       "\\item 4.65798837764797\n",
       "\\item 3.77188450212281\n",
       "\\item -2.80309368362665\n",
       "\\item 3.98514322411713\n",
       "\\item 2.87211920115598\n",
       "\\item 0.625479688830093\n",
       "\\item 5.88264434806843\n",
       "\\item 2.42653634735454\n",
       "\\item 0.838521453456172\n",
       "\\item -1.6363920699742\n",
       "\\item 1.92925412739906\n",
       "\\item -2.27281772195144\n",
       "\\item -2.41878100834709\n",
       "\\item -0.839027148221627\n",
       "\\item 2.86711234645274\n",
       "\\item -4.48381292179075\n",
       "\\item 5.49586557249989\n",
       "\\item 0.378089015734899\n",
       "\\item -6.50855997564895\n",
       "\\item 0.845616052751352\n",
       "\\item 1.98177370333546\n",
       "\\item 0.449591488974401\n",
       "\\item 1.5410526715961\n",
       "\\item 0.850806249610203\n",
       "\\item 1.54805356857521\n",
       "\\item 4.70867448811406\n",
       "\\item 2.10308790428795\n",
       "\\item 1.02163175203254\n",
       "\\item -1.6632275182814\n",
       "\\item 0.107195017668181\n",
       "\\item 0.566737180875809\n",
       "\\item -2.06326295648045\n",
       "\\end{enumerate*}\n"
      ],
      "text/markdown": [
       "1. -3.07243623113273\n",
       "2. 4.49535635177151\n",
       "3. 0.333566607200606\n",
       "4. 2.01587332408051\n",
       "5. 3.34018112991483\n",
       "6. 1.44574550140037\n",
       "7. -1.23677143948205\n",
       "8. -0.45799894689929\n",
       "9. 0.855409307250763\n",
       "10. 2.0966927178195\n",
       "11. 1.89683351471339\n",
       "12. -1.01512583177097\n",
       "13. 2.06239094873282\n",
       "14. -6.80703209045312\n",
       "15. 3.97545695284627\n",
       "16. -1.13305613303217\n",
       "17. 0.925051158633891\n",
       "18. 2.22488851128816\n",
       "19. 5.56430186615648\n",
       "20. 0.226880371374681\n",
       "21. 3.94321077074091\n",
       "22. 1.81905689507391\n",
       "23. 0.971635178961171\n",
       "24. 4.08336449213092\n",
       "25. 0.483669239041262\n",
       "26. 0.651537097895729\n",
       "27. 3.47849439211259\n",
       "28. 2.73799916851769\n",
       "29. 3.07578009474345\n",
       "30. 0.973231575383822\n",
       "31. 0.508674506735025\n",
       "32. 1.59355381507994\n",
       "33. 1.48167043858103\n",
       "34. 4.57733210906918\n",
       "35. 2.56030691393365\n",
       "36. 4.6890551874106\n",
       "37. 4.90032870748012\n",
       "38. -4.23128400886273\n",
       "39. 3.91896710601524\n",
       "40. 4.30150375979412\n",
       "41. 1.72000659638585\n",
       "42. 0.867352446584798\n",
       "43. 0.612685295886881\n",
       "44. 7.7945503977185\n",
       "45. 2.12812118897586\n",
       "46. 0.195262228125948\n",
       "47. -3.38237169533906\n",
       "48. -5.93808590815471\n",
       "49. -0.218178662010403\n",
       "50. 0.155122881250417\n",
       "51. 2.48372646139244\n",
       "52. 0.256137274350234\n",
       "53. 2.83320789398939\n",
       "54. -0.910020428271531\n",
       "55. 1.14589742945971\n",
       "56. 2.34785374271928\n",
       "57. 1.50171602956805\n",
       "58. -0.0524412068906686\n",
       "59. 0.799366785973827\n",
       "60. -1.54939173435756\n",
       "61. 2.27420091555496\n",
       "62. 1.74124253625357\n",
       "63. 2.9903017581096\n",
       "64. -0.636175354367041\n",
       "65. 2.74315558140122\n",
       "66. 0.457058276577871\n",
       "67. 0.0622386319443224\n",
       "68. 3.45410950157268\n",
       "69. 1.30847342942399\n",
       "70. 0.762907554219538\n",
       "71. -0.264065363662878\n",
       "72. -1.57158127391106\n",
       "73. 5.72222006760568\n",
       "74. 2.75835264624701\n",
       "75. -0.494725895100826\n",
       "76. 1.43780539952127\n",
       "77. 0.873650686177013\n",
       "78. 5.0192656115734\n",
       "79. 3.13681083419234\n",
       "80. -1.63508664346139\n",
       "81. -4.84230433031616\n",
       "82. 1.39317391527193\n",
       "83. -5.84426023333946\n",
       "84. 0.0305968676652246\n",
       "85. 3.40372873137\n",
       "86. -1.3244622245544\n",
       "87. 0.432483144362296\n",
       "88. -0.516424479305158\n",
       "89. -2.61676683505522\n",
       "90. 2.17802259644426\n",
       "91. 1.65498530047663\n",
       "92. 0.399701032116117\n",
       "93. -2.66316225944391\n",
       "94. 0.387433419866321\n",
       "95. 1.03715983622577\n",
       "96. -3.88472529065903\n",
       "97. 1.8920488826659\n",
       "98. -3.51099192007391\n",
       "99. 1.82316772557093\n",
       "100. 8.10453324535954\n",
       "101. -0.624503224127767\n",
       "102. 3.06150185352572\n",
       "103. 2.06215647151412\n",
       "104. -1.88125006263661\n",
       "105. 5.76335628341716\n",
       "106. -0.869808949053938\n",
       "107. 0.435339618099197\n",
       "108. -0.896773986621621\n",
       "109. 0.581969282426686\n",
       "110. -2.97216348941782\n",
       "111. -1.53787818769383\n",
       "112. 0.555288405911027\n",
       "113. 4.07537560136764\n",
       "114. -1.4413451630454\n",
       "115. 3.21952369160096\n",
       "116. -0.33859133440501\n",
       "117. 2.67070887242542\n",
       "118. 0.715124949436626\n",
       "119. 0.193972153496445\n",
       "120. 0.393760622197311\n",
       "121. -2.02187293412855\n",
       "122. 0.220460077214538\n",
       "123. 3.40416107152464\n",
       "124. 0.291690288113164\n",
       "125. 2.20542311403966\n",
       "126. -3.81891122991627\n",
       "127. -0.697799098851948\n",
       "128. 2.70895794675673\n",
       "129. 3.21357955857868\n",
       "130. -0.122102389312682\n",
       "131. 0.160765312579985\n",
       "132. 6.0365562537693\n",
       "133. 7.13672125229051\n",
       "134. 2.92876829155554\n",
       "135. -0.459746596164838\n",
       "136. 3.11884022662673\n",
       "137. 3.02420666629321\n",
       "138. -0.62230666058582\n",
       "139. 5.11771886882815\n",
       "140. -0.828912074501088\n",
       "141. 2.83523670944685\n",
       "142. 5.25593170836336\n",
       "143. -1.02071697866417\n",
       "144. -1.65520614025972\n",
       "145. -3.75938372520168\n",
       "146. 0.94125580157621\n",
       "147. 2.5876179259482\n",
       "148. 6.81588376777738\n",
       "149. -5.79561977606467\n",
       "150. 0.338963994792527\n",
       "151. 1.37259317215362\n",
       "152. -0.0415810623491666\n",
       "153. 1.67856831650225\n",
       "154. -1.5808005922576\n",
       "155. -1.41599896293272\n",
       "156. 1.91960096586489\n",
       "157. 4.17724107192169\n",
       "158. 3.8689641885072\n",
       "159. 0.608758794777408\n",
       "160. 4.73618518539972\n",
       "161. 5.0961004900978\n",
       "162. 1.7104712339379\n",
       "163. -2.02952659531983\n",
       "164. -3.60850941706362\n",
       "165. 1.41654769506583\n",
       "166. 1.6247110600117\n",
       "167. 2.64936419800437\n",
       "168. -1.39667654101483\n",
       "169. -1.78660066240441\n",
       "170. 1.97792346004315\n",
       "171. 2.10331083721527\n",
       "172. 3.44472410347109\n",
       "173. -3.45857257288777\n",
       "174. -2.19045662766155\n",
       "175. 7.66992480990431\n",
       "176. -0.580341994657723\n",
       "177. -0.115720323139566\n",
       "178. 1.86095579644101\n",
       "179. 1.79215687227646\n",
       "180. 1.90417149305661\n",
       "181. -4.47572368643643\n",
       "182. -1.32250867484658\n",
       "183. -2.60748219643603\n",
       "184. -1.1475207751827\n",
       "185. -0.409406926375577\n",
       "186. 5.61574311181334\n",
       "187. -0.408781377436683\n",
       "188. 2.7106042782274\n",
       "189. 4.35957166063579\n",
       "190. 1.68825202664013\n",
       "191. 1.52135714073466\n",
       "192. -0.215601640562255\n",
       "193. -0.652923180167824\n",
       "194. 3.54812033858787\n",
       "195. 0.371262535264872\n",
       "196. -6.76069776652326\n",
       "197. -3.19915859427109\n",
       "198. 7.0681698357054\n",
       "199. 2.87146024185384\n",
       "200. 1.13189241663887\n",
       "201. 0.140450471465593\n",
       "202. -0.688389391899999\n",
       "203. 0.933185902741018\n",
       "204. -0.240423144679467\n",
       "205. 4.2048785178888\n",
       "206. -0.565765360279159\n",
       "207. -4.56105071816653\n",
       "208. -0.982394551973596\n",
       "209. -1.39803499834522\n",
       "210. -4.69035523721093\n",
       "211. -0.295123010157018\n",
       "212. 0.975312133825041\n",
       "213. -1.63862398954144\n",
       "214. -2.89815333319265\n",
       "215. 8.09704592827055\n",
       "216. 3.2463132970303\n",
       "217. 5.76742407526121\n",
       "218. -4.25932296089066\n",
       "219. 5.13765396380978\n",
       "220. 0.334457091589064\n",
       "221. -4.67669656034875\n",
       "222. 0.110599707210257\n",
       "223. -1.94009475300153\n",
       "224. -0.889112141177836\n",
       "225. -4.16939158939856\n",
       "226. 1.15546221628088\n",
       "227. -0.612113421223521\n",
       "228. 1.97316506802674\n",
       "229. 0.626464243234483\n",
       "230. -0.565881433772089\n",
       "231. 0.0430592205904337\n",
       "232. -0.671724918101345\n",
       "233. 3.23267051959905\n",
       "234. 0.0355636351136052\n",
       "235. -1.00920419811734\n",
       "236. -1.52927415989209\n",
       "237. -4.08474597681276\n",
       "238. 3.80725238807894\n",
       "239. 0.00796825759256914\n",
       "240. -1.96694593082345\n",
       "241. 3.20147405892309\n",
       "242. -0.996935851966124\n",
       "243. 1.77197159838672\n",
       "244. 1.58882426090342\n",
       "245. 6.81439391273667\n",
       "246. 6.35416092062945\n",
       "247. 3.1056661208589\n",
       "248. -4.3804377110077\n",
       "249. 2.08101271041942\n",
       "250. 0.66776444824367\n",
       "251. 4.65947619097378\n",
       "252. -0.830576605324735\n",
       "253. 2.53119569775954\n",
       "254. 3.341659034437\n",
       "255. 2.53287466946172\n",
       "256. 8.33084916545164\n",
       "257. -2.53483749778452\n",
       "258. -4.05231131712819\n",
       "259. 1.32164801356951\n",
       "260. 1.54634973295649\n",
       "261. 3.46439570620759\n",
       "262. -0.167389678543436\n",
       "263. 7.76521137376861\n",
       "264. 4.74764766143619\n",
       "265. 2.62243746096113\n",
       "266. -2.69989555921333\n",
       "267. -1.2163012353209\n",
       "268. 2.59432093758164\n",
       "269. -0.703724212192954\n",
       "270. 5.55056730713966\n",
       "271. 5.28490525078572\n",
       "272. 1.51295521559224\n",
       "273. -2.59998177962325\n",
       "274. 0.0106016628343342\n",
       "275. 1.71704197142161\n",
       "276. -0.766014449709294\n",
       "277. 1.73218157267511\n",
       "278. 3.2049887806263\n",
       "279. -2.80855826668365\n",
       "280. 2.52926799144446\n",
       "281. 1.60825066982366\n",
       "282. 5.26406313470481\n",
       "283. 2.26141284872679\n",
       "284. 0.459283301317006\n",
       "285. -0.954314647701179\n",
       "286. -3.88332556092346\n",
       "287. -2.61119714352265\n",
       "288. 1.38887041114758\n",
       "289. -3.01827508338412\n",
       "290. 3.17021606558232\n",
       "291. 3.3917027976193\n",
       "292. -4.24519228041398\n",
       "293. 0.716693301107667\n",
       "294. 2.70253587999241\n",
       "295. 1.29763589537389\n",
       "296. 0.408551156439555\n",
       "297. 0.555471764790531\n",
       "298. 0.728848318652886\n",
       "299. -4.96977719614252\n",
       "300. -4.70277361367584\n",
       "301. -0.714629223413444\n",
       "302. 4.34519685122041\n",
       "303. -2.75813576706396\n",
       "304. 0.655297006472141\n",
       "305. 3.36944441819789\n",
       "306. 3.37954149544741\n",
       "307. 3.71035544884991\n",
       "308. 6.20399522353177\n",
       "309. 0.408924433833934\n",
       "310. 0.226313522434411\n",
       "311. -4.2708629269355\n",
       "312. -1.80298770316547\n",
       "313. 3.56551096029789\n",
       "314. 5.69802318354141\n",
       "315. 3.57721841205127\n",
       "316. 3.23927112984774\n",
       "317. 3.23738111432679\n",
       "318. 3.85120656219792\n",
       "319. 6.86370233502117\n",
       "320. -1.18847024123686\n",
       "321. 0.144437184635064\n",
       "322. 2.26875709993298\n",
       "323. -0.958465183460922\n",
       "324. 0.718055120200115\n",
       "325. -2.9483491536264\n",
       "326. 0.871890025746245\n",
       "327. -2.56229449828793\n",
       "328. 0.371014378204891\n",
       "329. 1.82623391076806\n",
       "330. 6.16874744834464\n",
       "331. 3.99820465599288\n",
       "332. -0.678092251905879\n",
       "333. 2.44651491781957\n",
       "334. 6.75124315970605\n",
       "335. -2.59987321737557\n",
       "336. -2.012277873497\n",
       "337. -3.49117843666751\n",
       "338. 5.50179672360795\n",
       "339. 0.0483009503454408\n",
       "340. 1.02175347993132\n",
       "341. -0.409353263897742\n",
       "342. 0.340688863166567\n",
       "343. -0.0857264812723784\n",
       "344. -2.11890980732114\n",
       "345. 2.58218511485947\n",
       "346. -1.99096850743502\n",
       "347. 0.918471048781835\n",
       "348. -1.51135497937828\n",
       "349. -1.02242808866603\n",
       "350. -1.71213232284886\n",
       "351. -2.67240185359531\n",
       "352. 0.288313826142069\n",
       "353. 2.61670048654235\n",
       "354. -4.61333203682836\n",
       "355. -4.39457473829775\n",
       "356. -1.15166032617076\n",
       "357. 1.85376591594786\n",
       "358. -0.404324193643772\n",
       "359. -0.973042214409544\n",
       "360. -1.91963847711925\n",
       "361. 2.68252154979159\n",
       "362. 0.604609386541022\n",
       "363. 2.01890425122436\n",
       "364. 6.22122276588741\n",
       "365. 4.67800401390669\n",
       "366. 3.52563378536617\n",
       "367. 2.01387660166935\n",
       "368. 1.08419340129949\n",
       "369. 7.63405600660237\n",
       "370. -0.49854135394613\n",
       "371. 1.23344015340359\n",
       "372. 3.5427483754946\n",
       "373. 3.92677873498086\n",
       "374. 1.88151705511286\n",
       "375. 1.40575885496457\n",
       "376. 0.786306415534491\n",
       "377. 0.070241490445212\n",
       "378. 6.25261542672859\n",
       "379. 1.73222512440875\n",
       "380. 3.89613147303913\n",
       "381. 2.14381400981006\n",
       "382. -2.00374149526454\n",
       "383. -5.08441255763185\n",
       "384. 0.67835745388105\n",
       "385. 0.100440666037173\n",
       "386. 0.248938443971933\n",
       "387. -1.35201076126527\n",
       "388. 1.06473793013746\n",
       "389. 4.29625070718143\n",
       "390. 4.73756383503761\n",
       "391. -0.208549884295896\n",
       "392. -1.66939432855235\n",
       "393. 7.61860269932304\n",
       "394. -0.000343955225977854\n",
       "395. 3.61372903969504\n",
       "396. 2.68031764937447\n",
       "397. -0.882607605734773\n",
       "398. 0.584047533687019\n",
       "399. -2.68956916561899\n",
       "400. 0.844746058967176\n",
       "401. -2.67684949452854\n",
       "402. -0.739272548730301\n",
       "403. 5.4679726474445\n",
       "404. -4.61213872321918\n",
       "405. 0.284804456210214\n",
       "406. 1.09972007069749\n",
       "407. -1.51743988293055\n",
       "408. 8.50557776163232\n",
       "409. 1.6577930791361\n",
       "410. 0.454256836008096\n",
       "411. 1.17016498121011\n",
       "412. 1.18934423367495\n",
       "413. 7.13201625256437\n",
       "414. 6.48854076729749\n",
       "415. 0.164825554784723\n",
       "416. 3.9053170486801\n",
       "417. 2.0734561638917\n",
       "418. 3.876633903359\n",
       "419. 1.95591561875521\n",
       "420. 4.06580392997211\n",
       "421. 5.6973900437617\n",
       "422. 0.85028645367717\n",
       "423. 2.10500538719116\n",
       "424. 0.299754361132661\n",
       "425. -0.286255435401621\n",
       "426. 0.170976839528375\n",
       "427. 2.54820978794787\n",
       "428. 2.89400712683572\n",
       "429. -1.26137682827445\n",
       "430. -1.099803710513\n",
       "431. 1.04071694204401\n",
       "432. -2.10695786949459\n",
       "433. -1.54619615781258\n",
       "434. 1.76430020656457\n",
       "435. 0.92731453725839\n",
       "436. 1.09576664362536\n",
       "437. 1.71613027832812\n",
       "438. 2.01764094430465\n",
       "439. -0.557621121497598\n",
       "440. 1.79475247503528\n",
       "441. 3.21988612792341\n",
       "442. -3.07822583451515\n",
       "443. -0.710091954049937\n",
       "444. 3.90398210097542\n",
       "445. 2.35178324073259\n",
       "446. 5.24411347133988\n",
       "447. -0.326990878778886\n",
       "448. 1.49661812970344\n",
       "449. 0.215858689039885\n",
       "450. -4.02829203237225\n",
       "451. 0.272507381801475\n",
       "452. 0.925721056136311\n",
       "453. 1.04436012105574\n",
       "454. 4.48727856807315\n",
       "455. -3.34197881168952\n",
       "456. 0.291642120316387\n",
       "457. 11.1549385240335\n",
       "458. -6.09133399448629\n",
       "459. 2.17798611106564\n",
       "460. 1.45275160701741\n",
       "461. 3.87591553845705\n",
       "462. -1.19611159331667\n",
       "463. 0.113284764230889\n",
       "464. -2.04884493654767\n",
       "465. 4.93525230377544\n",
       "466. -2.93434612095967\n",
       "467. -4.15628420195443\n",
       "468. -2.26976911505207\n",
       "469. 4.29190245341183\n",
       "470. -1.40559929055617\n",
       "471. 8.46125046743445\n",
       "472. -0.561522036883798\n",
       "473. -0.0372933714323462\n",
       "474. 3.39016927323639\n",
       "475. 3.1941435517034\n",
       "476. 1.97993982209058\n",
       "477. -2.94898344225987\n",
       "478. 0.584085228470697\n",
       "479. -1.69564647907716\n",
       "480. -1.30925994282667\n",
       "481. 2.13922678381941\n",
       "482. 2.40498535694192\n",
       "483. 0.640922041728273\n",
       "484. 0.939002103022412\n",
       "485. 0.751736280404046\n",
       "486. 5.33518806413912\n",
       "487. -0.199112268318881\n",
       "488. 6.1398536692844\n",
       "489. -0.366327321069681\n",
       "490. 1.56745928014947\n",
       "491. 0.0157088122211936\n",
       "492. -4.0379634771177\n",
       "493. 3.0026992243826\n",
       "494. -1.89061367617285\n",
       "495. -0.858351155972922\n",
       "496. 3.90665910761233\n",
       "497. 4.24165700068844\n",
       "498. 6.57028799551756\n",
       "499. -0.0534154556566673\n",
       "500. 4.16657658411507\n",
       "501. 3.31917554000703\n",
       "502. 1.09441274453237\n",
       "503. -4.5740453102379\n",
       "504. 3.57317596011735\n",
       "505. -0.603257342303101\n",
       "506. 7.59695976311245\n",
       "507. 3.58675335574439\n",
       "508. -2.21903056913567\n",
       "509. -0.0421271066130278\n",
       "510. -4.13118714316011\n",
       "511. 3.18063751748033\n",
       "512. 5.3013067080218\n",
       "513. -5.78040944626874\n",
       "514. 3.62926309196825\n",
       "515. -1.21638417362032\n",
       "516. 1.52739841546054\n",
       "517. -0.690869507445448\n",
       "518. 1.205927003802\n",
       "519. 1.89477608773536\n",
       "520. 3.44617342377849\n",
       "521. 3.23431207134377\n",
       "522. -0.475793408281429\n",
       "523. -5.3959129048943\n",
       "524. -2.6293406942825\n",
       "525. 1.82119670311891\n",
       "526. 3.42645666675982\n",
       "527. 2.75807384002514\n",
       "528. -4.39462227547335\n",
       "529. 1.00551592302777\n",
       "530. 0.890450043633618\n",
       "531. 2.38011634381501\n",
       "532. 2.70074745165088\n",
       "533. -0.277432612273979\n",
       "534. 3.71513655744953\n",
       "535. -1.35401530215526\n",
       "536. -1.62950647972278\n",
       "537. 4.29895139068372\n",
       "538. -2.16154492946616\n",
       "539. 1.88638903745079\n",
       "540. -1.93230214993828\n",
       "541. 3.48643155691369\n",
       "542. -1.41276444137593\n",
       "543. 0.246636262239325\n",
       "544. 2.1221106245738\n",
       "545. 5.13941141031475\n",
       "546. -1.10522319949799\n",
       "547. 0.106311468310739\n",
       "548. 0.899945676566685\n",
       "549. 0.0443808018610441\n",
       "550. 2.12617672282961\n",
       "551. 4.51970483488031\n",
       "552. 1.8659476214315\n",
       "553. -3.14888858339177\n",
       "554. 2.80386752319618\n",
       "555. -2.27673811411612\n",
       "556. 5.41391194192516\n",
       "557. -2.92499274309581\n",
       "558. 5.02182707913152\n",
       "559. -0.215435205584698\n",
       "560. 2.7760801321367\n",
       "561. 1.90144394581317\n",
       "562. 2.62717396623647\n",
       "563. -0.0751773091321652\n",
       "564. 5.5607945343216\n",
       "565. 0.454423358035135\n",
       "566. 3.09246279596519\n",
       "567. 3.00785336115648\n",
       "568. 5.13849483250816\n",
       "569. 7.70182820771674\n",
       "570. 0.00337855329728365\n",
       "571. -3.03873860619793\n",
       "572. 2.97000582273074\n",
       "573. 5.01962017830681\n",
       "574. 4.46757552919558\n",
       "575. -2.7677318765327\n",
       "576. 0.333003783405423\n",
       "577. 0.8517044300448\n",
       "578. 5.61607174863106\n",
       "579. 2.58296428414761\n",
       "580. 5.49313902169199\n",
       "581. 3.48877760846208\n",
       "582. -0.876859806739847\n",
       "583. 3.18496255728335\n",
       "584. 4.91366897002252\n",
       "585. -3.60833607138155\n",
       "586. 7.27588921053557\n",
       "587. -0.142058766372979\n",
       "588. 0.619892118515273\n",
       "589. 2.20451533704562\n",
       "590. 6.77324725189892\n",
       "591. 3.4007077790046\n",
       "592. 3.67785359983849\n",
       "593. -0.637101961397278\n",
       "594. 1.9028526320686\n",
       "595. -1.8305935404684\n",
       "596. 1.85404381724327\n",
       "597. 1.54281183398557\n",
       "598. 1.51633974860361\n",
       "599. -0.736955657982321\n",
       "600. 3.01798590443987\n",
       "601. 1.35442713993888\n",
       "602. -1.83641725163824\n",
       "603. 0.878642565555059\n",
       "604. -1.72428332013361\n",
       "605. 2.8758931315519\n",
       "606. -1.05608263228372\n",
       "607. 5.74255742708126\n",
       "608. 0.582367117951091\n",
       "609. -0.408089444664735\n",
       "610. 7.29910570256021\n",
       "611. -7.04923232115848\n",
       "612. -2.50577737150638\n",
       "613. 3.6413769589088\n",
       "614. 4.39788498497614\n",
       "615. 3.66248379344275\n",
       "616. 0.503457926671711\n",
       "617. 5.26245560287812\n",
       "618. -2.69098620179087\n",
       "619. 0.101040125536049\n",
       "620. 7.61764759923816\n",
       "621. -1.48574951305086\n",
       "622. 0.363045776605304\n",
       "623. -3.24220123930074\n",
       "624. 0.976845509666283\n",
       "625. 0.813677740161099\n",
       "626. 4.48933067768986\n",
       "627. 1.12349483845338\n",
       "628. 0.665474199789182\n",
       "629. 1.79240167497695\n",
       "630. -3.65269131041255\n",
       "631. 7.46438568560074\n",
       "632. 3.34511252497096\n",
       "633. 5.89785151310997\n",
       "634. 4.63712322627699\n",
       "635. 6.0100803322875\n",
       "636. 4.33914279314951\n",
       "637. 1.89053826735257\n",
       "638. 0.186052441702491\n",
       "639. -2.15299809730994\n",
       "640. -2.23078933989455\n",
       "641. 0.752839883002113\n",
       "642. 0.854271462174486\n",
       "643. 3.51811061822427\n",
       "644. 2.66975920521453\n",
       "645. -0.472221415950984\n",
       "646. 3.68282858940271\n",
       "647. 1.2210020031541\n",
       "648. -0.876584444200702\n",
       "649. 0.990868649994787\n",
       "650. 4.67569021381165\n",
       "651. 1.59298418833892\n",
       "652. 1.06712946664905\n",
       "653. 4.48622857016292\n",
       "654. -1.09014939978291\n",
       "655. 4.73102446436591\n",
       "656. 0.929567403722078\n",
       "657. 0.0544454759009516\n",
       "658. -2.48620925197002\n",
       "659. -0.886507945490652\n",
       "660. 5.17329676581479\n",
       "661. -4.62352895373497\n",
       "662. -3.74749034043434\n",
       "663. 0.0244197477034833\n",
       "664. -0.155083506755953\n",
       "665. 3.35908640561663\n",
       "666. -0.758446098647805\n",
       "667. 0.705253979674928\n",
       "668. 3.81860682669035\n",
       "669. 1.44650006544998\n",
       "670. 2.27552712941511\n",
       "671. 5.59616447652312\n",
       "672. 1.32528543818048\n",
       "673. 3.22303331711459\n",
       "674. 0.21079801619373\n",
       "675. -5.65424191913692\n",
       "676. 2.69072501537052\n",
       "677. -3.51874833260304\n",
       "678. 2.11446395811357\n",
       "679. -0.705171997983575\n",
       "680. -2.74880282416509\n",
       "681. 0.523318056288018\n",
       "682. 0.416496554382128\n",
       "683. 4.03652998797777\n",
       "684. 4.5183768535615\n",
       "685. -2.47127677203221\n",
       "686. 2.83814833386126\n",
       "687. -2.91943608571245\n",
       "688. 3.89830027760868\n",
       "689. -4.10821768616167\n",
       "690. -2.89359795259189\n",
       "691. -7.04435232922254\n",
       "692. 0.660097819711156\n",
       "693. 5.31319259572464\n",
       "694. 3.18047084754214\n",
       "695. 3.60252047807329\n",
       "696. -4.44459022050054\n",
       "697. -1.53727641144799\n",
       "698. 1.73645214210794\n",
       "699. 1.23487078251545\n",
       "700. 3.17080240796425\n",
       "701. -5.94796567202192\n",
       "702. 3.90621339887362\n",
       "703. 6.24778409463069\n",
       "704. -6.32210100475855\n",
       "705. 0.659411804303455\n",
       "706. 0.255357286385286\n",
       "707. -0.122089124582365\n",
       "708. -0.380399723191484\n",
       "709. 2.54239963157537\n",
       "710. 1.37307133058643\n",
       "711. 0.597962146651449\n",
       "712. 2.4602722832666\n",
       "713. 7.25376738750926\n",
       "714. 4.83031912953884\n",
       "715. 3.25484065466671\n",
       "716. 1.41881014272781\n",
       "717. 4.7073051193235\n",
       "718. 0.595700422270101\n",
       "719. 3.40069814090583\n",
       "720. -2.99347748459603\n",
       "721. 3.04127022680217\n",
       "722. 1.0920319399206\n",
       "723. 2.28406095576539\n",
       "724. 3.56162332863257\n",
       "725. 0.16476332380306\n",
       "726. -0.0603512186182582\n",
       "727. 4.37553632565082\n",
       "728. 1.13754096790031\n",
       "729. 3.72120245131129\n",
       "730. 1.77358064344508\n",
       "731. 5.98770160727204\n",
       "732. 5.27302491259797\n",
       "733. 0.484123663050312\n",
       "734. -0.903761169332138\n",
       "735. 2.62986513697126\n",
       "736. -3.00580724502464\n",
       "737. 4.03373117746056\n",
       "738. 1.54692846367315\n",
       "739. -5.41275348501701\n",
       "740. 7.71868217330907\n",
       "741. -2.39465660571934\n",
       "742. 0.845546030796999\n",
       "743. 4.20484653844316\n",
       "744. 0.476208872426013\n",
       "745. 5.14725641308318\n",
       "746. 2.42597471269393\n",
       "747. 4.44749690555257\n",
       "748. 2.81131848293175\n",
       "749. 5.17207825015958\n",
       "750. 3.12403604216602\n",
       "751. 0.431833228810359\n",
       "752. 1.92098412849345\n",
       "753. 5.69573945171373\n",
       "754. -7.96233647983627\n",
       "755. -0.243048921632061\n",
       "756. 0.118027734987623\n",
       "757. 0.141302458672936\n",
       "758. -2.99941983703072\n",
       "759. 0.245622375334241\n",
       "760. 0.0723603026212054\n",
       "761. 2.90219076030331\n",
       "762. 1.39041149368408\n",
       "763. -1.58283961366071\n",
       "764. -0.892157001030106\n",
       "765. 6.98398506336292\n",
       "766. -0.779908035524322\n",
       "767. -0.65230177489242\n",
       "768. -1.95492266445709\n",
       "769. 3.10701611432791\n",
       "770. 1.9272683151375\n",
       "771. -0.101067442016604\n",
       "772. 4.58894515826345\n",
       "773. -2.07218095367292\n",
       "774. 4.29186744556362\n",
       "775. 1.37015256171164\n",
       "776. 0.198379809957656\n",
       "777. -2.81296352602669\n",
       "778. -1.05280785570826\n",
       "779. 0.190257016026207\n",
       "780. 4.4042132987679\n",
       "781. 3.11988859439868\n",
       "782. -3.58410759518155\n",
       "783. 5.94053196452576\n",
       "784. -6.54564041918458\n",
       "785. -3.04027758798917\n",
       "786. 3.89438995693639\n",
       "787. 1.35228978371234\n",
       "788. 2.21323582328612\n",
       "789. 1.20720850935714\n",
       "790. -4.85882903230612\n",
       "791. -0.333514538404357\n",
       "792. 5.16258006125721\n",
       "793. 3.31957941401438\n",
       "794. -0.573448604045757\n",
       "795. -2.72855874282408\n",
       "796. 0.513171639315786\n",
       "797. -1.08461113753899\n",
       "798. -2.92005968957683\n",
       "799. 3.63591606904691\n",
       "800. 2.99182674923158\n",
       "801. -1.52689332740654\n",
       "802. -4.44018212922929\n",
       "803. 6.19200698751994\n",
       "804. 0.119046072303547\n",
       "805. -1.06382379191722\n",
       "806. -0.52259981124929\n",
       "807. -5.25795486689944\n",
       "808. -0.984052797653977\n",
       "809. 2.36405364043797\n",
       "810. 0.500553371078755\n",
       "811. -1.75493307033947\n",
       "812. -5.62408738918069\n",
       "813. -0.0454736242302241\n",
       "814. 4.58744029730112\n",
       "815. -6.42441509416045\n",
       "816. 3.29094390840162\n",
       "817. 0.891265042141809\n",
       "818. -0.467309044833172\n",
       "819. 0.85668464111939\n",
       "820. -5.76624251070812\n",
       "821. -1.19306211846036\n",
       "822. -4.24731189063297\n",
       "823. 2.56879444491778\n",
       "824. 1.46251165092383\n",
       "825. 5.1953797551526\n",
       "826. 5.37683061534268\n",
       "827. 1.86231030983773\n",
       "828. 2.76378135551373\n",
       "829. 3.02142827610505\n",
       "830. -3.5088746160549\n",
       "831. 5.03903490168297\n",
       "832. 3.95957094830051\n",
       "833. 4.827055778921\n",
       "834. 1.0706540742199\n",
       "835. 5.48508441109574\n",
       "836. 5.39929500669467\n",
       "837. 3.1916862000684\n",
       "838. 3.35988945541003\n",
       "839. 3.25819077850789\n",
       "840. 1.43006069494299\n",
       "841. -3.5921549437339\n",
       "842. 1.08271635885336\n",
       "843. 3.63281198160765\n",
       "844. -0.461821599372388\n",
       "845. -0.0831647732023517\n",
       "846. -3.22014786232054\n",
       "847. 0.900841954377074\n",
       "848. -2.29144970118411\n",
       "849. 1.57694158414242\n",
       "850. 1.18481334377864\n",
       "851. 0.425367047128203\n",
       "852. -0.443710562272343\n",
       "853. 0.621618794771994\n",
       "854. 5.71000928412303\n",
       "855. 3.188841801432\n",
       "856. -4.40430097637605\n",
       "857. 0.603384512321525\n",
       "858. 1.73955767292252\n",
       "859. 0.577641121015141\n",
       "860. 6.48421138518953\n",
       "861. 8.30690373321085\n",
       "862. -0.384155801387458\n",
       "863. 0.424256617147071\n",
       "864. -0.865992003912129\n",
       "865. 2.44034298589729\n",
       "866. 0.528304363982501\n",
       "867. 1.92423204739917\n",
       "868. 0.725511073455929\n",
       "869. 1.63761621166476\n",
       "870. -2.26600719467265\n",
       "871. 4.08327747458778\n",
       "872. 2.09433296587351\n",
       "873. 4.40028993186533\n",
       "874. -2.24190038668761\n",
       "875. 1.11776006716344\n",
       "876. 0.986928063073253\n",
       "877. -0.998635477579539\n",
       "878. -4.89562778038563\n",
       "879. -4.24320275402487\n",
       "880. 3.50930080485709\n",
       "881. -5.05927245761787\n",
       "882. 0.621501403407534\n",
       "883. -1.47966439599857\n",
       "884. -1.90325706928071\n",
       "885. -0.616831017504159\n",
       "886. 2.48673171798572\n",
       "887. 6.9452916768347\n",
       "888. -2.44612465491072\n",
       "889. -0.256405289085144\n",
       "890. 1.47455645905558\n",
       "891. 0.540780616231461\n",
       "892. 0.625289728860676\n",
       "893. 2.53583888838638\n",
       "894. -3.28280247427799\n",
       "895. 3.24595910340547\n",
       "896. -0.55669352996071\n",
       "897. 2.61144528748448\n",
       "898. -3.96807550592669\n",
       "899. 7.87009304186965\n",
       "900. -1.80263308702194\n",
       "901. 0.380265209357411\n",
       "902. 3.54278348763592\n",
       "903. 0.3074861748674\n",
       "904. 2.34218526099402\n",
       "905. 1.58465999659759\n",
       "906. -0.152816567002366\n",
       "907. 1.98155751740554\n",
       "908. 1.25663609893612\n",
       "909. -2.77400962972907\n",
       "910. -1.34560610416886\n",
       "911. -2.97695214410777\n",
       "912. 1.80687765088975\n",
       "913. -1.66813732704868\n",
       "914. 1.43399028910662\n",
       "915. 0.30741678324255\n",
       "916. 1.70282225715867\n",
       "917. -0.602613474060363\n",
       "918. -7.16873615699614\n",
       "919. 5.96933482602553\n",
       "920. 0.521267783390149\n",
       "921. -3.12146690306189\n",
       "922. 2.21253113853343\n",
       "923. 4.77687848083251\n",
       "924. -5.92886388640431\n",
       "925. 5.41973892875409\n",
       "926. 2.8920668235635\n",
       "927. -3.26760751843481\n",
       "928. -1.494602304019\n",
       "929. 3.553725435529\n",
       "930. -2.88984579765969\n",
       "931. -0.659755226091053\n",
       "932. 0.945324040215475\n",
       "933. 3.53375156734628\n",
       "934. 1.42180888449152\n",
       "935. 5.23988150894084\n",
       "936. 3.78915558359052\n",
       "937. -1.3161564960749\n",
       "938. 3.31392878715718\n",
       "939. 2.58345143633523\n",
       "940. -1.86268462155762\n",
       "941. 0.186486413128918\n",
       "942. 3.24288739896144\n",
       "943. 3.99880685950755\n",
       "944. 2.96013495596575\n",
       "945. -0.670989277799482\n",
       "946. -0.518914313243875\n",
       "947. -3.93289615326016\n",
       "948. -0.174241297028365\n",
       "949. 1.14641631565116\n",
       "950. 9.77278794296967\n",
       "951. 6.95707091556068\n",
       "952. -0.753774974201124\n",
       "953. -0.890081211369221\n",
       "954. 5.09129327307856\n",
       "955. 2.79850438172788\n",
       "956. 4.91987641245081\n",
       "957. 2.21328673681046\n",
       "958. 1.04556103683065\n",
       "959. -3.07393931189178\n",
       "960. 3.00200223496331\n",
       "961. -4.11611025832133\n",
       "962. 6.20635398294307\n",
       "963. 2.8984854160583\n",
       "964. -4.25258699495581\n",
       "965. 1.08746300791908\n",
       "966. 4.0121991165785\n",
       "967. 3.85932996634426\n",
       "968. -0.95590849204264\n",
       "969. 4.65798837764797\n",
       "970. 3.77188450212281\n",
       "971. -2.80309368362665\n",
       "972. 3.98514322411713\n",
       "973. 2.87211920115598\n",
       "974. 0.625479688830093\n",
       "975. 5.88264434806843\n",
       "976. 2.42653634735454\n",
       "977. 0.838521453456172\n",
       "978. -1.6363920699742\n",
       "979. 1.92925412739906\n",
       "980. -2.27281772195144\n",
       "981. -2.41878100834709\n",
       "982. -0.839027148221627\n",
       "983. 2.86711234645274\n",
       "984. -4.48381292179075\n",
       "985. 5.49586557249989\n",
       "986. 0.378089015734899\n",
       "987. -6.50855997564895\n",
       "988. 0.845616052751352\n",
       "989. 1.98177370333546\n",
       "990. 0.449591488974401\n",
       "991. 1.5410526715961\n",
       "992. 0.850806249610203\n",
       "993. 1.54805356857521\n",
       "994. 4.70867448811406\n",
       "995. 2.10308790428795\n",
       "996. 1.02163175203254\n",
       "997. -1.6632275182814\n",
       "998. 0.107195017668181\n",
       "999. 0.566737180875809\n",
       "1000. -2.06326295648045\n",
       "\n",
       "\n"
      ],
      "text/plain": [
       "   [1] -3.0724362311  4.4953563518  0.3335666072  2.0158733241  3.3401811299\n",
       "   [6]  1.4457455014 -1.2367714395 -0.4579989469  0.8554093073  2.0966927178\n",
       "  [11]  1.8968335147 -1.0151258318  2.0623909487 -6.8070320905  3.9754569528\n",
       "  [16] -1.1330561330  0.9250511586  2.2248885113  5.5643018662  0.2268803714\n",
       "  [21]  3.9432107707  1.8190568951  0.9716351790  4.0833644921  0.4836692390\n",
       "  [26]  0.6515370979  3.4784943921  2.7379991685  3.0757800947  0.9732315754\n",
       "  [31]  0.5086745067  1.5935538151  1.4816704386  4.5773321091  2.5603069139\n",
       "  [36]  4.6890551874  4.9003287075 -4.2312840089  3.9189671060  4.3015037598\n",
       "  [41]  1.7200065964  0.8673524466  0.6126852959  7.7945503977  2.1281211890\n",
       "  [46]  0.1952622281 -3.3823716953 -5.9380859082 -0.2181786620  0.1551228813\n",
       "  [51]  2.4837264614  0.2561372744  2.8332078940 -0.9100204283  1.1458974295\n",
       "  [56]  2.3478537427  1.5017160296 -0.0524412069  0.7993667860 -1.5493917344\n",
       "  [61]  2.2742009156  1.7412425363  2.9903017581 -0.6361753544  2.7431555814\n",
       "  [66]  0.4570582766  0.0622386319  3.4541095016  1.3084734294  0.7629075542\n",
       "  [71] -0.2640653637 -1.5715812739  5.7222200676  2.7583526462 -0.4947258951\n",
       "  [76]  1.4378053995  0.8736506862  5.0192656116  3.1368108342 -1.6350866435\n",
       "  [81] -4.8423043303  1.3931739153 -5.8442602333  0.0305968677  3.4037287314\n",
       "  [86] -1.3244622246  0.4324831444 -0.5164244793 -2.6167668351  2.1780225964\n",
       "  [91]  1.6549853005  0.3997010321 -2.6631622594  0.3874334199  1.0371598362\n",
       "  [96] -3.8847252907  1.8920488827 -3.5109919201  1.8231677256  8.1045332454\n",
       " [101] -0.6245032241  3.0615018535  2.0621564715 -1.8812500626  5.7633562834\n",
       " [106] -0.8698089491  0.4353396181 -0.8967739866  0.5819692824 -2.9721634894\n",
       " [111] -1.5378781877  0.5552884059  4.0753756014 -1.4413451630  3.2195236916\n",
       " [116] -0.3385913344  2.6707088724  0.7151249494  0.1939721535  0.3937606222\n",
       " [121] -2.0218729341  0.2204600772  3.4041610715  0.2916902881  2.2054231140\n",
       " [126] -3.8189112299 -0.6977990989  2.7089579468  3.2135795586 -0.1221023893\n",
       " [131]  0.1607653126  6.0365562538  7.1367212523  2.9287682916 -0.4597465962\n",
       " [136]  3.1188402266  3.0242066663 -0.6223066606  5.1177188688 -0.8289120745\n",
       " [141]  2.8352367094  5.2559317084 -1.0207169787 -1.6552061403 -3.7593837252\n",
       " [146]  0.9412558016  2.5876179259  6.8158837678 -5.7956197761  0.3389639948\n",
       " [151]  1.3725931722 -0.0415810623  1.6785683165 -1.5808005923 -1.4159989629\n",
       " [156]  1.9196009659  4.1772410719  3.8689641885  0.6087587948  4.7361851854\n",
       " [161]  5.0961004901  1.7104712339 -2.0295265953 -3.6085094171  1.4165476951\n",
       " [166]  1.6247110600  2.6493641980 -1.3966765410 -1.7866006624  1.9779234600\n",
       " [171]  2.1033108372  3.4447241035 -3.4585725729 -2.1904566277  7.6699248099\n",
       " [176] -0.5803419947 -0.1157203231  1.8609557964  1.7921568723  1.9041714931\n",
       " [181] -4.4757236864 -1.3225086748 -2.6074821964 -1.1475207752 -0.4094069264\n",
       " [186]  5.6157431118 -0.4087813774  2.7106042782  4.3595716606  1.6882520266\n",
       " [191]  1.5213571407 -0.2156016406 -0.6529231802  3.5481203386  0.3712625353\n",
       " [196] -6.7606977665 -3.1991585943  7.0681698357  2.8714602419  1.1318924166\n",
       " [201]  0.1404504715 -0.6883893919  0.9331859027 -0.2404231447  4.2048785179\n",
       " [206] -0.5657653603 -4.5610507182 -0.9823945520 -1.3980349983 -4.6903552372\n",
       " [211] -0.2951230102  0.9753121338 -1.6386239895 -2.8981533332  8.0970459283\n",
       " [216]  3.2463132970  5.7674240753 -4.2593229609  5.1376539638  0.3344570916\n",
       " [221] -4.6766965603  0.1105997072 -1.9400947530 -0.8891121412 -4.1693915894\n",
       " [226]  1.1554622163 -0.6121134212  1.9731650680  0.6264642432 -0.5658814338\n",
       " [231]  0.0430592206 -0.6717249181  3.2326705196  0.0355636351 -1.0092041981\n",
       " [236] -1.5292741599 -4.0847459768  3.8072523881  0.0079682576 -1.9669459308\n",
       " [241]  3.2014740589 -0.9969358520  1.7719715984  1.5888242609  6.8143939127\n",
       " [246]  6.3541609206  3.1056661209 -4.3804377110  2.0810127104  0.6677644482\n",
       " [251]  4.6594761910 -0.8305766053  2.5311956978  3.3416590344  2.5328746695\n",
       " [256]  8.3308491655 -2.5348374978 -4.0523113171  1.3216480136  1.5463497330\n",
       " [261]  3.4643957062 -0.1673896785  7.7652113738  4.7476476614  2.6224374610\n",
       " [266] -2.6998955592 -1.2163012353  2.5943209376 -0.7037242122  5.5505673071\n",
       " [271]  5.2849052508  1.5129552156 -2.5999817796  0.0106016628  1.7170419714\n",
       " [276] -0.7660144497  1.7321815727  3.2049887806 -2.8085582667  2.5292679914\n",
       " [281]  1.6082506698  5.2640631347  2.2614128487  0.4592833013 -0.9543146477\n",
       " [286] -3.8833255609 -2.6111971435  1.3888704111 -3.0182750834  3.1702160656\n",
       " [291]  3.3917027976 -4.2451922804  0.7166933011  2.7025358800  1.2976358954\n",
       " [296]  0.4085511564  0.5554717648  0.7288483187 -4.9697771961 -4.7027736137\n",
       " [301] -0.7146292234  4.3451968512 -2.7581357671  0.6552970065  3.3694444182\n",
       " [306]  3.3795414954  3.7103554488  6.2039952235  0.4089244338  0.2263135224\n",
       " [311] -4.2708629269 -1.8029877032  3.5655109603  5.6980231835  3.5772184121\n",
       " [316]  3.2392711298  3.2373811143  3.8512065622  6.8637023350 -1.1884702412\n",
       " [321]  0.1444371846  2.2687570999 -0.9584651835  0.7180551202 -2.9483491536\n",
       " [326]  0.8718900257 -2.5622944983  0.3710143782  1.8262339108  6.1687474483\n",
       " [331]  3.9982046560 -0.6780922519  2.4465149178  6.7512431597 -2.5998732174\n",
       " [336] -2.0122778735 -3.4911784367  5.5017967236  0.0483009503  1.0217534799\n",
       " [341] -0.4093532639  0.3406888632 -0.0857264813 -2.1189098073  2.5821851149\n",
       " [346] -1.9909685074  0.9184710488 -1.5113549794 -1.0224280887 -1.7121323228\n",
       " [351] -2.6724018536  0.2883138261  2.6167004865 -4.6133320368 -4.3945747383\n",
       " [356] -1.1516603262  1.8537659159 -0.4043241936 -0.9730422144 -1.9196384771\n",
       " [361]  2.6825215498  0.6046093865  2.0189042512  6.2212227659  4.6780040139\n",
       " [366]  3.5256337854  2.0138766017  1.0841934013  7.6340560066 -0.4985413539\n",
       " [371]  1.2334401534  3.5427483755  3.9267787350  1.8815170551  1.4057588550\n",
       " [376]  0.7863064155  0.0702414904  6.2526154267  1.7322251244  3.8961314730\n",
       " [381]  2.1438140098 -2.0037414953 -5.0844125576  0.6783574539  0.1004406660\n",
       " [386]  0.2489384440 -1.3520107613  1.0647379301  4.2962507072  4.7375638350\n",
       " [391] -0.2085498843 -1.6693943286  7.6186026993 -0.0003439552  3.6137290397\n",
       " [396]  2.6803176494 -0.8826076057  0.5840475337 -2.6895691656  0.8447460590\n",
       " [401] -2.6768494945 -0.7392725487  5.4679726474 -4.6121387232  0.2848044562\n",
       " [406]  1.0997200707 -1.5174398829  8.5055777616  1.6577930791  0.4542568360\n",
       " [411]  1.1701649812  1.1893442337  7.1320162526  6.4885407673  0.1648255548\n",
       " [416]  3.9053170487  2.0734561639  3.8766339034  1.9559156188  4.0658039300\n",
       " [421]  5.6973900438  0.8502864537  2.1050053872  0.2997543611 -0.2862554354\n",
       " [426]  0.1709768395  2.5482097879  2.8940071268 -1.2613768283 -1.0998037105\n",
       " [431]  1.0407169420 -2.1069578695 -1.5461961578  1.7643002066  0.9273145373\n",
       " [436]  1.0957666436  1.7161302783  2.0176409443 -0.5576211215  1.7947524750\n",
       " [441]  3.2198861279 -3.0782258345 -0.7100919540  3.9039821010  2.3517832407\n",
       " [446]  5.2441134713 -0.3269908788  1.4966181297  0.2158586890 -4.0282920324\n",
       " [451]  0.2725073818  0.9257210561  1.0443601211  4.4872785681 -3.3419788117\n",
       " [456]  0.2916421203 11.1549385240 -6.0913339945  2.1779861111  1.4527516070\n",
       " [461]  3.8759155385 -1.1961115933  0.1132847642 -2.0488449365  4.9352523038\n",
       " [466] -2.9343461210 -4.1562842020 -2.2697691151  4.2919024534 -1.4055992906\n",
       " [471]  8.4612504674 -0.5615220369 -0.0372933714  3.3901692732  3.1941435517\n",
       " [476]  1.9799398221 -2.9489834423  0.5840852285 -1.6956464791 -1.3092599428\n",
       " [481]  2.1392267838  2.4049853569  0.6409220417  0.9390021030  0.7517362804\n",
       " [486]  5.3351880641 -0.1991122683  6.1398536693 -0.3663273211  1.5674592801\n",
       " [491]  0.0157088122 -4.0379634771  3.0026992244 -1.8906136762 -0.8583511560\n",
       " [496]  3.9066591076  4.2416570007  6.5702879955 -0.0534154557  4.1665765841\n",
       " [501]  3.3191755400  1.0944127445 -4.5740453102  3.5731759601 -0.6032573423\n",
       " [506]  7.5969597631  3.5867533557 -2.2190305691 -0.0421271066 -4.1311871432\n",
       " [511]  3.1806375175  5.3013067080 -5.7804094463  3.6292630920 -1.2163841736\n",
       " [516]  1.5273984155 -0.6908695074  1.2059270038  1.8947760877  3.4461734238\n",
       " [521]  3.2343120713 -0.4757934083 -5.3959129049 -2.6293406943  1.8211967031\n",
       " [526]  3.4264566668  2.7580738400 -4.3946222755  1.0055159230  0.8904500436\n",
       " [531]  2.3801163438  2.7007474517 -0.2774326123  3.7151365574 -1.3540153022\n",
       " [536] -1.6295064797  4.2989513907 -2.1615449295  1.8863890375 -1.9323021499\n",
       " [541]  3.4864315569 -1.4127644414  0.2466362622  2.1221106246  5.1394114103\n",
       " [546] -1.1052231995  0.1063114683  0.8999456766  0.0443808019  2.1261767228\n",
       " [551]  4.5197048349  1.8659476214 -3.1488885834  2.8038675232 -2.2767381141\n",
       " [556]  5.4139119419 -2.9249927431  5.0218270791 -0.2154352056  2.7760801321\n",
       " [561]  1.9014439458  2.6271739662 -0.0751773091  5.5607945343  0.4544233580\n",
       " [566]  3.0924627960  3.0078533612  5.1384948325  7.7018282077  0.0033785533\n",
       " [571] -3.0387386062  2.9700058227  5.0196201783  4.4675755292 -2.7677318765\n",
       " [576]  0.3330037834  0.8517044300  5.6160717486  2.5829642841  5.4931390217\n",
       " [581]  3.4887776085 -0.8768598067  3.1849625573  4.9136689700 -3.6083360714\n",
       " [586]  7.2758892105 -0.1420587664  0.6198921185  2.2045153370  6.7732472519\n",
       " [591]  3.4007077790  3.6778535998 -0.6371019614  1.9028526321 -1.8305935405\n",
       " [596]  1.8540438172  1.5428118340  1.5163397486 -0.7369556580  3.0179859044\n",
       " [601]  1.3544271399 -1.8364172516  0.8786425656 -1.7242833201  2.8758931316\n",
       " [606] -1.0560826323  5.7425574271  0.5823671180 -0.4080894447  7.2991057026\n",
       " [611] -7.0492323212 -2.5057773715  3.6413769589  4.3978849850  3.6624837934\n",
       " [616]  0.5034579267  5.2624556029 -2.6909862018  0.1010401255  7.6176475992\n",
       " [621] -1.4857495131  0.3630457766 -3.2422012393  0.9768455097  0.8136777402\n",
       " [626]  4.4893306777  1.1234948385  0.6654741998  1.7924016750 -3.6526913104\n",
       " [631]  7.4643856856  3.3451125250  5.8978515131  4.6371232263  6.0100803323\n",
       " [636]  4.3391427931  1.8905382674  0.1860524417 -2.1529980973 -2.2307893399\n",
       " [641]  0.7528398830  0.8542714622  3.5181106182  2.6697592052 -0.4722214160\n",
       " [646]  3.6828285894  1.2210020032 -0.8765844442  0.9908686500  4.6756902138\n",
       " [651]  1.5929841883  1.0671294666  4.4862285702 -1.0901493998  4.7310244644\n",
       " [656]  0.9295674037  0.0544454759 -2.4862092520 -0.8865079455  5.1732967658\n",
       " [661] -4.6235289537 -3.7474903404  0.0244197477 -0.1550835068  3.3590864056\n",
       " [666] -0.7584460986  0.7052539797  3.8186068267  1.4465000654  2.2755271294\n",
       " [671]  5.5961644765  1.3252854382  3.2230333171  0.2107980162 -5.6542419191\n",
       " [676]  2.6907250154 -3.5187483326  2.1144639581 -0.7051719980 -2.7488028242\n",
       " [681]  0.5233180563  0.4164965544  4.0365299880  4.5183768536 -2.4712767720\n",
       " [686]  2.8381483339 -2.9194360857  3.8983002776 -4.1082176862 -2.8935979526\n",
       " [691] -7.0443523292  0.6600978197  5.3131925957  3.1804708475  3.6025204781\n",
       " [696] -4.4445902205 -1.5372764114  1.7364521421  1.2348707825  3.1708024080\n",
       " [701] -5.9479656720  3.9062133989  6.2477840946 -6.3221010048  0.6594118043\n",
       " [706]  0.2553572864 -0.1220891246 -0.3803997232  2.5423996316  1.3730713306\n",
       " [711]  0.5979621467  2.4602722833  7.2537673875  4.8303191295  3.2548406547\n",
       " [716]  1.4188101427  4.7073051193  0.5957004223  3.4006981409 -2.9934774846\n",
       " [721]  3.0412702268  1.0920319399  2.2840609558  3.5616233286  0.1647633238\n",
       " [726] -0.0603512186  4.3755363257  1.1375409679  3.7212024513  1.7735806434\n",
       " [731]  5.9877016073  5.2730249126  0.4841236631 -0.9037611693  2.6298651370\n",
       " [736] -3.0058072450  4.0337311775  1.5469284637 -5.4127534850  7.7186821733\n",
       " [741] -2.3946566057  0.8455460308  4.2048465384  0.4762088724  5.1472564131\n",
       " [746]  2.4259747127  4.4474969056  2.8113184829  5.1720782502  3.1240360422\n",
       " [751]  0.4318332288  1.9209841285  5.6957394517 -7.9623364798 -0.2430489216\n",
       " [756]  0.1180277350  0.1413024587 -2.9994198370  0.2456223753  0.0723603026\n",
       " [761]  2.9021907603  1.3904114937 -1.5828396137 -0.8921570010  6.9839850634\n",
       " [766] -0.7799080355 -0.6523017749 -1.9549226645  3.1070161143  1.9272683151\n",
       " [771] -0.1010674420  4.5889451583 -2.0721809537  4.2918674456  1.3701525617\n",
       " [776]  0.1983798100 -2.8129635260 -1.0528078557  0.1902570160  4.4042132988\n",
       " [781]  3.1198885944 -3.5841075952  5.9405319645 -6.5456404192 -3.0402775880\n",
       " [786]  3.8943899569  1.3522897837  2.2132358233  1.2072085094 -4.8588290323\n",
       " [791] -0.3335145384  5.1625800613  3.3195794140 -0.5734486040 -2.7285587428\n",
       " [796]  0.5131716393 -1.0846111375 -2.9200596896  3.6359160690  2.9918267492\n",
       " [801] -1.5268933274 -4.4401821292  6.1920069875  0.1190460723 -1.0638237919\n",
       " [806] -0.5225998112 -5.2579548669 -0.9840527977  2.3640536404  0.5005533711\n",
       " [811] -1.7549330703 -5.6240873892 -0.0454736242  4.5874402973 -6.4244150942\n",
       " [816]  3.2909439084  0.8912650421 -0.4673090448  0.8566846411 -5.7662425107\n",
       " [821] -1.1930621185 -4.2473118906  2.5687944449  1.4625116509  5.1953797552\n",
       " [826]  5.3768306153  1.8623103098  2.7637813555  3.0214282761 -3.5088746161\n",
       " [831]  5.0390349017  3.9595709483  4.8270557789  1.0706540742  5.4850844111\n",
       " [836]  5.3992950067  3.1916862001  3.3598894554  3.2581907785  1.4300606949\n",
       " [841] -3.5921549437  1.0827163589  3.6328119816 -0.4618215994 -0.0831647732\n",
       " [846] -3.2201478623  0.9008419544 -2.2914497012  1.5769415841  1.1848133438\n",
       " [851]  0.4253670471 -0.4437105623  0.6216187948  5.7100092841  3.1888418014\n",
       " [856] -4.4043009764  0.6033845123  1.7395576729  0.5776411210  6.4842113852\n",
       " [861]  8.3069037332 -0.3841558014  0.4242566171 -0.8659920039  2.4403429859\n",
       " [866]  0.5283043640  1.9242320474  0.7255110735  1.6376162117 -2.2660071947\n",
       " [871]  4.0832774746  2.0943329659  4.4002899319 -2.2419003867  1.1177600672\n",
       " [876]  0.9869280631 -0.9986354776 -4.8956277804 -4.2432027540  3.5093008049\n",
       " [881] -5.0592724576  0.6215014034 -1.4796643960 -1.9032570693 -0.6168310175\n",
       " [886]  2.4867317180  6.9452916768 -2.4461246549 -0.2564052891  1.4745564591\n",
       " [891]  0.5407806162  0.6252897289  2.5358388884 -3.2828024743  3.2459591034\n",
       " [896] -0.5566935300  2.6114452875 -3.9680755059  7.8700930419 -1.8026330870\n",
       " [901]  0.3802652094  3.5427834876  0.3074861749  2.3421852610  1.5846599966\n",
       " [906] -0.1528165670  1.9815575174  1.2566360989 -2.7740096297 -1.3456061042\n",
       " [911] -2.9769521441  1.8068776509 -1.6681373270  1.4339902891  0.3074167832\n",
       " [916]  1.7028222572 -0.6026134741 -7.1687361570  5.9693348260  0.5212677834\n",
       " [921] -3.1214669031  2.2125311385  4.7768784808 -5.9288638864  5.4197389288\n",
       " [926]  2.8920668236 -3.2676075184 -1.4946023040  3.5537254355 -2.8898457977\n",
       " [931] -0.6597552261  0.9453240402  3.5337515673  1.4218088845  5.2398815089\n",
       " [936]  3.7891555836 -1.3161564961  3.3139287872  2.5834514363 -1.8626846216\n",
       " [941]  0.1864864131  3.2428873990  3.9988068595  2.9601349560 -0.6709892778\n",
       " [946] -0.5189143132 -3.9328961533 -0.1742412970  1.1464163157  9.7727879430\n",
       " [951]  6.9570709156 -0.7537749742 -0.8900812114  5.0912932731  2.7985043817\n",
       " [956]  4.9198764125  2.2132867368  1.0455610368 -3.0739393119  3.0020022350\n",
       " [961] -4.1161102583  6.2063539829  2.8984854161 -4.2525869950  1.0874630079\n",
       " [966]  4.0121991166  3.8593299663 -0.9559084920  4.6579883776  3.7718845021\n",
       " [971] -2.8030936836  3.9851432241  2.8721192012  0.6254796888  5.8826443481\n",
       " [976]  2.4265363474  0.8385214535 -1.6363920700  1.9292541274 -2.2728177220\n",
       " [981] -2.4187810083 -0.8390271482  2.8671123465 -4.4838129218  5.4958655725\n",
       " [986]  0.3780890157 -6.5085599756  0.8456160528  1.9817737033  0.4495914890\n",
       " [991]  1.5410526716  0.8508062496  1.5480535686  4.7086744881  2.1030879043\n",
       " [996]  1.0216317520 -1.6632275183  0.1071950177  0.5667371809 -2.0632629565"
      ]
     },
     "metadata": {},
     "output_type": "display_data"
    },
    {
     "data": {
      "text/html": [
       "1.03103235728174"
      ],
      "text/latex": [
       "1.03103235728174"
      ],
      "text/markdown": [
       "1.03103235728174"
      ],
      "text/plain": [
       "[1] 1.031032"
      ]
     },
     "metadata": {},
     "output_type": "display_data"
    },
    {
     "data": {
      "text/html": [
       "3.01828756885274"
      ],
      "text/latex": [
       "3.01828756885274"
      ],
      "text/markdown": [
       "3.01828756885274"
      ],
      "text/plain": [
       "[1] 3.018288"
      ]
     },
     "metadata": {},
     "output_type": "display_data"
    }
   ],
   "source": [
    "r <- rnorm(1000, mean=1, sd=3)\n",
    "r\n",
    "mean(r)\n",
    "sd(r)"
   ]
  },
  {
   "cell_type": "markdown",
   "metadata": {},
   "source": [
    "## Generating Uniformly Distributed Random Numbers\n",
    "\n",
    "-runif()"
   ]
  },
  {
   "cell_type": "code",
   "execution_count": 84,
   "metadata": {},
   "outputs": [
    {
     "data": {
      "text/html": [
       "<ol class=list-inline>\n",
       "\t<li>8.84913146495819</li>\n",
       "\t<li>6.71520804800093</li>\n",
       "\t<li>1.07070153392851</li>\n",
       "\t<li>6.91399613209069</li>\n",
       "\t<li>7.06744976900518</li>\n",
       "\t<li>7.51727008633316</li>\n",
       "\t<li>1.44236862659454</li>\n",
       "\t<li>2.72815262898803</li>\n",
       "\t<li>8.40314973518252</li>\n",
       "\t<li>1.81290681473911</li>\n",
       "</ol>\n"
      ],
      "text/latex": [
       "\\begin{enumerate*}\n",
       "\\item 8.84913146495819\n",
       "\\item 6.71520804800093\n",
       "\\item 1.07070153392851\n",
       "\\item 6.91399613209069\n",
       "\\item 7.06744976900518\n",
       "\\item 7.51727008633316\n",
       "\\item 1.44236862659454\n",
       "\\item 2.72815262898803\n",
       "\\item 8.40314973518252\n",
       "\\item 1.81290681473911\n",
       "\\end{enumerate*}\n"
      ],
      "text/markdown": [
       "1. 8.84913146495819\n",
       "2. 6.71520804800093\n",
       "3. 1.07070153392851\n",
       "4. 6.91399613209069\n",
       "5. 7.06744976900518\n",
       "6. 7.51727008633316\n",
       "7. 1.44236862659454\n",
       "8. 2.72815262898803\n",
       "9. 8.40314973518252\n",
       "10. 1.81290681473911\n",
       "\n",
       "\n"
      ],
      "text/plain": [
       " [1] 8.849131 6.715208 1.070702 6.913996 7.067450 7.517270 1.442369 2.728153\n",
       " [9] 8.403150 1.812907"
      ]
     },
     "metadata": {},
     "output_type": "display_data"
    },
    {
     "data": {
      "text/html": [
       "5.03557620306686"
      ],
      "text/latex": [
       "5.03557620306686"
      ],
      "text/markdown": [
       "5.03557620306686"
      ],
      "text/plain": [
       "[1] 5.035576"
      ]
     },
     "metadata": {},
     "output_type": "display_data"
    }
   ],
   "source": [
    "r <- runif(1000, min=1, max=9)\n",
    "r[1:10]\n",
    "mean(r)"
   ]
  },
  {
   "cell_type": "markdown",
   "metadata": {},
   "source": [
    "## Using the summary() Function"
   ]
  },
  {
   "cell_type": "code",
   "execution_count": 85,
   "metadata": {},
   "outputs": [
    {
     "data": {
      "text/plain": [
       "   Min. 1st Qu.  Median    Mean 3rd Qu.    Max. \n",
       "  1.000   2.993   4.890   4.950   6.982   8.999 "
      ]
     },
     "metadata": {},
     "output_type": "display_data"
    },
    {
     "data": {
      "text/plain": [
       "   Mode   FALSE    TRUE \n",
       "logical     490     510 "
      ]
     },
     "metadata": {},
     "output_type": "display_data"
    }
   ],
   "source": [
    "r <- runif(1000, min=1, max=9)\n",
    "summary(r)\n",
    "summary(r <= 5)"
   ]
  },
  {
   "cell_type": "markdown",
   "metadata": {},
   "source": [
    "## Math Functions Used in Data Analysis\n",
    "\n",
    "- diff()\n",
    "- max()\n",
    "- min()\n",
    "- range()"
   ]
  },
  {
   "cell_type": "code",
   "execution_count": 86,
   "metadata": {},
   "outputs": [
    {
     "data": {
      "text/html": [
       "<ol class=list-inline>\n",
       "\t<li>8</li>\n",
       "\t<li>12</li>\n",
       "\t<li>16</li>\n",
       "\t<li>20</li>\n",
       "\t<li>24</li>\n",
       "\t<li>28</li>\n",
       "\t<li>32</li>\n",
       "\t<li>36</li>\n",
       "</ol>\n"
      ],
      "text/latex": [
       "\\begin{enumerate*}\n",
       "\\item 8\n",
       "\\item 12\n",
       "\\item 16\n",
       "\\item 20\n",
       "\\item 24\n",
       "\\item 28\n",
       "\\item 32\n",
       "\\item 36\n",
       "\\end{enumerate*}\n"
      ],
      "text/markdown": [
       "1. 8\n",
       "2. 12\n",
       "3. 16\n",
       "4. 20\n",
       "5. 24\n",
       "6. 28\n",
       "7. 32\n",
       "8. 36\n",
       "\n",
       "\n"
      ],
      "text/plain": [
       "[1]  8 12 16 20 24 28 32 36"
      ]
     },
     "metadata": {},
     "output_type": "display_data"
    },
    {
     "data": {
      "text/html": [
       "<ol class=list-inline>\n",
       "\t<li>1</li>\n",
       "\t<li>100</li>\n",
       "</ol>\n"
      ],
      "text/latex": [
       "\\begin{enumerate*}\n",
       "\\item 1\n",
       "\\item 100\n",
       "\\end{enumerate*}\n"
      ],
      "text/markdown": [
       "1. 1\n",
       "2. 100\n",
       "\n",
       "\n"
      ],
      "text/plain": [
       "[1]   1 100"
      ]
     },
     "metadata": {},
     "output_type": "display_data"
    }
   ],
   "source": [
    "x = 1:10\n",
    "diff(x^2, lag=2)\n",
    "range(x^2)"
   ]
  },
  {
   "cell_type": "markdown",
   "metadata": {},
   "source": [
    "## Correlations\n",
    "\n",
    "- cor()\n",
    "- pearson (default correlation method)\n",
    "- kendall\n",
    "- spearman"
   ]
  },
  {
   "cell_type": "markdown",
   "metadata": {},
   "source": [
    "## Correlation Examples"
   ]
  },
  {
   "cell_type": "code",
   "execution_count": 87,
   "metadata": {},
   "outputs": [
    {
     "data": {
      "text/html": [
       "0.658747887344759"
      ],
      "text/latex": [
       "0.658747887344759"
      ],
      "text/markdown": [
       "0.658747887344759"
      ],
      "text/plain": [
       "[1] 0.6587479"
      ]
     },
     "metadata": {},
     "output_type": "display_data"
    }
   ],
   "source": [
    "x <- mtcars[,'hp']\n",
    "y <- mtcars[,'wt']\n",
    "cor(x, y)"
   ]
  },
  {
   "cell_type": "markdown",
   "metadata": {},
   "source": [
    "## Testing Correlation Coefficient for Significance"
   ]
  },
  {
   "cell_type": "code",
   "execution_count": 88,
   "metadata": {},
   "outputs": [
    {
     "data": {
      "text/plain": [
       "\n",
       "\tPearson's product-moment correlation\n",
       "\n",
       "data:  x and y\n",
       "t = 4.7957, df = 30, p-value = 4.146e-05\n",
       "alternative hypothesis: true correlation is not equal to 0\n",
       "95 percent confidence interval:\n",
       " 0.4025113 0.8192573\n",
       "sample estimates:\n",
       "      cor \n",
       "0.6587479 \n"
      ]
     },
     "metadata": {},
     "output_type": "display_data"
    }
   ],
   "source": [
    "x <- mtcars[,'hp']\n",
    "y <- mtcars[,'wt']\n",
    "cor.test(x, y)"
   ]
  },
  {
   "cell_type": "markdown",
   "metadata": {},
   "source": [
    "## Regression Analysis\n",
    "\n",
    "- Simple linear\n",
    "- Multiple linear\n",
    "- Polynomial\n",
    "- Time-series"
   ]
  },
  {
   "cell_type": "markdown",
   "metadata": {},
   "source": [
    "## Simple Linear Regression Model\n",
    "\n",
    "- Yi = A1Xi + A0"
   ]
  },
  {
   "cell_type": "markdown",
   "metadata": {},
   "source": [
    "## Least Squares Method (LSM)"
   ]
  },
  {
   "cell_type": "markdown",
   "metadata": {},
   "source": [
    "## LSM Assumptions"
   ]
  },
  {
   "cell_type": "markdown",
   "metadata": {},
   "source": [
    "## Fitting Linear Regression Models in R\n",
    "\n",
    "- lm()"
   ]
  },
  {
   "cell_type": "code",
   "execution_count": 89,
   "metadata": {},
   "outputs": [
    {
     "data": {
      "text/plain": [
       "\n",
       "Call:\n",
       "lm(formula = y ~ x)\n",
       "\n",
       "Coefficients:\n",
       "(Intercept)            x  \n",
       "   1.838247     0.009401  \n"
      ]
     },
     "metadata": {},
     "output_type": "display_data"
    }
   ],
   "source": [
    "x <- mtcars[,'hp']\n",
    "y <- mtcars[,'wt']\n",
    "lm(y~x)"
   ]
  },
  {
   "cell_type": "markdown",
   "metadata": {},
   "source": [
    "## Confidence Intervals for Model Parameters"
   ]
  },
  {
   "cell_type": "code",
   "execution_count": 90,
   "metadata": {},
   "outputs": [
    {
     "data": {
      "text/html": [
       "<table>\n",
       "<thead><tr><th></th><th scope=col>2.5 %</th><th scope=col>97.5 %</th></tr></thead>\n",
       "<tbody>\n",
       "\t<tr><th scope=row>(Intercept)</th><td>1.191827444</td><td>2.4846660  </td></tr>\n",
       "\t<tr><th scope=row>x</th><td>0.005397515</td><td>0.0134044  </td></tr>\n",
       "</tbody>\n",
       "</table>\n"
      ],
      "text/latex": [
       "\\begin{tabular}{r|ll}\n",
       "  & 2.5 \\% & 97.5 \\%\\\\\n",
       "\\hline\n",
       "\t(Intercept) & 1.191827444 & 2.4846660  \\\\\n",
       "\tx & 0.005397515 & 0.0134044  \\\\\n",
       "\\end{tabular}\n"
      ],
      "text/markdown": [
       "\n",
       "| <!--/--> | 2.5 % | 97.5 % | \n",
       "|---|---|\n",
       "| (Intercept) | 1.191827444 | 2.4846660   | \n",
       "| x | 0.005397515 | 0.0134044   | \n",
       "\n",
       "\n"
      ],
      "text/plain": [
       "            2.5 %       97.5 %   \n",
       "(Intercept) 1.191827444 2.4846660\n",
       "x           0.005397515 0.0134044"
      ]
     },
     "metadata": {},
     "output_type": "display_data"
    }
   ],
   "source": [
    "x <- mtcars[,'hp']\n",
    "y <- mtcars[,'wt']\n",
    "mod <- lm(y~x)\n",
    "confint(mod)"
   ]
  },
  {
   "cell_type": "markdown",
   "metadata": {
    "collapsed": true
   },
   "source": [
    "## Example of Using lm() with a Data Frame"
   ]
  },
  {
   "cell_type": "code",
   "execution_count": 91,
   "metadata": {},
   "outputs": [
    {
     "data": {
      "text/plain": [
       "\n",
       "Call:\n",
       "lm(formula = hp ~ wt, data = mtcars)\n",
       "\n",
       "Coefficients:\n",
       "(Intercept)           wt  \n",
       "     -1.821       46.160  \n"
      ]
     },
     "metadata": {},
     "output_type": "display_data"
    }
   ],
   "source": [
    "lm(hp ~ wt, data=mtcars)"
   ]
  },
  {
   "cell_type": "markdown",
   "metadata": {},
   "source": [
    "## Multiple Regression Analysis\n"
   ]
  },
  {
   "cell_type": "code",
   "execution_count": 92,
   "metadata": {},
   "outputs": [
    {
     "data": {
      "text/plain": [
       "\n",
       "Call:\n",
       "lm(formula = mpg ~ hp + wt)\n",
       "\n",
       "Coefficients:\n",
       "(Intercept)           hp           wt  \n",
       "   37.22727     -0.03177     -3.87783  \n"
      ]
     },
     "metadata": {},
     "output_type": "display_data"
    }
   ],
   "source": [
    "hp <- mtcars[,'hp']\n",
    "wt <- mtcars[,'wt']\n",
    "mpg <- mtcars[,'mpg']\n",
    "lm(mpg ~ hp + wt)"
   ]
  },
  {
   "cell_type": "markdown",
   "metadata": {},
   "source": [
    "## Applying Functions to Matrices and Data Frames"
   ]
  },
  {
   "cell_type": "code",
   "execution_count": 93,
   "metadata": {},
   "outputs": [
    {
     "data": {
      "text/html": [
       "<table>\n",
       "<tbody>\n",
       "\t<tr><td>20</td><td>21</td><td>22</td></tr>\n",
       "\t<tr><td>23</td><td>24</td><td>25</td></tr>\n",
       "</tbody>\n",
       "</table>\n"
      ],
      "text/latex": [
       "\\begin{tabular}{lll}\n",
       "\t 20 & 21 & 22\\\\\n",
       "\t 23 & 24 & 25\\\\\n",
       "\\end{tabular}\n"
      ],
      "text/markdown": [
       "\n",
       "| 20 | 21 | 22 | \n",
       "| 23 | 24 | 25 | \n",
       "\n",
       "\n"
      ],
      "text/plain": [
       "     [,1] [,2] [,3]\n",
       "[1,] 20   21   22  \n",
       "[2,] 23   24   25  "
      ]
     },
     "metadata": {},
     "output_type": "display_data"
    },
    {
     "data": {
      "text/html": [
       "<table>\n",
       "<tbody>\n",
       "\t<tr><td>4.472136</td><td>4.582576</td><td>4.690416</td></tr>\n",
       "\t<tr><td>4.795832</td><td>4.898979</td><td>5.000000</td></tr>\n",
       "</tbody>\n",
       "</table>\n"
      ],
      "text/latex": [
       "\\begin{tabular}{lll}\n",
       "\t 4.472136 & 4.582576 & 4.690416\\\\\n",
       "\t 4.795832 & 4.898979 & 5.000000\\\\\n",
       "\\end{tabular}\n"
      ],
      "text/markdown": [
       "\n",
       "| 4.472136 | 4.582576 | 4.690416 | \n",
       "| 4.795832 | 4.898979 | 5.000000 | \n",
       "\n",
       "\n"
      ],
      "text/plain": [
       "     [,1]     [,2]     [,3]    \n",
       "[1,] 4.472136 4.582576 4.690416\n",
       "[2,] 4.795832 4.898979 5.000000"
      ]
     },
     "metadata": {},
     "output_type": "display_data"
    },
    {
     "data": {
      "text/html": [
       "<table>\n",
       "<tbody>\n",
       "\t<tr><td>4.47</td><td>4.58</td><td>4.69</td></tr>\n",
       "\t<tr><td>4.80</td><td>4.90</td><td>5.00</td></tr>\n",
       "</tbody>\n",
       "</table>\n"
      ],
      "text/latex": [
       "\\begin{tabular}{lll}\n",
       "\t 4.47 & 4.58 & 4.69\\\\\n",
       "\t 4.80 & 4.90 & 5.00\\\\\n",
       "\\end{tabular}\n"
      ],
      "text/markdown": [
       "\n",
       "| 4.47 | 4.58 | 4.69 | \n",
       "| 4.80 | 4.90 | 5.00 | \n",
       "\n",
       "\n"
      ],
      "text/plain": [
       "     [,1] [,2] [,3]\n",
       "[1,] 4.47 4.58 4.69\n",
       "[2,] 4.80 4.90 5.00"
      ]
     },
     "metadata": {},
     "output_type": "display_data"
    },
    {
     "data": {
      "text/html": [
       "4.74"
      ],
      "text/latex": [
       "4.74"
      ],
      "text/markdown": [
       "4.74"
      ],
      "text/plain": [
       "[1] 4.74"
      ]
     },
     "metadata": {},
     "output_type": "display_data"
    }
   ],
   "source": [
    "m <- matrix(c(20, 21, 22, 23, 24, 25), nrow=2, ncol=3, byrow = TRUE) \n",
    "m\n",
    "m <- sqrt(m)\n",
    "m\n",
    "m <- round(m, digit=2)\n",
    "m\n",
    "mm <- mean(m)\n",
    "mm"
   ]
  },
  {
   "cell_type": "markdown",
   "metadata": {},
   "source": [
    "## The apply() Function"
   ]
  },
  {
   "cell_type": "code",
   "execution_count": 94,
   "metadata": {},
   "outputs": [],
   "source": [
    "help(apply)"
   ]
  },
  {
   "cell_type": "code",
   "execution_count": 95,
   "metadata": {},
   "outputs": [
    {
     "data": {
      "text/html": [
       "<table>\n",
       "<tbody>\n",
       "\t<tr><td>1 </td><td>5 </td><td> 9</td></tr>\n",
       "\t<tr><td>2 </td><td>6 </td><td>10</td></tr>\n",
       "\t<tr><td>3 </td><td>7 </td><td>11</td></tr>\n",
       "\t<tr><td>4 </td><td>8 </td><td>12</td></tr>\n",
       "</tbody>\n",
       "</table>\n"
      ],
      "text/latex": [
       "\\begin{tabular}{lll}\n",
       "\t 1  & 5  &  9\\\\\n",
       "\t 2  & 6  & 10\\\\\n",
       "\t 3  & 7  & 11\\\\\n",
       "\t 4  & 8  & 12\\\\\n",
       "\\end{tabular}\n"
      ],
      "text/markdown": [
       "\n",
       "| 1  | 5  |  9 | \n",
       "| 2  | 6  | 10 | \n",
       "| 3  | 7  | 11 | \n",
       "| 4  | 8  | 12 | \n",
       "\n",
       "\n"
      ],
      "text/plain": [
       "     [,1] [,2] [,3]\n",
       "[1,] 1    5     9  \n",
       "[2,] 2    6    10  \n",
       "[3,] 3    7    11  \n",
       "[4,] 4    8    12  "
      ]
     },
     "metadata": {},
     "output_type": "display_data"
    },
    {
     "data": {
      "text/html": [
       "<ol class=list-inline>\n",
       "\t<li>9</li>\n",
       "\t<li>10</li>\n",
       "\t<li>11</li>\n",
       "\t<li>12</li>\n",
       "</ol>\n"
      ],
      "text/latex": [
       "\\begin{enumerate*}\n",
       "\\item 9\n",
       "\\item 10\n",
       "\\item 11\n",
       "\\item 12\n",
       "\\end{enumerate*}\n"
      ],
      "text/markdown": [
       "1. 9\n",
       "2. 10\n",
       "3. 11\n",
       "4. 12\n",
       "\n",
       "\n"
      ],
      "text/plain": [
       "[1]  9 10 11 12"
      ]
     },
     "metadata": {},
     "output_type": "display_data"
    },
    {
     "data": {
      "text/html": [
       "<ol class=list-inline>\n",
       "\t<li>4</li>\n",
       "\t<li>8</li>\n",
       "\t<li>12</li>\n",
       "</ol>\n"
      ],
      "text/latex": [
       "\\begin{enumerate*}\n",
       "\\item 4\n",
       "\\item 8\n",
       "\\item 12\n",
       "\\end{enumerate*}\n"
      ],
      "text/markdown": [
       "1. 4\n",
       "2. 8\n",
       "3. 12\n",
       "\n",
       "\n"
      ],
      "text/plain": [
       "[1]  4  8 12"
      ]
     },
     "metadata": {},
     "output_type": "display_data"
    }
   ],
   "source": [
    "m <- matrix(1:12, nrow = 4)\n",
    "m\n",
    "apply(m, 1, max) # find max element row-wise\n",
    "apply(m, 2, max) # find max element column-wise"
   ]
  },
  {
   "cell_type": "markdown",
   "metadata": {},
   "source": [
    "## Using apply() Function with a User-Defined Function"
   ]
  },
  {
   "cell_type": "code",
   "execution_count": 96,
   "metadata": {},
   "outputs": [
    {
     "data": {
      "text/html": [
       "<table>\n",
       "<tbody>\n",
       "\t<tr><td>1 </td><td>5 </td><td> 9</td></tr>\n",
       "\t<tr><td>2 </td><td>6 </td><td>10</td></tr>\n",
       "\t<tr><td>3 </td><td>7 </td><td>11</td></tr>\n",
       "\t<tr><td>4 </td><td>8 </td><td>12</td></tr>\n",
       "</tbody>\n",
       "</table>\n"
      ],
      "text/latex": [
       "\\begin{tabular}{lll}\n",
       "\t 1  & 5  &  9\\\\\n",
       "\t 2  & 6  & 10\\\\\n",
       "\t 3  & 7  & 11\\\\\n",
       "\t 4  & 8  & 12\\\\\n",
       "\\end{tabular}\n"
      ],
      "text/markdown": [
       "\n",
       "| 1  | 5  |  9 | \n",
       "| 2  | 6  | 10 | \n",
       "| 3  | 7  | 11 | \n",
       "| 4  | 8  | 12 | \n",
       "\n",
       "\n"
      ],
      "text/plain": [
       "     [,1] [,2] [,3]\n",
       "[1,] 1    5     9  \n",
       "[2,] 2    6    10  \n",
       "[3,] 3    7    11  \n",
       "[4,] 4    8    12  "
      ]
     },
     "metadata": {},
     "output_type": "display_data"
    },
    {
     "data": {
      "text/html": [
       "<table>\n",
       "<tbody>\n",
       "\t<tr><td>TRUE </td><td> TRUE</td><td>FALSE</td></tr>\n",
       "\t<tr><td>TRUE </td><td> TRUE</td><td>FALSE</td></tr>\n",
       "\t<tr><td>TRUE </td><td>FALSE</td><td>FALSE</td></tr>\n",
       "\t<tr><td>TRUE </td><td>FALSE</td><td>FALSE</td></tr>\n",
       "</tbody>\n",
       "</table>\n"
      ],
      "text/latex": [
       "\\begin{tabular}{lll}\n",
       "\t TRUE  &  TRUE & FALSE\\\\\n",
       "\t TRUE  &  TRUE & FALSE\\\\\n",
       "\t TRUE  & FALSE & FALSE\\\\\n",
       "\t TRUE  & FALSE & FALSE\\\\\n",
       "\\end{tabular}\n"
      ],
      "text/markdown": [
       "\n",
       "| TRUE  |  TRUE | FALSE | \n",
       "| TRUE  |  TRUE | FALSE | \n",
       "| TRUE  | FALSE | FALSE | \n",
       "| TRUE  | FALSE | FALSE | \n",
       "\n",
       "\n"
      ],
      "text/plain": [
       "     [,1] [,2]  [,3] \n",
       "[1,] TRUE  TRUE FALSE\n",
       "[2,] TRUE  TRUE FALSE\n",
       "[3,] TRUE FALSE FALSE\n",
       "[4,] TRUE FALSE FALSE"
      ]
     },
     "metadata": {},
     "output_type": "display_data"
    }
   ],
   "source": [
    "m <- matrix(1:12, nrow = 4)\n",
    "m\n",
    "apply(m, 2, function (x) { x<7 })"
   ]
  },
  {
   "cell_type": "markdown",
   "metadata": {},
   "source": [
    "## apply() Variants\n",
    "\n",
    "- lappy()\n",
    "- sapply()\n",
    "- tapply()"
   ]
  },
  {
   "cell_type": "markdown",
   "metadata": {},
   "source": [
    "## Using tapply()"
   ]
  },
  {
   "cell_type": "code",
   "execution_count": 97,
   "metadata": {},
   "outputs": [
    {
     "name": "stdout",
     "output_type": "stream",
     "text": [
      "  4   6   8 \n",
      "113 175 335 \n"
     ]
    }
   ],
   "source": [
    "z = tapply(mtcars$hp, mtcars$cyl, max) # find most powerful car engine within each group of cars with same number cylinders\n",
    "print(z)"
   ]
  },
  {
   "cell_type": "markdown",
   "metadata": {
    "collapsed": true
   },
   "source": [
    "## Adding and Removing a Column to a Data Frame"
   ]
  },
  {
   "cell_type": "code",
   "execution_count": 98,
   "metadata": {},
   "outputs": [
    {
     "data": {
      "text/html": [
       "<table>\n",
       "<thead><tr><th></th><th scope=col>mpg</th><th scope=col>cyl</th><th scope=col>disp</th><th scope=col>hp</th><th scope=col>drat</th><th scope=col>wt</th><th scope=col>qsec</th><th scope=col>vs</th><th scope=col>am</th><th scope=col>gear</th><th scope=col>carb</th></tr></thead>\n",
       "<tbody>\n",
       "\t<tr><th scope=row>Mazda RX4</th><td>21.0 </td><td>6    </td><td>160  </td><td>110  </td><td>3.90 </td><td>2.620</td><td>16.46</td><td>0    </td><td>1    </td><td>4    </td><td>4    </td></tr>\n",
       "\t<tr><th scope=row>Mazda RX4 Wag</th><td>21.0 </td><td>6    </td><td>160  </td><td>110  </td><td>3.90 </td><td>2.875</td><td>17.02</td><td>0    </td><td>1    </td><td>4    </td><td>4    </td></tr>\n",
       "\t<tr><th scope=row>Datsun 710</th><td>22.8 </td><td>4    </td><td>108  </td><td> 93  </td><td>3.85 </td><td>2.320</td><td>18.61</td><td>1    </td><td>1    </td><td>4    </td><td>1    </td></tr>\n",
       "\t<tr><th scope=row>Hornet 4 Drive</th><td>21.4 </td><td>6    </td><td>258  </td><td>110  </td><td>3.08 </td><td>3.215</td><td>19.44</td><td>1    </td><td>0    </td><td>3    </td><td>1    </td></tr>\n",
       "\t<tr><th scope=row>Hornet Sportabout</th><td>18.7 </td><td>8    </td><td>360  </td><td>175  </td><td>3.15 </td><td>3.440</td><td>17.02</td><td>0    </td><td>0    </td><td>3    </td><td>2    </td></tr>\n",
       "\t<tr><th scope=row>Valiant</th><td>18.1 </td><td>6    </td><td>225  </td><td>105  </td><td>2.76 </td><td>3.460</td><td>20.22</td><td>1    </td><td>0    </td><td>3    </td><td>1    </td></tr>\n",
       "</tbody>\n",
       "</table>\n"
      ],
      "text/latex": [
       "\\begin{tabular}{r|lllllllllll}\n",
       "  & mpg & cyl & disp & hp & drat & wt & qsec & vs & am & gear & carb\\\\\n",
       "\\hline\n",
       "\tMazda RX4 & 21.0  & 6     & 160   & 110   & 3.90  & 2.620 & 16.46 & 0     & 1     & 4     & 4    \\\\\n",
       "\tMazda RX4 Wag & 21.0  & 6     & 160   & 110   & 3.90  & 2.875 & 17.02 & 0     & 1     & 4     & 4    \\\\\n",
       "\tDatsun 710 & 22.8  & 4     & 108   &  93   & 3.85  & 2.320 & 18.61 & 1     & 1     & 4     & 1    \\\\\n",
       "\tHornet 4 Drive & 21.4  & 6     & 258   & 110   & 3.08  & 3.215 & 19.44 & 1     & 0     & 3     & 1    \\\\\n",
       "\tHornet Sportabout & 18.7  & 8     & 360   & 175   & 3.15  & 3.440 & 17.02 & 0     & 0     & 3     & 2    \\\\\n",
       "\tValiant & 18.1  & 6     & 225   & 105   & 2.76  & 3.460 & 20.22 & 1     & 0     & 3     & 1    \\\\\n",
       "\\end{tabular}\n"
      ],
      "text/markdown": [
       "\n",
       "| <!--/--> | mpg | cyl | disp | hp | drat | wt | qsec | vs | am | gear | carb | \n",
       "|---|---|---|---|---|---|\n",
       "| Mazda RX4 | 21.0  | 6     | 160   | 110   | 3.90  | 2.620 | 16.46 | 0     | 1     | 4     | 4     | \n",
       "| Mazda RX4 Wag | 21.0  | 6     | 160   | 110   | 3.90  | 2.875 | 17.02 | 0     | 1     | 4     | 4     | \n",
       "| Datsun 710 | 22.8  | 4     | 108   |  93   | 3.85  | 2.320 | 18.61 | 1     | 1     | 4     | 1     | \n",
       "| Hornet 4 Drive | 21.4  | 6     | 258   | 110   | 3.08  | 3.215 | 19.44 | 1     | 0     | 3     | 1     | \n",
       "| Hornet Sportabout | 18.7  | 8     | 360   | 175   | 3.15  | 3.440 | 17.02 | 0     | 0     | 3     | 2     | \n",
       "| Valiant | 18.1  | 6     | 225   | 105   | 2.76  | 3.460 | 20.22 | 1     | 0     | 3     | 1     | \n",
       "\n",
       "\n"
      ],
      "text/plain": [
       "                  mpg  cyl disp hp  drat wt    qsec  vs am gear carb\n",
       "Mazda RX4         21.0 6   160  110 3.90 2.620 16.46 0  1  4    4   \n",
       "Mazda RX4 Wag     21.0 6   160  110 3.90 2.875 17.02 0  1  4    4   \n",
       "Datsun 710        22.8 4   108   93 3.85 2.320 18.61 1  1  4    1   \n",
       "Hornet 4 Drive    21.4 6   258  110 3.08 3.215 19.44 1  0  3    1   \n",
       "Hornet Sportabout 18.7 8   360  175 3.15 3.440 17.02 0  0  3    2   \n",
       "Valiant           18.1 6   225  105 2.76 3.460 20.22 1  0  3    1   "
      ]
     },
     "metadata": {},
     "output_type": "display_data"
    },
    {
     "data": {
      "text/html": [
       "<table>\n",
       "<thead><tr><th></th><th scope=col>mpg</th><th scope=col>cyl</th><th scope=col>disp</th><th scope=col>hp</th><th scope=col>drat</th><th scope=col>wt</th><th scope=col>qsec</th><th scope=col>vs</th><th scope=col>am</th><th scope=col>gear</th><th scope=col>carb</th><th scope=col>new_col_name</th></tr></thead>\n",
       "<tbody>\n",
       "\t<tr><th scope=row>Mazda RX4</th><td>21.0      </td><td>6         </td><td>160       </td><td>110       </td><td>3.90      </td><td>2.620     </td><td>16.46     </td><td>0         </td><td>1         </td><td>4         </td><td>4         </td><td>-2.3364867</td></tr>\n",
       "\t<tr><th scope=row>Mazda RX4 Wag</th><td>21.0      </td><td>6         </td><td>160       </td><td>110       </td><td>3.90      </td><td>2.875     </td><td>17.02     </td><td>0         </td><td>1         </td><td>4         </td><td>4         </td><td> 0.2048738</td></tr>\n",
       "\t<tr><th scope=row>Datsun 710</th><td>22.8      </td><td>4         </td><td>108       </td><td> 93       </td><td>3.85      </td><td>2.320     </td><td>18.61     </td><td>1         </td><td>1         </td><td>4         </td><td>1         </td><td> 0.8351801</td></tr>\n",
       "\t<tr><th scope=row>Hornet 4 Drive</th><td>21.4      </td><td>6         </td><td>258       </td><td>110       </td><td>3.08      </td><td>3.215     </td><td>19.44     </td><td>1         </td><td>0         </td><td>3         </td><td>1         </td><td> 0.4613007</td></tr>\n",
       "\t<tr><th scope=row>Hornet Sportabout</th><td>18.7      </td><td>8         </td><td>360       </td><td>175       </td><td>3.15      </td><td>3.440     </td><td>17.02     </td><td>0         </td><td>0         </td><td>3         </td><td>2         </td><td> 1.0523443</td></tr>\n",
       "\t<tr><th scope=row>Valiant</th><td>18.1      </td><td>6         </td><td>225       </td><td>105       </td><td>2.76      </td><td>3.460     </td><td>20.22     </td><td>1         </td><td>0         </td><td>3         </td><td>1         </td><td> 1.3202549</td></tr>\n",
       "</tbody>\n",
       "</table>\n"
      ],
      "text/latex": [
       "\\begin{tabular}{r|llllllllllll}\n",
       "  & mpg & cyl & disp & hp & drat & wt & qsec & vs & am & gear & carb & new\\_col\\_name\\\\\n",
       "\\hline\n",
       "\tMazda RX4 & 21.0       & 6          & 160        & 110        & 3.90       & 2.620      & 16.46      & 0          & 1          & 4          & 4          & -2.3364867\\\\\n",
       "\tMazda RX4 Wag & 21.0       & 6          & 160        & 110        & 3.90       & 2.875      & 17.02      & 0          & 1          & 4          & 4          &  0.2048738\\\\\n",
       "\tDatsun 710 & 22.8       & 4          & 108        &  93        & 3.85       & 2.320      & 18.61      & 1          & 1          & 4          & 1          &  0.8351801\\\\\n",
       "\tHornet 4 Drive & 21.4       & 6          & 258        & 110        & 3.08       & 3.215      & 19.44      & 1          & 0          & 3          & 1          &  0.4613007\\\\\n",
       "\tHornet Sportabout & 18.7       & 8          & 360        & 175        & 3.15       & 3.440      & 17.02      & 0          & 0          & 3          & 2          &  1.0523443\\\\\n",
       "\tValiant & 18.1       & 6          & 225        & 105        & 2.76       & 3.460      & 20.22      & 1          & 0          & 3          & 1          &  1.3202549\\\\\n",
       "\\end{tabular}\n"
      ],
      "text/markdown": [
       "\n",
       "| <!--/--> | mpg | cyl | disp | hp | drat | wt | qsec | vs | am | gear | carb | new_col_name | \n",
       "|---|---|---|---|---|---|\n",
       "| Mazda RX4 | 21.0       | 6          | 160        | 110        | 3.90       | 2.620      | 16.46      | 0          | 1          | 4          | 4          | -2.3364867 | \n",
       "| Mazda RX4 Wag | 21.0       | 6          | 160        | 110        | 3.90       | 2.875      | 17.02      | 0          | 1          | 4          | 4          |  0.2048738 | \n",
       "| Datsun 710 | 22.8       | 4          | 108        |  93        | 3.85       | 2.320      | 18.61      | 1          | 1          | 4          | 1          |  0.8351801 | \n",
       "| Hornet 4 Drive | 21.4       | 6          | 258        | 110        | 3.08       | 3.215      | 19.44      | 1          | 0          | 3          | 1          |  0.4613007 | \n",
       "| Hornet Sportabout | 18.7       | 8          | 360        | 175        | 3.15       | 3.440      | 17.02      | 0          | 0          | 3          | 2          |  1.0523443 | \n",
       "| Valiant | 18.1       | 6          | 225        | 105        | 2.76       | 3.460      | 20.22      | 1          | 0          | 3          | 1          |  1.3202549 | \n",
       "\n",
       "\n"
      ],
      "text/plain": [
       "                  mpg  cyl disp hp  drat wt    qsec  vs am gear carb\n",
       "Mazda RX4         21.0 6   160  110 3.90 2.620 16.46 0  1  4    4   \n",
       "Mazda RX4 Wag     21.0 6   160  110 3.90 2.875 17.02 0  1  4    4   \n",
       "Datsun 710        22.8 4   108   93 3.85 2.320 18.61 1  1  4    1   \n",
       "Hornet 4 Drive    21.4 6   258  110 3.08 3.215 19.44 1  0  3    1   \n",
       "Hornet Sportabout 18.7 8   360  175 3.15 3.440 17.02 0  0  3    2   \n",
       "Valiant           18.1 6   225  105 2.76 3.460 20.22 1  0  3    1   \n",
       "                  new_col_name\n",
       "Mazda RX4         -2.3364867  \n",
       "Mazda RX4 Wag      0.2048738  \n",
       "Datsun 710         0.8351801  \n",
       "Hornet 4 Drive     0.4613007  \n",
       "Hornet Sportabout  1.0523443  \n",
       "Valiant            1.3202549  "
      ]
     },
     "metadata": {},
     "output_type": "display_data"
    },
    {
     "data": {
      "text/html": [
       "<table>\n",
       "<thead><tr><th></th><th scope=col>mpg</th><th scope=col>cyl</th><th scope=col>disp</th><th scope=col>hp</th><th scope=col>drat</th><th scope=col>wt</th><th scope=col>qsec</th><th scope=col>vs</th><th scope=col>am</th><th scope=col>gear</th><th scope=col>carb</th></tr></thead>\n",
       "<tbody>\n",
       "\t<tr><th scope=row>Mazda RX4</th><td>21.0 </td><td>6    </td><td>160  </td><td>110  </td><td>3.90 </td><td>2.620</td><td>16.46</td><td>0    </td><td>1    </td><td>4    </td><td>4    </td></tr>\n",
       "\t<tr><th scope=row>Mazda RX4 Wag</th><td>21.0 </td><td>6    </td><td>160  </td><td>110  </td><td>3.90 </td><td>2.875</td><td>17.02</td><td>0    </td><td>1    </td><td>4    </td><td>4    </td></tr>\n",
       "\t<tr><th scope=row>Datsun 710</th><td>22.8 </td><td>4    </td><td>108  </td><td> 93  </td><td>3.85 </td><td>2.320</td><td>18.61</td><td>1    </td><td>1    </td><td>4    </td><td>1    </td></tr>\n",
       "\t<tr><th scope=row>Hornet 4 Drive</th><td>21.4 </td><td>6    </td><td>258  </td><td>110  </td><td>3.08 </td><td>3.215</td><td>19.44</td><td>1    </td><td>0    </td><td>3    </td><td>1    </td></tr>\n",
       "\t<tr><th scope=row>Hornet Sportabout</th><td>18.7 </td><td>8    </td><td>360  </td><td>175  </td><td>3.15 </td><td>3.440</td><td>17.02</td><td>0    </td><td>0    </td><td>3    </td><td>2    </td></tr>\n",
       "\t<tr><th scope=row>Valiant</th><td>18.1 </td><td>6    </td><td>225  </td><td>105  </td><td>2.76 </td><td>3.460</td><td>20.22</td><td>1    </td><td>0    </td><td>3    </td><td>1    </td></tr>\n",
       "</tbody>\n",
       "</table>\n"
      ],
      "text/latex": [
       "\\begin{tabular}{r|lllllllllll}\n",
       "  & mpg & cyl & disp & hp & drat & wt & qsec & vs & am & gear & carb\\\\\n",
       "\\hline\n",
       "\tMazda RX4 & 21.0  & 6     & 160   & 110   & 3.90  & 2.620 & 16.46 & 0     & 1     & 4     & 4    \\\\\n",
       "\tMazda RX4 Wag & 21.0  & 6     & 160   & 110   & 3.90  & 2.875 & 17.02 & 0     & 1     & 4     & 4    \\\\\n",
       "\tDatsun 710 & 22.8  & 4     & 108   &  93   & 3.85  & 2.320 & 18.61 & 1     & 1     & 4     & 1    \\\\\n",
       "\tHornet 4 Drive & 21.4  & 6     & 258   & 110   & 3.08  & 3.215 & 19.44 & 1     & 0     & 3     & 1    \\\\\n",
       "\tHornet Sportabout & 18.7  & 8     & 360   & 175   & 3.15  & 3.440 & 17.02 & 0     & 0     & 3     & 2    \\\\\n",
       "\tValiant & 18.1  & 6     & 225   & 105   & 2.76  & 3.460 & 20.22 & 1     & 0     & 3     & 1    \\\\\n",
       "\\end{tabular}\n"
      ],
      "text/markdown": [
       "\n",
       "| <!--/--> | mpg | cyl | disp | hp | drat | wt | qsec | vs | am | gear | carb | \n",
       "|---|---|---|---|---|---|\n",
       "| Mazda RX4 | 21.0  | 6     | 160   | 110   | 3.90  | 2.620 | 16.46 | 0     | 1     | 4     | 4     | \n",
       "| Mazda RX4 Wag | 21.0  | 6     | 160   | 110   | 3.90  | 2.875 | 17.02 | 0     | 1     | 4     | 4     | \n",
       "| Datsun 710 | 22.8  | 4     | 108   |  93   | 3.85  | 2.320 | 18.61 | 1     | 1     | 4     | 1     | \n",
       "| Hornet 4 Drive | 21.4  | 6     | 258   | 110   | 3.08  | 3.215 | 19.44 | 1     | 0     | 3     | 1     | \n",
       "| Hornet Sportabout | 18.7  | 8     | 360   | 175   | 3.15  | 3.440 | 17.02 | 0     | 0     | 3     | 2     | \n",
       "| Valiant | 18.1  | 6     | 225   | 105   | 2.76  | 3.460 | 20.22 | 1     | 0     | 3     | 1     | \n",
       "\n",
       "\n"
      ],
      "text/plain": [
       "                  mpg  cyl disp hp  drat wt    qsec  vs am gear carb\n",
       "Mazda RX4         21.0 6   160  110 3.90 2.620 16.46 0  1  4    4   \n",
       "Mazda RX4 Wag     21.0 6   160  110 3.90 2.875 17.02 0  1  4    4   \n",
       "Datsun 710        22.8 4   108   93 3.85 2.320 18.61 1  1  4    1   \n",
       "Hornet 4 Drive    21.4 6   258  110 3.08 3.215 19.44 1  0  3    1   \n",
       "Hornet Sportabout 18.7 8   360  175 3.15 3.440 17.02 0  0  3    2   \n",
       "Valiant           18.1 6   225  105 2.76 3.460 20.22 1  0  3    1   "
      ]
     },
     "metadata": {},
     "output_type": "display_data"
    }
   ],
   "source": [
    "head(mtcars)\n",
    "mtcars$new_col_name <- rnorm(nrow(mtcars))\n",
    "head(mtcars)\n",
    "mtcars$new_col_name <- NULL\n",
    "head(mtcars)"
   ]
  },
  {
   "cell_type": "markdown",
   "metadata": {
    "collapsed": true
   },
   "source": [
    "## Dropping a Column in a Data Frame (slicing)"
   ]
  },
  {
   "cell_type": "code",
   "execution_count": 99,
   "metadata": {},
   "outputs": [
    {
     "data": {
      "text/html": [
       "<table>\n",
       "<thead><tr><th></th><th scope=col>mpg</th><th scope=col>cyl</th><th scope=col>disp</th><th scope=col>hp</th><th scope=col>drat</th><th scope=col>wt</th><th scope=col>qsec</th><th scope=col>vs</th><th scope=col>am</th><th scope=col>gear</th><th scope=col>carb</th></tr></thead>\n",
       "<tbody>\n",
       "\t<tr><th scope=row>Mazda RX4</th><td>21.0 </td><td>6    </td><td>160  </td><td>110  </td><td>3.90 </td><td>2.62 </td><td>16.46</td><td>0    </td><td>1    </td><td>4    </td><td>4    </td></tr>\n",
       "\t<tr><th scope=row>Datsun 710</th><td>22.8 </td><td>4    </td><td>108  </td><td> 93  </td><td>3.85 </td><td>2.32 </td><td>18.61</td><td>1    </td><td>1    </td><td>4    </td><td>1    </td></tr>\n",
       "</tbody>\n",
       "</table>\n"
      ],
      "text/latex": [
       "\\begin{tabular}{r|lllllllllll}\n",
       "  & mpg & cyl & disp & hp & drat & wt & qsec & vs & am & gear & carb\\\\\n",
       "\\hline\n",
       "\tMazda RX4 & 21.0  & 6     & 160   & 110   & 3.90  & 2.62  & 16.46 & 0     & 1     & 4     & 4    \\\\\n",
       "\tDatsun 710 & 22.8  & 4     & 108   &  93   & 3.85  & 2.32  & 18.61 & 1     & 1     & 4     & 1    \\\\\n",
       "\\end{tabular}\n"
      ],
      "text/markdown": [
       "\n",
       "| <!--/--> | mpg | cyl | disp | hp | drat | wt | qsec | vs | am | gear | carb | \n",
       "|---|---|\n",
       "| Mazda RX4 | 21.0  | 6     | 160   | 110   | 3.90  | 2.62  | 16.46 | 0     | 1     | 4     | 4     | \n",
       "| Datsun 710 | 22.8  | 4     | 108   |  93   | 3.85  | 2.32  | 18.61 | 1     | 1     | 4     | 1     | \n",
       "\n",
       "\n"
      ],
      "text/plain": [
       "           mpg  cyl disp hp  drat wt   qsec  vs am gear carb\n",
       "Mazda RX4  21.0 6   160  110 3.90 2.62 16.46 0  1  4    4   \n",
       "Datsun 710 22.8 4   108   93 3.85 2.32 18.61 1  1  4    1   "
      ]
     },
     "metadata": {},
     "output_type": "display_data"
    },
    {
     "data": {
      "text/html": [
       "<table>\n",
       "<thead><tr><th></th><th scope=col>mpg</th><th scope=col>disp</th></tr></thead>\n",
       "<tbody>\n",
       "\t<tr><th scope=row>Mazda RX4</th><td>21.0 </td><td>160.0</td></tr>\n",
       "\t<tr><th scope=row>Mazda RX4 Wag</th><td>21.0 </td><td>160.0</td></tr>\n",
       "\t<tr><th scope=row>Datsun 710</th><td>22.8 </td><td>108.0</td></tr>\n",
       "\t<tr><th scope=row>Hornet 4 Drive</th><td>21.4 </td><td>258.0</td></tr>\n",
       "\t<tr><th scope=row>Hornet Sportabout</th><td>18.7 </td><td>360.0</td></tr>\n",
       "\t<tr><th scope=row>Valiant</th><td>18.1 </td><td>225.0</td></tr>\n",
       "\t<tr><th scope=row>Duster 360</th><td>14.3 </td><td>360.0</td></tr>\n",
       "\t<tr><th scope=row>Merc 240D</th><td>24.4 </td><td>146.7</td></tr>\n",
       "\t<tr><th scope=row>Merc 230</th><td>22.8 </td><td>140.8</td></tr>\n",
       "\t<tr><th scope=row>Merc 280</th><td>19.2 </td><td>167.6</td></tr>\n",
       "\t<tr><th scope=row>Merc 280C</th><td>17.8 </td><td>167.6</td></tr>\n",
       "\t<tr><th scope=row>Merc 450SE</th><td>16.4 </td><td>275.8</td></tr>\n",
       "\t<tr><th scope=row>Merc 450SL</th><td>17.3 </td><td>275.8</td></tr>\n",
       "\t<tr><th scope=row>Merc 450SLC</th><td>15.2 </td><td>275.8</td></tr>\n",
       "\t<tr><th scope=row>Cadillac Fleetwood</th><td>10.4 </td><td>472.0</td></tr>\n",
       "\t<tr><th scope=row>Lincoln Continental</th><td>10.4 </td><td>460.0</td></tr>\n",
       "\t<tr><th scope=row>Chrysler Imperial</th><td>14.7 </td><td>440.0</td></tr>\n",
       "\t<tr><th scope=row>Fiat 128</th><td>32.4 </td><td> 78.7</td></tr>\n",
       "\t<tr><th scope=row>Honda Civic</th><td>30.4 </td><td> 75.7</td></tr>\n",
       "\t<tr><th scope=row>Toyota Corolla</th><td>33.9 </td><td> 71.1</td></tr>\n",
       "\t<tr><th scope=row>Toyota Corona</th><td>21.5 </td><td>120.1</td></tr>\n",
       "\t<tr><th scope=row>Dodge Challenger</th><td>15.5 </td><td>318.0</td></tr>\n",
       "\t<tr><th scope=row>AMC Javelin</th><td>15.2 </td><td>304.0</td></tr>\n",
       "\t<tr><th scope=row>Camaro Z28</th><td>13.3 </td><td>350.0</td></tr>\n",
       "\t<tr><th scope=row>Pontiac Firebird</th><td>19.2 </td><td>400.0</td></tr>\n",
       "\t<tr><th scope=row>Fiat X1-9</th><td>27.3 </td><td> 79.0</td></tr>\n",
       "\t<tr><th scope=row>Porsche 914-2</th><td>26.0 </td><td>120.3</td></tr>\n",
       "\t<tr><th scope=row>Lotus Europa</th><td>30.4 </td><td> 95.1</td></tr>\n",
       "\t<tr><th scope=row>Ford Pantera L</th><td>15.8 </td><td>351.0</td></tr>\n",
       "\t<tr><th scope=row>Ferrari Dino</th><td>19.7 </td><td>145.0</td></tr>\n",
       "\t<tr><th scope=row>Maserati Bora</th><td>15.0 </td><td>301.0</td></tr>\n",
       "\t<tr><th scope=row>Volvo 142E</th><td>21.4 </td><td>121.0</td></tr>\n",
       "</tbody>\n",
       "</table>\n"
      ],
      "text/latex": [
       "\\begin{tabular}{r|ll}\n",
       "  & mpg & disp\\\\\n",
       "\\hline\n",
       "\tMazda RX4 & 21.0  & 160.0\\\\\n",
       "\tMazda RX4 Wag & 21.0  & 160.0\\\\\n",
       "\tDatsun 710 & 22.8  & 108.0\\\\\n",
       "\tHornet 4 Drive & 21.4  & 258.0\\\\\n",
       "\tHornet Sportabout & 18.7  & 360.0\\\\\n",
       "\tValiant & 18.1  & 225.0\\\\\n",
       "\tDuster 360 & 14.3  & 360.0\\\\\n",
       "\tMerc 240D & 24.4  & 146.7\\\\\n",
       "\tMerc 230 & 22.8  & 140.8\\\\\n",
       "\tMerc 280 & 19.2  & 167.6\\\\\n",
       "\tMerc 280C & 17.8  & 167.6\\\\\n",
       "\tMerc 450SE & 16.4  & 275.8\\\\\n",
       "\tMerc 450SL & 17.3  & 275.8\\\\\n",
       "\tMerc 450SLC & 15.2  & 275.8\\\\\n",
       "\tCadillac Fleetwood & 10.4  & 472.0\\\\\n",
       "\tLincoln Continental & 10.4  & 460.0\\\\\n",
       "\tChrysler Imperial & 14.7  & 440.0\\\\\n",
       "\tFiat 128 & 32.4  &  78.7\\\\\n",
       "\tHonda Civic & 30.4  &  75.7\\\\\n",
       "\tToyota Corolla & 33.9  &  71.1\\\\\n",
       "\tToyota Corona & 21.5  & 120.1\\\\\n",
       "\tDodge Challenger & 15.5  & 318.0\\\\\n",
       "\tAMC Javelin & 15.2  & 304.0\\\\\n",
       "\tCamaro Z28 & 13.3  & 350.0\\\\\n",
       "\tPontiac Firebird & 19.2  & 400.0\\\\\n",
       "\tFiat X1-9 & 27.3  &  79.0\\\\\n",
       "\tPorsche 914-2 & 26.0  & 120.3\\\\\n",
       "\tLotus Europa & 30.4  &  95.1\\\\\n",
       "\tFord Pantera L & 15.8  & 351.0\\\\\n",
       "\tFerrari Dino & 19.7  & 145.0\\\\\n",
       "\tMaserati Bora & 15.0  & 301.0\\\\\n",
       "\tVolvo 142E & 21.4  & 121.0\\\\\n",
       "\\end{tabular}\n"
      ],
      "text/markdown": [
       "\n",
       "| <!--/--> | mpg | disp | \n",
       "|---|---|---|---|---|---|---|---|---|---|---|---|---|---|---|---|---|---|---|---|---|---|---|---|---|---|---|---|---|---|---|---|\n",
       "| Mazda RX4 | 21.0  | 160.0 | \n",
       "| Mazda RX4 Wag | 21.0  | 160.0 | \n",
       "| Datsun 710 | 22.8  | 108.0 | \n",
       "| Hornet 4 Drive | 21.4  | 258.0 | \n",
       "| Hornet Sportabout | 18.7  | 360.0 | \n",
       "| Valiant | 18.1  | 225.0 | \n",
       "| Duster 360 | 14.3  | 360.0 | \n",
       "| Merc 240D | 24.4  | 146.7 | \n",
       "| Merc 230 | 22.8  | 140.8 | \n",
       "| Merc 280 | 19.2  | 167.6 | \n",
       "| Merc 280C | 17.8  | 167.6 | \n",
       "| Merc 450SE | 16.4  | 275.8 | \n",
       "| Merc 450SL | 17.3  | 275.8 | \n",
       "| Merc 450SLC | 15.2  | 275.8 | \n",
       "| Cadillac Fleetwood | 10.4  | 472.0 | \n",
       "| Lincoln Continental | 10.4  | 460.0 | \n",
       "| Chrysler Imperial | 14.7  | 440.0 | \n",
       "| Fiat 128 | 32.4  |  78.7 | \n",
       "| Honda Civic | 30.4  |  75.7 | \n",
       "| Toyota Corolla | 33.9  |  71.1 | \n",
       "| Toyota Corona | 21.5  | 120.1 | \n",
       "| Dodge Challenger | 15.5  | 318.0 | \n",
       "| AMC Javelin | 15.2  | 304.0 | \n",
       "| Camaro Z28 | 13.3  | 350.0 | \n",
       "| Pontiac Firebird | 19.2  | 400.0 | \n",
       "| Fiat X1-9 | 27.3  |  79.0 | \n",
       "| Porsche 914-2 | 26.0  | 120.3 | \n",
       "| Lotus Europa | 30.4  |  95.1 | \n",
       "| Ford Pantera L | 15.8  | 351.0 | \n",
       "| Ferrari Dino | 19.7  | 145.0 | \n",
       "| Maserati Bora | 15.0  | 301.0 | \n",
       "| Volvo 142E | 21.4  | 121.0 | \n",
       "\n",
       "\n"
      ],
      "text/plain": [
       "                    mpg  disp \n",
       "Mazda RX4           21.0 160.0\n",
       "Mazda RX4 Wag       21.0 160.0\n",
       "Datsun 710          22.8 108.0\n",
       "Hornet 4 Drive      21.4 258.0\n",
       "Hornet Sportabout   18.7 360.0\n",
       "Valiant             18.1 225.0\n",
       "Duster 360          14.3 360.0\n",
       "Merc 240D           24.4 146.7\n",
       "Merc 230            22.8 140.8\n",
       "Merc 280            19.2 167.6\n",
       "Merc 280C           17.8 167.6\n",
       "Merc 450SE          16.4 275.8\n",
       "Merc 450SL          17.3 275.8\n",
       "Merc 450SLC         15.2 275.8\n",
       "Cadillac Fleetwood  10.4 472.0\n",
       "Lincoln Continental 10.4 460.0\n",
       "Chrysler Imperial   14.7 440.0\n",
       "Fiat 128            32.4  78.7\n",
       "Honda Civic         30.4  75.7\n",
       "Toyota Corolla      33.9  71.1\n",
       "Toyota Corona       21.5 120.1\n",
       "Dodge Challenger    15.5 318.0\n",
       "AMC Javelin         15.2 304.0\n",
       "Camaro Z28          13.3 350.0\n",
       "Pontiac Firebird    19.2 400.0\n",
       "Fiat X1-9           27.3  79.0\n",
       "Porsche 914-2       26.0 120.3\n",
       "Lotus Europa        30.4  95.1\n",
       "Ford Pantera L      15.8 351.0\n",
       "Ferrari Dino        19.7 145.0\n",
       "Maserati Bora       15.0 301.0\n",
       "Volvo 142E          21.4 121.0"
      ]
     },
     "metadata": {},
     "output_type": "display_data"
    }
   ],
   "source": [
    "mtcars[c(1,3),] # selecting 1st and 3rd rows in data frame\n",
    "mtcars[, c(1,3)] # selecting 1st and 3rd columns in data frame"
   ]
  },
  {
   "cell_type": "markdown",
   "metadata": {},
   "source": [
    "## The attach() and detach() Functions"
   ]
  },
  {
   "cell_type": "code",
   "execution_count": 100,
   "metadata": {},
   "outputs": [
    {
     "data": {
      "text/html": [
       "<ol class=list-inline>\n",
       "\t<li>21</li>\n",
       "\t<li>21</li>\n",
       "\t<li>22.8</li>\n",
       "\t<li>21.4</li>\n",
       "\t<li>18.7</li>\n",
       "\t<li>18.1</li>\n",
       "\t<li>14.3</li>\n",
       "\t<li>24.4</li>\n",
       "\t<li>22.8</li>\n",
       "\t<li>19.2</li>\n",
       "\t<li>17.8</li>\n",
       "\t<li>16.4</li>\n",
       "\t<li>17.3</li>\n",
       "\t<li>15.2</li>\n",
       "\t<li>10.4</li>\n",
       "\t<li>10.4</li>\n",
       "\t<li>14.7</li>\n",
       "\t<li>32.4</li>\n",
       "\t<li>30.4</li>\n",
       "\t<li>33.9</li>\n",
       "\t<li>21.5</li>\n",
       "\t<li>15.5</li>\n",
       "\t<li>15.2</li>\n",
       "\t<li>13.3</li>\n",
       "\t<li>19.2</li>\n",
       "\t<li>27.3</li>\n",
       "\t<li>26</li>\n",
       "\t<li>30.4</li>\n",
       "\t<li>15.8</li>\n",
       "\t<li>19.7</li>\n",
       "\t<li>15</li>\n",
       "\t<li>21.4</li>\n",
       "</ol>\n"
      ],
      "text/latex": [
       "\\begin{enumerate*}\n",
       "\\item 21\n",
       "\\item 21\n",
       "\\item 22.8\n",
       "\\item 21.4\n",
       "\\item 18.7\n",
       "\\item 18.1\n",
       "\\item 14.3\n",
       "\\item 24.4\n",
       "\\item 22.8\n",
       "\\item 19.2\n",
       "\\item 17.8\n",
       "\\item 16.4\n",
       "\\item 17.3\n",
       "\\item 15.2\n",
       "\\item 10.4\n",
       "\\item 10.4\n",
       "\\item 14.7\n",
       "\\item 32.4\n",
       "\\item 30.4\n",
       "\\item 33.9\n",
       "\\item 21.5\n",
       "\\item 15.5\n",
       "\\item 15.2\n",
       "\\item 13.3\n",
       "\\item 19.2\n",
       "\\item 27.3\n",
       "\\item 26\n",
       "\\item 30.4\n",
       "\\item 15.8\n",
       "\\item 19.7\n",
       "\\item 15\n",
       "\\item 21.4\n",
       "\\end{enumerate*}\n"
      ],
      "text/markdown": [
       "1. 21\n",
       "2. 21\n",
       "3. 22.8\n",
       "4. 21.4\n",
       "5. 18.7\n",
       "6. 18.1\n",
       "7. 14.3\n",
       "8. 24.4\n",
       "9. 22.8\n",
       "10. 19.2\n",
       "11. 17.8\n",
       "12. 16.4\n",
       "13. 17.3\n",
       "14. 15.2\n",
       "15. 10.4\n",
       "16. 10.4\n",
       "17. 14.7\n",
       "18. 32.4\n",
       "19. 30.4\n",
       "20. 33.9\n",
       "21. 21.5\n",
       "22. 15.5\n",
       "23. 15.2\n",
       "24. 13.3\n",
       "25. 19.2\n",
       "26. 27.3\n",
       "27. 26\n",
       "28. 30.4\n",
       "29. 15.8\n",
       "30. 19.7\n",
       "31. 15\n",
       "32. 21.4\n",
       "\n",
       "\n"
      ],
      "text/plain": [
       " [1] 21.0 21.0 22.8 21.4 18.7 18.1 14.3 24.4 22.8 19.2 17.8 16.4 17.3 15.2 10.4\n",
       "[16] 10.4 14.7 32.4 30.4 33.9 21.5 15.5 15.2 13.3 19.2 27.3 26.0 30.4 15.8 19.7\n",
       "[31] 15.0 21.4"
      ]
     },
     "metadata": {},
     "output_type": "display_data"
    },
    {
     "name": "stderr",
     "output_type": "stream",
     "text": [
      "The following objects are masked _by_ .GlobalEnv:\n",
      "\n",
      "    hp, mpg, wt\n",
      "\n"
     ]
    },
    {
     "data": {
      "text/html": [
       "<ol class=list-inline>\n",
       "\t<li>21</li>\n",
       "\t<li>21</li>\n",
       "\t<li>22.8</li>\n",
       "\t<li>21.4</li>\n",
       "\t<li>18.7</li>\n",
       "\t<li>18.1</li>\n",
       "\t<li>14.3</li>\n",
       "\t<li>24.4</li>\n",
       "\t<li>22.8</li>\n",
       "\t<li>19.2</li>\n",
       "\t<li>17.8</li>\n",
       "\t<li>16.4</li>\n",
       "\t<li>17.3</li>\n",
       "\t<li>15.2</li>\n",
       "\t<li>10.4</li>\n",
       "\t<li>10.4</li>\n",
       "\t<li>14.7</li>\n",
       "\t<li>32.4</li>\n",
       "\t<li>30.4</li>\n",
       "\t<li>33.9</li>\n",
       "\t<li>21.5</li>\n",
       "\t<li>15.5</li>\n",
       "\t<li>15.2</li>\n",
       "\t<li>13.3</li>\n",
       "\t<li>19.2</li>\n",
       "\t<li>27.3</li>\n",
       "\t<li>26</li>\n",
       "\t<li>30.4</li>\n",
       "\t<li>15.8</li>\n",
       "\t<li>19.7</li>\n",
       "\t<li>15</li>\n",
       "\t<li>21.4</li>\n",
       "</ol>\n"
      ],
      "text/latex": [
       "\\begin{enumerate*}\n",
       "\\item 21\n",
       "\\item 21\n",
       "\\item 22.8\n",
       "\\item 21.4\n",
       "\\item 18.7\n",
       "\\item 18.1\n",
       "\\item 14.3\n",
       "\\item 24.4\n",
       "\\item 22.8\n",
       "\\item 19.2\n",
       "\\item 17.8\n",
       "\\item 16.4\n",
       "\\item 17.3\n",
       "\\item 15.2\n",
       "\\item 10.4\n",
       "\\item 10.4\n",
       "\\item 14.7\n",
       "\\item 32.4\n",
       "\\item 30.4\n",
       "\\item 33.9\n",
       "\\item 21.5\n",
       "\\item 15.5\n",
       "\\item 15.2\n",
       "\\item 13.3\n",
       "\\item 19.2\n",
       "\\item 27.3\n",
       "\\item 26\n",
       "\\item 30.4\n",
       "\\item 15.8\n",
       "\\item 19.7\n",
       "\\item 15\n",
       "\\item 21.4\n",
       "\\end{enumerate*}\n"
      ],
      "text/markdown": [
       "1. 21\n",
       "2. 21\n",
       "3. 22.8\n",
       "4. 21.4\n",
       "5. 18.7\n",
       "6. 18.1\n",
       "7. 14.3\n",
       "8. 24.4\n",
       "9. 22.8\n",
       "10. 19.2\n",
       "11. 17.8\n",
       "12. 16.4\n",
       "13. 17.3\n",
       "14. 15.2\n",
       "15. 10.4\n",
       "16. 10.4\n",
       "17. 14.7\n",
       "18. 32.4\n",
       "19. 30.4\n",
       "20. 33.9\n",
       "21. 21.5\n",
       "22. 15.5\n",
       "23. 15.2\n",
       "24. 13.3\n",
       "25. 19.2\n",
       "26. 27.3\n",
       "27. 26\n",
       "28. 30.4\n",
       "29. 15.8\n",
       "30. 19.7\n",
       "31. 15\n",
       "32. 21.4\n",
       "\n",
       "\n"
      ],
      "text/plain": [
       " [1] 21.0 21.0 22.8 21.4 18.7 18.1 14.3 24.4 22.8 19.2 17.8 16.4 17.3 15.2 10.4\n",
       "[16] 10.4 14.7 32.4 30.4 33.9 21.5 15.5 15.2 13.3 19.2 27.3 26.0 30.4 15.8 19.7\n",
       "[31] 15.0 21.4"
      ]
     },
     "metadata": {},
     "output_type": "display_data"
    }
   ],
   "source": [
    "#mpg            # uncomment to see object 'mpg' not found error\n",
    "mtcars$mpg\n",
    "attach(mtcars)\n",
    "mpg\n",
    "detach(mtcars)\n",
    "#mpg            # uncomment to see object 'mpg' not found error"
   ]
  },
  {
   "cell_type": "markdown",
   "metadata": {
    "collapsed": true
   },
   "source": [
    "## Sampling"
   ]
  },
  {
   "cell_type": "code",
   "execution_count": 101,
   "metadata": {},
   "outputs": [
    {
     "data": {
      "text/html": [
       "<ol class=list-inline>\n",
       "\t<li>9</li>\n",
       "\t<li>1</li>\n",
       "\t<li>9</li>\n",
       "\t<li>10</li>\n",
       "\t<li>9</li>\n",
       "\t<li>10</li>\n",
       "\t<li>4</li>\n",
       "</ol>\n"
      ],
      "text/latex": [
       "\\begin{enumerate*}\n",
       "\\item 9\n",
       "\\item 1\n",
       "\\item 9\n",
       "\\item 10\n",
       "\\item 9\n",
       "\\item 10\n",
       "\\item 4\n",
       "\\end{enumerate*}\n"
      ],
      "text/markdown": [
       "1. 9\n",
       "2. 1\n",
       "3. 9\n",
       "4. 10\n",
       "5. 9\n",
       "6. 10\n",
       "7. 4\n",
       "\n",
       "\n"
      ],
      "text/plain": [
       "[1]  9  1  9 10  9 10  4"
      ]
     },
     "metadata": {},
     "output_type": "display_data"
    },
    {
     "data": {
      "text/html": [
       "<ol class=list-inline>\n",
       "\t<li>8</li>\n",
       "\t<li>6</li>\n",
       "\t<li>5</li>\n",
       "\t<li>1</li>\n",
       "\t<li>10</li>\n",
       "\t<li>4</li>\n",
       "\t<li>3</li>\n",
       "</ol>\n"
      ],
      "text/latex": [
       "\\begin{enumerate*}\n",
       "\\item 8\n",
       "\\item 6\n",
       "\\item 5\n",
       "\\item 1\n",
       "\\item 10\n",
       "\\item 4\n",
       "\\item 3\n",
       "\\end{enumerate*}\n"
      ],
      "text/markdown": [
       "1. 8\n",
       "2. 6\n",
       "3. 5\n",
       "4. 1\n",
       "5. 10\n",
       "6. 4\n",
       "7. 3\n",
       "\n",
       "\n"
      ],
      "text/plain": [
       "[1]  8  6  5  1 10  4  3"
      ]
     },
     "metadata": {},
     "output_type": "display_data"
    }
   ],
   "source": [
    "data <- c(1:10)\n",
    "sample(data, 7, replace = TRUE)  # allow duplicates\n",
    "sample(data, 7, replace = FALSE) # prevent duplicates"
   ]
  },
  {
   "cell_type": "markdown",
   "metadata": {},
   "source": [
    "## Using sample() for Generating Labels\n",
    "\n",
    "- LETTERS is a built-in constant containing uppercase letters\n",
    "- letters is a built-in constant containing lowercase letters\n",
    "- month.name is a built-in constant containing month names\n",
    "- pi is a built-in constant for 3.14159265358979"
   ]
  },
  {
   "cell_type": "code",
   "execution_count": 102,
   "metadata": {},
   "outputs": [
    {
     "data": {
      "text/html": [
       "<ol class=list-inline>\n",
       "\t<li>'Center A'</li>\n",
       "\t<li>'Center B'</li>\n",
       "\t<li>'Center A'</li>\n",
       "\t<li>'Center C'</li>\n",
       "\t<li>'Center C'</li>\n",
       "\t<li>'Center C'</li>\n",
       "\t<li>'Center B'</li>\n",
       "\t<li>'Center C'</li>\n",
       "\t<li>'Center B'</li>\n",
       "\t<li>'Center A'</li>\n",
       "</ol>\n"
      ],
      "text/latex": [
       "\\begin{enumerate*}\n",
       "\\item 'Center A'\n",
       "\\item 'Center B'\n",
       "\\item 'Center A'\n",
       "\\item 'Center C'\n",
       "\\item 'Center C'\n",
       "\\item 'Center C'\n",
       "\\item 'Center B'\n",
       "\\item 'Center C'\n",
       "\\item 'Center B'\n",
       "\\item 'Center A'\n",
       "\\end{enumerate*}\n"
      ],
      "text/markdown": [
       "1. 'Center A'\n",
       "2. 'Center B'\n",
       "3. 'Center A'\n",
       "4. 'Center C'\n",
       "5. 'Center C'\n",
       "6. 'Center C'\n",
       "7. 'Center B'\n",
       "8. 'Center C'\n",
       "9. 'Center B'\n",
       "10. 'Center A'\n",
       "\n",
       "\n"
      ],
      "text/plain": [
       " [1] \"Center A\" \"Center B\" \"Center A\" \"Center C\" \"Center C\" \"Center C\"\n",
       " [7] \"Center B\" \"Center C\" \"Center B\" \"Center A\""
      ]
     },
     "metadata": {},
     "output_type": "display_data"
    },
    {
     "data": {
      "text/html": [
       "<ol class=list-inline>\n",
       "\t<li>'Center a'</li>\n",
       "\t<li>'Center c'</li>\n",
       "\t<li>'Center d'</li>\n",
       "\t<li>'Center d'</li>\n",
       "\t<li>'Center b'</li>\n",
       "\t<li>'Center d'</li>\n",
       "\t<li>'Center b'</li>\n",
       "\t<li>'Center a'</li>\n",
       "\t<li>'Center d'</li>\n",
       "\t<li>'Center c'</li>\n",
       "</ol>\n"
      ],
      "text/latex": [
       "\\begin{enumerate*}\n",
       "\\item 'Center a'\n",
       "\\item 'Center c'\n",
       "\\item 'Center d'\n",
       "\\item 'Center d'\n",
       "\\item 'Center b'\n",
       "\\item 'Center d'\n",
       "\\item 'Center b'\n",
       "\\item 'Center a'\n",
       "\\item 'Center d'\n",
       "\\item 'Center c'\n",
       "\\end{enumerate*}\n"
      ],
      "text/markdown": [
       "1. 'Center a'\n",
       "2. 'Center c'\n",
       "3. 'Center d'\n",
       "4. 'Center d'\n",
       "5. 'Center b'\n",
       "6. 'Center d'\n",
       "7. 'Center b'\n",
       "8. 'Center a'\n",
       "9. 'Center d'\n",
       "10. 'Center c'\n",
       "\n",
       "\n"
      ],
      "text/plain": [
       " [1] \"Center a\" \"Center c\" \"Center d\" \"Center d\" \"Center b\" \"Center d\"\n",
       " [7] \"Center b\" \"Center a\" \"Center d\" \"Center c\""
      ]
     },
     "metadata": {},
     "output_type": "display_data"
    },
    {
     "data": {
      "text/html": [
       "<ol class=list-inline>\n",
       "\t<li>'A'</li>\n",
       "\t<li>'B'</li>\n",
       "\t<li>'C'</li>\n",
       "\t<li>'D'</li>\n",
       "\t<li>'E'</li>\n",
       "\t<li>'F'</li>\n",
       "\t<li>'G'</li>\n",
       "\t<li>'H'</li>\n",
       "\t<li>'I'</li>\n",
       "\t<li>'J'</li>\n",
       "\t<li>'K'</li>\n",
       "\t<li>'L'</li>\n",
       "\t<li>'M'</li>\n",
       "\t<li>'N'</li>\n",
       "\t<li>'O'</li>\n",
       "\t<li>'P'</li>\n",
       "\t<li>'Q'</li>\n",
       "\t<li>'R'</li>\n",
       "\t<li>'S'</li>\n",
       "\t<li>'T'</li>\n",
       "\t<li>'U'</li>\n",
       "\t<li>'V'</li>\n",
       "\t<li>'W'</li>\n",
       "\t<li>'X'</li>\n",
       "\t<li>'Y'</li>\n",
       "\t<li>'Z'</li>\n",
       "</ol>\n"
      ],
      "text/latex": [
       "\\begin{enumerate*}\n",
       "\\item 'A'\n",
       "\\item 'B'\n",
       "\\item 'C'\n",
       "\\item 'D'\n",
       "\\item 'E'\n",
       "\\item 'F'\n",
       "\\item 'G'\n",
       "\\item 'H'\n",
       "\\item 'I'\n",
       "\\item 'J'\n",
       "\\item 'K'\n",
       "\\item 'L'\n",
       "\\item 'M'\n",
       "\\item 'N'\n",
       "\\item 'O'\n",
       "\\item 'P'\n",
       "\\item 'Q'\n",
       "\\item 'R'\n",
       "\\item 'S'\n",
       "\\item 'T'\n",
       "\\item 'U'\n",
       "\\item 'V'\n",
       "\\item 'W'\n",
       "\\item 'X'\n",
       "\\item 'Y'\n",
       "\\item 'Z'\n",
       "\\end{enumerate*}\n"
      ],
      "text/markdown": [
       "1. 'A'\n",
       "2. 'B'\n",
       "3. 'C'\n",
       "4. 'D'\n",
       "5. 'E'\n",
       "6. 'F'\n",
       "7. 'G'\n",
       "8. 'H'\n",
       "9. 'I'\n",
       "10. 'J'\n",
       "11. 'K'\n",
       "12. 'L'\n",
       "13. 'M'\n",
       "14. 'N'\n",
       "15. 'O'\n",
       "16. 'P'\n",
       "17. 'Q'\n",
       "18. 'R'\n",
       "19. 'S'\n",
       "20. 'T'\n",
       "21. 'U'\n",
       "22. 'V'\n",
       "23. 'W'\n",
       "24. 'X'\n",
       "25. 'Y'\n",
       "26. 'Z'\n",
       "\n",
       "\n"
      ],
      "text/plain": [
       " [1] \"A\" \"B\" \"C\" \"D\" \"E\" \"F\" \"G\" \"H\" \"I\" \"J\" \"K\" \"L\" \"M\" \"N\" \"O\" \"P\" \"Q\" \"R\" \"S\"\n",
       "[20] \"T\" \"U\" \"V\" \"W\" \"X\" \"Y\" \"Z\""
      ]
     },
     "metadata": {},
     "output_type": "display_data"
    },
    {
     "data": {
      "text/html": [
       "<ol class=list-inline>\n",
       "\t<li>'a'</li>\n",
       "\t<li>'b'</li>\n",
       "\t<li>'c'</li>\n",
       "\t<li>'d'</li>\n",
       "\t<li>'e'</li>\n",
       "\t<li>'f'</li>\n",
       "\t<li>'g'</li>\n",
       "\t<li>'h'</li>\n",
       "\t<li>'i'</li>\n",
       "\t<li>'j'</li>\n",
       "\t<li>'k'</li>\n",
       "\t<li>'l'</li>\n",
       "\t<li>'m'</li>\n",
       "\t<li>'n'</li>\n",
       "\t<li>'o'</li>\n",
       "\t<li>'p'</li>\n",
       "\t<li>'q'</li>\n",
       "\t<li>'r'</li>\n",
       "\t<li>'s'</li>\n",
       "\t<li>'t'</li>\n",
       "\t<li>'u'</li>\n",
       "\t<li>'v'</li>\n",
       "\t<li>'w'</li>\n",
       "\t<li>'x'</li>\n",
       "\t<li>'y'</li>\n",
       "\t<li>'z'</li>\n",
       "</ol>\n"
      ],
      "text/latex": [
       "\\begin{enumerate*}\n",
       "\\item 'a'\n",
       "\\item 'b'\n",
       "\\item 'c'\n",
       "\\item 'd'\n",
       "\\item 'e'\n",
       "\\item 'f'\n",
       "\\item 'g'\n",
       "\\item 'h'\n",
       "\\item 'i'\n",
       "\\item 'j'\n",
       "\\item 'k'\n",
       "\\item 'l'\n",
       "\\item 'm'\n",
       "\\item 'n'\n",
       "\\item 'o'\n",
       "\\item 'p'\n",
       "\\item 'q'\n",
       "\\item 'r'\n",
       "\\item 's'\n",
       "\\item 't'\n",
       "\\item 'u'\n",
       "\\item 'v'\n",
       "\\item 'w'\n",
       "\\item 'x'\n",
       "\\item 'y'\n",
       "\\item 'z'\n",
       "\\end{enumerate*}\n"
      ],
      "text/markdown": [
       "1. 'a'\n",
       "2. 'b'\n",
       "3. 'c'\n",
       "4. 'd'\n",
       "5. 'e'\n",
       "6. 'f'\n",
       "7. 'g'\n",
       "8. 'h'\n",
       "9. 'i'\n",
       "10. 'j'\n",
       "11. 'k'\n",
       "12. 'l'\n",
       "13. 'm'\n",
       "14. 'n'\n",
       "15. 'o'\n",
       "16. 'p'\n",
       "17. 'q'\n",
       "18. 'r'\n",
       "19. 's'\n",
       "20. 't'\n",
       "21. 'u'\n",
       "22. 'v'\n",
       "23. 'w'\n",
       "24. 'x'\n",
       "25. 'y'\n",
       "26. 'z'\n",
       "\n",
       "\n"
      ],
      "text/plain": [
       " [1] \"a\" \"b\" \"c\" \"d\" \"e\" \"f\" \"g\" \"h\" \"i\" \"j\" \"k\" \"l\" \"m\" \"n\" \"o\" \"p\" \"q\" \"r\" \"s\"\n",
       "[20] \"t\" \"u\" \"v\" \"w\" \"x\" \"y\" \"z\""
      ]
     },
     "metadata": {},
     "output_type": "display_data"
    },
    {
     "data": {
      "text/html": [
       "<ol class=list-inline>\n",
       "\t<li>'January'</li>\n",
       "\t<li>'February'</li>\n",
       "\t<li>'March'</li>\n",
       "\t<li>'April'</li>\n",
       "\t<li>'May'</li>\n",
       "\t<li>'June'</li>\n",
       "\t<li>'July'</li>\n",
       "\t<li>'August'</li>\n",
       "\t<li>'September'</li>\n",
       "\t<li>'October'</li>\n",
       "\t<li>'November'</li>\n",
       "\t<li>'December'</li>\n",
       "</ol>\n"
      ],
      "text/latex": [
       "\\begin{enumerate*}\n",
       "\\item 'January'\n",
       "\\item 'February'\n",
       "\\item 'March'\n",
       "\\item 'April'\n",
       "\\item 'May'\n",
       "\\item 'June'\n",
       "\\item 'July'\n",
       "\\item 'August'\n",
       "\\item 'September'\n",
       "\\item 'October'\n",
       "\\item 'November'\n",
       "\\item 'December'\n",
       "\\end{enumerate*}\n"
      ],
      "text/markdown": [
       "1. 'January'\n",
       "2. 'February'\n",
       "3. 'March'\n",
       "4. 'April'\n",
       "5. 'May'\n",
       "6. 'June'\n",
       "7. 'July'\n",
       "8. 'August'\n",
       "9. 'September'\n",
       "10. 'October'\n",
       "11. 'November'\n",
       "12. 'December'\n",
       "\n",
       "\n"
      ],
      "text/plain": [
       " [1] \"January\"   \"February\"  \"March\"     \"April\"     \"May\"       \"June\"     \n",
       " [7] \"July\"      \"August\"    \"September\" \"October\"   \"November\"  \"December\" "
      ]
     },
     "metadata": {},
     "output_type": "display_data"
    },
    {
     "data": {
      "text/html": [
       "3.14159265358979"
      ],
      "text/latex": [
       "3.14159265358979"
      ],
      "text/markdown": [
       "3.14159265358979"
      ],
      "text/plain": [
       "[1] 3.141593"
      ]
     },
     "metadata": {},
     "output_type": "display_data"
    }
   ],
   "source": [
    "sample(paste(\"Center\", LETTERS[1:4]), 10, replace = TRUE)\n",
    "sample(paste(\"Center\", letters[1:4]), 10, replace = TRUE)\n",
    "\n",
    "LETTERS\n",
    "letters\n",
    "month.name\n",
    "pi"
   ]
  },
  {
   "cell_type": "markdown",
   "metadata": {},
   "source": [
    "## Set Operations\n",
    "\n",
    "- union()\n",
    "- intersect()\n",
    "- setdiff()\n",
    "- setequal()\n",
    "- is.element()"
   ]
  },
  {
   "cell_type": "code",
   "execution_count": 103,
   "metadata": {},
   "outputs": [
    {
     "data": {
      "text/html": [
       "TRUE"
      ],
      "text/latex": [
       "TRUE"
      ],
      "text/markdown": [
       "TRUE"
      ],
      "text/plain": [
       "[1] TRUE"
      ]
     },
     "metadata": {},
     "output_type": "display_data"
    },
    {
     "data": {
      "text/html": [
       "FALSE"
      ],
      "text/latex": [
       "FALSE"
      ],
      "text/markdown": [
       "FALSE"
      ],
      "text/plain": [
       "[1] FALSE"
      ]
     },
     "metadata": {},
     "output_type": "display_data"
    },
    {
     "data": {
      "text/html": [
       "<ol class=list-inline>\n",
       "\t<li>'f'</li>\n",
       "\t<li>'b'</li>\n",
       "\t<li>'n'</li>\n",
       "\t<li>'j'</li>\n",
       "\t<li>'m'</li>\n",
       "\t<li>'u'</li>\n",
       "\t<li>'s'</li>\n",
       "\t<li>'l'</li>\n",
       "\t<li>'t'</li>\n",
       "\t<li>'r'</li>\n",
       "</ol>\n"
      ],
      "text/latex": [
       "\\begin{enumerate*}\n",
       "\\item 'f'\n",
       "\\item 'b'\n",
       "\\item 'n'\n",
       "\\item 'j'\n",
       "\\item 'm'\n",
       "\\item 'u'\n",
       "\\item 's'\n",
       "\\item 'l'\n",
       "\\item 't'\n",
       "\\item 'r'\n",
       "\\end{enumerate*}\n"
      ],
      "text/markdown": [
       "1. 'f'\n",
       "2. 'b'\n",
       "3. 'n'\n",
       "4. 'j'\n",
       "5. 'm'\n",
       "6. 'u'\n",
       "7. 's'\n",
       "8. 'l'\n",
       "9. 't'\n",
       "10. 'r'\n",
       "\n",
       "\n"
      ],
      "text/plain": [
       " [1] \"f\" \"b\" \"n\" \"j\" \"m\" \"u\" \"s\" \"l\" \"t\" \"r\""
      ]
     },
     "metadata": {},
     "output_type": "display_data"
    },
    {
     "data": {
      "text/html": [
       "<ol class=list-inline>\n",
       "\t<li>'c'</li>\n",
       "\t<li>'d'</li>\n",
       "\t<li>'l'</li>\n",
       "\t<li>'b'</li>\n",
       "\t<li>'y'</li>\n",
       "\t<li>'h'</li>\n",
       "\t<li>'v'</li>\n",
       "\t<li>'k'</li>\n",
       "\t<li>'q'</li>\n",
       "\t<li>'z'</li>\n",
       "</ol>\n"
      ],
      "text/latex": [
       "\\begin{enumerate*}\n",
       "\\item 'c'\n",
       "\\item 'd'\n",
       "\\item 'l'\n",
       "\\item 'b'\n",
       "\\item 'y'\n",
       "\\item 'h'\n",
       "\\item 'v'\n",
       "\\item 'k'\n",
       "\\item 'q'\n",
       "\\item 'z'\n",
       "\\end{enumerate*}\n"
      ],
      "text/markdown": [
       "1. 'c'\n",
       "2. 'd'\n",
       "3. 'l'\n",
       "4. 'b'\n",
       "5. 'y'\n",
       "6. 'h'\n",
       "7. 'v'\n",
       "8. 'k'\n",
       "9. 'q'\n",
       "10. 'z'\n",
       "\n",
       "\n"
      ],
      "text/plain": [
       " [1] \"c\" \"d\" \"l\" \"b\" \"y\" \"h\" \"v\" \"k\" \"q\" \"z\""
      ]
     },
     "metadata": {},
     "output_type": "display_data"
    },
    {
     "data": {
      "text/html": [
       "<ol class=list-inline>\n",
       "\t<li>'f'</li>\n",
       "\t<li>'b'</li>\n",
       "\t<li>'n'</li>\n",
       "\t<li>'j'</li>\n",
       "\t<li>'m'</li>\n",
       "\t<li>'u'</li>\n",
       "\t<li>'s'</li>\n",
       "\t<li>'l'</li>\n",
       "\t<li>'t'</li>\n",
       "\t<li>'r'</li>\n",
       "\t<li>'c'</li>\n",
       "\t<li>'d'</li>\n",
       "\t<li>'y'</li>\n",
       "\t<li>'h'</li>\n",
       "\t<li>'v'</li>\n",
       "\t<li>'k'</li>\n",
       "\t<li>'q'</li>\n",
       "\t<li>'z'</li>\n",
       "</ol>\n"
      ],
      "text/latex": [
       "\\begin{enumerate*}\n",
       "\\item 'f'\n",
       "\\item 'b'\n",
       "\\item 'n'\n",
       "\\item 'j'\n",
       "\\item 'm'\n",
       "\\item 'u'\n",
       "\\item 's'\n",
       "\\item 'l'\n",
       "\\item 't'\n",
       "\\item 'r'\n",
       "\\item 'c'\n",
       "\\item 'd'\n",
       "\\item 'y'\n",
       "\\item 'h'\n",
       "\\item 'v'\n",
       "\\item 'k'\n",
       "\\item 'q'\n",
       "\\item 'z'\n",
       "\\end{enumerate*}\n"
      ],
      "text/markdown": [
       "1. 'f'\n",
       "2. 'b'\n",
       "3. 'n'\n",
       "4. 'j'\n",
       "5. 'm'\n",
       "6. 'u'\n",
       "7. 's'\n",
       "8. 'l'\n",
       "9. 't'\n",
       "10. 'r'\n",
       "11. 'c'\n",
       "12. 'd'\n",
       "13. 'y'\n",
       "14. 'h'\n",
       "15. 'v'\n",
       "16. 'k'\n",
       "17. 'q'\n",
       "18. 'z'\n",
       "\n",
       "\n"
      ],
      "text/plain": [
       " [1] \"f\" \"b\" \"n\" \"j\" \"m\" \"u\" \"s\" \"l\" \"t\" \"r\" \"c\" \"d\" \"y\" \"h\" \"v\" \"k\" \"q\" \"z\""
      ]
     },
     "metadata": {},
     "output_type": "display_data"
    },
    {
     "data": {
      "text/html": [
       "<ol class=list-inline>\n",
       "\t<li>'b'</li>\n",
       "\t<li>'l'</li>\n",
       "</ol>\n"
      ],
      "text/latex": [
       "\\begin{enumerate*}\n",
       "\\item 'b'\n",
       "\\item 'l'\n",
       "\\end{enumerate*}\n"
      ],
      "text/markdown": [
       "1. 'b'\n",
       "2. 'l'\n",
       "\n",
       "\n"
      ],
      "text/plain": [
       "[1] \"b\" \"l\""
      ]
     },
     "metadata": {},
     "output_type": "display_data"
    },
    {
     "data": {
      "text/html": [
       "<ol class=list-inline>\n",
       "\t<li>'f'</li>\n",
       "\t<li>'n'</li>\n",
       "\t<li>'j'</li>\n",
       "\t<li>'m'</li>\n",
       "\t<li>'u'</li>\n",
       "\t<li>'s'</li>\n",
       "\t<li>'t'</li>\n",
       "\t<li>'r'</li>\n",
       "</ol>\n"
      ],
      "text/latex": [
       "\\begin{enumerate*}\n",
       "\\item 'f'\n",
       "\\item 'n'\n",
       "\\item 'j'\n",
       "\\item 'm'\n",
       "\\item 'u'\n",
       "\\item 's'\n",
       "\\item 't'\n",
       "\\item 'r'\n",
       "\\end{enumerate*}\n"
      ],
      "text/markdown": [
       "1. 'f'\n",
       "2. 'n'\n",
       "3. 'j'\n",
       "4. 'm'\n",
       "5. 'u'\n",
       "6. 's'\n",
       "7. 't'\n",
       "8. 'r'\n",
       "\n",
       "\n"
      ],
      "text/plain": [
       "[1] \"f\" \"n\" \"j\" \"m\" \"u\" \"s\" \"t\" \"r\""
      ]
     },
     "metadata": {},
     "output_type": "display_data"
    },
    {
     "data": {
      "text/html": [
       "FALSE"
      ],
      "text/latex": [
       "FALSE"
      ],
      "text/markdown": [
       "FALSE"
      ],
      "text/plain": [
       "[1] FALSE"
      ]
     },
     "metadata": {},
     "output_type": "display_data"
    },
    {
     "data": {
      "text/html": [
       "TRUE"
      ],
      "text/latex": [
       "TRUE"
      ],
      "text/markdown": [
       "TRUE"
      ],
      "text/plain": [
       "[1] TRUE"
      ]
     },
     "metadata": {},
     "output_type": "display_data"
    },
    {
     "data": {
      "text/html": [
       "TRUE"
      ],
      "text/latex": [
       "TRUE"
      ],
      "text/markdown": [
       "TRUE"
      ],
      "text/plain": [
       "[1] TRUE"
      ]
     },
     "metadata": {},
     "output_type": "display_data"
    },
    {
     "data": {
      "text/html": [
       "TRUE"
      ],
      "text/latex": [
       "TRUE"
      ],
      "text/markdown": [
       "TRUE"
      ],
      "text/plain": [
       "[1] TRUE"
      ]
     },
     "metadata": {},
     "output_type": "display_data"
    },
    {
     "data": {
      "text/html": [
       "FALSE"
      ],
      "text/latex": [
       "FALSE"
      ],
      "text/markdown": [
       "FALSE"
      ],
      "text/plain": [
       "[1] FALSE"
      ]
     },
     "metadata": {},
     "output_type": "display_data"
    },
    {
     "data": {
      "text/html": [
       "TRUE"
      ],
      "text/latex": [
       "TRUE"
      ],
      "text/markdown": [
       "TRUE"
      ],
      "text/plain": [
       "[1] TRUE"
      ]
     },
     "metadata": {},
     "output_type": "display_data"
    },
    {
     "data": {
      "text/html": [
       "FALSE"
      ],
      "text/latex": [
       "FALSE"
      ],
      "text/markdown": [
       "FALSE"
      ],
      "text/plain": [
       "[1] FALSE"
      ]
     },
     "metadata": {},
     "output_type": "display_data"
    }
   ],
   "source": [
    "setequal(c(1, 2, 3), c(1, 2, 3))\n",
    "setequal(c(1, 2, 3), c(1, 2, 4))\n",
    "s1 <- sample(letters, 10)\n",
    "s1\n",
    "s2 <- sample(letters, 10)\n",
    "s2\n",
    "u <- union(s1, s2)\n",
    "u\n",
    "i <- intersect(s1, s2)\n",
    "i\n",
    "d <- setdiff(s1, s2)\n",
    "d\n",
    "is.element('a', u)\n",
    "is.element('b', u)\n",
    "is.element('c', u)\n",
    "is.element('d', u)\n",
    "is.element('e', u)\n",
    "is.element('f', u)\n",
    "is.element('g', u)"
   ]
  },
  {
   "cell_type": "markdown",
   "metadata": {},
   "source": [
    "## The dplyr Package"
   ]
  },
  {
   "cell_type": "code",
   "execution_count": 104,
   "metadata": {},
   "outputs": [
    {
     "name": "stderr",
     "output_type": "stream",
     "text": [
      "Installing package into 'C:/Users/peterthor/Documents/R/win-library/3.4'\n",
      "(as 'lib' is unspecified)\n"
     ]
    },
    {
     "name": "stdout",
     "output_type": "stream",
     "text": [
      "package 'dplyr' successfully unpacked and MD5 sums checked\n",
      "\n",
      "The downloaded binary packages are in\n",
      "\tC:\\Users\\peterthor\\AppData\\Local\\Temp\\RtmpOMTqQo\\downloaded_packages\n"
     ]
    },
    {
     "name": "stderr",
     "output_type": "stream",
     "text": [
      "Warning message:\n",
      "\"package 'dplyr' was built under R version 3.4.4\"\n",
      "Attaching package: 'dplyr'\n",
      "\n",
      "The following objects are masked from 'package:stats':\n",
      "\n",
      "    filter, lag\n",
      "\n",
      "The following objects are masked from 'package:base':\n",
      "\n",
      "    intersect, setdiff, setequal, union\n",
      "\n",
      "Warning message:\n",
      "\"package 'bindrcpp' was built under R version 3.4.4\""
     ]
    },
    {
     "data": {
      "text/html": [
       "<table>\n",
       "<thead><tr><th scope=col>mpg</th><th scope=col>cyl</th><th scope=col>disp</th><th scope=col>hp</th><th scope=col>drat</th><th scope=col>wt</th><th scope=col>qsec</th><th scope=col>vs</th><th scope=col>am</th><th scope=col>gear</th><th scope=col>carb</th></tr></thead>\n",
       "<tbody>\n",
       "\t<tr><td>14.3 </td><td>8    </td><td>360  </td><td>245  </td><td>3.21 </td><td>3.570</td><td>15.84</td><td>0    </td><td>0    </td><td>3    </td><td>4    </td></tr>\n",
       "\t<tr><td>10.4 </td><td>8    </td><td>472  </td><td>205  </td><td>2.93 </td><td>5.250</td><td>17.98</td><td>0    </td><td>0    </td><td>3    </td><td>4    </td></tr>\n",
       "\t<tr><td>10.4 </td><td>8    </td><td>460  </td><td>215  </td><td>3.00 </td><td>5.424</td><td>17.82</td><td>0    </td><td>0    </td><td>3    </td><td>4    </td></tr>\n",
       "\t<tr><td>14.7 </td><td>8    </td><td>440  </td><td>230  </td><td>3.23 </td><td>5.345</td><td>17.42</td><td>0    </td><td>0    </td><td>3    </td><td>4    </td></tr>\n",
       "\t<tr><td>13.3 </td><td>8    </td><td>350  </td><td>245  </td><td>3.73 </td><td>3.840</td><td>15.41</td><td>0    </td><td>0    </td><td>3    </td><td>4    </td></tr>\n",
       "\t<tr><td>15.0 </td><td>8    </td><td>301  </td><td>335  </td><td>3.54 </td><td>3.570</td><td>14.60</td><td>0    </td><td>1    </td><td>5    </td><td>8    </td></tr>\n",
       "</tbody>\n",
       "</table>\n"
      ],
      "text/latex": [
       "\\begin{tabular}{r|lllllllllll}\n",
       " mpg & cyl & disp & hp & drat & wt & qsec & vs & am & gear & carb\\\\\n",
       "\\hline\n",
       "\t 14.3  & 8     & 360   & 245   & 3.21  & 3.570 & 15.84 & 0     & 0     & 3     & 4    \\\\\n",
       "\t 10.4  & 8     & 472   & 205   & 2.93  & 5.250 & 17.98 & 0     & 0     & 3     & 4    \\\\\n",
       "\t 10.4  & 8     & 460   & 215   & 3.00  & 5.424 & 17.82 & 0     & 0     & 3     & 4    \\\\\n",
       "\t 14.7  & 8     & 440   & 230   & 3.23  & 5.345 & 17.42 & 0     & 0     & 3     & 4    \\\\\n",
       "\t 13.3  & 8     & 350   & 245   & 3.73  & 3.840 & 15.41 & 0     & 0     & 3     & 4    \\\\\n",
       "\t 15.0  & 8     & 301   & 335   & 3.54  & 3.570 & 14.60 & 0     & 1     & 5     & 8    \\\\\n",
       "\\end{tabular}\n"
      ],
      "text/markdown": [
       "\n",
       "mpg | cyl | disp | hp | drat | wt | qsec | vs | am | gear | carb | \n",
       "|---|---|---|---|---|---|\n",
       "| 14.3  | 8     | 360   | 245   | 3.21  | 3.570 | 15.84 | 0     | 0     | 3     | 4     | \n",
       "| 10.4  | 8     | 472   | 205   | 2.93  | 5.250 | 17.98 | 0     | 0     | 3     | 4     | \n",
       "| 10.4  | 8     | 460   | 215   | 3.00  | 5.424 | 17.82 | 0     | 0     | 3     | 4     | \n",
       "| 14.7  | 8     | 440   | 230   | 3.23  | 5.345 | 17.42 | 0     | 0     | 3     | 4     | \n",
       "| 13.3  | 8     | 350   | 245   | 3.73  | 3.840 | 15.41 | 0     | 0     | 3     | 4     | \n",
       "| 15.0  | 8     | 301   | 335   | 3.54  | 3.570 | 14.60 | 0     | 1     | 5     | 8     | \n",
       "\n",
       "\n"
      ],
      "text/plain": [
       "  mpg  cyl disp hp  drat wt    qsec  vs am gear carb\n",
       "1 14.3 8   360  245 3.21 3.570 15.84 0  0  3    4   \n",
       "2 10.4 8   472  205 2.93 5.250 17.98 0  0  3    4   \n",
       "3 10.4 8   460  215 3.00 5.424 17.82 0  0  3    4   \n",
       "4 14.7 8   440  230 3.23 5.345 17.42 0  0  3    4   \n",
       "5 13.3 8   350  245 3.73 3.840 15.41 0  0  3    4   \n",
       "6 15.0 8   301  335 3.54 3.570 14.60 0  1  5    8   "
      ]
     },
     "metadata": {},
     "output_type": "display_data"
    }
   ],
   "source": [
    "install.packages(\"dplyr\", repos = \"http://cran.us.r-project.org\")\n",
    "library(dplyr)\n",
    "\n",
    "# The filter() function is like WHERE clause in SQL statements\n",
    "guzzlers <- dplyr::filter(mtcars, mpg <= 15)\n",
    "guzzlers"
   ]
  },
  {
   "cell_type": "markdown",
   "metadata": {},
   "source": [
    "## The search and searchpaths Functions"
   ]
  },
  {
   "cell_type": "code",
   "execution_count": 105,
   "metadata": {},
   "outputs": [
    {
     "data": {
      "text/html": [
       "<ol class=list-inline>\n",
       "\t<li>'.GlobalEnv'</li>\n",
       "\t<li>'package:bindrcpp'</li>\n",
       "\t<li>'package:dplyr'</li>\n",
       "\t<li>'jupyter:irkernel'</li>\n",
       "\t<li>'package:RevoUtils'</li>\n",
       "\t<li>'package:stats'</li>\n",
       "\t<li>'package:graphics'</li>\n",
       "\t<li>'package:grDevices'</li>\n",
       "\t<li>'package:utils'</li>\n",
       "\t<li>'package:datasets'</li>\n",
       "\t<li>'package:RevoUtilsMath'</li>\n",
       "\t<li>'package:methods'</li>\n",
       "\t<li>'Autoloads'</li>\n",
       "\t<li>'package:base'</li>\n",
       "</ol>\n"
      ],
      "text/latex": [
       "\\begin{enumerate*}\n",
       "\\item '.GlobalEnv'\n",
       "\\item 'package:bindrcpp'\n",
       "\\item 'package:dplyr'\n",
       "\\item 'jupyter:irkernel'\n",
       "\\item 'package:RevoUtils'\n",
       "\\item 'package:stats'\n",
       "\\item 'package:graphics'\n",
       "\\item 'package:grDevices'\n",
       "\\item 'package:utils'\n",
       "\\item 'package:datasets'\n",
       "\\item 'package:RevoUtilsMath'\n",
       "\\item 'package:methods'\n",
       "\\item 'Autoloads'\n",
       "\\item 'package:base'\n",
       "\\end{enumerate*}\n"
      ],
      "text/markdown": [
       "1. '.GlobalEnv'\n",
       "2. 'package:bindrcpp'\n",
       "3. 'package:dplyr'\n",
       "4. 'jupyter:irkernel'\n",
       "5. 'package:RevoUtils'\n",
       "6. 'package:stats'\n",
       "7. 'package:graphics'\n",
       "8. 'package:grDevices'\n",
       "9. 'package:utils'\n",
       "10. 'package:datasets'\n",
       "11. 'package:RevoUtilsMath'\n",
       "12. 'package:methods'\n",
       "13. 'Autoloads'\n",
       "14. 'package:base'\n",
       "\n",
       "\n"
      ],
      "text/plain": [
       " [1] \".GlobalEnv\"            \"package:bindrcpp\"      \"package:dplyr\"        \n",
       " [4] \"jupyter:irkernel\"      \"package:RevoUtils\"     \"package:stats\"        \n",
       " [7] \"package:graphics\"      \"package:grDevices\"     \"package:utils\"        \n",
       "[10] \"package:datasets\"      \"package:RevoUtilsMath\" \"package:methods\"      \n",
       "[13] \"Autoloads\"             \"package:base\"         "
      ]
     },
     "metadata": {},
     "output_type": "display_data"
    }
   ],
   "source": [
    "search()"
   ]
  },
  {
   "cell_type": "code",
   "execution_count": 106,
   "metadata": {},
   "outputs": [
    {
     "data": {
      "text/html": [
       "<ol class=list-inline>\n",
       "\t<li>'.GlobalEnv'</li>\n",
       "\t<li>'C:/Users/peterthor/Documents/R/win-library/3.4/bindrcpp'</li>\n",
       "\t<li>'C:/Users/peterthor/Documents/R/win-library/3.4/dplyr'</li>\n",
       "\t<li>'jupyter:irkernel'</li>\n",
       "\t<li>'C:/Users/peterthor/Anaconda3/Lib/R/library/RevoUtils'</li>\n",
       "\t<li>'C:/Users/peterthor/Anaconda3/Lib/R/library/stats'</li>\n",
       "\t<li>'C:/Users/peterthor/Anaconda3/Lib/R/library/graphics'</li>\n",
       "\t<li>'C:/Users/peterthor/Anaconda3/Lib/R/library/grDevices'</li>\n",
       "\t<li>'C:/Users/peterthor/Anaconda3/Lib/R/library/utils'</li>\n",
       "\t<li>'C:/Users/peterthor/Anaconda3/Lib/R/library/datasets'</li>\n",
       "\t<li>'C:/Users/peterthor/Anaconda3/Lib/R/library/RevoUtilsMath'</li>\n",
       "\t<li>'C:/Users/peterthor/Anaconda3/Lib/R/library/methods'</li>\n",
       "\t<li>'Autoloads'</li>\n",
       "\t<li>'C:/Users/peterthor/Anaconda3/lib/R/library/base'</li>\n",
       "</ol>\n"
      ],
      "text/latex": [
       "\\begin{enumerate*}\n",
       "\\item '.GlobalEnv'\n",
       "\\item 'C:/Users/peterthor/Documents/R/win-library/3.4/bindrcpp'\n",
       "\\item 'C:/Users/peterthor/Documents/R/win-library/3.4/dplyr'\n",
       "\\item 'jupyter:irkernel'\n",
       "\\item 'C:/Users/peterthor/Anaconda3/Lib/R/library/RevoUtils'\n",
       "\\item 'C:/Users/peterthor/Anaconda3/Lib/R/library/stats'\n",
       "\\item 'C:/Users/peterthor/Anaconda3/Lib/R/library/graphics'\n",
       "\\item 'C:/Users/peterthor/Anaconda3/Lib/R/library/grDevices'\n",
       "\\item 'C:/Users/peterthor/Anaconda3/Lib/R/library/utils'\n",
       "\\item 'C:/Users/peterthor/Anaconda3/Lib/R/library/datasets'\n",
       "\\item 'C:/Users/peterthor/Anaconda3/Lib/R/library/RevoUtilsMath'\n",
       "\\item 'C:/Users/peterthor/Anaconda3/Lib/R/library/methods'\n",
       "\\item 'Autoloads'\n",
       "\\item 'C:/Users/peterthor/Anaconda3/lib/R/library/base'\n",
       "\\end{enumerate*}\n"
      ],
      "text/markdown": [
       "1. '.GlobalEnv'\n",
       "2. 'C:/Users/peterthor/Documents/R/win-library/3.4/bindrcpp'\n",
       "3. 'C:/Users/peterthor/Documents/R/win-library/3.4/dplyr'\n",
       "4. 'jupyter:irkernel'\n",
       "5. 'C:/Users/peterthor/Anaconda3/Lib/R/library/RevoUtils'\n",
       "6. 'C:/Users/peterthor/Anaconda3/Lib/R/library/stats'\n",
       "7. 'C:/Users/peterthor/Anaconda3/Lib/R/library/graphics'\n",
       "8. 'C:/Users/peterthor/Anaconda3/Lib/R/library/grDevices'\n",
       "9. 'C:/Users/peterthor/Anaconda3/Lib/R/library/utils'\n",
       "10. 'C:/Users/peterthor/Anaconda3/Lib/R/library/datasets'\n",
       "11. 'C:/Users/peterthor/Anaconda3/Lib/R/library/RevoUtilsMath'\n",
       "12. 'C:/Users/peterthor/Anaconda3/Lib/R/library/methods'\n",
       "13. 'Autoloads'\n",
       "14. 'C:/Users/peterthor/Anaconda3/lib/R/library/base'\n",
       "\n",
       "\n"
      ],
      "text/plain": [
       " [1] \".GlobalEnv\"                                              \n",
       " [2] \"C:/Users/peterthor/Documents/R/win-library/3.4/bindrcpp\" \n",
       " [3] \"C:/Users/peterthor/Documents/R/win-library/3.4/dplyr\"    \n",
       " [4] \"jupyter:irkernel\"                                        \n",
       " [5] \"C:/Users/peterthor/Anaconda3/Lib/R/library/RevoUtils\"    \n",
       " [6] \"C:/Users/peterthor/Anaconda3/Lib/R/library/stats\"        \n",
       " [7] \"C:/Users/peterthor/Anaconda3/Lib/R/library/graphics\"     \n",
       " [8] \"C:/Users/peterthor/Anaconda3/Lib/R/library/grDevices\"    \n",
       " [9] \"C:/Users/peterthor/Anaconda3/Lib/R/library/utils\"        \n",
       "[10] \"C:/Users/peterthor/Anaconda3/Lib/R/library/datasets\"     \n",
       "[11] \"C:/Users/peterthor/Anaconda3/Lib/R/library/RevoUtilsMath\"\n",
       "[12] \"C:/Users/peterthor/Anaconda3/Lib/R/library/methods\"      \n",
       "[13] \"Autoloads\"                                               \n",
       "[14] \"C:/Users/peterthor/Anaconda3/lib/R/library/base\"         "
      ]
     },
     "metadata": {},
     "output_type": "display_data"
    }
   ],
   "source": [
    "searchpaths()"
   ]
  },
  {
   "cell_type": "markdown",
   "metadata": {},
   "source": [
    "## Handling Large Data Sets in R with the data.table Package"
   ]
  },
  {
   "cell_type": "code",
   "execution_count": 107,
   "metadata": {},
   "outputs": [
    {
     "name": "stderr",
     "output_type": "stream",
     "text": [
      "Installing package into 'C:/Users/peterthor/Documents/R/win-library/3.4'\n",
      "(as 'lib' is unspecified)\n"
     ]
    },
    {
     "name": "stdout",
     "output_type": "stream",
     "text": [
      "\n",
      "  There is a binary version available but the source version is later:\n",
      "           binary source needs_compilation\n",
      "data.table 1.11.6 1.11.8              TRUE\n",
      "\n",
      "  Binaries will be installed\n",
      "package 'data.table' successfully unpacked and MD5 sums checked\n",
      "\n",
      "The downloaded binary packages are in\n",
      "\tC:\\Users\\peterthor\\AppData\\Local\\Temp\\RtmpOMTqQo\\downloaded_packages\n"
     ]
    },
    {
     "name": "stderr",
     "output_type": "stream",
     "text": [
      "Warning message:\n",
      "\"package 'data.table' was built under R version 3.4.4\"\n",
      "Attaching package: 'data.table'\n",
      "\n",
      "The following objects are masked from 'package:dplyr':\n",
      "\n",
      "    between, first, last\n",
      "\n"
     ]
    }
   ],
   "source": [
    "install.packages(\"data.table\", repos = \"http://cran.us.r-project.org\")\n",
    "library(data.table)\n",
    "\n",
    "# ???"
   ]
  },
  {
   "cell_type": "markdown",
   "metadata": {},
   "source": [
    "## Data Visualization in R\n",
    "\n",
    "- barplot()\n",
    "- hist()\n",
    "- pie()"
   ]
  },
  {
   "cell_type": "code",
   "execution_count": 108,
   "metadata": {},
   "outputs": [
    {
     "data": {
      "image/png": "[encoded data removed]",
      "text/plain": [
       "plot without title"
      ]
     },
     "metadata": {},
     "output_type": "display_data"
    },
    {
     "data": {
      "image/png": "[encoded data removed]",
      "text/plain": [
       "plot without title"
      ]
     },
     "metadata": {},
     "output_type": "display_data"
    }
   ],
   "source": [
    "barplot(1:3)\n",
    "barplot(1:3, horiz=TRUE)"
   ]
  },
  {
   "cell_type": "markdown",
   "metadata": {},
   "source": [
    "## Using barplot() with Matrices Example"
   ]
  },
  {
   "cell_type": "code",
   "execution_count": 109,
   "metadata": {},
   "outputs": [
    {
     "name": "stdout",
     "output_type": "stream",
     "text": [
      "     [,1] [,2] [,3]\n",
      "[1,]    1    5    9\n",
      "[2,]    2    6   10\n",
      "[3,]    3    7   11\n",
      "[4,]    4    8   12\n"
     ]
    },
    {
     "data": {
      "image/png": "[encoded data removed]",
      "text/plain": [
       "plot without title"
      ]
     },
     "metadata": {},
     "output_type": "display_data"
    },
    {
     "data": {
      "image/png": "[encoded data removed]",
      "text/plain": [
       "plot without title"
      ]
     },
     "metadata": {},
     "output_type": "display_data"
    }
   ],
   "source": [
    "m <- matrix(1:12, 4, 3)\n",
    "print(m)\n",
    "barplot(m)              # stacked\n",
    "barplot(m, beside=TRUE) # juxtaposed"
   ]
  },
  {
   "cell_type": "markdown",
   "metadata": {},
   "source": [
    "## Customizing Plots"
   ]
  },
  {
   "cell_type": "code",
   "execution_count": 110,
   "metadata": {},
   "outputs": [
    {
     "data": {
      "image/png": "[encoded data removed]",
      "text/plain": [
       "plot without title"
      ]
     },
     "metadata": {},
     "output_type": "display_data"
    }
   ],
   "source": [
    "m <- matrix(1:12, 4, 3)\n",
    "barplot(m, col=c(\"blue\", \"green\", \"red\", \"yellow\"))"
   ]
  },
  {
   "cell_type": "code",
   "execution_count": 111,
   "metadata": {},
   "outputs": [
    {
     "data": {
      "image/png": "[encoded data removed]",
      "text/plain": [
       "Plot with title \"Cool Looking Data\""
      ]
     },
     "metadata": {},
     "output_type": "display_data"
    }
   ],
   "source": [
    "m <- matrix(1:12, 4, 3)\n",
    "barplot(m, main=\"Cool Looking Data\")"
   ]
  },
  {
   "cell_type": "code",
   "execution_count": 112,
   "metadata": {},
   "outputs": [
    {
     "data": {
      "image/png": "[encoded data removed]",
      "text/plain": [
       "plot without title"
      ]
     },
     "metadata": {},
     "output_type": "display_data"
    }
   ],
   "source": [
    "m <- matrix(1:12, 4, 3)\n",
    "barplot(m, xlab=\"Size of Widget\", ylab=\"Weight of Widget\")"
   ]
  },
  {
   "cell_type": "code",
   "execution_count": 113,
   "metadata": {},
   "outputs": [
    {
     "data": {
      "image/png": "[encoded data removed]",
      "text/plain": [
       "plot without title"
      ]
     },
     "metadata": {},
     "output_type": "display_data"
    }
   ],
   "source": [
    "m <- matrix(1:12, 4, 3)\n",
    "barplot(m, names.arg=c(\"First\", \"Second\", \"Third\"))"
   ]
  },
  {
   "cell_type": "markdown",
   "metadata": {},
   "source": [
    "## Histograms in R"
   ]
  },
  {
   "cell_type": "code",
   "execution_count": 114,
   "metadata": {},
   "outputs": [
    {
     "data": {
      "image/png": "[encoded data removed]",
      "text/plain": [
       "Plot with title \"Histogram of mtcars$wt\""
      ]
     },
     "metadata": {},
     "output_type": "display_data"
    }
   ],
   "source": [
    "hist(mtcars$wt, breaks=5, col=\"gray\", freq=FALSE)"
   ]
  },
  {
   "cell_type": "markdown",
   "metadata": {},
   "source": [
    "## Pie Charts in R"
   ]
  },
  {
   "cell_type": "code",
   "execution_count": 115,
   "metadata": {},
   "outputs": [
    {
     "data": {
      "image/png": "[encoded data removed]",
      "text/plain": [
       "plot without title"
      ]
     },
     "metadata": {},
     "output_type": "display_data"
    }
   ],
   "source": [
    "pie(c(10, 23, 40, 80), c(\"Germany\", \"France\", \"India\", \"Iceland\"))"
   ]
  },
  {
   "cell_type": "markdown",
   "metadata": {},
   "source": [
    "## Generic X-Y Plotting"
   ]
  },
  {
   "cell_type": "code",
   "execution_count": 116,
   "metadata": {},
   "outputs": [
    {
     "data": {
      "image/png": "[encoded data removed]",
      "text/plain": [
       "plot without title"
      ]
     },
     "metadata": {},
     "output_type": "display_data"
    }
   ],
   "source": [
    "plot(c(1, 2, 3, 4, 5), c(10, 20, 30, 15, 30), type='l')"
   ]
  },
  {
   "cell_type": "markdown",
   "metadata": {},
   "source": [
    "## Dot Plots in R"
   ]
  },
  {
   "cell_type": "code",
   "execution_count": 117,
   "metadata": {},
   "outputs": [
    {
     "data": {
      "image/png": "[encoded data removed]",
      "text/plain": [
       "plot without title"
      ]
     },
     "metadata": {},
     "output_type": "display_data"
    }
   ],
   "source": [
    "dotchart(1:3, c(\"Step 1\", \"Step 2\", \"Step 3\"))"
   ]
  },
  {
   "cell_type": "markdown",
   "metadata": {},
   "source": [
    "## Data Visualization Packages\n",
    "\n",
    "- graphics\n",
    "- lattice\n",
    "- ggplot2"
   ]
  },
  {
   "cell_type": "code",
   "execution_count": null,
   "metadata": {},
   "outputs": [],
   "source": []
  }
 ],
 "metadata": {
  "kernelspec": {
   "display_name": "R",
   "language": "R",
   "name": "ir"
  },
  "language_info": {
   "codemirror_mode": "r",
   "file_extension": ".r",
   "mimetype": "text/x-r-source",
   "name": "R",
   "pygments_lexer": "r",
   "version": "3.5.2"
  }
 },
 "nbformat": 4,
 "nbformat_minor": 2
}
