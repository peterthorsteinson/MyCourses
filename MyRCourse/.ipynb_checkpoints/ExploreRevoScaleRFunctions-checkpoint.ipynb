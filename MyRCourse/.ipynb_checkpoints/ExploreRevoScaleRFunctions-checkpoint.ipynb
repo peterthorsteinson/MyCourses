{
 "cells": [
  {
   "cell_type": "code",
   "execution_count": 1,
   "metadata": {},
   "outputs": [],
   "source": [
    "# Explore RevoScaleR Functions\n",
    "# https://docs.microsoft.com/en-us/machine-learning-server/r/tutorial-r-to-revoscaler#explore-revoscaler-functions\n",
    "\n",
    "inDataFile <- file.path(rxGetOption(\"sampleDataDir\"), \"mortDefaultSmall2000.csv\")\n"
   ]
  },
  {
   "cell_type": "code",
   "execution_count": 2,
   "metadata": {},
   "outputs": [
    {
     "name": "stdout",
     "output_type": "stream",
     "text": [
      "Rows Read: 10000, Total Rows Processed: 10000, Total Chunk Time: 0.031 seconds \n"
     ]
    },
    {
     "data": {
      "text/html": [
       "10000"
      ],
      "text/latex": [
       "10000"
      ],
      "text/markdown": [
       "10000"
      ],
      "text/plain": [
       "[1] 10000"
      ]
     },
     "metadata": {},
     "output_type": "display_data"
    },
    {
     "data": {
      "text/html": [
       "6"
      ],
      "text/latex": [
       "6"
      ],
      "text/markdown": [
       "6"
      ],
      "text/plain": [
       "[1] 6"
      ]
     },
     "metadata": {},
     "output_type": "display_data"
    },
    {
     "data": {
      "text/html": [
       "<ol class=list-inline>\n",
       "\t<li>'creditScore'</li>\n",
       "\t<li>'houseAge'</li>\n",
       "\t<li>'yearsEmploy'</li>\n",
       "\t<li>'ccDebt'</li>\n",
       "\t<li>'year'</li>\n",
       "\t<li>'default'</li>\n",
       "</ol>\n"
      ],
      "text/latex": [
       "\\begin{enumerate*}\n",
       "\\item 'creditScore'\n",
       "\\item 'houseAge'\n",
       "\\item 'yearsEmploy'\n",
       "\\item 'ccDebt'\n",
       "\\item 'year'\n",
       "\\item 'default'\n",
       "\\end{enumerate*}\n"
      ],
      "text/markdown": [
       "1. 'creditScore'\n",
       "2. 'houseAge'\n",
       "3. 'yearsEmploy'\n",
       "4. 'ccDebt'\n",
       "5. 'year'\n",
       "6. 'default'\n",
       "\n",
       "\n"
      ],
      "text/plain": [
       "[1] \"creditScore\" \"houseAge\"    \"yearsEmploy\" \"ccDebt\"      \"year\"       \n",
       "[6] \"default\"    "
      ]
     },
     "metadata": {},
     "output_type": "display_data"
    },
    {
     "data": {
      "text/html": [
       "<table>\n",
       "<thead><tr><th scope=col>creditScore</th><th scope=col>houseAge</th><th scope=col>yearsEmploy</th><th scope=col>ccDebt</th><th scope=col>year</th><th scope=col>default</th></tr></thead>\n",
       "<tbody>\n",
       "\t<tr><td>691 </td><td>16  </td><td>9   </td><td>6725</td><td>2000</td><td>0   </td></tr>\n",
       "\t<tr><td>691 </td><td> 4  </td><td>4   </td><td>5077</td><td>2000</td><td>0   </td></tr>\n",
       "\t<tr><td>743 </td><td>18  </td><td>3   </td><td>3080</td><td>2000</td><td>0   </td></tr>\n",
       "</tbody>\n",
       "</table>\n"
      ],
      "text/latex": [
       "\\begin{tabular}{r|llllll}\n",
       " creditScore & houseAge & yearsEmploy & ccDebt & year & default\\\\\n",
       "\\hline\n",
       "\t 691  & 16   & 9    & 6725 & 2000 & 0   \\\\\n",
       "\t 691  &  4   & 4    & 5077 & 2000 & 0   \\\\\n",
       "\t 743  & 18   & 3    & 3080 & 2000 & 0   \\\\\n",
       "\\end{tabular}\n"
      ],
      "text/markdown": [
       "\n",
       "| creditScore | houseAge | yearsEmploy | ccDebt | year | default |\n",
       "|---|---|---|---|---|---|\n",
       "| 691  | 16   | 9    | 6725 | 2000 | 0    |\n",
       "| 691  |  4   | 4    | 5077 | 2000 | 0    |\n",
       "| 743  | 18   | 3    | 3080 | 2000 | 0    |\n",
       "\n"
      ],
      "text/plain": [
       "  creditScore houseAge yearsEmploy ccDebt year default\n",
       "1 691         16       9           6725   2000 0      \n",
       "2 691          4       4           5077   2000 0      \n",
       "3 743         18       3           3080   2000 0      "
      ]
     },
     "metadata": {},
     "output_type": "display_data"
    },
    {
     "data": {
      "text/plain": [
       "Data frame: mortData \n",
       "Number of observations: 10000 \n",
       "Number of variables: 6 \n",
       "Variable information: \n",
       "Var 1: creditScore, Type: integer, Low/High: (486, 895)\n",
       "Var 2: houseAge, Type: integer, Low/High: (0, 40)\n",
       "Var 3: yearsEmploy, Type: integer, Low/High: (0, 14)\n",
       "Var 4: ccDebt, Type: integer, Low/High: (0, 12275)\n",
       "Var 5: year, Type: integer, Low/High: (2000, 2000)\n",
       "Var 6: default, Type: integer, Low/High: (0, 1)\n",
       "Data (3 rows starting with row 1):\n",
       "  creditScore houseAge yearsEmploy ccDebt year default\n",
       "1         691       16           9   6725 2000       0\n",
       "2         691        4           4   5077 2000       0\n",
       "3         743       18           3   3080 2000       0"
      ]
     },
     "metadata": {},
     "output_type": "display_data"
    }
   ],
   "source": [
    "mortData <- rxImport(inData = inDataFile)\n",
    "nrow(mortData)\n",
    "ncol(mortData)\n",
    "names(mortData)\n",
    "head(mortData, n = 3)\n",
    "rxGetInfo(mortData, getVarInfo = TRUE, numRows=3)"
   ]
  },
  {
   "cell_type": "code",
   "execution_count": 3,
   "metadata": {},
   "outputs": [
    {
     "name": "stdout",
     "output_type": "stream",
     "text": [
      "Rows Read: 10000, Total Rows Processed: 10000, Total Chunk Time: 0.308 seconds \n"
     ]
    }
   ],
   "source": [
    "outFile2 <- NULL\n",
    "mortDataNew <- rxDataStep(\n",
    "  # Specify the input data set\n",
    "  inData = mortData,\n",
    "  # Put in a placeholder for an output file\n",
    "  outFile = outFile2,\n",
    "  # Specify any variables to keep or drop\n",
    "  varsToDrop = c(\"year\"),\n",
    "  # Specify rows to select\n",
    "  rowSelection = creditScore < 850,\n",
    "  # Specify a list of new variables to create\n",
    "  transforms = list(\n",
    "    catDebt = cut(ccDebt, breaks = c(0, 6500, 13000),\n",
    "                  labels = c(\"Low Debt\", \"High Debt\")),\n",
    "    lowScore = creditScore < 625))\n"
   ]
  },
  {
   "cell_type": "code",
   "execution_count": 4,
   "metadata": {},
   "outputs": [
    {
     "data": {
      "text/plain": [
       "Var 1: creditScore, Type: integer, Low/High: (486, 847)\n",
       "Var 2: houseAge, Type: integer, Low/High: (0, 40)\n",
       "Var 3: yearsEmploy, Type: integer, Low/High: (0, 14)\n",
       "Var 4: ccDebt, Type: integer, Low/High: (0, 12275)\n",
       "Var 5: default, Type: integer, Low/High: (0, 1)\n",
       "Var 6: catDebt\n",
       "       2 factor levels: Low Debt High Debt\n",
       "Var 7: lowScore, Type: logical, Low/High: (0, 1)"
      ]
     },
     "metadata": {},
     "output_type": "display_data"
    }
   ],
   "source": [
    "rxGetVarInfo(mortDataNew)"
   ]
  },
  {
   "cell_type": "code",
   "execution_count": 5,
   "metadata": {},
   "outputs": [
    {
     "name": "stdout",
     "output_type": "stream",
     "text": [
      "Rows Read: 9982, Total Rows Processed: 9982, Total Chunk Time: 0.128 seconds \n",
      "Computation time: 0.132 seconds.\n"
     ]
    },
    {
     "data": {
      "image/png": "[encoded data removed]",
      "text/plain": [
       "plot without title"
      ]
     },
     "metadata": {},
     "output_type": "display_data"
    }
   ],
   "source": [
    "rxHistogram(~creditScore, data = mortDataNew )"
   ]
  },
  {
   "cell_type": "code",
   "execution_count": 6,
   "metadata": {},
   "outputs": [
    {
     "name": "stdout",
     "output_type": "stream",
     "text": [
      "Rows Read: 9982, Total Rows Processed: 9982, Total Chunk Time: Less than .001 seconds \n",
      "Computation time: 0.002 seconds.\n"
     ]
    },
    {
     "data": {
      "image/png": "[encoded data removed]",
      "text/plain": [
       "plot without title"
      ]
     },
     "metadata": {},
     "output_type": "display_data"
    }
   ],
   "source": [
    "mortCube <- rxCube(~F(creditScore):catDebt, data = mortDataNew)\n",
    "rxLinePlot(Counts~creditScore|catDebt, data=rxResultsDF(mortCube))"
   ]
  },
  {
   "cell_type": "code",
   "execution_count": 7,
   "metadata": {},
   "outputs": [
    {
     "name": "stdout",
     "output_type": "stream",
     "text": [
      "Rows Read: 9982, Total Rows Processed: 9982, Total Chunk Time: 0.002 seconds \n",
      "\n",
      "Starting values (iteration 1) time: 0.007 secs.\n",
      "Rows Read: 9982, Total Rows Processed: 9982, Total Chunk Time: 0.002 seconds \n",
      "\n",
      "Iteration 2 time: 0.006 secs.\n",
      "Rows Read: 9982, Total Rows Processed: 9982, Total Chunk Time: 0.002 seconds \n",
      "\n",
      "Iteration 3 time: 0.005 secs.\n",
      "Rows Read: 9982, Total Rows Processed: 9982, Total Chunk Time: 0.002 seconds \n",
      "\n",
      "Iteration 4 time: 0.005 secs.\n",
      "Rows Read: 9982, Total Rows Processed: 9982, Total Chunk Time: 0.002 seconds \n",
      "\n",
      "Iteration 5 time: 0.005 secs.\n",
      "Rows Read: 9982, Total Rows Processed: 9982, Total Chunk Time: 0.002 seconds \n",
      "\n",
      "Iteration 6 time: 0.005 secs.\n",
      "Rows Read: 9982, Total Rows Processed: 9982, Total Chunk Time: 0.002 seconds \n",
      "\n",
      "Iteration 7 time: 0.004 secs.\n",
      "Rows Read: 9982, Total Rows Processed: 9982, Total Chunk Time: 0.002 seconds \n",
      "\n",
      "Iteration 8 time: 0.005 secs.\n",
      "Rows Read: 9982, Total Rows Processed: 9982, Total Chunk Time: 0.002 seconds \n",
      "\n",
      "Iteration 9 time: 0.004 secs.\n",
      "\n",
      "Elapsed computation time: 0.049 secs.\n"
     ]
    },
    {
     "data": {
      "text/plain": [
       "Call:\n",
       "rxLogit(formula = default ~ ccDebt + yearsEmploy, data = mortDataNew)\n",
       "\n",
       "Logistic Regression Results for: default ~ ccDebt + yearsEmploy\n",
       "Data: mortDataNew\n",
       "Dependent variable(s): default\n",
       "Total independent variables: 3 \n",
       "Number of valid observations: 9982\n",
       "Number of missing observations: 0 \n",
       "-2*LogLikelihood: 100.6036 (Residual deviance on 9979 degrees of freedom)\n",
       " \n",
       "Coefficients:\n",
       "              Estimate Std. Error z value Pr(>|z|)    \n",
       "(Intercept) -1.614e+01  2.074e+00  -7.781 2.22e-16 ***\n",
       "ccDebt       1.414e-03  2.139e-04   6.610 3.83e-11 ***\n",
       "yearsEmploy -3.317e-01  1.608e-01  -2.063   0.0391 *  \n",
       "---\n",
       "Signif. codes:  0 '***' 0.001 '**' 0.01 '*' 0.05 '.' 0.1 ' ' 1\n",
       "\n",
       "Condition number of final variance-covariance matrix: 1.4455 \n",
       "Number of iterations: 9"
      ]
     },
     "metadata": {},
     "output_type": "display_data"
    }
   ],
   "source": [
    "myLogit <- rxLogit(default~ccDebt+yearsEmploy , data=mortDataNew)\n",
    "summary(myLogit)"
   ]
  },
  {
   "cell_type": "code",
   "execution_count": 8,
   "metadata": {},
   "outputs": [],
   "source": [
    "bigDataDir <- \"C:/MicrosoftR/Data\" # Specify the location\n",
    "inDataFile <- file.path(bigDataDir, \"mortDefault\",\n",
    "                  \"mortDefault2000.csv\")\n",
    "outFile <- \"myMortData.xdf\"\n",
    "outFile2 <- \"myMortData2.xdf\""
   ]
  },
  {
   "cell_type": "code",
   "execution_count": 9,
   "metadata": {},
   "outputs": [
    {
     "name": "stdout",
     "output_type": "stream",
     "text": [
      "Rows Read: 1000000, Total Rows Processed: 1000000, Total Chunk Time: 2.115 seconds \n"
     ]
    }
   ],
   "source": [
    "mortData <- rxImport(inData = inDataFile, outFile = outFile)"
   ]
  },
  {
   "cell_type": "code",
   "execution_count": 10,
   "metadata": {},
   "outputs": [
    {
     "data": {
      "text/plain": [
       "File name: C:\\Users\\peterthor\\Documents\\MyCourses\\MyRCourse\\myMortData.xdf \n",
       "Number of observations: 1e+06 \n",
       "Number of variables: 6 \n",
       "Number of blocks: 1 \n",
       "Compression type: zlib \n",
       "Variable information: \n",
       "Var 1: creditScore, Type: integer, Low/High: (459, 942)\n",
       "Var 2: houseAge, Type: integer, Low/High: (0, 40)\n",
       "Var 3: yearsEmploy, Type: integer, Low/High: (0, 15)\n",
       "Var 4: ccDebt, Type: integer, Low/High: (0, 14639)\n",
       "Var 5: year, Type: integer, Low/High: (2000, 2000)\n",
       "Var 6: default, Type: integer, Low/High: (0, 1)\n",
       "Data (5 rows starting with row 1):\n",
       "  creditScore houseAge yearsEmploy ccDebt year default\n",
       "1         615       10           5   2818 2000       0\n",
       "2         780       34           5   3575 2000       0\n",
       "3         735       12           1   3184 2000       0\n",
       "4         713       15           5   6236 2000       0\n",
       "5         689       10           5   6817 2000       0"
      ]
     },
     "metadata": {},
     "output_type": "display_data"
    }
   ],
   "source": [
    "# Some quick information about my data\n",
    "rxGetInfo(mortData, getVarInfo = TRUE, numRows=5)"
   ]
  },
  {
   "cell_type": "code",
   "execution_count": 11,
   "metadata": {},
   "outputs": [
    {
     "name": "stdout",
     "output_type": "stream",
     "text": [
      "Rows Read: 1000000, Total Rows Processed: 1000000, Total Chunk Time: 0.970 seconds \n"
     ]
    }
   ],
   "source": [
    "mortDataNew <- rxDataStep(\n",
    "  # Specify the input data set\n",
    "  inData = mortData,\n",
    "  # Put in a placeholder for an output file\n",
    "  outFile = outFile2,\n",
    "  # Specify any variables to keep or drop\n",
    "  varsToDrop = c(\"year\"),\n",
    "  # Specify rows to select\n",
    "  rowSelection = creditScore < 850,\n",
    "  # Specify a list of new variables to create\n",
    "  transforms = list(\n",
    "    catDebt = cut(ccDebt, breaks = c(0, 6500, 13000),\n",
    "                  labels = c(\"Low Debt\", \"High Debt\")),\n",
    "    lowScore = creditScore < 625))"
   ]
  },
  {
   "cell_type": "code",
   "execution_count": 12,
   "metadata": {},
   "outputs": [
    {
     "name": "stdout",
     "output_type": "stream",
     "text": [
      "Rows Read: 998587, Total Rows Processed: 998587, Total Chunk Time: 0.268 seconds \n",
      "Computation time: 0.345 seconds.\n"
     ]
    },
    {
     "data": {
      "image/png": "[encoded data removed]",
      "text/plain": [
       "plot without title"
      ]
     },
     "metadata": {},
     "output_type": "display_data"
    }
   ],
   "source": [
    "# Looking at the data\n",
    "rxHistogram(~creditScore, data = mortDataNew )"
   ]
  },
  {
   "cell_type": "code",
   "execution_count": 13,
   "metadata": {},
   "outputs": [
    {
     "name": "stdout",
     "output_type": "stream",
     "text": [
      "Rows Read: 998587, Total Rows Processed: 998587, Total Chunk Time: 0.047 seconds \n",
      "Computation time: 0.123 seconds.\n"
     ]
    },
    {
     "data": {
      "image/png": "[encoded data removed]",
      "text/plain": [
       "plot without title"
      ]
     },
     "metadata": {},
     "output_type": "display_data"
    }
   ],
   "source": [
    "myCube = rxCube(~F(creditScore):catDebt, data = mortDataNew)\n",
    "rxLinePlot(Counts~creditScore|catDebt, data=rxResultsDF(myCube))"
   ]
  },
  {
   "cell_type": "code",
   "execution_count": 14,
   "metadata": {},
   "outputs": [
    {
     "name": "stdout",
     "output_type": "stream",
     "text": [
      "Rows Read: 998587, Total Rows Processed: 998587, Total Chunk Time: 0.074 seconds \n",
      "\n",
      "Starting values (iteration 1) time: 0.091 secs.\n",
      "Rows Read: 998587, Total Rows Processed: 998587, Total Chunk Time: 0.119 seconds \n",
      "\n",
      "Iteration 2 time: 0.135 secs.\n",
      "Rows Read: 998587, Total Rows Processed: 998587, Total Chunk Time: 0.186 seconds \n",
      "\n",
      "Iteration 3 time: 0.194 secs.\n",
      "Rows Read: 998587, Total Rows Processed: 998587, Total Chunk Time: 0.131 seconds \n",
      "\n",
      "Iteration 4 time: 0.146 secs.\n",
      "Rows Read: 998587, Total Rows Processed: 998587, Total Chunk Time: 0.118 seconds \n",
      "\n",
      "Iteration 5 time: 0.127 secs.\n",
      "Rows Read: 998587, Total Rows Processed: 998587, Total Chunk Time: 0.114 seconds \n",
      "\n",
      "Iteration 6 time: 0.363 secs.\n",
      "Rows Read: 998587, Total Rows Processed: 998587, Total Chunk Time: 0.130 seconds \n",
      "\n",
      "Iteration 7 time: 0.145 secs.\n",
      "Rows Read: 998587, Total Rows Processed: 998587, Total Chunk Time: 0.115 seconds \n",
      "\n",
      "Iteration 8 time: 0.145 secs.\n",
      "Rows Read: 998587, Total Rows Processed: 998587, Total Chunk Time: 0.116 seconds \n",
      "\n",
      "Iteration 9 time: 0.143 secs.\n",
      "\n",
      "Elapsed computation time: 1.492 secs.\n"
     ]
    },
    {
     "data": {
      "text/plain": [
       "Call:\n",
       "rxLogit(formula = default ~ ccDebt + yearsEmploy, data = mortDataNew)\n",
       "\n",
       "Logistic Regression Results for: default ~ ccDebt + yearsEmploy\n",
       "Data: mortDataNew (RxXdfData Data Source)\n",
       "File name:\n",
       "    C:\\Users\\peterthor\\Documents\\MyCourses\\MyRCourse\\myMortData2.xdf\n",
       "Dependent variable(s): default\n",
       "Total independent variables: 3 \n",
       "Number of valid observations: 998587\n",
       "Number of missing observations: 0 \n",
       "-2*LogLikelihood: 8837.7644 (Residual deviance on 998584 degrees of freedom)\n",
       " \n",
       "Coefficients:\n",
       "              Estimate Std. Error z value Pr(>|z|)    \n",
       "(Intercept) -1.725e+01  2.330e-01  -74.04 2.22e-16 ***\n",
       "ccDebt       1.509e-03  2.327e-05   64.85 2.22e-16 ***\n",
       "yearsEmploy -3.054e-01  1.713e-02  -17.83 2.22e-16 ***\n",
       "---\n",
       "Signif. codes:  0 '***' 0.001 '**' 0.01 '*' 0.05 '.' 0.1 ' ' 1\n",
       "\n",
       "Condition number of final variance-covariance matrix: 1.3005 \n",
       "Number of iterations: 9"
      ]
     },
     "metadata": {},
     "output_type": "display_data"
    }
   ],
   "source": [
    "# Compute a logistic regression\n",
    "myLogit <- rxLogit(default~ccDebt+yearsEmploy , data=mortDataNew)\n",
    "summary(myLogit)"
   ]
  },
  {
   "cell_type": "code",
   "execution_count": null,
   "metadata": {},
   "outputs": [],
   "source": []
  }
 ],
 "metadata": {
  "kernelspec": {
   "display_name": "R",
   "language": "R",
   "name": "ir"
  },
  "language_info": {
   "codemirror_mode": "r",
   "file_extension": ".r",
   "mimetype": "text/x-r-source",
   "name": "R",
   "pygments_lexer": "r",
   "version": "3.5.2"
  }
 },
 "nbformat": 4,
 "nbformat_minor": 4
}
