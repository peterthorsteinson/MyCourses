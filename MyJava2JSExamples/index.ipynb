{
 "cells": [
  {
   "cell_type": "markdown",
   "metadata": {},
   "source": [
    "# My Java-2-JS Examples"
   ]
  },
  {
   "cell_type": "markdown",
   "metadata": {},
   "source": [
    "## Hello World Example\n",
    "\n",
    "```java\n",
    "// HelloWorld.java\n",
    "public class HelloWorld {\n",
    "   public static void main(String []args) {\n",
    "      System.out.println(\"Hello World\");\n",
    "      System.out.println(HelloWorld.class);\n",
    "   }\n",
    "}\n",
    " ```\n",
    " \n",
    "### Output\n",
    "```\n",
    "Hello World\n",
    "class HelloWorld\n",
    "```"
   ]
  },
  {
   "cell_type": "code",
   "execution_count": 16,
   "metadata": {},
   "outputs": [
    {
     "name": "stdout",
     "output_type": "stream",
     "text": [
      "Hello World\n",
      "class HelloWorld\n"
     ]
    }
   ],
   "source": [
    "{ // HelloWorld.js (ES6)\n",
    "\"use strict\";\n",
    "class HelloWorld {\n",
    "    static main(args) {\n",
    "        console.info(\"Hello World\");\n",
    "        console.info(HelloWorld.__class);\n",
    "    }\n",
    "}\n",
    "HelloWorld[\"__class\"] = \"class HelloWorld\"; // simulate the .class Syntax\n",
    "HelloWorld.main(null);\n",
    "}"
   ]
  },
  {
   "cell_type": "code",
   "execution_count": 42,
   "metadata": {},
   "outputs": [
    {
     "name": "stdout",
     "output_type": "stream",
     "text": [
      "Hello World\n",
      "class HelloWorld\n"
     ]
    }
   ],
   "source": [
    "{ // HelloWorld.js (ES5)\n",
    "var HelloWorld = (function () {\n",
    "    HelloWorld.main = function (args) {\n",
    "        console.info(\"Hello World\");\n",
    "        console.info(HelloWorld.__class);\n",
    "    };\n",
    "    return HelloWorld;\n",
    "}());\n",
    "HelloWorld[\"__class\"] = \"class HelloWorld\"; // simulate the .class Syntax\n",
    "HelloWorld.main(null);\n",
    "}"
   ]
  },
  {
   "cell_type": "markdown",
   "metadata": {},
   "source": [
    "## String Compare Example\n",
    "\n",
    "```java\n",
    "// StringCompare.java\n",
    "public class StringCompare{\n",
    "   public static void main(String args[]){\n",
    "      String str = \"Hello World\";\n",
    "      String anotherString = \"hello world\";\n",
    "      System.out.println( str.compareTo(anotherString) );\n",
    "      System.out.println( str.compareToIgnoreCase(anotherString) );\n",
    "   }\n",
    "}\n",
    "```\n",
    "\n",
    "### Output\n",
    "```\n",
    "-32\n",
    "0\n",
    "```"
   ]
  },
  {
   "cell_type": "code",
   "execution_count": 43,
   "metadata": {},
   "outputs": [
    {
     "name": "stdout",
     "output_type": "stream",
     "text": [
      "1\n",
      "0\n"
     ]
    }
   ],
   "source": [
    "{ // StringCompare.js (ES6)\n",
    "\"use strict\";\n",
    "class StringCompare {\n",
    "    static main(args) {\n",
    "        let str = \"Hello World\";\n",
    "        let anotherString = \"hello world\";\n",
    "        console.info(/* compareTo */ str.localeCompare(anotherString));\n",
    "        console.info(/* compareToIgnoreCase */ str.toUpperCase().localeCompare(anotherString.toUpperCase()));\n",
    "    }\n",
    "}\n",
    "StringCompare.main(null);\n",
    "}"
   ]
  },
  {
   "cell_type": "code",
   "execution_count": 45,
   "metadata": {},
   "outputs": [
    {
     "name": "stdout",
     "output_type": "stream",
     "text": [
      "1\n",
      "0\n"
     ]
    }
   ],
   "source": [
    "{ // StringCompare.js (ES5)\n",
    "var StringCompare = (function () {\n",
    "    StringCompare.main = function (args) {\n",
    "        var str = \"Hello World\";\n",
    "        var anotherString = \"hello world\";\n",
    "        console.info(/* compareTo */ str.localeCompare(anotherString));\n",
    "        console.info(/* compareToIgnoreCase */ str.toUpperCase().localeCompare(anotherString.toUpperCase()));\n",
    "    };\n",
    "    return StringCompare;\n",
    "}());\n",
    "StringCompare.main(null);\n",
    "}"
   ]
  },
  {
   "cell_type": "markdown",
   "metadata": {},
   "source": [
    "## Getters and Setters Example\n",
    "\n",
    "```java\n",
    "// GettersSetters.java\n",
    "public class GettersSetters {\n",
    "   public static void main(String []args) {\n",
    "        Person person = new Person();\n",
    "        person.setName(\"Winstie\");\n",
    "        System.out.println(person.getName());\n",
    "   }\n",
    "}\n",
    "class Person {\n",
    "    private String name;\n",
    "    public String getName() {\n",
    "        return name;\n",
    "    }\n",
    "    public void setName(String name) {\n",
    "        if(name!=null && name.length()>2)\n",
    "            this.name = name;\n",
    "    }\n",
    "}\n",
    "```\n",
    "\n",
    "### Output\n",
    "```\n",
    "Winstie\n",
    "```"
   ]
  },
  {
   "cell_type": "code",
   "execution_count": 20,
   "metadata": {},
   "outputs": [
    {
     "name": "stdout",
     "output_type": "stream",
     "text": [
      "Winstie\n"
     ]
    }
   ],
   "source": [
    "{ // GettersSetters.js (ES6)\n",
    "    \n",
    "\"use strict\";\n",
    "class GettersSetters {\n",
    "    static main(args) {\n",
    "        let person = new Person();\n",
    "        person.setName(\"Winstie\");\n",
    "        console.info(person.getName());\n",
    "    }\n",
    "}\n",
    "class Person {\n",
    "    constructor() {\n",
    "        if (this.name === undefined)\n",
    "            this.name = null;\n",
    "    }\n",
    "    getName() {\n",
    "        return this.name;\n",
    "    }\n",
    "    setName(name) {\n",
    "        if (name != null && name.length > 2)\n",
    "            this.name = name;\n",
    "    }\n",
    "}\n",
    "GettersSetters.main(null);\n",
    "}"
   ]
  },
  {
   "cell_type": "code",
   "execution_count": 47,
   "metadata": {},
   "outputs": [
    {
     "name": "stdout",
     "output_type": "stream",
     "text": [
      "Winstie\n"
     ]
    }
   ],
   "source": [
    "{ // GettersSetters.js (ES5)\n",
    "var GettersSetters = (function () {\n",
    "    GettersSetters.main = function (args) {\n",
    "        var person = new Person();\n",
    "        person.setName(\"Winstie\");\n",
    "        console.info(person.getName());\n",
    "    };\n",
    "    return GettersSetters;\n",
    "}());\n",
    "var Person = (function () {\n",
    "    function Person() {\n",
    "        if (this.name === undefined)\n",
    "            this.name = null;\n",
    "    }\n",
    "    Person.prototype.getName = function () {\n",
    "        return this.name;\n",
    "    };\n",
    "    Person.prototype.setName = function (name) {\n",
    "        if (name != null && name.length > 2)\n",
    "            this.name = name;\n",
    "    };\n",
    "    return Person;\n",
    "}());\n",
    "GettersSetters.main(null);\n",
    "}"
   ]
  },
  {
   "cell_type": "markdown",
   "metadata": {},
   "source": [
    "## Class and Interface Example\n",
    "\n",
    "```java\n",
    "// MyCar.java\n",
    "public class MyCar {\n",
    "   public static void main(String []args) {\n",
    "        Car car = new Car();\n",
    "        car.printState();\n",
    "        car.accelerate(10);\n",
    "        car.printState();\n",
    "        car.changeGear(2);\n",
    "        car.printState();\n",
    "        car.applyBrakes(5);\n",
    "        car.printState();\n",
    "   }\n",
    "}\n",
    "interface Vehicle {\n",
    "    void changeGear(int newValue);\n",
    "    void accelerate(int increment);\n",
    "    void applyBrakes(int decrement);\n",
    "}\n",
    "\n",
    "class Car implements Vehicle {\n",
    "    int speed = 0;\n",
    "    int gear = 1;\n",
    "    public void changeGear(int gear) {\n",
    "        this.gear = gear;\n",
    "    }\n",
    "    public void accelerate(int speedDelta) {\n",
    "        this.speed += speedDelta;   \n",
    "    }\n",
    "    public void applyBrakes(int speedDelta) {\n",
    "        this.speed -= speedDelta;\n",
    "    }\n",
    "    public void printState() {\n",
    "        System.out.println(\"speed:\" + speed + \" gear:\" + gear);\n",
    "    }\n",
    "}\n",
    "```\n",
    "\n",
    "### Output\n",
    "```\n",
    "speed:0 gear:1\n",
    "speed:10 gear:1\n",
    "speed:10 gear:2\n",
    "speed:5 gear:2\n",
    "```"
   ]
  },
  {
   "cell_type": "code",
   "execution_count": 48,
   "metadata": {},
   "outputs": [
    {
     "name": "stdout",
     "output_type": "stream",
     "text": [
      "speed:0 gear:1\n",
      "speed:10 gear:1\n",
      "speed:10 gear:2\n",
      "speed:5 gear:2\n"
     ]
    }
   ],
   "source": [
    "{ // MyCar.js (ES6)\n",
    "\"use strict\";\n",
    "class MyCar {\n",
    "    static main(args) {\n",
    "        let car = new Car();\n",
    "        car.printState();\n",
    "        car.accelerate(10);\n",
    "        car.printState();\n",
    "        car.changeGear(2);\n",
    "        car.printState();\n",
    "        car.applyBrakes(5);\n",
    "        car.printState();\n",
    "    }\n",
    "}\n",
    "class Car {\n",
    "    constructor() {\n",
    "        this.speed = 0;\n",
    "        this.gear = 1;\n",
    "    }\n",
    "    changeGear(gear) {\n",
    "        this.gear = gear;\n",
    "    }\n",
    "    accelerate(speedDelta) {\n",
    "        this.speed += speedDelta;\n",
    "    }\n",
    "    applyBrakes(speedDelta) {\n",
    "        this.speed -= speedDelta;\n",
    "    }\n",
    "    printState() {\n",
    "        console.info(\"speed:\" + this.speed + \" gear:\" + this.gear);\n",
    "    }\n",
    "}\n",
    "MyCar.main(null);\n",
    "}"
   ]
  },
  {
   "cell_type": "code",
   "execution_count": 50,
   "metadata": {},
   "outputs": [
    {
     "name": "stdout",
     "output_type": "stream",
     "text": [
      "speed:0 gear:1\n",
      "speed:10 gear:1\n",
      "speed:10 gear:2\n",
      "speed:5 gear:2\n"
     ]
    }
   ],
   "source": [
    "{ // MyCar.js (ES5)\n",
    "    var MyCar = (function () {\n",
    "    function MyCar() {\n",
    "    }\n",
    "    MyCar.main = function (args) {\n",
    "        var car = new Car();\n",
    "        car.printState();\n",
    "        car.accelerate(10);\n",
    "        car.printState();\n",
    "        car.changeGear(2);\n",
    "        car.printState();\n",
    "        car.applyBrakes(5);\n",
    "        car.printState();\n",
    "    };\n",
    "    return MyCar;\n",
    "}());\n",
    "var Car = (function () {\n",
    "    function Car() {\n",
    "        this.speed = 0;\n",
    "        this.gear = 1;\n",
    "    }\n",
    "    Car.prototype.changeGear = function (gear) {\n",
    "        this.gear = gear;\n",
    "    };\n",
    "    Car.prototype.accelerate = function (speedDelta) {\n",
    "        this.speed += speedDelta;\n",
    "    };\n",
    "    Car.prototype.applyBrakes = function (speedDelta) {\n",
    "        this.speed -= speedDelta;\n",
    "    };\n",
    "    Car.prototype.printState = function () {\n",
    "        console.info(\"speed:\" + this.speed + \" gear:\" + this.gear);\n",
    "    };\n",
    "    return Car;\n",
    "}());\n",
    "MyCar.main(null);\n",
    "}"
   ]
  },
  {
   "cell_type": "markdown",
   "metadata": {},
   "source": [
    "## Try Throw Catch Finally Example\n",
    "\n",
    "```java\n",
    "// TryThrowCatchFinally.java\n",
    "public class TryThrowCatchFinally {\n",
    "    public static void main(String[] args) {\n",
    "        System.out.println(\"About to enter try block\");\n",
    "        try {\n",
    "            System.out.println(\"About to throw Exception\");\n",
    "            if (true)\n",
    "                throw new Exception(\"Ooops!\");\n",
    "            //System.out.println(\"Never get here\");\n",
    "        } catch (Exception e) {\n",
    "            System.out.println(\"Exception is caught\");\n",
    "        }\n",
    "        finally {\n",
    "            System.out.println(\"In finally block\");\n",
    "        }\n",
    "        System.out.println(\"All done\");\n",
    "    }\n",
    "}\n",
    "```\n",
    "\n",
    "### Output\n",
    "```\n",
    "About to enter try block\n",
    "About to throw Exception\n",
    "Exception is caught\n",
    "In finally block\n",
    "All done\n",
    "```"
   ]
  },
  {
   "cell_type": "code",
   "execution_count": 51,
   "metadata": {},
   "outputs": [
    {
     "name": "stdout",
     "output_type": "stream",
     "text": [
      "About to enter try block\n",
      "About to throw Exception\n",
      "Exception is caught\n",
      "In finally block\n",
      "All done\n"
     ]
    }
   ],
   "source": [
    "{ // TryCatch.js (ES6)\n",
    "\"use strict\";\n",
    "class TryThrowCatchFinally {\n",
    "    static main(args) {\n",
    "        console.info(\"About to enter try block\");\n",
    "        try {\n",
    "            console.info(\"About to throw Exception\");\n",
    "            if (true)\n",
    "                throw Object.defineProperty(new Error(\"Ooops!\"));\n",
    "        }\n",
    "        catch (e) {\n",
    "            console.info(\"Exception is caught\");\n",
    "        }\n",
    "        finally {\n",
    "            console.info(\"In finally block\");\n",
    "        }\n",
    "        ;\n",
    "        console.info(\"All done\");\n",
    "    }\n",
    "}\n",
    "TryThrowCatchFinally.main(null);\n",
    "}"
   ]
  },
  {
   "cell_type": "code",
   "execution_count": 53,
   "metadata": {},
   "outputs": [
    {
     "name": "stdout",
     "output_type": "stream",
     "text": [
      "About to enter try block\n",
      "About to throw Exception\n",
      "Exception is caught\n",
      "In finally block\n",
      "All done\n"
     ]
    }
   ],
   "source": [
    "{ // TryCatch.js (ES5)\n",
    "var TryThrowCatchFinally = (function () {\n",
    "    TryThrowCatchFinally.main = function (args) {\n",
    "        console.info(\"About to enter try block\");\n",
    "        try {\n",
    "            console.info(\"About to throw Exception\");\n",
    "            if (true)\n",
    "                throw Object.defineProperty(new Error(\"Ooops!\"));\n",
    "        }\n",
    "        catch (e) {\n",
    "            console.info(\"Exception is caught\");\n",
    "        }\n",
    "        finally {\n",
    "            console.info(\"In finally block\");\n",
    "        }\n",
    "        ;\n",
    "        console.info(\"All done\");\n",
    "    };\n",
    "    return TryThrowCatchFinally;\n",
    "}());\n",
    "TryThrowCatchFinally.main(null);\n",
    "}"
   ]
  },
  {
   "cell_type": "markdown",
   "metadata": {},
   "source": [
    "## Sort String Array Example\n",
    "\n",
    "```java\n",
    "// SortStringArray.java\n",
    "import java.util.Arrays; \n",
    "public class SortStringArray \n",
    "{ \n",
    "    public static void main(String[] args) \n",
    "    { \n",
    "        String [] arr = {\"March\", \"Jan\", \"Feb\", \"Dec\"}; \n",
    "        Arrays.sort(arr); \n",
    "        System.out.printf(Arrays.toString(arr)); \n",
    "    } \n",
    "} \n",
    "```\n",
    "\n",
    "### Output\n",
    "\n",
    "```\n",
    "[Dec, Feb, Jan, March]\n",
    "```"
   ]
  },
  {
   "cell_type": "code",
   "execution_count": 54,
   "metadata": {},
   "outputs": [
    {
     "name": "stdout",
     "output_type": "stream",
     "text": [
      "[ 'Dec', 'Feb', 'Jan', 'March' ]\n"
     ]
    }
   ],
   "source": [
    "{ // SortStringArray.js (ES6)\n",
    "\n",
    "\"use strict\";\n",
    "class SortStringArray {\n",
    "    static main(args) {\n",
    "        let arr = [\"March\", \"Jan\", \"Feb\", \"Dec\"];\n",
    "        arr.sort();\n",
    "        console.info(arr);\n",
    "    }\n",
    "}\n",
    "SortStringArray.main(null);\n",
    "}"
   ]
  },
  {
   "cell_type": "code",
   "execution_count": 55,
   "metadata": {},
   "outputs": [
    {
     "name": "stdout",
     "output_type": "stream",
     "text": [
      "[ 'Dec', 'Feb', 'Jan', 'March' ]\n"
     ]
    }
   ],
   "source": [
    "{ // SortStringArray.js (ES5)\n",
    "var SortStringArray = (function () {\n",
    "    SortStringArray.main = function (args) {\n",
    "        var arr = ['March', 'Jan', 'Feb', 'Dec'];\n",
    "        arr.sort();\n",
    "        console.info(arr);\n",
    "    };\n",
    "    return SortStringArray;\n",
    "}());\n",
    "SortStringArray.main(null);\n",
    "}"
   ]
  },
  {
   "cell_type": "markdown",
   "metadata": {},
   "source": [
    "## Television Test Example\n",
    "\n",
    "```java\n",
    "// TelevisionTest.java\n",
    "public class TelevisionTest {\n",
    "    public static void main(String[] args) {\n",
    "        Television tv1 = new Television();\n",
    "        tv1.setBrand(\"Spectre\");\n",
    "        tv1.setVolume(3);\n",
    "        Television tv2 = new Television();\n",
    "        tv2.setBrand(\"Magnavox\");\n",
    "        tv2.setVolume(40);\n",
    "        Television tv3 = new Television();\n",
    "        System.out.println(\"Brand = \" + tv1.getBrand() +\n",
    "            \", volume = \" + tv1.getVolume());\n",
    "        System.out.println(tv2.toString());\n",
    "        System.out.println(tv3);\n",
    "    }\n",
    "}\n",
    "class Television {\n",
    "    private String brand = \"Spectre\";\n",
    "    private int volume = 1;\n",
    "    public void turnOn() {\n",
    "        System.out.println(\"Turning on your TV with volume \" + volume);\n",
    "    }\n",
    "    public void turnOff() {\n",
    "        System.out.println(\"Shutting down your \" + brand +\n",
    "            \" brand TV ...goodbye\");\n",
    "    }\n",
    "    public int getVolume() {\n",
    "        return volume;\n",
    "    }\n",
    "    public void setVolume(int volume) {\n",
    "        this.volume = volume;\n",
    "    }\n",
    "    public String getBrand() {\n",
    "        return brand;\n",
    "    }\n",
    "    public void setBrand(String brand) {\n",
    "        this.brand = brand;\n",
    "    }\n",
    "    public String toString() {\n",
    "        return \"Television: brand=\" + getBrand() +\n",
    "            \", volume=\" + getVolume();\n",
    "    }\n",
    "}\n",
    "```\n",
    "\n",
    "### Output\n",
    "```\n",
    "Brand = Spectre, volume = 3\n",
    "Television: brand=Magnavox, volume=40\n",
    "Television: brand=Spectre, volume=1\n",
    "```"
   ]
  },
  {
   "cell_type": "code",
   "execution_count": 56,
   "metadata": {},
   "outputs": [
    {
     "name": "stdout",
     "output_type": "stream",
     "text": [
      "Brand = Spectre, volume = 3\n",
      "Television: brand=Magnavox, volume=40\n",
      "Television { brand: 'Spectre', volume: 1 }\n"
     ]
    }
   ],
   "source": [
    "{ // TelevisionTest.js (ES6)\n",
    "\n",
    "\"use strict\";\n",
    "class TelevisionTest {\n",
    "    static main(args) {\n",
    "        let tv1 = new Television();\n",
    "        tv1.setBrand(\"Spectre\");\n",
    "        tv1.setVolume(3);\n",
    "        let tv2 = new Television();\n",
    "        tv2.setBrand(\"Magnavox\");\n",
    "        tv2.setVolume(40);\n",
    "        let tv3 = new Television();\n",
    "        console.info(\"Brand = \" + tv1.getBrand() + \", volume = \" + tv1.getVolume());\n",
    "        console.info(tv2.toString());\n",
    "        console.info(tv3);\n",
    "    }\n",
    "}\n",
    "class Television {\n",
    "    constructor() {\n",
    "        /*private*/ this.brand = \"Spectre\";\n",
    "        /*private*/ this.volume = 1;\n",
    "    }\n",
    "    turnOn() {\n",
    "        console.info(\"Turning on your TV with volume \" + this.volume);\n",
    "    }\n",
    "    turnOff() {\n",
    "        console.info(\"Shutting down your \" + this.brand + \" brand TV ...goodbye\");\n",
    "    }\n",
    "    getVolume() {\n",
    "        return this.volume;\n",
    "    }\n",
    "    setVolume(volume) {\n",
    "        this.volume = volume;\n",
    "    }\n",
    "    getBrand() {\n",
    "        return this.brand;\n",
    "    }\n",
    "    setBrand(brand) {\n",
    "        this.brand = brand;\n",
    "    }\n",
    "    toString() {\n",
    "        return \"Television: brand=\" + this.getBrand() + \", volume=\" + this.getVolume();\n",
    "    }\n",
    "}\n",
    "TelevisionTest.main(null);\n",
    "}"
   ]
  },
  {
   "cell_type": "code",
   "execution_count": 57,
   "metadata": {},
   "outputs": [
    {
     "name": "stdout",
     "output_type": "stream",
     "text": [
      "Brand = Spectre, volume = 3\n",
      "Television: brand=Magnavox, volume=40\n",
      "Television { brand: 'Spectre', volume: 1 }\n"
     ]
    }
   ],
   "source": [
    "{ // TelevisionTest.js (ES5)\n",
    "\n",
    "var TelevisionTest = (function () {\n",
    "    function TelevisionTest() {\n",
    "    }\n",
    "    TelevisionTest.main = function (args) {\n",
    "        var tv1 = new Television();\n",
    "        tv1.setBrand(\"Spectre\");\n",
    "        tv1.setVolume(3);\n",
    "        var tv2 = new Television();\n",
    "        tv2.setBrand(\"Magnavox\");\n",
    "        tv2.setVolume(40);\n",
    "        var tv3 = new Television();\n",
    "        console.info(\"Brand = \" + tv1.getBrand() + \", volume = \" + tv1.getVolume());\n",
    "        console.info(tv2.toString());\n",
    "        console.info(tv3);\n",
    "    };\n",
    "    return TelevisionTest;\n",
    "}());\n",
    "var Television = (function () {\n",
    "    function Television() {\n",
    "        /*private*/ this.brand = \"Spectre\";\n",
    "        /*private*/ this.volume = 1;\n",
    "    }\n",
    "    Television.prototype.turnOn = function () {\n",
    "        console.info(\"Turning on your TV with volume \" + this.volume);\n",
    "    };\n",
    "    Television.prototype.turnOff = function () {\n",
    "        console.info(\"Shutting down your \" + this.brand + \" brand TV ...goodbye\");\n",
    "    };\n",
    "    Television.prototype.getVolume = function () {\n",
    "        return this.volume;\n",
    "    };\n",
    "    Television.prototype.setVolume = function (volume) {\n",
    "        this.volume = volume;\n",
    "    };\n",
    "    Television.prototype.getBrand = function () {\n",
    "        return this.brand;\n",
    "    };\n",
    "    Television.prototype.setBrand = function (brand) {\n",
    "        this.brand = brand;\n",
    "    };\n",
    "    Television.prototype.toString = function () {\n",
    "        return \"Television: brand=\" + this.getBrand() + \", volume=\" + this.getVolume();\n",
    "    };\n",
    "    return Television;\n",
    "}());\n",
    "TelevisionTest.main(null);\n",
    "}"
   ]
  },
  {
   "cell_type": "markdown",
   "metadata": {},
   "source": [
    "## Switch Case Example\n",
    "\n",
    "```java\n",
    "// SwitchCase.java\n",
    "public class SwitchCase {\n",
    "    public static void main(String[] args) {\n",
    "        int day = 3;\n",
    "        String dayString;\n",
    "        switch (day) {\n",
    "            case 1:  dayString = \"Monday\";\n",
    "                     break;\n",
    "            case 2:  dayString = \"Tuesday\";\n",
    "                     break;\n",
    "            case 3:  dayString = \"Wednesday\";\n",
    "                     break;\n",
    "            case 4:  dayString = \"Thursday\";\n",
    "                     break;\n",
    "            case 5:  dayString = \"Friday\";\n",
    "                     break;\n",
    "            case 6:  dayString = \"Saturday\";\n",
    "                     break;\n",
    "            case 7:  dayString = \"Sunday\";\n",
    "                     break;\n",
    "            default: dayString = \"Invalid day\";\n",
    "                     break;\n",
    "        }\n",
    "        System.out.println(dayString);\n",
    "    }\n",
    "}\n",
    "```\n",
    "\n",
    "### Output\n",
    "```\n",
    "Wednesday\n",
    "```"
   ]
  },
  {
   "cell_type": "code",
   "execution_count": 58,
   "metadata": {},
   "outputs": [
    {
     "name": "stdout",
     "output_type": "stream",
     "text": [
      "Wednesday\n"
     ]
    }
   ],
   "source": [
    "{ // SwitchCase.js (ES6)\n",
    "\"use strict\";\n",
    "class SwitchCase {\n",
    "    static main(args) {\n",
    "        let day = 3;\n",
    "        let dayString;\n",
    "        switch ((day)) {\n",
    "            case 1:\n",
    "                dayString = \"Monday\";\n",
    "                break;\n",
    "            case 2:\n",
    "                dayString = \"Tuesday\";\n",
    "                break;\n",
    "            case 3:\n",
    "                dayString = \"Wednesday\";\n",
    "                break;\n",
    "            case 4:\n",
    "                dayString = \"Thursday\";\n",
    "                break;\n",
    "            case 5:\n",
    "                dayString = \"Friday\";\n",
    "                break;\n",
    "            case 6:\n",
    "                dayString = \"Saturday\";\n",
    "                break;\n",
    "            case 7:\n",
    "                dayString = \"Sunday\";\n",
    "                break;\n",
    "            default:\n",
    "                dayString = \"Invalid day\";\n",
    "                break;\n",
    "        }\n",
    "        console.info(dayString);\n",
    "    }\n",
    "}\n",
    "SwitchCase.main(null);\n",
    "}"
   ]
  },
  {
   "cell_type": "code",
   "execution_count": 59,
   "metadata": {},
   "outputs": [
    {
     "name": "stdout",
     "output_type": "stream",
     "text": [
      "Wednesday\n"
     ]
    }
   ],
   "source": [
    "{ // SwitchCase.js (ES5)\n",
    "var SwitchCase = (function () {\n",
    "    SwitchCase.main = function (args) {\n",
    "        var day = 3;\n",
    "        var dayString;\n",
    "        switch ((day)) {\n",
    "            case 1:\n",
    "                dayString = \"Monday\";\n",
    "                break;\n",
    "            case 2:\n",
    "                dayString = \"Tuesday\";\n",
    "                break;\n",
    "            case 3:\n",
    "                dayString = \"Wednesday\";\n",
    "                break;\n",
    "            case 4:\n",
    "                dayString = \"Thursday\";\n",
    "                break;\n",
    "            case 5:\n",
    "                dayString = \"Friday\";\n",
    "                break;\n",
    "            case 6:\n",
    "                dayString = \"Saturday\";\n",
    "                break;\n",
    "            case 7:\n",
    "                dayString = \"Sunday\";\n",
    "                break;\n",
    "            default:\n",
    "                dayString = \"Invalid day\";\n",
    "                break;\n",
    "        }\n",
    "        console.info(dayString);\n",
    "    };\n",
    "    return SwitchCase;\n",
    "}());\n",
    "SwitchCase.main(null);\n",
    "}"
   ]
  },
  {
   "cell_type": "code",
   "execution_count": null,
   "metadata": {},
   "outputs": [],
   "source": []
  }
 ],
 "metadata": {
  "kernelspec": {
   "display_name": "Javascript (Node.js)",
   "language": "javascript",
   "name": "javascript"
  },
  "language_info": {
   "file_extension": ".js",
   "mimetype": "application/javascript",
   "name": "javascript",
   "version": "10.16.0"
  }
 },
 "nbformat": 4,
 "nbformat_minor": 4
}
