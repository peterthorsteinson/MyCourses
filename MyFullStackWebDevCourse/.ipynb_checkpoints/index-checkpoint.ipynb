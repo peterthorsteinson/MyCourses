{
 "cells": [
  {
   "cell_type": "markdown",
   "metadata": {},
   "source": [
    "# Full Stack Web Dev Topics\n",
    "* Front-end\n",
    "* Back-end\n",
    "* Database\n",
    "\n",
    "## For example: MEAN (MongoDB, Express, Angular. Node.js), and many combinations\n",
    "* MEAN: MongoDB (database), Express.js (controller), Angular (presentation), Node.js (server)\n",
    "* MERN: MongoDB (database), Express.js (controller), React.js (presentation), Node.js (server)\n",
    "* MEVN: MongoDB (database), Express.js (controller), Vue.js presentation), Node.js (server)\n",
    "* etc.\n",
    "\n",
    "## Client-side JavaScript Framework Tutorials\n",
    "* https://angular.io/tutorial\n",
    "* https://reactjs.org/tutorial/tutorial.html\n",
    "\n",
    "## Server-side JavaScript Framework Tutorials\n",
    "* https://developer.mozilla.org/en-US/docs/Learn/Server-side/Express_Nodejs\n",
    "\n",
    "## Database Tutorials\n",
    "* https://www.geeksforgeeks.org/sql-tutorial\n",
    "* https://zellwk.com/blog/crud-express-mongodb\n"
   ]
  },
  {
   "cell_type": "code",
   "execution_count": null,
   "metadata": {},
   "outputs": [],
   "source": []
  }
 ],
 "metadata": {
  "kernelspec": {
   "display_name": "Python 3",
   "language": "python",
   "name": "python3"
  },
  "language_info": {
   "codemirror_mode": {
    "name": "ipython",
    "version": 3
   },
   "file_extension": ".py",
   "mimetype": "text/x-python",
   "name": "python",
   "nbconvert_exporter": "python",
   "pygments_lexer": "ipython3",
   "version": "3.8.5"
  }
 },
 "nbformat": 4,
 "nbformat_minor": 4
}
