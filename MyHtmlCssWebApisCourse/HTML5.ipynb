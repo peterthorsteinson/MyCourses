{
 "cells": [
  {
   "cell_type": "markdown",
   "metadata": {},
   "source": [
    "# My HTML5 Course\n",
    "\n",
    "* HTML Docs: https://developer.mozilla.org/en-US/docs/Web/HTML\n",
    "* WHATWG HTML Living Standard: https://html.spec.whatwg.org/multipage\n",
    "* W3C Markup Validation Service: https://validator.w3.org\n",
    "\n",
    "## HTML5 Topics\n",
    "\n",
    "* Elements and Attributes\n",
    "* Block-level vs Inline Elements\n",
    "* Divisions and Spans\n",
    "* Links\n",
    "* Images\n",
    "* Lists\n",
    "* Tables\n",
    "* Semantic Elements\n",
    "* Scripts\n",
    "* DOM\n",
    "* Forms\n",
    "* Grid Layouts\n",
    "* Fluid Layouts\n",
    "* Animations and Transitions\n",
    "* Video and Audio\n",
    "* Canvas\n",
    "* SVG\n",
    "* Drag and Drop\n",
    "* WebGL\n",
    "* Local and Session Storage\n",
    "* IndexedDB\n",
    "* Touch Events\n",
    "* MediaDevices\n",
    "* Device Orientation\n",
    "* Viewport Meta Tag\n",
    "* Web Workers\n",
    "* Web Sockets\n",
    "* WebRTC\n",
    "* Web Assembly\n",
    "* Babel and Webpack\n",
    "* HTML5 Responsive Design\n",
    "* HTML5 Accessibility"
   ]
  },
  {
   "cell_type": "markdown",
   "metadata": {},
   "source": [
    "## A Few Simple HTML Elements\n",
    "\n",
    "* ```<!DOCTYPE html>``` declaration specifies that this web page is an HTML5 document\n",
    "* ```<!-- comment... -->``` element specifies a comment (ignored by the browser)\n",
    "* ```<html>``` element is the root element of this document\n",
    "* ```<head>``` element contains meta information about this document\n",
    "* ```<title>``` element specifies a title for this document\n",
    "* ```<body>``` element contains the visible page content in this document\n",
    "* ```<h1>``` element defines a large heading\n",
    "* ```<p>``` element defines a paragraph"
   ]
  },
  {
   "cell_type": "markdown",
   "metadata": {},
   "source": [
    "## A Simple HTML Page\n",
    "\n",
    "1. Create the following file named ```firstHTML.html```\n",
    "    - You can can create it in a plain text editor (e.g. ```notepad.exe``` on ```Windows```)\n",
    "    - Or you can create it in VSCode\n",
    "2. Then open it in your web browser\n",
    "    - You can open it via the file system (e.g. double-clicking it in ```File Explorer``` on ```Windows```)\n",
    "    - You can open it via a local dev http server (e.g. ```VSCode``` with the ```Live Server``` Extension installed)\n",
    "    - VSCode ```Ctrl+Shift+P``` is kb-shortcut (Show All Commands) -> then type ```Live Server``` and select from  list\n",
    "\n",
    "```html\n",
    "<!DOCTYPE html>\n",
    "<!-- A Simple HTML Page -->\n",
    "<html>\n",
    "  <title>My HTML Page</title>\n",
    "  <body>\n",
    "    <h1>This is an h1 tag</h1>\n",
    "    <p>This is a p tag.</p>\n",
    "  </body>\n",
    "</html>\n",
    "```\n",
    "\n",
    "![firstHTML.html in browser](./img/firstHTML.png)"
   ]
  },
  {
   "cell_type": "markdown",
   "metadata": {},
   "source": [
    "## The ```head``` Element\n",
    "\n",
    "* Contains Page metadata\n",
    "* Metadata is not displayed\n",
    "* Common examples of elements that are placed in the ```head``` element are:\n",
    "    - ```title```\n",
    "    - ```style```\n",
    "    - ```meta```\n",
    "    - ```link```\n",
    "    - ```script```\n",
    "    - ```base```\n",
    "\n",
    "```html\n",
    "<head>\n",
    "    <title>My Cool Web Page</title>\n",
    "    <meta charset=\"utf-8\">\n",
    "    <script src=\"myjavascript.js\"></script>\n",
    "    <link href=\"/styles/mystyles.css\" rel=\"stylesheet\">\n",
    "    <style type=\"text/css\">\n",
    "        p {\n",
    "            color: #26b72b;\n",
    "        }\n",
    "    </style>\n",
    "</head>\n",
    "```"
   ]
  },
  {
   "cell_type": "markdown",
   "metadata": {},
   "source": [
    "## Comments"
   ]
  },
  {
   "cell_type": "code",
   "execution_count": 1,
   "metadata": {},
   "outputs": [
    {
     "data": {
      "text/html": [
       "\n",
       "<!-- This is a comment -->\n"
      ],
      "text/plain": [
       "<IPython.core.display.HTML object>"
      ]
     },
     "metadata": {},
     "output_type": "display_data"
    }
   ],
   "source": [
    "%%html\n",
    "\n",
    "<!-- This is a comment -->"
   ]
  },
  {
   "cell_type": "markdown",
   "metadata": {},
   "source": [
    "## The  ```h1``` to ```h6``` Elements\n",
    "\n",
    "* ```h1, h2, h3, h4, h5, h6```"
   ]
  },
  {
   "cell_type": "code",
   "execution_count": 7,
   "metadata": {},
   "outputs": [
    {
     "data": {
      "text/html": [
       "\n",
       "<h1>h1 heading</h1>\n",
       "<h2>h2 heading</h2>\n",
       "<h3>h3 heading</h3>\n",
       "<h4>h4 heading</h4>\n",
       "<h5>h5 heading</h5>\n",
       "<h6>h6 heading</h6>\n",
       "<h1 style=\"font-size:40px;\">h1 heading 40px font-size</h1>\n"
      ],
      "text/plain": [
       "<IPython.core.display.HTML object>"
      ]
     },
     "metadata": {},
     "output_type": "display_data"
    }
   ],
   "source": [
    "%%html\n",
    "\n",
    "<h1>h1 heading</h1>\n",
    "<h2>h2 heading</h2>\n",
    "<h3>h3 heading</h3>\n",
    "<h4>h4 heading</h4>\n",
    "<h5>h5 heading</h5>\n",
    "<h6>h6 heading</h6>\n",
    "<h1 style=\"font-size:40px;\">h1 heading 40px font-size</h1>"
   ]
  },
  {
   "cell_type": "markdown",
   "metadata": {},
   "source": [
    "## The Inline ```style``` Attribute"
   ]
  },
  {
   "cell_type": "code",
   "execution_count": 6,
   "metadata": {},
   "outputs": [
    {
     "data": {
      "text/html": [
       "\n",
       "<p style=\"color:red\" title=\"I'm a tooltip\">This is a red paragraph with a tooltip.</p>\n"
      ],
      "text/plain": [
       "<IPython.core.display.HTML object>"
      ]
     },
     "metadata": {},
     "output_type": "display_data"
    }
   ],
   "source": [
    "%%html\n",
    "\n",
    "<p style=\"color:red\" title=\"I'm a tooltip\">This is a red paragraph with a tooltip.</p>"
   ]
  },
  {
   "cell_type": "code",
   "execution_count": 4,
   "metadata": {},
   "outputs": [
    {
     "data": {
      "text/html": [
       "<div style=\"background-color:yellow;\">\n",
       "<h1 style=\"color:blue;\">This is an h1 element</h1>\n",
       "<p style=\"text-align:center;font-family:courier;\">This is a p element.</p>\n",
       "</div>\n"
      ],
      "text/plain": [
       "<IPython.core.display.HTML object>"
      ]
     },
     "metadata": {},
     "output_type": "display_data"
    }
   ],
   "source": [
    "%%html\n",
    "\n",
    "<div style=\"background-color:yellow;\">\n",
    "<h1 style=\"color:blue;\">This is an h1 element</h1>\n",
    "<p style=\"text-align:center;font-family:courier;\">This is a p element.</p>\n",
    "</div>"
   ]
  },
  {
   "cell_type": "code",
   "execution_count": 6,
   "metadata": {},
   "outputs": [
    {
     "data": {
      "text/html": [
       "<p>This is a deleted element: <del>deleted</del>.</p>\n"
      ],
      "text/plain": [
       "<IPython.core.display.HTML object>"
      ]
     },
     "metadata": {},
     "output_type": "display_data"
    }
   ],
   "source": [
    "%%html\n",
    "\n",
    "<p>This is a deleted element: <del>deleted</del>.</p>"
   ]
  },
  {
   "cell_type": "markdown",
   "metadata": {},
   "source": [
    "## The ```hr``` and ```br``` Elements (horizontal rules and line breaks)"
   ]
  },
  {
   "cell_type": "code",
   "execution_count": 10,
   "metadata": {},
   "outputs": [
    {
     "data": {
      "text/html": [
       "\n",
       "<span>one</span><span>two</span>\n",
       "<hr/>\n",
       "<span>one</span><br/><span>two</span>\n"
      ],
      "text/plain": [
       "<IPython.core.display.HTML object>"
      ]
     },
     "metadata": {},
     "output_type": "display_data"
    }
   ],
   "source": [
    "%%html\n",
    "\n",
    "<span>one</span><span>two</span>\n",
    "<hr/>\n",
    "<span>one</span><br/><span>two</span>"
   ]
  },
  {
   "cell_type": "markdown",
   "metadata": {},
   "source": [
    "## The ```a``` Element (anchor)"
   ]
  },
  {
   "cell_type": "code",
   "execution_count": 3,
   "metadata": {},
   "outputs": [
    {
     "data": {
      "text/html": [
       "\n",
       "Click here: <a href=\"https://dev.w3.org/html5/html-author/\" target=\"_blank\">W3C HTML5 Reference</a>\n"
      ],
      "text/plain": [
       "<IPython.core.display.HTML object>"
      ]
     },
     "metadata": {},
     "output_type": "display_data"
    }
   ],
   "source": [
    "%%html\n",
    "\n",
    "Click here: <a href=\"https://dev.w3.org/html5/html-author/\" target=\"_blank\">W3C HTML5 Reference</a>"
   ]
  },
  {
   "cell_type": "markdown",
   "metadata": {},
   "source": [
    "## The ```img``` Element"
   ]
  },
  {
   "cell_type": "code",
   "execution_count": 4,
   "metadata": {},
   "outputs": [
    {
     "data": {
      "text/html": [
       "\n",
       "<img src=\"https://upload.wikimedia.org/wikipedia/commons/thumb/6/68/Orange_tabby_cat_sitting_on_fallen_leaves-Hisashi-01A.jpg/180px-Orange_tabby_cat_sitting_on_fallen_leaves-Hisashi-01A.jpg\" alt=\"Orange tabby  cat\">\n"
      ],
      "text/plain": [
       "<IPython.core.display.HTML object>"
      ]
     },
     "metadata": {},
     "output_type": "display_data"
    }
   ],
   "source": [
    "%%html\n",
    "\n",
    "<img src=\"https://upload.wikimedia.org/wikipedia/commons/thumb/6/68/Orange_tabby_cat_sitting_on_fallen_leaves-Hisashi-01A.jpg/180px-Orange_tabby_cat_sitting_on_fallen_leaves-Hisashi-01A.jpg\" alt=\"Orange tabby  cat\">"
   ]
  },
  {
   "cell_type": "markdown",
   "metadata": {},
   "source": [
    "## The ```ul``` and ```li``` Elements (unordered lists)"
   ]
  },
  {
   "cell_type": "code",
   "execution_count": 1,
   "metadata": {},
   "outputs": [
    {
     "data": {
      "text/html": [
       "\n",
       "<ul>\n",
       "  <li>Red</li>\n",
       "  <li>Green</li>\n",
       "  <li>Blue</li>\n",
       "</ul>\n",
       "<ol>\n",
       "    <li>One</li>\n",
       "    <li>Two</li>\n",
       "    <li>Three</li>\n",
       "</ol>\n"
      ],
      "text/plain": [
       "<IPython.core.display.HTML object>"
      ]
     },
     "metadata": {},
     "output_type": "display_data"
    }
   ],
   "source": [
    "%%html\n",
    "\n",
    "<ul>\n",
    "  <li>Red</li>\n",
    "  <li>Green</li>\n",
    "  <li>Blue</li>\n",
    "</ul>\n",
    "<ol>\n",
    "    <li>One</li>\n",
    "    <li>Two</li>\n",
    "    <li>Three</li>\n",
    "</ol>"
   ]
  },
  {
   "cell_type": "markdown",
   "metadata": {},
   "source": [
    "## The ```ol``` and ```li``` Elements (ordered lists)"
   ]
  },
  {
   "cell_type": "code",
   "execution_count": 24,
   "metadata": {},
   "outputs": [
    {
     "data": {
      "text/html": [
       "\n",
       "<ol>\n",
       "    <li>Item</li>\n",
       "    <li>Another Item</li>\n",
       "    <li>Yet Another Item</li>\n",
       "</ol>\n"
      ],
      "text/plain": [
       "<IPython.core.display.HTML object>"
      ]
     },
     "metadata": {},
     "output_type": "display_data"
    }
   ],
   "source": [
    "%%html\n",
    "\n",
    "<ol>\n",
    "    <li>Item</li>\n",
    "    <li>Another Item</li>\n",
    "    <li>Yet Another Item</li>\n",
    "</ol>"
   ]
  },
  {
   "cell_type": "markdown",
   "metadata": {},
   "source": [
    "## The ```dl``` and ```dt``` Elements (description lists)"
   ]
  },
  {
   "cell_type": "code",
   "execution_count": 26,
   "metadata": {},
   "outputs": [
    {
     "data": {
      "text/html": [
       "\n",
       "<dl>\n",
       "    <dt>name 1</dt>\n",
       "    <dd>value for 1</dd>\n",
       "    <dt>name 2</dt>\n",
       "    <dd>value for 2</dd>\n",
       "</dl>\n"
      ],
      "text/plain": [
       "<IPython.core.display.HTML object>"
      ]
     },
     "metadata": {},
     "output_type": "display_data"
    }
   ],
   "source": [
    "%%html\n",
    "\n",
    "<dl>\n",
    "    <dt>name 1</dt>\n",
    "    <dd>value for 1</dd>\n",
    "    <dt>name 2</dt>\n",
    "    <dd>value for 2</dd>\n",
    "</dl>"
   ]
  },
  {
   "cell_type": "markdown",
   "metadata": {},
   "source": [
    "## The ```button``` Element"
   ]
  },
  {
   "cell_type": "code",
   "execution_count": 6,
   "metadata": {},
   "outputs": [
    {
     "data": {
      "text/html": [
       "\n",
       "<button onclick=\"handleClick()\">Click me</button>\n",
       "<div id=\"result\"></div>\n",
       "\n",
       "<script>\n",
       "function handleClick() {\n",
       "  var now = new Date();\n",
       "  document.getElementById(\"result\").innerHTML = \n",
       "    \"Date: \" + now.getFullYear() + '-' + (now.getMonth()+1) + '-'+ now.getDate() + \"<br>\" +\n",
       "    \"Time: \" + now.getHours() + \":\" + now.getMinutes() + \":\" + now.getSeconds();\n",
       "}\n",
       "</script>\n"
      ],
      "text/plain": [
       "<IPython.core.display.HTML object>"
      ]
     },
     "metadata": {},
     "output_type": "display_data"
    }
   ],
   "source": [
    "%%html\n",
    "\n",
    "<button onclick=\"handleClick()\">Click me</button>\n",
    "<div id=\"result\"></div>\n",
    "\n",
    "<script>\n",
    "function handleClick() {\n",
    "  var now = new Date();\n",
    "  document.getElementById(\"result\").innerHTML = \n",
    "    \"Date: \" + now.getFullYear() + '-' + (now.getMonth()+1) + '-'+ now.getDate() + \"<br>\" +\n",
    "    \"Time: \" + now.getHours() + \":\" + now.getMinutes() + \":\" + now.getSeconds();\n",
    "}\n",
    "</script>"
   ]
  },
  {
   "cell_type": "markdown",
   "metadata": {},
   "source": [
    "## The ```p```, ```u```, ```em```, ```mark```, and ```strong``` Elements, and the ```style``` Attribute"
   ]
  },
  {
   "cell_type": "code",
   "execution_count": 6,
   "metadata": {},
   "outputs": [
    {
     "data": {
      "text/html": [
       "\n",
       "<p style=\"color:green\"><u>This</u> <em>is</em> a <mark>green</mark> p <strong>element</strong>.</p>\n"
      ],
      "text/plain": [
       "<IPython.core.display.HTML object>"
      ]
     },
     "metadata": {},
     "output_type": "display_data"
    }
   ],
   "source": [
    "%%html\n",
    "\n",
    "<p style=\"color:green\"><u>This</u> <em>is</em> a <mark>green</mark> p <strong>element</strong>.</p>"
   ]
  },
  {
   "cell_type": "markdown",
   "metadata": {},
   "source": [
    "## The ```abbr```, ```ins```,  ```del```, ```sub```, and ```sup``` Attributes"
   ]
  },
  {
   "cell_type": "code",
   "execution_count": 21,
   "metadata": {},
   "outputs": [
    {
     "data": {
      "text/html": [
       "\n",
       "<p>This is written in <abbr title=\"Hypertext Markup Language\">HTML</abbr>, so hover your mouse over it.</p>\n",
       "<ins>inserted Text</ins><br/>\n",
       "<del>deleted Text</del><br/>\n",
       "y = x<sup>2</sup><br/>\n",
       "x<sub>i</sub> is the i<sup>th</sup> element in the list\n"
      ],
      "text/plain": [
       "<IPython.core.display.HTML object>"
      ]
     },
     "metadata": {},
     "output_type": "display_data"
    }
   ],
   "source": [
    "%%html\n",
    "\n",
    "<p>This is written in <abbr title=\"Hypertext Markup Language\">HTML</abbr>, so hover your mouse over it.</p>\n",
    "<ins>inserted Text</ins><br/>\n",
    "<del>deleted Text</del><br/>\n",
    "x<sub>i</sub> is the i<sup>th</sup> element in the list"
   ]
  },
  {
   "cell_type": "markdown",
   "metadata": {},
   "source": [
    "## Element Attributes\n",
    "\n",
    "* ```alt``` provides alternative text for image\n",
    "* ```disabled``` causes input element is disabled\n",
    "* ```href``` provides the URL for a link\n",
    "* ```id``` provides a unique id for an element\n",
    "* ```src``` provides the URL for an image\n",
    "* ```style``` provides an inline CSS style\n",
    "* ```title``` provides tool tip text"
   ]
  },
  {
   "cell_type": "markdown",
   "metadata": {},
   "source": [
    "## The ```title``` Attribute (tooltip)"
   ]
  },
  {
   "cell_type": "code",
   "execution_count": 11,
   "metadata": {},
   "outputs": [
    {
     "data": {
      "text/html": [
       "\n",
       "<h1 title=\"This is a tooltip\">Hover mouse over following element to see tooltip</h1>\n"
      ],
      "text/plain": [
       "<IPython.core.display.HTML object>"
      ]
     },
     "metadata": {},
     "output_type": "display_data"
    }
   ],
   "source": [
    "%%html\n",
    "\n",
    "<h1 title=\"This is a tooltip\">Hover mouse over following element to see tooltip</h1>"
   ]
  },
  {
   "cell_type": "markdown",
   "metadata": {},
   "source": [
    "## The ```canvas``` Element (imperative graphics)"
   ]
  },
  {
   "cell_type": "code",
   "execution_count": 2,
   "metadata": {},
   "outputs": [
    {
     "data": {
      "text/html": [
       "\n",
       "<canvas id=\"canvas1\" width=\"200\" height=\"200\" style=\"border:1px solid #000000;\">\n",
       "Your browser does not support the HTML5 canvas tag.</canvas>\n",
       "\n",
       "<script>\n",
       "var c = document.getElementById(\"canvas1\");\n",
       "var ctx = c.getContext(\"2d\");\n",
       "ctx.moveTo(0,0);\n",
       "ctx.lineTo(200,200);\n",
       "ctx.strokeStyle = '#ff0000';\n",
       "ctx.stroke();\n",
       "ctx.beginPath();\n",
       "ctx.arc(100, 100, 40, 0, 2 * Math.PI);\n",
       "ctx.strokeStyle = '#00ff00';\n",
       "ctx.stroke();\n",
       "ctx.font = \"20px Comic Sans MS\";\n",
       "ctx.fillStyle = '#0000ff';\n",
       "ctx.fillText(\"Hello Canvas\", 70, 50);\n",
       "</script>\n"
      ],
      "text/plain": [
       "<IPython.core.display.HTML object>"
      ]
     },
     "metadata": {},
     "output_type": "display_data"
    }
   ],
   "source": [
    "%%html\n",
    "\n",
    "<canvas id=\"canvas1\" width=\"200\" height=\"200\" style=\"border:1px solid #000000;\">\n",
    "Your browser does not support the HTML5 canvas tag.</canvas>\n",
    "\n",
    "<script>\n",
    "var c = document.getElementById(\"canvas1\");\n",
    "var ctx = c.getContext(\"2d\");\n",
    "ctx.moveTo(0,0);\n",
    "ctx.lineTo(200,200);\n",
    "ctx.strokeStyle = '#ff0000';\n",
    "ctx.stroke();\n",
    "ctx.beginPath();\n",
    "ctx.arc(100, 100, 40, 0, 2 * Math.PI);\n",
    "ctx.strokeStyle = '#00ff00';\n",
    "ctx.stroke();\n",
    "ctx.font = \"20px Comic Sans MS\";\n",
    "ctx.fillStyle = '#0000ff';\n",
    "ctx.fillText(\"Hello Canvas\", 70, 50);\n",
    "</script>"
   ]
  },
  {
   "cell_type": "markdown",
   "metadata": {},
   "source": [
    "## The ```svg``` Element  (declarative graphics)"
   ]
  },
  {
   "cell_type": "code",
   "execution_count": 3,
   "metadata": {},
   "outputs": [
    {
     "data": {
      "text/html": [
       "\n",
       "<svg width='200' height='200' style=\"border:1px solid #000000;\">\n",
       "<rect x='100' y='40' width='80' height='80' style='fill: red;'></rect>\n",
       "<circle cx=\"50\" cy=\"50\" r=\"40\" stroke=\"green\" stroke-width=\"4\" fill=\"yellow\" />\n",
       "<ellipse cx=\"100\" cy=\"150\" rx=\"80\" ry=\"50\" style=\"fill:yellow;stroke:blue;stroke-width:2\" />\n",
       "<line x1=\"0\" y1=\"0\" x2=\"200\" y2=\"200\" style=\"stroke:rgb(255,0,0);stroke-width:5\" />\n",
       "<text x=\"100\" y=\"20\" fill=\"magenta\">Hello SVG</text>\n",
       "</svg>\n"
      ],
      "text/plain": [
       "<IPython.core.display.HTML object>"
      ]
     },
     "metadata": {},
     "output_type": "display_data"
    }
   ],
   "source": [
    "%%html\n",
    "\n",
    "<svg width='200' height='200' style=\"border:1px solid #000000;\">\n",
    "<rect x='100' y='40' width='80' height='80' style='fill: red;'></rect>\n",
    "<circle cx=\"50\" cy=\"50\" r=\"40\" stroke=\"green\" stroke-width=\"4\" fill=\"yellow\" />\n",
    "<ellipse cx=\"100\" cy=\"150\" rx=\"80\" ry=\"50\" style=\"fill:yellow;stroke:blue;stroke-width:2\" />\n",
    "<line x1=\"0\" y1=\"0\" x2=\"200\" y2=\"200\" style=\"stroke:rgb(255,0,0);stroke-width:5\" />\n",
    "<text x=\"100\" y=\"20\" fill=\"magenta\">Hello SVG</text>\n",
    "</svg>"
   ]
  },
  {
   "cell_type": "markdown",
   "metadata": {},
   "source": [
    "## The ```pre``` Element\n",
    "\n",
    "* The ```pre``` element defines preformatted text\n",
    "* Defaults to fixed-width font\n",
    "* Preserves white-space and line breaks"
   ]
  },
  {
   "cell_type": "code",
   "execution_count": 15,
   "metadata": {},
   "outputs": [
    {
     "data": {
      "text/html": [
       "\n",
       "<pre>\n",
       "You think you've lost your love\n",
       "    Well, I saw her yesterday-ay\n",
       "        It's you she's thinking of\n",
       "            And she told me what to say-ay\n",
       "            \n",
       "            She says she loves you\n",
       "        And you know that can't be bad\n",
       "    Yes, she loves you\n",
       "And you know you should be glad\n",
       "</pre>\n"
      ],
      "text/plain": [
       "<IPython.core.display.HTML object>"
      ]
     },
     "metadata": {},
     "output_type": "display_data"
    }
   ],
   "source": [
    "%%html\n",
    "\n",
    "<pre>\n",
    "You think you've lost your love\n",
    "    Well, I saw her yesterday-ay\n",
    "        It's you she's thinking of\n",
    "            And she told me what to say-ay\n",
    "            \n",
    "            She says she loves you\n",
    "        And you know that can't be bad\n",
    "    Yes, she loves you\n",
    "And you know you should be glad\n",
    "</pre>"
   ]
  },
  {
   "cell_type": "markdown",
   "metadata": {},
   "source": [
    "## The ```table``` Element"
   ]
  },
  {
   "cell_type": "code",
   "execution_count": 21,
   "metadata": {},
   "outputs": [
    {
     "data": {
      "text/html": [
       "\n",
       "<table style=\"width:100%\">\n",
       "  <tr>\n",
       "    <th>First Name</th>\n",
       "    <th>Last Name</th>\n",
       "    <th>Age</th>\n",
       "  </tr>\n",
       "  <tr>\n",
       "    <td>Sammy</td>\n",
       "    <td>Danforth</td>\n",
       "    <td>30</td>\n",
       "  </tr>\n",
       "  <tr>\n",
       "    <td>Sally</td>\n",
       "    <td>Simpson</td>\n",
       "    <td>45</td>\n",
       "  </tr>\n",
       "</table>\n"
      ],
      "text/plain": [
       "<IPython.core.display.HTML object>"
      ]
     },
     "metadata": {},
     "output_type": "display_data"
    }
   ],
   "source": [
    "%%html\n",
    "\n",
    "<table style=\"width:100%\">\n",
    "  <tr>\n",
    "    <th>First Name</th>\n",
    "    <th>Last Name</th>\n",
    "    <th>Age</th>\n",
    "  </tr>\n",
    "  <tr>\n",
    "    <td>Sammy</td>\n",
    "    <td>Danforth</td>\n",
    "    <td>30</td>\n",
    "  </tr>\n",
    "  <tr>\n",
    "    <td>Sally</td>\n",
    "    <td>Simpson</td>\n",
    "    <td>45</td>\n",
    "  </tr>\n",
    "</table>"
   ]
  },
  {
   "cell_type": "markdown",
   "metadata": {},
   "source": [
    "## The ```div``` and ```span``` Elements"
   ]
  },
  {
   "cell_type": "code",
   "execution_count": 7,
   "metadata": {},
   "outputs": [
    {
     "data": {
      "text/html": [
       "\n",
       "<div style=\"background-color:yellow;}\">\n",
       "    <p style=\"color:red;\">This is a paragraph in a div. It also contains a <span style=\"color:green;\">span</span></p>\n",
       "</div>\n"
      ],
      "text/plain": [
       "<IPython.core.display.HTML object>"
      ]
     },
     "metadata": {},
     "output_type": "display_data"
    }
   ],
   "source": [
    "%%html\n",
    "\n",
    "<div style=\"background-color:yellow;}\">\n",
    "    <p style=\"color:red;\">This is a paragraph in a div. It also contains a <span style=\"color:green;\">span</span></p>\n",
    "</div>"
   ]
  },
  {
   "cell_type": "markdown",
   "metadata": {},
   "source": [
    "## The ```script``` Element\n",
    "\n",
    "* Embedded JavaScript code\n",
    "```html\n",
    "<script>\n",
    "    // JavaScript code\n",
    "</script>\n",
    "```\n",
    "* External JavaScript Code\n",
    "asynchronously\n",
    "```html\n",
    "<script type=\"text/javascript\" src=\"URL\" async></script>\n",
    "```\n"
   ]
  },
  {
   "cell_type": "markdown",
   "metadata": {},
   "source": [
    "## The ```form``` Element\n",
    "\n",
    "### Form Attributes\n",
    "* ```accept-charset``` specifies character encodings for form submission\n",
    "* ```action``` specifies where to send form-data when submitted\n",
    "* ```autocomplete``` specifies whether form should autocomplete\n",
    "* ```enctype``` specifies how form-data is encoded when submitted to server (```post``` only)\n",
    "* ```method``` specifies HTTP method for sending form-data (```post``` or ```get```)\n",
    "* ```name``` specifies name of form\n",
    "* ```novalidate``` specifies form is not to be validated when submitted\n",
    "* ```target``` specifies where to display response to be received from submitting form\n",
    "\n",
    "### The ```form``` Element  May Contain thes Child Elements:\n",
    "\n",
    "* ```input``` specifies an input field where the user can enter data\n",
    "* ```textarea``` defines a multi-line text input control\n",
    "* ```button``` defines a clickable button\n",
    "* ```select``` creates a drop-down list\n",
    "* ```option``` defines an option in a ```select``` list\n",
    "* ```optgroup``` groups related options in a ```select``` element (drop-down list)\n",
    "* ```fieldset``` groups related elements in a ```form``` element\n",
    "* ```label``` defines a label for an ```input```, ```meter```, ```progress```, ```select```, or ```textarea``` element\n",
    "* ```output``` displays the result of a calculation output\n",
    "    \n",
    "\n",
    "    \n",
    "### Example Form\n",
    "```html\n",
    "<form method=\"post\" enctype=\"multipart/form-data\" action=\"upload.php\">\n",
    "    <input type=\"file\" name=\"pic\" />\n",
    "    <input type=\"submit\" value=\"Upload\" />\n",
    "</form>\n",
    "```\n",
    "### Another Example Form\n",
    "\n",
    "```html\n",
    "<form action=\"/action_page.php\">\n",
    "    <label for=\"fname\">First name:</label>\n",
    "    <input type=\"text\" id=\"fname\" name=\"fname\"><br><br>\n",
    "    <label for=\"lname\">Last name:</label>\n",
    "    <input type=\"text\" id=\"lname\" name=\"lname\"><br><br>\n",
    "    <input type=\"submit\" value=\"Submit\">\n",
    "</form>\n",
    "```"
   ]
  },
  {
   "cell_type": "markdown",
   "metadata": {},
   "source": [
    "## Examples from the Web\n",
    "\n",
    "### WebGL\n",
    "* [A basic 2D WebGL animation example](https://developer.mozilla.org/en-US/docs/Web/API/WebGL_API/Basic_2D_animation_example)\n",
    "* [WebGL by example](https://developer.mozilla.org/en-US/docs/Web/API/WebGL_API/By_example)\n",
    "\n",
    "\n",
    "### xxx\n",
    "* xxx"
   ]
  },
  {
   "cell_type": "code",
   "execution_count": null,
   "metadata": {},
   "outputs": [],
   "source": []
  }
 ],
 "metadata": {
  "kernelspec": {
   "display_name": "Python 3",
   "language": "python",
   "name": "python3"
  },
  "language_info": {
   "codemirror_mode": {
    "name": "ipython",
    "version": 3
   },
   "file_extension": ".py",
   "mimetype": "text/x-python",
   "name": "python",
   "nbconvert_exporter": "python",
   "pygments_lexer": "ipython3",
   "version": "3.7.6"
  }
 },
 "nbformat": 4,
 "nbformat_minor": 4
}
