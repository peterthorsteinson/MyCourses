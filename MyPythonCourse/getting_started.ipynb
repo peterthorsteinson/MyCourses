{
 "cells": [
  {
   "cell_type": "markdown",
   "metadata": {},
   "source": [
    "# Getting Started"
   ]
  },
  {
   "cell_type": "markdown",
   "metadata": {},
   "source": [
    "## Python History and Features\n",
    "* Released by Guido van Rossum in 1991\n",
    "* Cross-platform and Open source\n",
    "* Python 2.x vs Python 3.x\n",
    "* Interpreted programming language\n",
    "* Whitespace is syntactically significant\n",
    "* Dynamic type system\n",
    "* Automatic memory management system\n",
    "* Object-oriented, imperative, procedural, and functional programming paradigms\n",
    "* Comprehensive standard library and thousands of special purpose libraries\n",
    "\n",
    "## Python Areas of Application\n",
    "* Machine Learning and Mathematical Applications\n",
    "* Web Server Applications\n",
    "* Desktop GUI Applications\n",
    "* Automated Systems Administration Scripting\n",
    "\n",
    "## Python Distributions and Editors\n",
    "*  [Official reference implementation distribution (CPython, IDLE, standard packages and pip)](https://www.python.org)\n",
    "*  [Anaconda Python distribution (Anaconda, Spyder, Jupyter, advanced Math packages and conda)](https://docs.anaconda.com)\n",
    "*  [Other Python distributions](https://wiki.python.org/moin/PythonDistributions)\n",
    "*  [Various Python editors and IDEs](https://wiki.python.org/moin/PythonEditors)"
   ]
  },
  {
   "cell_type": "markdown",
   "metadata": {},
   "source": [
    "## Official Documentation\n",
    "* [Install Python](https://www.python.org/downloads)  \n",
    "* [Alternatively install Anaconda Python for Jupyter Notebooks etc.](https://docs.anaconda.com/anaconda/install)  \n",
    "* [Python 3.8.2 documentation](https://docs.python.org/3)  \n",
    "* [Python Setup and Usage](https://docs.python.org/3/using/index.html)  \n",
    "* [The Python Tutorial](https://docs.python.org/3/tutorial/index.html)  \n",
    "* [The Python Language Reference](https://docs.python.org/3/reference/index.html)  \n",
    "* [The pip Python Package Installer](https://pip.pypa.io/en/stable)  \n",
    "* [PEP 8 -- Style Guide for Python Code](https://www.python.org/dev/peps/pep-0008)"
   ]
  },
  {
   "cell_type": "markdown",
   "metadata": {},
   "source": [
    "## Shell Command to see what Python version (if any) is installed\n",
    "\n",
    "Verify that 3.x is installed (if not then you need to install it)\n",
    "\n",
    "```python\n",
    "python --version\n",
    "```\n",
    "or\n",
    "```python\n",
    "python -V\n",
    "```"
   ]
  },
  {
   "cell_type": "code",
   "execution_count": 1,
   "metadata": {},
   "outputs": [
    {
     "name": "stdout",
     "output_type": "stream",
     "text": [
      "Python 3.8.5\n"
     ]
    }
   ],
   "source": [
    "# Leading exclamation mark in Jupyter Notebook executes shell command and displays standard output in cell\n",
    "# NOTE: if version is not 3.x, you need to install it (2.x is depricated)\n",
    "# Download and install at https://www.python.org/downloads (IDLE etc.) \n",
    "# or\n",
    "# https://docs.anaconda.com/anaconda/install (Jupyter Notebooks etc.)\n",
    "!python --version"
   ]
  },
  {
   "cell_type": "markdown",
   "metadata": {},
   "source": [
    "## Interactive Mode vs Script Mode \n",
    "* Interactive mode provides a command line shell interpreter which gives immediate feedback for each statement:  \n",
    "**python**\n",
    "* Script mode loads and runs a .py script file in the Python interpreter:  \n",
    "**python hello.py**\n",
    "* You can use the -i flag to start a .py script file in an interactive session (useful for debugging and prototyping):  \n",
    "**python -i hello.py**"
   ]
  },
  {
   "cell_type": "markdown",
   "metadata": {},
   "source": [
    "## Command Line Arguments\n",
    "When you run the Python interpreter from the command line, the **sys.argv** array contains the command line arguments."
   ]
  },
  {
   "cell_type": "code",
   "execution_count": 3,
   "metadata": {},
   "outputs": [
    {
     "data": {
      "text/plain": [
       "'C:\\\\Users\\\\SDEInstructor\\\\Anaconda3\\\\lib\\\\site-packages\\\\ipykernel_launcher.py'"
      ]
     },
     "execution_count": 3,
     "metadata": {},
     "output_type": "execute_result"
    }
   ],
   "source": [
    "import sys\n",
    "sys.argv[0] # the first element of sys.argv is the command line program that was run invoke the python interpreter."
   ]
  },
  {
   "cell_type": "markdown",
   "metadata": {},
   "source": [
    "## The Shebang Line (Linux)\n",
    "The shebang line at the top of a python script allows it to be executed like a standalone executable without explicitly typing python first or when double clicking on it in a file manager.\n",
    "The correct usage for a Python 3 scripts is:\n",
    "\n",
    "**#!/usr/bin/env python3**"
   ]
  },
  {
   "cell_type": "markdown",
   "metadata": {},
   "source": [
    "## Hello World"
   ]
  },
  {
   "cell_type": "code",
   "execution_count": 4,
   "metadata": {},
   "outputs": [
    {
     "name": "stdout",
     "output_type": "stream",
     "text": [
      "Hello World!\n",
      "This is fun so far...\n",
      "7\n"
     ]
    }
   ],
   "source": [
    "# The Print Function\n",
    "print(\"Hello World!\")\n",
    "print('This is fun so far...')\n",
    "print(3 + 4)\n"
   ]
  },
  {
   "cell_type": "markdown",
   "metadata": {},
   "source": [
    "## Defining Variables and Assigning Values"
   ]
  },
  {
   "cell_type": "code",
   "execution_count": 7,
   "metadata": {},
   "outputs": [
    {
     "name": "stdout",
     "output_type": "stream",
     "text": [
      "10 20 30\n",
      "<class 'int'>\n",
      "\n",
      "Hello  World Hello World\n",
      "<class 'str'>\n"
     ]
    }
   ],
   "source": [
    "x = 10\n",
    "y = 20\n",
    "result = x + y\n",
    "print(x, y, result)\n",
    "print(type(result))\n",
    "print()\n",
    "x, y = \"Hello \", 'World'\n",
    "result = x + y\n",
    "print(x, y, result)\n",
    "print(type(result))"
   ]
  },
  {
   "cell_type": "markdown",
   "metadata": {},
   "source": [
    "## Variable Naming Rules\n",
    "\n",
    "* A variable name must start with a uppercase or lowercase unicode character or underscore (a-z, A-Z, _ )\n",
    "* Each subsequent characters must be alpha-numeric or underscore character (a-z, A-Z, 0-9, _ )\n",
    "* A variable name must not start with a numberic digit\n",
    "* A variable name cannot be a Python Keyword (if, elif, def, import, class, return, etc.)\n",
    "* Variable names are case-sensitive (velocity, Velocity and VELOCITY are all distinct variables names)\n",
    "\n",
    "By convention, a single underscore variable name prefix is a hint that a variable is meant for internal use only.  \n",
    "By convention, a double underscore prefix causes the Python interpreter to mangle the variable name to avoid naming conflicts.  \n",
    "By convention, a single underscore on its own can be used to name a variable or parameter that is syntactically required but never actually used.\n",
    "\n",
    "\n"
   ]
  },
  {
   "cell_type": "code",
   "execution_count": 11,
   "metadata": {},
   "outputs": [
    {
     "name": "stdout",
     "output_type": "stream",
     "text": [
      "hello world\n",
      "안녕 세상\n"
     ]
    }
   ],
   "source": [
    "hello_world = \"hello world\" # \"안녕 세상\"\n",
    "print(hello_world)\n",
    "안녕_세상 = \"안녕 세상\"\n",
    "print(안녕_세상)"
   ]
  },
  {
   "cell_type": "markdown",
   "metadata": {},
   "source": [
    "## Deleting a Variable"
   ]
  },
  {
   "cell_type": "code",
   "execution_count": 7,
   "metadata": {},
   "outputs": [
    {
     "name": "stdout",
     "output_type": "stream",
     "text": [
      "42\n"
     ]
    },
    {
     "ename": "NameError",
     "evalue": "name 'x' is not defined",
     "output_type": "error",
     "traceback": [
      "\u001b[1;31m---------------------------------------------------------------------------\u001b[0m",
      "\u001b[1;31mNameError\u001b[0m                                 Traceback (most recent call last)",
      "\u001b[1;32m<ipython-input-7-7f47daf115c5>\u001b[0m in \u001b[0;36m<module>\u001b[1;34m\u001b[0m\n\u001b[0;32m      2\u001b[0m \u001b[0mprint\u001b[0m\u001b[1;33m(\u001b[0m\u001b[0mx\u001b[0m\u001b[1;33m)\u001b[0m\u001b[1;33m\u001b[0m\u001b[1;33m\u001b[0m\u001b[0m\n\u001b[0;32m      3\u001b[0m \u001b[1;32mdel\u001b[0m \u001b[0mx\u001b[0m\u001b[1;33m\u001b[0m\u001b[1;33m\u001b[0m\u001b[0m\n\u001b[1;32m----> 4\u001b[1;33m \u001b[0mprint\u001b[0m\u001b[1;33m(\u001b[0m\u001b[0mx\u001b[0m\u001b[1;33m)\u001b[0m \u001b[1;31m# NameError\u001b[0m\u001b[1;33m\u001b[0m\u001b[1;33m\u001b[0m\u001b[0m\n\u001b[0m",
      "\u001b[1;31mNameError\u001b[0m: name 'x' is not defined"
     ]
    }
   ],
   "source": [
    "x = 42\n",
    "print(x)\n",
    "del x\n",
    "print(x) # NameError"
   ]
  },
  {
   "cell_type": "markdown",
   "metadata": {},
   "source": [
    "## Data Types\n",
    "* [Built-in Data Types](https://en.wikibooks.org/wiki/Python_Programming/Data_Types)\n",
    "* A variable is a container for storing a value.\n",
    "* A variable data type is dynamically defined when you initially assign a value to it.\n",
    "* A variable data type is dynamically re-defined when you re-assign a value to it."
   ]
  },
  {
   "cell_type": "code",
   "execution_count": 25,
   "metadata": {},
   "outputs": [
    {
     "name": "stdout",
     "output_type": "stream",
     "text": [
      "42 <class 'int'>\n",
      "42.0 <class 'float'>\n",
      "False <class 'bool'>\n",
      "True <class 'bool'>\n",
      "World <class 'str'>\n",
      "Hello <class 'str'>\n",
      "(3+4j) <class 'complex'>\n",
      "[1, 2, 3] <class 'list'>\n",
      "(1, 2, 3) <class 'tuple'>\n",
      "{1, 2, 3} <class 'set'>\n",
      "{1: 'hello', 3: 'Python'} <class 'dict'>\n",
      "None <class 'NoneType'>\n",
      "<function <lambda> at 0x000001D5DD8A68B8> <class 'function'> 25\n"
     ]
    }
   ],
   "source": [
    "# Built-in Data Types\n",
    "x = 42                      # Integer literal\n",
    "print(x, type(x))\n",
    "x = 42.0                    # Float literal\n",
    "print(x, type(x))\n",
    "x = False                   # Boolean literal\n",
    "print(x, type(x))\n",
    "x = 3 == 3                  # Boolean expression\n",
    "print(x, type(x))\n",
    "x = 'World'                 # String literal in single quotes\n",
    "print(x, type(x))\n",
    "x = \"Hello\"                 # String literal in double quotes\n",
    "print(x, type(x))\n",
    "x = 3 + 4j                  # Complex literal\n",
    "print(x, type(x))\n",
    "x = [1, 2, 3]               # List literal\n",
    "print(x, type(x))\n",
    "x = (1, 2, 3)               # Tuple literal\n",
    "print(x, type(x))\n",
    "x = {1, 2, 3}               # Set literal\n",
    "print(x, type(x))\n",
    "x = {1:'hello', 3:'Python'} # Dictionary literal\n",
    "print(x, type(x))\n",
    "x = None                    # Literal None\n",
    "print(x, type(x))\n",
    "x = lambda x: x**2          # literal lambda\n",
    "print(x, type(x), x(5))"
   ]
  },
  {
   "cell_type": "code",
   "execution_count": 26,
   "metadata": {},
   "outputs": [
    {
     "name": "stdout",
     "output_type": "stream",
     "text": [
      "1 2 3\n"
     ]
    }
   ],
   "source": [
    "# You can assign multiple Values to Multiple Variables in a single statement\n",
    "x, y, z = 1, 2, 3\n",
    "print(x, y, z)"
   ]
  },
  {
   "cell_type": "markdown",
   "metadata": {},
   "source": [
    "## Defining Functions\n",
    "* A Function is defined using the def keyword\n",
    "* The code block in a function is indented"
   ]
  },
  {
   "cell_type": "code",
   "execution_count": 33,
   "metadata": {},
   "outputs": [
    {
     "name": "stdout",
     "output_type": "stream",
     "text": [
      "7\n"
     ]
    }
   ],
   "source": [
    "def AddNumbers(a, b):\n",
    "    return a + b\n",
    "result = AddNumbers(3, 4)\n",
    "print(result)"
   ]
  },
  {
   "cell_type": "markdown",
   "metadata": {},
   "source": [
    "## Global Variables\n",
    "* Global Variables are variables defined outside of any function.\n",
    "* Global variables are visible (i.e. in scope) inside and outside of all functions.\n",
    "\n",
    "## Local Variables\n",
    "* Local Variables are variables defined inside of a function.\n",
    "* Local Variables are visible (i.e. in scope) only inside the functions in which they are defined."
   ]
  },
  {
   "cell_type": "markdown",
   "metadata": {},
   "source": [
    "## The ```global``` Keyword \n",
    "* If a variable is assigned a new value in a function and that variable has the same name as a global variable, then that local variable hides the global variable within that function and that global variable is not modified when it is assigned a new value in that function.\n",
    "* To define a global variable inside a function, use the **global** keyword to declare it before it is asssigned a value.\n",
    "* Variables that are only referenced (i.e. not assigned) inside a function are implicitly global."
   ]
  },
  {
   "cell_type": "code",
   "execution_count": 28,
   "metadata": {},
   "outputs": [
    {
     "name": "stdout",
     "output_type": "stream",
     "text": [
      "42\n",
      "42\n"
     ]
    }
   ],
   "source": [
    "x = 42 # global variable\n",
    "def foo():\n",
    "  print(x) # prints global variable x - 42\n",
    "foo()\n",
    "print(x)   # prints global variable x - 42"
   ]
  },
  {
   "cell_type": "code",
   "execution_count": 29,
   "metadata": {},
   "outputs": [
    {
     "name": "stdout",
     "output_type": "stream",
     "text": [
      "13\n",
      "42\n"
     ]
    }
   ],
   "source": [
    "x = 42 # global variable\n",
    "def foo():\n",
    "  x = 13   # does not modify global x because this x is local and it hides global x\n",
    "  print(x) # prints local variable x  - 13\n",
    "foo()\n",
    "print(x)   # prints global variable x - 42"
   ]
  },
  {
   "cell_type": "code",
   "execution_count": 30,
   "metadata": {},
   "outputs": [
    {
     "name": "stdout",
     "output_type": "stream",
     "text": [
      "13\n",
      "13\n"
     ]
    }
   ],
   "source": [
    "x = 42 # global variable\n",
    "def foo():\n",
    "  global x # makes x in this function refer to global x\n",
    "  x = 13   # modifies global x\n",
    "  print(x) # prints global variable x - 13\n",
    "foo()\n",
    "print(x)   # prints global variable x - 13"
   ]
  },
  {
   "cell_type": "markdown",
   "metadata": {},
   "source": [
    "## Built-in Functions\n",
    "[Built-in Functions](https://docs.python.org/3/library/functions.html)  "
   ]
  },
  {
   "cell_type": "code",
   "execution_count": 4,
   "metadata": {},
   "outputs": [
    {
     "name": "stdout",
     "output_type": "stream",
     "text": [
      "42\n",
      "3.141592\n",
      "5.0\n"
     ]
    }
   ],
   "source": [
    "print(abs(42))        # absolute value of integer\n",
    "print(abs(-3.141592)) # absolute value of float\n",
    "print(abs(3+4j))      # absolute value of complex"
   ]
  },
  {
   "cell_type": "code",
   "execution_count": 7,
   "metadata": {},
   "outputs": [
    {
     "name": "stdout",
     "output_type": "stream",
     "text": [
      "15\n"
     ]
    }
   ],
   "source": [
    "print(sum([1, 2, 3, 4, 5])) # sum values in an iterable"
   ]
  },
  {
   "cell_type": "code",
   "execution_count": 15,
   "metadata": {},
   "outputs": [
    {
     "name": "stdout",
     "output_type": "stream",
     "text": [
      "range(10, 20, 2)\n",
      "<class 'range'>\n",
      "10\n",
      "12\n",
      "14\n",
      "16\n",
      "18\n"
     ]
    }
   ],
   "source": [
    "start = 10; stop = 20; step=2\n",
    "r = range(start, stop, step)\n",
    "print(r)\n",
    "print(type(r))\n",
    "for x in r:\n",
    "    print(x)"
   ]
  },
  {
   "cell_type": "code",
   "execution_count": 16,
   "metadata": {},
   "outputs": [
    {
     "data": {
      "text/plain": [
       "5"
      ]
     },
     "execution_count": 16,
     "metadata": {},
     "output_type": "execute_result"
    }
   ],
   "source": [
    "len('Hello')"
   ]
  },
  {
   "cell_type": "code",
   "execution_count": 20,
   "metadata": {},
   "outputs": [
    {
     "name": "stdout",
     "output_type": "stream",
     "text": [
      "<map object at 0x0000023F1F5E8508>\n",
      "<class 'map'>\n",
      "100\n",
      "400\n",
      "900\n"
     ]
    }
   ],
   "source": [
    "l = [10, 20, 30]\n",
    "def f(x):\n",
    "    return x*x\n",
    "m = map(f, l)\n",
    "print(m)\n",
    "print(type(m))\n",
    "for item in m:\n",
    "    print(item)"
   ]
  },
  {
   "cell_type": "code",
   "execution_count": 12,
   "metadata": {},
   "outputs": [
    {
     "name": "stdout",
     "output_type": "stream",
     "text": [
      "4\n",
      "4\n",
      "10\n",
      "10\n"
     ]
    }
   ],
   "source": [
    "print(min(10, 4,  8))\n",
    "print(min([10, 4,  8]))\n",
    "print(max(10, 4,  8))\n",
    "print(max([10, 4,  8]))"
   ]
  },
  {
   "cell_type": "code",
   "execution_count": 15,
   "metadata": {},
   "outputs": [
    {
     "name": "stdout",
     "output_type": "stream",
     "text": [
      "<zip object at 0x000001FAF7A544C8>\n",
      "[(1, 4), (2, 5), (3, 6)]\n"
     ]
    }
   ],
   "source": [
    "x = [1, 2, 3]\n",
    "y = [4, 5, 6]\n",
    "zipped = zip(x, y)\n",
    "print(zipped)\n",
    "print(list(zipped))"
   ]
  },
  {
   "cell_type": "code",
   "execution_count": 16,
   "metadata": {},
   "outputs": [
    {
     "data": {
      "text/plain": [
       "2"
      ]
     },
     "execution_count": 16,
     "metadata": {},
     "output_type": "execute_result"
    }
   ],
   "source": [
    "x = 1\n",
    "eval('x+1')"
   ]
  },
  {
   "cell_type": "code",
   "execution_count": null,
   "metadata": {},
   "outputs": [],
   "source": []
  }
 ],
 "metadata": {
  "kernelspec": {
   "display_name": "Python 3",
   "language": "python",
   "name": "python3"
  },
  "language_info": {
   "codemirror_mode": {
    "name": "ipython",
    "version": 3
   },
   "file_extension": ".py",
   "mimetype": "text/x-python",
   "name": "python",
   "nbconvert_exporter": "python",
   "pygments_lexer": "ipython3",
   "version": "3.8.5"
  }
 },
 "nbformat": 4,
 "nbformat_minor": 4
}
