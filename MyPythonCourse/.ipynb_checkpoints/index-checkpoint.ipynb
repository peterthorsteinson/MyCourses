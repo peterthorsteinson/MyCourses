{
 "cells": [
  {
   "cell_type": "markdown",
   "metadata": {},
   "source": [
    "# My Python Course\n",
    "\n",
    "* See also: [My Git Course](../MyGitCourse/index.ipynb)\n",
    "* See also: [My Machine Learning Course](../MyMachineLearningCourse/index.ipynb)\n",
    "\n",
    "### Springer Free Books\n",
    "* [The Python Workbook Ben Stephenson](http://link.springer.com/openurl?genre=book&isbn=978-3-319-14240-1)\n",
    "* [A Beginners Guide to Python 3 Programming John Hunt](http://link.springer.com/openurl?genre=book&isbn=978-3-030-20290-3)\n",
    "* [Advanced Guide to Python 3 Programming John Hunt](http://link.springer.com/openurl?genre=book&isbn=978-3-030-25943-3)"
   ]
  },
  {
   "cell_type": "markdown",
   "metadata": {},
   "source": [
    "## Online Code Challenges\n",
    "\n",
    "* [exercism.io](https://exercism.io/my/tracks)\n",
    "* [hackerrank.com](https://www.hackerrank.com)\n",
    "* [leetcode.com](https://leetcode.com)\n",
    "* [edabit.com](https://edabit.com/challenges/python3)\n",
    "* [practicepython.org](https://www.practicepython.org)"
   ]
  },
  {
   "cell_type": "markdown",
   "metadata": {},
   "source": [
    "## Free Python Learning Resources\n",
    "\n",
    "* [Python Documentation](https://www.python.org/doc)\n",
    "* [Python Programming Fundamentals - Springer](https://link.springer.com/book/10.1007%2F978-1-4471-6642-9)\n",
    "* [Data Structures and Algorithms with Python - Springer](https://link.springer.com/book/10.1007/978-3-319-13072-9)\n",
    "* [The Python Workbook - Springer](https://link.springer.com/book/10.1007/978-3-319-14240-1)\n",
    "* [Programming for Computations Python - Springer](https://link.springer.com/book/10.1007/978-3-030-16877-3)\n",
    "* [Solving PDEs in Python - Springer](https://link.springer.com/book/10.1007/978-3-319-52462-7)\n",
    "* [Python quick reference guide](https://www.brianheinold.net/python/Python_Quick_Reference_Guide_Heinold.pdf)\n",
    "* [A Practical Introduction to Python Programming by Brian Heinold](https://www.brianheinold.net/python/python_book.html)\n",
    "* [An Intuitive Introduction to Data Structures](https://www.brianheinold.net/ds/data_structures_book_v2.html)\n",
    "* [The Hitchhiker’s Guide to Python!](https://docs.python-guide.org)\n",
    "* [A Python Book: Beginning Python, Advanced Python, and Python Exercises](https://www.davekuhlman.org/python_book_01.pdf)\n",
    "* [Dive Into Python 3](http://diveintopython3.problemsolving.io)\n",
    "* [Think Python 2e](https://greenteapress.com/wp/think-python-2e)\n",
    "* [The Python Tutorial](https://docs.python.org/3/tutorial)\n",
    "* [Learn Python the Hard Way](https://learnpythonthehardway.org/python3)\n",
    "* [Python Goalkicker](https://books.goalkicker.com/PythonBook)\n",
    "* [Reserved Keywords](https://docs.python.org/3.0/reference/lexical_analysis.html#id8)\n",
    "* [PEP 8 Style Guide for Python Code](https://www.python.org/dev/peps/pep-0008)\n",
    "* [CheckIO - learn Python and JavaScript for games](https://checkio.org)\n",
    "* [Invent with Python](https://inventwithpython.com)\n",
    "* [Exercism code challenges](https://exercism.io)\n",
    "* [Hackerrank code challenges](https://www.hackerrank.com)\n",
    "* [Project Euler code challenges](https://projecteuler.net)\n",
    "* [Codewars code challenges](https://www.codewars.com)\n",
    "* [LeetCode expand knowledge and prepare for tech interviews](https://leetcode.com)\n",
    "* [MITx: 6.00.1x Introduction to Computer Science and Programming Using Python](https://courses.edx.org/courses/course-v1:MITx+6.00.1x+1T2020/course)\n",
    "* [Google's Python Class](https://developers.google.com/edu/python)\n",
    "* [Python History](https://en.wikipedia.org/wiki/History_of_Python)\n",
    "* [Online Python REPL](https://www.python.org/shell)\n",
    "* [Another Online Python REPL](https://repl.it/languages/python3)\n",
    "* [Microsodft Python for Beginners](https://www.youtube.com/playlist?list=PLlrxD0HtieHhS8VzuMCfQD4uJ9yne1mE6)"
   ]
  },
  {
   "cell_type": "markdown",
   "metadata": {},
   "source": [
    "## Python Topics\n",
    "\n",
    "* [Getting Started](getting_started.ipynb)\n",
    "* [Syntax](syntax.ipynb)\n",
    "* [Data Types](data_types.ipynb)\n",
    "* [Expressions](expressions.ipynb)\n",
    "* [Several Examples](several_examples.ipynb)\n",
    "* [Custom Modules](custom_modules.ipynb)\n",
    "* [Math](math.ipynb)\n",
    "* [String](string.ipynb)\n",
    "* [Dictionaries and Sets](dictionaries_and_sets.ipynb)\n",
    "* [Sequence Slicing](sequence_slicing.ipynb)\n",
    "* [Functions](functions.ipynb)\n",
    "* [Classes](classes.ipynb)\n",
    "* [Control Statements](control_statements.ipynb)\n",
    "* [The with Keyword](the_with_keyword.ipynb)\n",
    "* [File IO](file_io.ipynb)\n",
    "* [CSV Parsing](csv_parsing.ipynb)\n",
    "* [JSON Parsing](json_parsing.ipynb)\n",
    "* [XML Parsing](xml_parsing.ipynb)\n",
    "* [Comprehensions](comprehensions.ipynb)\n",
    "* [The ```itertools``` Module](itertools_module.ipynb)\n",
    "* [Decorators](decorators.ipynb)\n",
    "* [Tkinter](Tkinter.ipynb)\n",
    "* [Regular Expressions](RegularExpressions.ipynb)\n",
    "* [SimpleHTTPRequestHandler](SimpleHTTPRequestHandler.ipynb)\n",
    "* [Flask Web Server Gateway Interface](FlaskWebServerGatewayInterface.ipynb)\n",
    "* [Quine: Self-Replicating Python Code](QuineSelfReplicatingPythonCode.ipynb)\n",
    "* [Simulate Particle Motion](simulate_particle_motion.ipynb)\n",
    "* [MySQL with Python](mysql_python.ipynb)\n",
    "* [SQLite with Python](sqlite_python.ipynb)\n",
    "* [MongoDB with Python](mongodb_python.ipynb)"
   ]
  },
  {
   "cell_type": "markdown",
   "metadata": {},
   "source": [
    "## Python Data Science and Mathematical Topics\n",
    "\n",
    "* [Lahman Baseball Pandas](lahman_baseball_pandas.ipynb)\n",
    "* [Boston Plot Prediction](boston_plot_prediction.ipynb)\n",
    "* [Matplotlib](matplotlib.ipynb)\n",
    "* [Plotly](plotly.ipynb)\n",
    "* [Numpy](numpy.ipynb)\n",
    "* [Pandas](pandas.ipynb)\n",
    "* [Scipy](scipy.ipynb)\n",
    "* [Probability and Statistics](probability_and_statistics.ipynb)\n",
    "* [Linear Regression](linear_regression.ipynb)\n",
    "* [Logistic Regression Learning Model](logistic_regression_learning_model.ipynb)\n",
    "* [Newton-Raphson Method](newton_raphson.ipynb)\n",
    "* [Decimal to Binary](http://localhost:8888/notebooks/Documents/MyPythonCourse_Jupyter/decimal_to_binary.ipynb)\n",
    "* [K Nearest Neighbours](k_nearest_neighbours.ipynb)\n",
    "* [K Nearest Neighbours Scikit-Learn](k_nearest_neighbours_scikit_learn.ipynb)\n",
    "* [Reinforcement Learning: Tic-Tac-Toe](ReinforcementLearningTicTacToe.ipynb)\n",
    "* [Stocks and Flows](StocksAndFlows.ipynb)\n",
    "* [Compare ML Algorithms](CompareMLAlgorithms.ipynb)\n",
    "* [Stock Data Analysis](StockDataAnalysis.ipynb)\n",
    "* [Time Series](TimeSeries.ipynb)\n",
    "* [Simulation and Modeling](simulation_modeling.ipynb)\n",
    "* [Logistic Map Chaos](LogisticMapChaos.ipynb)\n",
    "* [Fast Fourier Transform (FFT)](FastFourierTransform.ipynb)\n",
    "* [ODE Integrator](ODEIntegrator.ipynb)\n",
    "* [Asynchrony, Concurrency, and Parallelism](asynchrony_concurrency_parallelism.ipynb)\n",
    "* [2012 Workplace Fatalities by State (pandas)](2012WorkplaceFatalitiesByState.ipynb)\n",
    "* [Using MySql Connector (mysql.connector)](UsingMySqlConnector.ipynb)\n",
    "* [Accessing Azure MySQL Database (mysql.connector)](AccessingAzureMySQLDatabase.ipynb)\n",
    "* [Accessing SQLServer AdventureWorks2012 Database (pyodbc)](AccessingSQLServerAdventureWorks2012Database.ipynb)\n",
    "* [Accessing MS Access Database (pyodbc)](AccessingMSAccessDatabase.ipynb)\n",
    "* [Microsoft Data Science Bootcamp Module 1](microsoft_data_science_bootcamp_module_1.ipynb)\n",
    "* [Most Frequent Words in Section of a Webpage](MostFrequentWordsSectionWebpage.ipynb)\n",
    "* [Machine Learning Examples](github.com/bnsreenu/python_for_microscopists)\n",
    "    * [00_A review of COVID19 situation in India using Python.py](ReviewCOVID19SituationIndia.ipynb)\n",
    "    * [017-Reading_Images_in_Python.py](ReadingImagesPython.ipynb)\n",
    "    * [110_covid19_visualization_using_plotly.py](Covid19VisualizationPlotly.ipynb)\n",
    "    * [Many more...](https://github.com/bnsreenu/python_for_microscopists)\n",
    "* [Principle Component Analysis Data Visualization](PrincipleComponentAnalysisDataVisualization.ipynb)"
   ]
  },
  {
   "cell_type": "markdown",
   "metadata": {},
   "source": [
    "## Python Data Structures and Algorithms\n",
    "\n",
    "[Python: Data Structures and Algorithms](PythonDataStructuresAlgorithms.ipynb)"
   ]
  },
  {
   "cell_type": "code",
   "execution_count": null,
   "metadata": {},
   "outputs": [],
   "source": []
  }
 ],
 "metadata": {
  "kernelspec": {
   "display_name": "Python 3",
   "language": "python",
   "name": "python3"
  },
  "language_info": {
   "codemirror_mode": {
    "name": "ipython",
    "version": 3
   },
   "file_extension": ".py",
   "mimetype": "text/x-python",
   "name": "python",
   "nbconvert_exporter": "python",
   "pygments_lexer": "ipython3",
   "version": "3.7.6"
  }
 },
 "nbformat": 4,
 "nbformat_minor": 4
}
