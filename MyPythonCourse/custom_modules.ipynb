{
 "cells": [
  {
   "cell_type": "markdown",
   "metadata": {},
   "source": [
    "# Custom Modules"
   ]
  },
  {
   "cell_type": "markdown",
   "metadata": {},
   "source": [
    "## Defining and Importing a Module\n",
    "\n",
    "A module is a Python script file that can be imported to access functionality.\n",
    "A module can be created simply by saving a Python script as a .py file.\n",
    "Modules that you create are placed in the same directory as the file that you are importing them into.\n",
    "Functions in a module can then be used by importing the module.\n",
    "\n",
    "You can implement a module in a .py file as follows:\n",
    "\n",
    "```python\n",
    "# hello.py\n",
    "def say_hello():\n",
    "    print(\"Hello!\")\n",
    "```\n",
    "You can then import that entire module defined in that .py into another .py file using the import keyword as follows:\n",
    "\n",
    "```python\n",
    "# greet.py\n",
    "import hello\n",
    "hello.say_hello()\n",
    "```"
   ]
  },
  {
   "cell_type": "markdown",
   "metadata": {},
   "source": [
    "## The ```import``` Keyword\n",
    "\n",
    "```python\n",
    "# An entire module can be imported and then all identifiers can be accessed using the module name as a prefix\n",
    "import hello\n",
    "hello.say_hello()\n",
    "\n",
    "# Specific functions in module can be imported individually and used in isolation\n",
    "from hello import say_hello\n",
    "say_hello()\n",
    "\n",
    "# Modules can be aliased\n",
    "import hello as xyz\n",
    "xyz.say_hello()\n",
    "\n",
    "# Specific functions in module can be imported individually and used in isolation using an alias\n",
    "from hello import say_hello as xyz\n",
    "xyz()\n",
    "```"
   ]
  },
  {
   "cell_type": "markdown",
   "metadata": {},
   "source": [
    "## The ```__name__``` Variable\n",
    "\n",
    "When the Python interpreter loads a .py script file, it does two things:\n",
    "* it sets a few special variables like ```__name__```\n",
    "* it executes all of the code found in the file.\n",
    "\n",
    "A Python script can detect if it is run as a loaded module or as a stand-alone script.\n",
    "\n",
    "```python\n",
    "# hello.py (can be run as a loaded module or as a stand-alone script)\n",
    "if __name__ == '__main__':\n",
    "    print(\"The hello.py script is run as a main program file\")\n",
    "else:\n",
    "    print(\"The hello.py script is loaded and run as a module file\")\n",
    "def say_hello():\n",
    "    print(\"Hello!\")\n",
    "\n",
    "# greet.py (script that imports the hello.py module file)\n",
    "import hello\n",
    "hello.say_hello()\n",
    "```\n",
    "\n",
    "Run greet.py that loads hello.py as a module module:\n",
    "```\n",
    "python greet.py\n",
    "The hello.py script is loaded and run as a module file\n",
    "Hello!\n",
    "```\n",
    "Run the hello.py file directly as a standalone program:\n",
    "```\n",
    "python hello.py\n",
    "The hello.py script is run as a main program file\n",
    "```"
   ]
  },
  {
   "cell_type": "markdown",
   "metadata": {},
   "source": [
    "## Custom Packages and the ```__init__.py``` File\n",
    "\n",
    "NOTE: Any directory with an ```__init__.py``` file is considered a Python package.\n",
    "\n",
    "A package is implemented as one or more .py files in a seperate directory and that package directory should contain a file named ```__init__.py```. When the package is imported, the ```__init__.py``` file is automatically executed, to perform any required initialization for the package.\n",
    "\n",
    "The following example shows three .py files. The ```main.py``` file imports the module from the subfolder named ```my_module_dir``` and it  calls a function named ```my_function``` defined in that module after printing the fact that ```main.py``` is executed. The ```__init__.py``` file is available for initialization purposes but in this simple example we just print out the fact that it is executed when the module is imported. The ```my_module.py``` file is also located in the ```my_module_dir``` subfolder, and it implements the function named ```my_function```. Here are the files:\n",
    "```python\n",
    "# ./main.py\n",
    "import my_module_dir.my_module as mm\n",
    "print(\"main.py executed\")\n",
    "result = mm.my_function(3, 4)\n",
    "print(\"The result is: \", result)\n",
    "\n",
    "# ./my_module_dir/__init__.py\n",
    "print(\"__init__.py module loaded and executed\")\n",
    "\n",
    "# ./my_module_dir/my_module.py\n",
    "def my_function (a, b):\n",
    "    return a + b\n",
    "```\n",
    "\n",
    "Running the main.py file at the command prompt results in the following output:\n",
    "```\n",
    "python main.py\n",
    "__init__.py module loaded and executed\n",
    "main.py executed\n",
    "The result is:  7\n",
    "```"
   ]
  },
  {
   "cell_type": "code",
   "execution_count": null,
   "metadata": {},
   "outputs": [],
   "source": []
  }
 ],
 "metadata": {
  "kernelspec": {
   "display_name": "Python 3",
   "language": "python",
   "name": "python3"
  },
  "language_info": {
   "codemirror_mode": {
    "name": "ipython",
    "version": 3
   },
   "file_extension": ".py",
   "mimetype": "text/x-python",
   "name": "python",
   "nbconvert_exporter": "python",
   "pygments_lexer": "ipython3",
   "version": "3.7.6"
  }
 },
 "nbformat": 4,
 "nbformat_minor": 4
}
