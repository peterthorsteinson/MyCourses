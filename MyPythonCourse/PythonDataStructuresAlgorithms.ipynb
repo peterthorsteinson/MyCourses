{
 "cells": [
  {
   "cell_type": "markdown",
   "metadata": {},
   "source": [
    "# Python: Data Structures and Algorithms\n",
    "\n",
    "## A Few Cool Visualizations:\n",
    "\n",
    "* Undefined Behavior - What Is Big O? https://www.youtube.com/watch?v=MyeV2_tGqvw\n",
    "* William Fiset - Introduction to Big-O https://www.youtube.com/watch?v=zUUkiEllHG0\n",
    "* William Fiset Data - Structures: https://www.youtube.com/playlist?list=PLDV1Zeh2NRsB6SWUrDFW2RmDotAfPbeHu\n",
    "\n",
    "## Free Books\n",
    "* [Springer Data Structures and Algorithms with Python](https://link.springer.com/book/10.1007%2F978-3-319-13072-9)\n",
    "\n",
    "\n",
    "## Data Structures\n",
    "\n",
    "* [Queue](xxx.ipynb)\n",
    "* [Deque](xxx.ipynb)  \n",
    "* [Stack](xxx.ipynb)\n",
    "* [Binary Search Tree](xxx.ipynb)\n",
    "\n",
    "## Sort and Search Algorithms\n",
    "\n",
    "* [Big O Notation](xxx.ipynb)\n",
    "* [Sort Algorithms](xxx.ipynb)\n",
    "* [Search Algorithms](xxx.ipynb)\n",
    "\n",
    "## Various Other Algorithms \n",
    "* [Factorial](xxx.ipynb)\n",
    "* [Primes](Primes.ipynb)\n",
    "* [Newton-Raphson Method](xxx.ipynb)\n",
    "* [xxx](xxx.ipynb)\n"
   ]
  },
  {
   "cell_type": "code",
   "execution_count": null,
   "metadata": {},
   "outputs": [],
   "source": []
  }
 ],
 "metadata": {
  "kernelspec": {
   "display_name": "Python 3",
   "language": "python",
   "name": "python3"
  },
  "language_info": {
   "codemirror_mode": {
    "name": "ipython",
    "version": 3
   },
   "file_extension": ".py",
   "mimetype": "text/x-python",
   "name": "python",
   "nbconvert_exporter": "python",
   "pygments_lexer": "ipython3",
   "version": "3.8.5"
  }
 },
 "nbformat": 4,
 "nbformat_minor": 4
}
