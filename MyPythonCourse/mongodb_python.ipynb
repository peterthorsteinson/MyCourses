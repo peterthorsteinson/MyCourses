{
 "cells": [
  {
   "cell_type": "markdown",
   "metadata": {},
   "source": [
    "# MongoDB with Python\n",
    "\n",
    "* See: https://www.w3schools.com/python/python_mongodb_query.asp\n",
    "* MongoDB stores data in JSON-like BSON documents\n",
    "* You can download and install a free local MongoDB database at https://www.mongodb.com.\n",
    "* Or get started right away with a MongoDB cloud service at https://www.mongodb.com/cloud/atlas\n",
    "* Python needs a MongoDB driver to access the MongoDB database\n",
    "    -  The ```pymongo``` package is a native Python driver for MongoDB\n",
    "    - ```python -m pip install pymongo``` or ```conda install -c anaconda pymongo```\n",
    "\n",
    "* The following code requires you to start ```mongod``` first\n",
    "* Note that first cell deletes the database for a clean start when we run this notebook again from the top"
   ]
  },
  {
   "cell_type": "code",
   "execution_count": 1,
   "metadata": {},
   "outputs": [
    {
     "name": "stdout",
     "output_type": "stream",
     "text": [
      "['admin', 'config', 'local']\n"
     ]
    }
   ],
   "source": [
    "import pymongo\n",
    "\n",
    "my_client = pymongo.MongoClient(\"mongodb://localhost:27017/\")\n",
    "\n",
    "# delete mydatabase if there from previous run of this notebook \n",
    "# so that we have a clean start when we run this notebook again from the top\n",
    "my_client.drop_database(\"mydatabase\")\n",
    "\n",
    "# See existing databases\n",
    "print(my_client.list_database_names()) # just the built in ones now (if 'mydatabase' shows here, then execute last cell)"
   ]
  },
  {
   "cell_type": "code",
   "execution_count": 2,
   "metadata": {},
   "outputs": [
    {
     "name": "stdout",
     "output_type": "stream",
     "text": [
      "['admin', 'config', 'local']\n"
     ]
    }
   ],
   "source": [
    "# creating database named mydatabase\n",
    "my_client = pymongo.MongoClient(\"mongodb://localhost:27017/\")\n",
    "my_database = my_client[\"mydatabase\"]\n",
    "\n",
    "# See existing databases to see if 'mydatabase' is there now\n",
    "print(my_client.list_database_names()) # Nope. MongoDB only creates database when you first store data in that database"
   ]
  },
  {
   "cell_type": "code",
   "execution_count": 3,
   "metadata": {},
   "outputs": [
    {
     "name": "stdout",
     "output_type": "stream",
     "text": [
      "[]\n",
      "['admin', 'config', 'local']\n"
     ]
    }
   ],
   "source": [
    "# creating a collection\n",
    "my_collection = my_database[\"customers\"]\n",
    "\n",
    "# check if collection exists\n",
    "print(my_database.list_collection_names())\n",
    "\n",
    "# check if database exists\n",
    "print(my_client.list_database_names())"
   ]
  },
  {
   "cell_type": "code",
   "execution_count": 4,
   "metadata": {},
   "outputs": [
    {
     "name": "stdout",
     "output_type": "stream",
     "text": [
      "5f3c3dcec36d2642359e8b80\n",
      "['admin', 'config', 'local', 'mydatabase']\n"
     ]
    }
   ],
   "source": [
    "# insert document into collection\n",
    "my_document = { \"name_first\": \"Sally\", \"name_last\": \"Jones\", \"age\": 37 }\n",
    "ior = my_collection.insert_one(my_document) # returns an InsertOneResult object\n",
    "\n",
    "# return the _id field\n",
    "print(ior.inserted_id)\n",
    "\n",
    "# check if database exists\n",
    "print(my_client.list_database_names()) # 'mydatabase' shows now that we inserted data into it"
   ]
  },
  {
   "cell_type": "code",
   "execution_count": 5,
   "metadata": {},
   "outputs": [
    {
     "name": "stdout",
     "output_type": "stream",
     "text": [
      "<pymongo.results.InsertManyResult object at 0x0000026CE1AD1088>\n",
      "[ObjectId('5f3c3dd0c36d2642359e8b81'), ObjectId('5f3c3dd0c36d2642359e8b82')]\n"
     ]
    }
   ],
   "source": [
    "# insert multiple documents\n",
    "my_documents = [\n",
    "  { \"name_first\": \"John\", \"name_last\": \"Smith\", \"age\": 22 },\n",
    "  { \"name_first\": \"Jane\", \"name_last\": \"McGill\", \"age\": 34 }\n",
    "]\n",
    "\n",
    "imr = my_collection.insert_many(my_documents) # returns an InsertManyResult object\n",
    "print(imr)\n",
    "\n",
    "#print list of the _id values of the inserted documents:\n",
    "print(imr.inserted_ids)"
   ]
  },
  {
   "cell_type": "code",
   "execution_count": 6,
   "metadata": {},
   "outputs": [
    {
     "name": "stdout",
     "output_type": "stream",
     "text": [
      "{'_id': ObjectId('5f3c3dcec36d2642359e8b80'), 'name_first': 'Sally', 'name_last': 'Jones', 'age': 37}\n"
     ]
    }
   ],
   "source": [
    "# find fist document in collection and print it\n",
    "first_document = my_collection.find_one() # returns the first document in collection \n",
    "print(first_document)"
   ]
  },
  {
   "cell_type": "code",
   "execution_count": 7,
   "metadata": {},
   "outputs": [
    {
     "name": "stdout",
     "output_type": "stream",
     "text": [
      "{'_id': ObjectId('5f3c3dcec36d2642359e8b80'), 'name_first': 'Sally', 'name_last': 'Jones', 'age': 37}\n",
      "{'_id': ObjectId('5f3c3dd0c36d2642359e8b81'), 'name_first': 'John', 'name_last': 'Smith', 'age': 22}\n",
      "{'_id': ObjectId('5f3c3dd0c36d2642359e8b82'), 'name_first': 'Jane', 'name_last': 'McGill', 'age': 34}\n"
     ]
    }
   ],
   "source": [
    "# find all documents in collection and print each one in full\n",
    "# first parameter of the find() method is a query object, second parameter is projection object (defaulted here)\n",
    "all_documents = my_collection.find() # returns all documents in collection (similar to SELECT * in MySQL) \n",
    "for document in all_documents:\n",
    "    print(document)"
   ]
  },
  {
   "cell_type": "code",
   "execution_count": 8,
   "metadata": {},
   "outputs": [
    {
     "name": "stdout",
     "output_type": "stream",
     "text": [
      "{'_id': ObjectId('5f3c3dcec36d2642359e8b80'), 'name_last': 'Jones', 'age': 37}\n",
      "{'_id': ObjectId('5f3c3dd0c36d2642359e8b81'), 'name_last': 'Smith', 'age': 22}\n",
      "{'_id': ObjectId('5f3c3dd0c36d2642359e8b82'), 'name_last': 'McGill', 'age': 34}\n"
     ]
    }
   ],
   "source": [
    "# return all documents with some fields (filtering and projection)\n",
    "all_documents_with_some_fields = my_collection.find({},{ \"name_last\": 1, \"age\": 1 }) # no name_first in results\n",
    "for document in all_documents_with_some_fields:\n",
    "    print(document)"
   ]
  },
  {
   "cell_type": "code",
   "execution_count": 9,
   "metadata": {},
   "outputs": [
    {
     "name": "stdout",
     "output_type": "stream",
     "text": [
      "{'_id': ObjectId('5f3c3dcec36d2642359e8b80'), 'name_last': 'Jones', 'age': 37}\n"
     ]
    }
   ],
   "source": [
    "# return some documents with some fields (filtering and projection)\n",
    "some_documents_with_some_fields = my_collection.find({ \"age\": 37 },{ \"name_last\": 1, \"age\": 1 }) # just name_first with age 37\n",
    "for document in some_documents_with_some_fields:\n",
    "    print(document)"
   ]
  },
  {
   "cell_type": "code",
   "execution_count": 10,
   "metadata": {},
   "outputs": [
    {
     "name": "stdout",
     "output_type": "stream",
     "text": [
      "{'_id': ObjectId('5f3c3dcec36d2642359e8b80'), 'name_first': 'Sally', 'name_last': 'Jones', 'age': 37}\n",
      "{'_id': ObjectId('5f3c3dd0c36d2642359e8b82'), 'name_first': 'Jane', 'name_last': 'McGill', 'age': 34}\n"
     ]
    }
   ],
   "source": [
    "# more complex query\n",
    "my_query = { \"age\": { \"$gt\": 30 } }\n",
    "complex_query_result = my_collection.find(my_query) # skip John Smith because age is 22\n",
    "for result in complex_query_result:\n",
    "    print(result)"
   ]
  },
  {
   "cell_type": "code",
   "execution_count": null,
   "metadata": {},
   "outputs": [],
   "source": []
  }
 ],
 "metadata": {
  "kernelspec": {
   "display_name": "Python 3",
   "language": "python",
   "name": "python3"
  },
  "language_info": {
   "codemirror_mode": {
    "name": "ipython",
    "version": 3
   },
   "file_extension": ".py",
   "mimetype": "text/x-python",
   "name": "python",
   "nbconvert_exporter": "python",
   "pygments_lexer": "ipython3",
   "version": "3.8.5"
  }
 },
 "nbformat": 4,
 "nbformat_minor": 4
}
