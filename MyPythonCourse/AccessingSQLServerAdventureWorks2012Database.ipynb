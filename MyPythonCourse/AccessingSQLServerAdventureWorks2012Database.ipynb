{
 "cells": [
  {
   "cell_type": "markdown",
   "metadata": {},
   "source": [
    "# Accessing SQLServer AdventureWorks2012 Database (pyodbc)\n",
    "\n",
    "## Quickstart: Use Python to query a database in Azure SQL Database\n",
    "See: https://docs.microsoft.com/en-us/azure/azure-sql/database/connect-query-python?tabs=windows\n",
    "\n",
    "1. ```conda install -c anaconda pyodbc```\n",
    "2. Intall Microsoft ODBC Driver 17 for SQL Server (x64):\n",
    "https://docs.microsoft.com/en-us/sql/connect/odbc/download-odbc-driver-for-sql-server?view=sql-server-ver15#download-for-windows\n",
    "3. Check that ```ODBC Driver 17 for SQL Server``` is installed in Python code in next cell"
   ]
  },
  {
   "cell_type": "code",
   "execution_count": 2,
   "metadata": {},
   "outputs": [
    {
     "data": {
      "text/plain": [
       "['SQL Server',\n",
       " 'SQL Server Native Client 11.0',\n",
       " 'ODBC Driver 17 for SQL Server',\n",
       " 'Microsoft Access Driver (*.mdb, *.accdb)',\n",
       " 'Microsoft Excel Driver (*.xls, *.xlsx, *.xlsm, *.xlsb)',\n",
       " 'Microsoft Access dBASE Driver (*.dbf, *.ndx, *.mdx)',\n",
       " 'Microsoft Access Text Driver (*.txt, *.csv)']"
      ]
     },
     "execution_count": 2,
     "metadata": {},
     "output_type": "execute_result"
    }
   ],
   "source": [
    "import pyodbc\n",
    "[x for x in pyodbc.drivers()]"
   ]
  },
  {
   "cell_type": "markdown",
   "metadata": {},
   "source": [
    "### Here is the connection string info:\n",
    "* Server: mhknbn2kdz.database.windows.net \n",
    "* Database: AdventureWorks2012\n",
    "* User: sqlfamily\n",
    "* Password: sqlf@m1ly"
   ]
  },
  {
   "cell_type": "code",
   "execution_count": 3,
   "metadata": {},
   "outputs": [
    {
     "name": "stdout",
     "output_type": "stream",
     "text": [
      "master 1\n",
      "AdventureWorks2012 5\n",
      "\n",
      "Abbas Syed\n",
      "Abel Catherine\n",
      "Abercrombie Kim\n",
      "Abercrombie Kim\n",
      "Abercrombie Kim\n",
      "Abolrous Hazem\n",
      "Abolrous Sam\n",
      "Acevedo Humberto\n",
      "Achong Gustavo\n",
      "Ackerman Pilar\n"
     ]
    }
   ],
   "source": [
    "server = 'mhknbn2kdz.database.windows.net'  # sever\n",
    "database = 'AdventureWorks2012'             # database\n",
    "username = 'sqlfamily'                      # username\n",
    "password = 'sqlf@m1ly'                      # password\n",
    "driver= '{ODBC Driver 17 for SQL Server}'\n",
    "cnxn = pyodbc.connect('DRIVER='+driver+';SERVER='+server+';PORT=1433;DATABASE='+database+';UID='+username+';PWD='+ password)\n",
    "cursor = cnxn.cursor()\n",
    "\n",
    "cursor.execute(\"SELECT name, database_id, create_date FROM sys.databases;\")\n",
    "row = cursor.fetchone()\n",
    "while row:\n",
    "    print (str(row[0]) + \" \" + str(row[1]))\n",
    "    row = cursor.fetchone()\n",
    "    \n",
    "print()\n",
    "\n",
    "cursor.execute(\"USE AdventureWorks2012;\")\n",
    "sql = \"SELECT TOP 10 LastName, FirstName FROM Person.Person\"\n",
    "cursor.execute(sql)\n",
    "results = cursor.fetchall()\n",
    "for row in results:\n",
    "    print(row[0], row[1])"
   ]
  },
  {
   "cell_type": "code",
   "execution_count": null,
   "metadata": {},
   "outputs": [],
   "source": []
  }
 ],
 "metadata": {
  "kernelspec": {
   "display_name": "Python 3",
   "language": "python",
   "name": "python3"
  },
  "language_info": {
   "codemirror_mode": {
    "name": "ipython",
    "version": 3
   },
   "file_extension": ".py",
   "mimetype": "text/x-python",
   "name": "python",
   "nbconvert_exporter": "python",
   "pygments_lexer": "ipython3",
   "version": "3.8.5"
  }
 },
 "nbformat": 4,
 "nbformat_minor": 4
}
