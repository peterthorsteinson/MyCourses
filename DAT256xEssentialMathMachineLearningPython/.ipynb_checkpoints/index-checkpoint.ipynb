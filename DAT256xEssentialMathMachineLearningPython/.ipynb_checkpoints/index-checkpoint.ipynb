{
 "cells": [
  {
   "cell_type": "markdown",
   "metadata": {},
   "source": [
    "# DAT256x\n",
    "# Essential Math for Machine Learning Python Edition\n",
    "\n",
    "##  Course Introduction\n",
    "\n",
    "* [Course Welcome](CourseWelcome.ipynb)\n",
    "* [Preparing for the Labs](PreparingForTheLabs.ipynb)\n",
    "\n",
    "## Module 1: Equations, Graphs, and Functions \n",
    "\n",
    "* [Equations](Equations.ipynb)\n",
    "* [01-01 Introduction to Equations](Module01/01-01-Introduction%20to%20Equations.ipynb)\n",
    "* [01-02 Linear Equations](Module01/01-02-Linear%20Equations.ipynb)\n",
    "* [01-03 Systems of Equations](Module01/01-03-Systems%20of%20Equations.ipynb)\n",
    "* [01-04 Exponentials Radicals%20and%20Logarithms](Module01/01-04-Exponentials%20Radicals%20and%20Logarithms.ipynb)\n",
    "* [01-05 Polynomials](Module01/01-05-Polynomials.ipynb)\n",
    "* [01-06 Factorization](Module01/01-06-Factorization.ipynb)\n",
    "* [01-07 Quadratic Equations](Module01/01-07-Quadratic%20Equations.ipynb)\n",
    "* [01-08 Functions](Module01/01-08-Functions.ipynb)\n",
    "* [Assessment Questions]()\n",
    "\n",
    "## Module 2: Calculus\n",
    "\n",
    "* [Calculus](Calculus.ipynb)\n",
    "* [02-01 Rate of Change](Module02/02-01-Rate%20of%20Change.ipynb)\n",
    "* [02-02 Limits](Module02/02-02-Limits.ipynb)\n",
    "* [02-03 Differentiation and Derivatives](Module02/02-03-Differentiation%20and%20Derivatives.ipynb)\n",
    "* [02-04 Critical Points and Optimization](Module02/02-04-Critical%20Points%20and%20Optimization.ipynb)\n",
    "* [02-05 Multivariate Functions and Partial Derivatives](Module02/02-05-Multivariate%20Functions%20and%20Partial%20Derivatives.ipynb)\n",
    "* [02-06 Integration](Module02/02-06-Integration.ipynb)\n",
    "\n",
    "## Module 3: Vectors and Matrices\n",
    "\n",
    "* [Vectors and Matrices](VectorsMatrices.ipynb)\n",
    "* [03-01 Vectors](Module03/03-01-Vectors.ipynb)\n",
    "* [03-02 Vector Multiplication](Module03/03-02-Vector%20Multiplication.ipynb)\n",
    "* [03-03 Matrices](Module03/03-03-Matrices.ipynb)\n",
    "* [03-04 More Matrices](Module03/03-04-More%20Matrices.ipynb)\n",
    "* [03-05 Transformations Eigenvectors and Eigenvalues](Module03/03-05-Transformations%20Eigenvectors%20and%20Eigenvalues.ipynb)\n",
    "\n",
    "## Module 4: Statistics and Probability\n",
    "\n",
    "* [Statistics and Probability](StatisticsProbability.ipynb)\n",
    "* [04-01 Data and Visualization](Module04/04-01-Data%20and%20Visualization.ipynb)\n",
    "* [04-02 Statistics Fundamentals](Module04/04-02-Statistics%20Fundamentals.ipynb)\n",
    "* [04-03 Comparing Data](Module04/04-04-Comparing%20Data.ipynb)\n",
    "* [04-04 Probability](Module04/04-04-Probability.ipynb)\n",
    "* [04-05 Sampling Distributions](Module04/04-05-Sampling%20Distributions.ipynb)\n",
    "* [04-06 Hypothesis Testing](Module04/04-06-Hypothesis%20Testing.ipynb)\n",
    "* [Assessment_Questions](Module04/Module_4_Assessment_Questions.ipynb)\n"
   ]
  },
  {
   "cell_type": "code",
   "execution_count": null,
   "metadata": {},
   "outputs": [],
   "source": []
  }
 ],
 "metadata": {
  "kernelspec": {
   "display_name": "Python 3",
   "language": "python",
   "name": "python3"
  },
  "language_info": {
   "codemirror_mode": {
    "name": "ipython",
    "version": 3
   },
   "file_extension": ".py",
   "mimetype": "text/x-python",
   "name": "python",
   "nbconvert_exporter": "python",
   "pygments_lexer": "ipython3",
   "version": "3.7.6"
  }
 },
 "nbformat": 4,
 "nbformat_minor": 4
}
