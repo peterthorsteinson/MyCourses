{
 "cells": [
  {
   "cell_type": "markdown",
   "metadata": {},
   "source": [
    "# Course Welcome\n",
    "\n",
    "Welcome to the Essential Math for Machine Learning: Python course.\n",
    "This course introduces important mathematical concepts that are crucial in understanding many important algorithms used in Data Science and Machine Learning. We will be covering several topics that include equations, functions, graphs, as well as differential calculus, linear algebra, statistics and probability.\n",
    "\n",
    "Hi and welcome to this course on essential mathematics for Data Science and Machine Learning. My name is Peter Thorsteinson, and I will present this course. We will study several basic mathematical topics and we will see concepts and notations that are of crucial importance in Machine Learning and Data Science.\n",
    "\n",
    "Mathematics can be a very deep and complex subject. We will only focus on a minimal level of depth that is necessary to know how to apply mathematical tools to solving machine learning problems. We will be covering topics that include functions and graphs, as well as introductory differential calculus, linear algebra, statistics and probability. We will first see how numerical relationships can be defined between variables, and we will see what they look like when they are visually plotted in graphs.\n",
    "\n",
    "We will then look at some simple differential calculus and we will explore how derivatives can be used in solving optimization problems. Then we will look at simple linear algebra involving vectors and matrices to represent simultaneous equations in multiple unknowns. Finally, we will study a few simple topics in statistics and probability. Some students may have already learned about these topics, which will make this course easy. Others may have to put much more effort into learning these topics if they are new to you. This course is really intended as a level-up course to ensure that all students have the minimum mathematical background to be able to deal with the numerous machine learning algorithms that are used in virtually all aspects of Machine Learning and Data Science.\n",
    "\n",
    "Welcome and Goodluck with this Data Science Bootcamp!"
   ]
  },
  {
   "cell_type": "code",
   "execution_count": null,
   "metadata": {},
   "outputs": [],
   "source": []
  }
 ],
 "metadata": {
  "kernelspec": {
   "display_name": "Python 3",
   "language": "python",
   "name": "python3"
  },
  "language_info": {
   "codemirror_mode": {
    "name": "ipython",
    "version": 3
   },
   "file_extension": ".py",
   "mimetype": "text/x-python",
   "name": "python",
   "nbconvert_exporter": "python",
   "pygments_lexer": "ipython3",
   "version": "3.7.6"
  }
 },
 "nbformat": 4,
 "nbformat_minor": 4
}
