{
 "cells": [
  {
   "cell_type": "markdown",
   "metadata": {},
   "source": [
    "# Preparing for the Labs\n",
    "\n",
    "Jupyter Notebook is an open-source web server application that allows you to create and share documents that contain executable code along with narrative text, mathematical equations, and data visualizations. It provides a convenient format for sharing code and collaborating with others. Initially, Jupyter Notebook has been primarily used by Python programmers, especially in areas such as Data Science and Machine Learning, but it provides support for dozens of other programming languages and many other use case scenarios as well. The labs in this course make use of Jupyter Notebooks with Python 3.x kernel installed.\n",
    "\n",
    "After you install Anaconda Individual Edition on your local computer, then Jupyter Notebooks with Python 3.x is automatically included. Install Anaconda and Jupyter Notebooks: https://docs.anaconda.com/anaconda/install\n",
    "\n",
    "In this course, Jupyter notebooks are provided that contain all the code for all the labs. This code can be found at: https://github.com/MicrosoftLearning/Essential-Math. At that URL, click on the green download button to get a local copy of the repo as a compressed file named \" Essential-Math-master.zip\". Unzip that file and locate the file named \" DAT256x.zip \".  Unzip that file as well, and you will see four folders named Module01, Module02. Module03, and Module04. Each of these four folders contain the various .ipynb files that represent Jupyter Notebook files used in the labs. Each of those files can be opened in Jupyter Notebook, or in a source code editor that supports Jupyter Notebook files, such as Visual Studio Code with the Python extension installed. Visual Studio Code is a very nice code editor tool, but it is totally optional for the purposes of this course.\n",
    "\n",
    "        "
   ]
  },
  {
   "cell_type": "code",
   "execution_count": null,
   "metadata": {},
   "outputs": [],
   "source": []
  }
 ],
 "metadata": {
  "kernelspec": {
   "display_name": "Python 3",
   "language": "python",
   "name": "python3"
  },
  "language_info": {
   "codemirror_mode": {
    "name": "ipython",
    "version": 3
   },
   "file_extension": ".py",
   "mimetype": "text/x-python",
   "name": "python",
   "nbconvert_exporter": "python",
   "pygments_lexer": "ipython3",
   "version": "3.7.6"
  }
 },
 "nbformat": 4,
 "nbformat_minor": 4
}
