{
 "cells": [
  {
   "cell_type": "markdown",
   "metadata": {},
   "source": [
    "# Module 4: Statistics and Probability > Module Assessment > Assessment Questions"
   ]
  },
  {
   "cell_type": "code",
   "execution_count": 3,
   "metadata": {},
   "outputs": [
    {
     "name": "stdout",
     "output_type": "stream",
     "text": [
      "[172 174 176 172 172 173 176 172 177 174 176 175 176 169 175 174 174 174\n",
      " 175 173 171 171 175 175 173 175 175]\n",
      "Mean:  173.85185185185185\n",
      "Median:  174.0\n",
      "Mode:  175\n",
      "Minimum: 169\n",
      "Maximum: 177\n"
     ]
    },
    {
     "data": {
      "text/plain": [
       "(array([1., 0., 2., 4., 3., 5., 7., 4., 1.]),\n",
       " array([169, 170, 171, 172, 173, 174, 175, 176, 177, 178]),\n",
       " <a list of 9 Patch objects>)"
      ]
     },
     "execution_count": 3,
     "metadata": {},
     "output_type": "execute_result"
    },
    {
     "data": {
      "image/png": "[encoded data removed]",
      "text/plain": [
       "<Figure size 432x288 with 1 Axes>"
      ]
     },
     "metadata": {
      "needs_background": "light"
     },
     "output_type": "display_data"
    }
   ],
   "source": [
    "import numpy as np\n",
    "from scipy import stats\n",
    "import matplotlib.pyplot as plt\n",
    "\n",
    "arr = np.array([\n",
    "172,\n",
    "174,\n",
    "176,\n",
    "172,\n",
    "172,\n",
    "173,\n",
    "176,\n",
    "172,\n",
    "177,\n",
    "174,\n",
    "176,\n",
    "175,\n",
    "176,\n",
    "169,\n",
    "175,\n",
    "174,\n",
    "174,\n",
    "174,\n",
    "175,\n",
    "173,\n",
    "171,\n",
    "171,\n",
    "175,\n",
    "175,\n",
    "173,\n",
    "175,\n",
    "175,\n",
    "])\n",
    "\n",
    "print(arr)\n",
    "print(\"Mean: \", np.mean(arr))\n",
    "print(\"Median: \", np.median(arr))\n",
    "print(\"Mode: \", stats.mode(arr)[0][0])\n",
    "print(\"Minimum:\", arr.min())\n",
    "print(\"Maximum:\", arr.max())\n",
    "plt.hist(arr, bins=[169, 170, 171, 172, 173, 174, 175, 176, 177, 178])"
   ]
  },
  {
   "cell_type": "code",
   "execution_count": 4,
   "metadata": {},
   "outputs": [
    {
     "name": "stdout",
     "output_type": "stream",
     "text": [
      "Minimum: 180\n",
      "Maximum: 184\n"
     ]
    },
    {
     "data": {
      "text/plain": [
       "(array([3., 6., 9., 6., 3.]),\n",
       " array([180, 181, 182, 183, 184, 185]),\n",
       " <a list of 5 Patch objects>)"
      ]
     },
     "execution_count": 4,
     "metadata": {},
     "output_type": "execute_result"
    },
    {
     "data": {
      "image/png": "[encoded data removed]",
      "text/plain": [
       "<Figure size 432x288 with 1 Axes>"
      ]
     },
     "metadata": {
      "needs_background": "light"
     },
     "output_type": "display_data"
    }
   ],
   "source": [
    "arr = np.array([\n",
    "184,\n",
    "180,\n",
    "181,\n",
    "184,\n",
    "182,\n",
    "181,\n",
    "182,\n",
    "182,\n",
    "183,\n",
    "182,\n",
    "181,\n",
    "182,\n",
    "182,\n",
    "180,\n",
    "183,\n",
    "181,\n",
    "184,\n",
    "183,\n",
    "182,\n",
    "182,\n",
    "183,\n",
    "182,\n",
    "183,\n",
    "181,\n",
    "180,\n",
    "181,\n",
    "183,\n",
    "])\n",
    "\n",
    "print(\"Minimum:\", arr.min())\n",
    "print(\"Maximum:\", arr.max())\n",
    "np.std(arr)\n",
    "plt.hist(arr, bins=[180, 181, 182, 183, 184, 185])"
   ]
  },
  {
   "cell_type": "markdown",
   "metadata": {},
   "source": [
    "## Combinatorial Probability\n",
    "\n",
    "$${n\\choose k} = \\frac{n!}{k!(n-k)!}$$\n",
    "\n",
    "$$probability = {n\\choose k}p^k(1-p)^{n-k}$$"
   ]
  },
  {
   "cell_type": "markdown",
   "metadata": {},
   "source": [
    "## Question\n",
    "- The sweet factory that produces your favorite candy fills the bags randomly,\n",
    "with a 40% probability that any single bag will contain a Sour Plum.\n",
    "- You buy five bags of candy.\n",
    "- What is the probability that three of the bags you have bought contain a Sour Plum,\n",
    "and the remaining two do not?\n",
    "\n",
    "$$n=5$$\n",
    "$$k=3$$\n",
    "$$p=0.4$$\n",
    "\n",
    "$$probability={5\\choose 3}⋅0.4^3⋅(1-0.4)^{5-3}$$\n",
    "\n",
    "$$={5\\choose 3}⋅0.064⋅0.36$$\n",
    "\n",
    "$$=\\frac{5!}{3!(5-3)!}⋅0.064⋅0.36$$\n",
    "\n",
    "$$=\\frac{5⋅4⋅3⋅2⋅1}{(3⋅2⋅1)⋅(2⋅1)}⋅0.064⋅0.36$$\n",
    "\n",
    "$$=10⋅0.064⋅0.36$$\n",
    "\n",
    "$$=0.2304$$"
   ]
  },
  {
   "cell_type": "code",
   "execution_count": 1,
   "metadata": {},
   "outputs": [
    {
     "name": "stdout",
     "output_type": "stream",
     "text": [
      "0.23040000000000005\n"
     ]
    }
   ],
   "source": [
    "from scipy import math\n",
    "prob = math.factorial(5) / (math.factorial(3) * math.factorial(5-3)) * math.pow(0.4, 3) * math.pow(1 - 0.4, 5-3)\n",
    "print(prob)"
   ]
  },
  {
   "cell_type": "markdown",
   "metadata": {},
   "source": [
    "## Question\n",
    "- Ten percent of the global population is left-handed.\n",
    "- You conduct a survey in which you stop three people at random.\n",
    "- What is the probability that two of the people you stop are left-handed, and the other is not?\n",
    "\n",
    "$$n=3$$\n",
    "$$k=2$$\n",
    "$$p=0.1$$\n",
    "\n",
    "$$probability={3\\choose 2}⋅0.1^2⋅(1-0.1)^{3-2}$$\n",
    "\n",
    "$$={3\\choose 2}⋅0.01⋅0.9$$\n",
    "\n",
    "$$=\\frac{3!}{2!(3-2)!}⋅0.009$$\n",
    "\n",
    "$$=\\frac{3⋅2⋅1}{(2⋅1)⋅(1)}⋅0.009$$\n",
    "\n",
    "$$=\\frac{6}{(2)}⋅0.009$$\n",
    "\n",
    "$$=0.027$$"
   ]
  },
  {
   "cell_type": "code",
   "execution_count": 2,
   "metadata": {},
   "outputs": [
    {
     "name": "stdout",
     "output_type": "stream",
     "text": [
      "0.027000000000000007\n"
     ]
    }
   ],
   "source": [
    "from scipy import math\n",
    "prob = math.factorial(3) / (math.factorial(2) * math.factorial(3-2)) * math.pow(0.1, 2) * math.pow(1 - 0.1, 3-2)\n",
    "print(prob)"
   ]
  },
  {
   "cell_type": "code",
   "execution_count": null,
   "metadata": {},
   "outputs": [],
   "source": []
  }
 ],
 "metadata": {
  "kernelspec": {
   "display_name": "Python 3",
   "language": "python",
   "name": "python3"
  },
  "language_info": {
   "codemirror_mode": {
    "name": "ipython",
    "version": 3
   },
   "file_extension": ".py",
   "mimetype": "text/x-python",
   "name": "python",
   "nbconvert_exporter": "python",
   "pygments_lexer": "ipython3",
   "version": "3.7.6"
  }
 },
 "nbformat": 4,
 "nbformat_minor": 4
}
