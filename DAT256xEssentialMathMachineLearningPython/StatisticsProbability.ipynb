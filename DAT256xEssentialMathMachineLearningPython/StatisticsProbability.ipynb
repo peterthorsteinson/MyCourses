{
 "cells": [
  {
   "cell_type": "markdown",
   "metadata": {},
   "source": [
    "# Statistics and Probability\n"
   ]
  },
  {
   "cell_type": "markdown",
   "metadata": {},
   "source": [
    "## Mean\n",
    "\n",
    "The ***mean*** is calculated as the sum of the values divided by the number of values.\n",
    "\n",
    "The population mean is represented by the Greek symbol ***&mu;*** (*mu*), and uppercase X is used for population data:\n",
    "\n",
    "\\begin{equation}\\mu = \\frac{\\displaystyle\\sum_{i=1}^{N}X_{i}}{N}\\end{equation}\n",
    "\n",
    "A sample mean is represented by ***x&#772;*** (*x-bar*), and lowercase x is used for sample data:\n",
    "\n",
    "\\begin{equation}\\bar{x} = \\frac{\\displaystyle\\sum_{i=1}^{n}x_{i}}{n}\\end{equation}"
   ]
  },
  {
   "cell_type": "markdown",
   "metadata": {},
   "source": [
    "## Median\n",
    "\n",
    "The ***median*** is the middle-most value, and can be found after sorting the values and then taking the value at the midpoint. An odd number of values has a ditinct middle value. An odd number of values takes the two middle values and averages them."
   ]
  },
  {
   "cell_type": "markdown",
   "metadata": {},
   "source": [
    "## Mode\n",
    "\n",
    "The ***mode*** is the most frequently occurring value."
   ]
  },
  {
   "cell_type": "markdown",
   "metadata": {},
   "source": [
    "## Variance\n",
    "\n",
    "The ***variance*** is measured as the average of the squared difference from the mean.\n",
    "\n",
    "For the population, variance is represented by a squared Greek letter *sigma* (***&sigma;<sup>2</sup>***):\n",
    "\n",
    "\\begin{equation}\\sigma^{2} = \\frac{\\displaystyle\\sum_{i=1}^{N} (X_{i} -\\mu)^{2}}{N}\\end{equation}\n",
    "\n",
    "For a sample, variance is represented by ***s<sup>2</sup>***:\n",
    "\n",
    "\\begin{equation}s^{2} = \\frac{\\displaystyle\\sum_{i=1}^{n} (x_{i} -\\bar{x})^{2}}{n-1}\\end{equation}"
   ]
  },
  {
   "cell_type": "markdown",
   "metadata": {},
   "source": [
    "## Standard Deviation\n",
    "\n",
    "The ***standard deviation*** for the population:\n",
    "\n",
    "\\begin{equation}\\sigma = \\sqrt{\\frac{\\displaystyle\\sum_{i=1}^{N} (X_{i} -\\mu)^{2}}{N}}\\end{equation}\n",
    "\n",
    "The *standard deviation* for a sample:\n",
    "\n",
    "\\begin{equation}s = \\sqrt{\\frac{\\displaystyle\\sum_{i=1}^{n} (x_{i} -\\bar{x})^{2}}{n-1}}\\end{equation}"
   ]
  },
  {
   "cell_type": "markdown",
   "metadata": {},
   "source": [
    "## Combinatorial Probability\n",
    "\n",
    "Find the number of distinct ways of getting ***k*** heads when flipping ***n*** coins:\n",
    "\n",
    "$${n\\choose k} = \\frac{n!}{k!(n-k)!}$$\n",
    "\n",
    "Find the probability of the event E, representing ***k*** heads from flipping ***n*** coins:\n",
    "\n",
    "$$P(E) = {n\\choose k}p^k(1-p)^{n-k}$$"
   ]
  },
  {
   "cell_type": "markdown",
   "metadata": {},
   "source": [
    "## Central Limit Theorem\n",
    "\n",
    "- See: https://en.wikipedia.org/wiki/Central_limit_theorem\n",
    "- See: https://machinelearningmastery.com/a-gentle-introduction-to-the-central-limit-theorem-for-machine-learning\n",
    "\n",
    "In probability theory, the central limit theorem (CLT) establishes that, in some situations, when independent random\n",
    "variables are added, their properly normalized sum tends toward a normal distribution (informally a bell curve) even\n",
    "if the original variables themselves are not normally distributed.\n",
    "\n",
    "If ${\\textstyle X_{1},X_{2},...,X_{n}}$ are random samples each of size ${\\textstyle n}$ taken from a population with overall mean ${\\textstyle \\mu }$ and finite variance ${\\textstyle \\sigma ^{2}}$ and if ${\\textstyle {\\bar {X}}}$ is the sample mean, the limiting form of the distribution of ${\\textstyle Z=\\left({\\frac {{\\bar {X}}_{n}-\\mu }{\\sigma /\\surd n}}\\right)}$ as ${\\textstyle n\\to \\infty }$, is the standard normal distribution."
   ]
  },
  {
   "cell_type": "code",
   "execution_count": null,
   "metadata": {},
   "outputs": [],
   "source": []
  }
 ],
 "metadata": {
  "kernelspec": {
   "display_name": "Python 3",
   "language": "python",
   "name": "python3"
  },
  "language_info": {
   "codemirror_mode": {
    "name": "ipython",
    "version": 3
   },
   "file_extension": ".py",
   "mimetype": "text/x-python",
   "name": "python",
   "nbconvert_exporter": "python",
   "pygments_lexer": "ipython3",
   "version": "3.7.6"
  }
 },
 "nbformat": 4,
 "nbformat_minor": 4
}
