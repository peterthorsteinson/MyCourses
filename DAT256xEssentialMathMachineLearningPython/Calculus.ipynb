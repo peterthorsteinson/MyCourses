{
 "cells": [
  {
   "cell_type": "markdown",
   "metadata": {},
   "source": [
    "# Calculus\n",
    "\n",
    "- Derivatives\n",
    "- Integrals\n",
    "\n",
    "## Derivatives\n",
    "\n",
    "$$\\frac{d}{dx}f(x) = \\lim_{h \\to 0} \\frac{f(x + h) - f(x)}{h}$$\n",
    "\n",
    "### Alternate Derivative Notation\n",
    "\n",
    "$$\\frac{d}{dx}f(x) = f'(x)$$\n",
    "\n",
    "### Example: Find the derivative of $f(x)=x^2$\n",
    "\n",
    "$$f(x) = x^{2}$$\n",
    "\n",
    "$$f'(x) = \\lim_{h \\to 0} \\frac{f(x + h) - f(x)}{h}$$\n",
    "\n",
    "$$f'(x) = \\lim_{h \\to 0} \\frac{((x+h)^{2} - x^2)}{h}$$\n",
    "\n",
    "$$f'(x) = \\lim_{h \\to 0} \\frac{(x^2 + 2xh + h^{2}) - x^2}{h}$$\n",
    "\n",
    "$$f'(x) = \\lim_{h \\to 0} \\frac{(2xh + h^{2})}{h}$$\n",
    "\n",
    "$$f'(x) = \\lim_{h \\to 0} {(2x + h)}$$\n",
    "\n",
    "$$f'(x) = 2x$$\n",
    "\n",
    "\n",
    "### Derivative of Constant\n",
    "\n",
    "xxx\n",
    "\n",
    "### Derivative of Polynomial\n",
    "\n",
    "xxx\n",
    "\n",
    "### Derivative Product Rule\n",
    "\n",
    "xxx\n",
    "\n",
    "### Derivative Quotient Rule\n",
    "\n",
    "xxx\n",
    "\n",
    "### Derivative Chain Rule\n",
    "\n",
    "xxx\n"
   ]
  },
  {
   "cell_type": "markdown",
   "metadata": {},
   "source": [
    "## Partial Derivatives\n",
    "\n",
    "xxx\n",
    "\n",
    "### Example: Partial Derivative\n",
    "\n",
    "$$f(x,y) = x^2 + y^2$$\n",
    "\n",
    "$$\\frac{\\partial f(x,y)}{\\partial x} = \\frac{\\partial (x^2 + y^2)}{\\partial x}$$\n"
   ]
  },
  {
   "cell_type": "markdown",
   "metadata": {},
   "source": [
    "## Integrals\n",
    "\n",
    "$$f(x)=x$$\n",
    "\n",
    "$$\\int f(x)\\;dx$$\n",
    "\n",
    "### Example: Quadratic Integral\n",
    "\n",
    "$$\\int x^2\\;dx = \\frac{1}{2} x^2$$\n",
    "\n",
    "### Integration between Limits\n",
    "\n",
    "$$\\int_0^2 x^2\\;dx\\\\ = \\frac{1}{2} x^2\\ \\big|_0^2\\\\\n",
    "= \\frac{1}{2} 2^2 - \\frac{1}{2} 0^2\\\\\n",
    "= \\frac{4}{2} - \\frac{0}{2} x^2\\\\ = 2$$\n",
    "\n",
    "### Example: Polynomial Integral\n",
    "\n",
    "$$\\int_0^3 3x^2 + 2x + 1\\;dx$$ \n",
    "\n",
    "$$\\int_0^3= \\frac{3}{3} x^3 + \\frac{2}{2} x^2 + x\\ \\big|_0^3\\\\\n",
    "= \\frac{3}{3} 3^3 + \\frac{2}{2} 3^2 + 3 - \\frac{3}{3} 0^3 - \\frac{2}{2} 0^2 + 0\\\\\n",
    "= 27 + 9 + 3 + 0 + 0 + 0\\\\\n",
    "= 39$$\n",
    "\n",
    "### Infinite limits\n",
    "\n",
    "$$\\int^{\\infty}_0 f(x) dx$$"
   ]
  },
  {
   "cell_type": "code",
   "execution_count": null,
   "metadata": {},
   "outputs": [],
   "source": []
  }
 ],
 "metadata": {
  "kernelspec": {
   "display_name": "Python 3",
   "language": "python",
   "name": "python3"
  },
  "language_info": {
   "codemirror_mode": {
    "name": "ipython",
    "version": 3
   },
   "file_extension": ".py",
   "mimetype": "text/x-python",
   "name": "python",
   "nbconvert_exporter": "python",
   "pygments_lexer": "ipython3",
   "version": "3.7.6"
  }
 },
 "nbformat": 4,
 "nbformat_minor": 4
}
