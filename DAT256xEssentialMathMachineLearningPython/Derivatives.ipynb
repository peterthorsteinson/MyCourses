{
 "cells": [
  {
   "cell_type": "markdown",
   "metadata": {},
   "source": [
    "# Calculus\n",
    "\n",
    "## Derivatives\n",
    "\n",
    "$$\\frac{d}{dx}f(x) = \\lim_{h \\to 0} \\frac{f(x + h) - f(x)}{h}$$\n",
    "\n",
    "### Alternate Derivative Notation\n",
    "\n",
    "$$\\frac{d}{dx}f(x) = f'(x)$$\n",
    "\n",
    "### Example: Find the derivative of $f(x)=x^2$\n",
    "\n",
    "$$f(x) = x^{2}$$\n",
    "\n",
    "$$f'(x) = \\lim_{h \\to 0} \\frac{f(x + h) - f(x)}{h}$$\n",
    "\n",
    "$$f'(x) = \\lim_{h \\to 0} \\frac{((x+h)^{2} - x^2)}{h}$$\n",
    "\n",
    "$$f'(x) = \\lim_{h \\to 0} \\frac{(x^2 + 2xh + h^{2}) - x^2}{h}$$\n",
    "\n",
    "$$f'(x) = \\lim_{h \\to 0} \\frac{(2xh + h^{2})}{h}$$\n",
    "\n",
    "$$f'(x) = \\lim_{h \\to 0} {(2x + h)}$$\n",
    "\n",
    "$$f'(x) = 2x$$\n",
    "\n",
    "\n",
    "### Derivative of Constant\n",
    "\n",
    "xxx\n",
    "\n",
    "### Derivative of Polynomial\n",
    "\n",
    "xxx\n",
    "\n",
    "### Derivative Product Rule\n",
    "\n",
    "xxx\n",
    "\n",
    "### Derivative Quotient Rule\n",
    "\n",
    "xxx\n",
    "\n",
    "### Derivative Chain Rule\n",
    "\n",
    "xxx\n"
   ]
  },
  {
   "cell_type": "markdown",
   "metadata": {},
   "source": [
    "## Partial Derivatives\n",
    "\n",
    "xxx\n",
    "\n",
    "### Example: Partial Derivative\n",
    "\n",
    "$$f(x,y) = x^2 + y^2$$\n",
    "\n",
    "$$\\frac{\\partial f(x,y)}{\\partial x} = \\frac{\\partial (x^2 + y^2)}{\\partial x}$$\n"
   ]
  },
  {
   "cell_type": "markdown",
   "metadata": {},
   "source": [
    "## Integrals\n",
    "\n",
    "xxx"
   ]
  },
  {
   "cell_type": "code",
   "execution_count": null,
   "metadata": {},
   "outputs": [],
   "source": []
  }
 ],
 "metadata": {
  "kernelspec": {
   "display_name": "Python 3",
   "language": "python",
   "name": "python3"
  },
  "language_info": {
   "codemirror_mode": {
    "name": "ipython",
    "version": 3
   },
   "file_extension": ".py",
   "mimetype": "text/x-python",
   "name": "python",
   "nbconvert_exporter": "python",
   "pygments_lexer": "ipython3",
   "version": "3.7.6"
  }
 },
 "nbformat": 4,
 "nbformat_minor": 4
}
