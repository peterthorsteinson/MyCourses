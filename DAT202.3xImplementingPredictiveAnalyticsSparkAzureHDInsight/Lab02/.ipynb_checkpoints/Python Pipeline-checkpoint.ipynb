{
 "cells": [
  {
   "cell_type": "code",
   "execution_count": 1,
   "metadata": {},
   "outputs": [],
   "source": [
    "from pyspark.sql import SparkSession\n",
    "spark = SparkSession.builder.master(\"local\").getOrCreate()"
   ]
  },
  {
   "cell_type": "markdown",
   "metadata": {},
   "source": [
    "## Creating a Pipeline\n",
    "\n",
    "In this exercise, you will implement a pipeline that includes multiple stages of *transformers* and *estimators* to prepare features and train a classification model. The resulting trained *PipelineModel* can then be used as a transformer to predict whether or not a flight will be late.\n",
    "\n",
    "### Import Spark SQL and Spark ML Libraries\n",
    "\n",
    "First, import the libraries you will need:"
   ]
  },
  {
   "cell_type": "code",
   "execution_count": 2,
   "metadata": {
    "scrolled": false
   },
   "outputs": [],
   "source": [
    "from pyspark.sql.types import *\n",
    "from pyspark.sql.functions import *\n",
    "\n",
    "from pyspark.ml import Pipeline\n",
    "from pyspark.ml.classification import DecisionTreeClassifier\n",
    "from pyspark.ml.feature import VectorAssembler, StringIndexer, VectorIndexer, MinMaxScaler"
   ]
  },
  {
   "cell_type": "markdown",
   "metadata": {},
   "source": [
    "### Load Source Data\n",
    "The data for this exercise is provided as a CSV file containing details of flights. The data includes specific characteristics (or *features*) for each flight, as well as a column indicating how many minutes late or early the flight arrived.\n",
    "\n",
    "You will load this data into a DataFrame and display it."
   ]
  },
  {
   "cell_type": "code",
   "execution_count": 3,
   "metadata": {
    "scrolled": false
   },
   "outputs": [
    {
     "name": "stdout",
     "output_type": "stream",
     "text": [
      "+----------+---------+-------+---------------+-------------+--------+--------+\n",
      "|DayofMonth|DayOfWeek|Carrier|OriginAirportID|DestAirportID|DepDelay|ArrDelay|\n",
      "+----------+---------+-------+---------------+-------------+--------+--------+\n",
      "|        19|        5|     DL|          11433|        13303|      -3|       1|\n",
      "|        19|        5|     DL|          14869|        12478|       0|      -8|\n",
      "|        19|        5|     DL|          14057|        14869|      -4|     -15|\n",
      "|        19|        5|     DL|          15016|        11433|      28|      24|\n",
      "|        19|        5|     DL|          11193|        12892|      -6|     -11|\n",
      "|        19|        5|     DL|          10397|        15016|      -1|     -19|\n",
      "|        19|        5|     DL|          15016|        10397|       0|      -1|\n",
      "|        19|        5|     DL|          10397|        14869|      15|      24|\n",
      "|        19|        5|     DL|          10397|        10423|      33|      34|\n",
      "|        19|        5|     DL|          11278|        10397|     323|     322|\n",
      "|        19|        5|     DL|          14107|        13487|      -7|     -13|\n",
      "|        19|        5|     DL|          11433|        11298|      22|      41|\n",
      "|        19|        5|     DL|          11298|        11433|      40|      20|\n",
      "|        19|        5|     DL|          11433|        12892|      -2|      -7|\n",
      "|        19|        5|     DL|          10397|        12451|      71|      75|\n",
      "|        19|        5|     DL|          12451|        10397|      75|      57|\n",
      "|        19|        5|     DL|          12953|        10397|      -1|      10|\n",
      "|        19|        5|     DL|          11433|        12953|      -3|     -10|\n",
      "|        19|        5|     DL|          10397|        14771|      31|      38|\n",
      "|        19|        5|     DL|          13204|        10397|       8|      25|\n",
      "+----------+---------+-------+---------------+-------------+--------+--------+\n",
      "only showing top 20 rows\n",
      "\n"
     ]
    }
   ],
   "source": [
    "csv = spark.read.csv('../data/flights.csv', inferSchema=True, header=True)\n",
    "csv.show()"
   ]
  },
  {
   "cell_type": "markdown",
   "metadata": {},
   "source": [
    "### Prepare the Data\n",
    "Most modeling begins with exhaustive exploration and preparation of the data. In this example, the data has been cleaned for you. You will simply select a subset of columns to use as *features* and create a Boolean *label* field named **label** with the value **1** for flights that arrived 15 minutes or more after the scheduled arrival time, or **0** if the flight was early or on-time."
   ]
  },
  {
   "cell_type": "code",
   "execution_count": 4,
   "metadata": {},
   "outputs": [
    {
     "name": "stdout",
     "output_type": "stream",
     "text": [
      "+----------+---------+-------+---------------+-------------+--------+-----+\n",
      "|DayofMonth|DayOfWeek|Carrier|OriginAirportID|DestAirportID|DepDelay|label|\n",
      "+----------+---------+-------+---------------+-------------+--------+-----+\n",
      "|        19|        5|     DL|          11433|        13303|      -3|  0.0|\n",
      "|        19|        5|     DL|          14869|        12478|       0|  0.0|\n",
      "|        19|        5|     DL|          14057|        14869|      -4|  0.0|\n",
      "|        19|        5|     DL|          15016|        11433|      28|  1.0|\n",
      "|        19|        5|     DL|          11193|        12892|      -6|  0.0|\n",
      "|        19|        5|     DL|          10397|        15016|      -1|  0.0|\n",
      "|        19|        5|     DL|          15016|        10397|       0|  0.0|\n",
      "|        19|        5|     DL|          10397|        14869|      15|  1.0|\n",
      "|        19|        5|     DL|          10397|        10423|      33|  1.0|\n",
      "|        19|        5|     DL|          11278|        10397|     323|  1.0|\n",
      "|        19|        5|     DL|          14107|        13487|      -7|  0.0|\n",
      "|        19|        5|     DL|          11433|        11298|      22|  1.0|\n",
      "|        19|        5|     DL|          11298|        11433|      40|  1.0|\n",
      "|        19|        5|     DL|          11433|        12892|      -2|  0.0|\n",
      "|        19|        5|     DL|          10397|        12451|      71|  1.0|\n",
      "|        19|        5|     DL|          12451|        10397|      75|  1.0|\n",
      "|        19|        5|     DL|          12953|        10397|      -1|  0.0|\n",
      "|        19|        5|     DL|          11433|        12953|      -3|  0.0|\n",
      "|        19|        5|     DL|          10397|        14771|      31|  1.0|\n",
      "|        19|        5|     DL|          13204|        10397|       8|  1.0|\n",
      "+----------+---------+-------+---------------+-------------+--------+-----+\n",
      "only showing top 20 rows\n",
      "\n"
     ]
    }
   ],
   "source": [
    "data = csv.select(\"DayofMonth\", \"DayOfWeek\", \"Carrier\", \"OriginAirportID\", \"DestAirportID\", \"DepDelay\", ((col(\"ArrDelay\") > 15).cast(\"Double\").alias(\"label\")))\n",
    "data.show()"
   ]
  },
  {
   "cell_type": "markdown",
   "metadata": {},
   "source": [
    "### Split the Data\n",
    "It is common practice when building supervised machine learning models to split the source data, using some of it to train the model and reserving some to test the trained model. In this exercise, you will use 70% of the data for training, and reserve 30% for testing. In the testing data, the **label** column is renamed to **trueLabel** so you can use it later to compare predicted labels with known actual values."
   ]
  },
  {
   "cell_type": "code",
   "execution_count": 5,
   "metadata": {},
   "outputs": [
    {
     "name": "stdout",
     "output_type": "stream",
     "text": [
      "Training Rows: 1893050  Testing Rows: 809168\n"
     ]
    }
   ],
   "source": [
    "splits = data.randomSplit([0.7, 0.3])\n",
    "train = splits[0]\n",
    "test = splits[1].withColumnRenamed(\"label\", \"trueLabel\")\n",
    "train_rows = train.count()\n",
    "test_rows = test.count()\n",
    "print(\"Training Rows:\", train_rows, \" Testing Rows:\", test_rows)"
   ]
  },
  {
   "cell_type": "markdown",
   "metadata": {},
   "source": [
    "### Define the Pipeline\n",
    "A predictive model often requires multiple stages of feature preparation. For example, it is common when using some algorithms to distingish between continuous features (which have a calculable numeric value) and categorical features (which are numeric representations of discrete categories). It is also common to *normalize* continuous numeric features to use a common scale (for example, by scaling all numbers to a proportinal decimal value between 0 and 1).\n",
    "\n",
    "A pipeline consists of a a series of *transformer* and *estimator* stages that typically prepare a DataFrame for\n",
    "modeling and then train a predictive model. In this case, you will create a pipeline with seven stages:\n",
    "- A **StringIndexer** estimator that converts string values to indexes for categorical features\n",
    "- A **VectorAssembler** that combines categorical features into a single vector\n",
    "- A **VectorIndexer** that creates indexes for a vector of categorical features\n",
    "- A **VectorAssembler** that creates a vector of continuous numeric features\n",
    "- A **MinMaxScaler** that normalizes continuous numeric features\n",
    "- A **VectorAssembler** that creates a vector of categorical and continuous features\n",
    "- A **DecisionTreeClassifier** that trains a classification model."
   ]
  },
  {
   "cell_type": "code",
   "execution_count": 6,
   "metadata": {
    "scrolled": false
   },
   "outputs": [],
   "source": [
    "strIdx = StringIndexer(inputCol = \"Carrier\", outputCol = \"CarrierIdx\")\n",
    "catVect = VectorAssembler(inputCols = [\"CarrierIdx\", \"DayofMonth\", \"DayOfWeek\", \"OriginAirportID\", \"DestAirportID\"], outputCol=\"catFeatures\")\n",
    "catIdx = VectorIndexer(inputCol = catVect.getOutputCol(), outputCol = \"idxCatFeatures\")\n",
    "numVect = VectorAssembler(inputCols = [\"DepDelay\"], outputCol=\"numFeatures\")\n",
    "minMax = MinMaxScaler(inputCol = numVect.getOutputCol(), outputCol=\"normFeatures\")\n",
    "featVect = VectorAssembler(inputCols=[\"idxCatFeatures\", \"normFeatures\"], outputCol=\"features\")\n",
    "dt = DecisionTreeClassifier(labelCol=\"label\", featuresCol=\"features\")\n",
    "pipeline = Pipeline(stages=[strIdx, catVect, catIdx, numVect, minMax, featVect, dt])"
   ]
  },
  {
   "cell_type": "markdown",
   "metadata": {},
   "source": [
    "### Run the Pipeline as an Estimator\n",
    "The pipeline itself is an estimator, and so it has a **fit** method that you can call to run the pipeline on a specified DataFrame. In this case, you will run the pipeline on the training data to train a model. "
   ]
  },
  {
   "cell_type": "code",
   "execution_count": 7,
   "metadata": {
    "scrolled": false
   },
   "outputs": [
    {
     "name": "stdout",
     "output_type": "stream",
     "text": [
      "Pipeline complete!\n"
     ]
    }
   ],
   "source": [
    "piplineModel = pipeline.fit(train)\n",
    "print(\"Pipeline complete!\")"
   ]
  },
  {
   "cell_type": "markdown",
   "metadata": {},
   "source": [
    "### Test the Pipeline Model\n",
    "The model produced by the pipeline is a transformer that will apply all of the stages in the pipeline to a specified DataFrame and apply the trained model to generate predictions. In this case, you will transform the **test** DataFrame using the pipeline to generate label predictions."
   ]
  },
  {
   "cell_type": "code",
   "execution_count": 8,
   "metadata": {
    "scrolled": false
   },
   "outputs": [
    {
     "name": "stdout",
     "output_type": "stream",
     "text": [
      "+---------------------------------------------------+----------+---------+\n",
      "|features                                           |prediction|trueLabel|\n",
      "+---------------------------------------------------+----------+---------+\n",
      "|[10.0,1.0,0.0,10397.0,10693.0,0.030161206448257934]|0.0       |0.0      |\n",
      "|[10.0,1.0,0.0,10397.0,12191.0,0.030161206448257934]|0.0       |0.0      |\n",
      "|[10.0,1.0,0.0,10397.0,12264.0,0.04316172646905877] |1.0       |0.0      |\n",
      "|[10.0,1.0,0.0,10423.0,11433.0,0.028601144045761834]|0.0       |0.0      |\n",
      "|[10.0,1.0,0.0,10423.0,11433.0,0.0296411856474259]  |0.0       |0.0      |\n",
      "|[10.0,1.0,0.0,10423.0,11433.0,0.03848153926157047] |0.0       |1.0      |\n",
      "|[10.0,1.0,0.0,10423.0,13487.0,0.029121164846593866]|0.0       |0.0      |\n",
      "|[10.0,1.0,0.0,10423.0,13487.0,0.030161206448257934]|0.0       |0.0      |\n",
      "|[10.0,1.0,0.0,10423.0,14869.0,0.0280811232449298]  |0.0       |0.0      |\n",
      "|[10.0,1.0,0.0,10529.0,14492.0,0.04160166406656267] |0.0       |1.0      |\n",
      "|[10.0,1.0,0.0,10693.0,10397.0,0.028601144045761834]|0.0       |0.0      |\n",
      "|[10.0,1.0,0.0,10693.0,12478.0,0.03536141445657827] |0.0       |0.0      |\n",
      "|[10.0,1.0,0.0,10693.0,13487.0,0.028601144045761834]|0.0       |0.0      |\n",
      "|[10.0,1.0,0.0,10693.0,13487.0,0.029121164846593866]|0.0       |0.0      |\n",
      "|[10.0,1.0,0.0,10721.0,11193.0,0.029121164846593866]|0.0       |0.0      |\n",
      "|[10.0,1.0,0.0,10721.0,12478.0,0.04420176807072283] |1.0       |1.0      |\n",
      "|[10.0,1.0,0.0,10721.0,12478.0,0.05044201768070723] |1.0       |1.0      |\n",
      "|[10.0,1.0,0.0,10721.0,13931.0,0.027041081643265734]|0.0       |0.0      |\n",
      "|[10.0,1.0,0.0,10721.0,13931.0,0.04004160166406657] |0.0       |0.0      |\n",
      "|[10.0,1.0,0.0,10792.0,11433.0,0.029121164846593866]|0.0       |0.0      |\n",
      "|[10.0,1.0,0.0,10792.0,12478.0,0.17420696827873117] |1.0       |1.0      |\n",
      "|[10.0,1.0,0.0,10821.0,11193.0,0.029121164846593866]|0.0       |0.0      |\n",
      "|[10.0,1.0,0.0,10821.0,11193.0,0.16328653146125846] |1.0       |1.0      |\n",
      "|[10.0,1.0,0.0,11042.0,13487.0,0.026521060842433702]|0.0       |0.0      |\n",
      "|[10.0,1.0,0.0,11042.0,13487.0,0.0296411856474259]  |0.0       |0.0      |\n",
      "|[10.0,1.0,0.0,11042.0,13487.0,0.031201248049922]   |0.0       |0.0      |\n",
      "|[10.0,1.0,0.0,11057.0,11193.0,0.028601144045761834]|0.0       |0.0      |\n",
      "|[10.0,1.0,0.0,11057.0,11193.0,0.030161206448257934]|0.0       |0.0      |\n",
      "|[10.0,1.0,0.0,11066.0,12478.0,0.0811232449297972]  |1.0       |1.0      |\n",
      "|[10.0,1.0,0.0,11066.0,13487.0,0.028601144045761834]|0.0       |0.0      |\n",
      "|[10.0,1.0,0.0,11066.0,13487.0,0.029121164846593866]|0.0       |0.0      |\n",
      "|[10.0,1.0,0.0,11193.0,10529.0,0.030161206448257934]|0.0       |0.0      |\n",
      "|[10.0,1.0,0.0,11193.0,10529.0,0.03952158086323453] |0.0       |1.0      |\n",
      "|[10.0,1.0,0.0,11193.0,10529.0,0.04732189287571503] |1.0       |1.0      |\n",
      "|[10.0,1.0,0.0,11193.0,10721.0,0.031201248049922]   |0.0       |0.0      |\n",
      "|[10.0,1.0,0.0,11193.0,10821.0,0.027041081643265734]|0.0       |0.0      |\n",
      "|[10.0,1.0,0.0,11193.0,10821.0,0.029121164846593866]|0.0       |0.0      |\n",
      "|[10.0,1.0,0.0,11193.0,11057.0,0.027561102444097766]|0.0       |0.0      |\n",
      "|[10.0,1.0,0.0,11193.0,11057.0,0.031721268850754034]|0.0       |0.0      |\n",
      "|[10.0,1.0,0.0,11193.0,11278.0,0.0296411856474259]  |0.0       |1.0      |\n",
      "|[10.0,1.0,0.0,11193.0,11433.0,0.027561102444097766]|0.0       |0.0      |\n",
      "|[10.0,1.0,0.0,11193.0,11433.0,0.0280811232449298]  |0.0       |0.0      |\n",
      "|[10.0,1.0,0.0,11193.0,11433.0,0.028601144045761834]|0.0       |0.0      |\n",
      "|[10.0,1.0,0.0,11193.0,11433.0,0.0296411856474259]  |0.0       |0.0      |\n",
      "|[10.0,1.0,0.0,11193.0,11433.0,0.10712428497139886] |1.0       |1.0      |\n",
      "|[10.0,1.0,0.0,11193.0,11618.0,0.04160166406656267] |0.0       |0.0      |\n",
      "|[10.0,1.0,0.0,11193.0,12451.0,0.028601144045761834]|0.0       |0.0      |\n",
      "|[10.0,1.0,0.0,11193.0,12451.0,0.11024440977639106] |1.0       |1.0      |\n",
      "|[10.0,1.0,0.0,11193.0,13198.0,0.0390015600624025]  |0.0       |0.0      |\n",
      "|[10.0,1.0,0.0,11193.0,13244.0,0.030161206448257934]|0.0       |0.0      |\n",
      "|[10.0,1.0,0.0,11193.0,13244.0,0.030681227249089966]|0.0       |0.0      |\n",
      "|[10.0,1.0,0.0,11193.0,13342.0,0.05980239209568383] |1.0       |1.0      |\n",
      "|[10.0,1.0,0.0,11193.0,13487.0,0.031201248049922]   |0.0       |1.0      |\n",
      "|[10.0,1.0,0.0,11193.0,13930.0,0.062402496099844]   |1.0       |1.0      |\n",
      "|[10.0,1.0,0.0,11193.0,13930.0,0.07072282891315654] |1.0       |1.0      |\n",
      "|[10.0,1.0,0.0,11193.0,14100.0,0.0280811232449298]  |0.0       |0.0      |\n",
      "|[10.0,1.0,0.0,11193.0,14100.0,0.031201248049922]   |0.0       |0.0      |\n",
      "|[10.0,1.0,0.0,11193.0,14492.0,0.029121164846593866]|0.0       |0.0      |\n",
      "|[10.0,1.0,0.0,11193.0,15016.0,0.027041081643265734]|0.0       |0.0      |\n",
      "|[10.0,1.0,0.0,11278.0,12478.0,0.031201248049922]   |0.0       |0.0      |\n",
      "|[10.0,1.0,0.0,11278.0,12478.0,0.06136245449817993] |1.0       |1.0      |\n",
      "|[10.0,1.0,0.0,11278.0,13244.0,0.0452418096723869]  |1.0       |1.0      |\n",
      "|[10.0,1.0,0.0,11292.0,14869.0,0.031201248049922]   |0.0       |0.0      |\n",
      "|[10.0,1.0,0.0,11292.0,14869.0,0.03224128965158607] |0.0       |0.0      |\n",
      "|[10.0,1.0,0.0,11298.0,11193.0,0.04628185127405097] |1.0       |0.0      |\n",
      "|[10.0,1.0,0.0,11433.0,10423.0,0.0280811232449298]  |0.0       |0.0      |\n",
      "|[10.0,1.0,0.0,11433.0,10423.0,0.0296411856474259]  |0.0       |0.0      |\n",
      "|[10.0,1.0,0.0,11433.0,10423.0,0.030161206448257934]|0.0       |0.0      |\n",
      "|[10.0,1.0,0.0,11433.0,10792.0,0.0296411856474259]  |0.0       |0.0      |\n",
      "|[10.0,1.0,0.0,11433.0,11042.0,0.027041081643265734]|0.0       |0.0      |\n",
      "|[10.0,1.0,0.0,11433.0,11042.0,0.030161206448257934]|0.0       |0.0      |\n",
      "|[10.0,1.0,0.0,11433.0,11042.0,0.03796151846073843] |0.0       |1.0      |\n",
      "|[10.0,1.0,0.0,11433.0,11066.0,0.028601144045761834]|0.0       |0.0      |\n",
      "|[10.0,1.0,0.0,11433.0,11193.0,0.028601144045761834]|0.0       |0.0      |\n",
      "|[10.0,1.0,0.0,11433.0,11193.0,0.030681227249089966]|0.0       |0.0      |\n",
      "|[10.0,1.0,0.0,11433.0,11193.0,0.031201248049922]   |0.0       |0.0      |\n",
      "|[10.0,1.0,0.0,11433.0,11193.0,0.03536141445657827] |0.0       |0.0      |\n",
      "|[10.0,1.0,0.0,11433.0,11193.0,0.07384295371814874] |1.0       |1.0      |\n",
      "|[10.0,1.0,0.0,11433.0,11298.0,0.031201248049922]   |0.0       |0.0      |\n",
      "|[10.0,1.0,0.0,11433.0,12339.0,0.0280811232449298]  |0.0       |0.0      |\n",
      "|[10.0,1.0,0.0,11433.0,12339.0,0.030161206448257934]|0.0       |0.0      |\n",
      "|[10.0,1.0,0.0,11433.0,12339.0,0.03536141445657827] |0.0       |1.0      |\n",
      "|[10.0,1.0,0.0,11433.0,12339.0,0.0374414976599064]  |0.0       |1.0      |\n",
      "|[10.0,1.0,0.0,11433.0,12478.0,0.12844513780551223] |1.0       |1.0      |\n",
      "|[10.0,1.0,0.0,11433.0,13232.0,0.030681227249089966]|0.0       |0.0      |\n",
      "|[10.0,1.0,0.0,11433.0,13244.0,0.031201248049922]   |0.0       |0.0      |\n",
      "|[10.0,1.0,0.0,11433.0,13342.0,0.030161206448257934]|0.0       |0.0      |\n",
      "|[10.0,1.0,0.0,11433.0,13342.0,0.03380135205408217] |0.0       |0.0      |\n",
      "|[10.0,1.0,0.0,11433.0,13851.0,0.029121164846593866]|0.0       |0.0      |\n",
      "|[10.0,1.0,0.0,11433.0,13871.0,0.028601144045761834]|0.0       |0.0      |\n",
      "|[10.0,1.0,0.0,11433.0,13931.0,0.028601144045761834]|0.0       |0.0      |\n",
      "|[10.0,1.0,0.0,11433.0,13931.0,0.0374414976599064]  |0.0       |1.0      |\n",
      "|[10.0,1.0,0.0,11433.0,14100.0,0.0296411856474259]  |0.0       |0.0      |\n",
      "|[10.0,1.0,0.0,11433.0,14100.0,0.0358814352574103]  |0.0       |0.0      |\n",
      "|[10.0,1.0,0.0,11433.0,14100.0,0.03640145605824233] |0.0       |0.0      |\n",
      "|[10.0,1.0,0.0,11433.0,14100.0,0.0421216848673947]  |1.0       |0.0      |\n",
      "|[10.0,1.0,0.0,11433.0,14122.0,0.029121164846593866]|0.0       |0.0      |\n",
      "|[10.0,1.0,0.0,11433.0,14122.0,0.030681227249089966]|0.0       |0.0      |\n",
      "|[10.0,1.0,0.0,11433.0,14122.0,0.04940197607904317] |1.0       |0.0      |\n",
      "|[10.0,1.0,0.0,11433.0,14307.0,0.028601144045761834]|0.0       |0.0      |\n",
      "+---------------------------------------------------+----------+---------+\n",
      "only showing top 100 rows\n",
      "\n"
     ]
    }
   ],
   "source": [
    "prediction = piplineModel.transform(test)\n",
    "predicted = prediction.select(\"features\", \"prediction\", \"trueLabel\")\n",
    "predicted.show(100, truncate=False)"
   ]
  },
  {
   "cell_type": "markdown",
   "metadata": {},
   "source": [
    "The resulting DataFrame is produced by applying all of the transformations in the pipline to the test data. The **prediction** column contains the predicted value for the label, and the **trueLabel** column contains the actual known value from the testing data."
   ]
  }
 ],
 "metadata": {
  "kernelspec": {
   "display_name": "Python 3",
   "language": "python",
   "name": "python3"
  },
  "language_info": {
   "codemirror_mode": {
    "name": "ipython",
    "version": 3
   },
   "file_extension": ".py",
   "mimetype": "text/x-python",
   "name": "python",
   "nbconvert_exporter": "python",
   "pygments_lexer": "ipython3",
   "version": "3.8.5"
  }
 },
 "nbformat": 4,
 "nbformat_minor": 1
}
