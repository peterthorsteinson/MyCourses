{
 "cells": [
  {
   "cell_type": "code",
   "execution_count": 1,
   "metadata": {},
   "outputs": [],
   "source": [
    "%load_ext sparksql_magic\n",
    "from pyspark.sql import SparkSession\n",
    "spark = SparkSession.builder.master(\"local\").getOrCreate()"
   ]
  },
  {
   "cell_type": "markdown",
   "metadata": {},
   "source": [
    "## Creating a Regression Model\n",
    "\n",
    "In this exercise, you will implement a regression model that uses features of a flight to predict how late or early it will arrive.\n",
    "\n",
    "### Import Spark SQL and Spark ML Libraries\n",
    "\n",
    "First, import the libraries you will need:"
   ]
  },
  {
   "cell_type": "code",
   "execution_count": 2,
   "metadata": {
    "scrolled": false
   },
   "outputs": [],
   "source": [
    "from pyspark.sql.types import *\n",
    "from pyspark.sql.functions import *\n",
    "\n",
    "from pyspark.ml.regression import LinearRegression\n",
    "from pyspark.ml.feature import VectorAssembler"
   ]
  },
  {
   "cell_type": "markdown",
   "metadata": {},
   "source": [
    "### Load Source Data\n",
    "The data for this exercise is provided as a CSV file containing details of flights. The data includes specific characteristics (or *features*) for each flight, as well as a *label* column indicating how many minutes late or early the flight arrived.\n",
    "\n",
    "You will load this data into a DataFrame and display it."
   ]
  },
  {
   "cell_type": "code",
   "execution_count": 3,
   "metadata": {
    "scrolled": false
   },
   "outputs": [
    {
     "name": "stdout",
     "output_type": "stream",
     "text": [
      "+----------+---------+-------+---------------+-------------+--------+--------+\n",
      "|DayofMonth|DayOfWeek|Carrier|OriginAirportID|DestAirportID|DepDelay|ArrDelay|\n",
      "+----------+---------+-------+---------------+-------------+--------+--------+\n",
      "|        19|        5|     DL|          11433|        13303|      -3|       1|\n",
      "|        19|        5|     DL|          14869|        12478|       0|      -8|\n",
      "|        19|        5|     DL|          14057|        14869|      -4|     -15|\n",
      "|        19|        5|     DL|          15016|        11433|      28|      24|\n",
      "|        19|        5|     DL|          11193|        12892|      -6|     -11|\n",
      "|        19|        5|     DL|          10397|        15016|      -1|     -19|\n",
      "|        19|        5|     DL|          15016|        10397|       0|      -1|\n",
      "|        19|        5|     DL|          10397|        14869|      15|      24|\n",
      "|        19|        5|     DL|          10397|        10423|      33|      34|\n",
      "|        19|        5|     DL|          11278|        10397|     323|     322|\n",
      "|        19|        5|     DL|          14107|        13487|      -7|     -13|\n",
      "|        19|        5|     DL|          11433|        11298|      22|      41|\n",
      "|        19|        5|     DL|          11298|        11433|      40|      20|\n",
      "|        19|        5|     DL|          11433|        12892|      -2|      -7|\n",
      "|        19|        5|     DL|          10397|        12451|      71|      75|\n",
      "|        19|        5|     DL|          12451|        10397|      75|      57|\n",
      "|        19|        5|     DL|          12953|        10397|      -1|      10|\n",
      "|        19|        5|     DL|          11433|        12953|      -3|     -10|\n",
      "|        19|        5|     DL|          10397|        14771|      31|      38|\n",
      "|        19|        5|     DL|          13204|        10397|       8|      25|\n",
      "+----------+---------+-------+---------------+-------------+--------+--------+\n",
      "only showing top 20 rows\n",
      "\n"
     ]
    }
   ],
   "source": [
    "csv = spark.read.csv('../data/flights.csv', inferSchema=True, header=True)\n",
    "csv.show()"
   ]
  },
  {
   "cell_type": "markdown",
   "metadata": {},
   "source": [
    "### Prepare the Data\n",
    "Most modeling begins with exhaustive exploration and preparation of the data. In this example, you will simply select a subset of columns to use as *features* as well as the **ArrDelay** column, which will be the *label* your model will predict."
   ]
  },
  {
   "cell_type": "code",
   "execution_count": 4,
   "metadata": {},
   "outputs": [
    {
     "name": "stdout",
     "output_type": "stream",
     "text": [
      "+----------+---------+---------------+-------------+--------+--------+\n",
      "|DayofMonth|DayOfWeek|OriginAirportID|DestAirportID|DepDelay|ArrDelay|\n",
      "+----------+---------+---------------+-------------+--------+--------+\n",
      "|        19|        5|          11433|        13303|      -3|       1|\n",
      "|        19|        5|          14869|        12478|       0|      -8|\n",
      "|        19|        5|          14057|        14869|      -4|     -15|\n",
      "|        19|        5|          15016|        11433|      28|      24|\n",
      "|        19|        5|          11193|        12892|      -6|     -11|\n",
      "|        19|        5|          10397|        15016|      -1|     -19|\n",
      "|        19|        5|          15016|        10397|       0|      -1|\n",
      "|        19|        5|          10397|        14869|      15|      24|\n",
      "|        19|        5|          10397|        10423|      33|      34|\n",
      "|        19|        5|          11278|        10397|     323|     322|\n",
      "|        19|        5|          14107|        13487|      -7|     -13|\n",
      "|        19|        5|          11433|        11298|      22|      41|\n",
      "|        19|        5|          11298|        11433|      40|      20|\n",
      "|        19|        5|          11433|        12892|      -2|      -7|\n",
      "|        19|        5|          10397|        12451|      71|      75|\n",
      "|        19|        5|          12451|        10397|      75|      57|\n",
      "|        19|        5|          12953|        10397|      -1|      10|\n",
      "|        19|        5|          11433|        12953|      -3|     -10|\n",
      "|        19|        5|          10397|        14771|      31|      38|\n",
      "|        19|        5|          13204|        10397|       8|      25|\n",
      "+----------+---------+---------------+-------------+--------+--------+\n",
      "only showing top 20 rows\n",
      "\n"
     ]
    }
   ],
   "source": [
    "data = csv.select(\"DayofMonth\", \"DayOfWeek\", \"OriginAirportID\", \"DestAirportID\", \"DepDelay\", \"ArrDelay\")\n",
    "data.show()"
   ]
  },
  {
   "cell_type": "markdown",
   "metadata": {},
   "source": [
    "### Split the Data\n",
    "It is common practice when building supervised machine learning models to split the source data, using some of it to train the model and reserving some to test the trained model. In this exercise, you will use 70% of the data for training, and reserve 30% for testing."
   ]
  },
  {
   "cell_type": "code",
   "execution_count": 5,
   "metadata": {},
   "outputs": [
    {
     "name": "stdout",
     "output_type": "stream",
     "text": [
      "Training Rows: 1891590  Testing Rows: 810628\n"
     ]
    }
   ],
   "source": [
    "splits = data.randomSplit([0.7, 0.3])\n",
    "train = splits[0]\n",
    "test = splits[1]\n",
    "train_rows = train.count()\n",
    "test_rows = test.count()\n",
    "print(\"Training Rows:\", train_rows, \" Testing Rows:\", test_rows)"
   ]
  },
  {
   "cell_type": "markdown",
   "metadata": {},
   "source": [
    "### Prepare the Training Data\n",
    "To train the regression model, you need a training data set that includes a vector of numeric features, and a label column. In this exercise, you will use the **VectorAssembler** class to transform the feature columns into a vector, and then rename the **ArrDelay** column to **label**."
   ]
  },
  {
   "cell_type": "code",
   "execution_count": 6,
   "metadata": {
    "scrolled": false
   },
   "outputs": [
    {
     "name": "stdout",
     "output_type": "stream",
     "text": [
      "+--------------------+-----+\n",
      "|            features|label|\n",
      "+--------------------+-----+\n",
      "|[1.0,1.0,10140.0,...|  -11|\n",
      "|[1.0,1.0,10140.0,...|  -18|\n",
      "|[1.0,1.0,10140.0,...|  -17|\n",
      "|[1.0,1.0,10140.0,...|  -12|\n",
      "|[1.0,1.0,10140.0,...|   -9|\n",
      "|[1.0,1.0,10140.0,...|    4|\n",
      "|[1.0,1.0,10140.0,...|   -9|\n",
      "|[1.0,1.0,10140.0,...|   94|\n",
      "|[1.0,1.0,10140.0,...|  -23|\n",
      "|[1.0,1.0,10140.0,...|  -14|\n",
      "|[1.0,1.0,10140.0,...|  -11|\n",
      "|[1.0,1.0,10140.0,...|  -14|\n",
      "|[1.0,1.0,10140.0,...|  -11|\n",
      "|[1.0,1.0,10140.0,...|  -10|\n",
      "|[1.0,1.0,10140.0,...|   19|\n",
      "|[1.0,1.0,10140.0,...|   23|\n",
      "|[1.0,1.0,10140.0,...|   14|\n",
      "|[1.0,1.0,10140.0,...|   41|\n",
      "|[1.0,1.0,10140.0,...|   -8|\n",
      "|[1.0,1.0,10140.0,...|   -9|\n",
      "+--------------------+-----+\n",
      "only showing top 20 rows\n",
      "\n"
     ]
    }
   ],
   "source": [
    "assembler = VectorAssembler(inputCols = [\"DayofMonth\", \"DayOfWeek\", \"OriginAirportID\", \"DestAirportID\", \"DepDelay\"], outputCol=\"features\")\n",
    "training = assembler.transform(train).select(col(\"features\"), (col(\"ArrDelay\").cast(\"Int\").alias(\"label\")))\n",
    "training.show()"
   ]
  },
  {
   "cell_type": "markdown",
   "metadata": {},
   "source": [
    "### Train a Regression Model\n",
    "Next, you need to train a regression model using the training data. To do this, create an instance of the regression algorithm you want to use and use its **fit** method to train a model based on the training DataFrame. In this exercise, you will use a *Linear Regression* algorithm - though you can use the same technique for any of the regression algorithms supported in the spark.ml API."
   ]
  },
  {
   "cell_type": "code",
   "execution_count": 7,
   "metadata": {
    "scrolled": false
   },
   "outputs": [
    {
     "name": "stdout",
     "output_type": "stream",
     "text": [
      "Model trained!\n"
     ]
    }
   ],
   "source": [
    "lr = LinearRegression(labelCol=\"label\",featuresCol=\"features\", maxIter=10, regParam=0.3)\n",
    "model = lr.fit(training)\n",
    "print(\"Model trained!\")"
   ]
  },
  {
   "cell_type": "markdown",
   "metadata": {},
   "source": [
    "### Prepare the Testing Data\n",
    "Now that you have a trained model, you can test it using the testing data you reserved previously. First, you need to prepare the testing data in the same way as you did the training data by transforming the feature columns into a vector. This time you'll rename the **ArrDelay** column to **trueLabel**."
   ]
  },
  {
   "cell_type": "code",
   "execution_count": 8,
   "metadata": {},
   "outputs": [
    {
     "name": "stdout",
     "output_type": "stream",
     "text": [
      "+--------------------+---------+\n",
      "|            features|trueLabel|\n",
      "+--------------------+---------+\n",
      "|[1.0,1.0,10140.0,...|      -12|\n",
      "|[1.0,1.0,10140.0,...|       -6|\n",
      "|[1.0,1.0,10140.0,...|      -12|\n",
      "|[1.0,1.0,10140.0,...|        5|\n",
      "|[1.0,1.0,10140.0,...|       -9|\n",
      "|[1.0,1.0,10140.0,...|       -6|\n",
      "|[1.0,1.0,10140.0,...|       -5|\n",
      "|[1.0,1.0,10140.0,...|       -1|\n",
      "|[1.0,1.0,10140.0,...|       38|\n",
      "|[1.0,1.0,10140.0,...|      -10|\n",
      "|[1.0,1.0,10140.0,...|       -2|\n",
      "|[1.0,1.0,10140.0,...|       -9|\n",
      "|[1.0,1.0,10140.0,...|      -11|\n",
      "|[1.0,1.0,10140.0,...|      -18|\n",
      "|[1.0,1.0,10140.0,...|      -23|\n",
      "|[1.0,1.0,10140.0,...|       13|\n",
      "|[1.0,1.0,10140.0,...|       18|\n",
      "|[1.0,1.0,10140.0,...|      106|\n",
      "|[1.0,1.0,10140.0,...|       -5|\n",
      "|[1.0,1.0,10140.0,...|      -17|\n",
      "+--------------------+---------+\n",
      "only showing top 20 rows\n",
      "\n"
     ]
    }
   ],
   "source": [
    "testing = assembler.transform(test).select(col(\"features\"), (col(\"ArrDelay\")).cast(\"Int\").alias(\"trueLabel\"))\n",
    "testing.show()"
   ]
  },
  {
   "cell_type": "markdown",
   "metadata": {},
   "source": [
    "### Test the Model\n",
    "Now you're ready to use the **transform** method of the model to generate some predictions. You can use this approach to predict arrival delay for flights where the label is unknown; but in this case you are using the test data which includes a known true label value, so you can compare the predicted number of minutes late or early to the actual arrival delay. "
   ]
  },
  {
   "cell_type": "code",
   "execution_count": 9,
   "metadata": {
    "scrolled": false
   },
   "outputs": [
    {
     "name": "stdout",
     "output_type": "stream",
     "text": [
      "+--------------------+-------------------+---------+\n",
      "|            features|         prediction|trueLabel|\n",
      "+--------------------+-------------------+---------+\n",
      "|[1.0,1.0,10140.0,...| -5.750314277312188|      -12|\n",
      "|[1.0,1.0,10140.0,...| -5.750314277312188|       -6|\n",
      "|[1.0,1.0,10140.0,...|-3.7553263374705956|      -12|\n",
      "|[1.0,1.0,10140.0,...|  8.214601301578956|        5|\n",
      "|[1.0,1.0,10140.0,...|-12.740455166244557|       -9|\n",
      "|[1.0,1.0,10140.0,...|-11.742961196323762|       -6|\n",
      "|[1.0,1.0,10140.0,...| -3.763009436957393|       -5|\n",
      "|[1.0,1.0,10140.0,...|-1.7680214971158015|       -1|\n",
      "|[1.0,1.0,10140.0,...| 21.174339811062506|       38|\n",
      "|[1.0,1.0,10140.0,...|-10.746864153582383|      -10|\n",
      "|[1.0,1.0,10140.0,...| -5.759394303978404|       -2|\n",
      "|[1.0,1.0,10140.0,...| -4.761900334057607|       -9|\n",
      "|[1.0,1.0,10140.0,...|-3.7644063641368115|      -11|\n",
      "|[1.0,1.0,10140.0,...| -6.964797602435878|      -18|\n",
      "|[1.0,1.0,10140.0,...| -2.974821722752695|      -23|\n",
      "|[1.0,1.0,10140.0,...| 11.987587826059244|       13|\n",
      "|[1.0,1.0,10140.0,...|  27.94749134479198|       18|\n",
      "|[1.0,1.0,10140.0,...| 119.71693657750521|      106|\n",
      "|[1.0,1.0,10140.0,...|-1.9943237001814818|       -5|\n",
      "|[1.0,1.0,10140.0,...|-11.969729041782582|      -17|\n",
      "+--------------------+-------------------+---------+\n",
      "only showing top 20 rows\n",
      "\n"
     ]
    }
   ],
   "source": [
    "prediction = model.transform(testing)\n",
    "predicted = prediction.select(\"features\", \"prediction\", \"trueLabel\")\n",
    "predicted.show()"
   ]
  },
  {
   "cell_type": "markdown",
   "metadata": {},
   "source": [
    "Looking at the result, the **prediction** column contains the predicted value for the label, and the **trueLabel** column contains the actual known value from the testing data. It looks like there is some variance between the predictions and the actual values (the individual differences are referred to as *residuals*)- later in this course you'll learn how to measure the accuracy of a model."
   ]
  }
 ],
 "metadata": {
  "kernelspec": {
   "display_name": "Python 3",
   "language": "python",
   "name": "python3"
  },
  "language_info": {
   "codemirror_mode": {
    "name": "ipython",
    "version": 3
   },
   "file_extension": ".py",
   "mimetype": "text/x-python",
   "name": "python",
   "nbconvert_exporter": "python",
   "pygments_lexer": "ipython3",
   "version": "3.8.5"
  }
 },
 "nbformat": 4,
 "nbformat_minor": 1
}
