{
 "cells": [
  {
   "cell_type": "code",
   "execution_count": 1,
   "metadata": {},
   "outputs": [],
   "source": [
    "from pyspark.sql import SparkSession\n",
    "spark = SparkSession.builder.master(\"local\").getOrCreate()"
   ]
  },
  {
   "cell_type": "markdown",
   "metadata": {},
   "source": [
    "## Creating a Classification Model\n",
    "\n",
    "In this exercise, you will implement a classification model that uses features of a flight to predict whether or not the flight will be delayed.\n",
    "\n",
    "### Import Spark SQL and Spark ML Libraries\n",
    "\n",
    "First, import the libraries you will need:"
   ]
  },
  {
   "cell_type": "code",
   "execution_count": 2,
   "metadata": {},
   "outputs": [],
   "source": [
    "from pyspark.sql.types import *\n",
    "from pyspark.sql.functions import *\n",
    "\n",
    "from pyspark.ml.classification import LogisticRegression\n",
    "from pyspark.ml.feature import VectorAssembler"
   ]
  },
  {
   "cell_type": "markdown",
   "metadata": {},
   "source": [
    "### Load Source Data\n",
    "The data for this exercise is provided as a CSV file containing details of flights. The data includes specific characteristics (or *features*) for each flight, as well as a column indicating how many minutes late or early the flight arrived.\n",
    "\n",
    "You will load this data into a DataFrame and display it."
   ]
  },
  {
   "cell_type": "code",
   "execution_count": 3,
   "metadata": {
    "scrolled": false
   },
   "outputs": [
    {
     "name": "stdout",
     "output_type": "stream",
     "text": [
      "+----------+---------+-------+---------------+-------------+--------+--------+\n",
      "|DayofMonth|DayOfWeek|Carrier|OriginAirportID|DestAirportID|DepDelay|ArrDelay|\n",
      "+----------+---------+-------+---------------+-------------+--------+--------+\n",
      "|        19|        5|     DL|          11433|        13303|      -3|       1|\n",
      "|        19|        5|     DL|          14869|        12478|       0|      -8|\n",
      "|        19|        5|     DL|          14057|        14869|      -4|     -15|\n",
      "|        19|        5|     DL|          15016|        11433|      28|      24|\n",
      "|        19|        5|     DL|          11193|        12892|      -6|     -11|\n",
      "|        19|        5|     DL|          10397|        15016|      -1|     -19|\n",
      "|        19|        5|     DL|          15016|        10397|       0|      -1|\n",
      "|        19|        5|     DL|          10397|        14869|      15|      24|\n",
      "|        19|        5|     DL|          10397|        10423|      33|      34|\n",
      "|        19|        5|     DL|          11278|        10397|     323|     322|\n",
      "|        19|        5|     DL|          14107|        13487|      -7|     -13|\n",
      "|        19|        5|     DL|          11433|        11298|      22|      41|\n",
      "|        19|        5|     DL|          11298|        11433|      40|      20|\n",
      "|        19|        5|     DL|          11433|        12892|      -2|      -7|\n",
      "|        19|        5|     DL|          10397|        12451|      71|      75|\n",
      "|        19|        5|     DL|          12451|        10397|      75|      57|\n",
      "|        19|        5|     DL|          12953|        10397|      -1|      10|\n",
      "|        19|        5|     DL|          11433|        12953|      -3|     -10|\n",
      "|        19|        5|     DL|          10397|        14771|      31|      38|\n",
      "|        19|        5|     DL|          13204|        10397|       8|      25|\n",
      "+----------+---------+-------+---------------+-------------+--------+--------+\n",
      "only showing top 20 rows\n",
      "\n"
     ]
    }
   ],
   "source": [
    "csv = spark.read.csv('../data/flights.csv', inferSchema=True, header=True)\n",
    "csv.show()"
   ]
  },
  {
   "cell_type": "markdown",
   "metadata": {},
   "source": [
    "### Prepare the Data\n",
    "Most modeling begins with exhaustive exploration and preparation of the data. In this example, the data has been cleaned for you. You will simply select a subset of columns to use as *features* and create a Boolean *label* field named **Late** with the value **1** for flights that arrived 15 minutes or more after the scheduled arrival time, or **0** if the flight was early or on-time.\n",
    "\n",
    "(Note that in a real scenario, you would perform additional tasks such as handling missing or duplicated data, scaling numeric columns, and using a process called *feature engineering* to create new features for your model)."
   ]
  },
  {
   "cell_type": "code",
   "execution_count": 4,
   "metadata": {},
   "outputs": [
    {
     "name": "stdout",
     "output_type": "stream",
     "text": [
      "+----------+---------+---------------+-------------+--------+----+\n",
      "|DayofMonth|DayOfWeek|OriginAirportID|DestAirportID|DepDelay|Late|\n",
      "+----------+---------+---------------+-------------+--------+----+\n",
      "|        19|        5|          11433|        13303|      -3|   0|\n",
      "|        19|        5|          14869|        12478|       0|   0|\n",
      "|        19|        5|          14057|        14869|      -4|   0|\n",
      "|        19|        5|          15016|        11433|      28|   1|\n",
      "|        19|        5|          11193|        12892|      -6|   0|\n",
      "|        19|        5|          10397|        15016|      -1|   0|\n",
      "|        19|        5|          15016|        10397|       0|   0|\n",
      "|        19|        5|          10397|        14869|      15|   1|\n",
      "|        19|        5|          10397|        10423|      33|   1|\n",
      "|        19|        5|          11278|        10397|     323|   1|\n",
      "|        19|        5|          14107|        13487|      -7|   0|\n",
      "|        19|        5|          11433|        11298|      22|   1|\n",
      "|        19|        5|          11298|        11433|      40|   1|\n",
      "|        19|        5|          11433|        12892|      -2|   0|\n",
      "|        19|        5|          10397|        12451|      71|   1|\n",
      "|        19|        5|          12451|        10397|      75|   1|\n",
      "|        19|        5|          12953|        10397|      -1|   0|\n",
      "|        19|        5|          11433|        12953|      -3|   0|\n",
      "|        19|        5|          10397|        14771|      31|   1|\n",
      "|        19|        5|          13204|        10397|       8|   1|\n",
      "+----------+---------+---------------+-------------+--------+----+\n",
      "only showing top 20 rows\n",
      "\n"
     ]
    }
   ],
   "source": [
    "data = csv.select(\"DayofMonth\", \"DayOfWeek\", \"OriginAirportID\", \"DestAirportID\", \"DepDelay\", ((col(\"ArrDelay\") > 15).cast(\"Int\").alias(\"Late\")))\n",
    "data.show()"
   ]
  },
  {
   "cell_type": "markdown",
   "metadata": {},
   "source": [
    "### Split the Data\n",
    "It is common practice when building supervised machine learning models to split the source data, using some of it to train the model and reserving some to test the trained model. In this exercise, you will use 70% of the data for training, and reserve 30% for testing."
   ]
  },
  {
   "cell_type": "code",
   "execution_count": 5,
   "metadata": {},
   "outputs": [
    {
     "name": "stdout",
     "output_type": "stream",
     "text": [
      "Training Rows: 1890977  Testing Rows: 811241\n"
     ]
    }
   ],
   "source": [
    "splits = data.randomSplit([0.7, 0.3])\n",
    "train = splits[0]\n",
    "test = splits[1]\n",
    "train_rows = train.count()\n",
    "test_rows = test.count()\n",
    "print(\"Training Rows:\", train_rows, \" Testing Rows:\", test_rows)"
   ]
  },
  {
   "cell_type": "markdown",
   "metadata": {},
   "source": [
    "### Prepare the Training Data\n",
    "To train the classification model, you need a training data set that includes a vector of numeric features, and a label column. In this exercise, you will use the **VectorAssembler** class to transform the feature columns into a vector, and then rename the **Late** column to **label**."
   ]
  },
  {
   "cell_type": "code",
   "execution_count": 6,
   "metadata": {
    "scrolled": false
   },
   "outputs": [
    {
     "name": "stdout",
     "output_type": "stream",
     "text": [
      "+--------------------+-----+\n",
      "|            features|label|\n",
      "+--------------------+-----+\n",
      "|[1.0,1.0,10140.0,...|    0|\n",
      "|[1.0,1.0,10140.0,...|    0|\n",
      "|[1.0,1.0,10140.0,...|    0|\n",
      "|[1.0,1.0,10140.0,...|    0|\n",
      "|[1.0,1.0,10140.0,...|    0|\n",
      "|[1.0,1.0,10140.0,...|    0|\n",
      "|[1.0,1.0,10140.0,...|    1|\n",
      "|[1.0,1.0,10140.0,...|    0|\n",
      "|[1.0,1.0,10140.0,...|    0|\n",
      "|[1.0,1.0,10140.0,...|    0|\n",
      "|[1.0,1.0,10140.0,...|    0|\n",
      "|[1.0,1.0,10140.0,...|    0|\n",
      "|[1.0,1.0,10140.0,...|    0|\n",
      "|[1.0,1.0,10140.0,...|    0|\n",
      "|[1.0,1.0,10140.0,...|    0|\n",
      "|[1.0,1.0,10140.0,...|    1|\n",
      "|[1.0,1.0,10140.0,...|    1|\n",
      "|[1.0,1.0,10140.0,...|    1|\n",
      "|[1.0,1.0,10140.0,...|    0|\n",
      "|[1.0,1.0,10140.0,...|    0|\n",
      "+--------------------+-----+\n",
      "only showing top 20 rows\n",
      "\n"
     ]
    }
   ],
   "source": [
    "assembler = VectorAssembler(inputCols = [\"DayofMonth\", \"DayOfWeek\", \"OriginAirportID\", \"DestAirportID\", \"DepDelay\"], outputCol=\"features\")\n",
    "training = assembler.transform(train).select(col(\"features\"), col(\"Late\").alias(\"label\"))\n",
    "training.show()"
   ]
  },
  {
   "cell_type": "markdown",
   "metadata": {},
   "source": [
    "### Train a Classification Model\n",
    "Next, you need to train a classification model using the training data. To do this, create an instance of the classification algorithm you want to use and use its **fit** method to train a model based on the training DataFrame. In this exercise, you will use a *Logistic Regression* classification algorithm - though you can use the same technique for any of the classification algorithms supported in the spark.ml API."
   ]
  },
  {
   "cell_type": "code",
   "execution_count": 7,
   "metadata": {
    "scrolled": false
   },
   "outputs": [
    {
     "name": "stdout",
     "output_type": "stream",
     "text": [
      "Model trained!\n"
     ]
    }
   ],
   "source": [
    "lr = LogisticRegression(labelCol=\"label\",featuresCol=\"features\",maxIter=10,regParam=0.3)\n",
    "model = lr.fit(training)\n",
    "print(\"Model trained!\")"
   ]
  },
  {
   "cell_type": "markdown",
   "metadata": {},
   "source": [
    "### Prepare the Testing Data\n",
    "Now that you have a trained model, you can test it using the testing data you reserved previously. First, you need to prepare the testing data in the same way as you did the training data by transforming the feature columns into a vector. This time you'll rename the **Late** column to **trueLabel**."
   ]
  },
  {
   "cell_type": "code",
   "execution_count": 8,
   "metadata": {},
   "outputs": [
    {
     "name": "stdout",
     "output_type": "stream",
     "text": [
      "+--------------------+---------+\n",
      "|            features|trueLabel|\n",
      "+--------------------+---------+\n",
      "|[1.0,1.0,10140.0,...|        0|\n",
      "|[1.0,1.0,10140.0,...|        0|\n",
      "|[1.0,1.0,10140.0,...|        0|\n",
      "|[1.0,1.0,10140.0,...|        0|\n",
      "|[1.0,1.0,10140.0,...|        0|\n",
      "|[1.0,1.0,10140.0,...|        0|\n",
      "|[1.0,1.0,10140.0,...|        1|\n",
      "|[1.0,1.0,10140.0,...|        0|\n",
      "|[1.0,1.0,10140.0,...|        0|\n",
      "|[1.0,1.0,10140.0,...|        0|\n",
      "|[1.0,1.0,10140.0,...|        0|\n",
      "|[1.0,1.0,10140.0,...|        0|\n",
      "|[1.0,1.0,10140.0,...|        1|\n",
      "|[1.0,1.0,10140.0,...|        0|\n",
      "|[1.0,1.0,10140.0,...|        0|\n",
      "|[1.0,1.0,10140.0,...|        1|\n",
      "|[1.0,1.0,10140.0,...|        0|\n",
      "|[1.0,1.0,10140.0,...|        0|\n",
      "|[1.0,1.0,10140.0,...|        0|\n",
      "|[1.0,1.0,10140.0,...|        0|\n",
      "+--------------------+---------+\n",
      "only showing top 20 rows\n",
      "\n"
     ]
    }
   ],
   "source": [
    "testing = assembler.transform(test).select(col(\"features\"), col(\"Late\").alias(\"trueLabel\"))\n",
    "testing.show()"
   ]
  },
  {
   "cell_type": "markdown",
   "metadata": {},
   "source": [
    "### Test the Model\n",
    "Now you're ready to use the **transform** method of the model to generate some predictions. You can use this approach to predict delay status for flights where the label is unknown; but in this case you are using the test data which includes a known true label value, so you can compare the predicted status to the actual status. "
   ]
  },
  {
   "cell_type": "code",
   "execution_count": 9,
   "metadata": {
    "scrolled": false
   },
   "outputs": [
    {
     "name": "stdout",
     "output_type": "stream",
     "text": [
      "+--------------------+----------+--------------------+---------+\n",
      "|            features|prediction|         probability|trueLabel|\n",
      "+--------------------+----------+--------------------+---------+\n",
      "|[1.0,1.0,10140.0,...|       0.0|[0.82312331615947...|        0|\n",
      "|[1.0,1.0,10140.0,...|       0.0|[0.82949932371482...|        0|\n",
      "|[1.0,1.0,10140.0,...|       0.0|[0.82751815179332...|        0|\n",
      "|[1.0,1.0,10140.0,...|       0.0|[0.76951865305476...|        0|\n",
      "|[1.0,1.0,10140.0,...|       0.0|[0.82753234636057...|        0|\n",
      "|[1.0,1.0,10140.0,...|       0.0|[0.81102536948583...|        0|\n",
      "|[1.0,1.0,10140.0,...|       0.0|[0.72484970500279...|        1|\n",
      "|[1.0,1.0,10140.0,...|       0.0|[0.84287917259962...|        0|\n",
      "|[1.0,1.0,10140.0,...|       0.0|[0.84287917259962...|        0|\n",
      "|[1.0,1.0,10140.0,...|       0.0|[0.83725941572439...|        0|\n",
      "|[1.0,1.0,10140.0,...|       0.0|[0.82148258804809...|        0|\n",
      "|[1.0,1.0,10140.0,...|       0.0|[0.82187691457612...|        0|\n",
      "|[1.0,1.0,10140.0,...|       0.0|[0.74966982009156...|        1|\n",
      "|[1.0,1.0,10140.0,...|       0.0|[0.84509928700925...|        0|\n",
      "|[1.0,1.0,10140.0,...|       0.0|[0.83382828689069...|        0|\n",
      "|[1.0,1.0,10140.0,...|       1.0|[3.93970950073911...|        1|\n",
      "|[1.0,1.0,10140.0,...|       0.0|[0.83791168206611...|        0|\n",
      "|[1.0,1.0,10140.0,...|       0.0|[0.82622523266744...|        0|\n",
      "|[1.0,1.0,10140.0,...|       0.0|[0.82622523266744...|        0|\n",
      "|[1.0,1.0,10140.0,...|       0.0|[0.84351431812736...|        0|\n",
      "|[1.0,1.0,10140.0,...|       0.0|[0.83791290998965...|        0|\n",
      "|[1.0,1.0,10140.0,...|       0.0|[0.83215089690013...|        0|\n",
      "|[1.0,1.0,10140.0,...|       0.0|[0.82821945887001...|        0|\n",
      "|[1.0,1.0,10140.0,...|       0.0|[0.82434896057355...|        0|\n",
      "|[1.0,1.0,10140.0,...|       0.0|[0.75024230347430...|        1|\n",
      "|[1.0,1.0,10140.0,...|       0.0|[0.82847442480177...|        0|\n",
      "|[1.0,1.0,10140.0,...|       0.0|[0.83253108444933...|        0|\n",
      "|[1.0,1.0,10140.0,...|       0.0|[0.82460976234289...|        0|\n",
      "|[1.0,1.0,10140.0,...|       0.0|[0.82466816104435...|        0|\n",
      "|[1.0,1.0,10140.0,...|       0.0|[0.84215227256107...|        0|\n",
      "|[1.0,1.0,10140.0,...|       0.0|[0.83651155947510...|        0|\n",
      "|[1.0,1.0,10140.0,...|       0.0|[0.82675162997900...|        0|\n",
      "|[1.0,1.0,10140.0,...|       0.0|[0.82272066945362...|        0|\n",
      "|[1.0,1.0,10140.0,...|       0.0|[0.79923279414176...|        0|\n",
      "|[1.0,1.0,10140.0,...|       0.0|[0.83864301045472...|        0|\n",
      "|[1.0,1.0,10140.0,...|       0.0|[0.79726478029999...|        0|\n",
      "|[1.0,1.0,10140.0,...|       0.0|[0.83486170778711...|        0|\n",
      "|[1.0,1.0,10140.0,...|       0.0|[0.77867112327019...|        1|\n",
      "|[1.0,1.0,10140.0,...|       0.0|[0.82703806737179...|        1|\n",
      "|[1.0,1.0,10140.0,...|       0.0|[0.83682537883388...|        0|\n",
      "|[1.0,1.0,10140.0,...|       0.0|[0.82708031103708...|        0|\n",
      "|[1.0,1.0,10140.0,...|       0.0|[0.80403246393700...|        0|\n",
      "|[1.0,1.0,10299.0,...|       0.0|[0.82578124540188...|        0|\n",
      "|[1.0,1.0,10299.0,...|       0.0|[0.83406698058240...|        0|\n",
      "|[1.0,1.0,10299.0,...|       0.0|[0.84415369359691...|        0|\n",
      "|[1.0,1.0,10299.0,...|       0.0|[0.85687018497306...|        0|\n",
      "|[1.0,1.0,10299.0,...|       0.0|[0.85166277816574...|        0|\n",
      "|[1.0,1.0,10299.0,...|       0.0|[0.85166277816574...|        0|\n",
      "|[1.0,1.0,10299.0,...|       0.0|[0.84989253598191...|        0|\n",
      "|[1.0,1.0,10299.0,...|       0.0|[0.84077937780806...|        0|\n",
      "|[1.0,1.0,10299.0,...|       0.0|[0.83890382188023...|        0|\n",
      "|[1.0,1.0,10299.0,...|       0.0|[0.83701045555046...|        0|\n",
      "|[1.0,1.0,10299.0,...|       0.0|[0.83701045555046...|        0|\n",
      "|[1.0,1.0,10299.0,...|       0.0|[0.83701045555046...|        0|\n",
      "|[1.0,1.0,10299.0,...|       0.0|[0.82925755565310...|        0|\n",
      "|[1.0,1.0,10299.0,...|       0.0|[0.82727415942546...|        0|\n",
      "|[1.0,1.0,10299.0,...|       0.0|[0.82527257801465...|        0|\n",
      "|[1.0,1.0,10299.0,...|       0.0|[0.80204145422240...|        1|\n",
      "|[1.0,1.0,10299.0,...|       0.0|[0.83322112046887...|        0|\n",
      "|[1.0,1.0,10299.0,...|       0.0|[0.82732669043912...|        0|\n",
      "|[1.0,1.0,10299.0,...|       0.0|[0.79987708704246...|        1|\n",
      "|[1.0,1.0,10397.0,...|       0.0|[0.82543434134562...|        0|\n",
      "|[1.0,1.0,10397.0,...|       0.0|[0.82150444959137...|        0|\n",
      "|[1.0,1.0,10397.0,...|       0.0|[0.63100956040218...|        1|\n",
      "|[1.0,1.0,10397.0,...|       0.0|[0.82958219557115...|        0|\n",
      "|[1.0,1.0,10397.0,...|       0.0|[0.81949785839573...|        0|\n",
      "|[1.0,1.0,10397.0,...|       0.0|[0.83355729885287...|        0|\n",
      "|[1.0,1.0,10397.0,...|       0.0|[0.83161370765356...|        0|\n",
      "|[1.0,1.0,10397.0,...|       0.0|[0.82965205884382...|        0|\n",
      "|[1.0,1.0,10397.0,...|       0.0|[0.82567435300037...|        0|\n",
      "|[1.0,1.0,10397.0,...|       0.0|[0.82567435300037...|        0|\n",
      "|[1.0,1.0,10397.0,...|       0.0|[0.81957095662953...|        0|\n",
      "|[1.0,1.0,10397.0,...|       0.0|[0.79349383302789...|        0|\n",
      "|[1.0,1.0,10397.0,...|       0.0|[0.68447448909967...|        1|\n",
      "|[1.0,1.0,10397.0,...|       0.0|[0.60820089830758...|        1|\n",
      "|[1.0,1.0,10397.0,...|       0.0|[0.83162552379522...|        0|\n",
      "|[1.0,1.0,10397.0,...|       0.0|[0.82966398444473...|        0|\n",
      "|[1.0,1.0,10397.0,...|       0.0|[0.82568649856233...|        0|\n",
      "|[1.0,1.0,10397.0,...|       0.0|[0.82568649856233...|        0|\n",
      "|[1.0,1.0,10397.0,...|       0.0|[0.82163610224185...|        0|\n",
      "|[1.0,1.0,10397.0,...|       0.0|[0.81331500243505...|        0|\n",
      "|[1.0,1.0,10397.0,...|       0.0|[0.80904362119335...|        0|\n",
      "|[1.0,1.0,10397.0,...|       0.0|[0.80027785339231...|        0|\n",
      "|[1.0,1.0,10397.0,...|       0.0|[0.79803980584496...|        0|\n",
      "|[1.0,1.0,10397.0,...|       0.0|[0.76972515928461...|        0|\n",
      "|[1.0,1.0,10397.0,...|       0.0|[0.63445856786545...|        1|\n",
      "|[1.0,1.0,10397.0,...|       0.0|[0.83552389976077...|        0|\n",
      "|[1.0,1.0,10397.0,...|       0.0|[0.83359868868107...|        0|\n",
      "|[1.0,1.0,10397.0,...|       0.0|[0.82969422138711...|        0|\n",
      "|[1.0,1.0,10397.0,...|       0.0|[0.82370151529330...|        0|\n",
      "|[1.0,1.0,10397.0,...|       0.0|[0.80473160373323...|        0|\n",
      "|[1.0,1.0,10397.0,...|       0.0|[0.80253114926368...|        0|\n",
      "|[1.0,1.0,10397.0,...|       0.0|[0.79581785004991...|        1|\n",
      "|[1.0,1.0,10397.0,...|       0.0|[0.83933238407403...|        0|\n",
      "|[1.0,1.0,10397.0,...|       0.0|[0.83361081141406...|        0|\n",
      "|[1.0,1.0,10397.0,...|       0.0|[0.83166771890287...|        0|\n",
      "|[1.0,1.0,10397.0,...|       0.0|[0.82572987011986...|        0|\n",
      "|[1.0,1.0,10397.0,...|       0.0|[0.81962799286755...|        0|\n",
      "|[1.0,1.0,10397.0,...|       0.0|[0.81755734669977...|        0|\n",
      "|[1.0,1.0,10397.0,...|       0.0|[0.80909017627527...|        0|\n",
      "+--------------------+----------+--------------------+---------+\n",
      "only showing top 100 rows\n",
      "\n"
     ]
    }
   ],
   "source": [
    "prediction = model.transform(testing)\n",
    "predicted = prediction.select(\"features\", \"prediction\", \"probability\", \"trueLabel\")\n",
    "predicted.show(100)"
   ]
  },
  {
   "cell_type": "markdown",
   "metadata": {},
   "source": [
    "Looking at the result, the **prediction** column contains the predicted value for the label, and the **trueLabel** column contains the actual known value from the testing data. It looks like there are a mix of correct and incorrect predictions - later in this course you'll learn how to measure the accuracy of a model."
   ]
  }
 ],
 "metadata": {
  "kernelspec": {
   "display_name": "Python 3",
   "language": "python",
   "name": "python3"
  },
  "language_info": {
   "codemirror_mode": {
    "name": "ipython",
    "version": 3
   },
   "file_extension": ".py",
   "mimetype": "text/x-python",
   "name": "python",
   "nbconvert_exporter": "python",
   "pygments_lexer": "ipython3",
   "version": "3.8.5"
  }
 },
 "nbformat": 4,
 "nbformat_minor": 1
}
