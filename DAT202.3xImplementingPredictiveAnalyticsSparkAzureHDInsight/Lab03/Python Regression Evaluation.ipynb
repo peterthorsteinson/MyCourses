{
 "cells": [
  {
   "cell_type": "code",
   "execution_count": 1,
   "metadata": {},
   "outputs": [],
   "source": [
    "%load_ext sparksql_magic\n",
    "\n",
    "from pyspark.sql import SparkSession\n",
    "spark = SparkSession.builder.master(\"local\").getOrCreate()"
   ]
  },
  {
   "cell_type": "markdown",
   "metadata": {},
   "source": [
    "## Evaluating a Regression Model\n",
    "\n",
    "In this exercise, you will create a pipeline for a linear regression model, and then test and evaluate the model.\n",
    "\n",
    "### Prepare the Data\n",
    "\n",
    "First, import the libraries you will need and prepare the training and test data:"
   ]
  },
  {
   "cell_type": "code",
   "execution_count": 2,
   "metadata": {
    "scrolled": false
   },
   "outputs": [],
   "source": [
    "# Import Spark SQL and Spark ML libraries\n",
    "from pyspark.sql.types import *\n",
    "from pyspark.sql.functions import *\n",
    "\n",
    "from pyspark.ml import Pipeline\n",
    "from pyspark.ml.regression import LinearRegression\n",
    "from pyspark.ml.feature import VectorAssembler\n",
    "\n",
    "# Load the source data\n",
    "csv = spark.read.csv('../data/flights.csv', inferSchema=True, header=True)\n",
    "\n",
    "# Select features and label\n",
    "data = csv.select(\"DayofMonth\", \"DayOfWeek\", \"OriginAirportID\", \"DestAirportID\", \"DepDelay\", col(\"ArrDelay\").alias(\"label\"))\n",
    "\n",
    "# Split the data\n",
    "splits = data.randomSplit([0.7, 0.3])\n",
    "train = splits[0]\n",
    "test = splits[1].withColumnRenamed(\"label\", \"trueLabel\")"
   ]
  },
  {
   "cell_type": "markdown",
   "metadata": {},
   "source": [
    "### Define the Pipeline and Train the Model\n",
    "Now define a pipeline that creates a feature vector and trains a regression model"
   ]
  },
  {
   "cell_type": "code",
   "execution_count": 3,
   "metadata": {
    "scrolled": false
   },
   "outputs": [],
   "source": [
    "# Define the pipeline\n",
    "assembler = VectorAssembler(inputCols = [\"DayofMonth\", \"DayOfWeek\", \"OriginAirportID\", \"DestAirportID\", \"DepDelay\"], outputCol=\"features\")\n",
    "lr = LinearRegression(labelCol=\"label\",featuresCol=\"features\", maxIter=10, regParam=0.3)\n",
    "pipeline = Pipeline(stages=[assembler, lr])\n",
    "\n",
    "# Train the model\n",
    "piplineModel = pipeline.fit(train)"
   ]
  },
  {
   "cell_type": "markdown",
   "metadata": {},
   "source": [
    "### Test the Model\n",
    "Now you're ready to apply the model to the test data."
   ]
  },
  {
   "cell_type": "code",
   "execution_count": 4,
   "metadata": {
    "scrolled": false
   },
   "outputs": [
    {
     "name": "stdout",
     "output_type": "stream",
     "text": [
      "+--------------------+-------------------+---------+\n",
      "|            features|         prediction|trueLabel|\n",
      "+--------------------+-------------------+---------+\n",
      "|[1.0,1.0,10140.0,...|-3.5792773856765576|      -12|\n",
      "|[1.0,1.0,10140.0,...|-3.5792773856765576|       -9|\n",
      "|[1.0,1.0,10140.0,...| -8.762752216152363|      -14|\n",
      "|[1.0,1.0,10140.0,...|-3.7747128464894155|      -12|\n",
      "|[1.0,1.0,10140.0,...|-12.760665579872075|       -9|\n",
      "|[1.0,1.0,10140.0,...|-11.763057705939486|       -6|\n",
      "|[1.0,1.0,10140.0,...|-5.7774104623439495|       -9|\n",
      "|[1.0,1.0,10140.0,...|-5.7774104623439495|       -5|\n",
      "|[1.0,1.0,10140.0,...| -3.782194714478771|       -5|\n",
      "|[1.0,1.0,10140.0,...|-1.7869789666135916|       -1|\n",
      "|[1.0,1.0,10140.0,...|  34.12690449495963|       55|\n",
      "|[1.0,1.0,10140.0,...|-13.759633793439095|      -15|\n",
      "|[1.0,1.0,10140.0,...| -9.769202297708736|      -25|\n",
      "|[1.0,1.0,10140.0,...| -4.781162928045788|       -9|\n",
      "|[1.0,1.0,10140.0,...|-2.7859471801806093|       -3|\n",
      "|[1.0,1.0,10140.0,...| -4.983626810303192|      -10|\n",
      "|[1.0,1.0,10140.0,...| 0.9850161878619921|      -21|\n",
      "|[1.0,1.0,10140.0,...|  831.9923751737091|      812|\n",
      "|[1.0,1.0,10140.0,...| -9.132311150172036|       -3|\n",
      "|[1.0,1.0,10140.0,...| -8.134703276239446|        3|\n",
      "+--------------------+-------------------+---------+\n",
      "only showing top 20 rows\n",
      "\n"
     ]
    }
   ],
   "source": [
    "prediction = piplineModel.transform(test)\n",
    "predicted = prediction.select(\"features\", \"prediction\", \"trueLabel\")\n",
    "predicted.show()"
   ]
  },
  {
   "cell_type": "markdown",
   "metadata": {},
   "source": [
    "### Examine the Predicted and Actual Values\n",
    "You can plot the predicted values against the actual values to see how accurately the model has predicted. In a perfect model, the resulting scatter plot should form a perfect diagonal line with each predicted value being identical to the actual value - in practice, some variance is to be expected.\n",
    "Run the cells below to create a temporary table from the **predicted** DataFrame and then retrieve the predicted and actual label values using SQL. You can then display the results as a scatter plot, specifying **-** as the function to show the unaggregated values."
   ]
  },
  {
   "cell_type": "code",
   "execution_count": 5,
   "metadata": {},
   "outputs": [],
   "source": [
    "predicted.createOrReplaceTempView(\"regressionPredictions\")"
   ]
  },
  {
   "cell_type": "code",
   "execution_count": 6,
   "metadata": {},
   "outputs": [
    {
     "name": "stdout",
     "output_type": "stream",
     "text": [
      "only showing top 20 row(s)\n"
     ]
    },
    {
     "data": {
      "text/html": [
       "<table><tr style=\"border-bottom: 1px solid\"><td style=\"font-weight: bold\">trueLabel</td><td style=\"font-weight: bold\">prediction</td></tr><tr><td>-12</td><td>-3.5792773856765576</td></tr><tr><td>-9</td><td>-3.5792773856765576</td></tr><tr><td>-14</td><td>-8.762752216152363</td></tr><tr><td>-12</td><td>-3.7747128464894155</td></tr><tr><td>-9</td><td>-12.760665579872075</td></tr><tr><td>-6</td><td>-11.763057705939486</td></tr><tr><td>-9</td><td>-5.7774104623439495</td></tr><tr><td>-5</td><td>-5.7774104623439495</td></tr><tr><td>-5</td><td>-3.782194714478771</td></tr><tr><td>-1</td><td>-1.7869789666135916</td></tr><tr><td>55</td><td>34.12690449495963</td></tr><tr><td>-15</td><td>-13.759633793439095</td></tr><tr><td>-25</td><td>-9.769202297708736</td></tr><tr><td>-9</td><td>-4.781162928045788</td></tr><tr><td>-3</td><td>-2.7859471801806093</td></tr><tr><td>-10</td><td>-4.983626810303192</td></tr><tr><td>-21</td><td>0.9850161878619921</td></tr><tr><td>812</td><td>831.9923751737091</td></tr><tr><td>-3</td><td>-9.132311150172036</td></tr><tr><td>3</td><td>-8.134703276239446</td></tr></table>"
      ],
      "text/plain": [
       "<IPython.core.display.HTML object>"
      ]
     },
     "execution_count": 6,
     "metadata": {},
     "output_type": "execute_result"
    }
   ],
   "source": [
    "%%sparksql\n",
    "SELECT trueLabel, prediction FROM regressionPredictions"
   ]
  },
  {
   "cell_type": "markdown",
   "metadata": {},
   "source": [
    "### Retrieve the Root Mean Square Error (RMSE)\n",
    "There are a number of metrics used to measure the variance between predicted and actual values. Of these, the root mean square error (RMSE) is a commonly used value that is measured in the same units as the predicted and actual values - so in this case, the RMSE indicates the average number of minutes between predicted and actual flight delay values. You can use the **RegressionEvaluator** class to retrieve the RMSE.\n"
   ]
  },
  {
   "cell_type": "code",
   "execution_count": 7,
   "metadata": {},
   "outputs": [
    {
     "name": "stdout",
     "output_type": "stream",
     "text": [
      "Root Mean Square Error (RMSE): 13.26915556694366\n"
     ]
    }
   ],
   "source": [
    "from pyspark.ml.evaluation import RegressionEvaluator\n",
    "\n",
    "evaluator = RegressionEvaluator(labelCol=\"trueLabel\", predictionCol=\"prediction\", metricName=\"rmse\")\n",
    "rmse = evaluator.evaluate(prediction)\n",
    "print(\"Root Mean Square Error (RMSE):\", rmse)"
   ]
  }
 ],
 "metadata": {
  "kernelspec": {
   "display_name": "Python 3",
   "language": "python",
   "name": "python3"
  },
  "language_info": {
   "codemirror_mode": {
    "name": "ipython",
    "version": 3
   },
   "file_extension": ".py",
   "mimetype": "text/x-python",
   "name": "python",
   "nbconvert_exporter": "python",
   "pygments_lexer": "ipython3",
   "version": "3.8.5"
  },
  "widgets": {
   "state": {
    "3cc3b0402bc44842aed785220d307db0": {
     "views": [
      {
       "cell_index": 8
      }
     ]
    },
    "76bc6e0b425942c3bf1e45506e6ed087": {
     "views": [
      {
       "cell_index": 8
      }
     ]
    },
    "9a621f8e3bc242bb8ca31f76cc02b5da": {
     "views": [
      {
       "cell_index": 8
      }
     ]
    },
    "d6eefac808724429915e0b32eea703c9": {
     "views": [
      {
       "cell_index": 8
      }
     ]
    }
   },
   "version": "1.2.0"
  }
 },
 "nbformat": 4,
 "nbformat_minor": 1
}
