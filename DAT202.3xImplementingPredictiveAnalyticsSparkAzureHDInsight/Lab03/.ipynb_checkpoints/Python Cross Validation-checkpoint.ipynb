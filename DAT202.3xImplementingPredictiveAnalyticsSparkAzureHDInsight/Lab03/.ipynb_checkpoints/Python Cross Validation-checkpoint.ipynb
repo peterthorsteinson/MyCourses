{
 "cells": [
  {
   "cell_type": "code",
   "execution_count": 1,
   "metadata": {},
   "outputs": [],
   "source": [
    "%load_ext sparksql_magic\n",
    "\n",
    "from pyspark.sql import SparkSession\n",
    "spark = SparkSession.builder.master(\"local\").getOrCreate()"
   ]
  },
  {
   "cell_type": "markdown",
   "metadata": {},
   "source": [
    "## Using Cross Validation\n",
    "\n",
    "In this exercise, you will use cross-validation to optimize parameters for a regression model.\n",
    "\n",
    "### Prepare the Data\n",
    "\n",
    "First, import the libraries you will need and prepare the training and test data:"
   ]
  },
  {
   "cell_type": "code",
   "execution_count": 2,
   "metadata": {
    "scrolled": false
   },
   "outputs": [],
   "source": [
    "# Import Spark SQL and Spark ML libraries\n",
    "from pyspark.sql.types import *\n",
    "from pyspark.sql.functions import *\n",
    "\n",
    "from pyspark.ml import Pipeline\n",
    "from pyspark.ml.regression import LinearRegression\n",
    "from pyspark.ml.feature import VectorAssembler\n",
    "from pyspark.ml.tuning import ParamGridBuilder, CrossValidator\n",
    "from pyspark.ml.evaluation import RegressionEvaluator\n",
    "\n",
    "# Load the source data\n",
    "csv = spark.read.csv('../data/flights.csv', inferSchema=True, header=True)\n",
    "\n",
    "# Select features and label\n",
    "data = csv.select(\"DayofMonth\", \"DayOfWeek\", \"OriginAirportID\", \"DestAirportID\", \"DepDelay\", col(\"ArrDelay\").alias(\"label\"))\n",
    "\n",
    "# Split the data\n",
    "splits = data.randomSplit([0.7, 0.3])\n",
    "train = splits[0]\n",
    "test = splits[1].withColumnRenamed(\"label\", \"trueLabel\")"
   ]
  },
  {
   "cell_type": "markdown",
   "metadata": {},
   "source": [
    "### Define the Pipeline\n",
    "Now define a pipeline that creates a feature vector and trains a regression model"
   ]
  },
  {
   "cell_type": "code",
   "execution_count": 3,
   "metadata": {
    "scrolled": false
   },
   "outputs": [],
   "source": [
    "# Define the pipeline\n",
    "assembler = VectorAssembler(inputCols = [\"DayofMonth\", \"DayOfWeek\", \"OriginAirportID\", \"DestAirportID\", \"DepDelay\"], outputCol=\"features\")\n",
    "lr = LinearRegression(labelCol=\"label\",featuresCol=\"features\")\n",
    "pipeline = Pipeline(stages=[assembler, lr])"
   ]
  },
  {
   "cell_type": "markdown",
   "metadata": {},
   "source": [
    "### Tune Parameters\n",
    "You can tune parameters to find the best model for your data. To do this you can use the  **CrossValidator** class to evaluate each combination of parameters defined in a **ParameterGrid** against multiple *folds* of the data split into training and validation datasets, in order to find the best performing parameters. Note that this can take a long time to run because every parameter combination is tried multiple times."
   ]
  },
  {
   "cell_type": "code",
   "execution_count": 4,
   "metadata": {},
   "outputs": [],
   "source": [
    "paramGrid = ParamGridBuilder().addGrid(lr.regParam, [0.3, 0.01]).addGrid(lr.maxIter, [10, 5]).build()\n",
    "cv = CrossValidator(estimator=pipeline, evaluator=RegressionEvaluator(), estimatorParamMaps=paramGrid, numFolds=2)\n",
    "\n",
    "model = cv.fit(train)"
   ]
  },
  {
   "cell_type": "markdown",
   "metadata": {},
   "source": [
    "### Test the Model\n",
    "Now you're ready to apply the model to the test data."
   ]
  },
  {
   "cell_type": "code",
   "execution_count": 5,
   "metadata": {
    "scrolled": false
   },
   "outputs": [
    {
     "name": "stdout",
     "output_type": "stream",
     "text": [
      "+--------------------+-------------------+---------+\n",
      "|            features|         prediction|trueLabel|\n",
      "+--------------------+-------------------+---------+\n",
      "|[1.0,1.0,10140.0,...|  -7.65656311044557|      -11|\n",
      "|[1.0,1.0,10140.0,...|  73.61337793692614|       94|\n",
      "|[1.0,1.0,10140.0,...| -8.861231690880985|      -23|\n",
      "|[1.0,1.0,10140.0,...|-12.887084347326855|       -9|\n",
      "|[1.0,1.0,10140.0,...| -5.855249358479473|       -9|\n",
      "|[1.0,1.0,10140.0,...|-3.8461536473802216|       -5|\n",
      "|[1.0,1.0,10140.0,...|0.17203777481828197|        6|\n",
      "|[1.0,1.0,10140.0,...| 34.326664863505556|       55|\n",
      "|[1.0,1.0,10140.0,...|-13.893025154557822|      -13|\n",
      "|[1.0,1.0,10140.0,...|-10.879381587908941|      -10|\n",
      "|[1.0,1.0,10140.0,...| -4.852094454611187|       -9|\n",
      "|[1.0,1.0,10140.0,...|-3.8475465990615616|      -11|\n",
      "|[1.0,1.0,10140.0,...| -7.068507807616481|      -18|\n",
      "|[1.0,1.0,10140.0,...| -2.062716108657983|       -5|\n",
      "|[1.0,1.0,10140.0,...|  5.973666735739026|        7|\n",
      "|[1.0,1.0,10140.0,...| -9.095015414732478|       -8|\n",
      "|[1.0,1.0,10140.0,...|  0.950463140763782|      -21|\n",
      "|[1.0,1.0,10140.0,...|  0.950463140763782|      -16|\n",
      "|[1.0,1.0,10140.0,...| 23.050515962855552|       21|\n",
      "|[1.0,1.0,10140.0,...|  837.7388268136021|      812|\n",
      "+--------------------+-------------------+---------+\n",
      "only showing top 20 rows\n",
      "\n"
     ]
    }
   ],
   "source": [
    "prediction = model.transform(test)\n",
    "predicted = prediction.select(\"features\", \"prediction\", \"trueLabel\")\n",
    "predicted.show()"
   ]
  },
  {
   "cell_type": "markdown",
   "metadata": {},
   "source": [
    "### Examine the Predicted and Actual Values\n",
    "You can plot the predicted values against the actual values to see how accurately the model has predicted. In a perfect model, the resulting scatter plot should form a perfect diagonal line with each predicted value being identical to the actual value - in practice, some variance is to be expected.\n",
    "Run the cells below to create a temporary table from the **predicted** DataFrame and then retrieve the predicted and actual label values using SQL. You can then display the results as a scatter plot, specifying **-** as the function to show the unaggregated values."
   ]
  },
  {
   "cell_type": "code",
   "execution_count": 6,
   "metadata": {},
   "outputs": [],
   "source": [
    "predicted.createOrReplaceTempView(\"regressionPredictions\")"
   ]
  },
  {
   "cell_type": "code",
   "execution_count": 7,
   "metadata": {},
   "outputs": [
    {
     "name": "stdout",
     "output_type": "stream",
     "text": [
      "only showing top 20 row(s)\n"
     ]
    },
    {
     "data": {
      "text/html": [
       "<table><tr style=\"border-bottom: 1px solid\"><td style=\"font-weight: bold\">trueLabel</td><td style=\"font-weight: bold\">prediction</td></tr><tr><td>-11</td><td>-7.65656311044557</td></tr><tr><td>94</td><td>73.61337793692614</td></tr><tr><td>-23</td><td>-8.861231690880985</td></tr><tr><td>-9</td><td>-12.887084347326855</td></tr><tr><td>-9</td><td>-5.855249358479473</td></tr><tr><td>-5</td><td>-3.8461536473802216</td></tr><tr><td>6</td><td>0.17203777481828197</td></tr><tr><td>55</td><td>34.326664863505556</td></tr><tr><td>-13</td><td>-13.893025154557822</td></tr><tr><td>-10</td><td>-10.879381587908941</td></tr><tr><td>-9</td><td>-4.852094454611187</td></tr><tr><td>-11</td><td>-3.8475465990615616</td></tr><tr><td>-18</td><td>-7.068507807616481</td></tr><tr><td>-5</td><td>-2.062716108657983</td></tr><tr><td>7</td><td>5.973666735739026</td></tr><tr><td>-8</td><td>-9.095015414732478</td></tr><tr><td>-21</td><td>0.950463140763782</td></tr><tr><td>-16</td><td>0.950463140763782</td></tr><tr><td>21</td><td>23.050515962855552</td></tr><tr><td>812</td><td>837.7388268136021</td></tr></table>"
      ],
      "text/plain": [
       "<IPython.core.display.HTML object>"
      ]
     },
     "execution_count": 7,
     "metadata": {},
     "output_type": "execute_result"
    }
   ],
   "source": [
    "%%sparksql\n",
    "SELECT trueLabel, prediction FROM regressionPredictions"
   ]
  },
  {
   "cell_type": "markdown",
   "metadata": {},
   "source": [
    "### Retrieve the Root Mean Square Error (RMSE)\n",
    "There are a number of metrics used to measure the variance between predicted and actual values. Of these, the root mean square error (RMSE) is a commonly used value that is measured in the same units as the prediced and actual values - so in this case, the RMSE indicates the average number of minutes between predicted and actual flight delay values. You can use the **RegressionEvaluator** class to retrieve the RMSE.\n"
   ]
  },
  {
   "cell_type": "code",
   "execution_count": 8,
   "metadata": {},
   "outputs": [
    {
     "name": "stdout",
     "output_type": "stream",
     "text": [
      "Root Mean Square Error (RMSE): 13.190925234454879\n"
     ]
    }
   ],
   "source": [
    "evaluator = RegressionEvaluator(labelCol=\"trueLabel\", predictionCol=\"prediction\", metricName=\"rmse\")\n",
    "rmse = evaluator.evaluate(prediction)\n",
    "print(\"Root Mean Square Error (RMSE):\", rmse)"
   ]
  }
 ],
 "metadata": {
  "kernelspec": {
   "display_name": "Python 3",
   "language": "python",
   "name": "python3"
  },
  "language_info": {
   "codemirror_mode": {
    "name": "ipython",
    "version": 3
   },
   "file_extension": ".py",
   "mimetype": "text/x-python",
   "name": "python",
   "nbconvert_exporter": "python",
   "pygments_lexer": "ipython3",
   "version": "3.8.5"
  }
 },
 "nbformat": 4,
 "nbformat_minor": 1
}
