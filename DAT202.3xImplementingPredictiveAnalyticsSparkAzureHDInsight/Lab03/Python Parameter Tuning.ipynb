{
 "cells": [
  {
   "cell_type": "code",
   "execution_count": 1,
   "metadata": {},
   "outputs": [],
   "source": [
    "from pyspark.sql import SparkSession\n",
    "spark = SparkSession.builder.master(\"local\").getOrCreate()"
   ]
  },
  {
   "cell_type": "markdown",
   "metadata": {},
   "source": [
    "## Tuning Model Parameters\n",
    "\n",
    "In this exercise, you will optimise the parameters for a classification model.\n",
    "\n",
    "### Prepare the Data\n",
    "\n",
    "First, import the libraries you will need and prepare the training and test data:"
   ]
  },
  {
   "cell_type": "code",
   "execution_count": 2,
   "metadata": {
    "scrolled": false
   },
   "outputs": [],
   "source": [
    "# Import Spark SQL and Spark ML libraries\n",
    "from pyspark.sql.types import *\n",
    "from pyspark.sql.functions import *\n",
    "\n",
    "from pyspark.ml import Pipeline\n",
    "from pyspark.ml.classification import LogisticRegression\n",
    "from pyspark.ml.feature import VectorAssembler\n",
    "from pyspark.ml.tuning import ParamGridBuilder, TrainValidationSplit\n",
    "from pyspark.ml.evaluation import BinaryClassificationEvaluator\n",
    "\n",
    "# Load the source data\n",
    "csv = spark.read.csv('../data/flights.csv', inferSchema=True, header=True)\n",
    "\n",
    "# Select features and label\n",
    "data = csv.select(\"DayofMonth\", \"DayOfWeek\", \"OriginAirportID\", \"DestAirportID\", \"DepDelay\", ((col(\"ArrDelay\") > 15).cast(\"Int\").alias(\"label\")))\n",
    "\n",
    "# Split the data\n",
    "splits = data.randomSplit([0.7, 0.3])\n",
    "train = splits[0]\n",
    "test = splits[1].withColumnRenamed(\"label\", \"trueLabel\")"
   ]
  },
  {
   "cell_type": "markdown",
   "metadata": {},
   "source": [
    "### Define the Pipeline\n",
    "Now define a pipeline that creates a feature vector and trains a classification model"
   ]
  },
  {
   "cell_type": "code",
   "execution_count": 3,
   "metadata": {
    "scrolled": false
   },
   "outputs": [],
   "source": [
    "# Define the pipeline\n",
    "assembler = VectorAssembler(inputCols = [\"DayofMonth\", \"DayOfWeek\", \"OriginAirportID\", \"DestAirportID\", \"DepDelay\"], outputCol=\"features\")\n",
    "lr = LogisticRegression(labelCol=\"label\", featuresCol=\"features\")\n",
    "pipeline = Pipeline(stages=[assembler, lr])"
   ]
  },
  {
   "cell_type": "markdown",
   "metadata": {},
   "source": [
    "### Tune Parameters\n",
    "You can tune parameters to find the best model for your data. A simple way to do this is to use  **TrainValidationSplit** to evaluate each combination of parameters defined in a **ParameterGrid** against a subset of the training data in order to find the best performing parameters."
   ]
  },
  {
   "cell_type": "code",
   "execution_count": 4,
   "metadata": {},
   "outputs": [],
   "source": [
    "paramGrid = ParamGridBuilder().addGrid(lr.regParam, [0.3, 0.1, 0.01]).addGrid(lr.maxIter, [10, 5]).addGrid(lr.threshold, [0.35, 0.30]).build()\n",
    "tvs = TrainValidationSplit(estimator=pipeline, evaluator=BinaryClassificationEvaluator(), estimatorParamMaps=paramGrid, trainRatio=0.8)\n",
    "\n",
    "model = tvs.fit(train)"
   ]
  },
  {
   "cell_type": "markdown",
   "metadata": {},
   "source": [
    "### Test the Model\n",
    "Now you're ready to apply the model to the test data."
   ]
  },
  {
   "cell_type": "code",
   "execution_count": 5,
   "metadata": {
    "scrolled": false
   },
   "outputs": [
    {
     "name": "stdout",
     "output_type": "stream",
     "text": [
      "+--------------------+----------+--------------------+---------+\n",
      "|            features|prediction|         probability|trueLabel|\n",
      "+--------------------+----------+--------------------+---------+\n",
      "|[1.0,1.0,10140.0,...|       0.0|[0.90567498632464...|        0|\n",
      "|[1.0,1.0,10140.0,...|       0.0|[0.90567498632464...|        0|\n",
      "|[1.0,1.0,10140.0,...|       0.0|[0.89180967850847...|        0|\n",
      "|[1.0,1.0,10140.0,...|       0.0|[0.92567094927766...|        0|\n",
      "|[1.0,1.0,10140.0,...|       0.0|[0.90830872197296...|        0|\n",
      "|[1.0,1.0,10140.0,...|       0.0|[0.89478558452083...|        0|\n",
      "|[1.0,1.0,10140.0,...|       0.0|[0.94418918021352...|        0|\n",
      "|[1.0,1.0,10140.0,...|       0.0|[0.92033633768658...|        0|\n",
      "|[1.0,1.0,10140.0,...|       0.0|[0.89489806317657...|        0|\n",
      "|[1.0,1.0,10140.0,...|       0.0|[0.84344130401942...|        0|\n",
      "|[1.0,1.0,10140.0,...|       0.0|[0.94808629748272...|        0|\n",
      "|[1.0,1.0,10140.0,...|       0.0|[0.93084331442646...|        0|\n",
      "|[1.0,1.0,10140.0,...|       0.0|[0.92814195052268...|        0|\n",
      "|[1.0,1.0,10140.0,...|       0.0|[0.85761562342696...|        0|\n",
      "|[1.0,1.0,10140.0,...|       1.0|[0.52929636293660...|        1|\n",
      "|[1.0,1.0,10140.0,...|       1.0|[0.23513259424574...|        1|\n",
      "|[1.0,1.0,10140.0,...|       0.0|[0.92447563902744...|        0|\n",
      "|[1.0,1.0,10140.0,...|       0.0|[0.90021582235515...|        0|\n",
      "|[1.0,1.0,10140.0,...|       0.0|[0.95085562715917...|        0|\n",
      "|[1.0,1.0,10140.0,...|       0.0|[0.93898845031058...|        0|\n",
      "|[1.0,1.0,10140.0,...|       0.0|[0.91898187219194...|        0|\n",
      "|[1.0,1.0,10140.0,...|       0.0|[0.91311741251885...|        0|\n",
      "|[1.0,1.0,10140.0,...|       1.0|[0.55386049516019...|        1|\n",
      "|[1.0,1.0,10140.0,...|       1.0|[0.34912858701540...|        1|\n",
      "|[1.0,1.0,10140.0,...|       0.0|[0.89423491560908...|        0|\n",
      "|[1.0,1.0,10140.0,...|       0.0|[0.90132629969191...|        0|\n",
      "|[1.0,1.0,10140.0,...|       0.0|[0.87902070099718...|        0|\n",
      "|[1.0,1.0,10140.0,...|       0.0|[0.91481205064029...|        0|\n",
      "|[1.0,1.0,10140.0,...|       0.0|[0.90960031241148...|        0|\n",
      "|[1.0,1.0,10140.0,...|       0.0|[0.90312835598932...|        0|\n",
      "|[1.0,1.0,10140.0,...|       0.0|[0.91037467300684...|        0|\n",
      "|[1.0,1.0,10140.0,...|       0.0|[0.88986456103690...|        0|\n",
      "|[1.0,1.0,10140.0,...|       0.0|[0.94552692361707...|        0|\n",
      "|[1.0,1.0,10140.0,...|       0.0|[0.93711288944116...|        0|\n",
      "|[1.0,1.0,10140.0,...|       0.0|[0.91654594871552...|        0|\n",
      "|[1.0,1.0,10140.0,...|       0.0|[0.91052233374818...|        0|\n",
      "|[1.0,1.0,10140.0,...|       0.0|[0.89728875425390...|        0|\n",
      "|[1.0,1.0,10140.0,...|       0.0|[0.83664166350466...|        0|\n",
      "|[1.0,1.0,10140.0,...|       0.0|[0.89205329042017...|        0|\n",
      "|[1.0,1.0,10140.0,...|       0.0|[0.91830207491834...|        0|\n",
      "|[1.0,1.0,10140.0,...|       0.0|[0.88473604945250...|        0|\n",
      "|[1.0,1.0,10140.0,...|       0.0|[0.93396333117521...|        0|\n",
      "|[1.0,1.0,10140.0,...|       0.0|[0.93871997838449...|        0|\n",
      "|[1.0,1.0,10140.0,...|       0.0|[0.89446042047209...|        0|\n",
      "|[1.0,1.0,10299.0,...|       0.0|[0.92846558234046...|        0|\n",
      "|[1.0,1.0,10299.0,...|       0.0|[0.91934317375270...|        0|\n",
      "|[1.0,1.0,10299.0,...|       0.0|[0.94048427550843...|        0|\n",
      "|[1.0,1.0,10299.0,...|       1.0|[0.05289724311320...|        1|\n",
      "|[1.0,1.0,10299.0,...|       1.0|[0.45041894756558...|        0|\n",
      "|[1.0,1.0,10299.0,...|       0.0|[0.84743182968340...|        0|\n",
      "|[1.0,1.0,10299.0,...|       0.0|[0.97257947117238...|        0|\n",
      "|[1.0,1.0,10299.0,...|       0.0|[0.95411532683173...|        0|\n",
      "|[1.0,1.0,10299.0,...|       0.0|[0.94695345191764...|        0|\n",
      "|[1.0,1.0,10299.0,...|       0.0|[0.93874548782026...|        0|\n",
      "|[1.0,1.0,10299.0,...|       0.0|[0.93420919168550...|        0|\n",
      "|[1.0,1.0,10299.0,...|       0.0|[0.91866613973859...|        0|\n",
      "|[1.0,1.0,10299.0,...|       0.0|[0.91278099496627...|        0|\n",
      "|[1.0,1.0,10299.0,...|       0.0|[0.89275668290349...|        1|\n",
      "|[1.0,1.0,10299.0,...|       0.0|[0.80731141388033...|        1|\n",
      "|[1.0,1.0,10397.0,...|       0.0|[0.91187698905044...|        0|\n",
      "|[1.0,1.0,10397.0,...|       0.0|[0.89166976143880...|        0|\n",
      "|[1.0,1.0,10397.0,...|       0.0|[0.73883045415934...|        1|\n",
      "|[1.0,1.0,10397.0,...|       0.0|[0.70833792241628...|        0|\n",
      "|[1.0,1.0,10397.0,...|       1.0|[0.38223447698410...|        1|\n",
      "|[1.0,1.0,10397.0,...|       0.0|[0.91269723743810...|        1|\n",
      "|[1.0,1.0,10397.0,...|       0.0|[0.89265595719424...|        0|\n",
      "|[1.0,1.0,10397.0,...|       0.0|[0.89265595719424...|        0|\n",
      "|[1.0,1.0,10397.0,...|       0.0|[0.88512411353495...|        0|\n",
      "|[1.0,1.0,10397.0,...|       0.0|[0.87713653296090...|        0|\n",
      "|[1.0,1.0,10397.0,...|       0.0|[0.82979227404333...|        1|\n",
      "|[1.0,1.0,10397.0,...|       0.0|[0.92438226536802...|        0|\n",
      "|[1.0,1.0,10397.0,...|       0.0|[0.91887420238253...|        0|\n",
      "|[1.0,1.0,10397.0,...|       0.0|[0.91887420238253...|        0|\n",
      "|[1.0,1.0,10397.0,...|       0.0|[0.91887420238253...|        0|\n",
      "|[1.0,1.0,10397.0,...|       0.0|[0.91300268688012...|        0|\n",
      "|[1.0,1.0,10397.0,...|       0.0|[0.90009569661312...|        0|\n",
      "|[1.0,1.0,10397.0,...|       1.0|[0.29876684613084...|        1|\n",
      "|[1.0,1.0,10397.0,...|       0.0|[0.91347336410380...|        0|\n",
      "|[1.0,1.0,10397.0,...|       0.0|[0.90062860356618...|        0|\n",
      "|[1.0,1.0,10397.0,...|       0.0|[0.90062860356618...|        0|\n",
      "|[1.0,1.0,10397.0,...|       0.0|[0.92999913256950...|        0|\n",
      "|[1.0,1.0,10397.0,...|       0.0|[0.91939111617889...|        0|\n",
      "|[1.0,1.0,10397.0,...|       0.0|[0.91355349288096...|        0|\n",
      "|[1.0,1.0,10397.0,...|       0.0|[0.91355349288096...|        0|\n",
      "|[1.0,1.0,10397.0,...|       0.0|[0.91355349288096...|        0|\n",
      "|[1.0,1.0,10397.0,...|       0.0|[0.90071933454410...|        0|\n",
      "|[1.0,1.0,10397.0,...|       0.0|[0.78411389047900...|        0|\n",
      "|[1.0,1.0,10397.0,...|       0.0|[0.77092058797096...|        0|\n",
      "|[1.0,1.0,10397.0,...|       1.0|[0.61079384495394...|        0|\n",
      "|[1.0,1.0,10397.0,...|       1.0|[0.51729738776517...|        0|\n",
      "|[1.0,1.0,10397.0,...|       0.0|[0.93016636903277...|        0|\n",
      "|[1.0,1.0,10397.0,...|       0.0|[0.92504546216998...|        0|\n",
      "|[1.0,1.0,10397.0,...|       0.0|[0.91958150439072...|        0|\n",
      "|[1.0,1.0,10397.0,...|       0.0|[0.89392997531961...|        0|\n",
      "|[1.0,1.0,10397.0,...|       0.0|[0.66420320986599...|        0|\n",
      "|[1.0,1.0,10397.0,...|       0.0|[0.92511826227420...|        0|\n",
      "|[1.0,1.0,10397.0,...|       0.0|[0.91965915049254...|        0|\n",
      "|[1.0,1.0,10397.0,...|       0.0|[0.91965915049254...|        0|\n",
      "|[1.0,1.0,10397.0,...|       0.0|[0.91965915049254...|        0|\n",
      "|[1.0,1.0,10397.0,...|       0.0|[0.91383911891332...|        0|\n",
      "+--------------------+----------+--------------------+---------+\n",
      "only showing top 100 rows\n",
      "\n"
     ]
    }
   ],
   "source": [
    "prediction = model.transform(test)\n",
    "predicted = prediction.select(\"features\", \"prediction\", \"probability\", \"trueLabel\")\n",
    "predicted.show(100)"
   ]
  },
  {
   "cell_type": "markdown",
   "metadata": {},
   "source": [
    "### Compute Confusion Matrix Metrics\n",
    "Classifiers are typically evaluated by creating a *confusion matrix*, which indicates the number of:\n",
    "- True Positives\n",
    "- True Negatives\n",
    "- False Positives\n",
    "- False Negatives\n",
    "\n",
    "From these core measures, other evaluation metrics such as *precision* and *recall* can be calculated."
   ]
  },
  {
   "cell_type": "code",
   "execution_count": 6,
   "metadata": {},
   "outputs": [
    {
     "name": "stdout",
     "output_type": "stream",
     "text": [
      "+---------+------------------+\n",
      "|   metric|             value|\n",
      "+---------+------------------+\n",
      "|       TP|          113306.0|\n",
      "|       FP|           11280.0|\n",
      "|       TN|          637628.0|\n",
      "|       FN|           48396.0|\n",
      "|Precision|0.9094601319570417|\n",
      "|   Recall|0.7007087110858246|\n",
      "+---------+------------------+\n",
      "\n"
     ]
    }
   ],
   "source": [
    "tp = float(predicted.filter(\"prediction == 1.0 AND truelabel == 1\").count())\n",
    "fp = float(predicted.filter(\"prediction == 1.0 AND truelabel == 0\").count())\n",
    "tn = float(predicted.filter(\"prediction == 0.0 AND truelabel == 0\").count())\n",
    "fn = float(predicted.filter(\"prediction == 0.0 AND truelabel == 1\").count())\n",
    "metrics = spark.createDataFrame([\n",
    " (\"TP\", tp),\n",
    " (\"FP\", fp),\n",
    " (\"TN\", tn),\n",
    " (\"FN\", fn),\n",
    " (\"Precision\", tp / (tp + fp)),\n",
    " (\"Recall\", tp / (tp + fn))],[\"metric\", \"value\"])\n",
    "metrics.show()"
   ]
  },
  {
   "cell_type": "markdown",
   "metadata": {},
   "source": [
    "### Review the Area Under ROC\n",
    "Another way to assess the performance of a classification model is to measure the area under a ROC curve for the model. the spark.ml library includes a **BinaryClassificationEvaluator** class that you can use to compute this."
   ]
  },
  {
   "cell_type": "code",
   "execution_count": 7,
   "metadata": {},
   "outputs": [
    {
     "name": "stdout",
     "output_type": "stream",
     "text": [
      "AUR =  0.8416628307042603\n"
     ]
    }
   ],
   "source": [
    "evaluator = BinaryClassificationEvaluator(labelCol=\"trueLabel\", rawPredictionCol=\"prediction\", metricName=\"areaUnderROC\")\n",
    "aur = evaluator.evaluate(prediction)\n",
    "print(\"AUR = \", aur)"
   ]
  }
 ],
 "metadata": {
  "kernelspec": {
   "display_name": "Python 3",
   "language": "python",
   "name": "python3"
  },
  "language_info": {
   "codemirror_mode": {
    "name": "ipython",
    "version": 3
   },
   "file_extension": ".py",
   "mimetype": "text/x-python",
   "name": "python",
   "nbconvert_exporter": "python",
   "pygments_lexer": "ipython3",
   "version": "3.8.5"
  }
 },
 "nbformat": 4,
 "nbformat_minor": 1
}
