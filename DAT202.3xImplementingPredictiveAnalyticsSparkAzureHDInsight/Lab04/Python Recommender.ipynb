{
 "cells": [
  {
   "cell_type": "code",
   "execution_count": 1,
   "metadata": {},
   "outputs": [],
   "source": [
    "from pyspark.sql import SparkSession\n",
    "spark = SparkSession.builder.master(\"local\").getOrCreate()"
   ]
  },
  {
   "cell_type": "markdown",
   "metadata": {},
   "source": [
    "## Collaborative Filtering\n",
    "Collaborative filtering is a machine learning technique that predicts ratings awarded to items by users.\n",
    "\n",
    "### Import the ALS class\n",
    "In this exercise, you will use the Alternating Least Squares collaborative filtering algorithm to creater a recommender."
   ]
  },
  {
   "cell_type": "code",
   "execution_count": 2,
   "metadata": {
    "scrolled": false
   },
   "outputs": [],
   "source": [
    "from pyspark.ml.recommendation import ALS"
   ]
  },
  {
   "cell_type": "markdown",
   "metadata": {},
   "source": [
    "### Load Source Data\n",
    "The source data for the recommender is in two files - one containing numeric IDs for movies and users, along with user ratings; and the other containing details of the movies."
   ]
  },
  {
   "cell_type": "code",
   "execution_count": 3,
   "metadata": {
    "scrolled": false
   },
   "outputs": [
    {
     "name": "stdout",
     "output_type": "stream",
     "text": [
      "+-------+------+------+----------+--------------------+--------------------+\n",
      "|movieId|userId|rating| timestamp|               title|              genres|\n",
      "+-------+------+------+----------+--------------------+--------------------+\n",
      "|     31|     1|   2.5|1260759144|Dangerous Minds (...|               Drama|\n",
      "|   1029|     1|   3.0|1260759179|        Dumbo (1941)|Animation|Childre...|\n",
      "|   1061|     1|   3.0|1260759182|     Sleepers (1996)|            Thriller|\n",
      "|   1129|     1|   2.0|1260759185|Escape from New Y...|Action|Adventure|...|\n",
      "|   1172|     1|   4.0|1260759205|Cinema Paradiso (...|               Drama|\n",
      "|   1263|     1|   2.0|1260759151|Deer Hunter, The ...|           Drama|War|\n",
      "|   1287|     1|   2.0|1260759187|      Ben-Hur (1959)|Action|Adventure|...|\n",
      "|   1293|     1|   2.0|1260759148|       Gandhi (1982)|               Drama|\n",
      "|   1339|     1|   3.5|1260759125|Dracula (Bram Sto...|Fantasy|Horror|Ro...|\n",
      "|   1343|     1|   2.0|1260759131|    Cape Fear (1991)|            Thriller|\n",
      "|   1371|     1|   2.5|1260759135|Star Trek: The Mo...|    Adventure|Sci-Fi|\n",
      "|   1405|     1|   1.0|1260759203|Beavis and Butt-H...|Adventure|Animati...|\n",
      "|   1953|     1|   4.0|1260759191|French Connection...|Action|Crime|Thri...|\n",
      "|   2105|     1|   4.0|1260759139|         Tron (1982)|Action|Adventure|...|\n",
      "|   2150|     1|   3.0|1260759194|Gods Must Be Craz...|    Adventure|Comedy|\n",
      "|   2193|     1|   2.0|1260759198|       Willow (1988)|Action|Adventure|...|\n",
      "|   2294|     1|   2.0|1260759108|         Antz (1998)|Adventure|Animati...|\n",
      "|   2455|     1|   2.5|1260759113|     Fly, The (1986)|Drama|Horror|Sci-...|\n",
      "|   2968|     1|   1.0|1260759200| Time Bandits (1981)|Adventure|Comedy|...|\n",
      "|   3671|     1|   3.0|1260759117|Blazing Saddles (...|      Comedy|Western|\n",
      "+-------+------+------+----------+--------------------+--------------------+\n",
      "only showing top 20 rows\n",
      "\n"
     ]
    }
   ],
   "source": [
    "ratings = spark.read.csv('../data/ratings.csv', inferSchema=True, header=True)\n",
    "movies = spark.read.csv('../data/movies.csv', inferSchema=True, header=True)\n",
    "ratings.join(movies, \"movieId\").show()"
   ]
  },
  {
   "cell_type": "markdown",
   "metadata": {},
   "source": [
    "### Prepare the Data\n",
    "To prepare the data, split it into a training set and a test set."
   ]
  },
  {
   "cell_type": "code",
   "execution_count": 4,
   "metadata": {},
   "outputs": [
    {
     "name": "stdout",
     "output_type": "stream",
     "text": [
      "Training Rows: 69722  Testing Rows: 30282\n"
     ]
    }
   ],
   "source": [
    "data = ratings.select(\"userId\", \"movieId\", \"rating\")\n",
    "splits = data.randomSplit([0.7, 0.3])\n",
    "train = splits[0].withColumnRenamed(\"rating\", \"label\")\n",
    "test = splits[1].withColumnRenamed(\"rating\", \"trueLabel\")\n",
    "train_rows = train.count()\n",
    "test_rows = test.count()\n",
    "print(\"Training Rows:\", train_rows, \" Testing Rows:\", test_rows)"
   ]
  },
  {
   "cell_type": "markdown",
   "metadata": {},
   "source": [
    "### Build the Recommender\n",
    "The ALS class is an estimator, so you can use its **fit** method to traing a model, or you can include it in a pipeline. Rather than specifying a feature vector and as label, the ALS algorithm requries a numeric user ID, item ID, and rating."
   ]
  },
  {
   "cell_type": "code",
   "execution_count": 5,
   "metadata": {
    "scrolled": false
   },
   "outputs": [],
   "source": [
    "als = ALS(maxIter=5, regParam=0.01, userCol=\"userId\", itemCol=\"movieId\", ratingCol=\"label\")\n",
    "model = als.fit(train)"
   ]
  },
  {
   "cell_type": "markdown",
   "metadata": {},
   "source": [
    "### Test the Recommender\n",
    "Now that you've trained the recommender, you can see how accurately it predicts known ratings in the test set."
   ]
  },
  {
   "cell_type": "code",
   "execution_count": 6,
   "metadata": {
    "scrolled": false
   },
   "outputs": [
    {
     "name": "stdout",
     "output_type": "stream",
     "text": [
      "+------+--------------------------------+----------+---------+\n",
      "|userId|title                           |prediction|trueLabel|\n",
      "+------+--------------------------------+----------+---------+\n",
      "|232   |Guilty as Sin (1993)            |2.815981  |4.0      |\n",
      "|380   |Guilty as Sin (1993)            |1.6607947 |3.0      |\n",
      "|30    |Guilty as Sin (1993)            |2.4048593 |4.0      |\n",
      "|588   |Hudsucker Proxy, The (1994)     |3.4587421 |3.0      |\n",
      "|274   |Hudsucker Proxy, The (1994)     |3.9263043 |5.0      |\n",
      "|292   |Hudsucker Proxy, The (1994)     |4.1340666 |3.5      |\n",
      "|624   |Hudsucker Proxy, The (1994)     |3.8228023 |4.0      |\n",
      "|195   |Hudsucker Proxy, The (1994)     |2.7618933 |3.0      |\n",
      "|30    |Hudsucker Proxy, The (1994)     |4.8375697 |4.0      |\n",
      "|521   |Hudsucker Proxy, The (1994)     |3.4877195 |3.5      |\n",
      "|547   |What Happened Was... (1994)     |0.78678083|3.0      |\n",
      "|509   |What Happened Was... (1994)     |0.8098248 |3.0      |\n",
      "|463   |Dirty Dancing (1987)            |3.471386  |3.0      |\n",
      "|580   |Dirty Dancing (1987)            |3.1098518 |3.0      |\n",
      "|128   |Dirty Dancing (1987)            |2.4920514 |5.0      |\n",
      "|306   |Dirty Dancing (1987)            |4.3678765 |4.0      |\n",
      "|15    |Dirty Dancing (1987)            |2.6663182 |2.0      |\n",
      "|531   |Dirty Dancing (1987)            |1.8531303 |5.0      |\n",
      "|505   |Dirty Dancing (1987)            |3.0126774 |4.0      |\n",
      "|97    |Dirty Dancing (1987)            |2.4941316 |2.0      |\n",
      "|264   |Dirty Dancing (1987)            |3.0970445 |4.0      |\n",
      "|509   |Dirty Dancing (1987)            |3.2149584 |2.0      |\n",
      "|518   |Dirty Dancing (1987)            |3.3433902 |4.0      |\n",
      "|160   |Dirty Dancing (1987)            |2.690917  |4.0      |\n",
      "|95    |Dirty Dancing (1987)            |3.457342  |5.0      |\n",
      "|21    |Dirty Dancing (1987)            |2.8229287 |2.0      |\n",
      "|213   |Dirty Dancing (1987)            |0.94535077|3.0      |\n",
      "|344   |Dirty Dancing (1987)            |3.2297325 |3.0      |\n",
      "|294   |Dirty Dancing (1987)            |2.7783482 |3.5      |\n",
      "|30    |Dirty Dancing (1987)            |3.7230022 |4.0      |\n",
      "|313   |Dirty Dancing (1987)            |3.3250747 |4.0      |\n",
      "|605   |Dirty Dancing (1987)            |3.7243097 |2.0      |\n",
      "|468   |Dirty Dancing (1987)            |2.946563  |2.0      |\n",
      "|597   |Local Hero (1983)               |4.6828218 |4.0      |\n",
      "|474   |Local Hero (1983)               |4.123955  |5.0      |\n",
      "|19    |Local Hero (1983)               |4.545307  |5.0      |\n",
      "|564   |Local Hero (1983)               |2.9178987 |3.0      |\n",
      "|537   |Local Hero (1983)               |5.5829473 |5.0      |\n",
      "|373   |Local Hero (1983)               |4.258436  |4.0      |\n",
      "|355   |Candyman (1992)                 |3.828262  |3.5      |\n",
      "|308   |Candyman (1992)                 |4.383003  |4.0      |\n",
      "|262   |Candyman (1992)                 |2.8924885 |2.5      |\n",
      "|518   |Candyman (1992)                 |3.2056513 |2.0      |\n",
      "|337   |Candyman (1992)                 |-0.519169 |2.0      |\n",
      "|148   |Men in Black (a.k.a. MIB) (1997)|4.0181403 |4.0      |\n",
      "|463   |Men in Black (a.k.a. MIB) (1997)|3.4435947 |4.0      |\n",
      "|623   |Men in Black (a.k.a. MIB) (1997)|3.8788433 |3.5      |\n",
      "|597   |Men in Black (a.k.a. MIB) (1997)|3.7767074 |5.0      |\n",
      "|530   |Men in Black (a.k.a. MIB) (1997)|4.04806   |5.0      |\n",
      "|596   |Men in Black (a.k.a. MIB) (1997)|3.8577075 |3.0      |\n",
      "|26    |Men in Black (a.k.a. MIB) (1997)|3.2787921 |3.5      |\n",
      "|501   |Men in Black (a.k.a. MIB) (1997)|3.9224849 |4.0      |\n",
      "|384   |Men in Black (a.k.a. MIB) (1997)|3.5017467 |4.0      |\n",
      "|103   |Men in Black (a.k.a. MIB) (1997)|3.4056318 |3.0      |\n",
      "|22    |Men in Black (a.k.a. MIB) (1997)|3.5704367 |4.0      |\n",
      "|330   |Men in Black (a.k.a. MIB) (1997)|3.196879  |4.0      |\n",
      "|93    |Men in Black (a.k.a. MIB) (1997)|3.733426  |3.5      |\n",
      "|111   |Men in Black (a.k.a. MIB) (1997)|3.223777  |4.0      |\n",
      "|654   |Men in Black (a.k.a. MIB) (1997)|4.4343247 |4.5      |\n",
      "|353   |Men in Black (a.k.a. MIB) (1997)|2.718499  |1.0      |\n",
      "|442   |Men in Black (a.k.a. MIB) (1997)|4.0947466 |4.5      |\n",
      "|20    |Men in Black (a.k.a. MIB) (1997)|2.3380399 |5.0      |\n",
      "|402   |Men in Black (a.k.a. MIB) (1997)|3.52917   |3.5      |\n",
      "|582   |Men in Black (a.k.a. MIB) (1997)|3.6546671 |4.0      |\n",
      "|120   |Men in Black (a.k.a. MIB) (1997)|3.3865082 |4.0      |\n",
      "|559   |Men in Black (a.k.a. MIB) (1997)|4.452602  |5.0      |\n",
      "|560   |Men in Black (a.k.a. MIB) (1997)|4.2023187 |3.0      |\n",
      "|607   |Men in Black (a.k.a. MIB) (1997)|3.9701786 |4.5      |\n",
      "|43    |Men in Black (a.k.a. MIB) (1997)|3.2758722 |4.0      |\n",
      "|262   |Men in Black (a.k.a. MIB) (1997)|2.6331556 |2.0      |\n",
      "|165   |Men in Black (a.k.a. MIB) (1997)|3.0157273 |2.5      |\n",
      "|263   |Men in Black (a.k.a. MIB) (1997)|3.6226919 |4.0      |\n",
      "|17    |Men in Black (a.k.a. MIB) (1997)|3.3588557 |2.5      |\n",
      "|505   |Men in Black (a.k.a. MIB) (1997)|3.1285615 |3.0      |\n",
      "|381   |Men in Black (a.k.a. MIB) (1997)|3.0358515 |4.0      |\n",
      "|4     |Men in Black (a.k.a. MIB) (1997)|4.1897526 |5.0      |\n",
      "|380   |Men in Black (a.k.a. MIB) (1997)|3.4968197 |3.0      |\n",
      "|439   |Men in Black (a.k.a. MIB) (1997)|3.4190254 |2.0      |\n",
      "|428   |Men in Black (a.k.a. MIB) (1997)|3.4162793 |4.0      |\n",
      "|533   |Men in Black (a.k.a. MIB) (1997)|3.6408548 |3.0      |\n",
      "|234   |Men in Black (a.k.a. MIB) (1997)|3.925325  |4.0      |\n",
      "|312   |Men in Black (a.k.a. MIB) (1997)|3.2948887 |2.0      |\n",
      "|518   |Men in Black (a.k.a. MIB) (1997)|3.889633  |5.0      |\n",
      "|480   |Men in Black (a.k.a. MIB) (1997)|4.221899  |5.0      |\n",
      "|477   |Men in Black (a.k.a. MIB) (1997)|5.8768806 |4.0      |\n",
      "|653   |Men in Black (a.k.a. MIB) (1997)|3.6828318 |5.0      |\n",
      "|287   |Men in Black (a.k.a. MIB) (1997)|4.499201  |5.0      |\n",
      "|345   |Men in Black (a.k.a. MIB) (1997)|3.3078964 |3.0      |\n",
      "|75    |Men in Black (a.k.a. MIB) (1997)|2.7615423 |2.5      |\n",
      "|382   |Men in Black (a.k.a. MIB) (1997)|2.5418046 |3.0      |\n",
      "|303   |Men in Black (a.k.a. MIB) (1997)|3.397188  |3.5      |\n",
      "|426   |Men in Black (a.k.a. MIB) (1997)|3.562264  |3.0      |\n",
      "|574   |Men in Black (a.k.a. MIB) (1997)|3.816249  |3.5      |\n",
      "|150   |Men in Black (a.k.a. MIB) (1997)|3.261077  |2.5      |\n",
      "|68    |Men in Black (a.k.a. MIB) (1997)|3.8185546 |4.0      |\n",
      "|248   |Men in Black (a.k.a. MIB) (1997)|4.472444  |3.0      |\n",
      "|79    |Men in Black (a.k.a. MIB) (1997)|2.5807147 |3.0      |\n",
      "|294   |Men in Black (a.k.a. MIB) (1997)|3.3051584 |4.5      |\n",
      "|99    |Men in Black (a.k.a. MIB) (1997)|3.487172  |3.0      |\n",
      "|311   |Men in Black (a.k.a. MIB) (1997)|3.4546742 |3.0      |\n",
      "+------+--------------------------------+----------+---------+\n",
      "only showing top 100 rows\n",
      "\n"
     ]
    }
   ],
   "source": [
    "prediction = model.transform(test)\n",
    "prediction.join(movies, \"movieId\").select(\"userId\", \"title\", \"prediction\", \"trueLabel\").show(100, truncate=False)"
   ]
  },
  {
   "cell_type": "markdown",
   "metadata": {},
   "source": [
    "The data used in this exercise describes 5-star rating activity from [MovieLens](http://movielens.org), a movie recommendation service. It was created by GroupLens, a research group in the Department of Computer Science and Engineering at the University of Minnesota, and is used here with permission.\n",
    "\n",
    "This dataset and other GroupLens data sets are publicly available for download at <http://grouplens.org/datasets/>.\n",
    "\n",
    "For more information, see F. Maxwell Harper and Joseph A. Konstan. 2015. [The MovieLens Datasets: History and Context. ACM Transactions on Interactive Intelligent Systems (TiiS) 5, 4, Article 19 (December 2015)](http://dx.doi.org/10.1145/2827872)"
   ]
  }
 ],
 "metadata": {
  "kernelspec": {
   "display_name": "Python 3",
   "language": "python",
   "name": "python3"
  },
  "language_info": {
   "codemirror_mode": {
    "name": "ipython",
    "version": 3
   },
   "file_extension": ".py",
   "mimetype": "text/x-python",
   "name": "python",
   "nbconvert_exporter": "python",
   "pygments_lexer": "ipython3",
   "version": "3.8.5"
  }
 },
 "nbformat": 4,
 "nbformat_minor": 1
}
