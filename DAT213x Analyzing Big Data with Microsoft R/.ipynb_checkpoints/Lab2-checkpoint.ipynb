{
 "cells": [
  {
   "cell_type": "markdown",
   "metadata": {},
   "source": [
    "# DAT213x Analyzing Big Data w Microsoft R\n",
    "# Lab 2\n",
    "See: https://github.com/danbeutler/r-server-introduction"
   ]
  },
  {
   "cell_type": "code",
   "execution_count": 1,
   "metadata": {},
   "outputs": [
    {
     "data": {
      "text/plain": [
       "File name: C:\\DAT213x\\mht_lab2.xdf \n",
       "Number of observations: 3324423 \n",
       "Number of variables: 26 \n",
       "Number of blocks: 1 \n",
       "Compression type: zlib \n",
       "Variable information: \n",
       "Var 1: VendorID\n",
       "       2 factor levels: 2 1\n",
       "Var 2: tpep_pickup_datetime, Type: character\n",
       "Var 3: tpep_dropoff_datetime, Type: character\n",
       "Var 4: passenger_count, Type: integer, Low/High: (1, 9)\n",
       "Var 5: trip_distance, Type: numeric, Low/High: (0.0000, 29.0600)\n",
       "Var 6: pickup_longitude, Type: numeric, Low/High: (-74.0188, -73.9077)\n",
       "Var 7: pickup_latitude, Type: numeric, Low/High: (40.7007, 40.8762)\n",
       "Var 8: RatecodeID, Type: integer, Low/High: (1, 99)\n",
       "Var 9: store_and_fwd_flag\n",
       "       2 factor levels: N Y\n",
       "Var 10: dropoff_longitude, Type: numeric, Low/High: (-74.0188, -73.9074)\n",
       "Var 11: dropoff_latitude, Type: numeric, Low/High: (40.7009, 40.8779)\n",
       "Var 12: payment_type\n",
       "       4 factor levels: 2 1 3 4\n",
       "Var 13: fare_amount, Type: numeric, Low/High: (0.0100, 2550.2000)\n",
       "Var 14: tip_amount, Type: numeric, Low/High: (0.0000, 998.1400)\n",
       "Var 15: tolls_amount, Type: numeric, Low/High: (-5.5400, 61.0800)\n",
       "Var 16: u, Type: numeric, Low/High: (0.0000, 0.0500)\n",
       "Var 17: tip_percent, Type: numeric, Low/High: (0.0000, 99.0000)\n",
       "Var 18: pickup_hour\n",
       "       7 factor levels: 1AM-5AM 5AM-9AM 9AM-12PM 12PM-4PM 4PM-6PM 6PM-10PM 10PM-1AM\n",
       "Var 19: pickup_dow\n",
       "       7 factor levels: Sun Mon Tue Wed Thu Fri Sat\n",
       "Var 20: dropoff_hour\n",
       "       7 factor levels: 1AM-5AM 5AM-9AM 9AM-12PM 12PM-4PM 4PM-6PM 6PM-10PM 10PM-1AM\n",
       "Var 21: dropoff_dow\n",
       "       7 factor levels: Sun Mon Tue Wed Thu Fri Sat\n",
       "Var 22: trip_duration, Type: integer, Low/High: (1, 86384)\n",
       "Var 23: Ratecode_type_desc\n",
       "       6 factor levels: Standard rate JFK Newark Nassau or Westchester Negotiated Fare Group ride\n",
       "Var 24: payment_type_desc\n",
       "       2 factor levels: card cash\n",
       "Var 25: pickup_nb\n",
       "       28 factor levels: Chinatown Tribeca Financial District Little Italy Soho ... Morningside Heights Inwood Harlem Hamilton Heights Washington Heights\n",
       "Var 26: dropoff_nb\n",
       "       28 factor levels: Chinatown Tribeca Financial District Little Italy Soho ... Morningside Heights Inwood Harlem Hamilton Heights Washington Heights\n",
       "Data (10 rows starting with row 1):\n",
       "   VendorID tpep_pickup_datetime tpep_dropoff_datetime passenger_count\n",
       "1         2  2016-01-01 00:00:00   2016-01-01 00:26:45               2\n",
       "2         2  2016-01-01 00:00:17   2016-01-01 00:42:23               1\n",
       "3         2  2016-01-01 00:00:36   2016-01-01 00:10:02               1\n",
       "4         1  2016-01-01 00:00:37   2016-01-01 00:06:01               1\n",
       "5         2  2016-01-01 00:01:29   2016-01-01 00:05:08               1\n",
       "6         2  2016-01-01 00:01:37   2016-01-01 00:26:40               2\n",
       "7         2  2016-01-01 00:01:41   2016-01-01 00:08:17               1\n",
       "8         1  2016-01-29 09:18:26   2016-01-29 09:31:53               1\n",
       "9         2  2016-01-29 09:18:26   2016-01-29 09:25:24               1\n",
       "10        1  2016-01-29 09:18:33   2016-01-29 09:37:02               2\n",
       "   trip_distance pickup_longitude pickup_latitude RatecodeID store_and_fwd_flag\n",
       "1           7.45        -73.99406        40.71999          1                  N\n",
       "2           2.32        -73.98166        40.77374          1                  N\n",
       "3           1.61        -73.96375        40.77116          1                  N\n",
       "4           1.20        -73.97602        40.74456          1                  N\n",
       "5           0.76        -73.94185        40.82948          1                  N\n",
       "6           4.59        -73.97367        40.78452          1                  N\n",
       "7           1.33        -73.97645        40.75838          1                  N\n",
       "8           1.50        -73.99271        40.75522          1                  N\n",
       "9           0.52        -73.96844        40.79945          1                  N\n",
       "10          1.50        -73.99022        40.75626          1                  N\n",
       "   dropoff_longitude dropoff_latitude payment_type fare_amount tip_amount\n",
       "1          -73.96636         40.78987            2        26.0        0.0\n",
       "2          -73.99596         40.75384            2        19.0        0.0\n",
       "3          -73.97560         40.75274            2         8.5        0.0\n",
       "4          -73.96649         40.75366            1         6.5        2.3\n",
       "5          -73.93864         40.83987            2         4.5        0.0\n",
       "6          -73.98819         40.73197            2        19.0        0.0\n",
       "7          -73.97643         40.74511            2         7.0        0.0\n",
       "8          -73.99133         40.73881            1        10.0        1.0\n",
       "9          -73.96644         40.79440            1         6.0        1.0\n",
       "10         -73.98146         40.74522            1        12.5        1.0\n",
       "   tolls_amount         u tip_percent pickup_hour pickup_dow dropoff_hour\n",
       "1             0 0.0067058           0    10PM-1AM        Fri     10PM-1AM\n",
       "2             0 0.0117652           0    10PM-1AM        Fri     10PM-1AM\n",
       "3             0 0.0458733           0    10PM-1AM        Fri     10PM-1AM\n",
       "4             0 0.0330025          35    10PM-1AM        Fri     10PM-1AM\n",
       "5             0 0.0398959           0    10PM-1AM        Fri     10PM-1AM\n",
       "6             0 0.0054758           0    10PM-1AM        Fri     10PM-1AM\n",
       "7             0 0.0229865           0    10PM-1AM        Fri     10PM-1AM\n",
       "8             0 0.0062850          10     5AM-9AM        Fri      5AM-9AM\n",
       "9             0 0.0019004          17     5AM-9AM        Fri      5AM-9AM\n",
       "10            0 0.0168434           8     5AM-9AM        Fri      5AM-9AM\n",
       "   dropoff_dow trip_duration Ratecode_type_desc payment_type_desc\n",
       "1          Fri          1605      Standard rate              cash\n",
       "2          Fri          2526      Standard rate              cash\n",
       "3          Fri           566      Standard rate              cash\n",
       "4          Fri           324      Standard rate              card\n",
       "5          Fri           219      Standard rate              cash\n",
       "6          Fri          1503      Standard rate              cash\n",
       "7          Fri           396      Standard rate              cash\n",
       "8          Fri           807      Standard rate              card\n",
       "9          Fri           418      Standard rate              card\n",
       "10         Fri          1109      Standard rate              card\n",
       "          pickup_nb         dropoff_nb\n",
       "1   Lower East Side    Upper West Side\n",
       "2   Upper West Side            Clinton\n",
       "3   Upper East Side            Midtown\n",
       "4          Gramercy            Midtown\n",
       "5            Harlem Washington Heights\n",
       "6   Upper West Side       East Village\n",
       "7           Midtown           Gramercy\n",
       "8           Clinton           Gramercy\n",
       "9   Upper West Side    Upper West Side\n",
       "10 Garment District           Gramercy"
      ]
     },
     "metadata": {},
     "output_type": "display_data"
    }
   ],
   "source": [
    "mht_xdf <- RxXdfData('C:/DAT213x/mht_lab2.xdf')\n",
    "rxGetInfo(mht_xdf, getVarInfo = TRUE, numRows = 10)"
   ]
  },
  {
   "cell_type": "code",
   "execution_count": 2,
   "metadata": {},
   "outputs": [
    {
     "name": "stdout",
     "output_type": "stream",
     "text": [
      "Rows Read: 3324423, Total Rows Processed: 3324423, Total Chunk Time: 0.260 seconds \n",
      "Computation time: 0.336 seconds.\n"
     ]
    },
    {
     "data": {
      "text/html": [
       "<dl>\n",
       "\t<dt>$Ratecode_type_desc</dt>\n",
       "\t\t<dd><ol class=list-inline>\n",
       "\t<li>Standard rate</li>\n",
       "\t<li>JFK</li>\n",
       "\t<li>Newark</li>\n",
       "\t<li>Nassau or Westchester</li>\n",
       "\t<li>Negotiated Fare</li>\n",
       "\t<li>Group ride</li>\n",
       "\t<li>Standard rate</li>\n",
       "\t<li>JFK</li>\n",
       "\t<li>Newark</li>\n",
       "\t<li>Nassau or Westchester</li>\n",
       "\t<li>Negotiated Fare</li>\n",
       "\t<li>Group ride</li>\n",
       "</ol>\n",
       "\n",
       "<details>\n",
       "\t<summary style=display:list-item;cursor:pointer>\n",
       "\t\t<strong>Levels</strong>:\n",
       "\t</summary>\n",
       "\t<ol class=list-inline>\n",
       "\t\t<li>'Standard rate'</li>\n",
       "\t\t<li>'JFK'</li>\n",
       "\t\t<li>'Newark'</li>\n",
       "\t\t<li>'Nassau or Westchester'</li>\n",
       "\t\t<li>'Negotiated Fare'</li>\n",
       "\t\t<li>'Group ride'</li>\n",
       "\t</ol>\n",
       "</details></dd>\n",
       "\t<dt>$payment_type_desc</dt>\n",
       "\t\t<dd><ol class=list-inline>\n",
       "\t<li>card</li>\n",
       "\t<li>card</li>\n",
       "\t<li>card</li>\n",
       "\t<li>card</li>\n",
       "\t<li>card</li>\n",
       "\t<li>card</li>\n",
       "\t<li>cash</li>\n",
       "\t<li>cash</li>\n",
       "\t<li>cash</li>\n",
       "\t<li>cash</li>\n",
       "\t<li>cash</li>\n",
       "\t<li>cash</li>\n",
       "</ol>\n",
       "\n",
       "<details>\n",
       "\t<summary style=display:list-item;cursor:pointer>\n",
       "\t\t<strong>Levels</strong>:\n",
       "\t</summary>\n",
       "\t<ol class=list-inline>\n",
       "\t\t<li>'card'</li>\n",
       "\t\t<li>'cash'</li>\n",
       "\t</ol>\n",
       "</details></dd>\n",
       "\t<dt>$Counts</dt>\n",
       "\t\t<dd><ol class=list-inline>\n",
       "\t<li>2193911</li>\n",
       "\t<li>1461</li>\n",
       "\t<li>52</li>\n",
       "\t<li>35</li>\n",
       "\t<li>1644</li>\n",
       "\t<li>3</li>\n",
       "\t<li>1112545</li>\n",
       "\t<li>800</li>\n",
       "\t<li>186</li>\n",
       "\t<li>38</li>\n",
       "\t<li>328</li>\n",
       "\t<li>7</li>\n",
       "</ol>\n",
       "</dd>\n",
       "</dl>\n"
      ],
      "text/latex": [
       "\\begin{description}\n",
       "\\item[\\$Ratecode\\_type\\_desc] \\begin{enumerate*}\n",
       "\\item Standard rate\n",
       "\\item JFK\n",
       "\\item Newark\n",
       "\\item Nassau or Westchester\n",
       "\\item Negotiated Fare\n",
       "\\item Group ride\n",
       "\\item Standard rate\n",
       "\\item JFK\n",
       "\\item Newark\n",
       "\\item Nassau or Westchester\n",
       "\\item Negotiated Fare\n",
       "\\item Group ride\n",
       "\\end{enumerate*}\n",
       "\n",
       "\\emph{Levels}: \\begin{enumerate*}\n",
       "\\item 'Standard rate'\n",
       "\\item 'JFK'\n",
       "\\item 'Newark'\n",
       "\\item 'Nassau or Westchester'\n",
       "\\item 'Negotiated Fare'\n",
       "\\item 'Group ride'\n",
       "\\end{enumerate*}\n",
       "\n",
       "\\item[\\$payment\\_type\\_desc] \\begin{enumerate*}\n",
       "\\item card\n",
       "\\item card\n",
       "\\item card\n",
       "\\item card\n",
       "\\item card\n",
       "\\item card\n",
       "\\item cash\n",
       "\\item cash\n",
       "\\item cash\n",
       "\\item cash\n",
       "\\item cash\n",
       "\\item cash\n",
       "\\end{enumerate*}\n",
       "\n",
       "\\emph{Levels}: \\begin{enumerate*}\n",
       "\\item 'card'\n",
       "\\item 'cash'\n",
       "\\end{enumerate*}\n",
       "\n",
       "\\item[\\$Counts] \\begin{enumerate*}\n",
       "\\item 2193911\n",
       "\\item 1461\n",
       "\\item 52\n",
       "\\item 35\n",
       "\\item 1644\n",
       "\\item 3\n",
       "\\item 1112545\n",
       "\\item 800\n",
       "\\item 186\n",
       "\\item 38\n",
       "\\item 328\n",
       "\\item 7\n",
       "\\end{enumerate*}\n",
       "\n",
       "\\end{description}\n"
      ],
      "text/markdown": [
       "$Ratecode_type_desc\n",
       ":   1. Standard rate\n",
       "2. JFK\n",
       "3. Newark\n",
       "4. Nassau or Westchester\n",
       "5. Negotiated Fare\n",
       "6. Group ride\n",
       "7. Standard rate\n",
       "8. JFK\n",
       "9. Newark\n",
       "10. Nassau or Westchester\n",
       "11. Negotiated Fare\n",
       "12. Group ride\n",
       "\n",
       "\n",
       "\n",
       "**Levels**: 1. 'Standard rate'\n",
       "2. 'JFK'\n",
       "3. 'Newark'\n",
       "4. 'Nassau or Westchester'\n",
       "5. 'Negotiated Fare'\n",
       "6. 'Group ride'\n",
       "\n",
       "\n",
       "\n",
       "$payment_type_desc\n",
       ":   1. card\n",
       "2. card\n",
       "3. card\n",
       "4. card\n",
       "5. card\n",
       "6. card\n",
       "7. cash\n",
       "8. cash\n",
       "9. cash\n",
       "10. cash\n",
       "11. cash\n",
       "12. cash\n",
       "\n",
       "\n",
       "\n",
       "**Levels**: 1. 'card'\n",
       "2. 'cash'\n",
       "\n",
       "\n",
       "\n",
       "$Counts\n",
       ":   1. 2193911\n",
       "2. 1461\n",
       "3. 52\n",
       "4. 35\n",
       "5. 1644\n",
       "6. 3\n",
       "7. 1112545\n",
       "8. 800\n",
       "9. 186\n",
       "10. 38\n",
       "11. 328\n",
       "12. 7\n",
       "\n",
       "\n",
       "\n",
       "\n",
       "\n"
      ],
      "text/plain": [
       "Call:\n",
       "rxCube(formula = ~Ratecode_type_desc:payment_type_desc, data = mht_xdf)\n",
       "\n",
       "Cube Results for: ~Ratecode_type_desc:payment_type_desc\n",
       "File name: C:/DAT213x/mht_lab2.xdf\n",
       "Number of valid observations: 3311010\n",
       "Number of missing observations: 13413 \n",
       " \n",
       "   Ratecode_type_desc    payment_type_desc Counts \n",
       "1  Standard rate         card              2193911\n",
       "2  JFK                   card                 1461\n",
       "3  Newark                card                   52\n",
       "4  Nassau or Westchester card                   35\n",
       "5  Negotiated Fare       card                 1644\n",
       "6  Group ride            card                    3\n",
       "7  Standard rate         cash              1112545\n",
       "8  JFK                   cash                  800\n",
       "9  Newark                cash                  186\n",
       "10 Nassau or Westchester cash                   38\n",
       "11 Negotiated Fare       cash                  328\n",
       "12 Group ride            cash                    7"
      ]
     },
     "metadata": {},
     "output_type": "display_data"
    }
   ],
   "source": [
    "# Q1\n",
    "rxCube( ~ Ratecode_type_desc:payment_type_desc, mht_xdf)"
   ]
  },
  {
   "cell_type": "code",
   "execution_count": 3,
   "metadata": {},
   "outputs": [
    {
     "name": "stdout",
     "output_type": "stream",
     "text": [
      "Rows Read: 3324423, Total Rows Processed: 3324423, Total Chunk Time: 8.051 seconds \n",
      "Computation time: 8.242 seconds.\n"
     ]
    },
    {
     "data": {
      "text/plain": [
       "Call:\n",
       "rxCrossTabs(formula = ~distance:duration:payment_type_desc, data = mht_xdf, \n",
       "    transforms = list(distance = ifelse(trip_distance <= 5, 0, \n",
       "        1), duration = ifelse(trip_duration/60 <= 10, 0, 1), \n",
       "        distance = factor(distance, labels = c(\"short\", \"long\")), \n",
       "        duration = factor(duration, labels = c(\"short\", \"long\"))))\n",
       "\n",
       "Cross Tabulation Results for: ~distance:duration:payment_type_desc\n",
       "Data: mht_xdf (RxXdfData Data Source)\n",
       "File name: C:/DAT213x/mht_lab2.xdf\n",
       "Number of valid observations: 3311027\n",
       "Number of missing observations: 13396 \n",
       "Statistic: counts \n",
       " \n",
       "distance:duration:payment_type_desc, payment_type_desc = card (counts):\n",
       "        duration\n",
       "distance   short    long\n",
       "   short 1074960 1012472\n",
       "   long      635  109051\n",
       "\n",
       "::::::::::::::::::::::::::::::::::::::::::::::::::::::::::::::::::::::::::::::::\n",
       "\n",
       "distance:duration:payment_type_desc, payment_type_desc = cash (counts):\n",
       "        duration\n",
       "distance  short   long\n",
       "   short 619043 456383\n",
       "   long     322  38161"
      ]
     },
     "metadata": {},
     "output_type": "display_data"
    }
   ],
   "source": [
    "# Q2\n",
    "rxCrossTabs( ~ distance:duration:payment_type_desc, mht_xdf,\n",
    "             transforms = list(\n",
    "               distance = ifelse(trip_distance <= 5, 0, 1),\n",
    "               duration = ifelse(trip_duration / 60 <= 10, 0, 1),\n",
    "               distance = factor(distance, labels = c('short', 'long')),\n",
    "               duration = factor(duration, labels = c('short', 'long'))\n",
    "           )\n",
    ")"
   ]
  },
  {
   "cell_type": "code",
   "execution_count": 4,
   "metadata": {},
   "outputs": [
    {
     "name": "stdout",
     "output_type": "stream",
     "text": [
      "Rows Read: 3324423, Total Rows Processed: 3324423, Total Chunk Time: 0.487 seconds \n",
      "Computation time: 0.563 seconds.\n"
     ]
    },
    {
     "data": {
      "image/png": "[encoded data removed]",
      "text/plain": [
       "plot without title"
      ]
     },
     "metadata": {},
     "output_type": "display_data"
    }
   ],
   "source": [
    "# Q3\n",
    "rxHistogram( ~ tip_percent, mht_xdf, histType = \"Counts\", numBreaks = 20)"
   ]
  },
  {
   "cell_type": "code",
   "execution_count": 5,
   "metadata": {},
   "outputs": [
    {
     "name": "stdout",
     "output_type": "stream",
     "text": [
      "Rows Read: 3324423, Total Rows Processed: 3324423, Total Chunk Time: 0.806 seconds \n",
      "Computation time: 0.946 seconds.\n"
     ]
    },
    {
     "data": {
      "image/png": "[encoded data removed]",
      "text/plain": [
       "plot without title"
      ]
     },
     "metadata": {},
     "output_type": "display_data"
    }
   ],
   "source": [
    "# Q4\n",
    "rxHistogram( ~ tip_percent, mht_xdf, histType = \"Counts\", numBreaks = 20, rowSelection = (payment_type_desc == 'card'))"
   ]
  },
  {
   "cell_type": "code",
   "execution_count": 6,
   "metadata": {},
   "outputs": [
    {
     "name": "stdout",
     "output_type": "stream",
     "text": [
      "Rows Read: 3324423, Total Rows Processed: 3324423, Total Chunk Time: 0.802 seconds \n",
      "Computation time: 0.909 seconds.\n"
     ]
    },
    {
     "data": {
      "image/png": "[encoded data removed]",
      "text/plain": [
       "plot without title"
      ]
     },
     "metadata": {},
     "output_type": "display_data"
    }
   ],
   "source": [
    "# Q5\n",
    "rxHistogram( ~ tip_percent, mht_xdf, histType = \"Counts\", numBreaks = 20, rowSelection = (payment_type_desc == 'cash'))"
   ]
  },
  {
   "cell_type": "code",
   "execution_count": 7,
   "metadata": {},
   "outputs": [
    {
     "name": "stdout",
     "output_type": "stream",
     "text": [
      "Rows Read: 2197118, Total Rows Processed: 2197118, Total Chunk Time: 0.036 seconds \n",
      "Computation time: 0.039 seconds.\n"
     ]
    },
    {
     "data": {
      "image/png": "[encoded data removed]",
      "text/plain": [
       "plot without title"
      ]
     },
     "metadata": {},
     "output_type": "display_data"
    }
   ],
   "source": [
    "# Q6\n",
    "rxHistogram( ~ group_percent, mht_xdf, histType = \"Counts\",\n",
    "             rowSelection = (payment_type_desc == 'card'),\n",
    "             transforms = list(\n",
    "               group_percent = cut(tip_percent,\n",
    "                                   breaks = c(-10, 5, 10, 15, 20, 25, 100))\n",
    "             )\n",
    ")"
   ]
  },
  {
   "cell_type": "code",
   "execution_count": 8,
   "metadata": {},
   "outputs": [
    {
     "name": "stdout",
     "output_type": "stream",
     "text": [
      "Rows Read: 2197118, Total Rows Processed: 2197118, Total Chunk Time: 0.061 seconds \n",
      "Computation time: 0.065 seconds.\n"
     ]
    },
    {
     "data": {
      "image/png": "[encoded data removed]",
      "text/plain": [
       "plot without title"
      ]
     },
     "metadata": {},
     "output_type": "display_data"
    }
   ],
   "source": [
    "# Q7\n",
    "rxHistogram( ~ group_percent | Ratecode_type_desc, mht_xdf, histType = \"Percent\",\n",
    "             rowSelection = (payment_type_desc == 'card'),\n",
    "             transforms = list(\n",
    "               group_percent = cut(tip_percent,\n",
    "                                   breaks = c(-10, 5, 10, 15, 20, 25, 100))\n",
    "             )\n",
    ")"
   ]
  },
  {
   "cell_type": "code",
   "execution_count": null,
   "metadata": {},
   "outputs": [],
   "source": []
  }
 ],
 "metadata": {
  "kernelspec": {
   "display_name": "R",
   "language": "R",
   "name": "ir"
  },
  "language_info": {
   "codemirror_mode": "r",
   "file_extension": ".r",
   "mimetype": "text/x-r-source",
   "name": "R",
   "pygments_lexer": "r",
   "version": "3.5.2"
  }
 },
 "nbformat": 4,
 "nbformat_minor": 4
}
